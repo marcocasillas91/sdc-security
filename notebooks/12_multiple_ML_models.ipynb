{
 "cells": [
  {
   "cell_type": "markdown",
   "id": "1e3c655a-91f0-49fc-be4e-8fc877766d71",
   "metadata": {},
   "source": [
    "## Multi model graphs"
   ]
  },
  {
   "cell_type": "markdown",
   "id": "94745129-d4aa-4153-b374-bf088e98522e",
   "metadata": {},
   "source": [
    "# Crimes and Samples graph\n",
    "\n",
    "#### This code reads a csv file, defines independent and dependent variables, runs 300 iterations of Machine Learning models with different train-test splits and displays a histogram and mean of the Mean Squared Error results  "
   ]
  },
  {
   "cell_type": "code",
   "execution_count": 91,
   "id": "bbc63368-aa4a-4f18-a432-3dab1753a499",
   "metadata": {
    "tags": []
   },
   "outputs": [],
   "source": [
    "import pandas as pd\n",
    "import zipfile\n",
    "import numpy as np\n",
    "import matplotlib.pyplot as plt\n",
    "import json\n",
    "import os\n",
    "\n",
    "\n",
    "from sklearn.preprocessing import MinMaxScaler\n",
    "from sklearn.preprocessing import StandardScaler\n",
    "from sklearn.feature_selection import mutual_info_classif\n",
    "from sklearn import tree\n",
    "from sklearn.model_selection import train_test_split\n",
    "from sklearn.metrics import (\n",
    "\t\taccuracy_score as acc_score,\n",
    "\t\trecall_score   as recall,\n",
    "\t\tconfusion_matrix,\n",
    "        mean_squared_error, \n",
    "        r2_score\n",
    "\t\t)\n",
    "from sklearn.decomposition import PCA\n",
    "\n",
    "\n",
    "#MODELS\n",
    "from sklearn.linear_model import LinearRegression\n",
    "from sklearn.model_selection import GridSearchCV\n",
    "from sklearn import tree\n",
    "from sklearn.linear_model import Perceptron\n",
    "from sklearn.tree import DecisionTreeRegressor\n",
    "from sklearn.linear_model import LinearRegression\n",
    "from sklearn.neighbors import KNeighborsRegressor\n",
    "from sklearn.ensemble import RandomForestRegressor\n",
    "from sklearn.svm import SVR\n",
    "#import xgboost as xgb\n",
    "#xgb_regressor = xgb.XGBRegressor()\n",
    "from sklearn.neural_network import MLPRegressor  # Use MLPRegressor for regression\n",
    "#from minepy import MINE"
   ]
  },
  {
   "cell_type": "code",
   "execution_count": 92,
   "id": "90be4e73-8513-49ef-a425-bd5096d903f5",
   "metadata": {
    "tags": []
   },
   "outputs": [],
   "source": [
    "#Path\n",
    "#Insert your local repo path to file\n",
    "path_home = \"D:\\Archivos\\Social Data Challenge\\data\\grids\\quarter_samples\"\n",
    "\n",
    "csv_100 = pd.read_csv(path_home + '\\grid_100_htmp.csv')\n",
    "csv_500 = pd.read_csv(path_home + '\\grid_500_htmp.csv')"
   ]
  },
  {
   "cell_type": "code",
   "execution_count": 93,
   "id": "3f9ca965-0990-4b58-9b8f-85ab5bb3a424",
   "metadata": {
    "tags": []
   },
   "outputs": [
    {
     "data": {
      "text/html": [
       "<div>\n",
       "<style scoped>\n",
       "    .dataframe tbody tr th:only-of-type {\n",
       "        vertical-align: middle;\n",
       "    }\n",
       "\n",
       "    .dataframe tbody tr th {\n",
       "        vertical-align: top;\n",
       "    }\n",
       "\n",
       "    .dataframe thead th {\n",
       "        text-align: right;\n",
       "    }\n",
       "</style>\n",
       "<table border=\"1\" class=\"dataframe\">\n",
       "  <thead>\n",
       "    <tr style=\"text-align: right;\">\n",
       "      <th></th>\n",
       "      <th>id</th>\n",
       "      <th>lat</th>\n",
       "      <th>lon</th>\n",
       "      <th>metro_100</th>\n",
       "      <th>cams_100</th>\n",
       "      <th>zonas_pat</th>\n",
       "      <th>antro_100</th>\n",
       "      <th>salud_100</th>\n",
       "      <th>museo_100</th>\n",
       "      <th>esc_100</th>\n",
       "      <th>...</th>\n",
       "      <th>crime22q1</th>\n",
       "      <th>sample22q1</th>\n",
       "      <th>crime22q2</th>\n",
       "      <th>sample22q2</th>\n",
       "      <th>crime22q3</th>\n",
       "      <th>sample22q3</th>\n",
       "      <th>crime22q4</th>\n",
       "      <th>sample22q4</th>\n",
       "      <th>crime23q1</th>\n",
       "      <th>sample23q1</th>\n",
       "    </tr>\n",
       "  </thead>\n",
       "  <tbody>\n",
       "    <tr>\n",
       "      <th>0</th>\n",
       "      <td>1</td>\n",
       "      <td>19.465514</td>\n",
       "      <td>-99.184187</td>\n",
       "      <td>0</td>\n",
       "      <td>0</td>\n",
       "      <td>1</td>\n",
       "      <td>0</td>\n",
       "      <td>0</td>\n",
       "      <td>0</td>\n",
       "      <td>0</td>\n",
       "      <td>...</td>\n",
       "      <td>0</td>\n",
       "      <td>0.0</td>\n",
       "      <td>0</td>\n",
       "      <td>0.0</td>\n",
       "      <td>0</td>\n",
       "      <td>0.0</td>\n",
       "      <td>0</td>\n",
       "      <td>0.0</td>\n",
       "      <td>0</td>\n",
       "      <td>0.0</td>\n",
       "    </tr>\n",
       "    <tr>\n",
       "      <th>1</th>\n",
       "      <td>2</td>\n",
       "      <td>19.464666</td>\n",
       "      <td>-99.184187</td>\n",
       "      <td>0</td>\n",
       "      <td>0</td>\n",
       "      <td>1</td>\n",
       "      <td>0</td>\n",
       "      <td>0</td>\n",
       "      <td>0</td>\n",
       "      <td>0</td>\n",
       "      <td>...</td>\n",
       "      <td>0</td>\n",
       "      <td>0.0</td>\n",
       "      <td>0</td>\n",
       "      <td>0.0</td>\n",
       "      <td>0</td>\n",
       "      <td>0.0</td>\n",
       "      <td>0</td>\n",
       "      <td>0.0</td>\n",
       "      <td>0</td>\n",
       "      <td>0.0</td>\n",
       "    </tr>\n",
       "    <tr>\n",
       "      <th>2</th>\n",
       "      <td>3</td>\n",
       "      <td>19.463818</td>\n",
       "      <td>-99.184187</td>\n",
       "      <td>0</td>\n",
       "      <td>0</td>\n",
       "      <td>1</td>\n",
       "      <td>0</td>\n",
       "      <td>0</td>\n",
       "      <td>0</td>\n",
       "      <td>0</td>\n",
       "      <td>...</td>\n",
       "      <td>0</td>\n",
       "      <td>0.0</td>\n",
       "      <td>0</td>\n",
       "      <td>0.0</td>\n",
       "      <td>0</td>\n",
       "      <td>0.0</td>\n",
       "      <td>0</td>\n",
       "      <td>0.0</td>\n",
       "      <td>0</td>\n",
       "      <td>0.0</td>\n",
       "    </tr>\n",
       "    <tr>\n",
       "      <th>3</th>\n",
       "      <td>4</td>\n",
       "      <td>19.462970</td>\n",
       "      <td>-99.184187</td>\n",
       "      <td>0</td>\n",
       "      <td>0</td>\n",
       "      <td>1</td>\n",
       "      <td>0</td>\n",
       "      <td>0</td>\n",
       "      <td>0</td>\n",
       "      <td>0</td>\n",
       "      <td>...</td>\n",
       "      <td>0</td>\n",
       "      <td>0.0</td>\n",
       "      <td>0</td>\n",
       "      <td>0.0</td>\n",
       "      <td>0</td>\n",
       "      <td>0.0</td>\n",
       "      <td>0</td>\n",
       "      <td>0.0</td>\n",
       "      <td>0</td>\n",
       "      <td>0.0</td>\n",
       "    </tr>\n",
       "    <tr>\n",
       "      <th>4</th>\n",
       "      <td>5</td>\n",
       "      <td>19.462123</td>\n",
       "      <td>-99.184187</td>\n",
       "      <td>0</td>\n",
       "      <td>0</td>\n",
       "      <td>1</td>\n",
       "      <td>0</td>\n",
       "      <td>0</td>\n",
       "      <td>0</td>\n",
       "      <td>0</td>\n",
       "      <td>...</td>\n",
       "      <td>0</td>\n",
       "      <td>0.0</td>\n",
       "      <td>0</td>\n",
       "      <td>0.0</td>\n",
       "      <td>0</td>\n",
       "      <td>0.0</td>\n",
       "      <td>0</td>\n",
       "      <td>0.0</td>\n",
       "      <td>0</td>\n",
       "      <td>0.0</td>\n",
       "    </tr>\n",
       "  </tbody>\n",
       "</table>\n",
       "<p>5 rows × 45 columns</p>\n",
       "</div>"
      ],
      "text/plain": [
       "   id        lat        lon  metro_100  cams_100  zonas_pat  antro_100  \\\n",
       "0   1  19.465514 -99.184187          0         0          1          0   \n",
       "1   2  19.464666 -99.184187          0         0          1          0   \n",
       "2   3  19.463818 -99.184187          0         0          1          0   \n",
       "3   4  19.462970 -99.184187          0         0          1          0   \n",
       "4   5  19.462123 -99.184187          0         0          1          0   \n",
       "\n",
       "   salud_100  museo_100  esc_100  ...  crime22q1  sample22q1  crime22q2  \\\n",
       "0          0          0        0  ...          0         0.0          0   \n",
       "1          0          0        0  ...          0         0.0          0   \n",
       "2          0          0        0  ...          0         0.0          0   \n",
       "3          0          0        0  ...          0         0.0          0   \n",
       "4          0          0        0  ...          0         0.0          0   \n",
       "\n",
       "   sample22q2  crime22q3  sample22q3  crime22q4  sample22q4  crime23q1  \\\n",
       "0         0.0          0         0.0          0         0.0          0   \n",
       "1         0.0          0         0.0          0         0.0          0   \n",
       "2         0.0          0         0.0          0         0.0          0   \n",
       "3         0.0          0         0.0          0         0.0          0   \n",
       "4         0.0          0         0.0          0         0.0          0   \n",
       "\n",
       "   sample23q1  \n",
       "0         0.0  \n",
       "1         0.0  \n",
       "2         0.0  \n",
       "3         0.0  \n",
       "4         0.0  \n",
       "\n",
       "[5 rows x 45 columns]"
      ]
     },
     "execution_count": 93,
     "metadata": {},
     "output_type": "execute_result"
    }
   ],
   "source": [
    "csv_100.head()"
   ]
  },
  {
   "cell_type": "code",
   "execution_count": 94,
   "id": "2b68395a-87f4-406c-863a-5194510f4f6c",
   "metadata": {
    "tags": []
   },
   "outputs": [],
   "source": [
    "\n",
    "#scaler = StandardScaler()\n",
    "#X_scaled = scaler.fit_transform(X)\n",
    "#x_1=pd.DataFrame(X_scaled, columns = X.columns)\n",
    "\n",
    "#X_scaled[X_scaled.sample22q2 != 0]\n",
    "#x[x.crime22q4 >0]"
   ]
  },
  {
   "cell_type": "code",
   "execution_count": null,
   "id": "c535c10f-b7e2-4529-a1dd-427162968c14",
   "metadata": {},
   "outputs": [],
   "source": []
  },
  {
   "cell_type": "code",
   "execution_count": 98,
   "id": "2d1076fe-1c08-4e95-bad9-46bd1ae02a7a",
   "metadata": {
    "tags": []
   },
   "outputs": [],
   "source": [
    "df = csv_100.copy()\n",
    "\n",
    "scaled= False\n",
    "mic = False\n",
    "pca_flag = False\n",
    "pca_components = 1\n",
    "\n",
    "X =  df.iloc[:, 3:-2]"
   ]
  },
  {
   "cell_type": "code",
   "execution_count": 99,
   "id": "9dcb1ae8-bc90-44a7-a9a6-ef1d55aa9c7a",
   "metadata": {
    "tags": []
   },
   "outputs": [],
   "source": [
    "if scaled :\n",
    "    scaler = StandardScaler()\n",
    "    X =  pd.DataFrame(scaler.fit_transform(X), columns = X.columns)\n",
    "\n",
    "if mic:\n",
    "    mic_cols= [col for col in X.columns if col.startswith('sample')]\n",
    "    X= X[mic_cols]\n",
    "\n",
    "if pca_flag:\n",
    "    pca = PCA(n_components=pca_components)\n",
    "    pca.fit(X)\n",
    "    X=pd.DataFrame(pca.transform(X))"
   ]
  },
  {
   "cell_type": "code",
   "execution_count": 100,
   "id": "52f47091-5a92-4fd4-900c-c6ebd97b8cbc",
   "metadata": {
    "tags": []
   },
   "outputs": [],
   "source": [
    "x_scaled =  pd.DataFrame(scaler.fit_transform(X), columns = x.columns)\n",
    "\n",
    "y_crimes = df['crime23q1']\n",
    "y_samples = df['sample23q1']\n",
    "\n"
   ]
  },
  {
   "cell_type": "code",
   "execution_count": 101,
   "id": "1ae5c925-6b75-4469-88b7-905adc4d943f",
   "metadata": {
    "tags": []
   },
   "outputs": [],
   "source": [
    "models = {\n",
    "    #'Linear Regression': LinearRegression(),\n",
    "    'Random Forest Scaled Crimes': RandomForestRegressor(n_estimators =200,max_depth= 20),\n",
    "    'Random Forest Scaled Samples': RandomForestRegressor(n_estimators =200,max_depth= 20)#,\n",
    "\n",
    "    #'SVR': SVR(C=10, kernel='rbf'),#,\n",
    "    #'SVR (Standard Scaler)': SVR(C=10, kernel='rbf')#,\n",
    "\n",
    "}\n",
    "\n",
    "# Create a DataFrame to store the results\n",
    "results = {'Model': [], 'Average MSE': []}\n",
    "# Create a dictionary to store MSE values for each model\n",
    "mse_values_dict = {model_name: [] for model_name in models.keys()}\n",
    "\n",
    "\n",
    "# Perform iterations for each model\n",
    "num_iterations = 300\n",
    "\n"
   ]
  },
  {
   "cell_type": "code",
   "execution_count": 102,
   "id": "89935f40-0017-4ac9-b5da-149a56b02401",
   "metadata": {
    "tags": []
   },
   "outputs": [],
   "source": [
    "for model_name, model in models.items():\n",
    "    \n",
    "    mse_values = []\n",
    "           \n",
    "    x = x_scaled  if 'Scaled'  in model_name else X\n",
    "    y = y_samples if 'Samples' in model_name else y_crimes\n",
    "\n",
    "    for _ in range(num_iterations):    \n",
    "         \n",
    "        # Split data into train and test sets\n",
    "        X_train, X_test, y_train, y_test = train_test_split(x, y, test_size=0.2, random_state=None)\n",
    "        \n",
    "        # Fit the model\n",
    "        model.fit(X_train, y_train)\n",
    "        \n",
    "        # Make predictions on the test set\n",
    "        y_pred = model.predict(X_test)\n",
    "        \n",
    "        # Calculate MSE for this iteration\n",
    "        mse = mean_squared_error(y_test, y_pred)\n",
    "        mse_values.append(mse)\n",
    "        \n",
    "        # Store the MSE values for this model in the dictionary\n",
    "        mse_values_dict[model_name] = mse_values\n",
    "\n",
    "    # Calculate the average MSE\n",
    "    average_mse = np.mean(mse_values)\n",
    "    \n",
    "    # Append results to the DataFrame\n",
    "    results['Model'].append(model_name)\n",
    "    results['Average MSE'].append(average_mse)\n",
    "    \n",
    "# Create a DataFrame from the results\n",
    "results_df = pd.DataFrame(results)\n"
   ]
  },
  {
   "cell_type": "code",
   "execution_count": null,
   "id": "ff436a62-40e7-4cd9-a22a-f644fd9b4e1f",
   "metadata": {
    "tags": []
   },
   "outputs": [
    {
     "data": {
      "text/html": [
       "<div>\n",
       "<style scoped>\n",
       "    .dataframe tbody tr th:only-of-type {\n",
       "        vertical-align: middle;\n",
       "    }\n",
       "\n",
       "    .dataframe tbody tr th {\n",
       "        vertical-align: top;\n",
       "    }\n",
       "\n",
       "    .dataframe thead th {\n",
       "        text-align: right;\n",
       "    }\n",
       "</style>\n",
       "<table border=\"1\" class=\"dataframe\">\n",
       "  <thead>\n",
       "    <tr style=\"text-align: right;\">\n",
       "      <th></th>\n",
       "      <th>Model</th>\n",
       "      <th>Average MSE</th>\n",
       "    </tr>\n",
       "  </thead>\n",
       "  <tbody>\n",
       "    <tr>\n",
       "      <th>0</th>\n",
       "      <td>Random Forest Scaled Crimes</td>\n",
       "      <td>0.249818</td>\n",
       "    </tr>\n",
       "    <tr>\n",
       "      <th>1</th>\n",
       "      <td>Random Forest Scaled Samples</td>\n",
       "      <td>0.307547</td>\n",
       "    </tr>\n",
       "  </tbody>\n",
       "</table>\n",
       "</div>"
      ],
      "text/plain": [
       "                          Model  Average MSE\n",
       "0   Random Forest Scaled Crimes     0.249818\n",
       "1  Random Forest Scaled Samples     0.307547"
      ]
     },
     "execution_count": 103,
     "metadata": {},
     "output_type": "execute_result"
    }
   ],
   "source": [
    "results_df"
   ]
  },
  {
   "cell_type": "code",
   "execution_count": null,
   "id": "8f6a933c-7a74-4128-8518-9f0a6c880142",
   "metadata": {
    "tags": []
   },
   "outputs": [
    {
     "data": {
      "image/png": "[encoded data removed]",
      "text/plain": [
       "<Figure size 1200x600 with 1 Axes>"
      ]
     },
     "metadata": {},
     "output_type": "display_data"
    },
    {
     "name": "stdout",
     "output_type": "stream",
     "text": [
      "                          Model  Average MSE\n",
      "0   Random Forest Scaled Crimes     0.249818\n",
      "1  Random Forest Scaled Samples     0.307547\n"
     ]
    }
   ],
   "source": [
    "# Plot histograms for each model's MSE\n",
    "plt.figure(figsize=(12, 6))\n",
    "for model_name in models.keys():\n",
    "    plt.hist(mse_values_dict[model_name], bins=20, alpha=0.6, label=model_name)\n",
    "\n",
    "plt.xlabel('Mean Squared Error (MSE)')\n",
    "plt.ylabel('Frequency')\n",
    "plt.title('Distribution of MSE for SVM Regressor')\n",
    "plt.legend()\n",
    "plt.grid(True)\n",
    "\n",
    "# Show the histogram plot\n",
    "plt.show()\n",
    "\n",
    "# Display the results DataFrame\n",
    "print(results_df)"
   ]
  },
  {
   "cell_type": "code",
   "execution_count": null,
   "id": "7b3ada78-0593-442a-8415-a815bd59fd18",
   "metadata": {},
   "outputs": [],
   "source": []
  },
  {
   "cell_type": "code",
   "execution_count": null,
   "id": "223f9e40-8661-42fc-b99e-3959ada420d0",
   "metadata": {},
   "outputs": [],
   "source": []
  },
  {
   "cell_type": "code",
   "execution_count": 116,
   "id": "b5c4d776-6146-48c3-9dee-50b0ed60cb72",
   "metadata": {
    "tags": []
   },
   "outputs": [],
   "source": [
    "models = {\n",
    "    #'Linear Regression': LinearRegression(),\n",
    "    'Random Forest Crimes': RandomForestRegressor(n_estimators =200,max_depth= 20),\n",
    "    'Random Forest Scaled Crimes': RandomForestRegressor(n_estimators =200,max_depth= 20)#,\n",
    "\n",
    "    #'SVR': SVR(C=10, kernel='rbf'),#,\n",
    "    #'SVR (Standard Scaler)': SVR(C=10, kernel='rbf')#,\n",
    "\n",
    "}\n",
    "\n",
    "# Create a DataFrame to store the results\n",
    "results = {'Model': [], 'Average MSE': []}\n",
    "# Create a dictionary to store MSE values for each model\n",
    "mse_values_dict = {model_name: [] for model_name in models.keys()}\n",
    "\n",
    "\n",
    "# Perform iterations for each model\n",
    "num_iterations = 300\n",
    "\n"
   ]
  },
  {
   "cell_type": "code",
   "execution_count": 117,
   "id": "ac5869ee-f506-4e18-adf5-0e3033fe749f",
   "metadata": {
    "tags": []
   },
   "outputs": [],
   "source": [
    "for model_name, model in models.items():\n",
    "    \n",
    "    mse_values = []\n",
    "           \n",
    "    x = x_scaled  if 'Scaled'  in model_name else X\n",
    "    y = y_samples if 'Samples' in model_name else y_crimes\n",
    "\n",
    "    for _ in range(num_iterations):    \n",
    "         \n",
    "        # Split data into train and test sets\n",
    "        X_train, X_test, y_train, y_test = train_test_split(x, y, test_size=0.2, random_state=None)\n",
    "        \n",
    "        # Fit the model\n",
    "        model.fit(X_train, y_train)\n",
    "        \n",
    "        # Make predictions on the test set\n",
    "        y_pred = model.predict(X_test)\n",
    "        \n",
    "        # Calculate MSE for this iteration\n",
    "        mse = mean_squared_error(y_test, y_pred)\n",
    "        mse_values.append(mse)\n",
    "        \n",
    "        # Store the MSE values for this model in the dictionary\n",
    "        mse_values_dict[model_name] = mse_values\n",
    "\n",
    "    # Calculate the average MSE\n",
    "    average_mse = np.mean(mse_values)\n",
    "    \n",
    "    # Append results to the DataFrame\n",
    "    results['Model'].append(model_name)\n",
    "    results['Average MSE'].append(average_mse)\n",
    "    \n",
    "# Create a DataFrame from the results\n",
    "results_df = pd.DataFrame(results)\n"
   ]
  },
  {
   "cell_type": "code",
   "execution_count": null,
   "id": "581ee534-d838-4c95-8139-7a54643053f3",
   "metadata": {
    "tags": []
   },
   "outputs": [
    {
     "data": {
      "image/png": "[encoded data removed]",
      "text/plain": [
       "<Figure size 1200x600 with 1 Axes>"
      ]
     },
     "metadata": {},
     "output_type": "display_data"
    },
    {
     "name": "stdout",
     "output_type": "stream",
     "text": [
      "                         Model  Average MSE\n",
      "0         Random Forest Crimes     0.250377\n",
      "1  Random Forest Scaled Crimes     0.250910\n"
     ]
    }
   ],
   "source": [
    "# Plot histograms for each model's MSE\n",
    "plt.figure(figsize=(12, 6))\n",
    "for model_name in models.keys():\n",
    "    plt.hist(mse_values_dict[model_name], bins=20, alpha=0.6, label=model_name)\n",
    "\n",
    "plt.xlabel('Mean Squared Error (MSE)')\n",
    "plt.ylabel('Frequency')\n",
    "plt.title('Distribution of MSE for RF Regressor: Scaled and Not Scaled')\n",
    "plt.legend()\n",
    "plt.grid(True)\n",
    "\n",
    "# Show the histogram plot\n",
    "plt.show()\n",
    "\n",
    "# Display the results DataFrame\n",
    "print(results_df)"
   ]
  },
  {
   "cell_type": "code",
   "execution_count": null,
   "id": "69df5b81-16bd-4c46-be4c-6b44dc4b93f3",
   "metadata": {
    "tags": []
   },
   "outputs": [],
   "source": [
    "results_df"
   ]
  },
  {
   "cell_type": "code",
   "execution_count": 114,
   "id": "8af8c41c-eae8-4503-aa23-849020024890",
   "metadata": {
    "tags": []
   },
   "outputs": [
    {
     "data": {
      "image/png": "[encoded data removed]",
      "text/plain": [
       "<Figure size 1200x600 with 1 Axes>"
      ]
     },
     "metadata": {},
     "output_type": "display_data"
    },
    {
     "name": "stdout",
     "output_type": "stream",
     "text": [
      "                          Model  Average MSE\n",
      "0         Random Forest Samples     0.307027\n",
      "1  Random Forest Scaled Samples     0.309342\n"
     ]
    }
   ],
   "source": [
    "# Plot histograms for each model's MSE\n",
    "plt.figure(figsize=(12, 6))\n",
    "for model_name in models.keys():\n",
    "    plt.hist(mse_values_dict[model_name], bins=20, alpha=0.6, label=model_name)\n",
    "\n",
    "plt.xlabel('Mean Squared Error (MSE)')\n",
    "plt.ylabel('Frequency')\n",
    "plt.title('Distribution of MSE for SVM Regressor')\n",
    "plt.legend()\n",
    "plt.grid(True)\n",
    "\n",
    "# Show the histogram plot\n",
    "plt.show()\n",
    "\n",
    "# Display the results DataFrame\n",
    "print(results_df)"
   ]
  },
  {
   "cell_type": "code",
   "execution_count": null,
   "id": "6596838e-9547-473e-b36f-198db30a21d3",
   "metadata": {},
   "outputs": [],
   "source": []
  },
  {
   "cell_type": "code",
   "execution_count": null,
   "id": "ba0054e5-a182-49da-8468-83d6ce2fc24e",
   "metadata": {},
   "outputs": [],
   "source": []
  },
  {
   "cell_type": "code",
   "execution_count": null,
   "id": "71d00ed4-0cee-418d-8edd-534561baeacb",
   "metadata": {
    "tags": []
   },
   "outputs": [],
   "source": [
    "models = {\n",
    "    #'Linear Regression': LinearRegression(),\n",
    "    'Random Forest Samples': RandomForestRegressor(n_estimators =200,max_depth= 20),\n",
    "    'Random Forest Scaled Samples': RandomForestRegressor(n_estimators =200,max_depth= 20)#,\n",
    "\n",
    "    #'SVR': SVR(C=10, kernel='rbf'),#,\n",
    "    #'SVR (Standard Scaler)': SVR(C=10, kernel='rbf')#,\n",
    "\n",
    "}\n",
    "\n",
    "# Create a DataFrame to store the results\n",
    "results = {'Model': [], 'Average MSE': []}\n",
    "# Create a dictionary to store MSE values for each model\n",
    "mse_values_dict = {model_name: [] for model_name in models.keys()}\n",
    "\n",
    "\n",
    "# Perform iterations for each model\n",
    "num_iterations = 300\n",
    "\n"
   ]
  },
  {
   "cell_type": "code",
   "execution_count": null,
   "id": "34145c26-d94f-456d-b1fb-a6c1b670ed9d",
   "metadata": {
    "tags": []
   },
   "outputs": [],
   "source": [
    "for model_name, model in models.items():\n",
    "    \n",
    "    mse_values = []\n",
    "           \n",
    "    x = x_scaled  if 'Scaled'  in model_name else X\n",
    "    y = y_samples if 'Samples' in model_name else y_crimes\n",
    "\n",
    "    for _ in range(num_iterations):    \n",
    "         \n",
    "        # Split data into train and test sets\n",
    "        X_train, X_test, y_train, y_test = train_test_split(x, y, test_size=0.2, random_state=None)\n",
    "        \n",
    "        # Fit the model\n",
    "        model.fit(X_train, y_train)\n",
    "        \n",
    "        # Make predictions on the test set\n",
    "        y_pred = model.predict(X_test)\n",
    "        \n",
    "        # Calculate MSE for this iteration\n",
    "        mse = mean_squared_error(y_test, y_pred)\n",
    "        mse_values.append(mse)\n",
    "        \n",
    "        # Store the MSE values for this model in the dictionary\n",
    "        mse_values_dict[model_name] = mse_values\n",
    "\n",
    "    # Calculate the average MSE\n",
    "    average_mse = np.mean(mse_values)\n",
    "    \n",
    "    # Append results to the DataFrame\n",
    "    results['Model'].append(model_name)\n",
    "    results['Average MSE'].append(average_mse)\n",
    "    \n",
    "# Create a DataFrame from the results\n",
    "results_df = pd.DataFrame(results)\n"
   ]
  },
  {
   "cell_type": "code",
   "execution_count": null,
   "id": "103f85b2-c020-4d77-8e98-e5b8b0d786e6",
   "metadata": {
    "tags": []
   },
   "outputs": [
    {
     "data": {
      "text/html": [
       "<div>\n",
       "<style scoped>\n",
       "    .dataframe tbody tr th:only-of-type {\n",
       "        vertical-align: middle;\n",
       "    }\n",
       "\n",
       "    .dataframe tbody tr th {\n",
       "        vertical-align: top;\n",
       "    }\n",
       "\n",
       "    .dataframe thead th {\n",
       "        text-align: right;\n",
       "    }\n",
       "</style>\n",
       "<table border=\"1\" class=\"dataframe\">\n",
       "  <thead>\n",
       "    <tr style=\"text-align: right;\">\n",
       "      <th></th>\n",
       "      <th>Model</th>\n",
       "      <th>Average MSE</th>\n",
       "    </tr>\n",
       "  </thead>\n",
       "  <tbody>\n",
       "    <tr>\n",
       "      <th>0</th>\n",
       "      <td>Random Forest Samples</td>\n",
       "      <td>0.307027</td>\n",
       "    </tr>\n",
       "    <tr>\n",
       "      <th>1</th>\n",
       "      <td>Random Forest Scaled Samples</td>\n",
       "      <td>0.309342</td>\n",
       "    </tr>\n",
       "  </tbody>\n",
       "</table>\n",
       "</div>"
      ],
      "text/plain": [
       "                          Model  Average MSE\n",
       "0         Random Forest Samples     0.307027\n",
       "1  Random Forest Scaled Samples     0.309342"
      ]
     },
     "execution_count": 111,
     "metadata": {},
     "output_type": "execute_result"
    }
   ],
   "source": [
    "results_df"
   ]
  },
  {
   "cell_type": "code",
   "execution_count": null,
   "id": "88a0cc77-f339-4f83-b549-88f438e8aa2a",
   "metadata": {
    "tags": []
   },
   "outputs": [
    {
     "data": {
      "image/png": "[encoded data removed]",
      "text/plain": [
       "<Figure size 1200x600 with 1 Axes>"
      ]
     },
     "metadata": {},
     "output_type": "display_data"
    },
    {
     "name": "stdout",
     "output_type": "stream",
     "text": [
      "                          Model  Average MSE\n",
      "0         Random Forest Samples     0.307027\n",
      "1  Random Forest Scaled Samples     0.309342\n"
     ]
    }
   ],
   "source": [
    "# Plot histograms for each model's MSE\n",
    "plt.figure(figsize=(12, 6))\n",
    "for model_name in models.keys():\n",
    "    plt.hist(mse_values_dict[model_name], bins=20, alpha=0.6, label=model_name)\n",
    "\n",
    "plt.xlabel('Mean Squared Error (MSE)')\n",
    "plt.ylabel('Frequency')\n",
    "plt.title('Distribution of MSE for SVM Regressor')\n",
    "plt.legend()\n",
    "plt.grid(True)\n",
    "\n",
    "# Show the histogram plot\n",
    "plt.show()\n",
    "\n",
    "# Display the results DataFrame\n",
    "print(results_df)"
   ]
  },
  {
   "cell_type": "code",
   "execution_count": 113,
   "id": "3632935e-342c-4c15-972c-48f68b72bb58",
   "metadata": {
    "tags": []
   },
   "outputs": [
    {
     "name": "stdout",
     "output_type": "stream",
     "text": [
      "Done\n"
     ]
    }
   ],
   "source": [
    "print('Done')"
   ]
  },
  {
   "cell_type": "code",
   "execution_count": null,
   "id": "559db8c2-e51e-4cd2-9213-4d98b30c8354",
   "metadata": {
    "tags": []
   },
   "outputs": [],
   "source": [
    "# Initialize a dictionary to store the best models and their scores\n",
    "best_models = {}\n",
    "best_scores = {}\n",
    "best_parameters = {}\n",
    "\n",
    "# Create a list to store the results\n",
    "results = []\n",
    "\n",
    "# Create lists to store MSE values for each model\n",
    "mse_values = {model_name: [] for model_name in models}\n",
    "\n",
    "\n",
    "# Iterate through the models and perform grid search\n",
    "for model_name, model in models.items():\n",
    "    \n",
    "    average_mse = 0.0\n",
    "    \n",
    "    for _ in range(300):  # 300 iterations\n",
    "        X_train, X_test, y_train, y_test = \n",
    "            train_test_split(\n",
    "                x, y, test_size=0.2, random_state=None)\n",
    "        \n",
    "\n",
    "        param_grid = param_grids[model_name]\n",
    "        grid_search = GridSearchCV(model, param_grid, cv=5, scoring='neg_mean_squared_error')\n",
    "        grid_search.fit(X_train, y_train)\n",
    "\n",
    "        # Get the best model and its score\n",
    "        best_model = grid_search.best_estimator_\n",
    "        #best_score = -grid_search.best_score_  # Negative MSE\n",
    "        best_params = grid_search.best_params_\n",
    "\n",
    "        y_pred = best_model.predict(X_test)\n",
    "        mse = mean_squared_error(y_test, y_pred)\n",
    "\n",
    "        # Store the MSE value\n",
    "        mse_values[model_name].append(mse)\n",
    "        \n",
    "    # Calculate the average MSE for this model\n",
    "    average_mse = np.mean(mse_values[model_name])\n",
    "    \n",
    "     # Append results to the list\n",
    "    results.append({\n",
    "        'Model': model_name,\n",
    "        'Best_Parameters': best_params,\n",
    "        'Best_MSE': -grid_search.best_score_,  # GridSearchCV returns negative MSE\n",
    "        'Average_MSE': average_mse\n",
    "    })\n",
    "    \n",
    "# Create a DataFrame to store the results\n",
    "results_df = pd.DataFrame(results)\n",
    "\n",
    "\n",
    " \n",
    "\n",
    "\n",
    "results_df.sort_values(by='Best MSE Score', ascending=True, inplace=True)\n",
    "print(results_df)\n",
    "\n",
    "print(best_models)\n",
    "print(best_scores)\n",
    "print(best_parameters)\n"
   ]
  },
  {
   "cell_type": "code",
   "execution_count": null,
   "id": "6a490651-cfb1-468a-aac3-6b621519ea18",
   "metadata": {
    "tags": []
   },
   "outputs": [],
   "source": [
    "results_df"
   ]
  }
 ],
 "metadata": {
  "kernelspec": {
   "display_name": "Python 3 (ipykernel)",
   "language": "python",
   "name": "python3"
  },
  "language_info": {
   "codemirror_mode": {
    "name": "ipython",
    "version": 3
   },
   "file_extension": ".py",
   "mimetype": "text/x-python",
   "name": "python",
   "nbconvert_exporter": "python",
   "pygments_lexer": "ipython3",
   "version": "3.8.16"
  }
 },
 "nbformat": 4,
 "nbformat_minor": 5
}
