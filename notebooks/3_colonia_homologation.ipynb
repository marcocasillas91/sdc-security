{
 "cells": [
  {
   "cell_type": "markdown",
   "id": "230dd71a-ffc9-4ce1-afe3-bc0133f720d1",
   "metadata": {},
   "source": [
    "# Homologation of **colonias**\n",
    "\n",
    "The purpose of this notebook is to homologate the *colonia* values in the *crimes_clean* dataset using a JSON file called *catalogo-de-colonias.json*, which includes names and keys of the location in detail."
   ]
  },
  {
   "cell_type": "code",
   "execution_count": 8,
   "id": "101f04f4-704f-46e8-b1b3-696de876046a",
   "metadata": {
    "tags": []
   },
   "outputs": [],
   "source": [
    "import pandas as pd\n",
    "import zipfile\n",
    "import numpy as np\n",
    "import matplotlib.pyplot as plt\n",
    "import json\n",
    "\n",
    "#Path\n",
    "#Insert your local repo path to file \n",
    "repo_path = \"INSERT YOUR LOCAL SDC-SECURITY REPO PATH HERE\"\n",
    "repo_path ='D:\\Archivos\\Social Data Challenge\\sdc-security'"
   ]
  },
  {
   "cell_type": "code",
   "execution_count": 3,
   "id": "cad493fe-0a75-43c3-bc57-32fb41e48460",
   "metadata": {
    "tags": []
   },
   "outputs": [
    {
     "name": "stdout",
     "output_type": "stream",
     "text": [
      "(781226, 23)\n"
     ]
    },
    {
     "data": {
      "text/html": [
       "<div>\n",
       "<style scoped>\n",
       "    .dataframe tbody tr th:only-of-type {\n",
       "        vertical-align: middle;\n",
       "    }\n",
       "\n",
       "    .dataframe tbody tr th {\n",
       "        vertical-align: top;\n",
       "    }\n",
       "\n",
       "    .dataframe thead th {\n",
       "        text-align: right;\n",
       "    }\n",
       "</style>\n",
       "<table border=\"1\" class=\"dataframe\">\n",
       "  <thead>\n",
       "    <tr style=\"text-align: right;\">\n",
       "      <th></th>\n",
       "      <th>idcarpeta</th>\n",
       "      <th>delito</th>\n",
       "      <th>categoria</th>\n",
       "      <th>alcaldia</th>\n",
       "      <th>colonia</th>\n",
       "      <th>sexo</th>\n",
       "      <th>edad</th>\n",
       "      <th>tipopersona</th>\n",
       "      <th>calidadjuridica</th>\n",
       "      <th>anio_denuncia</th>\n",
       "      <th>...</th>\n",
       "      <th>competencia</th>\n",
       "      <th>anio_hecho</th>\n",
       "      <th>mes_hecho</th>\n",
       "      <th>fecha_hecho</th>\n",
       "      <th>hora_hecho</th>\n",
       "      <th>colonia_alt</th>\n",
       "      <th>crimen_lat</th>\n",
       "      <th>crimen_lon</th>\n",
       "      <th>hecho_time</th>\n",
       "      <th>denuncia_time</th>\n",
       "    </tr>\n",
       "  </thead>\n",
       "  <tbody>\n",
       "    <tr>\n",
       "      <th>0</th>\n",
       "      <td>8324429</td>\n",
       "      <td>FRAUDE</td>\n",
       "      <td>DELITO DE BAJO IMPACTO</td>\n",
       "      <td>ALVARO OBREGON</td>\n",
       "      <td>GUADALUPE INN</td>\n",
       "      <td>Masculino</td>\n",
       "      <td>62</td>\n",
       "      <td>FISICA</td>\n",
       "      <td>OFENDIDO</td>\n",
       "      <td>2019</td>\n",
       "      <td>...</td>\n",
       "      <td>FUERO COMUN</td>\n",
       "      <td>2018</td>\n",
       "      <td>8</td>\n",
       "      <td>2018-08-29</td>\n",
       "      <td>12:00:00</td>\n",
       "      <td>GUADALUPE INN</td>\n",
       "      <td>19.36125</td>\n",
       "      <td>-99.18314</td>\n",
       "      <td>2018-08-29 12:00:00</td>\n",
       "      <td>2019-01-04 12:19:00</td>\n",
       "    </tr>\n",
       "    <tr>\n",
       "      <th>1</th>\n",
       "      <td>8324430</td>\n",
       "      <td>PRODUCCIÓN, IMPRESIÓN, ENAJENACIÓN, DISTRIBUCI...</td>\n",
       "      <td>DELITO DE BAJO IMPACTO</td>\n",
       "      <td>AZCAPOTZALCO</td>\n",
       "      <td>VICTORIA DE LAS DEMOCRACIAS</td>\n",
       "      <td>Femenino</td>\n",
       "      <td>38</td>\n",
       "      <td>FISICA</td>\n",
       "      <td>VICTIMA Y DENUNCIANTE</td>\n",
       "      <td>2019</td>\n",
       "      <td>...</td>\n",
       "      <td>FUERO COMUN</td>\n",
       "      <td>2018</td>\n",
       "      <td>12</td>\n",
       "      <td>2018-12-15</td>\n",
       "      <td>15:00:00</td>\n",
       "      <td>VICTORIA DE LAS DEMOCRACIAS</td>\n",
       "      <td>19.47181</td>\n",
       "      <td>-99.16458</td>\n",
       "      <td>2018-12-15 15:00:00</td>\n",
       "      <td>2019-01-04 12:20:00</td>\n",
       "    </tr>\n",
       "    <tr>\n",
       "      <th>2</th>\n",
       "      <td>8324431</td>\n",
       "      <td>ROBO A TRANSEUNTE SALIENDO DEL BANCO CON VIOLE...</td>\n",
       "      <td>ROBO A CUENTAHABIENTE SALIENDO DEL CAJERO CON ...</td>\n",
       "      <td>COYOACAN</td>\n",
       "      <td>COPILCO UNIVERSIDAD ISSSTE</td>\n",
       "      <td>Masculino</td>\n",
       "      <td>42</td>\n",
       "      <td>FISICA</td>\n",
       "      <td>VICTIMA Y DENUNCIANTE</td>\n",
       "      <td>2019</td>\n",
       "      <td>...</td>\n",
       "      <td>FUERO COMUN</td>\n",
       "      <td>2018</td>\n",
       "      <td>12</td>\n",
       "      <td>2018-12-22</td>\n",
       "      <td>15:30:00</td>\n",
       "      <td>COPILCO EL BAJO</td>\n",
       "      <td>19.33797</td>\n",
       "      <td>-99.18611</td>\n",
       "      <td>2018-12-22 15:30:00</td>\n",
       "      <td>2019-01-04 12:23:00</td>\n",
       "    </tr>\n",
       "    <tr>\n",
       "      <th>3</th>\n",
       "      <td>8324435</td>\n",
       "      <td>ROBO DE VEHICULO DE SERVICIO PARTICULAR SIN VI...</td>\n",
       "      <td>ROBO DE VEHÍCULO CON Y SIN VIOLENCIA</td>\n",
       "      <td>IZTACALCO</td>\n",
       "      <td>AGRÍCOLA PANTITLAN</td>\n",
       "      <td>Masculino</td>\n",
       "      <td>35</td>\n",
       "      <td>FISICA</td>\n",
       "      <td>VICTIMA Y DENUNCIANTE</td>\n",
       "      <td>2019</td>\n",
       "      <td>...</td>\n",
       "      <td>FUERO COMUN</td>\n",
       "      <td>2019</td>\n",
       "      <td>1</td>\n",
       "      <td>2019-01-04</td>\n",
       "      <td>06:00:00</td>\n",
       "      <td>PANTITLAN V</td>\n",
       "      <td>19.40327</td>\n",
       "      <td>-99.05983</td>\n",
       "      <td>2019-01-04 06:00:00</td>\n",
       "      <td>2019-01-04 12:27:00</td>\n",
       "    </tr>\n",
       "    <tr>\n",
       "      <th>4</th>\n",
       "      <td>8324438</td>\n",
       "      <td>ROBO DE MOTOCICLETA SIN VIOLENCIA</td>\n",
       "      <td>ROBO DE VEHÍCULO CON Y SIN VIOLENCIA</td>\n",
       "      <td>IZTAPALAPA</td>\n",
       "      <td>PROGRESISTA</td>\n",
       "      <td>Masculino</td>\n",
       "      <td>39</td>\n",
       "      <td>FISICA</td>\n",
       "      <td>VICTIMA</td>\n",
       "      <td>2019</td>\n",
       "      <td>...</td>\n",
       "      <td>FUERO COMUN</td>\n",
       "      <td>2019</td>\n",
       "      <td>1</td>\n",
       "      <td>2019-01-03</td>\n",
       "      <td>20:00:00</td>\n",
       "      <td>LAS AMERICAS (U HAB)</td>\n",
       "      <td>19.35480</td>\n",
       "      <td>-99.06324</td>\n",
       "      <td>2019-01-03 20:00:00</td>\n",
       "      <td>2019-01-04 12:35:00</td>\n",
       "    </tr>\n",
       "  </tbody>\n",
       "</table>\n",
       "<p>5 rows × 23 columns</p>\n",
       "</div>"
      ],
      "text/plain": [
       "   idcarpeta                                             delito  \\\n",
       "0    8324429                                             FRAUDE   \n",
       "1    8324430  PRODUCCIÓN, IMPRESIÓN, ENAJENACIÓN, DISTRIBUCI...   \n",
       "2    8324431  ROBO A TRANSEUNTE SALIENDO DEL BANCO CON VIOLE...   \n",
       "3    8324435  ROBO DE VEHICULO DE SERVICIO PARTICULAR SIN VI...   \n",
       "4    8324438                  ROBO DE MOTOCICLETA SIN VIOLENCIA   \n",
       "\n",
       "                                           categoria        alcaldia  \\\n",
       "0                             DELITO DE BAJO IMPACTO  ALVARO OBREGON   \n",
       "1                             DELITO DE BAJO IMPACTO    AZCAPOTZALCO   \n",
       "2  ROBO A CUENTAHABIENTE SALIENDO DEL CAJERO CON ...        COYOACAN   \n",
       "3               ROBO DE VEHÍCULO CON Y SIN VIOLENCIA       IZTACALCO   \n",
       "4               ROBO DE VEHÍCULO CON Y SIN VIOLENCIA      IZTAPALAPA   \n",
       "\n",
       "                       colonia       sexo  edad tipopersona  \\\n",
       "0                GUADALUPE INN  Masculino    62      FISICA   \n",
       "1  VICTORIA DE LAS DEMOCRACIAS   Femenino    38      FISICA   \n",
       "2   COPILCO UNIVERSIDAD ISSSTE  Masculino    42      FISICA   \n",
       "3           AGRÍCOLA PANTITLAN  Masculino    35      FISICA   \n",
       "4                  PROGRESISTA  Masculino    39      FISICA   \n",
       "\n",
       "         calidadjuridica  anio_denuncia  ...  competencia anio_hecho  \\\n",
       "0               OFENDIDO           2019  ...  FUERO COMUN       2018   \n",
       "1  VICTIMA Y DENUNCIANTE           2019  ...  FUERO COMUN       2018   \n",
       "2  VICTIMA Y DENUNCIANTE           2019  ...  FUERO COMUN       2018   \n",
       "3  VICTIMA Y DENUNCIANTE           2019  ...  FUERO COMUN       2019   \n",
       "4                VICTIMA           2019  ...  FUERO COMUN       2019   \n",
       "\n",
       "  mes_hecho fecha_hecho  hora_hecho                  colonia_alt crimen_lat  \\\n",
       "0         8  2018-08-29    12:00:00                GUADALUPE INN   19.36125   \n",
       "1        12  2018-12-15    15:00:00  VICTORIA DE LAS DEMOCRACIAS   19.47181   \n",
       "2        12  2018-12-22    15:30:00              COPILCO EL BAJO   19.33797   \n",
       "3         1  2019-01-04    06:00:00                  PANTITLAN V   19.40327   \n",
       "4         1  2019-01-03    20:00:00         LAS AMERICAS (U HAB)   19.35480   \n",
       "\n",
       "  crimen_lon           hecho_time        denuncia_time  \n",
       "0  -99.18314  2018-08-29 12:00:00  2019-01-04 12:19:00  \n",
       "1  -99.16458  2018-12-15 15:00:00  2019-01-04 12:20:00  \n",
       "2  -99.18611  2018-12-22 15:30:00  2019-01-04 12:23:00  \n",
       "3  -99.05983  2019-01-04 06:00:00  2019-01-04 12:27:00  \n",
       "4  -99.06324  2019-01-03 20:00:00  2019-01-04 12:35:00  \n",
       "\n",
       "[5 rows x 23 columns]"
      ]
     },
     "execution_count": 3,
     "metadata": {},
     "output_type": "execute_result"
    }
   ],
   "source": [
    "crime_data_path = \"\\datasets\\crimes_clean.csv.zip\"\n",
    "\n",
    "zf = zipfile.ZipFile(repo_path+crime_data_path) \n",
    "crimes = pd.read_csv(zf.open('crimes_clean.csv'))\n",
    "print(crimes.shape)\n",
    "crimes.head()\n"
   ]
  },
  {
   "cell_type": "code",
   "execution_count": 21,
   "id": "80aac91d-5052-4212-995d-0c85f5f9077c",
   "metadata": {
    "collapsed": true,
    "jupyter": {
     "outputs_hidden": true
    },
    "tags": []
   },
   "outputs": [
    {
     "data": {
      "text/html": [
       "<div>\n",
       "<style scoped>\n",
       "    .dataframe tbody tr th:only-of-type {\n",
       "        vertical-align: middle;\n",
       "    }\n",
       "\n",
       "    .dataframe tbody tr th {\n",
       "        vertical-align: top;\n",
       "    }\n",
       "\n",
       "    .dataframe thead th {\n",
       "        text-align: right;\n",
       "    }\n",
       "</style>\n",
       "<table border=\"1\" class=\"dataframe\">\n",
       "  <thead>\n",
       "    <tr style=\"text-align: right;\">\n",
       "      <th></th>\n",
       "      <th>cve_col</th>\n",
       "      <th>clasif</th>\n",
       "      <th>colonia</th>\n",
       "      <th>alc</th>\n",
       "      <th>cve_alc</th>\n",
       "      <th>cve_ent</th>\n",
       "      <th>entidad</th>\n",
       "      <th>polygon</th>\n",
       "    </tr>\n",
       "  </thead>\n",
       "  <tbody>\n",
       "    <tr>\n",
       "      <th>0</th>\n",
       "      <td>002-001</td>\n",
       "      <td>Colonia</td>\n",
       "      <td>Aguilera</td>\n",
       "      <td>Azcapotzalco</td>\n",
       "      <td>002</td>\n",
       "      <td>09</td>\n",
       "      <td>Ciudad de México</td>\n",
       "      <td>[[-99.15913100449802, 19.47261175522339], [-99...</td>\n",
       "    </tr>\n",
       "    <tr>\n",
       "      <th>1</th>\n",
       "      <td>002-002</td>\n",
       "      <td>Colonia</td>\n",
       "      <td>Aldana</td>\n",
       "      <td>Azcapotzalco</td>\n",
       "      <td>002</td>\n",
       "      <td>09</td>\n",
       "      <td>Ciudad de México</td>\n",
       "      <td>[[-99.15171083760227, 19.468190578205796], [-9...</td>\n",
       "    </tr>\n",
       "    <tr>\n",
       "      <th>2</th>\n",
       "      <td>002-003</td>\n",
       "      <td>Colonia</td>\n",
       "      <td>Ampliacion Cosmopolita</td>\n",
       "      <td>Azcapotzalco</td>\n",
       "      <td>002</td>\n",
       "      <td>09</td>\n",
       "      <td>Ciudad de México</td>\n",
       "      <td>[[-99.16361818076089, 19.472229875914007], [-9...</td>\n",
       "    </tr>\n",
       "    <tr>\n",
       "      <th>3</th>\n",
       "      <td>002-004</td>\n",
       "      <td>Colonia</td>\n",
       "      <td>Ampliacion Del Gas</td>\n",
       "      <td>Azcapotzalco</td>\n",
       "      <td>002</td>\n",
       "      <td>09</td>\n",
       "      <td>Ciudad de México</td>\n",
       "      <td>[[-99.16151817603475, 19.46774486135027], [-99...</td>\n",
       "    </tr>\n",
       "    <tr>\n",
       "      <th>4</th>\n",
       "      <td>002-005</td>\n",
       "      <td>Colonia</td>\n",
       "      <td>Ampliacion Petrolera</td>\n",
       "      <td>Azcapotzalco</td>\n",
       "      <td>002</td>\n",
       "      <td>09</td>\n",
       "      <td>Ciudad de México</td>\n",
       "      <td>[[-99.19761990655803, 19.482307007833892], [-9...</td>\n",
       "    </tr>\n",
       "  </tbody>\n",
       "</table>\n",
       "</div>"
      ],
      "text/plain": [
       "   cve_col   clasif                 colonia           alc cve_alc cve_ent  \\\n",
       "0  002-001  Colonia                Aguilera  Azcapotzalco     002      09   \n",
       "1  002-002  Colonia                  Aldana  Azcapotzalco     002      09   \n",
       "2  002-003  Colonia  Ampliacion Cosmopolita  Azcapotzalco     002      09   \n",
       "3  002-004  Colonia      Ampliacion Del Gas  Azcapotzalco     002      09   \n",
       "4  002-005  Colonia    Ampliacion Petrolera  Azcapotzalco     002      09   \n",
       "\n",
       "            entidad                                            polygon  \n",
       "0  Ciudad de México  [[-99.15913100449802, 19.47261175522339], [-99...  \n",
       "1  Ciudad de México  [[-99.15171083760227, 19.468190578205796], [-9...  \n",
       "2  Ciudad de México  [[-99.16361818076089, 19.472229875914007], [-9...  \n",
       "3  Ciudad de México  [[-99.16151817603475, 19.46774486135027], [-99...  \n",
       "4  Ciudad de México  [[-99.19761990655803, 19.482307007833892], [-9...  "
      ]
     },
     "execution_count": 21,
     "metadata": {},
     "output_type": "execute_result"
    }
   ],
   "source": [
    "catalog_path = \"\\datasets\\catalogo-de-colonias.json\"\n",
    "\n",
    "#catalog = pd.read_json(repo_path + catalog_path)\n",
    "\n",
    "# Load the JSON file\n",
    "with open(repo_path + catalog_path, 'r', encoding='utf-8') as json_file:\n",
    "    data = json.load(json_file)\n",
    "\n",
    "# Extracting features from the JSON data\n",
    "features = data['features']\n",
    "\n",
    "# Initialize lists to store column values\n",
    "polygon_list = []\n",
    "properties_list = []\n",
    "\n",
    "# Extracting values from features\n",
    "for feature in features:\n",
    "    polygon_list.append(feature['geometry']['coordinates'][0])  # Extracting the first set of coordinates\n",
    "    properties_list.append(feature['properties'])\n",
    "\n",
    "# Creating the DataFrame\n",
    "catalog = pd.DataFrame(properties_list)\n",
    "catalog['polygon'] = polygon_list\n",
    "\n",
    "# Reordering columns\n",
    "column_order = ['cve_col', 'clasif', 'colonia', 'alc', 'cve_alc', 'cve_ent', 'entidad', 'polygon']\n",
    "catalog= catalog[column_order]\n",
    "\n",
    "# Display the DataFrame\n",
    "catalog.head()\n"
   ]
  },
  {
   "cell_type": "code",
   "execution_count": 22,
   "id": "50a4b2b9-6749-4cef-89d6-e09986c5e348",
   "metadata": {
    "collapsed": true,
    "jupyter": {
     "outputs_hidden": true
    },
    "tags": []
   },
   "outputs": [
    {
     "data": {
      "text/plain": [
       "[[-99.15913100449802, 19.47261175522339],\n",
       " [-99.15905951558406, 19.473285887676024],\n",
       " [-99.15900881461089, 19.47368593671133],\n",
       " [-99.15794643848542, 19.473632739085684],\n",
       " [-99.15616814209562, 19.47354369195322],\n",
       " [-99.15442193075381, 19.473380151110387],\n",
       " [-99.15266341191717, 19.47321472340822],\n",
       " [-99.15275750249315, 19.47264915251562],\n",
       " [-99.1528071338663, 19.4723511157457],\n",
       " [-99.15292459787696, 19.471676013892726],\n",
       " [-99.15351363460762, 19.47176437869369],\n",
       " [-99.15501209831677, 19.47198914429913],\n",
       " [-99.15500458310345, 19.472030004073765],\n",
       " [-99.15510539658004, 19.47200313753843],\n",
       " [-99.15520542932478, 19.47197558462651],\n",
       " [-99.15519777130277, 19.47201698619364],\n",
       " [-99.15580174927318, 19.472107529770657],\n",
       " [-99.15640573743234, 19.47219806231646],\n",
       " [-99.15814628678987, 19.472462267199276],\n",
       " [-99.15913100449802, 19.47261175522339]]"
      ]
     },
     "execution_count": 22,
     "metadata": {},
     "output_type": "execute_result"
    }
   ],
   "source": [
    "#Reviewing how does a value inside 'polygon looks like'\n",
    "catalog[\"polygon\"].loc[0]"
   ]
  },
  {
   "cell_type": "code",
   "execution_count": 24,
   "id": "b240fad1-cbef-447c-82bd-1f75ad817d5f",
   "metadata": {
    "tags": []
   },
   "outputs": [
    {
     "name": "stdout",
     "output_type": "stream",
     "text": [
      "['Colonia' 'Pueblos y Barrios Originarios']\n",
      "['Ciudad de México']\n",
      "['09']\n"
     ]
    }
   ],
   "source": [
    "print(catalog.clasif.unique())\n",
    "print(catalog.entidad.unique())\n",
    "print(catalog.cve_ent.unique())"
   ]
  },
  {
   "cell_type": "code",
   "execution_count": 25,
   "id": "551d1bf3-65ed-4b39-9937-171ec674c919",
   "metadata": {
    "collapsed": true,
    "jupyter": {
     "outputs_hidden": true
    },
    "tags": []
   },
   "outputs": [
    {
     "data": {
      "text/html": [
       "<div>\n",
       "<style scoped>\n",
       "    .dataframe tbody tr th:only-of-type {\n",
       "        vertical-align: middle;\n",
       "    }\n",
       "\n",
       "    .dataframe tbody tr th {\n",
       "        vertical-align: top;\n",
       "    }\n",
       "\n",
       "    .dataframe thead th {\n",
       "        text-align: right;\n",
       "    }\n",
       "</style>\n",
       "<table border=\"1\" class=\"dataframe\">\n",
       "  <thead>\n",
       "    <tr style=\"text-align: right;\">\n",
       "      <th></th>\n",
       "      <th>cve_col</th>\n",
       "      <th>clasif</th>\n",
       "      <th>colonia</th>\n",
       "      <th>alc</th>\n",
       "      <th>cve_alc</th>\n",
       "      <th>polygon</th>\n",
       "    </tr>\n",
       "  </thead>\n",
       "  <tbody>\n",
       "    <tr>\n",
       "      <th>0</th>\n",
       "      <td>002-001</td>\n",
       "      <td>Colonia</td>\n",
       "      <td>Aguilera</td>\n",
       "      <td>Azcapotzalco</td>\n",
       "      <td>002</td>\n",
       "      <td>[[-99.15913100449802, 19.47261175522339], [-99...</td>\n",
       "    </tr>\n",
       "    <tr>\n",
       "      <th>1</th>\n",
       "      <td>002-002</td>\n",
       "      <td>Colonia</td>\n",
       "      <td>Aldana</td>\n",
       "      <td>Azcapotzalco</td>\n",
       "      <td>002</td>\n",
       "      <td>[[-99.15171083760227, 19.468190578205796], [-9...</td>\n",
       "    </tr>\n",
       "    <tr>\n",
       "      <th>2</th>\n",
       "      <td>002-003</td>\n",
       "      <td>Colonia</td>\n",
       "      <td>Ampliacion Cosmopolita</td>\n",
       "      <td>Azcapotzalco</td>\n",
       "      <td>002</td>\n",
       "      <td>[[-99.16361818076089, 19.472229875914007], [-9...</td>\n",
       "    </tr>\n",
       "    <tr>\n",
       "      <th>3</th>\n",
       "      <td>002-004</td>\n",
       "      <td>Colonia</td>\n",
       "      <td>Ampliacion Del Gas</td>\n",
       "      <td>Azcapotzalco</td>\n",
       "      <td>002</td>\n",
       "      <td>[[-99.16151817603475, 19.46774486135027], [-99...</td>\n",
       "    </tr>\n",
       "    <tr>\n",
       "      <th>4</th>\n",
       "      <td>002-005</td>\n",
       "      <td>Colonia</td>\n",
       "      <td>Ampliacion Petrolera</td>\n",
       "      <td>Azcapotzalco</td>\n",
       "      <td>002</td>\n",
       "      <td>[[-99.19761990655803, 19.482307007833892], [-9...</td>\n",
       "    </tr>\n",
       "  </tbody>\n",
       "</table>\n",
       "</div>"
      ],
      "text/plain": [
       "   cve_col   clasif                 colonia           alc cve_alc  \\\n",
       "0  002-001  Colonia                Aguilera  Azcapotzalco     002   \n",
       "1  002-002  Colonia                  Aldana  Azcapotzalco     002   \n",
       "2  002-003  Colonia  Ampliacion Cosmopolita  Azcapotzalco     002   \n",
       "3  002-004  Colonia      Ampliacion Del Gas  Azcapotzalco     002   \n",
       "4  002-005  Colonia    Ampliacion Petrolera  Azcapotzalco     002   \n",
       "\n",
       "                                             polygon  \n",
       "0  [[-99.15913100449802, 19.47261175522339], [-99...  \n",
       "1  [[-99.15171083760227, 19.468190578205796], [-9...  \n",
       "2  [[-99.16361818076089, 19.472229875914007], [-9...  \n",
       "3  [[-99.16151817603475, 19.46774486135027], [-99...  \n",
       "4  [[-99.19761990655803, 19.482307007833892], [-9...  "
      ]
     },
     "execution_count": 25,
     "metadata": {},
     "output_type": "execute_result"
    }
   ],
   "source": [
    "#erasing cve_ent and entidad, since it is the same on the whole catalog\n",
    "del catalog[\"cve_ent\"]\n",
    "del catalog[\"entidad\"]\n",
    "\n",
    "catalog.head()"
   ]
  },
  {
   "cell_type": "markdown",
   "id": "9182be23-b74e-47f3-bf2e-f1a7df73ee20",
   "metadata": {},
   "source": [
    "After erasing some columns that will not be used, spanish accented character should be replaced by their non-accented counterpart"
   ]
  },
  {
   "cell_type": "code",
   "execution_count": 32,
   "id": "23406048-632a-466b-b579-7c08b1e6acec",
   "metadata": {
    "collapsed": true,
    "jupyter": {
     "outputs_hidden": true
    },
    "tags": []
   },
   "outputs": [
    {
     "name": "stdout",
     "output_type": "stream",
     "text": [
      "Collecting unidecode\n",
      "  Downloading Unidecode-1.3.6-py3-none-any.whl (235 kB)\n",
      "     ---------------------------------------- 0.0/235.9 kB ? eta -:--:--\n",
      "     - -------------------------------------- 10.2/235.9 kB ? eta -:--:--\n",
      "     - -------------------------------------- 10.2/235.9 kB ? eta -:--:--\n",
      "     ---- -------------------------------- 30.7/235.9 kB 325.1 kB/s eta 0:00:01\n",
      "     --------------------- -------------- 143.4/235.9 kB 774.0 kB/s eta 0:00:01\n",
      "     -------------------------------------- 235.9/235.9 kB 1.2 MB/s eta 0:00:00\n",
      "Installing collected packages: unidecode\n",
      "Successfully installed unidecode-1.3.6\n",
      "Note: you may need to restart the kernel to use updated packages.\n"
     ]
    }
   ],
   "source": [
    "pip install unidecode\n"
   ]
  },
  {
   "cell_type": "code",
   "execution_count": 33,
   "id": "bddb2ea4-d175-48f8-9181-b07f1499c74e",
   "metadata": {
    "tags": []
   },
   "outputs": [],
   "source": [
    "from unidecode import unidecode\n",
    "columns_to_process = ['clasif', 'colonia', 'alc']\n",
    "\n",
    "for col in columns_to_process:\n",
    "    catalog[col] = catalog[col].apply(unidecode)\n"
   ]
  },
  {
   "cell_type": "code",
   "execution_count": 34,
   "id": "ceb8fc86-6882-4500-a00b-f2b3c3bfde4c",
   "metadata": {
    "tags": []
   },
   "outputs": [],
   "source": [
    "#Converting text to uppercase\n",
    "catalog[\"clasif\"] = catalog[\"clasif\"].str.upper()\n",
    "catalog[\"colonia\"]= catalog[\"colonia\"].str.upper()\n",
    "catalog[\"alc\"]= catalog[\"alc\"].str.upper()"
   ]
  },
  {
   "cell_type": "markdown",
   "id": "9a966cf7-0bf1-490b-b969-ee7b1b01c112",
   "metadata": {},
   "source": [
    "Focusing on the CUAUHTEMOC district, a slice of this catalog containg only information related to that district will be created\n"
   ]
  },
  {
   "cell_type": "code",
   "execution_count": 35,
   "id": "f78243f6-c209-46ea-8c52-c36fbb10774c",
   "metadata": {
    "collapsed": true,
    "jupyter": {
     "outputs_hidden": true
    },
    "tags": []
   },
   "outputs": [
    {
     "data": {
      "text/html": [
       "<div>\n",
       "<style scoped>\n",
       "    .dataframe tbody tr th:only-of-type {\n",
       "        vertical-align: middle;\n",
       "    }\n",
       "\n",
       "    .dataframe tbody tr th {\n",
       "        vertical-align: top;\n",
       "    }\n",
       "\n",
       "    .dataframe thead th {\n",
       "        text-align: right;\n",
       "    }\n",
       "</style>\n",
       "<table border=\"1\" class=\"dataframe\">\n",
       "  <thead>\n",
       "    <tr style=\"text-align: right;\">\n",
       "      <th></th>\n",
       "      <th>cve_col</th>\n",
       "      <th>clasif</th>\n",
       "      <th>colonia</th>\n",
       "      <th>alc</th>\n",
       "      <th>cve_alc</th>\n",
       "      <th>polygon</th>\n",
       "    </tr>\n",
       "  </thead>\n",
       "  <tbody>\n",
       "    <tr>\n",
       "      <th>1357</th>\n",
       "      <td>015-001</td>\n",
       "      <td>COLONIA</td>\n",
       "      <td>ALGARIN</td>\n",
       "      <td>CUAUHTEMOC</td>\n",
       "      <td>015</td>\n",
       "      <td>[[-99.14499269220823, 19.403872867220105], [-9...</td>\n",
       "    </tr>\n",
       "    <tr>\n",
       "      <th>1358</th>\n",
       "      <td>015-002</td>\n",
       "      <td>COLONIA</td>\n",
       "      <td>AMPL. ASTURIAS</td>\n",
       "      <td>CUAUHTEMOC</td>\n",
       "      <td>015</td>\n",
       "      <td>[[-99.13609631370444, 19.40605476870975], [-99...</td>\n",
       "    </tr>\n",
       "    <tr>\n",
       "      <th>1359</th>\n",
       "      <td>015-003</td>\n",
       "      <td>COLONIA</td>\n",
       "      <td>ASTURIAS</td>\n",
       "      <td>CUAUHTEMOC</td>\n",
       "      <td>015</td>\n",
       "      <td>[[-99.136483965521, 19.403389149126806], [-99....</td>\n",
       "    </tr>\n",
       "    <tr>\n",
       "      <th>1360</th>\n",
       "      <td>015-004</td>\n",
       "      <td>COLONIA</td>\n",
       "      <td>ATLAMPA</td>\n",
       "      <td>CUAUHTEMOC</td>\n",
       "      <td>015</td>\n",
       "      <td>[[-99.16375908271087, 19.45579888070804], [-99...</td>\n",
       "    </tr>\n",
       "    <tr>\n",
       "      <th>1361</th>\n",
       "      <td>015-005</td>\n",
       "      <td>COLONIA</td>\n",
       "      <td>BUENAVISTA</td>\n",
       "      <td>CUAUHTEMOC</td>\n",
       "      <td>015</td>\n",
       "      <td>[[-99.15567247450599, 19.439779410122352], [-9...</td>\n",
       "    </tr>\n",
       "  </tbody>\n",
       "</table>\n",
       "</div>"
      ],
      "text/plain": [
       "      cve_col   clasif         colonia         alc cve_alc  \\\n",
       "1357  015-001  COLONIA         ALGARIN  CUAUHTEMOC     015   \n",
       "1358  015-002  COLONIA  AMPL. ASTURIAS  CUAUHTEMOC     015   \n",
       "1359  015-003  COLONIA        ASTURIAS  CUAUHTEMOC     015   \n",
       "1360  015-004  COLONIA         ATLAMPA  CUAUHTEMOC     015   \n",
       "1361  015-005  COLONIA      BUENAVISTA  CUAUHTEMOC     015   \n",
       "\n",
       "                                                polygon  \n",
       "1357  [[-99.14499269220823, 19.403872867220105], [-9...  \n",
       "1358  [[-99.13609631370444, 19.40605476870975], [-99...  \n",
       "1359  [[-99.136483965521, 19.403389149126806], [-99....  \n",
       "1360  [[-99.16375908271087, 19.45579888070804], [-99...  \n",
       "1361  [[-99.15567247450599, 19.439779410122352], [-9...  "
      ]
     },
     "execution_count": 35,
     "metadata": {},
     "output_type": "execute_result"
    }
   ],
   "source": [
    "catalog_cuau = catalog.loc[ catalog[\"alc\"] == 'CUAUHTEMOC'].copy()\n",
    "catalog_cuau.head()"
   ]
  },
  {
   "cell_type": "code",
   "execution_count": 37,
   "id": "acbc4416-9186-4690-aba3-f482c3e57ec0",
   "metadata": {
    "tags": []
   },
   "outputs": [
    {
     "data": {
      "text/plain": [
       "33"
      ]
     },
     "execution_count": 37,
     "metadata": {},
     "output_type": "execute_result"
    }
   ],
   "source": [
    "# How many colonias are related to Cuauhtemoc district on this catalog?\n",
    "catalog_cuau.colonia.unique().shape[0]"
   ]
  },
  {
   "cell_type": "markdown",
   "id": "a32f51e9-b37b-43f8-a3a9-cd09081b4789",
   "metadata": {},
   "source": [
    "The next step is to homologate the *colonia* names in the *crimes* dataset and fix the names when needed so that, in future merges with other datasets, the catalog is used as the naming convention."
   ]
  },
  {
   "cell_type": "code",
   "execution_count": 38,
   "id": "bf81aad3-9e42-4582-906e-2dbaac2a2d05",
   "metadata": {
    "tags": []
   },
   "outputs": [
    {
     "data": {
      "text/plain": [
       "Index(['idcarpeta', 'delito', 'categoria', 'alcaldia', 'colonia', 'sexo',\n",
       "       'edad', 'tipopersona', 'calidadjuridica', 'anio_denuncia',\n",
       "       'mes_denuncia', 'fecha_denuncia', 'hora_denuncia', 'competencia',\n",
       "       'anio_hecho', 'mes_hecho', 'fecha_hecho', 'hora_hecho', 'colonia_alt',\n",
       "       'crimen_lat', 'crimen_lon', 'hecho_time', 'denuncia_time'],\n",
       "      dtype='object')"
      ]
     },
     "execution_count": 38,
     "metadata": {},
     "output_type": "execute_result"
    }
   ],
   "source": [
    "crimes.columns"
   ]
  },
  {
   "cell_type": "code",
   "execution_count": null,
   "id": "aa7694d9-0210-4d93-a011-edeb0e9294b9",
   "metadata": {},
   "outputs": [],
   "source": [
    "from unidecode import unidecode\n",
    "\n",
    "columns_to_process = ['delito', 'categoria', 'alcaldia', 'colonia', 'colonia_alt', \\\n",
    "                      'tipopersona','calidadjuridica,competencia']\n",
    "\n",
    "for col in columns_to_process:\n",
    "    catalog[col] = catalog[col].apply(unidecode)\n",
    "    \n",
    "#Converting text to uppercase\n",
    "catalog[\"clasif\"] = catalog[\"clasif\"].str.upper()\n",
    "catalog[\"colonia\"]= catalog[\"colonia\"].str.upper()\n",
    "catalog[\"alc\"]= catalog[\"alc\"].str.upper()\n"
   ]
  },
  {
   "cell_type": "code",
   "execution_count": 39,
   "id": "537e09e6-e02d-4709-a9e7-c48b93803a1d",
   "metadata": {
    "tags": []
   },
   "outputs": [
    {
     "name": "stdout",
     "output_type": "stream",
     "text": [
      "CAFE\n"
     ]
    }
   ],
   "source": [
    "print(unidecode('CAFÉ'))"
   ]
  },
  {
   "cell_type": "code",
   "execution_count": null,
   "id": "6dfdd80f-e961-4b11-a751-5eecff6bbf55",
   "metadata": {},
   "outputs": [],
   "source": []
  },
  {
   "cell_type": "code",
   "execution_count": 5,
   "id": "31c0edd4-59a8-43d7-8bab-f813eabdd509",
   "metadata": {
    "tags": []
   },
   "outputs": [
    {
     "name": "stderr",
     "output_type": "stream",
     "text": [
      "D:\\Programas\\jupyterlab-desktop\\jlab_server\\lib\\site-packages\\fuzzywuzzy\\fuzz.py:11: UserWarning: Using slow pure-python SequenceMatcher. Install python-Levenshtein to remove this warning\n",
      "  warnings.warn('Using slow pure-python SequenceMatcher. Install python-Levenshtein to remove this warning')\n"
     ]
    }
   ],
   "source": [
    "from fuzzywuzzy import fuzz, process\n",
    "\n",
    "def get_best_substitute(substitute_this, potential_substitutes):\n",
    "    # Get the best match and its score using fuzzy matching\n",
    "    best_match, score = process.extractOne(substitute_this, potential_substitutes)\n",
    "    if score >= 90:  # You can adjust the threshold as needed\n",
    "        return best_match\n",
    "    else:\n",
    "        return None"
   ]
  },
  {
   "cell_type": "code",
   "execution_count": null,
   "id": "0a6c3a25-782a-44f2-be1c-512ff6d0d7c7",
   "metadata": {},
   "outputs": [],
   "source": [
    "#Get the unique pairs 'alcalduia'-'colonia'\n",
    "missing_alcaldia_colonia_pairs = consolidated_nulls.drop_duplicates(subset=['alcaldia', 'colonia'])[['alcaldia', 'colonia']].values.tolist()\n",
    "original_alcaldia_colonia_pairs = crimes_final.drop_duplicates(subset=['alcaldia', 'colonia'])[['alcaldia', 'colonia']].values.tolist()\n",
    "\n",
    "#missing_colonias =list(consolidated_nulls.colonia.unique())\n",
    "#substitute_list = list(crimes_final.colonia.unique())\n",
    "\n",
    "#missing_colonias.sort()\n",
    "#substitute_list.sort()\n",
    "missing_alcaldia_colonia_pairs.sort()\n",
    "original_alcaldia_colonia_pairs.sort()\n",
    "print(len(missing_alcaldia_colonia_pairs))\n",
    "\n",
    "#Getting the alcaldia - colonia pair inside a single string with '-' as separator \n",
    "missing_colonias  = [f\"{pair[0]} - {pair[1]}\" for pair in missing_alcaldia_colonia_pairs]\n",
    "original_colonias = [f\"{pair[0]} - {pair[1]}\" for pair in original_alcaldia_colonia_pairs]"
   ]
  }
 ],
 "metadata": {
  "kernelspec": {
   "display_name": "Python 3 (ipykernel)",
   "language": "python",
   "name": "python3"
  },
  "language_info": {
   "codemirror_mode": {
    "name": "ipython",
    "version": 3
   },
   "file_extension": ".py",
   "mimetype": "text/x-python",
   "name": "python",
   "nbconvert_exporter": "python",
   "pygments_lexer": "ipython3",
   "version": "3.8.16"
  }
 },
 "nbformat": 4,
 "nbformat_minor": 5
}
