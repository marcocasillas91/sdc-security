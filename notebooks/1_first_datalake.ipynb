{
 "cells": [
  {
   "cell_type": "markdown",
   "id": "06fbebf7-07cc-4959-911f-cf8108919b5b",
   "metadata": {},
   "source": [
    "\n",
    "## Merge datasets related to crime, subway and camera location in Mexico City\n"
   ]
  },
  {
   "cell_type": "markdown",
   "id": "589438d3-eb88-4dcd-abe9-995405e0e026",
   "metadata": {},
   "source": [
    "Since more datasets have been found, then they should be merged in a single dataframe after some cleaning and transformation steps. Since there is information available about the different subway lines in Mexico City, the location of the subway stations, and the location of security cameras according to the city program *Mi calle*, the intention of this notebook is to join that information with the reported crimes using the neighborhood and/or district information."
   ]
  },
  {
   "cell_type": "markdown",
   "id": "6e4ecd49-de6b-4548-91ab-55e6c2905c4c",
   "metadata": {},
   "source": [
    "First, we import the required libraries and get the reported crimes dataset "
   ]
  },
  {
   "cell_type": "code",
   "execution_count": 3,
   "id": "7c84a345-7d5a-49ad-a13e-89904f3542fb",
   "metadata": {
    "tags": []
   },
   "outputs": [],
   "source": [
    "import pandas as pd\n",
    "import zipfile\n",
    "import numpy as np\n",
    "import matplotlib.pyplot as plt\n",
    "\n",
    "#Path\n",
    "#Insert your local repo path to file \n",
    "repo_path = \"INSERT YOUR LOCAL SDC-SECURITY REPO PATH HERE\"\n",
    "repo_path ='D:\\Archivos\\Social Data Challenge\\sdc-security'"
   ]
  },
  {
   "cell_type": "code",
   "execution_count": 4,
   "id": "aa7139af-79a7-4488-9251-b32a15e0a70b",
   "metadata": {
    "tags": []
   },
   "outputs": [
    {
     "name": "stdout",
     "output_type": "stream",
     "text": [
      "(1038430, 22)\n"
     ]
    },
    {
     "data": {
      "text/html": [
       "<div>\n",
       "<style scoped>\n",
       "    .dataframe tbody tr th:only-of-type {\n",
       "        vertical-align: middle;\n",
       "    }\n",
       "\n",
       "    .dataframe tbody tr th {\n",
       "        vertical-align: top;\n",
       "    }\n",
       "\n",
       "    .dataframe thead th {\n",
       "        text-align: right;\n",
       "    }\n",
       "</style>\n",
       "<table border=\"1\" class=\"dataframe\">\n",
       "  <thead>\n",
       "    <tr style=\"text-align: right;\">\n",
       "      <th></th>\n",
       "      <th>idCarpeta</th>\n",
       "      <th>Año_inicio</th>\n",
       "      <th>Mes_inicio</th>\n",
       "      <th>FechaInicio</th>\n",
       "      <th>Delito</th>\n",
       "      <th>Categoria</th>\n",
       "      <th>Sexo</th>\n",
       "      <th>Edad</th>\n",
       "      <th>TipoPersona</th>\n",
       "      <th>CalidadJuridica</th>\n",
       "      <th>...</th>\n",
       "      <th>Mes_hecho</th>\n",
       "      <th>FechaHecho</th>\n",
       "      <th>HoraHecho</th>\n",
       "      <th>HoraInicio</th>\n",
       "      <th>alcaldia_hechos</th>\n",
       "      <th>municipio_hechos</th>\n",
       "      <th>colonia_datos</th>\n",
       "      <th>fgj_colonia_registro</th>\n",
       "      <th>latitud</th>\n",
       "      <th>longitud</th>\n",
       "    </tr>\n",
       "  </thead>\n",
       "  <tbody>\n",
       "    <tr>\n",
       "      <th>0</th>\n",
       "      <td>8324429.0</td>\n",
       "      <td>2019</td>\n",
       "      <td>Enero</td>\n",
       "      <td>2019-01-04</td>\n",
       "      <td>FRAUDE</td>\n",
       "      <td>DELITO DE BAJO IMPACTO</td>\n",
       "      <td>Masculino</td>\n",
       "      <td>62.0</td>\n",
       "      <td>FISICA</td>\n",
       "      <td>OFENDIDO</td>\n",
       "      <td>...</td>\n",
       "      <td>Agosto</td>\n",
       "      <td>2018-08-29</td>\n",
       "      <td>12:00:00</td>\n",
       "      <td>12:19:00</td>\n",
       "      <td>ALVARO OBREGON</td>\n",
       "      <td>NaN</td>\n",
       "      <td>GUADALUPE INN</td>\n",
       "      <td>GUADALUPE INN</td>\n",
       "      <td>19.36125</td>\n",
       "      <td>-99.18314</td>\n",
       "    </tr>\n",
       "    <tr>\n",
       "      <th>1</th>\n",
       "      <td>8324430.0</td>\n",
       "      <td>2019</td>\n",
       "      <td>Enero</td>\n",
       "      <td>2019-01-04</td>\n",
       "      <td>PRODUCCIÓN, IMPRESIÓN, ENAJENACIÓN, DISTRIBUCI...</td>\n",
       "      <td>DELITO DE BAJO IMPACTO</td>\n",
       "      <td>Femenino</td>\n",
       "      <td>38.0</td>\n",
       "      <td>FISICA</td>\n",
       "      <td>VICTIMA Y DENUNCIANTE</td>\n",
       "      <td>...</td>\n",
       "      <td>Diciembre</td>\n",
       "      <td>2018-12-15</td>\n",
       "      <td>15:00:00</td>\n",
       "      <td>12:20:00</td>\n",
       "      <td>AZCAPOTZALCO</td>\n",
       "      <td>NaN</td>\n",
       "      <td>VICTORIA DE LAS DEMOCRACIAS</td>\n",
       "      <td>VICTORIA DE LAS DEMOCRACIAS</td>\n",
       "      <td>19.47181</td>\n",
       "      <td>-99.16458</td>\n",
       "    </tr>\n",
       "    <tr>\n",
       "      <th>2</th>\n",
       "      <td>8324431.0</td>\n",
       "      <td>2019</td>\n",
       "      <td>Enero</td>\n",
       "      <td>2019-01-04</td>\n",
       "      <td>ROBO A TRANSEUNTE SALIENDO DEL BANCO CON VIOLE...</td>\n",
       "      <td>ROBO A CUENTAHABIENTE SALIENDO DEL CAJERO CON ...</td>\n",
       "      <td>Masculino</td>\n",
       "      <td>42.0</td>\n",
       "      <td>FISICA</td>\n",
       "      <td>VICTIMA Y DENUNCIANTE</td>\n",
       "      <td>...</td>\n",
       "      <td>Diciembre</td>\n",
       "      <td>2018-12-22</td>\n",
       "      <td>15:30:00</td>\n",
       "      <td>12:23:00</td>\n",
       "      <td>COYOACAN</td>\n",
       "      <td>NaN</td>\n",
       "      <td>COPILCO EL BAJO</td>\n",
       "      <td>COPILCO UNIVERSIDAD ISSSTE</td>\n",
       "      <td>19.33797</td>\n",
       "      <td>-99.18611</td>\n",
       "    </tr>\n",
       "    <tr>\n",
       "      <th>3</th>\n",
       "      <td>8324435.0</td>\n",
       "      <td>2019</td>\n",
       "      <td>Enero</td>\n",
       "      <td>2019-01-04</td>\n",
       "      <td>ROBO DE VEHICULO DE SERVICIO PARTICULAR SIN VI...</td>\n",
       "      <td>ROBO DE VEHÍCULO CON Y SIN VIOLENCIA</td>\n",
       "      <td>Masculino</td>\n",
       "      <td>35.0</td>\n",
       "      <td>FISICA</td>\n",
       "      <td>VICTIMA Y DENUNCIANTE</td>\n",
       "      <td>...</td>\n",
       "      <td>Enero</td>\n",
       "      <td>2019-01-04</td>\n",
       "      <td>06:00:00</td>\n",
       "      <td>12:27:00</td>\n",
       "      <td>IZTACALCO</td>\n",
       "      <td>NaN</td>\n",
       "      <td>PANTITLAN V</td>\n",
       "      <td>AGRÍCOLA PANTITLAN</td>\n",
       "      <td>19.40327</td>\n",
       "      <td>-99.05983</td>\n",
       "    </tr>\n",
       "    <tr>\n",
       "      <th>4</th>\n",
       "      <td>8324438.0</td>\n",
       "      <td>2019</td>\n",
       "      <td>Enero</td>\n",
       "      <td>2019-01-04</td>\n",
       "      <td>ROBO DE MOTOCICLETA SIN VIOLENCIA</td>\n",
       "      <td>ROBO DE VEHÍCULO CON Y SIN VIOLENCIA</td>\n",
       "      <td>Masculino</td>\n",
       "      <td>NaN</td>\n",
       "      <td>FISICA</td>\n",
       "      <td>VICTIMA</td>\n",
       "      <td>...</td>\n",
       "      <td>Enero</td>\n",
       "      <td>2019-01-03</td>\n",
       "      <td>20:00:00</td>\n",
       "      <td>12:35:00</td>\n",
       "      <td>IZTAPALAPA</td>\n",
       "      <td>NaN</td>\n",
       "      <td>LAS AMERICAS (U HAB)</td>\n",
       "      <td>PROGRESISTA</td>\n",
       "      <td>19.35480</td>\n",
       "      <td>-99.06324</td>\n",
       "    </tr>\n",
       "  </tbody>\n",
       "</table>\n",
       "<p>5 rows × 22 columns</p>\n",
       "</div>"
      ],
      "text/plain": [
       "   idCarpeta  Año_inicio Mes_inicio FechaInicio  \\\n",
       "0  8324429.0        2019      Enero  2019-01-04   \n",
       "1  8324430.0        2019      Enero  2019-01-04   \n",
       "2  8324431.0        2019      Enero  2019-01-04   \n",
       "3  8324435.0        2019      Enero  2019-01-04   \n",
       "4  8324438.0        2019      Enero  2019-01-04   \n",
       "\n",
       "                                              Delito  \\\n",
       "0                                             FRAUDE   \n",
       "1  PRODUCCIÓN, IMPRESIÓN, ENAJENACIÓN, DISTRIBUCI...   \n",
       "2  ROBO A TRANSEUNTE SALIENDO DEL BANCO CON VIOLE...   \n",
       "3  ROBO DE VEHICULO DE SERVICIO PARTICULAR SIN VI...   \n",
       "4                  ROBO DE MOTOCICLETA SIN VIOLENCIA   \n",
       "\n",
       "                                           Categoria       Sexo  Edad  \\\n",
       "0                             DELITO DE BAJO IMPACTO  Masculino  62.0   \n",
       "1                             DELITO DE BAJO IMPACTO   Femenino  38.0   \n",
       "2  ROBO A CUENTAHABIENTE SALIENDO DEL CAJERO CON ...  Masculino  42.0   \n",
       "3               ROBO DE VEHÍCULO CON Y SIN VIOLENCIA  Masculino  35.0   \n",
       "4               ROBO DE VEHÍCULO CON Y SIN VIOLENCIA  Masculino   NaN   \n",
       "\n",
       "  TipoPersona        CalidadJuridica  ...  Mes_hecho  FechaHecho HoraHecho  \\\n",
       "0      FISICA               OFENDIDO  ...     Agosto  2018-08-29  12:00:00   \n",
       "1      FISICA  VICTIMA Y DENUNCIANTE  ...  Diciembre  2018-12-15  15:00:00   \n",
       "2      FISICA  VICTIMA Y DENUNCIANTE  ...  Diciembre  2018-12-22  15:30:00   \n",
       "3      FISICA  VICTIMA Y DENUNCIANTE  ...      Enero  2019-01-04  06:00:00   \n",
       "4      FISICA                VICTIMA  ...      Enero  2019-01-03  20:00:00   \n",
       "\n",
       "  HoraInicio alcaldia_hechos municipio_hechos                colonia_datos  \\\n",
       "0   12:19:00  ALVARO OBREGON              NaN                GUADALUPE INN   \n",
       "1   12:20:00    AZCAPOTZALCO              NaN  VICTORIA DE LAS DEMOCRACIAS   \n",
       "2   12:23:00        COYOACAN              NaN              COPILCO EL BAJO   \n",
       "3   12:27:00       IZTACALCO              NaN                  PANTITLAN V   \n",
       "4   12:35:00      IZTAPALAPA              NaN         LAS AMERICAS (U HAB)   \n",
       "\n",
       "          fgj_colonia_registro   latitud  longitud  \n",
       "0                GUADALUPE INN  19.36125 -99.18314  \n",
       "1  VICTORIA DE LAS DEMOCRACIAS  19.47181 -99.16458  \n",
       "2   COPILCO UNIVERSIDAD ISSSTE  19.33797 -99.18611  \n",
       "3           AGRÍCOLA PANTITLAN  19.40327 -99.05983  \n",
       "4                  PROGRESISTA  19.35480 -99.06324  \n",
       "\n",
       "[5 rows x 22 columns]"
      ]
     },
     "execution_count": 4,
     "metadata": {},
     "output_type": "execute_result"
    }
   ],
   "source": [
    "crime_data_path = \"\\datasets\\da_victimas_completa_marzo_2023.zip\"\n",
    "\n",
    "zf = zipfile.ZipFile(repo_path+crime_data_path) \n",
    "crimes_raw = pd.read_csv(zf.open('da_victimas_completa_marzo_2023.csv'))\n",
    "print(crimes_raw.shape)\n",
    "crimes_raw.head()\n"
   ]
  },
  {
   "cell_type": "markdown",
   "id": "1d53e6a9-1f94-478b-a6e2-4a1db3c1faf3",
   "metadata": {
    "tags": []
   },
   "source": [
    "## Transforming the crime dataset"
   ]
  },
  {
   "cell_type": "code",
   "execution_count": 5,
   "id": "fb518df3-d95f-49fd-b133-8e636bcf8179",
   "metadata": {
    "tags": []
   },
   "outputs": [
    {
     "data": {
      "text/html": [
       "<div>\n",
       "<style scoped>\n",
       "    .dataframe tbody tr th:only-of-type {\n",
       "        vertical-align: middle;\n",
       "    }\n",
       "\n",
       "    .dataframe tbody tr th {\n",
       "        vertical-align: top;\n",
       "    }\n",
       "\n",
       "    .dataframe thead th {\n",
       "        text-align: right;\n",
       "    }\n",
       "</style>\n",
       "<table border=\"1\" class=\"dataframe\">\n",
       "  <thead>\n",
       "    <tr style=\"text-align: right;\">\n",
       "      <th></th>\n",
       "      <th>idcarpeta</th>\n",
       "      <th>anio_inicio</th>\n",
       "      <th>mes_inicio</th>\n",
       "      <th>fechainicio</th>\n",
       "      <th>delito</th>\n",
       "      <th>categoria</th>\n",
       "      <th>sexo</th>\n",
       "      <th>edad</th>\n",
       "      <th>tipopersona</th>\n",
       "      <th>calidadjuridica</th>\n",
       "      <th>...</th>\n",
       "      <th>mes_hecho</th>\n",
       "      <th>fechahecho</th>\n",
       "      <th>horahecho</th>\n",
       "      <th>horainicio</th>\n",
       "      <th>alcaldia_hechos</th>\n",
       "      <th>municipio_hechos</th>\n",
       "      <th>colonia_datos</th>\n",
       "      <th>fgj_colonia_registro</th>\n",
       "      <th>crimen_lat</th>\n",
       "      <th>crimen_lon</th>\n",
       "    </tr>\n",
       "  </thead>\n",
       "  <tbody>\n",
       "    <tr>\n",
       "      <th>0</th>\n",
       "      <td>8324429.0</td>\n",
       "      <td>2019</td>\n",
       "      <td>Enero</td>\n",
       "      <td>2019-01-04</td>\n",
       "      <td>FRAUDE</td>\n",
       "      <td>DELITO DE BAJO IMPACTO</td>\n",
       "      <td>Masculino</td>\n",
       "      <td>62.0</td>\n",
       "      <td>FISICA</td>\n",
       "      <td>OFENDIDO</td>\n",
       "      <td>...</td>\n",
       "      <td>Agosto</td>\n",
       "      <td>2018-08-29</td>\n",
       "      <td>12:00:00</td>\n",
       "      <td>12:19:00</td>\n",
       "      <td>ALVARO OBREGON</td>\n",
       "      <td>NaN</td>\n",
       "      <td>GUADALUPE INN</td>\n",
       "      <td>GUADALUPE INN</td>\n",
       "      <td>19.36125</td>\n",
       "      <td>-99.18314</td>\n",
       "    </tr>\n",
       "    <tr>\n",
       "      <th>1</th>\n",
       "      <td>8324430.0</td>\n",
       "      <td>2019</td>\n",
       "      <td>Enero</td>\n",
       "      <td>2019-01-04</td>\n",
       "      <td>PRODUCCIÓN, IMPRESIÓN, ENAJENACIÓN, DISTRIBUCI...</td>\n",
       "      <td>DELITO DE BAJO IMPACTO</td>\n",
       "      <td>Femenino</td>\n",
       "      <td>38.0</td>\n",
       "      <td>FISICA</td>\n",
       "      <td>VICTIMA Y DENUNCIANTE</td>\n",
       "      <td>...</td>\n",
       "      <td>Diciembre</td>\n",
       "      <td>2018-12-15</td>\n",
       "      <td>15:00:00</td>\n",
       "      <td>12:20:00</td>\n",
       "      <td>AZCAPOTZALCO</td>\n",
       "      <td>NaN</td>\n",
       "      <td>VICTORIA DE LAS DEMOCRACIAS</td>\n",
       "      <td>VICTORIA DE LAS DEMOCRACIAS</td>\n",
       "      <td>19.47181</td>\n",
       "      <td>-99.16458</td>\n",
       "    </tr>\n",
       "    <tr>\n",
       "      <th>2</th>\n",
       "      <td>8324431.0</td>\n",
       "      <td>2019</td>\n",
       "      <td>Enero</td>\n",
       "      <td>2019-01-04</td>\n",
       "      <td>ROBO A TRANSEUNTE SALIENDO DEL BANCO CON VIOLE...</td>\n",
       "      <td>ROBO A CUENTAHABIENTE SALIENDO DEL CAJERO CON ...</td>\n",
       "      <td>Masculino</td>\n",
       "      <td>42.0</td>\n",
       "      <td>FISICA</td>\n",
       "      <td>VICTIMA Y DENUNCIANTE</td>\n",
       "      <td>...</td>\n",
       "      <td>Diciembre</td>\n",
       "      <td>2018-12-22</td>\n",
       "      <td>15:30:00</td>\n",
       "      <td>12:23:00</td>\n",
       "      <td>COYOACAN</td>\n",
       "      <td>NaN</td>\n",
       "      <td>COPILCO EL BAJO</td>\n",
       "      <td>COPILCO UNIVERSIDAD ISSSTE</td>\n",
       "      <td>19.33797</td>\n",
       "      <td>-99.18611</td>\n",
       "    </tr>\n",
       "    <tr>\n",
       "      <th>3</th>\n",
       "      <td>8324435.0</td>\n",
       "      <td>2019</td>\n",
       "      <td>Enero</td>\n",
       "      <td>2019-01-04</td>\n",
       "      <td>ROBO DE VEHICULO DE SERVICIO PARTICULAR SIN VI...</td>\n",
       "      <td>ROBO DE VEHÍCULO CON Y SIN VIOLENCIA</td>\n",
       "      <td>Masculino</td>\n",
       "      <td>35.0</td>\n",
       "      <td>FISICA</td>\n",
       "      <td>VICTIMA Y DENUNCIANTE</td>\n",
       "      <td>...</td>\n",
       "      <td>Enero</td>\n",
       "      <td>2019-01-04</td>\n",
       "      <td>06:00:00</td>\n",
       "      <td>12:27:00</td>\n",
       "      <td>IZTACALCO</td>\n",
       "      <td>NaN</td>\n",
       "      <td>PANTITLAN V</td>\n",
       "      <td>AGRÍCOLA PANTITLAN</td>\n",
       "      <td>19.40327</td>\n",
       "      <td>-99.05983</td>\n",
       "    </tr>\n",
       "    <tr>\n",
       "      <th>4</th>\n",
       "      <td>8324438.0</td>\n",
       "      <td>2019</td>\n",
       "      <td>Enero</td>\n",
       "      <td>2019-01-04</td>\n",
       "      <td>ROBO DE MOTOCICLETA SIN VIOLENCIA</td>\n",
       "      <td>ROBO DE VEHÍCULO CON Y SIN VIOLENCIA</td>\n",
       "      <td>Masculino</td>\n",
       "      <td>NaN</td>\n",
       "      <td>FISICA</td>\n",
       "      <td>VICTIMA</td>\n",
       "      <td>...</td>\n",
       "      <td>Enero</td>\n",
       "      <td>2019-01-03</td>\n",
       "      <td>20:00:00</td>\n",
       "      <td>12:35:00</td>\n",
       "      <td>IZTAPALAPA</td>\n",
       "      <td>NaN</td>\n",
       "      <td>LAS AMERICAS (U HAB)</td>\n",
       "      <td>PROGRESISTA</td>\n",
       "      <td>19.35480</td>\n",
       "      <td>-99.06324</td>\n",
       "    </tr>\n",
       "  </tbody>\n",
       "</table>\n",
       "<p>5 rows × 22 columns</p>\n",
       "</div>"
      ],
      "text/plain": [
       "   idcarpeta  anio_inicio mes_inicio fechainicio  \\\n",
       "0  8324429.0         2019      Enero  2019-01-04   \n",
       "1  8324430.0         2019      Enero  2019-01-04   \n",
       "2  8324431.0         2019      Enero  2019-01-04   \n",
       "3  8324435.0         2019      Enero  2019-01-04   \n",
       "4  8324438.0         2019      Enero  2019-01-04   \n",
       "\n",
       "                                              delito  \\\n",
       "0                                             FRAUDE   \n",
       "1  PRODUCCIÓN, IMPRESIÓN, ENAJENACIÓN, DISTRIBUCI...   \n",
       "2  ROBO A TRANSEUNTE SALIENDO DEL BANCO CON VIOLE...   \n",
       "3  ROBO DE VEHICULO DE SERVICIO PARTICULAR SIN VI...   \n",
       "4                  ROBO DE MOTOCICLETA SIN VIOLENCIA   \n",
       "\n",
       "                                           categoria       sexo  edad  \\\n",
       "0                             DELITO DE BAJO IMPACTO  Masculino  62.0   \n",
       "1                             DELITO DE BAJO IMPACTO   Femenino  38.0   \n",
       "2  ROBO A CUENTAHABIENTE SALIENDO DEL CAJERO CON ...  Masculino  42.0   \n",
       "3               ROBO DE VEHÍCULO CON Y SIN VIOLENCIA  Masculino  35.0   \n",
       "4               ROBO DE VEHÍCULO CON Y SIN VIOLENCIA  Masculino   NaN   \n",
       "\n",
       "  tipopersona        calidadjuridica  ...  mes_hecho  fechahecho horahecho  \\\n",
       "0      FISICA               OFENDIDO  ...     Agosto  2018-08-29  12:00:00   \n",
       "1      FISICA  VICTIMA Y DENUNCIANTE  ...  Diciembre  2018-12-15  15:00:00   \n",
       "2      FISICA  VICTIMA Y DENUNCIANTE  ...  Diciembre  2018-12-22  15:30:00   \n",
       "3      FISICA  VICTIMA Y DENUNCIANTE  ...      Enero  2019-01-04  06:00:00   \n",
       "4      FISICA                VICTIMA  ...      Enero  2019-01-03  20:00:00   \n",
       "\n",
       "  horainicio alcaldia_hechos municipio_hechos                colonia_datos  \\\n",
       "0   12:19:00  ALVARO OBREGON              NaN                GUADALUPE INN   \n",
       "1   12:20:00    AZCAPOTZALCO              NaN  VICTORIA DE LAS DEMOCRACIAS   \n",
       "2   12:23:00        COYOACAN              NaN              COPILCO EL BAJO   \n",
       "3   12:27:00       IZTACALCO              NaN                  PANTITLAN V   \n",
       "4   12:35:00      IZTAPALAPA              NaN         LAS AMERICAS (U HAB)   \n",
       "\n",
       "          fgj_colonia_registro crimen_lat crimen_lon  \n",
       "0                GUADALUPE INN   19.36125  -99.18314  \n",
       "1  VICTORIA DE LAS DEMOCRACIAS   19.47181  -99.16458  \n",
       "2   COPILCO UNIVERSIDAD ISSSTE   19.33797  -99.18611  \n",
       "3           AGRÍCOLA PANTITLAN   19.40327  -99.05983  \n",
       "4                  PROGRESISTA   19.35480  -99.06324  \n",
       "\n",
       "[5 rows x 22 columns]"
      ]
     },
     "execution_count": 5,
     "metadata": {},
     "output_type": "execute_result"
    }
   ],
   "source": [
    "#Change column names\n",
    "crimes_raw.rename(columns = lambda x : x.lower() , inplace = True)\n",
    "crimes_raw.columns = crimes_raw.columns.str.replace('ñ', 'ni')\n",
    "crimes_raw.rename(columns = {\"latitud\":\"crimen_lat\", \"longitud\":\"crimen_lon\"} , inplace = True)\n",
    "\n",
    "crimes_raw.head()"
   ]
  },
  {
   "cell_type": "markdown",
   "id": "5ed98a77-1630-4420-8374-0ad8f8959127",
   "metadata": {},
   "source": [
    "### Handling null values\n",
    "\n",
    "There are a lot of columns with null values. Since crimes dataset already has more than 1M records, erasing the records that contain null values could help to have a lighter, more accurate dataset"
   ]
  },
  {
   "cell_type": "code",
   "execution_count": 6,
   "id": "f14626c7-2f96-4cdc-9847-50e5f054499d",
   "metadata": {
    "tags": []
   },
   "outputs": [
    {
     "name": "stdout",
     "output_type": "stream",
     "text": [
      "idcarpeta                     0\n",
      "anio_inicio                   0\n",
      "mes_inicio                    0\n",
      "fechainicio                   0\n",
      "delito                        0\n",
      "categoria                     0\n",
      "sexo                     190025\n",
      "edad                     366188\n",
      "tipopersona                6645\n",
      "calidadjuridica               1\n",
      "competencia                   0\n",
      "anio_hecho                  377\n",
      "mes_hecho                   377\n",
      "fechahecho                  377\n",
      "horahecho                   368\n",
      "horainicio                    1\n",
      "alcaldia_hechos               0\n",
      "municipio_hechos        1028246\n",
      "colonia_datos             73721\n",
      "fgj_colonia_registro      50410\n",
      "crimen_lat                50202\n",
      "crimen_lon                50204\n",
      "dtype: int64\n"
     ]
    }
   ],
   "source": [
    "null_counts = crimes_raw.isnull().sum()\n",
    "print(null_counts)"
   ]
  },
  {
   "cell_type": "markdown",
   "id": "b6c03944-440e-4110-a8ad-c27cff0ba9d9",
   "metadata": {},
   "source": [
    "Almost every value in column *municipio_hechos* is null, so this column will be dropped. After that, every row containing null values will be deleted. An exception is done for column *edad*, so that most of the rows are kept.\n"
   ]
  },
  {
   "cell_type": "code",
   "execution_count": 7,
   "id": "64cd4697-6412-44c1-81ec-828a02946d67",
   "metadata": {
    "tags": []
   },
   "outputs": [],
   "source": [
    "del crimes_raw['municipio_hechos']"
   ]
  },
  {
   "cell_type": "code",
   "execution_count": 8,
   "id": "35d60585-736a-464a-9ce9-171488782744",
   "metadata": {
    "tags": []
   },
   "outputs": [
    {
     "name": "stdout",
     "output_type": "stream",
     "text": [
      "Original crime dataset shape is: (1038430, 21)\n",
      "The shape of the new crime dataset without null values is: (784813, 21)\n"
     ]
    },
    {
     "data": {
      "text/html": [
       "<div>\n",
       "<style scoped>\n",
       "    .dataframe tbody tr th:only-of-type {\n",
       "        vertical-align: middle;\n",
       "    }\n",
       "\n",
       "    .dataframe tbody tr th {\n",
       "        vertical-align: top;\n",
       "    }\n",
       "\n",
       "    .dataframe thead th {\n",
       "        text-align: right;\n",
       "    }\n",
       "</style>\n",
       "<table border=\"1\" class=\"dataframe\">\n",
       "  <thead>\n",
       "    <tr style=\"text-align: right;\">\n",
       "      <th></th>\n",
       "      <th>idcarpeta</th>\n",
       "      <th>anio_inicio</th>\n",
       "      <th>mes_inicio</th>\n",
       "      <th>fechainicio</th>\n",
       "      <th>delito</th>\n",
       "      <th>categoria</th>\n",
       "      <th>sexo</th>\n",
       "      <th>edad</th>\n",
       "      <th>tipopersona</th>\n",
       "      <th>calidadjuridica</th>\n",
       "      <th>...</th>\n",
       "      <th>anio_hecho</th>\n",
       "      <th>mes_hecho</th>\n",
       "      <th>fechahecho</th>\n",
       "      <th>horahecho</th>\n",
       "      <th>horainicio</th>\n",
       "      <th>alcaldia_hechos</th>\n",
       "      <th>colonia_datos</th>\n",
       "      <th>fgj_colonia_registro</th>\n",
       "      <th>crimen_lat</th>\n",
       "      <th>crimen_lon</th>\n",
       "    </tr>\n",
       "  </thead>\n",
       "  <tbody>\n",
       "    <tr>\n",
       "      <th>0</th>\n",
       "      <td>8324429.0</td>\n",
       "      <td>2019</td>\n",
       "      <td>Enero</td>\n",
       "      <td>2019-01-04</td>\n",
       "      <td>FRAUDE</td>\n",
       "      <td>DELITO DE BAJO IMPACTO</td>\n",
       "      <td>Masculino</td>\n",
       "      <td>62.0</td>\n",
       "      <td>FISICA</td>\n",
       "      <td>OFENDIDO</td>\n",
       "      <td>...</td>\n",
       "      <td>2018.0</td>\n",
       "      <td>Agosto</td>\n",
       "      <td>2018-08-29</td>\n",
       "      <td>12:00:00</td>\n",
       "      <td>12:19:00</td>\n",
       "      <td>ALVARO OBREGON</td>\n",
       "      <td>GUADALUPE INN</td>\n",
       "      <td>GUADALUPE INN</td>\n",
       "      <td>19.36125</td>\n",
       "      <td>-99.18314</td>\n",
       "    </tr>\n",
       "    <tr>\n",
       "      <th>1</th>\n",
       "      <td>8324430.0</td>\n",
       "      <td>2019</td>\n",
       "      <td>Enero</td>\n",
       "      <td>2019-01-04</td>\n",
       "      <td>PRODUCCIÓN, IMPRESIÓN, ENAJENACIÓN, DISTRIBUCI...</td>\n",
       "      <td>DELITO DE BAJO IMPACTO</td>\n",
       "      <td>Femenino</td>\n",
       "      <td>38.0</td>\n",
       "      <td>FISICA</td>\n",
       "      <td>VICTIMA Y DENUNCIANTE</td>\n",
       "      <td>...</td>\n",
       "      <td>2018.0</td>\n",
       "      <td>Diciembre</td>\n",
       "      <td>2018-12-15</td>\n",
       "      <td>15:00:00</td>\n",
       "      <td>12:20:00</td>\n",
       "      <td>AZCAPOTZALCO</td>\n",
       "      <td>VICTORIA DE LAS DEMOCRACIAS</td>\n",
       "      <td>VICTORIA DE LAS DEMOCRACIAS</td>\n",
       "      <td>19.47181</td>\n",
       "      <td>-99.16458</td>\n",
       "    </tr>\n",
       "    <tr>\n",
       "      <th>2</th>\n",
       "      <td>8324431.0</td>\n",
       "      <td>2019</td>\n",
       "      <td>Enero</td>\n",
       "      <td>2019-01-04</td>\n",
       "      <td>ROBO A TRANSEUNTE SALIENDO DEL BANCO CON VIOLE...</td>\n",
       "      <td>ROBO A CUENTAHABIENTE SALIENDO DEL CAJERO CON ...</td>\n",
       "      <td>Masculino</td>\n",
       "      <td>42.0</td>\n",
       "      <td>FISICA</td>\n",
       "      <td>VICTIMA Y DENUNCIANTE</td>\n",
       "      <td>...</td>\n",
       "      <td>2018.0</td>\n",
       "      <td>Diciembre</td>\n",
       "      <td>2018-12-22</td>\n",
       "      <td>15:30:00</td>\n",
       "      <td>12:23:00</td>\n",
       "      <td>COYOACAN</td>\n",
       "      <td>COPILCO EL BAJO</td>\n",
       "      <td>COPILCO UNIVERSIDAD ISSSTE</td>\n",
       "      <td>19.33797</td>\n",
       "      <td>-99.18611</td>\n",
       "    </tr>\n",
       "    <tr>\n",
       "      <th>3</th>\n",
       "      <td>8324435.0</td>\n",
       "      <td>2019</td>\n",
       "      <td>Enero</td>\n",
       "      <td>2019-01-04</td>\n",
       "      <td>ROBO DE VEHICULO DE SERVICIO PARTICULAR SIN VI...</td>\n",
       "      <td>ROBO DE VEHÍCULO CON Y SIN VIOLENCIA</td>\n",
       "      <td>Masculino</td>\n",
       "      <td>35.0</td>\n",
       "      <td>FISICA</td>\n",
       "      <td>VICTIMA Y DENUNCIANTE</td>\n",
       "      <td>...</td>\n",
       "      <td>2019.0</td>\n",
       "      <td>Enero</td>\n",
       "      <td>2019-01-04</td>\n",
       "      <td>06:00:00</td>\n",
       "      <td>12:27:00</td>\n",
       "      <td>IZTACALCO</td>\n",
       "      <td>PANTITLAN V</td>\n",
       "      <td>AGRÍCOLA PANTITLAN</td>\n",
       "      <td>19.40327</td>\n",
       "      <td>-99.05983</td>\n",
       "    </tr>\n",
       "    <tr>\n",
       "      <th>4</th>\n",
       "      <td>8324438.0</td>\n",
       "      <td>2019</td>\n",
       "      <td>Enero</td>\n",
       "      <td>2019-01-04</td>\n",
       "      <td>ROBO DE MOTOCICLETA SIN VIOLENCIA</td>\n",
       "      <td>ROBO DE VEHÍCULO CON Y SIN VIOLENCIA</td>\n",
       "      <td>Masculino</td>\n",
       "      <td>NaN</td>\n",
       "      <td>FISICA</td>\n",
       "      <td>VICTIMA</td>\n",
       "      <td>...</td>\n",
       "      <td>2019.0</td>\n",
       "      <td>Enero</td>\n",
       "      <td>2019-01-03</td>\n",
       "      <td>20:00:00</td>\n",
       "      <td>12:35:00</td>\n",
       "      <td>IZTAPALAPA</td>\n",
       "      <td>LAS AMERICAS (U HAB)</td>\n",
       "      <td>PROGRESISTA</td>\n",
       "      <td>19.35480</td>\n",
       "      <td>-99.06324</td>\n",
       "    </tr>\n",
       "  </tbody>\n",
       "</table>\n",
       "<p>5 rows × 21 columns</p>\n",
       "</div>"
      ],
      "text/plain": [
       "   idcarpeta  anio_inicio mes_inicio fechainicio  \\\n",
       "0  8324429.0         2019      Enero  2019-01-04   \n",
       "1  8324430.0         2019      Enero  2019-01-04   \n",
       "2  8324431.0         2019      Enero  2019-01-04   \n",
       "3  8324435.0         2019      Enero  2019-01-04   \n",
       "4  8324438.0         2019      Enero  2019-01-04   \n",
       "\n",
       "                                              delito  \\\n",
       "0                                             FRAUDE   \n",
       "1  PRODUCCIÓN, IMPRESIÓN, ENAJENACIÓN, DISTRIBUCI...   \n",
       "2  ROBO A TRANSEUNTE SALIENDO DEL BANCO CON VIOLE...   \n",
       "3  ROBO DE VEHICULO DE SERVICIO PARTICULAR SIN VI...   \n",
       "4                  ROBO DE MOTOCICLETA SIN VIOLENCIA   \n",
       "\n",
       "                                           categoria       sexo  edad  \\\n",
       "0                             DELITO DE BAJO IMPACTO  Masculino  62.0   \n",
       "1                             DELITO DE BAJO IMPACTO   Femenino  38.0   \n",
       "2  ROBO A CUENTAHABIENTE SALIENDO DEL CAJERO CON ...  Masculino  42.0   \n",
       "3               ROBO DE VEHÍCULO CON Y SIN VIOLENCIA  Masculino  35.0   \n",
       "4               ROBO DE VEHÍCULO CON Y SIN VIOLENCIA  Masculino   NaN   \n",
       "\n",
       "  tipopersona        calidadjuridica  ... anio_hecho  mes_hecho  fechahecho  \\\n",
       "0      FISICA               OFENDIDO  ...     2018.0     Agosto  2018-08-29   \n",
       "1      FISICA  VICTIMA Y DENUNCIANTE  ...     2018.0  Diciembre  2018-12-15   \n",
       "2      FISICA  VICTIMA Y DENUNCIANTE  ...     2018.0  Diciembre  2018-12-22   \n",
       "3      FISICA  VICTIMA Y DENUNCIANTE  ...     2019.0      Enero  2019-01-04   \n",
       "4      FISICA                VICTIMA  ...     2019.0      Enero  2019-01-03   \n",
       "\n",
       "  horahecho horainicio alcaldia_hechos                colonia_datos  \\\n",
       "0  12:00:00   12:19:00  ALVARO OBREGON                GUADALUPE INN   \n",
       "1  15:00:00   12:20:00    AZCAPOTZALCO  VICTORIA DE LAS DEMOCRACIAS   \n",
       "2  15:30:00   12:23:00        COYOACAN              COPILCO EL BAJO   \n",
       "3  06:00:00   12:27:00       IZTACALCO                  PANTITLAN V   \n",
       "4  20:00:00   12:35:00      IZTAPALAPA         LAS AMERICAS (U HAB)   \n",
       "\n",
       "          fgj_colonia_registro crimen_lat  crimen_lon  \n",
       "0                GUADALUPE INN   19.36125   -99.18314  \n",
       "1  VICTORIA DE LAS DEMOCRACIAS   19.47181   -99.16458  \n",
       "2   COPILCO UNIVERSIDAD ISSSTE   19.33797   -99.18611  \n",
       "3           AGRÍCOLA PANTITLAN   19.40327   -99.05983  \n",
       "4                  PROGRESISTA   19.35480   -99.06324  \n",
       "\n",
       "[5 rows x 21 columns]"
      ]
     },
     "execution_count": 8,
     "metadata": {},
     "output_type": "execute_result"
    }
   ],
   "source": [
    "columns_to_dropna = crimes_raw.columns.drop('edad')\n",
    "crimes = crimes_raw.dropna(subset = columns_to_dropna).copy()\n",
    "\n",
    "print('Original crime dataset shape is: {}'.format(crimes_raw.shape))\n",
    "print('The shape of the new crime dataset without null values is: {}'.format(crimes.shape))\n",
    "\n",
    "crimes.head()\n"
   ]
  },
  {
   "cell_type": "markdown",
   "id": "1b0bebd1-1558-4650-8ab8-2d042187cdf8",
   "metadata": {},
   "source": [
    "The next step is to round the numeric values to avoid unnecessary decimals."
   ]
  },
  {
   "cell_type": "code",
   "execution_count": 9,
   "id": "24fafcf6-b090-4904-8768-9ee3f46da9b6",
   "metadata": {
    "tags": []
   },
   "outputs": [],
   "source": [
    "crimes[\"idcarpeta\"]  = crimes[\"idcarpeta\"].round().astype(int)\n",
    "crimes[\"anio_hecho\"] = crimes[\"anio_hecho\"].round().astype(int)\n",
    "crimes[\"idcarpeta\"]  = crimes[\"idcarpeta\"].round().astype(int)\n",
    "\n",
    "average              = crimes['edad'].mean()\n",
    "crimes[\"edad\"]       = crimes[\"edad\"].fillna(average)\n",
    "crimes[\"edad\"]       = crimes[\"edad\"].round().astype(int)\n"
   ]
  },
  {
   "cell_type": "markdown",
   "id": "e9ae459b-5fb3-4f78-a459-2fea48bf7d6c",
   "metadata": {},
   "source": [
    "Converting month names to numeric values"
   ]
  },
  {
   "cell_type": "code",
   "execution_count": 10,
   "id": "24c5068e-d6ec-47e1-bc8f-76e8d2d469a5",
   "metadata": {
    "tags": []
   },
   "outputs": [
    {
     "data": {
      "text/html": [
       "<div>\n",
       "<style scoped>\n",
       "    .dataframe tbody tr th:only-of-type {\n",
       "        vertical-align: middle;\n",
       "    }\n",
       "\n",
       "    .dataframe tbody tr th {\n",
       "        vertical-align: top;\n",
       "    }\n",
       "\n",
       "    .dataframe thead th {\n",
       "        text-align: right;\n",
       "    }\n",
       "</style>\n",
       "<table border=\"1\" class=\"dataframe\">\n",
       "  <thead>\n",
       "    <tr style=\"text-align: right;\">\n",
       "      <th></th>\n",
       "      <th>idcarpeta</th>\n",
       "      <th>anio_inicio</th>\n",
       "      <th>mes_inicio</th>\n",
       "      <th>fechainicio</th>\n",
       "      <th>delito</th>\n",
       "      <th>categoria</th>\n",
       "      <th>sexo</th>\n",
       "      <th>edad</th>\n",
       "      <th>tipopersona</th>\n",
       "      <th>calidadjuridica</th>\n",
       "      <th>...</th>\n",
       "      <th>anio_hecho</th>\n",
       "      <th>mes_hecho</th>\n",
       "      <th>fechahecho</th>\n",
       "      <th>horahecho</th>\n",
       "      <th>horainicio</th>\n",
       "      <th>alcaldia_hechos</th>\n",
       "      <th>colonia_datos</th>\n",
       "      <th>fgj_colonia_registro</th>\n",
       "      <th>crimen_lat</th>\n",
       "      <th>crimen_lon</th>\n",
       "    </tr>\n",
       "  </thead>\n",
       "  <tbody>\n",
       "    <tr>\n",
       "      <th>0</th>\n",
       "      <td>8324429</td>\n",
       "      <td>2019</td>\n",
       "      <td>1</td>\n",
       "      <td>2019-01-04</td>\n",
       "      <td>FRAUDE</td>\n",
       "      <td>DELITO DE BAJO IMPACTO</td>\n",
       "      <td>Masculino</td>\n",
       "      <td>62</td>\n",
       "      <td>FISICA</td>\n",
       "      <td>OFENDIDO</td>\n",
       "      <td>...</td>\n",
       "      <td>2018</td>\n",
       "      <td>8</td>\n",
       "      <td>2018-08-29</td>\n",
       "      <td>12:00:00</td>\n",
       "      <td>12:19:00</td>\n",
       "      <td>ALVARO OBREGON</td>\n",
       "      <td>GUADALUPE INN</td>\n",
       "      <td>GUADALUPE INN</td>\n",
       "      <td>19.36125</td>\n",
       "      <td>-99.18314</td>\n",
       "    </tr>\n",
       "    <tr>\n",
       "      <th>1</th>\n",
       "      <td>8324430</td>\n",
       "      <td>2019</td>\n",
       "      <td>1</td>\n",
       "      <td>2019-01-04</td>\n",
       "      <td>PRODUCCIÓN, IMPRESIÓN, ENAJENACIÓN, DISTRIBUCI...</td>\n",
       "      <td>DELITO DE BAJO IMPACTO</td>\n",
       "      <td>Femenino</td>\n",
       "      <td>38</td>\n",
       "      <td>FISICA</td>\n",
       "      <td>VICTIMA Y DENUNCIANTE</td>\n",
       "      <td>...</td>\n",
       "      <td>2018</td>\n",
       "      <td>12</td>\n",
       "      <td>2018-12-15</td>\n",
       "      <td>15:00:00</td>\n",
       "      <td>12:20:00</td>\n",
       "      <td>AZCAPOTZALCO</td>\n",
       "      <td>VICTORIA DE LAS DEMOCRACIAS</td>\n",
       "      <td>VICTORIA DE LAS DEMOCRACIAS</td>\n",
       "      <td>19.47181</td>\n",
       "      <td>-99.16458</td>\n",
       "    </tr>\n",
       "    <tr>\n",
       "      <th>2</th>\n",
       "      <td>8324431</td>\n",
       "      <td>2019</td>\n",
       "      <td>1</td>\n",
       "      <td>2019-01-04</td>\n",
       "      <td>ROBO A TRANSEUNTE SALIENDO DEL BANCO CON VIOLE...</td>\n",
       "      <td>ROBO A CUENTAHABIENTE SALIENDO DEL CAJERO CON ...</td>\n",
       "      <td>Masculino</td>\n",
       "      <td>42</td>\n",
       "      <td>FISICA</td>\n",
       "      <td>VICTIMA Y DENUNCIANTE</td>\n",
       "      <td>...</td>\n",
       "      <td>2018</td>\n",
       "      <td>12</td>\n",
       "      <td>2018-12-22</td>\n",
       "      <td>15:30:00</td>\n",
       "      <td>12:23:00</td>\n",
       "      <td>COYOACAN</td>\n",
       "      <td>COPILCO EL BAJO</td>\n",
       "      <td>COPILCO UNIVERSIDAD ISSSTE</td>\n",
       "      <td>19.33797</td>\n",
       "      <td>-99.18611</td>\n",
       "    </tr>\n",
       "    <tr>\n",
       "      <th>3</th>\n",
       "      <td>8324435</td>\n",
       "      <td>2019</td>\n",
       "      <td>1</td>\n",
       "      <td>2019-01-04</td>\n",
       "      <td>ROBO DE VEHICULO DE SERVICIO PARTICULAR SIN VI...</td>\n",
       "      <td>ROBO DE VEHÍCULO CON Y SIN VIOLENCIA</td>\n",
       "      <td>Masculino</td>\n",
       "      <td>35</td>\n",
       "      <td>FISICA</td>\n",
       "      <td>VICTIMA Y DENUNCIANTE</td>\n",
       "      <td>...</td>\n",
       "      <td>2019</td>\n",
       "      <td>1</td>\n",
       "      <td>2019-01-04</td>\n",
       "      <td>06:00:00</td>\n",
       "      <td>12:27:00</td>\n",
       "      <td>IZTACALCO</td>\n",
       "      <td>PANTITLAN V</td>\n",
       "      <td>AGRÍCOLA PANTITLAN</td>\n",
       "      <td>19.40327</td>\n",
       "      <td>-99.05983</td>\n",
       "    </tr>\n",
       "    <tr>\n",
       "      <th>4</th>\n",
       "      <td>8324438</td>\n",
       "      <td>2019</td>\n",
       "      <td>1</td>\n",
       "      <td>2019-01-04</td>\n",
       "      <td>ROBO DE MOTOCICLETA SIN VIOLENCIA</td>\n",
       "      <td>ROBO DE VEHÍCULO CON Y SIN VIOLENCIA</td>\n",
       "      <td>Masculino</td>\n",
       "      <td>39</td>\n",
       "      <td>FISICA</td>\n",
       "      <td>VICTIMA</td>\n",
       "      <td>...</td>\n",
       "      <td>2019</td>\n",
       "      <td>1</td>\n",
       "      <td>2019-01-03</td>\n",
       "      <td>20:00:00</td>\n",
       "      <td>12:35:00</td>\n",
       "      <td>IZTAPALAPA</td>\n",
       "      <td>LAS AMERICAS (U HAB)</td>\n",
       "      <td>PROGRESISTA</td>\n",
       "      <td>19.35480</td>\n",
       "      <td>-99.06324</td>\n",
       "    </tr>\n",
       "  </tbody>\n",
       "</table>\n",
       "<p>5 rows × 21 columns</p>\n",
       "</div>"
      ],
      "text/plain": [
       "   idcarpeta  anio_inicio  mes_inicio fechainicio  \\\n",
       "0    8324429         2019           1  2019-01-04   \n",
       "1    8324430         2019           1  2019-01-04   \n",
       "2    8324431         2019           1  2019-01-04   \n",
       "3    8324435         2019           1  2019-01-04   \n",
       "4    8324438         2019           1  2019-01-04   \n",
       "\n",
       "                                              delito  \\\n",
       "0                                             FRAUDE   \n",
       "1  PRODUCCIÓN, IMPRESIÓN, ENAJENACIÓN, DISTRIBUCI...   \n",
       "2  ROBO A TRANSEUNTE SALIENDO DEL BANCO CON VIOLE...   \n",
       "3  ROBO DE VEHICULO DE SERVICIO PARTICULAR SIN VI...   \n",
       "4                  ROBO DE MOTOCICLETA SIN VIOLENCIA   \n",
       "\n",
       "                                           categoria       sexo  edad  \\\n",
       "0                             DELITO DE BAJO IMPACTO  Masculino    62   \n",
       "1                             DELITO DE BAJO IMPACTO   Femenino    38   \n",
       "2  ROBO A CUENTAHABIENTE SALIENDO DEL CAJERO CON ...  Masculino    42   \n",
       "3               ROBO DE VEHÍCULO CON Y SIN VIOLENCIA  Masculino    35   \n",
       "4               ROBO DE VEHÍCULO CON Y SIN VIOLENCIA  Masculino    39   \n",
       "\n",
       "  tipopersona        calidadjuridica  ... anio_hecho  mes_hecho  fechahecho  \\\n",
       "0      FISICA               OFENDIDO  ...       2018          8  2018-08-29   \n",
       "1      FISICA  VICTIMA Y DENUNCIANTE  ...       2018         12  2018-12-15   \n",
       "2      FISICA  VICTIMA Y DENUNCIANTE  ...       2018         12  2018-12-22   \n",
       "3      FISICA  VICTIMA Y DENUNCIANTE  ...       2019          1  2019-01-04   \n",
       "4      FISICA                VICTIMA  ...       2019          1  2019-01-03   \n",
       "\n",
       "  horahecho horainicio alcaldia_hechos                colonia_datos  \\\n",
       "0  12:00:00   12:19:00  ALVARO OBREGON                GUADALUPE INN   \n",
       "1  15:00:00   12:20:00    AZCAPOTZALCO  VICTORIA DE LAS DEMOCRACIAS   \n",
       "2  15:30:00   12:23:00        COYOACAN              COPILCO EL BAJO   \n",
       "3  06:00:00   12:27:00       IZTACALCO                  PANTITLAN V   \n",
       "4  20:00:00   12:35:00      IZTAPALAPA         LAS AMERICAS (U HAB)   \n",
       "\n",
       "          fgj_colonia_registro crimen_lat  crimen_lon  \n",
       "0                GUADALUPE INN   19.36125   -99.18314  \n",
       "1  VICTORIA DE LAS DEMOCRACIAS   19.47181   -99.16458  \n",
       "2   COPILCO UNIVERSIDAD ISSSTE   19.33797   -99.18611  \n",
       "3           AGRÍCOLA PANTITLAN   19.40327   -99.05983  \n",
       "4                  PROGRESISTA   19.35480   -99.06324  \n",
       "\n",
       "[5 rows x 21 columns]"
      ]
     },
     "execution_count": 10,
     "metadata": {},
     "output_type": "execute_result"
    }
   ],
   "source": [
    "month_name_to_number = {\n",
    "    'enero': 1,\n",
    "    'febrero': 2,\n",
    "    'marzo': 3,\n",
    "    'abril': 4,\n",
    "    'mayo': 5,\n",
    "    'junio': 6,\n",
    "    'julio': 7,\n",
    "    'agosto': 8,\n",
    "    'septiembre': 9,\n",
    "    'octubre': 10,\n",
    "    'noviembre': 11,\n",
    "    'diciembre': 12\n",
    "}\n",
    "\n",
    "crimes[\"mes_inicio\"] = crimes[\"mes_inicio\"].str.lower().map(month_name_to_number) \n",
    "crimes[\"mes_hecho\"] = crimes[\"mes_hecho\"].str.lower().map(month_name_to_number) \n",
    "\n",
    "crimes.head()"
   ]
  },
  {
   "cell_type": "code",
   "execution_count": 11,
   "id": "3737bc38-cf74-4b3e-b096-cff721b227ba",
   "metadata": {
    "tags": []
   },
   "outputs": [
    {
     "data": {
      "text/plain": [
       "(610309, 21)"
      ]
     },
     "execution_count": 11,
     "metadata": {},
     "output_type": "execute_result"
    }
   ],
   "source": [
    "crimes[crimes[\"colonia_datos\"] != crimes[\"fgj_colonia_registro\"]].shape"
   ]
  },
  {
   "cell_type": "markdown",
   "id": "da761bc5-d57d-4f4c-a353-bb8b163bd3b3",
   "metadata": {},
   "source": [
    "There are a lot of records where *colonia_datos* and *fgj_colonia_registro* do not match with each other. The reason is that *colonia* names have variations between data sources. Column *fgj_colonia_registro* contains more generic names, so this will be used. The Column *colonia_datos* might help with the homologation process. If it doesnt, it will be just deleted."
   ]
  },
  {
   "cell_type": "code",
   "execution_count": 12,
   "id": "3fdc0da0-4cf1-4478-9daa-3ac9bf348206",
   "metadata": {
    "tags": []
   },
   "outputs": [],
   "source": [
    "crimes.reset_index(drop=True, inplace =True)\n"
   ]
  },
  {
   "cell_type": "markdown",
   "id": "090041eb-63b6-48f4-8297-15c39c3188f2",
   "metadata": {},
   "source": [
    "### Checking for duplicates"
   ]
  },
  {
   "cell_type": "markdown",
   "id": "f013d953-a86e-4361-9a76-d326fa777ae2",
   "metadata": {},
   "source": [
    "The following lines suggests that there might be a lot of reasons why there are duplicates on the *crimes.idcarpeta* column. For example, the same *idcarpeta* crime can have multiple victims. And those victims can have the same age and gender. For "
   ]
  },
  {
   "cell_type": "code",
   "execution_count": 13,
   "id": "dfc5745f-999a-4e24-b7c2-2e8151cb546d",
   "metadata": {
    "tags": []
   },
   "outputs": [
    {
     "name": "stdout",
     "output_type": "stream",
     "text": [
      "Number of duplicated idcarpetas: 55679\n"
     ]
    },
    {
     "data": {
      "text/html": [
       "<div>\n",
       "<style scoped>\n",
       "    .dataframe tbody tr th:only-of-type {\n",
       "        vertical-align: middle;\n",
       "    }\n",
       "\n",
       "    .dataframe tbody tr th {\n",
       "        vertical-align: top;\n",
       "    }\n",
       "\n",
       "    .dataframe thead th {\n",
       "        text-align: right;\n",
       "    }\n",
       "</style>\n",
       "<table border=\"1\" class=\"dataframe\">\n",
       "  <thead>\n",
       "    <tr style=\"text-align: right;\">\n",
       "      <th></th>\n",
       "      <th>idcarpeta</th>\n",
       "      <th>delito</th>\n",
       "      <th>categoria</th>\n",
       "      <th>sexo</th>\n",
       "      <th>edad</th>\n",
       "      <th>tipopersona</th>\n",
       "      <th>fgj_colonia_registro</th>\n",
       "      <th>alcaldia_hechos</th>\n",
       "    </tr>\n",
       "  </thead>\n",
       "  <tbody>\n",
       "    <tr>\n",
       "      <th>95152</th>\n",
       "      <td>8322427</td>\n",
       "      <td>ROBO A NEGOCIO CON VIOLENCIA</td>\n",
       "      <td>ROBO A NEGOCIO CON VIOLENCIA</td>\n",
       "      <td>Femenino</td>\n",
       "      <td>43</td>\n",
       "      <td>FISICA</td>\n",
       "      <td>EL RETOÑO</td>\n",
       "      <td>IZTAPALAPA</td>\n",
       "    </tr>\n",
       "    <tr>\n",
       "      <th>95153</th>\n",
       "      <td>8322427</td>\n",
       "      <td>ROBO A NEGOCIO CON VIOLENCIA</td>\n",
       "      <td>ROBO A NEGOCIO CON VIOLENCIA</td>\n",
       "      <td>Masculino</td>\n",
       "      <td>55</td>\n",
       "      <td>FISICA</td>\n",
       "      <td>EL RETOÑO</td>\n",
       "      <td>IZTAPALAPA</td>\n",
       "    </tr>\n",
       "    <tr>\n",
       "      <th>49556</th>\n",
       "      <td>8322439</td>\n",
       "      <td>ROBO A TRANSEUNTE EN VIA PUBLICA CON VIOLENCIA</td>\n",
       "      <td>ROBO A TRANSEUNTE EN VÍA PÚBLICA CON Y SIN VIO...</td>\n",
       "      <td>Femenino</td>\n",
       "      <td>45</td>\n",
       "      <td>FISICA</td>\n",
       "      <td>EL ERMITAÑO</td>\n",
       "      <td>LA MAGDALENA CONTRERAS</td>\n",
       "    </tr>\n",
       "    <tr>\n",
       "      <th>106332</th>\n",
       "      <td>8322439</td>\n",
       "      <td>ROBO A TRANSEUNTE EN VIA PUBLICA CON VIOLENCIA</td>\n",
       "      <td>ROBO A TRANSEUNTE EN VÍA PÚBLICA CON Y SIN VIO...</td>\n",
       "      <td>Masculino</td>\n",
       "      <td>15</td>\n",
       "      <td>FISICA</td>\n",
       "      <td>EL ERMITAÑO</td>\n",
       "      <td>LA MAGDALENA CONTRERAS</td>\n",
       "    </tr>\n",
       "    <tr>\n",
       "      <th>49578</th>\n",
       "      <td>8322533</td>\n",
       "      <td>VIOLENCIA FAMILIAR</td>\n",
       "      <td>DELITO DE BAJO IMPACTO</td>\n",
       "      <td>Masculino</td>\n",
       "      <td>1</td>\n",
       "      <td>FISICA</td>\n",
       "      <td>SAN MARCOS NORTE</td>\n",
       "      <td>XOCHIMILCO</td>\n",
       "    </tr>\n",
       "    <tr>\n",
       "      <th>95184</th>\n",
       "      <td>8322533</td>\n",
       "      <td>VIOLENCIA FAMILIAR</td>\n",
       "      <td>DELITO DE BAJO IMPACTO</td>\n",
       "      <td>Femenino</td>\n",
       "      <td>4</td>\n",
       "      <td>FISICA</td>\n",
       "      <td>SAN MARCOS NORTE</td>\n",
       "      <td>XOCHIMILCO</td>\n",
       "    </tr>\n",
       "    <tr>\n",
       "      <th>106354</th>\n",
       "      <td>8322550</td>\n",
       "      <td>HOMICIDIO POR ARMA DE FUEGO</td>\n",
       "      <td>HOMICIDIO DOLOSO</td>\n",
       "      <td>Masculino</td>\n",
       "      <td>26</td>\n",
       "      <td>FISICA</td>\n",
       "      <td>MOSCO CHINAMPA</td>\n",
       "      <td>IZTACALCO</td>\n",
       "    </tr>\n",
       "    <tr>\n",
       "      <th>95192</th>\n",
       "      <td>8322550</td>\n",
       "      <td>HOMICIDIO POR ARMA DE FUEGO</td>\n",
       "      <td>HOMICIDIO DOLOSO</td>\n",
       "      <td>Masculino</td>\n",
       "      <td>30</td>\n",
       "      <td>FISICA</td>\n",
       "      <td>MOSCO CHINAMPA</td>\n",
       "      <td>IZTACALCO</td>\n",
       "    </tr>\n",
       "    <tr>\n",
       "      <th>95198</th>\n",
       "      <td>8322572</td>\n",
       "      <td>DAÑO EN PROPIEDAD AJENA CULPOSA POR TRÁNSITO V...</td>\n",
       "      <td>DELITO DE BAJO IMPACTO</td>\n",
       "      <td>Femenino</td>\n",
       "      <td>39</td>\n",
       "      <td>FISICA</td>\n",
       "      <td>LAS AGUILAS 3ER PARQUE</td>\n",
       "      <td>ALVARO OBREGON</td>\n",
       "    </tr>\n",
       "    <tr>\n",
       "      <th>106364</th>\n",
       "      <td>8322572</td>\n",
       "      <td>DAÑO EN PROPIEDAD AJENA CULPOSA POR TRÁNSITO V...</td>\n",
       "      <td>DELITO DE BAJO IMPACTO</td>\n",
       "      <td>Femenino</td>\n",
       "      <td>39</td>\n",
       "      <td>FISICA</td>\n",
       "      <td>LAS AGUILAS 3ER PARQUE</td>\n",
       "      <td>ALVARO OBREGON</td>\n",
       "    </tr>\n",
       "    <tr>\n",
       "      <th>95204</th>\n",
       "      <td>8322586</td>\n",
       "      <td>ROBO DE OBJETOS</td>\n",
       "      <td>DELITO DE BAJO IMPACTO</td>\n",
       "      <td>Femenino</td>\n",
       "      <td>35</td>\n",
       "      <td>FISICA</td>\n",
       "      <td>DOCTORES</td>\n",
       "      <td>CUAUHTEMOC</td>\n",
       "    </tr>\n",
       "    <tr>\n",
       "      <th>95205</th>\n",
       "      <td>8322586</td>\n",
       "      <td>ROBO DE OBJETOS</td>\n",
       "      <td>DELITO DE BAJO IMPACTO</td>\n",
       "      <td>Femenino</td>\n",
       "      <td>34</td>\n",
       "      <td>FISICA</td>\n",
       "      <td>DOCTORES</td>\n",
       "      <td>CUAUHTEMOC</td>\n",
       "    </tr>\n",
       "    <tr>\n",
       "      <th>49593</th>\n",
       "      <td>8322594</td>\n",
       "      <td>ROBO A TRANSEUNTE EN VIA PUBLICA CON VIOLENCIA</td>\n",
       "      <td>ROBO A TRANSEUNTE EN VÍA PÚBLICA CON Y SIN VIO...</td>\n",
       "      <td>Masculino</td>\n",
       "      <td>28</td>\n",
       "      <td>FISICA</td>\n",
       "      <td>TABACALERA</td>\n",
       "      <td>CUAUHTEMOC</td>\n",
       "    </tr>\n",
       "    <tr>\n",
       "      <th>106371</th>\n",
       "      <td>8322594</td>\n",
       "      <td>ROBO A TRANSEUNTE EN VIA PUBLICA CON VIOLENCIA</td>\n",
       "      <td>ROBO A TRANSEUNTE EN VÍA PÚBLICA CON Y SIN VIO...</td>\n",
       "      <td>Masculino</td>\n",
       "      <td>35</td>\n",
       "      <td>FISICA</td>\n",
       "      <td>TABACALERA</td>\n",
       "      <td>CUAUHTEMOC</td>\n",
       "    </tr>\n",
       "    <tr>\n",
       "      <th>49596</th>\n",
       "      <td>8322599</td>\n",
       "      <td>AMENAZAS</td>\n",
       "      <td>DELITO DE BAJO IMPACTO</td>\n",
       "      <td>Femenino</td>\n",
       "      <td>39</td>\n",
       "      <td>FISICA</td>\n",
       "      <td>AQUILES SERDÁN</td>\n",
       "      <td>VENUSTIANO CARRANZA</td>\n",
       "    </tr>\n",
       "  </tbody>\n",
       "</table>\n",
       "</div>"
      ],
      "text/plain": [
       "        idcarpeta                                             delito  \\\n",
       "95152     8322427                       ROBO A NEGOCIO CON VIOLENCIA   \n",
       "95153     8322427                       ROBO A NEGOCIO CON VIOLENCIA   \n",
       "49556     8322439     ROBO A TRANSEUNTE EN VIA PUBLICA CON VIOLENCIA   \n",
       "106332    8322439     ROBO A TRANSEUNTE EN VIA PUBLICA CON VIOLENCIA   \n",
       "49578     8322533                                 VIOLENCIA FAMILIAR   \n",
       "95184     8322533                                 VIOLENCIA FAMILIAR   \n",
       "106354    8322550                        HOMICIDIO POR ARMA DE FUEGO   \n",
       "95192     8322550                        HOMICIDIO POR ARMA DE FUEGO   \n",
       "95198     8322572  DAÑO EN PROPIEDAD AJENA CULPOSA POR TRÁNSITO V...   \n",
       "106364    8322572  DAÑO EN PROPIEDAD AJENA CULPOSA POR TRÁNSITO V...   \n",
       "95204     8322586                                    ROBO DE OBJETOS   \n",
       "95205     8322586                                    ROBO DE OBJETOS   \n",
       "49593     8322594     ROBO A TRANSEUNTE EN VIA PUBLICA CON VIOLENCIA   \n",
       "106371    8322594     ROBO A TRANSEUNTE EN VIA PUBLICA CON VIOLENCIA   \n",
       "49596     8322599                                           AMENAZAS   \n",
       "\n",
       "                                                categoria       sexo  edad  \\\n",
       "95152                        ROBO A NEGOCIO CON VIOLENCIA   Femenino    43   \n",
       "95153                        ROBO A NEGOCIO CON VIOLENCIA  Masculino    55   \n",
       "49556   ROBO A TRANSEUNTE EN VÍA PÚBLICA CON Y SIN VIO...   Femenino    45   \n",
       "106332  ROBO A TRANSEUNTE EN VÍA PÚBLICA CON Y SIN VIO...  Masculino    15   \n",
       "49578                              DELITO DE BAJO IMPACTO  Masculino     1   \n",
       "95184                              DELITO DE BAJO IMPACTO   Femenino     4   \n",
       "106354                                   HOMICIDIO DOLOSO  Masculino    26   \n",
       "95192                                    HOMICIDIO DOLOSO  Masculino    30   \n",
       "95198                              DELITO DE BAJO IMPACTO   Femenino    39   \n",
       "106364                             DELITO DE BAJO IMPACTO   Femenino    39   \n",
       "95204                              DELITO DE BAJO IMPACTO   Femenino    35   \n",
       "95205                              DELITO DE BAJO IMPACTO   Femenino    34   \n",
       "49593   ROBO A TRANSEUNTE EN VÍA PÚBLICA CON Y SIN VIO...  Masculino    28   \n",
       "106371  ROBO A TRANSEUNTE EN VÍA PÚBLICA CON Y SIN VIO...  Masculino    35   \n",
       "49596                              DELITO DE BAJO IMPACTO   Femenino    39   \n",
       "\n",
       "       tipopersona    fgj_colonia_registro         alcaldia_hechos  \n",
       "95152       FISICA               EL RETOÑO              IZTAPALAPA  \n",
       "95153       FISICA               EL RETOÑO              IZTAPALAPA  \n",
       "49556       FISICA             EL ERMITAÑO  LA MAGDALENA CONTRERAS  \n",
       "106332      FISICA             EL ERMITAÑO  LA MAGDALENA CONTRERAS  \n",
       "49578       FISICA        SAN MARCOS NORTE              XOCHIMILCO  \n",
       "95184       FISICA        SAN MARCOS NORTE              XOCHIMILCO  \n",
       "106354      FISICA          MOSCO CHINAMPA               IZTACALCO  \n",
       "95192       FISICA          MOSCO CHINAMPA               IZTACALCO  \n",
       "95198       FISICA  LAS AGUILAS 3ER PARQUE          ALVARO OBREGON  \n",
       "106364      FISICA  LAS AGUILAS 3ER PARQUE          ALVARO OBREGON  \n",
       "95204       FISICA                DOCTORES              CUAUHTEMOC  \n",
       "95205       FISICA                DOCTORES              CUAUHTEMOC  \n",
       "49593       FISICA              TABACALERA              CUAUHTEMOC  \n",
       "106371      FISICA              TABACALERA              CUAUHTEMOC  \n",
       "49596       FISICA          AQUILES SERDÁN     VENUSTIANO CARRANZA  "
      ]
     },
     "execution_count": 13,
     "metadata": {},
     "output_type": "execute_result"
    }
   ],
   "source": [
    "duplicates = crimes['idcarpeta'].duplicated(keep=False)\n",
    "duplicated_rows=crimes[duplicates]\n",
    "print(\"Number of duplicated idcarpetas: {}\".format(duplicated_rows.shape[0]))\n",
    "duplicated_rows[['idcarpeta','delito','categoria','sexo','edad','tipopersona','fgj_colonia_registro','alcaldia_hechos']].sort_values(by=['idcarpeta']).head(15)"
   ]
  },
  {
   "cell_type": "markdown",
   "id": "668999b6-5bc4-4a87-bbbd-c2218622a992",
   "metadata": {},
   "source": [
    "Checking duplicates in more columns: "
   ]
  },
  {
   "cell_type": "code",
   "execution_count": 14,
   "id": "2efe2fd5-45fe-4ab8-a00b-f7eab9f38262",
   "metadata": {
    "tags": []
   },
   "outputs": [
    {
     "name": "stdout",
     "output_type": "stream",
     "text": [
      "(8686, 8)\n"
     ]
    },
    {
     "name": "stderr",
     "output_type": "stream",
     "text": [
      "C:\\Users\\Marco .LAPTOP-8I11FSGG\\AppData\\Local\\Temp\\ipykernel_33564\\3495241093.py:7: SettingWithCopyWarning: \n",
      "A value is trying to be set on a copy of a slice from a DataFrame.\n",
      "Try using .loc[row_indexer,col_indexer] = value instead\n",
      "\n",
      "See the caveats in the documentation: https://pandas.pydata.org/pandas-docs/stable/user_guide/indexing.html#returning-a-view-versus-a-copy\n",
      "  duplicated_rows[\"duplicates\"]=duplicates\n"
     ]
    },
    {
     "data": {
      "text/html": [
       "<div>\n",
       "<style scoped>\n",
       "    .dataframe tbody tr th:only-of-type {\n",
       "        vertical-align: middle;\n",
       "    }\n",
       "\n",
       "    .dataframe tbody tr th {\n",
       "        vertical-align: top;\n",
       "    }\n",
       "\n",
       "    .dataframe thead th {\n",
       "        text-align: right;\n",
       "    }\n",
       "</style>\n",
       "<table border=\"1\" class=\"dataframe\">\n",
       "  <thead>\n",
       "    <tr style=\"text-align: right;\">\n",
       "      <th></th>\n",
       "      <th>idcarpeta</th>\n",
       "      <th>anio_inicio</th>\n",
       "      <th>mes_inicio</th>\n",
       "      <th>fechainicio</th>\n",
       "      <th>delito</th>\n",
       "      <th>categoria</th>\n",
       "      <th>sexo</th>\n",
       "      <th>edad</th>\n",
       "      <th>tipopersona</th>\n",
       "      <th>calidadjuridica</th>\n",
       "      <th>...</th>\n",
       "      <th>anio_hecho</th>\n",
       "      <th>mes_hecho</th>\n",
       "      <th>fechahecho</th>\n",
       "      <th>horahecho</th>\n",
       "      <th>horainicio</th>\n",
       "      <th>alcaldia_hechos</th>\n",
       "      <th>colonia_datos</th>\n",
       "      <th>fgj_colonia_registro</th>\n",
       "      <th>crimen_lat</th>\n",
       "      <th>crimen_lon</th>\n",
       "    </tr>\n",
       "  </thead>\n",
       "  <tbody>\n",
       "    <tr>\n",
       "      <th>0</th>\n",
       "      <td>8324429</td>\n",
       "      <td>2019</td>\n",
       "      <td>1</td>\n",
       "      <td>2019-01-04</td>\n",
       "      <td>FRAUDE</td>\n",
       "      <td>DELITO DE BAJO IMPACTO</td>\n",
       "      <td>Masculino</td>\n",
       "      <td>62</td>\n",
       "      <td>FISICA</td>\n",
       "      <td>OFENDIDO</td>\n",
       "      <td>...</td>\n",
       "      <td>2018</td>\n",
       "      <td>8</td>\n",
       "      <td>2018-08-29</td>\n",
       "      <td>12:00:00</td>\n",
       "      <td>12:19:00</td>\n",
       "      <td>ALVARO OBREGON</td>\n",
       "      <td>GUADALUPE INN</td>\n",
       "      <td>GUADALUPE INN</td>\n",
       "      <td>19.36125</td>\n",
       "      <td>-99.18314</td>\n",
       "    </tr>\n",
       "    <tr>\n",
       "      <th>1</th>\n",
       "      <td>8324430</td>\n",
       "      <td>2019</td>\n",
       "      <td>1</td>\n",
       "      <td>2019-01-04</td>\n",
       "      <td>PRODUCCIÓN, IMPRESIÓN, ENAJENACIÓN, DISTRIBUCI...</td>\n",
       "      <td>DELITO DE BAJO IMPACTO</td>\n",
       "      <td>Femenino</td>\n",
       "      <td>38</td>\n",
       "      <td>FISICA</td>\n",
       "      <td>VICTIMA Y DENUNCIANTE</td>\n",
       "      <td>...</td>\n",
       "      <td>2018</td>\n",
       "      <td>12</td>\n",
       "      <td>2018-12-15</td>\n",
       "      <td>15:00:00</td>\n",
       "      <td>12:20:00</td>\n",
       "      <td>AZCAPOTZALCO</td>\n",
       "      <td>VICTORIA DE LAS DEMOCRACIAS</td>\n",
       "      <td>VICTORIA DE LAS DEMOCRACIAS</td>\n",
       "      <td>19.47181</td>\n",
       "      <td>-99.16458</td>\n",
       "    </tr>\n",
       "    <tr>\n",
       "      <th>2</th>\n",
       "      <td>8324431</td>\n",
       "      <td>2019</td>\n",
       "      <td>1</td>\n",
       "      <td>2019-01-04</td>\n",
       "      <td>ROBO A TRANSEUNTE SALIENDO DEL BANCO CON VIOLE...</td>\n",
       "      <td>ROBO A CUENTAHABIENTE SALIENDO DEL CAJERO CON ...</td>\n",
       "      <td>Masculino</td>\n",
       "      <td>42</td>\n",
       "      <td>FISICA</td>\n",
       "      <td>VICTIMA Y DENUNCIANTE</td>\n",
       "      <td>...</td>\n",
       "      <td>2018</td>\n",
       "      <td>12</td>\n",
       "      <td>2018-12-22</td>\n",
       "      <td>15:30:00</td>\n",
       "      <td>12:23:00</td>\n",
       "      <td>COYOACAN</td>\n",
       "      <td>COPILCO EL BAJO</td>\n",
       "      <td>COPILCO UNIVERSIDAD ISSSTE</td>\n",
       "      <td>19.33797</td>\n",
       "      <td>-99.18611</td>\n",
       "    </tr>\n",
       "    <tr>\n",
       "      <th>3</th>\n",
       "      <td>8324435</td>\n",
       "      <td>2019</td>\n",
       "      <td>1</td>\n",
       "      <td>2019-01-04</td>\n",
       "      <td>ROBO DE VEHICULO DE SERVICIO PARTICULAR SIN VI...</td>\n",
       "      <td>ROBO DE VEHÍCULO CON Y SIN VIOLENCIA</td>\n",
       "      <td>Masculino</td>\n",
       "      <td>35</td>\n",
       "      <td>FISICA</td>\n",
       "      <td>VICTIMA Y DENUNCIANTE</td>\n",
       "      <td>...</td>\n",
       "      <td>2019</td>\n",
       "      <td>1</td>\n",
       "      <td>2019-01-04</td>\n",
       "      <td>06:00:00</td>\n",
       "      <td>12:27:00</td>\n",
       "      <td>IZTACALCO</td>\n",
       "      <td>PANTITLAN V</td>\n",
       "      <td>AGRÍCOLA PANTITLAN</td>\n",
       "      <td>19.40327</td>\n",
       "      <td>-99.05983</td>\n",
       "    </tr>\n",
       "    <tr>\n",
       "      <th>4</th>\n",
       "      <td>8324438</td>\n",
       "      <td>2019</td>\n",
       "      <td>1</td>\n",
       "      <td>2019-01-04</td>\n",
       "      <td>ROBO DE MOTOCICLETA SIN VIOLENCIA</td>\n",
       "      <td>ROBO DE VEHÍCULO CON Y SIN VIOLENCIA</td>\n",
       "      <td>Masculino</td>\n",
       "      <td>39</td>\n",
       "      <td>FISICA</td>\n",
       "      <td>VICTIMA</td>\n",
       "      <td>...</td>\n",
       "      <td>2019</td>\n",
       "      <td>1</td>\n",
       "      <td>2019-01-03</td>\n",
       "      <td>20:00:00</td>\n",
       "      <td>12:35:00</td>\n",
       "      <td>IZTAPALAPA</td>\n",
       "      <td>LAS AMERICAS (U HAB)</td>\n",
       "      <td>PROGRESISTA</td>\n",
       "      <td>19.35480</td>\n",
       "      <td>-99.06324</td>\n",
       "    </tr>\n",
       "    <tr>\n",
       "      <th>...</th>\n",
       "      <td>...</td>\n",
       "      <td>...</td>\n",
       "      <td>...</td>\n",
       "      <td>...</td>\n",
       "      <td>...</td>\n",
       "      <td>...</td>\n",
       "      <td>...</td>\n",
       "      <td>...</td>\n",
       "      <td>...</td>\n",
       "      <td>...</td>\n",
       "      <td>...</td>\n",
       "      <td>...</td>\n",
       "      <td>...</td>\n",
       "      <td>...</td>\n",
       "      <td>...</td>\n",
       "      <td>...</td>\n",
       "      <td>...</td>\n",
       "      <td>...</td>\n",
       "      <td>...</td>\n",
       "      <td>...</td>\n",
       "      <td>...</td>\n",
       "    </tr>\n",
       "    <tr>\n",
       "      <th>95</th>\n",
       "      <td>8324792</td>\n",
       "      <td>2019</td>\n",
       "      <td>1</td>\n",
       "      <td>2019-01-04</td>\n",
       "      <td>ROBO DE VEHICULO DE PEDALES</td>\n",
       "      <td>DELITO DE BAJO IMPACTO</td>\n",
       "      <td>Masculino</td>\n",
       "      <td>39</td>\n",
       "      <td>MORAL</td>\n",
       "      <td>OFENDIDO</td>\n",
       "      <td>...</td>\n",
       "      <td>2019</td>\n",
       "      <td>1</td>\n",
       "      <td>2019-01-04</td>\n",
       "      <td>17:00:00</td>\n",
       "      <td>18:19:00</td>\n",
       "      <td>AZCAPOTZALCO</td>\n",
       "      <td>EL ROSARIO C (U HAB)</td>\n",
       "      <td>EL ROSARIO</td>\n",
       "      <td>19.50326</td>\n",
       "      <td>-99.20375</td>\n",
       "    </tr>\n",
       "    <tr>\n",
       "      <th>96</th>\n",
       "      <td>8324805</td>\n",
       "      <td>2019</td>\n",
       "      <td>1</td>\n",
       "      <td>2019-01-04</td>\n",
       "      <td>ROBO A TRANSEUNTE EN VIA PUBLICA SIN VIOLENCIA</td>\n",
       "      <td>ROBO A TRANSEUNTE EN VÍA PÚBLICA CON Y SIN VIO...</td>\n",
       "      <td>Femenino</td>\n",
       "      <td>42</td>\n",
       "      <td>FISICA</td>\n",
       "      <td>VICTIMA Y DENUNCIANTE</td>\n",
       "      <td>...</td>\n",
       "      <td>2018</td>\n",
       "      <td>12</td>\n",
       "      <td>2018-12-27</td>\n",
       "      <td>21:30:00</td>\n",
       "      <td>18:34:00</td>\n",
       "      <td>CUAUHTEMOC</td>\n",
       "      <td>CENTRO VI</td>\n",
       "      <td>CENTRO</td>\n",
       "      <td>19.42623</td>\n",
       "      <td>-99.13303</td>\n",
       "    </tr>\n",
       "    <tr>\n",
       "      <th>97</th>\n",
       "      <td>8324808</td>\n",
       "      <td>2019</td>\n",
       "      <td>1</td>\n",
       "      <td>2019-01-04</td>\n",
       "      <td>ROBO A TRANSEUNTE DE CELULAR CON VIOLENCIA</td>\n",
       "      <td>DELITO DE BAJO IMPACTO</td>\n",
       "      <td>Masculino</td>\n",
       "      <td>34</td>\n",
       "      <td>FISICA</td>\n",
       "      <td>VICTIMA Y DENUNCIANTE</td>\n",
       "      <td>...</td>\n",
       "      <td>2018</td>\n",
       "      <td>10</td>\n",
       "      <td>2018-10-19</td>\n",
       "      <td>23:00:00</td>\n",
       "      <td>18:41:00</td>\n",
       "      <td>TLALPAN</td>\n",
       "      <td>VILLA LAZARO CARDENAS</td>\n",
       "      <td>VILLA LÁZARO CÁRDENAS</td>\n",
       "      <td>19.29550</td>\n",
       "      <td>-99.14017</td>\n",
       "    </tr>\n",
       "    <tr>\n",
       "      <th>98</th>\n",
       "      <td>8324813</td>\n",
       "      <td>2019</td>\n",
       "      <td>1</td>\n",
       "      <td>2019-01-04</td>\n",
       "      <td>ROBO DE OBJETOS</td>\n",
       "      <td>DELITO DE BAJO IMPACTO</td>\n",
       "      <td>Masculino</td>\n",
       "      <td>52</td>\n",
       "      <td>FISICA</td>\n",
       "      <td>VICTIMA Y DENUNCIANTE</td>\n",
       "      <td>...</td>\n",
       "      <td>2018</td>\n",
       "      <td>12</td>\n",
       "      <td>2018-12-24</td>\n",
       "      <td>12:00:00</td>\n",
       "      <td>18:45:00</td>\n",
       "      <td>LA MAGDALENA CONTRERAS</td>\n",
       "      <td>HUAYATLA</td>\n",
       "      <td>HUAYATLA</td>\n",
       "      <td>19.30641</td>\n",
       "      <td>-99.26473</td>\n",
       "    </tr>\n",
       "    <tr>\n",
       "      <th>99</th>\n",
       "      <td>8324816</td>\n",
       "      <td>2019</td>\n",
       "      <td>1</td>\n",
       "      <td>2019-01-04</td>\n",
       "      <td>DAÑO EN PROPIEDAD AJENA INTENCIONAL</td>\n",
       "      <td>DELITO DE BAJO IMPACTO</td>\n",
       "      <td>Femenino</td>\n",
       "      <td>58</td>\n",
       "      <td>FISICA</td>\n",
       "      <td>OFENDIDO</td>\n",
       "      <td>...</td>\n",
       "      <td>2018</td>\n",
       "      <td>1</td>\n",
       "      <td>2018-01-04</td>\n",
       "      <td>05:30:00</td>\n",
       "      <td>18:48:00</td>\n",
       "      <td>BENITO JUAREZ</td>\n",
       "      <td>ACACIAS</td>\n",
       "      <td>ACACIAS</td>\n",
       "      <td>19.36377</td>\n",
       "      <td>-99.17317</td>\n",
       "    </tr>\n",
       "  </tbody>\n",
       "</table>\n",
       "<p>100 rows × 21 columns</p>\n",
       "</div>"
      ],
      "text/plain": [
       "    idcarpeta  anio_inicio  mes_inicio fechainicio  \\\n",
       "0     8324429         2019           1  2019-01-04   \n",
       "1     8324430         2019           1  2019-01-04   \n",
       "2     8324431         2019           1  2019-01-04   \n",
       "3     8324435         2019           1  2019-01-04   \n",
       "4     8324438         2019           1  2019-01-04   \n",
       "..        ...          ...         ...         ...   \n",
       "95    8324792         2019           1  2019-01-04   \n",
       "96    8324805         2019           1  2019-01-04   \n",
       "97    8324808         2019           1  2019-01-04   \n",
       "98    8324813         2019           1  2019-01-04   \n",
       "99    8324816         2019           1  2019-01-04   \n",
       "\n",
       "                                               delito  \\\n",
       "0                                              FRAUDE   \n",
       "1   PRODUCCIÓN, IMPRESIÓN, ENAJENACIÓN, DISTRIBUCI...   \n",
       "2   ROBO A TRANSEUNTE SALIENDO DEL BANCO CON VIOLE...   \n",
       "3   ROBO DE VEHICULO DE SERVICIO PARTICULAR SIN VI...   \n",
       "4                   ROBO DE MOTOCICLETA SIN VIOLENCIA   \n",
       "..                                                ...   \n",
       "95                        ROBO DE VEHICULO DE PEDALES   \n",
       "96     ROBO A TRANSEUNTE EN VIA PUBLICA SIN VIOLENCIA   \n",
       "97         ROBO A TRANSEUNTE DE CELULAR CON VIOLENCIA   \n",
       "98                                    ROBO DE OBJETOS   \n",
       "99                DAÑO EN PROPIEDAD AJENA INTENCIONAL   \n",
       "\n",
       "                                            categoria       sexo  edad  \\\n",
       "0                              DELITO DE BAJO IMPACTO  Masculino    62   \n",
       "1                              DELITO DE BAJO IMPACTO   Femenino    38   \n",
       "2   ROBO A CUENTAHABIENTE SALIENDO DEL CAJERO CON ...  Masculino    42   \n",
       "3                ROBO DE VEHÍCULO CON Y SIN VIOLENCIA  Masculino    35   \n",
       "4                ROBO DE VEHÍCULO CON Y SIN VIOLENCIA  Masculino    39   \n",
       "..                                                ...        ...   ...   \n",
       "95                             DELITO DE BAJO IMPACTO  Masculino    39   \n",
       "96  ROBO A TRANSEUNTE EN VÍA PÚBLICA CON Y SIN VIO...   Femenino    42   \n",
       "97                             DELITO DE BAJO IMPACTO  Masculino    34   \n",
       "98                             DELITO DE BAJO IMPACTO  Masculino    52   \n",
       "99                             DELITO DE BAJO IMPACTO   Femenino    58   \n",
       "\n",
       "   tipopersona        calidadjuridica  ... anio_hecho  mes_hecho  fechahecho  \\\n",
       "0       FISICA               OFENDIDO  ...       2018          8  2018-08-29   \n",
       "1       FISICA  VICTIMA Y DENUNCIANTE  ...       2018         12  2018-12-15   \n",
       "2       FISICA  VICTIMA Y DENUNCIANTE  ...       2018         12  2018-12-22   \n",
       "3       FISICA  VICTIMA Y DENUNCIANTE  ...       2019          1  2019-01-04   \n",
       "4       FISICA                VICTIMA  ...       2019          1  2019-01-03   \n",
       "..         ...                    ...  ...        ...        ...         ...   \n",
       "95       MORAL               OFENDIDO  ...       2019          1  2019-01-04   \n",
       "96      FISICA  VICTIMA Y DENUNCIANTE  ...       2018         12  2018-12-27   \n",
       "97      FISICA  VICTIMA Y DENUNCIANTE  ...       2018         10  2018-10-19   \n",
       "98      FISICA  VICTIMA Y DENUNCIANTE  ...       2018         12  2018-12-24   \n",
       "99      FISICA               OFENDIDO  ...       2018          1  2018-01-04   \n",
       "\n",
       "   horahecho horainicio         alcaldia_hechos                colonia_datos  \\\n",
       "0   12:00:00   12:19:00          ALVARO OBREGON                GUADALUPE INN   \n",
       "1   15:00:00   12:20:00            AZCAPOTZALCO  VICTORIA DE LAS DEMOCRACIAS   \n",
       "2   15:30:00   12:23:00                COYOACAN              COPILCO EL BAJO   \n",
       "3   06:00:00   12:27:00               IZTACALCO                  PANTITLAN V   \n",
       "4   20:00:00   12:35:00              IZTAPALAPA         LAS AMERICAS (U HAB)   \n",
       "..       ...        ...                     ...                          ...   \n",
       "95  17:00:00   18:19:00            AZCAPOTZALCO         EL ROSARIO C (U HAB)   \n",
       "96  21:30:00   18:34:00              CUAUHTEMOC                    CENTRO VI   \n",
       "97  23:00:00   18:41:00                 TLALPAN        VILLA LAZARO CARDENAS   \n",
       "98  12:00:00   18:45:00  LA MAGDALENA CONTRERAS                     HUAYATLA   \n",
       "99  05:30:00   18:48:00           BENITO JUAREZ                      ACACIAS   \n",
       "\n",
       "           fgj_colonia_registro crimen_lat  crimen_lon  \n",
       "0                 GUADALUPE INN   19.36125   -99.18314  \n",
       "1   VICTORIA DE LAS DEMOCRACIAS   19.47181   -99.16458  \n",
       "2    COPILCO UNIVERSIDAD ISSSTE   19.33797   -99.18611  \n",
       "3            AGRÍCOLA PANTITLAN   19.40327   -99.05983  \n",
       "4                   PROGRESISTA   19.35480   -99.06324  \n",
       "..                          ...        ...         ...  \n",
       "95                   EL ROSARIO   19.50326   -99.20375  \n",
       "96                       CENTRO   19.42623   -99.13303  \n",
       "97        VILLA LÁZARO CÁRDENAS   19.29550   -99.14017  \n",
       "98                     HUAYATLA   19.30641   -99.26473  \n",
       "99                      ACACIAS   19.36377   -99.17317  \n",
       "\n",
       "[100 rows x 21 columns]"
      ]
     },
     "execution_count": 14,
     "metadata": {},
     "output_type": "execute_result"
    }
   ],
   "source": [
    "#Checking row duplicates in every single columns\n",
    "duplicates = crimes[crimes.columns].duplicated(keep=False)\n",
    "#duplicates = crimes[crimes.columns].duplicated(keep='last')\n",
    "#duplicated_rows=crimes[duplicates].copy() \n",
    "duplicated_rows=crimes[duplicates]\n",
    "print(duplicated_rows[['idcarpeta','delito','categoria','sexo','edad','tipopersona','crimen_lat','crimen_lon']].sort_values(by=['idcarpeta']).shape)\n",
    "duplicated_rows[\"duplicates\"]=duplicates\n",
    "duplicated_rows[['idcarpeta','delito','categoria','sexo','edad','tipopersona','crimen_lat','crimen_lon','duplicates']].head(30)#.sort_values(by=['idcarpeta']).head(30)\n",
    "crimes.head(100)"
   ]
  },
  {
   "cell_type": "markdown",
   "id": "5c911ac6-4d29-4668-8bbf-0e1e90b80084",
   "metadata": {},
   "source": [
    "Since there columns on this dataset do not have unique value constraints, the next lines will only erase the duplicates who match on every single column: a double entry of the same record is more possible when we look at the indexes and realize that a lot of those duplicate contain non consecutive indexes. Those should be dropped, and the ones with consecutive indexes, kept, just to allow the chances of having more than one victim of the same crime with the same age and gender."
   ]
  },
  {
   "cell_type": "code",
   "execution_count": 15,
   "id": "557d0f6f-b61c-4b88-9483-90703054aab4",
   "metadata": {
    "tags": []
   },
   "outputs": [],
   "source": [
    "for col in [\"is_duplicate\", \"idcarpeta_on_next_row\"]:\n",
    "    if col in crimes.columns:\n",
    "        del crimes[col]  "
   ]
  },
  {
   "cell_type": "code",
   "execution_count": 16,
   "id": "5133772b-f630-4226-9b16-4dd50076d8b7",
   "metadata": {
    "scrolled": true,
    "tags": []
   },
   "outputs": [],
   "source": [
    "crimes[\"is_duplicate\"] = crimes.duplicated(keep='last')\n",
    "crimes['idcarpeta_on_next_row']  = (crimes['idcarpeta'] == crimes['idcarpeta'].shift(-1))\n",
    "\n"
   ]
  },
  {
   "cell_type": "code",
   "execution_count": 17,
   "id": "9f15b8c5-0e87-48a9-91b2-661ff7752f6b",
   "metadata": {
    "tags": []
   },
   "outputs": [
    {
     "data": {
      "text/html": [
       "<div>\n",
       "<style scoped>\n",
       "    .dataframe tbody tr th:only-of-type {\n",
       "        vertical-align: middle;\n",
       "    }\n",
       "\n",
       "    .dataframe tbody tr th {\n",
       "        vertical-align: top;\n",
       "    }\n",
       "\n",
       "    .dataframe thead th {\n",
       "        text-align: right;\n",
       "    }\n",
       "</style>\n",
       "<table border=\"1\" class=\"dataframe\">\n",
       "  <thead>\n",
       "    <tr style=\"text-align: right;\">\n",
       "      <th></th>\n",
       "      <th>idcarpeta</th>\n",
       "      <th>anio_inicio</th>\n",
       "      <th>mes_inicio</th>\n",
       "      <th>fechainicio</th>\n",
       "      <th>delito</th>\n",
       "      <th>categoria</th>\n",
       "      <th>sexo</th>\n",
       "      <th>edad</th>\n",
       "      <th>tipopersona</th>\n",
       "      <th>calidadjuridica</th>\n",
       "      <th>...</th>\n",
       "      <th>fechahecho</th>\n",
       "      <th>horahecho</th>\n",
       "      <th>horainicio</th>\n",
       "      <th>alcaldia_hechos</th>\n",
       "      <th>colonia_datos</th>\n",
       "      <th>fgj_colonia_registro</th>\n",
       "      <th>crimen_lat</th>\n",
       "      <th>crimen_lon</th>\n",
       "      <th>is_duplicate</th>\n",
       "      <th>idcarpeta_on_next_row</th>\n",
       "    </tr>\n",
       "  </thead>\n",
       "  <tbody>\n",
       "    <tr>\n",
       "      <th>7518</th>\n",
       "      <td>8454529</td>\n",
       "      <td>2019</td>\n",
       "      <td>6</td>\n",
       "      <td>2019-06-18</td>\n",
       "      <td>HOMICIDIO POR ARMA DE FUEGO</td>\n",
       "      <td>HOMICIDIO DOLOSO</td>\n",
       "      <td>Masculino</td>\n",
       "      <td>39</td>\n",
       "      <td>FISICA</td>\n",
       "      <td>CADAVER</td>\n",
       "      <td>...</td>\n",
       "      <td>2019-06-18</td>\n",
       "      <td>17:00:00</td>\n",
       "      <td>17:19:45</td>\n",
       "      <td>TLALPAN</td>\n",
       "      <td>HEROES DE PADIERNA II</td>\n",
       "      <td>HÉROES DE PADIERNA</td>\n",
       "      <td>19.282140</td>\n",
       "      <td>-99.222300</td>\n",
       "      <td>True</td>\n",
       "      <td>False</td>\n",
       "    </tr>\n",
       "    <tr>\n",
       "      <th>8897</th>\n",
       "      <td>8437644</td>\n",
       "      <td>2019</td>\n",
       "      <td>5</td>\n",
       "      <td>2019-05-28</td>\n",
       "      <td>HOMICIDIO POR ARMA DE FUEGO</td>\n",
       "      <td>HOMICIDIO DOLOSO</td>\n",
       "      <td>Masculino</td>\n",
       "      <td>39</td>\n",
       "      <td>FISICA</td>\n",
       "      <td>CADAVER</td>\n",
       "      <td>...</td>\n",
       "      <td>2019-05-27</td>\n",
       "      <td>21:30:00</td>\n",
       "      <td>03:12:00</td>\n",
       "      <td>IZTAPALAPA</td>\n",
       "      <td>LOMAS DE ZARAGOZA</td>\n",
       "      <td>LOMAS DE ZARAGOZA</td>\n",
       "      <td>19.349500</td>\n",
       "      <td>-98.996640</td>\n",
       "      <td>True</td>\n",
       "      <td>True</td>\n",
       "    </tr>\n",
       "    <tr>\n",
       "      <th>31312</th>\n",
       "      <td>8461163</td>\n",
       "      <td>2019</td>\n",
       "      <td>6</td>\n",
       "      <td>2019-06-26</td>\n",
       "      <td>DAÑO EN PROPIEDAD AJENA INTENCIONAL A NEGOCIO</td>\n",
       "      <td>DELITO DE BAJO IMPACTO</td>\n",
       "      <td>Masculino</td>\n",
       "      <td>39</td>\n",
       "      <td>FISICA</td>\n",
       "      <td>OFENDIDO</td>\n",
       "      <td>...</td>\n",
       "      <td>2019-06-26</td>\n",
       "      <td>13:30:00</td>\n",
       "      <td>20:42:18</td>\n",
       "      <td>GUSTAVO A. MADERO</td>\n",
       "      <td>LA PURISIMA TICOMAN (BARR)</td>\n",
       "      <td>LA PURÍSIMA TICOMÁN</td>\n",
       "      <td>19.516680</td>\n",
       "      <td>-99.138890</td>\n",
       "      <td>True</td>\n",
       "      <td>False</td>\n",
       "    </tr>\n",
       "    <tr>\n",
       "      <th>32099</th>\n",
       "      <td>8509270</td>\n",
       "      <td>2019</td>\n",
       "      <td>8</td>\n",
       "      <td>2019-08-29</td>\n",
       "      <td>FRAUDE</td>\n",
       "      <td>DELITO DE BAJO IMPACTO</td>\n",
       "      <td>Masculino</td>\n",
       "      <td>39</td>\n",
       "      <td>FISICA</td>\n",
       "      <td>OFENDIDO</td>\n",
       "      <td>...</td>\n",
       "      <td>2019-08-27</td>\n",
       "      <td>16:00:00</td>\n",
       "      <td>14:46:27</td>\n",
       "      <td>ALVARO OBREGON</td>\n",
       "      <td>LAS AGUILAS (AMPL)</td>\n",
       "      <td>Las Aguilas (AOB-3)</td>\n",
       "      <td>19.348830</td>\n",
       "      <td>-99.217930</td>\n",
       "      <td>True</td>\n",
       "      <td>False</td>\n",
       "    </tr>\n",
       "    <tr>\n",
       "      <th>41709</th>\n",
       "      <td>8400645</td>\n",
       "      <td>2019</td>\n",
       "      <td>4</td>\n",
       "      <td>2019-04-09</td>\n",
       "      <td>LESIONES CULPOSAS POR TRANSITO VEHICULAR EN CO...</td>\n",
       "      <td>DELITO DE BAJO IMPACTO</td>\n",
       "      <td>Femenino</td>\n",
       "      <td>39</td>\n",
       "      <td>FISICA</td>\n",
       "      <td>LESIONADO</td>\n",
       "      <td>...</td>\n",
       "      <td>2019-04-09</td>\n",
       "      <td>13:30:00</td>\n",
       "      <td>14:23:39</td>\n",
       "      <td>COYOACAN</td>\n",
       "      <td>ROMERO DE TERREROS (FRACC)</td>\n",
       "      <td>ROMERO DE TERREROS</td>\n",
       "      <td>19.345800</td>\n",
       "      <td>-99.175320</td>\n",
       "      <td>True</td>\n",
       "      <td>False</td>\n",
       "    </tr>\n",
       "    <tr>\n",
       "      <th>...</th>\n",
       "      <td>...</td>\n",
       "      <td>...</td>\n",
       "      <td>...</td>\n",
       "      <td>...</td>\n",
       "      <td>...</td>\n",
       "      <td>...</td>\n",
       "      <td>...</td>\n",
       "      <td>...</td>\n",
       "      <td>...</td>\n",
       "      <td>...</td>\n",
       "      <td>...</td>\n",
       "      <td>...</td>\n",
       "      <td>...</td>\n",
       "      <td>...</td>\n",
       "      <td>...</td>\n",
       "      <td>...</td>\n",
       "      <td>...</td>\n",
       "      <td>...</td>\n",
       "      <td>...</td>\n",
       "      <td>...</td>\n",
       "      <td>...</td>\n",
       "    </tr>\n",
       "    <tr>\n",
       "      <th>781638</th>\n",
       "      <td>9425294</td>\n",
       "      <td>2023</td>\n",
       "      <td>3</td>\n",
       "      <td>2023-03-27</td>\n",
       "      <td>VIOLENCIA FAMILIAR</td>\n",
       "      <td>DELITO DE BAJO IMPACTO</td>\n",
       "      <td>Femenino</td>\n",
       "      <td>39</td>\n",
       "      <td>FISICA</td>\n",
       "      <td>VICTIMA</td>\n",
       "      <td>...</td>\n",
       "      <td>2023-03-07</td>\n",
       "      <td>12:00:00</td>\n",
       "      <td>14:44:00</td>\n",
       "      <td>LA MAGDALENA CONTRERAS</td>\n",
       "      <td>BARRANCA SECA</td>\n",
       "      <td>BARRIO SAN FRANCISCO</td>\n",
       "      <td>19.307886</td>\n",
       "      <td>-99.241243</td>\n",
       "      <td>True</td>\n",
       "      <td>True</td>\n",
       "    </tr>\n",
       "    <tr>\n",
       "      <th>782773</th>\n",
       "      <td>9426831</td>\n",
       "      <td>2023</td>\n",
       "      <td>3</td>\n",
       "      <td>2023-03-29</td>\n",
       "      <td>ROBO A PASAJERO A BORDO DE PESERO COLECTIVO CO...</td>\n",
       "      <td>ROBO A PASAJERO A BORDO DE MICROBUS CON Y SIN ...</td>\n",
       "      <td>Femenino</td>\n",
       "      <td>39</td>\n",
       "      <td>FISICA</td>\n",
       "      <td>VICTIMA Y DENUNCIANTE</td>\n",
       "      <td>...</td>\n",
       "      <td>2023-03-29</td>\n",
       "      <td>00:20:00</td>\n",
       "      <td>01:51:00</td>\n",
       "      <td>TLAHUAC</td>\n",
       "      <td>GRANJAS CABRERA</td>\n",
       "      <td>LOS OLIVOS</td>\n",
       "      <td>19.305349</td>\n",
       "      <td>-99.062685</td>\n",
       "      <td>True</td>\n",
       "      <td>True</td>\n",
       "    </tr>\n",
       "    <tr>\n",
       "      <th>783534</th>\n",
       "      <td>9427885</td>\n",
       "      <td>2023</td>\n",
       "      <td>3</td>\n",
       "      <td>2023-03-30</td>\n",
       "      <td>DAÑO EN PROPIEDAD AJENA INTENCIONAL</td>\n",
       "      <td>DELITO DE BAJO IMPACTO</td>\n",
       "      <td>Masculino</td>\n",
       "      <td>39</td>\n",
       "      <td>FISICA</td>\n",
       "      <td>VICTIMA Y DENUNCIANTE</td>\n",
       "      <td>...</td>\n",
       "      <td>2023-03-30</td>\n",
       "      <td>09:15:00</td>\n",
       "      <td>11:40:00</td>\n",
       "      <td>XOCHIMILCO</td>\n",
       "      <td>VILLA XOCHIMILCO (U HAB)</td>\n",
       "      <td>LA NORIA</td>\n",
       "      <td>19.268043</td>\n",
       "      <td>-99.125996</td>\n",
       "      <td>True</td>\n",
       "      <td>True</td>\n",
       "    </tr>\n",
       "    <tr>\n",
       "      <th>784216</th>\n",
       "      <td>9428780</td>\n",
       "      <td>2023</td>\n",
       "      <td>3</td>\n",
       "      <td>2023-03-31</td>\n",
       "      <td>VIOLENCIA FAMILIAR</td>\n",
       "      <td>DELITO DE BAJO IMPACTO</td>\n",
       "      <td>Masculino</td>\n",
       "      <td>39</td>\n",
       "      <td>FISICA</td>\n",
       "      <td>VICTIMA</td>\n",
       "      <td>...</td>\n",
       "      <td>2023-03-30</td>\n",
       "      <td>22:00:00</td>\n",
       "      <td>10:20:00</td>\n",
       "      <td>ALVARO OBREGON</td>\n",
       "      <td>BELLA VISTA</td>\n",
       "      <td>BELLAVISTA</td>\n",
       "      <td>19.395977</td>\n",
       "      <td>-99.190337</td>\n",
       "      <td>True</td>\n",
       "      <td>True</td>\n",
       "    </tr>\n",
       "    <tr>\n",
       "      <th>784716</th>\n",
       "      <td>9429424</td>\n",
       "      <td>2023</td>\n",
       "      <td>3</td>\n",
       "      <td>2023-03-31</td>\n",
       "      <td>CONTRA EL CUMPLIMIENTO DE LA OBLIGACION ALIMEN...</td>\n",
       "      <td>DELITO DE BAJO IMPACTO</td>\n",
       "      <td>Femenino</td>\n",
       "      <td>13</td>\n",
       "      <td>FISICA</td>\n",
       "      <td>VICTIMA</td>\n",
       "      <td>...</td>\n",
       "      <td>2022-09-15</td>\n",
       "      <td>12:00:00</td>\n",
       "      <td>21:07:00</td>\n",
       "      <td>CUAUHTEMOC</td>\n",
       "      <td>CENTRO VIII</td>\n",
       "      <td>CENTRO</td>\n",
       "      <td>19.434184</td>\n",
       "      <td>-99.141434</td>\n",
       "      <td>True</td>\n",
       "      <td>True</td>\n",
       "    </tr>\n",
       "  </tbody>\n",
       "</table>\n",
       "<p>4848 rows × 23 columns</p>\n",
       "</div>"
      ],
      "text/plain": [
       "        idcarpeta  anio_inicio  mes_inicio fechainicio  \\\n",
       "7518      8454529         2019           6  2019-06-18   \n",
       "8897      8437644         2019           5  2019-05-28   \n",
       "31312     8461163         2019           6  2019-06-26   \n",
       "32099     8509270         2019           8  2019-08-29   \n",
       "41709     8400645         2019           4  2019-04-09   \n",
       "...           ...          ...         ...         ...   \n",
       "781638    9425294         2023           3  2023-03-27   \n",
       "782773    9426831         2023           3  2023-03-29   \n",
       "783534    9427885         2023           3  2023-03-30   \n",
       "784216    9428780         2023           3  2023-03-31   \n",
       "784716    9429424         2023           3  2023-03-31   \n",
       "\n",
       "                                                   delito  \\\n",
       "7518                          HOMICIDIO POR ARMA DE FUEGO   \n",
       "8897                          HOMICIDIO POR ARMA DE FUEGO   \n",
       "31312       DAÑO EN PROPIEDAD AJENA INTENCIONAL A NEGOCIO   \n",
       "32099                                              FRAUDE   \n",
       "41709   LESIONES CULPOSAS POR TRANSITO VEHICULAR EN CO...   \n",
       "...                                                   ...   \n",
       "781638                                 VIOLENCIA FAMILIAR   \n",
       "782773  ROBO A PASAJERO A BORDO DE PESERO COLECTIVO CO...   \n",
       "783534                DAÑO EN PROPIEDAD AJENA INTENCIONAL   \n",
       "784216                                 VIOLENCIA FAMILIAR   \n",
       "784716  CONTRA EL CUMPLIMIENTO DE LA OBLIGACION ALIMEN...   \n",
       "\n",
       "                                                categoria       sexo  edad  \\\n",
       "7518                                     HOMICIDIO DOLOSO  Masculino    39   \n",
       "8897                                     HOMICIDIO DOLOSO  Masculino    39   \n",
       "31312                              DELITO DE BAJO IMPACTO  Masculino    39   \n",
       "32099                              DELITO DE BAJO IMPACTO  Masculino    39   \n",
       "41709                              DELITO DE BAJO IMPACTO   Femenino    39   \n",
       "...                                                   ...        ...   ...   \n",
       "781638                             DELITO DE BAJO IMPACTO   Femenino    39   \n",
       "782773  ROBO A PASAJERO A BORDO DE MICROBUS CON Y SIN ...   Femenino    39   \n",
       "783534                             DELITO DE BAJO IMPACTO  Masculino    39   \n",
       "784216                             DELITO DE BAJO IMPACTO  Masculino    39   \n",
       "784716                             DELITO DE BAJO IMPACTO   Femenino    13   \n",
       "\n",
       "       tipopersona        calidadjuridica  ...  fechahecho  horahecho  \\\n",
       "7518        FISICA                CADAVER  ...  2019-06-18   17:00:00   \n",
       "8897        FISICA                CADAVER  ...  2019-05-27   21:30:00   \n",
       "31312       FISICA               OFENDIDO  ...  2019-06-26   13:30:00   \n",
       "32099       FISICA               OFENDIDO  ...  2019-08-27   16:00:00   \n",
       "41709       FISICA              LESIONADO  ...  2019-04-09   13:30:00   \n",
       "...            ...                    ...  ...         ...        ...   \n",
       "781638      FISICA                VICTIMA  ...  2023-03-07   12:00:00   \n",
       "782773      FISICA  VICTIMA Y DENUNCIANTE  ...  2023-03-29   00:20:00   \n",
       "783534      FISICA  VICTIMA Y DENUNCIANTE  ...  2023-03-30   09:15:00   \n",
       "784216      FISICA                VICTIMA  ...  2023-03-30   22:00:00   \n",
       "784716      FISICA                VICTIMA  ...  2022-09-15   12:00:00   \n",
       "\n",
       "        horainicio         alcaldia_hechos               colonia_datos  \\\n",
       "7518      17:19:45                 TLALPAN       HEROES DE PADIERNA II   \n",
       "8897      03:12:00              IZTAPALAPA           LOMAS DE ZARAGOZA   \n",
       "31312     20:42:18       GUSTAVO A. MADERO  LA PURISIMA TICOMAN (BARR)   \n",
       "32099     14:46:27          ALVARO OBREGON          LAS AGUILAS (AMPL)   \n",
       "41709     14:23:39                COYOACAN  ROMERO DE TERREROS (FRACC)   \n",
       "...            ...                     ...                         ...   \n",
       "781638    14:44:00  LA MAGDALENA CONTRERAS               BARRANCA SECA   \n",
       "782773    01:51:00                 TLAHUAC             GRANJAS CABRERA   \n",
       "783534    11:40:00              XOCHIMILCO    VILLA XOCHIMILCO (U HAB)   \n",
       "784216    10:20:00          ALVARO OBREGON                 BELLA VISTA   \n",
       "784716    21:07:00              CUAUHTEMOC                 CENTRO VIII   \n",
       "\n",
       "        fgj_colonia_registro crimen_lat crimen_lon is_duplicate  \\\n",
       "7518      HÉROES DE PADIERNA  19.282140 -99.222300         True   \n",
       "8897       LOMAS DE ZARAGOZA  19.349500 -98.996640         True   \n",
       "31312    LA PURÍSIMA TICOMÁN  19.516680 -99.138890         True   \n",
       "32099    Las Aguilas (AOB-3)  19.348830 -99.217930         True   \n",
       "41709     ROMERO DE TERREROS  19.345800 -99.175320         True   \n",
       "...                      ...        ...        ...          ...   \n",
       "781638  BARRIO SAN FRANCISCO  19.307886 -99.241243         True   \n",
       "782773            LOS OLIVOS  19.305349 -99.062685         True   \n",
       "783534              LA NORIA  19.268043 -99.125996         True   \n",
       "784216            BELLAVISTA  19.395977 -99.190337         True   \n",
       "784716                CENTRO  19.434184 -99.141434         True   \n",
       "\n",
       "        idcarpeta_on_next_row  \n",
       "7518                    False  \n",
       "8897                     True  \n",
       "31312                   False  \n",
       "32099                   False  \n",
       "41709                   False  \n",
       "...                       ...  \n",
       "781638                   True  \n",
       "782773                   True  \n",
       "783534                   True  \n",
       "784216                   True  \n",
       "784716                   True  \n",
       "\n",
       "[4848 rows x 23 columns]"
      ]
     },
     "execution_count": 17,
     "metadata": {},
     "output_type": "execute_result"
    }
   ],
   "source": [
    "crimes[crimes['is_duplicate'] == True]\n"
   ]
  },
  {
   "cell_type": "code",
   "execution_count": 18,
   "id": "fd5a1e28-2718-4089-b316-c33d7b554ab7",
   "metadata": {
    "tags": []
   },
   "outputs": [],
   "source": [
    "crimes2 = crimes[ ~ (crimes[\"is_duplicate\"]) | (crimes[\"idcarpeta_on_next_row\"] == True)].copy()"
   ]
  },
  {
   "cell_type": "code",
   "execution_count": 19,
   "id": "70b81b00-9712-4025-b9c2-fb1ca8101838",
   "metadata": {
    "tags": []
   },
   "outputs": [
    {
     "name": "stdout",
     "output_type": "stream",
     "text": [
      "Dataframe before dropping duplicates: (784813, 23)\n",
      "Dataframe after dropping duplicates: (784802, 23)\n"
     ]
    }
   ],
   "source": [
    "print('Dataframe before dropping duplicates: {}'.format(crimes.shape))\n",
    "print('Dataframe after dropping duplicates: {}'.format(crimes2.shape))"
   ]
  },
  {
   "cell_type": "markdown",
   "id": "998bdba6-e276-48c6-8874-590307564660",
   "metadata": {
    "tags": []
   },
   "source": [
    "Only 11 rows were deleted, since it seems most of the duplicate records were inserted consecutively. There is still uncertainty about the reason of the consecutive duplication of records, but we will keep the assumption that this is about same crime with more than ione victim with the same age and gender on the same location.\n",
    "\n",
    "There are some outlier values in 'edad' colum. Those will be replaced by the average age, unless they have information about deaths not related with crime reasons.\n"
   ]
  },
  {
   "cell_type": "code",
   "execution_count": 20,
   "id": "5ae43524-8fb7-4df9-867c-4be57c9e988f",
   "metadata": {
    "tags": []
   },
   "outputs": [
    {
     "data": {
      "text/html": [
       "<div>\n",
       "<style scoped>\n",
       "    .dataframe tbody tr th:only-of-type {\n",
       "        vertical-align: middle;\n",
       "    }\n",
       "\n",
       "    .dataframe tbody tr th {\n",
       "        vertical-align: top;\n",
       "    }\n",
       "\n",
       "    .dataframe thead th {\n",
       "        text-align: right;\n",
       "    }\n",
       "</style>\n",
       "<table border=\"1\" class=\"dataframe\">\n",
       "  <thead>\n",
       "    <tr style=\"text-align: right;\">\n",
       "      <th></th>\n",
       "      <th>idcarpeta</th>\n",
       "      <th>anio_inicio</th>\n",
       "      <th>mes_inicio</th>\n",
       "      <th>fechainicio</th>\n",
       "      <th>delito</th>\n",
       "      <th>categoria</th>\n",
       "      <th>sexo</th>\n",
       "      <th>edad</th>\n",
       "      <th>tipopersona</th>\n",
       "      <th>calidadjuridica</th>\n",
       "      <th>...</th>\n",
       "      <th>fechahecho</th>\n",
       "      <th>horahecho</th>\n",
       "      <th>horainicio</th>\n",
       "      <th>alcaldia_hechos</th>\n",
       "      <th>colonia_datos</th>\n",
       "      <th>fgj_colonia_registro</th>\n",
       "      <th>crimen_lat</th>\n",
       "      <th>crimen_lon</th>\n",
       "      <th>is_duplicate</th>\n",
       "      <th>idcarpeta_on_next_row</th>\n",
       "    </tr>\n",
       "  </thead>\n",
       "  <tbody>\n",
       "    <tr>\n",
       "      <th>7727</th>\n",
       "      <td>8432308</td>\n",
       "      <td>2019</td>\n",
       "      <td>5</td>\n",
       "      <td>2019-05-21</td>\n",
       "      <td>ROBO A TRANSEUNTE EN VIA PUBLICA CON VIOLENCIA</td>\n",
       "      <td>ROBO A TRANSEUNTE EN VÍA PÚBLICA CON Y SIN VIO...</td>\n",
       "      <td>Masculino</td>\n",
       "      <td>258</td>\n",
       "      <td>FISICA</td>\n",
       "      <td>VICTIMA Y DENUNCIANTE</td>\n",
       "      <td>...</td>\n",
       "      <td>2019-05-20</td>\n",
       "      <td>18:15:00</td>\n",
       "      <td>14:42:00</td>\n",
       "      <td>VENUSTIANO CARRANZA</td>\n",
       "      <td>CENTRO I</td>\n",
       "      <td>ZONA CENTRO</td>\n",
       "      <td>19.430840</td>\n",
       "      <td>-99.124680</td>\n",
       "      <td>False</td>\n",
       "      <td>False</td>\n",
       "    </tr>\n",
       "    <tr>\n",
       "      <th>72665</th>\n",
       "      <td>8582377</td>\n",
       "      <td>2019</td>\n",
       "      <td>12</td>\n",
       "      <td>2019-12-04</td>\n",
       "      <td>ROBO A TRANSEUNTE EN VIA PUBLICA CON VIOLENCIA</td>\n",
       "      <td>ROBO A TRANSEUNTE EN VÍA PÚBLICA CON Y SIN VIO...</td>\n",
       "      <td>Masculino</td>\n",
       "      <td>369</td>\n",
       "      <td>FISICA</td>\n",
       "      <td>VICTIMA Y DENUNCIANTE</td>\n",
       "      <td>...</td>\n",
       "      <td>2019-12-04</td>\n",
       "      <td>00:10:00</td>\n",
       "      <td>01:49:10</td>\n",
       "      <td>IZTAPALAPA</td>\n",
       "      <td>PASEOS DE CHURUBUSCO</td>\n",
       "      <td>CENTRAL DE ABASTO</td>\n",
       "      <td>19.382520</td>\n",
       "      <td>-99.087010</td>\n",
       "      <td>False</td>\n",
       "      <td>False</td>\n",
       "    </tr>\n",
       "    <tr>\n",
       "      <th>87863</th>\n",
       "      <td>8407714</td>\n",
       "      <td>2019</td>\n",
       "      <td>4</td>\n",
       "      <td>2019-04-18</td>\n",
       "      <td>ROBO DE OBJETOS</td>\n",
       "      <td>DELITO DE BAJO IMPACTO</td>\n",
       "      <td>Masculino</td>\n",
       "      <td>111</td>\n",
       "      <td>FISICA</td>\n",
       "      <td>VICTIMA Y DENUNCIANTE</td>\n",
       "      <td>...</td>\n",
       "      <td>2019-04-15</td>\n",
       "      <td>07:30:00</td>\n",
       "      <td>10:07:53</td>\n",
       "      <td>VENUSTIANO CARRANZA</td>\n",
       "      <td>ARTES GRAFICAS</td>\n",
       "      <td>ARTES GRAFICAS</td>\n",
       "      <td>19.411140</td>\n",
       "      <td>-99.124840</td>\n",
       "      <td>False</td>\n",
       "      <td>False</td>\n",
       "    </tr>\n",
       "    <tr>\n",
       "      <th>171262</th>\n",
       "      <td>8530411</td>\n",
       "      <td>2019</td>\n",
       "      <td>9</td>\n",
       "      <td>2019-09-26</td>\n",
       "      <td>VIOLENCIA FAMILIAR</td>\n",
       "      <td>DELITO DE BAJO IMPACTO</td>\n",
       "      <td>Masculino</td>\n",
       "      <td>104</td>\n",
       "      <td>FISICA</td>\n",
       "      <td>VICTIMA</td>\n",
       "      <td>...</td>\n",
       "      <td>2019-06-28</td>\n",
       "      <td>12:00:00</td>\n",
       "      <td>10:21:27</td>\n",
       "      <td>GUSTAVO A. MADERO</td>\n",
       "      <td>PROVIDENCIA II</td>\n",
       "      <td>PROVIDENCIA</td>\n",
       "      <td>19.481600</td>\n",
       "      <td>-99.067450</td>\n",
       "      <td>False</td>\n",
       "      <td>False</td>\n",
       "    </tr>\n",
       "    <tr>\n",
       "      <th>287347</th>\n",
       "      <td>8725367</td>\n",
       "      <td>2020</td>\n",
       "      <td>7</td>\n",
       "      <td>2020-07-24</td>\n",
       "      <td>VIOLENCIA FAMILIAR</td>\n",
       "      <td>DELITO DE BAJO IMPACTO</td>\n",
       "      <td>Femenino</td>\n",
       "      <td>103</td>\n",
       "      <td>FISICA</td>\n",
       "      <td>VICTIMA Y DENUNCIANTE</td>\n",
       "      <td>...</td>\n",
       "      <td>2020-07-23</td>\n",
       "      <td>12:45:00</td>\n",
       "      <td>14:38:20</td>\n",
       "      <td>IZTAPALAPA</td>\n",
       "      <td>CONSTITUCION DE 1917 I</td>\n",
       "      <td>CONSTITUCIÓN DE 1917</td>\n",
       "      <td>19.351295</td>\n",
       "      <td>-99.066117</td>\n",
       "      <td>False</td>\n",
       "      <td>False</td>\n",
       "    </tr>\n",
       "    <tr>\n",
       "      <th>317655</th>\n",
       "      <td>8767258</td>\n",
       "      <td>2020</td>\n",
       "      <td>9</td>\n",
       "      <td>2020-09-29</td>\n",
       "      <td>PERDIDA DE LA VIDA POR OTRAS CAUSAS</td>\n",
       "      <td>HECHO NO DELICTIVO</td>\n",
       "      <td>Masculino</td>\n",
       "      <td>114</td>\n",
       "      <td>FISICA</td>\n",
       "      <td>CADAVER</td>\n",
       "      <td>...</td>\n",
       "      <td>2020-09-28</td>\n",
       "      <td>17:30:00</td>\n",
       "      <td>14:35:54</td>\n",
       "      <td>GUSTAVO A. MADERO</td>\n",
       "      <td>PRADOS DE CUAUTEPEC</td>\n",
       "      <td>PRADOS DE CUAUTEPEC</td>\n",
       "      <td>19.560390</td>\n",
       "      <td>-99.140933</td>\n",
       "      <td>False</td>\n",
       "      <td>False</td>\n",
       "    </tr>\n",
       "    <tr>\n",
       "      <th>345526</th>\n",
       "      <td>8805407</td>\n",
       "      <td>2020</td>\n",
       "      <td>11</td>\n",
       "      <td>2020-11-24</td>\n",
       "      <td>PERDIDA DE LA VIDA POR ENFERMEDAD</td>\n",
       "      <td>HECHO NO DELICTIVO</td>\n",
       "      <td>Masculino</td>\n",
       "      <td>110</td>\n",
       "      <td>FISICA</td>\n",
       "      <td>CADAVER</td>\n",
       "      <td>...</td>\n",
       "      <td>2020-11-24</td>\n",
       "      <td>11:00:00</td>\n",
       "      <td>13:06:43</td>\n",
       "      <td>TLAHUAC</td>\n",
       "      <td>AGRICOLA METROPOLITANA</td>\n",
       "      <td>VILLA CENTRO AMERICANA</td>\n",
       "      <td>19.287869</td>\n",
       "      <td>-99.052495</td>\n",
       "      <td>False</td>\n",
       "      <td>False</td>\n",
       "    </tr>\n",
       "    <tr>\n",
       "      <th>403290</th>\n",
       "      <td>8883834</td>\n",
       "      <td>2021</td>\n",
       "      <td>3</td>\n",
       "      <td>2021-03-28</td>\n",
       "      <td>VIOLENCIA FAMILIAR</td>\n",
       "      <td>DELITO DE BAJO IMPACTO</td>\n",
       "      <td>Femenino</td>\n",
       "      <td>120</td>\n",
       "      <td>FISICA</td>\n",
       "      <td>VICTIMA Y DENUNCIANTE</td>\n",
       "      <td>...</td>\n",
       "      <td>2021-03-21</td>\n",
       "      <td>22:30:00</td>\n",
       "      <td>14:19:00</td>\n",
       "      <td>IZTAPALAPA</td>\n",
       "      <td>XALPA I</td>\n",
       "      <td>XALPA</td>\n",
       "      <td>19.334401</td>\n",
       "      <td>-99.015091</td>\n",
       "      <td>False</td>\n",
       "      <td>False</td>\n",
       "    </tr>\n",
       "    <tr>\n",
       "      <th>421776</th>\n",
       "      <td>8917704</td>\n",
       "      <td>2021</td>\n",
       "      <td>5</td>\n",
       "      <td>2021-05-01</td>\n",
       "      <td>ROBO A PASAJERO / CONDUCTOR DE VEHICULO CON VI...</td>\n",
       "      <td>DELITO DE BAJO IMPACTO</td>\n",
       "      <td>Masculino</td>\n",
       "      <td>101</td>\n",
       "      <td>FISICA</td>\n",
       "      <td>VICTIMA Y DENUNCIANTE</td>\n",
       "      <td>...</td>\n",
       "      <td>2021-05-01</td>\n",
       "      <td>10:30:00</td>\n",
       "      <td>14:40:00</td>\n",
       "      <td>XOCHIMILCO</td>\n",
       "      <td>SANTA MARIA TEPEPAN (PBLO)</td>\n",
       "      <td>SANTA MARÍA TEPEPAN</td>\n",
       "      <td>19.265889</td>\n",
       "      <td>-99.138503</td>\n",
       "      <td>False</td>\n",
       "      <td>False</td>\n",
       "    </tr>\n",
       "    <tr>\n",
       "      <th>444594</th>\n",
       "      <td>8950061</td>\n",
       "      <td>2021</td>\n",
       "      <td>6</td>\n",
       "      <td>2021-06-13</td>\n",
       "      <td>AMENAZAS</td>\n",
       "      <td>DELITO DE BAJO IMPACTO</td>\n",
       "      <td>Masculino</td>\n",
       "      <td>101</td>\n",
       "      <td>FISICA</td>\n",
       "      <td>VICTIMA Y DENUNCIANTE</td>\n",
       "      <td>...</td>\n",
       "      <td>2021-05-05</td>\n",
       "      <td>10:00:00</td>\n",
       "      <td>12:49:00</td>\n",
       "      <td>TLAHUAC</td>\n",
       "      <td>MIGUEL HIDALGO OTE</td>\n",
       "      <td>MIGUEL HIDALGO</td>\n",
       "      <td>19.289929</td>\n",
       "      <td>-99.042323</td>\n",
       "      <td>False</td>\n",
       "      <td>False</td>\n",
       "    </tr>\n",
       "    <tr>\n",
       "      <th>463141</th>\n",
       "      <td>8975660</td>\n",
       "      <td>2021</td>\n",
       "      <td>7</td>\n",
       "      <td>2021-07-19</td>\n",
       "      <td>VIOLENCIA FAMILIAR</td>\n",
       "      <td>DELITO DE BAJO IMPACTO</td>\n",
       "      <td>Masculino</td>\n",
       "      <td>101</td>\n",
       "      <td>FISICA</td>\n",
       "      <td>VICTIMA</td>\n",
       "      <td>...</td>\n",
       "      <td>2021-07-18</td>\n",
       "      <td>09:30:00</td>\n",
       "      <td>00:45:00</td>\n",
       "      <td>ALVARO OBREGON</td>\n",
       "      <td>MERCED GOMEZ</td>\n",
       "      <td>MERCED GÓMEZ</td>\n",
       "      <td>19.366318</td>\n",
       "      <td>-99.203641</td>\n",
       "      <td>False</td>\n",
       "      <td>False</td>\n",
       "    </tr>\n",
       "    <tr>\n",
       "      <th>479571</th>\n",
       "      <td>8998647</td>\n",
       "      <td>2021</td>\n",
       "      <td>8</td>\n",
       "      <td>2021-08-19</td>\n",
       "      <td>ROBO DE OBJETOS</td>\n",
       "      <td>DELITO DE BAJO IMPACTO</td>\n",
       "      <td>Masculino</td>\n",
       "      <td>102</td>\n",
       "      <td>FISICA</td>\n",
       "      <td>VICTIMA Y DENUNCIANTE</td>\n",
       "      <td>...</td>\n",
       "      <td>2021-08-09</td>\n",
       "      <td>11:00:00</td>\n",
       "      <td>15:19:00</td>\n",
       "      <td>BENITO JUAREZ</td>\n",
       "      <td>PORTALES I</td>\n",
       "      <td>PORTALES SUR</td>\n",
       "      <td>19.371056</td>\n",
       "      <td>-99.143199</td>\n",
       "      <td>False</td>\n",
       "      <td>False</td>\n",
       "    </tr>\n",
       "    <tr>\n",
       "      <th>561927</th>\n",
       "      <td>9111055</td>\n",
       "      <td>2022</td>\n",
       "      <td>1</td>\n",
       "      <td>2022-01-29</td>\n",
       "      <td>LESIONES CULPOSAS</td>\n",
       "      <td>DELITO DE BAJO IMPACTO</td>\n",
       "      <td>Masculino</td>\n",
       "      <td>104</td>\n",
       "      <td>FISICA</td>\n",
       "      <td>LESIONADO</td>\n",
       "      <td>...</td>\n",
       "      <td>2022-01-26</td>\n",
       "      <td>12:00:00</td>\n",
       "      <td>03:18:00</td>\n",
       "      <td>ALVARO OBREGON</td>\n",
       "      <td>FLORIDA</td>\n",
       "      <td>FLORIDA</td>\n",
       "      <td>19.352479</td>\n",
       "      <td>-99.177437</td>\n",
       "      <td>False</td>\n",
       "      <td>False</td>\n",
       "    </tr>\n",
       "    <tr>\n",
       "      <th>589476</th>\n",
       "      <td>9150196</td>\n",
       "      <td>2022</td>\n",
       "      <td>3</td>\n",
       "      <td>2022-03-22</td>\n",
       "      <td>VIOLENCIA FAMILIAR</td>\n",
       "      <td>DELITO DE BAJO IMPACTO</td>\n",
       "      <td>Femenino</td>\n",
       "      <td>102</td>\n",
       "      <td>FISICA</td>\n",
       "      <td>VICTIMA Y DENUNCIANTE</td>\n",
       "      <td>...</td>\n",
       "      <td>2022-03-20</td>\n",
       "      <td>15:00:00</td>\n",
       "      <td>15:19:00</td>\n",
       "      <td>GUSTAVO A. MADERO</td>\n",
       "      <td>COMPOSITORES MEXICANOS</td>\n",
       "      <td>COMPOSITORES MEXICANOS</td>\n",
       "      <td>19.567022</td>\n",
       "      <td>-99.142946</td>\n",
       "      <td>False</td>\n",
       "      <td>False</td>\n",
       "    </tr>\n",
       "    <tr>\n",
       "      <th>710848</th>\n",
       "      <td>9332648</td>\n",
       "      <td>2022</td>\n",
       "      <td>11</td>\n",
       "      <td>2022-11-19</td>\n",
       "      <td>VIOLENCIA FAMILIAR</td>\n",
       "      <td>DELITO DE BAJO IMPACTO</td>\n",
       "      <td>Masculino</td>\n",
       "      <td>103</td>\n",
       "      <td>FISICA</td>\n",
       "      <td>VICTIMA Y DENUNCIANTE</td>\n",
       "      <td>...</td>\n",
       "      <td>2022-11-17</td>\n",
       "      <td>08:00:00</td>\n",
       "      <td>17:47:00</td>\n",
       "      <td>XOCHIMILCO</td>\n",
       "      <td>SANTIAGO TEPALCATLALPAN (PBLO)</td>\n",
       "      <td>SANTIAGO TEPALCATLALPAN</td>\n",
       "      <td>19.241163</td>\n",
       "      <td>-99.132109</td>\n",
       "      <td>False</td>\n",
       "      <td>False</td>\n",
       "    </tr>\n",
       "    <tr>\n",
       "      <th>767029</th>\n",
       "      <td>9406127</td>\n",
       "      <td>2023</td>\n",
       "      <td>3</td>\n",
       "      <td>2023-03-02</td>\n",
       "      <td>VIOLENCIA FAMILIAR</td>\n",
       "      <td>DELITO DE BAJO IMPACTO</td>\n",
       "      <td>Femenino</td>\n",
       "      <td>103</td>\n",
       "      <td>FISICA</td>\n",
       "      <td>VICTIMA</td>\n",
       "      <td>...</td>\n",
       "      <td>2023-03-02</td>\n",
       "      <td>08:00:00</td>\n",
       "      <td>18:32:00</td>\n",
       "      <td>MIGUEL HIDALGO</td>\n",
       "      <td>ESCANDON II</td>\n",
       "      <td>ESCANDÓN I SECCIÓN</td>\n",
       "      <td>19.399056</td>\n",
       "      <td>-99.180993</td>\n",
       "      <td>False</td>\n",
       "      <td>False</td>\n",
       "    </tr>\n",
       "  </tbody>\n",
       "</table>\n",
       "<p>16 rows × 23 columns</p>\n",
       "</div>"
      ],
      "text/plain": [
       "        idcarpeta  anio_inicio  mes_inicio fechainicio  \\\n",
       "7727      8432308         2019           5  2019-05-21   \n",
       "72665     8582377         2019          12  2019-12-04   \n",
       "87863     8407714         2019           4  2019-04-18   \n",
       "171262    8530411         2019           9  2019-09-26   \n",
       "287347    8725367         2020           7  2020-07-24   \n",
       "317655    8767258         2020           9  2020-09-29   \n",
       "345526    8805407         2020          11  2020-11-24   \n",
       "403290    8883834         2021           3  2021-03-28   \n",
       "421776    8917704         2021           5  2021-05-01   \n",
       "444594    8950061         2021           6  2021-06-13   \n",
       "463141    8975660         2021           7  2021-07-19   \n",
       "479571    8998647         2021           8  2021-08-19   \n",
       "561927    9111055         2022           1  2022-01-29   \n",
       "589476    9150196         2022           3  2022-03-22   \n",
       "710848    9332648         2022          11  2022-11-19   \n",
       "767029    9406127         2023           3  2023-03-02   \n",
       "\n",
       "                                                   delito  \\\n",
       "7727       ROBO A TRANSEUNTE EN VIA PUBLICA CON VIOLENCIA   \n",
       "72665      ROBO A TRANSEUNTE EN VIA PUBLICA CON VIOLENCIA   \n",
       "87863                                     ROBO DE OBJETOS   \n",
       "171262                                 VIOLENCIA FAMILIAR   \n",
       "287347                                 VIOLENCIA FAMILIAR   \n",
       "317655                PERDIDA DE LA VIDA POR OTRAS CAUSAS   \n",
       "345526                  PERDIDA DE LA VIDA POR ENFERMEDAD   \n",
       "403290                                 VIOLENCIA FAMILIAR   \n",
       "421776  ROBO A PASAJERO / CONDUCTOR DE VEHICULO CON VI...   \n",
       "444594                                           AMENAZAS   \n",
       "463141                                 VIOLENCIA FAMILIAR   \n",
       "479571                                    ROBO DE OBJETOS   \n",
       "561927                                  LESIONES CULPOSAS   \n",
       "589476                                 VIOLENCIA FAMILIAR   \n",
       "710848                                 VIOLENCIA FAMILIAR   \n",
       "767029                                 VIOLENCIA FAMILIAR   \n",
       "\n",
       "                                                categoria       sexo  edad  \\\n",
       "7727    ROBO A TRANSEUNTE EN VÍA PÚBLICA CON Y SIN VIO...  Masculino   258   \n",
       "72665   ROBO A TRANSEUNTE EN VÍA PÚBLICA CON Y SIN VIO...  Masculino   369   \n",
       "87863                              DELITO DE BAJO IMPACTO  Masculino   111   \n",
       "171262                             DELITO DE BAJO IMPACTO  Masculino   104   \n",
       "287347                             DELITO DE BAJO IMPACTO   Femenino   103   \n",
       "317655                                 HECHO NO DELICTIVO  Masculino   114   \n",
       "345526                                 HECHO NO DELICTIVO  Masculino   110   \n",
       "403290                             DELITO DE BAJO IMPACTO   Femenino   120   \n",
       "421776                             DELITO DE BAJO IMPACTO  Masculino   101   \n",
       "444594                             DELITO DE BAJO IMPACTO  Masculino   101   \n",
       "463141                             DELITO DE BAJO IMPACTO  Masculino   101   \n",
       "479571                             DELITO DE BAJO IMPACTO  Masculino   102   \n",
       "561927                             DELITO DE BAJO IMPACTO  Masculino   104   \n",
       "589476                             DELITO DE BAJO IMPACTO   Femenino   102   \n",
       "710848                             DELITO DE BAJO IMPACTO  Masculino   103   \n",
       "767029                             DELITO DE BAJO IMPACTO   Femenino   103   \n",
       "\n",
       "       tipopersona        calidadjuridica  ...  fechahecho  horahecho  \\\n",
       "7727        FISICA  VICTIMA Y DENUNCIANTE  ...  2019-05-20   18:15:00   \n",
       "72665       FISICA  VICTIMA Y DENUNCIANTE  ...  2019-12-04   00:10:00   \n",
       "87863       FISICA  VICTIMA Y DENUNCIANTE  ...  2019-04-15   07:30:00   \n",
       "171262      FISICA                VICTIMA  ...  2019-06-28   12:00:00   \n",
       "287347      FISICA  VICTIMA Y DENUNCIANTE  ...  2020-07-23   12:45:00   \n",
       "317655      FISICA                CADAVER  ...  2020-09-28   17:30:00   \n",
       "345526      FISICA                CADAVER  ...  2020-11-24   11:00:00   \n",
       "403290      FISICA  VICTIMA Y DENUNCIANTE  ...  2021-03-21   22:30:00   \n",
       "421776      FISICA  VICTIMA Y DENUNCIANTE  ...  2021-05-01   10:30:00   \n",
       "444594      FISICA  VICTIMA Y DENUNCIANTE  ...  2021-05-05   10:00:00   \n",
       "463141      FISICA                VICTIMA  ...  2021-07-18   09:30:00   \n",
       "479571      FISICA  VICTIMA Y DENUNCIANTE  ...  2021-08-09   11:00:00   \n",
       "561927      FISICA              LESIONADO  ...  2022-01-26   12:00:00   \n",
       "589476      FISICA  VICTIMA Y DENUNCIANTE  ...  2022-03-20   15:00:00   \n",
       "710848      FISICA  VICTIMA Y DENUNCIANTE  ...  2022-11-17   08:00:00   \n",
       "767029      FISICA                VICTIMA  ...  2023-03-02   08:00:00   \n",
       "\n",
       "        horainicio      alcaldia_hechos                   colonia_datos  \\\n",
       "7727      14:42:00  VENUSTIANO CARRANZA                        CENTRO I   \n",
       "72665     01:49:10           IZTAPALAPA            PASEOS DE CHURUBUSCO   \n",
       "87863     10:07:53  VENUSTIANO CARRANZA                  ARTES GRAFICAS   \n",
       "171262    10:21:27    GUSTAVO A. MADERO                  PROVIDENCIA II   \n",
       "287347    14:38:20           IZTAPALAPA          CONSTITUCION DE 1917 I   \n",
       "317655    14:35:54    GUSTAVO A. MADERO             PRADOS DE CUAUTEPEC   \n",
       "345526    13:06:43              TLAHUAC          AGRICOLA METROPOLITANA   \n",
       "403290    14:19:00           IZTAPALAPA                         XALPA I   \n",
       "421776    14:40:00           XOCHIMILCO      SANTA MARIA TEPEPAN (PBLO)   \n",
       "444594    12:49:00              TLAHUAC              MIGUEL HIDALGO OTE   \n",
       "463141    00:45:00       ALVARO OBREGON                    MERCED GOMEZ   \n",
       "479571    15:19:00        BENITO JUAREZ                      PORTALES I   \n",
       "561927    03:18:00       ALVARO OBREGON                         FLORIDA   \n",
       "589476    15:19:00    GUSTAVO A. MADERO          COMPOSITORES MEXICANOS   \n",
       "710848    17:47:00           XOCHIMILCO  SANTIAGO TEPALCATLALPAN (PBLO)   \n",
       "767029    18:32:00       MIGUEL HIDALGO                     ESCANDON II   \n",
       "\n",
       "           fgj_colonia_registro crimen_lat crimen_lon is_duplicate  \\\n",
       "7727                ZONA CENTRO  19.430840 -99.124680        False   \n",
       "72665         CENTRAL DE ABASTO  19.382520 -99.087010        False   \n",
       "87863            ARTES GRAFICAS  19.411140 -99.124840        False   \n",
       "171262              PROVIDENCIA  19.481600 -99.067450        False   \n",
       "287347     CONSTITUCIÓN DE 1917  19.351295 -99.066117        False   \n",
       "317655      PRADOS DE CUAUTEPEC  19.560390 -99.140933        False   \n",
       "345526   VILLA CENTRO AMERICANA  19.287869 -99.052495        False   \n",
       "403290                    XALPA  19.334401 -99.015091        False   \n",
       "421776      SANTA MARÍA TEPEPAN  19.265889 -99.138503        False   \n",
       "444594           MIGUEL HIDALGO  19.289929 -99.042323        False   \n",
       "463141             MERCED GÓMEZ  19.366318 -99.203641        False   \n",
       "479571             PORTALES SUR  19.371056 -99.143199        False   \n",
       "561927                  FLORIDA  19.352479 -99.177437        False   \n",
       "589476   COMPOSITORES MEXICANOS  19.567022 -99.142946        False   \n",
       "710848  SANTIAGO TEPALCATLALPAN  19.241163 -99.132109        False   \n",
       "767029       ESCANDÓN I SECCIÓN  19.399056 -99.180993        False   \n",
       "\n",
       "        idcarpeta_on_next_row  \n",
       "7727                    False  \n",
       "72665                   False  \n",
       "87863                   False  \n",
       "171262                  False  \n",
       "287347                  False  \n",
       "317655                  False  \n",
       "345526                  False  \n",
       "403290                  False  \n",
       "421776                  False  \n",
       "444594                  False  \n",
       "463141                  False  \n",
       "479571                  False  \n",
       "561927                  False  \n",
       "589476                  False  \n",
       "710848                  False  \n",
       "767029                  False  \n",
       "\n",
       "[16 rows x 23 columns]"
      ]
     },
     "execution_count": 20,
     "metadata": {},
     "output_type": "execute_result"
    }
   ],
   "source": [
    "crimes2[crimes2[\"edad\"] > 100 ]"
   ]
  },
  {
   "cell_type": "code",
   "execution_count": 21,
   "id": "78f97dc3-87ac-4024-994a-2e36ad957d29",
   "metadata": {
    "tags": []
   },
   "outputs": [
    {
     "data": {
      "text/html": [
       "<div>\n",
       "<style scoped>\n",
       "    .dataframe tbody tr th:only-of-type {\n",
       "        vertical-align: middle;\n",
       "    }\n",
       "\n",
       "    .dataframe tbody tr th {\n",
       "        vertical-align: top;\n",
       "    }\n",
       "\n",
       "    .dataframe thead th {\n",
       "        text-align: right;\n",
       "    }\n",
       "</style>\n",
       "<table border=\"1\" class=\"dataframe\">\n",
       "  <thead>\n",
       "    <tr style=\"text-align: right;\">\n",
       "      <th></th>\n",
       "      <th>idcarpeta</th>\n",
       "      <th>anio_inicio</th>\n",
       "      <th>mes_inicio</th>\n",
       "      <th>fechainicio</th>\n",
       "      <th>delito</th>\n",
       "      <th>categoria</th>\n",
       "      <th>sexo</th>\n",
       "      <th>edad</th>\n",
       "      <th>tipopersona</th>\n",
       "      <th>calidadjuridica</th>\n",
       "      <th>...</th>\n",
       "      <th>fechahecho</th>\n",
       "      <th>horahecho</th>\n",
       "      <th>horainicio</th>\n",
       "      <th>alcaldia_hechos</th>\n",
       "      <th>colonia_datos</th>\n",
       "      <th>fgj_colonia_registro</th>\n",
       "      <th>crimen_lat</th>\n",
       "      <th>crimen_lon</th>\n",
       "      <th>is_duplicate</th>\n",
       "      <th>idcarpeta_on_next_row</th>\n",
       "    </tr>\n",
       "  </thead>\n",
       "  <tbody>\n",
       "    <tr>\n",
       "      <th>317655</th>\n",
       "      <td>8767258</td>\n",
       "      <td>2020</td>\n",
       "      <td>9</td>\n",
       "      <td>2020-09-29</td>\n",
       "      <td>PERDIDA DE LA VIDA POR OTRAS CAUSAS</td>\n",
       "      <td>HECHO NO DELICTIVO</td>\n",
       "      <td>Masculino</td>\n",
       "      <td>114</td>\n",
       "      <td>FISICA</td>\n",
       "      <td>CADAVER</td>\n",
       "      <td>...</td>\n",
       "      <td>2020-09-28</td>\n",
       "      <td>17:30:00</td>\n",
       "      <td>14:35:54</td>\n",
       "      <td>GUSTAVO A. MADERO</td>\n",
       "      <td>PRADOS DE CUAUTEPEC</td>\n",
       "      <td>PRADOS DE CUAUTEPEC</td>\n",
       "      <td>19.560390</td>\n",
       "      <td>-99.140933</td>\n",
       "      <td>False</td>\n",
       "      <td>False</td>\n",
       "    </tr>\n",
       "    <tr>\n",
       "      <th>345526</th>\n",
       "      <td>8805407</td>\n",
       "      <td>2020</td>\n",
       "      <td>11</td>\n",
       "      <td>2020-11-24</td>\n",
       "      <td>PERDIDA DE LA VIDA POR ENFERMEDAD</td>\n",
       "      <td>HECHO NO DELICTIVO</td>\n",
       "      <td>Masculino</td>\n",
       "      <td>110</td>\n",
       "      <td>FISICA</td>\n",
       "      <td>CADAVER</td>\n",
       "      <td>...</td>\n",
       "      <td>2020-11-24</td>\n",
       "      <td>11:00:00</td>\n",
       "      <td>13:06:43</td>\n",
       "      <td>TLAHUAC</td>\n",
       "      <td>AGRICOLA METROPOLITANA</td>\n",
       "      <td>VILLA CENTRO AMERICANA</td>\n",
       "      <td>19.287869</td>\n",
       "      <td>-99.052495</td>\n",
       "      <td>False</td>\n",
       "      <td>False</td>\n",
       "    </tr>\n",
       "  </tbody>\n",
       "</table>\n",
       "<p>2 rows × 23 columns</p>\n",
       "</div>"
      ],
      "text/plain": [
       "        idcarpeta  anio_inicio  mes_inicio fechainicio  \\\n",
       "317655    8767258         2020           9  2020-09-29   \n",
       "345526    8805407         2020          11  2020-11-24   \n",
       "\n",
       "                                     delito           categoria       sexo  \\\n",
       "317655  PERDIDA DE LA VIDA POR OTRAS CAUSAS  HECHO NO DELICTIVO  Masculino   \n",
       "345526    PERDIDA DE LA VIDA POR ENFERMEDAD  HECHO NO DELICTIVO  Masculino   \n",
       "\n",
       "        edad tipopersona calidadjuridica  ...  fechahecho  horahecho  \\\n",
       "317655   114      FISICA         CADAVER  ...  2020-09-28   17:30:00   \n",
       "345526   110      FISICA         CADAVER  ...  2020-11-24   11:00:00   \n",
       "\n",
       "        horainicio    alcaldia_hechos           colonia_datos  \\\n",
       "317655    14:35:54  GUSTAVO A. MADERO     PRADOS DE CUAUTEPEC   \n",
       "345526    13:06:43            TLAHUAC  AGRICOLA METROPOLITANA   \n",
       "\n",
       "          fgj_colonia_registro crimen_lat crimen_lon is_duplicate  \\\n",
       "317655     PRADOS DE CUAUTEPEC  19.560390 -99.140933        False   \n",
       "345526  VILLA CENTRO AMERICANA  19.287869 -99.052495        False   \n",
       "\n",
       "        idcarpeta_on_next_row  \n",
       "317655                  False  \n",
       "345526                  False  \n",
       "\n",
       "[2 rows x 23 columns]"
      ]
     },
     "execution_count": 21,
     "metadata": {},
     "output_type": "execute_result"
    }
   ],
   "source": [
    "# Conditional statement of the rows we want to change\n",
    "mask  = (crimes2[\"categoria\"] != 'HECHO NO DELICTIVO') & (crimes2[\"edad\"] > 100)\n",
    "\n",
    "#Calculating average age\n",
    "average_age = np.average(crimes2['edad'])\n",
    "\n",
    "crimes2.loc[mask,'edad'] = average_age\n",
    "crimes2[\"edad\"] = crimes2[\"edad\"].round().astype(int)\n",
    "\n",
    "#Validate that only non crime related deaths are related to people older than 100 years\n",
    "crimes2[crimes2[\"edad\"] > 100 ]"
   ]
  },
  {
   "cell_type": "markdown",
   "id": "6dbb92ec-e934-4d6e-859f-fe7d653d29f1",
   "metadata": {},
   "source": [
    "Finally, some column names will be replaced for a simpler option"
   ]
  },
  {
   "cell_type": "code",
   "execution_count": 22,
   "id": "49f813ef-d95a-4544-aca1-649cd5795559",
   "metadata": {
    "tags": []
   },
   "outputs": [],
   "source": [
    "for col in [\"is_duplicate\", \"idcarpeta_on_next_row\"]:\n",
    "    if col in crimes2.columns:\n",
    "        del crimes2[col]  \n",
    "        \n",
    "crimes2.rename(columns = {\"alcaldia_hechos\":\"alcaldia\", \"fgj_colonia_registro\":\"colonia\", \"colonia_datos\":\"colonia_alt\" } , inplace = True)\n",
    "crimes2.columns = crimes2.columns.str.replace('_inicio', '_denuncia')\n",
    "crimes2.columns = crimes2.columns.str.replace('inicio', '_denuncia')\n",
    "crimes2.columns = crimes2.columns.str.replace('ahecho', 'a_hecho')"
   ]
  },
  {
   "cell_type": "code",
   "execution_count": 23,
   "id": "91088d4a-3197-4ba9-91bf-06fa2db0e182",
   "metadata": {
    "tags": []
   },
   "outputs": [],
   "source": [
    "crimes2 = crimes2[['idcarpeta', 'delito', 'categoria', 'alcaldia', 'colonia', 'sexo', 'edad', 'tipopersona', 'calidadjuridica',\n",
    "                  'anio_denuncia', 'mes_denuncia', 'fecha_denuncia', 'hora_denuncia','competencia',   \n",
    "                  'anio_hecho', 'mes_hecho', 'fecha_hecho', 'hora_hecho','colonia_alt', 'crimen_lat','crimen_lon']]"
   ]
  },
  {
   "cell_type": "code",
   "execution_count": 24,
   "id": "b139ef91-41ca-4baf-a268-869a40092374",
   "metadata": {
    "tags": []
   },
   "outputs": [
    {
     "name": "stdout",
     "output_type": "stream",
     "text": [
      "<class 'str'>\n",
      "<class 'str'>\n",
      "<class 'numpy.int32'>\n"
     ]
    }
   ],
   "source": [
    "print(type(crimes2[\"fecha_denuncia\"][0]))\n",
    "print(type(crimes2[\"fecha_hecho\"][0]))\n",
    "print(type(crimes2[\"anio_hecho\"][0]))"
   ]
  },
  {
   "cell_type": "markdown",
   "id": "d2a9ed6a-ef59-420c-b311-c7066900b1af",
   "metadata": {
    "tags": []
   },
   "source": [
    "## Checking issues with date related data"
   ]
  },
  {
   "cell_type": "code",
   "execution_count": 25,
   "id": "862fd1eb-3e5e-45b7-aacb-558c49fcad65",
   "metadata": {
    "tags": []
   },
   "outputs": [
    {
     "data": {
      "text/plain": [
       "array([2018, 2019, 2010, 2017, 2016, 2014, 2000, 2012, 1996, 2011, 2006,\n",
       "       2015, 2013, 1972, 1983, 2003, 1971, 2009, 2004, 1998, 2008, 2005,\n",
       "       1987, 2007, 1968, 1993, 1995, 2001, 1981, 1999, 2002, 1986, 1992,\n",
       "       1994, 1989, 1991, 1990, 1974, 1997, 1984, 1985, 1964, 1969, 1982,\n",
       "       1975, 2020, 1950, 1988, 1979, 1962, 1952, 1980, 2021, 1970, 1955,\n",
       "       1976, 1963, 1977, 1967, 1958, 1917, 1966, 2022, 1978,  222, 2023])"
      ]
     },
     "execution_count": 25,
     "metadata": {},
     "output_type": "execute_result"
    }
   ],
   "source": [
    "crimes2.anio_hecho.unique()\n"
   ]
  },
  {
   "cell_type": "markdown",
   "id": "0ac73235-cfd2-404a-b96a-798abeacf9b6",
   "metadata": {},
   "source": [
    "Data related to crimes commited many years ago is not relevant to this analysis, since it doesn't reveal the recent crime behaviour. So data before 2015 will be removed from this dataset"
   ]
  },
  {
   "cell_type": "code",
   "execution_count": 26,
   "id": "edcdfd11-f317-4f6f-bdd8-34e2f4d8ae5e",
   "metadata": {
    "tags": []
   },
   "outputs": [],
   "source": [
    "crimes2['fecha_hecho'].replace('0222-03-20', '03/20/2022', inplace = True)\n",
    "crimes2['anio_hecho'].replace(222, 2022, inplace = True)\n"
   ]
  },
  {
   "cell_type": "code",
   "execution_count": 27,
   "id": "bc9eb28d-b87f-4175-8232-73bbea56c012",
   "metadata": {
    "tags": []
   },
   "outputs": [
    {
     "name": "stdout",
     "output_type": "stream",
     "text": [
      "Dataframe before dropping old cases: (784802, 21)\n",
      "Dataframe after dropping old cases: (781226, 21)\n"
     ]
    }
   ],
   "source": [
    "crimes_final= crimes2[ crimes2['anio_hecho'] > 2014].copy()\n",
    "\n",
    "print('Dataframe before dropping old cases: {}'.format(crimes2.shape))\n",
    "print('Dataframe after dropping old cases: {}'.format(crimes_final.shape))\n"
   ]
  },
  {
   "cell_type": "code",
   "execution_count": 28,
   "id": "3ba301a2-2374-4fc1-abbd-38619fcb8fb5",
   "metadata": {
    "tags": []
   },
   "outputs": [],
   "source": [
    "crimes_final[\"hecho_time\"]    = pd.to_datetime(crimes_final['fecha_hecho']    + ' ' + crimes_final['hora_hecho']     , infer_datetime_format=True)\n",
    "crimes_final[\"denuncia_time\"] = pd.to_datetime(crimes_final['fecha_denuncia'] + ' ' + crimes_final['hora_denuncia']  , infer_datetime_format=True)\n"
   ]
  },
  {
   "cell_type": "code",
   "execution_count": 29,
   "id": "cce2e30b-cca3-4b6b-98d6-c9acdd26e88f",
   "metadata": {
    "tags": []
   },
   "outputs": [
    {
     "data": {
      "text/html": [
       "<div>\n",
       "<style scoped>\n",
       "    .dataframe tbody tr th:only-of-type {\n",
       "        vertical-align: middle;\n",
       "    }\n",
       "\n",
       "    .dataframe tbody tr th {\n",
       "        vertical-align: top;\n",
       "    }\n",
       "\n",
       "    .dataframe thead th {\n",
       "        text-align: right;\n",
       "    }\n",
       "</style>\n",
       "<table border=\"1\" class=\"dataframe\">\n",
       "  <thead>\n",
       "    <tr style=\"text-align: right;\">\n",
       "      <th></th>\n",
       "      <th>idcarpeta</th>\n",
       "      <th>delito</th>\n",
       "      <th>categoria</th>\n",
       "      <th>alcaldia</th>\n",
       "      <th>colonia</th>\n",
       "      <th>sexo</th>\n",
       "      <th>edad</th>\n",
       "      <th>tipopersona</th>\n",
       "      <th>calidadjuridica</th>\n",
       "      <th>anio_denuncia</th>\n",
       "      <th>...</th>\n",
       "      <th>competencia</th>\n",
       "      <th>anio_hecho</th>\n",
       "      <th>mes_hecho</th>\n",
       "      <th>fecha_hecho</th>\n",
       "      <th>hora_hecho</th>\n",
       "      <th>colonia_alt</th>\n",
       "      <th>crimen_lat</th>\n",
       "      <th>crimen_lon</th>\n",
       "      <th>hecho_time</th>\n",
       "      <th>denuncia_time</th>\n",
       "    </tr>\n",
       "  </thead>\n",
       "  <tbody>\n",
       "    <tr>\n",
       "      <th>0</th>\n",
       "      <td>8324429</td>\n",
       "      <td>FRAUDE</td>\n",
       "      <td>DELITO DE BAJO IMPACTO</td>\n",
       "      <td>ALVARO OBREGON</td>\n",
       "      <td>GUADALUPE INN</td>\n",
       "      <td>Masculino</td>\n",
       "      <td>62</td>\n",
       "      <td>FISICA</td>\n",
       "      <td>OFENDIDO</td>\n",
       "      <td>2019</td>\n",
       "      <td>...</td>\n",
       "      <td>FUERO COMUN</td>\n",
       "      <td>2018</td>\n",
       "      <td>8</td>\n",
       "      <td>2018-08-29</td>\n",
       "      <td>12:00:00</td>\n",
       "      <td>GUADALUPE INN</td>\n",
       "      <td>19.36125</td>\n",
       "      <td>-99.18314</td>\n",
       "      <td>2018-08-29 12:00:00</td>\n",
       "      <td>2019-01-04 12:19:00</td>\n",
       "    </tr>\n",
       "    <tr>\n",
       "      <th>1</th>\n",
       "      <td>8324430</td>\n",
       "      <td>PRODUCCIÓN, IMPRESIÓN, ENAJENACIÓN, DISTRIBUCI...</td>\n",
       "      <td>DELITO DE BAJO IMPACTO</td>\n",
       "      <td>AZCAPOTZALCO</td>\n",
       "      <td>VICTORIA DE LAS DEMOCRACIAS</td>\n",
       "      <td>Femenino</td>\n",
       "      <td>38</td>\n",
       "      <td>FISICA</td>\n",
       "      <td>VICTIMA Y DENUNCIANTE</td>\n",
       "      <td>2019</td>\n",
       "      <td>...</td>\n",
       "      <td>FUERO COMUN</td>\n",
       "      <td>2018</td>\n",
       "      <td>12</td>\n",
       "      <td>2018-12-15</td>\n",
       "      <td>15:00:00</td>\n",
       "      <td>VICTORIA DE LAS DEMOCRACIAS</td>\n",
       "      <td>19.47181</td>\n",
       "      <td>-99.16458</td>\n",
       "      <td>2018-12-15 15:00:00</td>\n",
       "      <td>2019-01-04 12:20:00</td>\n",
       "    </tr>\n",
       "    <tr>\n",
       "      <th>2</th>\n",
       "      <td>8324431</td>\n",
       "      <td>ROBO A TRANSEUNTE SALIENDO DEL BANCO CON VIOLE...</td>\n",
       "      <td>ROBO A CUENTAHABIENTE SALIENDO DEL CAJERO CON ...</td>\n",
       "      <td>COYOACAN</td>\n",
       "      <td>COPILCO UNIVERSIDAD ISSSTE</td>\n",
       "      <td>Masculino</td>\n",
       "      <td>42</td>\n",
       "      <td>FISICA</td>\n",
       "      <td>VICTIMA Y DENUNCIANTE</td>\n",
       "      <td>2019</td>\n",
       "      <td>...</td>\n",
       "      <td>FUERO COMUN</td>\n",
       "      <td>2018</td>\n",
       "      <td>12</td>\n",
       "      <td>2018-12-22</td>\n",
       "      <td>15:30:00</td>\n",
       "      <td>COPILCO EL BAJO</td>\n",
       "      <td>19.33797</td>\n",
       "      <td>-99.18611</td>\n",
       "      <td>2018-12-22 15:30:00</td>\n",
       "      <td>2019-01-04 12:23:00</td>\n",
       "    </tr>\n",
       "    <tr>\n",
       "      <th>3</th>\n",
       "      <td>8324435</td>\n",
       "      <td>ROBO DE VEHICULO DE SERVICIO PARTICULAR SIN VI...</td>\n",
       "      <td>ROBO DE VEHÍCULO CON Y SIN VIOLENCIA</td>\n",
       "      <td>IZTACALCO</td>\n",
       "      <td>AGRÍCOLA PANTITLAN</td>\n",
       "      <td>Masculino</td>\n",
       "      <td>35</td>\n",
       "      <td>FISICA</td>\n",
       "      <td>VICTIMA Y DENUNCIANTE</td>\n",
       "      <td>2019</td>\n",
       "      <td>...</td>\n",
       "      <td>FUERO COMUN</td>\n",
       "      <td>2019</td>\n",
       "      <td>1</td>\n",
       "      <td>2019-01-04</td>\n",
       "      <td>06:00:00</td>\n",
       "      <td>PANTITLAN V</td>\n",
       "      <td>19.40327</td>\n",
       "      <td>-99.05983</td>\n",
       "      <td>2019-01-04 06:00:00</td>\n",
       "      <td>2019-01-04 12:27:00</td>\n",
       "    </tr>\n",
       "    <tr>\n",
       "      <th>4</th>\n",
       "      <td>8324438</td>\n",
       "      <td>ROBO DE MOTOCICLETA SIN VIOLENCIA</td>\n",
       "      <td>ROBO DE VEHÍCULO CON Y SIN VIOLENCIA</td>\n",
       "      <td>IZTAPALAPA</td>\n",
       "      <td>PROGRESISTA</td>\n",
       "      <td>Masculino</td>\n",
       "      <td>39</td>\n",
       "      <td>FISICA</td>\n",
       "      <td>VICTIMA</td>\n",
       "      <td>2019</td>\n",
       "      <td>...</td>\n",
       "      <td>FUERO COMUN</td>\n",
       "      <td>2019</td>\n",
       "      <td>1</td>\n",
       "      <td>2019-01-03</td>\n",
       "      <td>20:00:00</td>\n",
       "      <td>LAS AMERICAS (U HAB)</td>\n",
       "      <td>19.35480</td>\n",
       "      <td>-99.06324</td>\n",
       "      <td>2019-01-03 20:00:00</td>\n",
       "      <td>2019-01-04 12:35:00</td>\n",
       "    </tr>\n",
       "  </tbody>\n",
       "</table>\n",
       "<p>5 rows × 23 columns</p>\n",
       "</div>"
      ],
      "text/plain": [
       "   idcarpeta                                             delito  \\\n",
       "0    8324429                                             FRAUDE   \n",
       "1    8324430  PRODUCCIÓN, IMPRESIÓN, ENAJENACIÓN, DISTRIBUCI...   \n",
       "2    8324431  ROBO A TRANSEUNTE SALIENDO DEL BANCO CON VIOLE...   \n",
       "3    8324435  ROBO DE VEHICULO DE SERVICIO PARTICULAR SIN VI...   \n",
       "4    8324438                  ROBO DE MOTOCICLETA SIN VIOLENCIA   \n",
       "\n",
       "                                           categoria        alcaldia  \\\n",
       "0                             DELITO DE BAJO IMPACTO  ALVARO OBREGON   \n",
       "1                             DELITO DE BAJO IMPACTO    AZCAPOTZALCO   \n",
       "2  ROBO A CUENTAHABIENTE SALIENDO DEL CAJERO CON ...        COYOACAN   \n",
       "3               ROBO DE VEHÍCULO CON Y SIN VIOLENCIA       IZTACALCO   \n",
       "4               ROBO DE VEHÍCULO CON Y SIN VIOLENCIA      IZTAPALAPA   \n",
       "\n",
       "                       colonia       sexo  edad tipopersona  \\\n",
       "0                GUADALUPE INN  Masculino    62      FISICA   \n",
       "1  VICTORIA DE LAS DEMOCRACIAS   Femenino    38      FISICA   \n",
       "2   COPILCO UNIVERSIDAD ISSSTE  Masculino    42      FISICA   \n",
       "3           AGRÍCOLA PANTITLAN  Masculino    35      FISICA   \n",
       "4                  PROGRESISTA  Masculino    39      FISICA   \n",
       "\n",
       "         calidadjuridica  anio_denuncia  ...  competencia anio_hecho  \\\n",
       "0               OFENDIDO           2019  ...  FUERO COMUN       2018   \n",
       "1  VICTIMA Y DENUNCIANTE           2019  ...  FUERO COMUN       2018   \n",
       "2  VICTIMA Y DENUNCIANTE           2019  ...  FUERO COMUN       2018   \n",
       "3  VICTIMA Y DENUNCIANTE           2019  ...  FUERO COMUN       2019   \n",
       "4                VICTIMA           2019  ...  FUERO COMUN       2019   \n",
       "\n",
       "  mes_hecho fecha_hecho  hora_hecho                  colonia_alt crimen_lat  \\\n",
       "0         8  2018-08-29    12:00:00                GUADALUPE INN   19.36125   \n",
       "1        12  2018-12-15    15:00:00  VICTORIA DE LAS DEMOCRACIAS   19.47181   \n",
       "2        12  2018-12-22    15:30:00              COPILCO EL BAJO   19.33797   \n",
       "3         1  2019-01-04    06:00:00                  PANTITLAN V   19.40327   \n",
       "4         1  2019-01-03    20:00:00         LAS AMERICAS (U HAB)   19.35480   \n",
       "\n",
       "  crimen_lon          hecho_time       denuncia_time  \n",
       "0  -99.18314 2018-08-29 12:00:00 2019-01-04 12:19:00  \n",
       "1  -99.16458 2018-12-15 15:00:00 2019-01-04 12:20:00  \n",
       "2  -99.18611 2018-12-22 15:30:00 2019-01-04 12:23:00  \n",
       "3  -99.05983 2019-01-04 06:00:00 2019-01-04 12:27:00  \n",
       "4  -99.06324 2019-01-03 20:00:00 2019-01-04 12:35:00  \n",
       "\n",
       "[5 rows x 23 columns]"
      ]
     },
     "execution_count": 29,
     "metadata": {},
     "output_type": "execute_result"
    }
   ],
   "source": [
    "crimes_final.head()"
   ]
  },
  {
   "cell_type": "markdown",
   "id": "4bce601a-73ea-4723-b0dc-6dcd70da3932",
   "metadata": {},
   "source": [
    "## Exporting the dataset\n",
    "The resulting dataset after the transformations will be exported to a csv"
   ]
  },
  {
   "cell_type": "code",
   "execution_count": 30,
   "id": "bd3c8b7d-8ab7-416b-95ea-ffa956fccb37",
   "metadata": {
    "tags": []
   },
   "outputs": [],
   "source": [
    "#crimes_final.to_csv(repo_path+'/datasets/crimes.csv', index=False)"
   ]
  },
  {
   "cell_type": "code",
   "execution_count": 31,
   "id": "0fbe013b-5dab-4e43-908a-f3b247726041",
   "metadata": {
    "tags": []
   },
   "outputs": [],
   "source": [
    "crimes_final.to_csv('../datasets/crimes_clean.csv.zip', compression = 'zip', index=False)"
   ]
  },
  {
   "cell_type": "markdown",
   "id": "62fb60fe-443b-4df4-9075-55ae7b2d0f2e",
   "metadata": {
    "tags": []
   },
   "source": [
    "## Getting the new datasets"
   ]
  },
  {
   "cell_type": "code",
   "execution_count": null,
   "id": "f69b1760-aed6-4a98-91bf-690666571e57",
   "metadata": {
    "tags": []
   },
   "outputs": [],
   "source": [
    "!pip install xlrd"
   ]
  },
  {
   "cell_type": "code",
   "execution_count": null,
   "id": "5344cf07-5927-4dcd-9ff5-26882dd06759",
   "metadata": {
    "tags": []
   },
   "outputs": [],
   "source": [
    "# Insert the path of the dataset in your local machine\n",
    "metro_stations_path = \"\\datasets\\metro\\metro_cdmx_estaciones.xls\"\n",
    "stations_raw = pd.read_excel(repo_path+metro_stations_path)\n",
    "\n"
   ]
  },
  {
   "cell_type": "markdown",
   "id": "66e062e3-3f20-4bb7-9b41-0e871f013bc2",
   "metadata": {
    "tags": []
   },
   "source": [
    "## Transforming the new datasets\n",
    "### Metro stations dataset\n",
    "\n",
    "The *Sistema* column has the same value in all rows, so it will be deleted. Also, some column names are going to be changed:"
   ]
  },
  {
   "cell_type": "code",
   "execution_count": null,
   "id": "69d3fb27-aa0a-4fef-8932-d550332158c5",
   "metadata": {
    "tags": []
   },
   "outputs": [],
   "source": [
    "stations_raw.head()"
   ]
  },
  {
   "cell_type": "code",
   "execution_count": null,
   "id": "5b984146-93e7-4a00-8e88-0ba437e8c4c2",
   "metadata": {
    "tags": []
   },
   "outputs": [],
   "source": [
    "stations_raw.rename(columns = lambda x : x.lower() , inplace = True)\n",
    "stations_raw.rename(columns = {\"a_o\":\"year\", \"fid\":\"id\"} , inplace = True)\n",
    "\n",
    "del stations_raw['sistema']\n"
   ]
  },
  {
   "cell_type": "markdown",
   "id": "4106e839-0b00-4b65-9338-105aa1c5dda6",
   "metadata": {},
   "source": [
    "There is a column called *geometry* that contains, in string format, longitude and latitude. The numeric values from this string will be extracted and stored in two new columns"
   ]
  },
  {
   "cell_type": "code",
   "execution_count": null,
   "id": "0fc1a270-e422-4c89-a463-32b74ca2b0db",
   "metadata": {
    "tags": []
   },
   "outputs": [],
   "source": [
    "\n",
    "# Regular expression pattern to extract numeric values\n",
    "pattern = r\"\\((-?\\d+\\.\\d+) (-?\\d+\\.\\d+)\\)\"\n",
    "\n",
    "import re\n",
    "\n",
    "def extract_coordinates(point_str):\n",
    "    matches = re.findall(pattern, point_str)\n",
    "    if matches:\n",
    "        return pd.Series(matches[0], index=['station_lon', 'station_lat'])\n",
    "    return pd.Series([None, None], index=['station_lon', 'station_lat'])\n",
    "\n",
    "stations_raw[['station_lon', 'station_lat']] = stations_raw['geometry'].apply(extract_coordinates)\n",
    "\n"
   ]
  },
  {
   "cell_type": "markdown",
   "id": "8c1d8a1c-2cde-45d3-8b82-e93fe717b692",
   "metadata": {
    "tags": []
   },
   "source": [
    "The columns *geometry* and *cve_est* will be dropped because they are redundant . *id* column will be converted to a numeric value"
   ]
  },
  {
   "cell_type": "code",
   "execution_count": null,
   "id": "f7c536e8-e3dc-462c-a5b1-86a71bf8f708",
   "metadata": {
    "tags": []
   },
   "outputs": [],
   "source": [
    "del stations_raw['geometry']\n",
    "del stations_raw['cve_est']"
   ]
  },
  {
   "cell_type": "markdown",
   "id": "40c8db82-95d1-420f-b89c-e0062190d218",
   "metadata": {},
   "source": [
    "The categorical values in column id will be replaced by a numeric value by erasing everything but the number inside the column"
   ]
  },
  {
   "cell_type": "code",
   "execution_count": null,
   "id": "97adc67a-98a2-4652-8dd9-c4aa63d11b3d",
   "metadata": {
    "tags": []
   },
   "outputs": [],
   "source": [
    "stations_raw['id'] = stations_raw.id.str.replace('cdmx_estaciones_metro.', '')\n",
    "stations_raw['id'] = pd.to_numeric(stations_raw['id'])"
   ]
  },
  {
   "cell_type": "code",
   "execution_count": null,
   "id": "5839a81b-cf45-4b77-a142-a4061db40e5c",
   "metadata": {
    "tags": []
   },
   "outputs": [],
   "source": [
    "null_counts = stations_raw.isnull().sum()\n",
    "print(null_counts)"
   ]
  },
  {
   "cell_type": "markdown",
   "id": "6d7a8d93-5ad9-407f-9051-241af918b15f",
   "metadata": {},
   "source": [
    "No null values are present on this dataset, so there won't be any deleted rows."
   ]
  },
  {
   "cell_type": "code",
   "execution_count": null,
   "id": "24601111-e5d0-4ffd-a315-f0ea31b133a2",
   "metadata": {
    "tags": []
   },
   "outputs": [],
   "source": [
    "stations = stations_raw.loc[:,['id','nombre','linea','est','cve_eod17','tipo','alcaldias','year','station_lat','station_lon']].copy()\n",
    "stations.head()\n"
   ]
  },
  {
   "cell_type": "markdown",
   "id": "833c01d8-7b09-4baa-a565-06bfa2dc4607",
   "metadata": {},
   "source": [
    "### Cams dataset\n"
   ]
  },
  {
   "cell_type": "code",
   "execution_count": null,
   "id": "358254d7-1649-4073-bd92-8cb012cdb610",
   "metadata": {
    "tags": []
   },
   "outputs": [],
   "source": [
    "cams_path = \"\\datasets\\mi-calle_camaras\\programa-mi-calle-shapes.zip\"\n",
    "zf = zipfile.ZipFile(repo_path+cams_path) \n",
    "cams_raw = pd.read_csv(zf.open('programa-mi-calle-shapes.csv'))\n",
    "print(cams_raw.shape)\n",
    "cams_raw.head()"
   ]
  },
  {
   "cell_type": "markdown",
   "id": "73b7f6c7-e021-4033-989f-7a4cba70e665",
   "metadata": {},
   "source": [
    "The cams dataset contains a column with the centroid of the *colonia* or neighborhood. The numeric values will be extracted and saved in two new columns. Also, the values from the categorical variable *prioritari* will be replaced by 1 or 0. "
   ]
  },
  {
   "cell_type": "code",
   "execution_count": null,
   "id": "b7b4bef5-3696-4bed-a6c7-3b4385db9413",
   "metadata": {
    "tags": []
   },
   "outputs": [],
   "source": [
    "cams_raw.isnull().sum()"
   ]
  },
  {
   "cell_type": "markdown",
   "id": "e37c076b-1e85-4d5c-a184-0e00913f2f63",
   "metadata": {},
   "source": [
    "There are only 17 null values in the neighborhood location data. But those rows will be deleted."
   ]
  },
  {
   "cell_type": "code",
   "execution_count": null,
   "id": "009c574a-5bf0-4f01-97b6-b502d20ace2d",
   "metadata": {
    "tags": []
   },
   "outputs": [],
   "source": [
    "cams_raw = cams_raw.dropna()\n",
    "\n",
    "cams_raw[['colonia_lat', 'colonia_lon']] = cams_raw['geo_point_2d'].str.split(',', expand=True)\n",
    "cams_raw['colonia_lat'] = pd.to_numeric(cams_raw['colonia_lat'])\n",
    "cams_raw['colonia_lon'] = pd.to_numeric(cams_raw['colonia_lon'])\n",
    "\n",
    "del cams_raw['geo_point_2d']\n",
    "\n",
    "cams_raw['prioritari'] = cams_raw['prioritari'].replace({'Si': 1, 'No': 0})\n",
    "\n"
   ]
  },
  {
   "cell_type": "code",
   "execution_count": null,
   "id": "23d76a8c-1b98-4973-9ff2-f3e0c96b005a",
   "metadata": {
    "tags": []
   },
   "outputs": [],
   "source": [
    "cams = cams_raw.loc[:,['id','alcaldia','colonia','totalinsta','prioritari','geo_shape','colonia_lat','colonia_lon']].copy()\n",
    "cams.head()"
   ]
  },
  {
   "cell_type": "markdown",
   "id": "bf7ce20b-af16-42de-89c1-2527070a8ac0",
   "metadata": {},
   "source": [
    "### Checking for duplicates\n",
    "It turns out that there are data duplicates on the datasets. That has to do with errors during collection or updates that were done by adding a new record without erasing the previous one. In the case of the cams dataset, there are inconsistencies on the number of installed cams for the same *colonia* in the same district or *alcaldia*. Cleaning is required on this stage before future merges."
   ]
  },
  {
   "cell_type": "code",
   "execution_count": null,
   "id": "f8a3c62d-553a-4b5f-a1d2-c19df50bd339",
   "metadata": {
    "tags": []
   },
   "outputs": [],
   "source": [
    "duplicates = cams[['colonia', 'alcaldia']].duplicated(keep=False)\n",
    "duplicated_rows=cams[duplicates]\n",
    "duplicated_rows.sort_values(by=['alcaldia','colonia']).head(15)"
   ]
  },
  {
   "cell_type": "markdown",
   "id": "2d0cc322-d600-4fa1-8b7d-1324a084a569",
   "metadata": {},
   "source": [
    "Since there is uncertainty about which record to keep (for instance, look at colonia Santa Fe example on the dataframe above), the strategy will be keeping the last option: the assumption is that it will contain the most accurate information."
   ]
  },
  {
   "cell_type": "code",
   "execution_count": null,
   "id": "ceac0d88-044c-4f32-85c6-4674dbec5131",
   "metadata": {
    "tags": []
   },
   "outputs": [],
   "source": [
    "print('Shape of cams dataset before dropping duplicates: ', cams.shape)\n",
    "\n",
    "cams = cams.drop_duplicates(['colonia', 'alcaldia'], keep ='last')\n",
    "\n",
    "print('Shape of cams dataset after dropping duplicates: ', cams.shape)\n",
    "\n",
    "#Verifying that the duplicates are gone\n",
    "duplicates = cams[['colonia', 'alcaldia']].duplicated(keep=False)\n",
    "duplicated_rows=cams[duplicates]\n",
    "duplicated_rows.sort_values(by=['alcaldia','colonia']).head(15)"
   ]
  },
  {
   "cell_type": "code",
   "execution_count": null,
   "id": "796039e1-9254-4b08-a16b-d0fb772dcf89",
   "metadata": {
    "tags": []
   },
   "outputs": [],
   "source": [
    "duplicates = cams[['colonia', 'alcaldia', 'totalinsta']].duplicated(keep=False)\n",
    "duplicated_rows=cams[duplicates]\n",
    "duplicated_rows.sort_values(by=['alcaldia','colonia']).head(15)"
   ]
  },
  {
   "cell_type": "markdown",
   "id": "75f4b281-9c94-490c-b389-47015d51093b",
   "metadata": {},
   "source": [
    "## Merging stage\n",
    "The **DataFrame.merge** will be used to merge dataframes **crimes_final** and **cams**. *crimes_last.colonia* can be compared with the *cams.colonia* column, and the same can be done with *crimes-final.alcaldia* and *cams.alcaldia*. Some columns will be dropped or their order will be changed.\n"
   ]
  },
  {
   "cell_type": "code",
   "execution_count": null,
   "id": "11782c3c-c4f2-474a-92b8-21533895e433",
   "metadata": {
    "tags": []
   },
   "outputs": [],
   "source": [
    "print('Crimes dataset shape is ', crimes_final.shape)\n",
    "print('Cams dataset shape is ', cams.shape)\n",
    "\n",
    "print(crimes.isnull().sum())\n",
    "print(cams.isnull().sum())\n"
   ]
  },
  {
   "cell_type": "code",
   "execution_count": null,
   "id": "79b602b4-f20b-4fac-9d2d-d1052b92cadb",
   "metadata": {
    "tags": []
   },
   "outputs": [],
   "source": [
    "merged_df = pd.merge(crimes_final, cams, on=['alcaldia','colonia'], how='left')\n"
   ]
  },
  {
   "cell_type": "code",
   "execution_count": null,
   "id": "d3d4ce6e-52e4-46bf-a87b-9dfca993fad5",
   "metadata": {
    "tags": []
   },
   "outputs": [],
   "source": [
    "merged_df"
   ]
  },
  {
   "cell_type": "code",
   "execution_count": null,
   "id": "64568180-d3d3-475a-98cd-175e7c20e4ab",
   "metadata": {
    "tags": []
   },
   "outputs": [],
   "source": [
    "# Create a new column to indicate whether to use 'colonia_alt'\n",
    "merged_df2 = pd.merge(crimes_final, cams, left_on=['alcaldia','colonia_alt'],right_on=['alcaldia','colonia'], how='left')\n"
   ]
  },
  {
   "cell_type": "code",
   "execution_count": null,
   "id": "d15ce1d3-0893-4587-8bd8-15c8ee8e954f",
   "metadata": {
    "tags": []
   },
   "outputs": [],
   "source": [
    "print(merged_df.isnull().sum())\n",
    "print(merged_df2.isnull().sum())\n"
   ]
  },
  {
   "cell_type": "code",
   "execution_count": null,
   "id": "8ad5f4aa-cc40-45da-a4e4-ccfbc6b68676",
   "metadata": {
    "tags": []
   },
   "outputs": [],
   "source": [
    "merge_final = merged_df.combine_first(merged_df2)\n"
   ]
  },
  {
   "cell_type": "code",
   "execution_count": null,
   "id": "42632df4-6dec-42ef-ac01-766be8c6f072",
   "metadata": {
    "tags": []
   },
   "outputs": [],
   "source": [
    "print(merge_final.isnull().sum())\n"
   ]
  },
  {
   "cell_type": "markdown",
   "id": "85e24067-0af1-4cde-afb5-458c177f56a4",
   "metadata": {
    "tags": []
   },
   "source": [
    "When performing this first merge, we are losing almost 350k rows. The colonia/alcaldia names on both datasets might be different but refer to the same thing; hence, an homologation process should be done in order to keep the rows in the merged dataframe. Some cool algorithm, like **fuzzywuzzy**, might help to avoid the long, brute force approach.  "
   ]
  },
  {
   "cell_type": "code",
   "execution_count": null,
   "id": "3670c7a7-2b30-410d-8773-99be7e282189",
   "metadata": {
    "tags": []
   },
   "outputs": [],
   "source": [
    "print(np.sort(crimes_final.alcaldia.unique()), '\\n')\n",
    "print(np.sort(cams.alcaldia.unique()))"
   ]
  },
  {
   "cell_type": "markdown",
   "id": "81d17025-d165-4fb8-9cb4-2c2689bb6198",
   "metadata": {},
   "source": [
    "The *alcaldia* values in both original dataframes are the same, so the homologation is needed on the *colonia* columns. Since there are more rows in crime dataset, the *colonia* values in the cams dataset will be the ones being adjusted. Performing a right join will help identify which colonia names have to be changed "
   ]
  },
  {
   "cell_type": "markdown",
   "id": "e902fe97-fe75-44fc-a143-9c565661599d",
   "metadata": {},
   "source": [
    "A list of the problematic *colonia* names from the cams dataset will helpt to replace those values by a substitute name related to the crimes dataset.\n"
   ]
  },
  {
   "cell_type": "code",
   "execution_count": null,
   "id": "184f8d8f-fbd8-446a-b870-dfbb6d8991bd",
   "metadata": {
    "tags": []
   },
   "outputs": [],
   "source": [
    "!pip install fuzzywuzzy"
   ]
  },
  {
   "cell_type": "code",
   "execution_count": null,
   "id": "8e9af191-c5a1-43ff-8c14-b41c22e3650f",
   "metadata": {
    "tags": []
   },
   "outputs": [],
   "source": [
    "from fuzzywuzzy import fuzz, process\n",
    "\n",
    "def get_best_substitute(substitute_this, potential_substitutes):\n",
    "    # Get the best match and its score using fuzzy matching\n",
    "    best_match, score = process.extractOne(substitute_this, potential_substitutes)\n",
    "    if score >= 90:  # You can adjust the threshold as needed\n",
    "        return best_match\n",
    "    else:\n",
    "        return None"
   ]
  },
  {
   "cell_type": "markdown",
   "id": "adce5736-fcfd-41cb-8656-e277a99763ef",
   "metadata": {},
   "source": [
    "1. Detect which *colonia* names need to be changed.\n",
    "2. Create a dictionary 'substitute_dict' that contains the recommended substitions.\n",
    "3. Create a function *get_substitute* that replaces *colonia* values \n",
    "\n",
    "In order to detect which *colonia* columns need to be changed in *cams* dataset , a new merge from *crimes_final* to *cams* will be done. The rows containing null values will also contain the *colonia* value that needs to be homologated"
   ]
  },
  {
   "cell_type": "code",
   "execution_count": null,
   "id": "50d5c704-bed9-4898-95ad-f60b37849d4e",
   "metadata": {
    "tags": []
   },
   "outputs": [],
   "source": [
    "merged_cams = cams.merge(crimes_final, how= 'left', on=['alcaldia','colonia'])\n",
    "print(merged_cams.shape)\n",
    "print(merged_cams.isnull().sum())\n",
    "\n",
    "consolidated_nulls= merged_cams[merged_cams[\"idcarpeta\"].isnull()].copy()\n",
    "print(consolidated_nulls.shape)\n",
    "\n",
    "consolidated_nulls.head()\n"
   ]
  },
  {
   "cell_type": "markdown",
   "id": "3897ae55-194a-404c-8ef4-b8341b530623",
   "metadata": {},
   "source": [
    "### Code to create a substitution dictionary \n",
    "\n",
    "This dictionary will contain *colonia* values from the *cams* dataset as keys, and a recommended substitution from a list of *colonias* from the *crimes_final* dataset"
   ]
  },
  {
   "cell_type": "code",
   "execution_count": null,
   "id": "9da04b56-4e55-45e3-b53a-fe9dfa8e7f5d",
   "metadata": {
    "tags": []
   },
   "outputs": [],
   "source": [
    "#Get the unique pairs 'alcalduia'-'colonia'\n",
    "missing_alcaldia_colonia_pairs = consolidated_nulls.drop_duplicates(subset=['alcaldia', 'colonia'])[['alcaldia', 'colonia']].values.tolist()\n",
    "original_alcaldia_colonia_pairs = crimes_final.drop_duplicates(subset=['alcaldia', 'colonia'])[['alcaldia', 'colonia']].values.tolist()\n",
    "\n",
    "#missing_colonias =list(consolidated_nulls.colonia.unique())\n",
    "#substitute_list = list(crimes_final.colonia.unique())\n",
    "\n",
    "#missing_colonias.sort()\n",
    "#substitute_list.sort()\n",
    "missing_alcaldia_colonia_pairs.sort()\n",
    "original_alcaldia_colonia_pairs.sort()\n",
    "print(len(missing_alcaldia_colonia_pairs))\n",
    "\n",
    "#Getting the alcaldia - colonia pair inside a single string with '-' as separator \n",
    "missing_colonias  = [f\"{pair[0]} - {pair[1]}\" for pair in missing_alcaldia_colonia_pairs]\n",
    "original_colonias = [f\"{pair[0]} - {pair[1]}\" for pair in original_alcaldia_colonia_pairs]"
   ]
  },
  {
   "cell_type": "code",
   "execution_count": null,
   "id": "a88efcb2-c3cb-4c4d-9163-dff211376f77",
   "metadata": {
    "tags": []
   },
   "outputs": [],
   "source": [
    "# Create a dictionary with target values as keys and their best substitutes as values\n",
    "substitute_dict = {value: get_best_substitute(value, original_colonias) for value in missing_colonias}"
   ]
  },
  {
   "cell_type": "markdown",
   "id": "517b89b8-1f34-48ea-b58c-119e5d890f49",
   "metadata": {},
   "source": [
    "By using *json.dumps* function, we get a clear display of the new substitution dictionary"
   ]
  },
  {
   "cell_type": "code",
   "execution_count": null,
   "id": "63e6cca5-aecc-40a9-b8d5-d839d38aabf5",
   "metadata": {
    "tags": []
   },
   "outputs": [],
   "source": [
    "import json\n",
    "pretty_dict = json.dumps(substitute_dict, indent=4)\n",
    "\n",
    "print(pretty_dict)\n",
    "#print(substitute_dict.get(\"ACUEDUCTO DE GUADALUPE MODULAR\"))"
   ]
  },
  {
   "cell_type": "code",
   "execution_count": null,
   "id": "40e068e3-4145-4b86-8b35-f3e7f2e348ca",
   "metadata": {
    "tags": []
   },
   "outputs": [],
   "source": [
    "del cams[\"colonia_new\"]"
   ]
  },
  {
   "cell_type": "code",
   "execution_count": null,
   "id": "3c97deb7-ac85-4bd5-9f9d-70581d7e424f",
   "metadata": {
    "tags": []
   },
   "outputs": [],
   "source": [
    "import re\n",
    "\n",
    "# Create a new colum in cams dataset to contain the substitution colonia value, if there exists any. Otherwise, keep using the original 'colonia' value\n",
    "def get_substitute(row):\n",
    "    key       = row['alcaldia'] + ' - ' + row['colonia']\n",
    "    returnval = substitute_dict.get(key, row['colonia'])\n",
    "    \n",
    "    if not returnval:\n",
    "        return row[\"colonia\"]\n",
    "    \n",
    "    #if returnval.replace(r'.*- ', '', regex=True) == row['alcaldia']:\n",
    "    #For cases when the alcaldia name was the best match\n",
    "    if re.sub(r'.*- ', '', returnval) in (row['alcaldia'], 'CUAJIMALPA'):\n",
    "        return row['colonia']\n",
    "    \n",
    "    #if returnval is null, return original value\n",
    "    return returnval or row[\"colonia\"]\n",
    "    \n",
    "cams['colonia_new'] = cams.apply(get_substitute, axis=1)\n",
    "cams['colonia_new'] = cams['colonia_new'].str.replace(r'.*- ', '', regex=True)\n",
    "cams.head(15)"
   ]
  },
  {
   "cell_type": "markdown",
   "id": "e7e18ffa-6daf-4ede-b8d5-19488a75ac54",
   "metadata": {},
   "source": [
    "After the substitutions are completed, we have to check duplicates again: since different *colonia* values were homologated into a single value, there will be duplicated rows with different *totalinsta* values. These rows need to be consolidated or grouped in a single row andgetting the sum of the *totalinsta* column: the total number of installed cams"
   ]
  },
  {
   "cell_type": "code",
   "execution_count": null,
   "id": "a6f995e4-1811-4e79-9f1d-2c616d2f7d96",
   "metadata": {
    "tags": []
   },
   "outputs": [],
   "source": [
    "duplicates = cams[['alcaldia','colonia_new','totalinsta']].duplicated(keep=False)\n",
    "duplicated_rows=cams[duplicates]\n",
    "print(duplicated_rows.shape)\n",
    "duplicated_rows[['id','alcaldia','colonia_new','totalinsta','colonia_lat','colonia_lon']].sort_values(by=['alcaldia','colonia_new'])\n"
   ]
  },
  {
   "cell_type": "code",
   "execution_count": null,
   "id": "942f93ab-d9e6-4078-8eba-ee14857dd50d",
   "metadata": {
    "tags": []
   },
   "outputs": [],
   "source": [
    "duplicates = cams[['alcaldia','colonia_new']].duplicated(keep=False)\n",
    "duplicated_rows=cams[duplicates]\n",
    "print(duplicated_rows.shape)\n",
    "duplicated_rows[['id','alcaldia','colonia_new','totalinsta','colonia_lat','colonia_lon']].sort_values(by=['alcaldia','colonia_new'])"
   ]
  },
  {
   "cell_type": "markdown",
   "id": "cd7cfe56-5dc6-4f43-9f3a-25ca153df108",
   "metadata": {},
   "source": [
    "The two above duplicate analysis show two things: that the *totalinsta* column sum of the duplicated records can be done, but also that there are different values in *colonia_lat* and *colonia_lon*.  The approach to follow is to get the sum of the installed cams 'totalinsta' and not to take into consideration the colonia_lat and colonia_lon columns for now.|"
   ]
  },
  {
   "cell_type": "code",
   "execution_count": null,
   "id": "9f4e25c8-192a-4a0e-8a58-627ddd084e3d",
   "metadata": {
    "tags": []
   },
   "outputs": [],
   "source": [
    "#Before making the aggregation check number of 'totalinsta' cams\n",
    "print(cams.loc[cams['colonia_new']=='AGRÍCOLA PANTITLAN', 'totalinsta'])\n",
    "print(cams.loc[cams['colonia_new']=='EL MIRADOR I(SAN LUCAS XOCHIMANCA)', 'totalinsta'])\n"
   ]
  },
  {
   "cell_type": "code",
   "execution_count": null,
   "id": "c250d135-a261-4bd0-b58d-2c41d24815c8",
   "metadata": {
    "tags": []
   },
   "outputs": [],
   "source": [
    "cams_temp = cams.copy()\n",
    "del cams_temp[\"colonia\"]\n",
    "del cams_temp[\"id\"]\n",
    "\n",
    "columns_to_group=cams_temp.columns.drop(['totalinsta'])\n",
    "columns_to_group=['alcaldia','colonia_new']\n",
    "\n",
    "# Group by 'alcaldia' and 'colonia', and sum the 'totalinsta' values\n",
    "#cams_final = cams_temp.groupby(['alcaldia', 'colonia_new','prioritari','geo_shape','colonia_lat','colonia_lon'], as_index=False).agg({'totalinsta': 'sum'})\n",
    "cams_final = cams_temp.groupby(columns_to_group, as_index=False).agg({'totalinsta': 'sum'})\n",
    "\n",
    "cams_final "
   ]
  },
  {
   "cell_type": "code",
   "execution_count": null,
   "id": "56c42b37-98d0-4dfe-bdd5-35c82b994070",
   "metadata": {
    "tags": []
   },
   "outputs": [],
   "source": [
    "#After making the aggregation check number of 'totalinsta' cams\n",
    "print(cams_final.loc[cams_final['colonia_new']=='AGRÍCOLA PANTITLAN', 'totalinsta'])\n",
    "print(cams_final.loc[cams_final['colonia_new']=='EL MIRADOR I(SAN LUCAS XOCHIMANCA)', 'totalinsta'])\n"
   ]
  },
  {
   "cell_type": "code",
   "execution_count": null,
   "id": "1bbf5a7a-cb3f-4ef4-be52-dfd9bc9811ce",
   "metadata": {
    "tags": []
   },
   "outputs": [],
   "source": [
    "#cols = ['alcaldia', 'colonia_new',\t'prioritari', 'geo_shape', 'colonia_lat', 'colonia_lon','totalinsta']\n",
    "cols = ['alcaldia', 'colonia_new']\n",
    "\n",
    "duplicates = cams_final[cols].duplicated(keep=False)\n",
    "duplicated_rows=cams_final[duplicates]\n",
    "duplicated_rows.sort_values(by=['alcaldia','colonia_new'])"
   ]
  },
  {
   "cell_type": "code",
   "execution_count": null,
   "id": "9506b8c0-3a70-4813-a536-bd14ba2e7413",
   "metadata": {
    "tags": []
   },
   "outputs": [],
   "source": [
    "cams_final.isnull().sum()"
   ]
  },
  {
   "cell_type": "code",
   "execution_count": null,
   "id": "2d0907ad-9f5b-4f66-aca4-2a6b872f8a05",
   "metadata": {
    "tags": []
   },
   "outputs": [],
   "source": [
    "final_merge = crimes_final.merge(cams_final, how ='left', left_on=['alcaldia', 'colonia'], right_on=['alcaldia','colonia_new'])\n",
    "print(final_merge.shape)\n",
    "print(final_merge.isnull().sum())\n",
    "final_merge.head()"
   ]
  },
  {
   "cell_type": "code",
   "execution_count": null,
   "id": "ab105559-4f92-485b-a3f7-dac12c69ce4f",
   "metadata": {
    "tags": []
   },
   "outputs": [],
   "source": [
    "final_merge[final_merge.isnull().any(axis=1)]\n"
   ]
  },
  {
   "cell_type": "code",
   "execution_count": null,
   "id": "e5476ec0-3ec2-4ec6-87f3-40d01aff8255",
   "metadata": {
    "tags": []
   },
   "outputs": [],
   "source": [
    "#Drop records with null values\n",
    "crimes_cams_merge= final_merge.dropna().copy()\n",
    "print(crimes_cams_merge.shape)\n",
    "crimes_cams_merge['totalinsta'] = crimes_cams_merge['totalinsta'].round().astype(int)\n",
    "crimes_cams_merge.head(5)"
   ]
  },
  {
   "cell_type": "code",
   "execution_count": null,
   "id": "714371f4-03e9-4722-a073-0aa1da937c7c",
   "metadata": {
    "tags": []
   },
   "outputs": [],
   "source": [
    "crimes_cams_merge.to_csv(\"../datasets/crimes_cams.csv\",index=False)\n"
   ]
  },
  {
   "cell_type": "markdown",
   "id": "df505c6f-d1df-4e8f-8bd5-fbfeaffb09bb",
   "metadata": {},
   "source": [
    "### Similar methods for creationf substitute dictionary"
   ]
  },
  {
   "cell_type": "code",
   "execution_count": null,
   "id": "e812bbc4-a462-48eb-88fa-3387c7f721d0",
   "metadata": {
    "tags": []
   },
   "outputs": [],
   "source": [
    "def homologation(row, dict_subs, dict_compare, sub_col, ref_col, type):\n",
    "    to_be_substituted =row[sub_col]\n",
    "    reference_val = row[ref_col]\n",
    "    #Get the colonia substitution name\n",
    "    recommended_sub = dict_subs.get(to_be_substituted)\n",
    "    #obtain alcaldia name related to that substitution name\n",
    "    validate_sub = dict_compare.get(recommended_sub)\n",
    "    if reference_val == validate_sub:\n",
    "        if type=='colonia':\n",
    "            return recommended_sub \n",
    "        else:\n",
    "            return validate_sub\n",
    "    else:\n",
    "        return None\n",
    "    \n",
    "    \n",
    "# Create a new column 'colonia2' in the cams DataFrame\n",
    "cams['colonia2'] = None\n",
    "cams['relatedCol']=None\n",
    "\n",
    "\n",
    "# Iterate over each row in the DataFrame and apply the homologation function\n",
    "for index, row in cams.iterrows():\n",
    "    cams.at[index, 'colonia2']   = homologation(row, substitute_dict, crimes_colonia_to_alcaldia_dict, 'colonia', 'alcaldia','colonia')\n",
    "    cams.at[index, 'relatedCol'] = homologation(row, substitute_dict, crimes_colonia_to_alcaldia_dict, 'colonia', 'alcaldia','other')\n",
    "\n",
    "    #axis=1\n",
    "cams['colonia2'] = cams.apply(homologation, \\\n",
    "                              dict_subs = substitute_dict, \\\n",
    "                              dict_compare = crimes_colonia_to_alcaldia_dict, \\\n",
    "                              sub_col= \"colonia\", \\\n",
    "                              ref_col= 'alcaldia'\\\n",
    "                             )\n",
    "\n",
    "    "
   ]
  },
  {
   "cell_type": "markdown",
   "id": "576dea91-f66d-494b-84db-8a42b4c39d5f",
   "metadata": {},
   "source": [
    "To ensure that the *colonia* substitute name is correct, a comparison with the *alcaldias* values will be made before replacing the values. A lookup dataframe from *crimes* dataset will be created in order to pair up *colonia* with *alcaldia*"
   ]
  },
  {
   "cell_type": "code",
   "execution_count": null,
   "id": "44d3d9ce-8a5e-4b3f-85b8-768ff1075dca",
   "metadata": {
    "tags": []
   },
   "outputs": [],
   "source": [
    "crime_locations= crimes.groupby(['fgj_colonia_registro','alcaldia_hechos'],as_index=False).agg(count=('idcarpeta','count')).copy()\n",
    "crime_locations.head()\n"
   ]
  },
  {
   "cell_type": "code",
   "execution_count": null,
   "id": "72052f12-48c8-4361-a69d-1a9d19d32e80",
   "metadata": {
    "tags": []
   },
   "outputs": [],
   "source": [
    "homologation[\"alcaldia_cams\"] = cams.loc[ (cams[\"colonia\"] == homologation[\"cams_colonia\"]), \"alcaldia\"]\n",
    "homologation[\"alcaldia_crime\"] = crime_locations.loc[crime_locations[\"fgj_colonia_registro\"] == homologation[\"substitute_colonia\"], \\\n",
    "                                                     \"alcaldia_hechos\"]\n",
    "homologation[\"matches\"] = (homologation[\"alcaldia_crime\"] == homologation[\"alcaldia_cams\"])\n",
    "\n",
    "homologation.head()\n",
    "#df.loc[df['Age'] > 25, 'Gender'] = 'M'\n",
    "\n"
   ]
  },
  {
   "cell_type": "code",
   "execution_count": null,
   "id": "ad97d969-c88c-4ebc-a0e4-8e6944e33a3c",
   "metadata": {
    "tags": []
   },
   "outputs": [],
   "source": [
    "from fuzzywuzzy import fuzz\n",
    "from fuzzywuzzy import process\n",
    "\n",
    "# Function to find the best fuzzy match from 'c5_agg' for each value in 'consolidated'\n",
    "def find_fuzzy_match(value, ref_df, ref_col):\n",
    "    match, score, *_ = process.extractOne(value, ref_df[ref_col])\n",
    "    if score >= 80:  # You can adjust the threshold as needed\n",
    "        return match\n",
    "    else:\n",
    "        return None"
   ]
  },
  {
   "cell_type": "code",
   "execution_count": null,
   "id": "8fed846a-d8ab-4b4e-ae9f-5bcca30133b8",
   "metadata": {
    "tags": []
   },
   "outputs": [],
   "source": [
    "#df.loc[df['Age'] > 25, 'Gender'] = 'M'\n",
    "\n",
    "pretty_dict[0]"
   ]
  },
  {
   "cell_type": "code",
   "execution_count": null,
   "id": "0dfed3bf-1147-4389-a3d8-6477e99ac606",
   "metadata": {
    "tags": []
   },
   "outputs": [],
   "source": [
    "for old_colonia in pretty_dict.keys():\n",
    "    alcaldia_old = cams[cams[\"colonia\"] == alcaldia_old]\n",
    "    if old_colonia"
   ]
  },
  {
   "cell_type": "markdown",
   "id": "da0d7bc2-bd43-44a8-918c-4a54dbf289ca",
   "metadata": {},
   "source": [
    "## Relation with *stations* dataframe"
   ]
  },
  {
   "cell_type": "markdown",
   "id": "05cd4d97-1ad0-4aa0-abd3-290685d06a99",
   "metadata": {
    "tags": []
   },
   "source": [
    "Something  more complex should be done in order to relate the new consolidated dataframe with the *stations* dataset. The way to do this is to calculate the distance between the crime locations and all the metro stations in order to find which is the nearest one. The **harvesine_distance** function will be applied and the new columns *nearest_distance*, *nearest_location* and *nearest_station* will be populated. \n"
   ]
  },
  {
   "cell_type": "code",
   "execution_count": null,
   "id": "6a8743f1-94f1-46d9-b376-42c2a833921a",
   "metadata": {
    "tags": []
   },
   "outputs": [],
   "source": [
    "import math\n",
    "\n",
    "def haversine_distance(lat1, lon1, lat2, lon2):\n",
    "    # Earth's radius in kilometers\n",
    "    earth_radius = 6371.0\n",
    "\n",
    "    # Convert latitude and longitude from degrees to radians\n",
    "    lat1_rad = math.radians(lat1)\n",
    "    lon1_rad = math.radians(lon1)\n",
    "    lat2_rad = math.radians(lat2)\n",
    "    lon2_rad = math.radians(lon2)\n",
    "\n",
    "    # Calculate differences in latitude and longitude\n",
    "    d_lat = lat2_rad - lat1_rad\n",
    "    d_lon = lon2_rad - lon1_rad\n",
    "\n",
    "    # Haversine formula\n",
    "    a = math.sin(d_lat / 2) ** 2 + math.cos(lat1_rad) * math.cos(lat2_rad) * math.sin(d_lon / 2) ** 2\n",
    "    c = 2 * math.atan2(math.sqrt(a), math.sqrt(1 - a))\n",
    "\n",
    "    # Calculate the distance\n",
    "    distance = earth_radius * c\n",
    "    return distance\n"
   ]
  },
  {
   "cell_type": "code",
   "execution_count": null,
   "id": "585e42b9-3dff-4251-af8b-58c1f070c316",
   "metadata": {
    "tags": []
   },
   "outputs": [],
   "source": [
    "def find_nearest_location(ref_lat, ref_lon, locations, stationsDf):\n",
    "    nearest_distance = float('inf')\n",
    "    nearest_location = None\n",
    "    \n",
    "   \n",
    "    #Loop to compare crime location with each of the 195 metro station locations\n",
    "    for lat, lon, station_name in locations:\n",
    "        lat = float(lat)\n",
    "        lon = float(lon)\n",
    "        distance = haversine_distance(ref_lat, ref_lon, lat, lon)\n",
    "        if distance < nearest_distance:\n",
    "            nearest_distance = distance\n",
    "            nearest_location = (lat, lon)\n",
    "            nearest_station  = station_name\n",
    "    \n",
    "    return nearest_distance, nearest_location, nearest_station\n"
   ]
  },
  {
   "cell_type": "code",
   "execution_count": null,
   "id": "9eb82cfb-0b6d-4ec4-9c57-eb9c920611e7",
   "metadata": {
    "tags": []
   },
   "outputs": [],
   "source": [
    "crimes_cams_merge['nearest_distance'], crimes_cams_merge['nearest_location'], crimes_cams_merge['nearest_station'] = zip(*crimes_cams_merge.apply(\n",
    "    lambda row: find_nearest_location( ref_lat   = row['crimen_lat'], \n",
    "                                       ref_lon   = row['crimen_lon'], \n",
    "                                       locations = stations[['station_lat', 'station_lon', 'nombre']].values,\n",
    "                                       stationsDf = stations\n",
    "                                     ),\n",
    "                axis = 1\n",
    "    )\n",
    "  )"
   ]
  },
  {
   "cell_type": "code",
   "execution_count": null,
   "id": "36e0a652-48ac-49db-b8e4-3ec39f032b7b",
   "metadata": {
    "tags": []
   },
   "outputs": [],
   "source": [
    "crimes_cams_merge.head()\n",
    "\n",
    "\n"
   ]
  },
  {
   "cell_type": "code",
   "execution_count": null,
   "id": "5e0d7335-f80f-48b8-853a-00ba5b923f07",
   "metadata": {
    "tags": []
   },
   "outputs": [],
   "source": [
    "print('Min. nearest distance is ',crimes_cams_merge.nearest_distance.min())\n",
    "print('Max. nearest distance is ',crimes_cams_merge.nearest_distance.max())\n",
    "crimes_cams_merge.nearest_station.unique()\n"
   ]
  },
  {
   "cell_type": "code",
   "execution_count": null,
   "id": "a88b0fdc-31b7-4ee6-ad6f-0ecceb05bd9a",
   "metadata": {
    "tags": []
   },
   "outputs": [],
   "source": [
    "crimes_cams_merge.shape"
   ]
  },
  {
   "cell_type": "markdown",
   "id": "8d94adc9-d9d0-444e-9026-cde994233f03",
   "metadata": {},
   "source": [
    "This is the consolidated dataset that can be used as base for future calculations. It will be exported as a csv at this stage. However, more data related to camera locations related to program **C5** was found, so this info can be merged as well so that another dataset is used\n"
   ]
  },
  {
   "cell_type": "code",
   "execution_count": null,
   "id": "92da2729-e4fc-4a7c-9d2e-ccdd48c43ebf",
   "metadata": {
    "tags": []
   },
   "outputs": [],
   "source": [
    "crimes_cams_merge.to_csv('../datasets/consolidated.csv.zip', compression = 'zip', index=False)"
   ]
  },
  {
   "cell_type": "markdown",
   "id": "25b6ca29-68fd-4d4e-98fa-991145de3959",
   "metadata": {},
   "source": [
    "## C5 cameras\n",
    "Mexico City's security organization **C5** installed Wifi Modules on their public city security cameras. The data related to those cameras and their locations is public and can be used on this project"
   ]
  },
  {
   "cell_type": "code",
   "execution_count": null,
   "id": "97de25e0-7cf2-4ce8-9212-f06e85c9f65f",
   "metadata": {
    "tags": []
   },
   "outputs": [],
   "source": [
    "consolidated_path = \"\\datasets\\consolidated.zip\"\n",
    "\n",
    "zf = zipfile.ZipFile(repo_path+consolidated_path) \n",
    "consolidated = pd.read_csv(zf.open('consolidated'))\n",
    "consolidated.head()\n"
   ]
  },
  {
   "cell_type": "code",
   "execution_count": null,
   "id": "33fe703f-7348-44da-825f-afbd2dd0ade6",
   "metadata": {
    "tags": []
   },
   "outputs": [],
   "source": [
    "consolidated.isnull().sum()"
   ]
  },
  {
   "cell_type": "code",
   "execution_count": null,
   "id": "6d480d3c-96a8-4097-941d-92fa8eac5764",
   "metadata": {
    "tags": []
   },
   "outputs": [],
   "source": [
    "c5_path = \"\\datasets\\c5_cams.zip\"\n",
    "\n",
    "zf = zipfile.ZipFile(repo_path+c5_path) \n",
    "c5_raw = pd.read_csv(zf.open('c5_cams.csv'), encoding = \"latin-1\")\n",
    "\n",
    "c5_raw.head()"
   ]
  },
  {
   "cell_type": "code",
   "execution_count": null,
   "id": "4a6a8a1b-e1be-4582-a611-4408d0d85fe1",
   "metadata": {
    "tags": []
   },
   "outputs": [],
   "source": [
    "c5_raw.rename(columns = lambda x : x.lower() , inplace = True)\n",
    "c5_raw.rename(columns = {'alcaldía':'alcaldia'}, inplace = True)\n",
    "del c5_raw[\"programa\"]\n",
    "del c5_raw[\"puntos_de_acceso\"]\n"
   ]
  },
  {
   "cell_type": "code",
   "execution_count": null,
   "id": "08bf6bbb-b7c1-4657-8893-9e62a2bdb63e",
   "metadata": {
    "tags": []
   },
   "outputs": [],
   "source": [
    "c5_raw.head()"
   ]
  },
  {
   "cell_type": "markdown",
   "id": "79d9d390-0dcf-4cac-8de5-43040c4325e5",
   "metadata": {},
   "source": [
    "The next step is to somehow relate this information to the consolidated dataset. Some ideas are:\n",
    "\n",
    "- Counting the number of cameras installed on each neighborhood (colonia) and/or alcaldia/delegacion.  Also, counting the number of cameras within a certain radius.\n",
    "- Calculating which is the crime's nearest camera by using the coordinates of the crime and the camera and calculating nearest distance. The calculation would be done only for cameras in the same 'alcaldia' or neighborhood to reduce processing time\n",
    "- A dictionary containing which alcaldias are near from each other, so that the above step also could consider the nearby alcaldias.\n"
   ]
  },
  {
   "cell_type": "code",
   "execution_count": null,
   "id": "1ddb2087-12b4-43fb-98bc-9a029deaefc6",
   "metadata": {
    "tags": []
   },
   "outputs": [],
   "source": [
    "consolidated.shape\n"
   ]
  },
  {
   "cell_type": "code",
   "execution_count": null,
   "id": "5a0b2b84-8d23-4f70-bc7e-bb2a427b94f5",
   "metadata": {
    "tags": []
   },
   "outputs": [],
   "source": [
    "c5_agg = c5_raw.groupby('colonia').agg(count=('id','count'), alcaldia=('alcaldia', 'first'))\n",
    "c5_agg.reset_index(inplace=True)\n",
    "c5_agg.rename(columns = {'count':'c5_cam_col'}, inplace = True)\n",
    "c5_agg.head()\n"
   ]
  },
  {
   "cell_type": "code",
   "execution_count": null,
   "id": "9527625b-d7ae-4380-891b-121d248c22d5",
   "metadata": {
    "tags": []
   },
   "outputs": [],
   "source": [
    "consolidated2 = pd.merge(consolidated, c5_agg[['colonia','c5_cam_col']], on='colonia', how='left')\n",
    "#consolidated2[\"c5_cam_col\"]= consolidated2[\"c5_cam_col\"].round().astype(int)\n",
    "consolidated2.head()"
   ]
  },
  {
   "cell_type": "code",
   "execution_count": null,
   "id": "5c7f3971-1b44-40ee-ad63-14e594ef5299",
   "metadata": {
    "tags": []
   },
   "outputs": [],
   "source": [
    "#consolidated2[\"c5_cam_col\"]= consolidated2[\"c5_cam_col\"].round().astype(int)\n",
    "consolidated2.isnull().sum()\n"
   ]
  },
  {
   "cell_type": "markdown",
   "id": "cb4d8ea1-e5a8-4e20-8224-caed42ccbb01",
   "metadata": {},
   "source": [
    "There are a lot of null values in the c5_cam_col. The cause probably is some difference between the colonia names in *c5_agg* and *consolidated*. A homologation process could fix this. The colonia names from *c5_agg* which didn't find a match in *consolidated* dataframe must be identified:"
   ]
  },
  {
   "cell_type": "code",
   "execution_count": null,
   "id": "db52cdbd-092e-4047-a887-799ae20188b9",
   "metadata": {
    "tags": []
   },
   "outputs": [],
   "source": [
    "consolidated2[consolidated2[\"c5_cam_col\"].isnull()].head()"
   ]
  },
  {
   "cell_type": "code",
   "execution_count": null,
   "id": "c082025f-54b2-4b85-bbd1-d58cb408861f",
   "metadata": {
    "tags": []
   },
   "outputs": [],
   "source": [
    "missing_colonias= consolidated2.loc[ consolidated2[\"c5_cam_col\"].isnull(), 'colonia'].unique()"
   ]
  },
  {
   "cell_type": "code",
   "execution_count": null,
   "id": "7006074f-7f83-4261-b460-90a097111b36",
   "metadata": {
    "tags": []
   },
   "outputs": [],
   "source": [
    "l= list(missing_colonias)"
   ]
  },
  {
   "cell_type": "code",
   "execution_count": null,
   "id": "8a22f842-2023-4005-8720-ebc91f78b6dd",
   "metadata": {
    "tags": []
   },
   "outputs": [],
   "source": [
    "test= c5_agg[c5_agg[\"colonia\"].str.contains('COPILCO',na=False, case=False)]\n",
    "test"
   ]
  },
  {
   "cell_type": "markdown",
   "id": "5fc65f87-e2f0-415d-9a08-b43de35cc5ad",
   "metadata": {},
   "source": [
    "For this example, the substring *COPILCO* was used to search for similar colonia names. *COPILCO UNIVERSIDAD I.S.S.S.T.E.* on *c5_agg* is not an equal string to *COPILCO UNIVERSIDAD ISSSTE* from *consolidated2*, but in reality the values reference the same colonia. Since there are almost 300 values here, there should be a way to automate the process of finding the matching pairs of each colonia. A first approach is using an external library , such as **fuzzywuzzy**"
   ]
  },
  {
   "cell_type": "code",
   "execution_count": null,
   "id": "2a87c57f-3791-402e-b350-412483f743dd",
   "metadata": {
    "tags": []
   },
   "outputs": [],
   "source": [
    "print(consolidated2[consolidated2[\"c5_cam_col\"].isnull()].shape)\n",
    "consolidated2[consolidated2[\"c5_cam_col\"].isnull()].head()"
   ]
  },
  {
   "cell_type": "markdown",
   "id": "cd381d25-e38e-4606-b16a-3528415b2914",
   "metadata": {},
   "source": [
    "An aggregated dataset from *consolidated* is created here so that the matching colonia name is searched among the unique values. "
   ]
  },
  {
   "cell_type": "code",
   "execution_count": null,
   "id": "611c603a-c7d0-423c-b2f5-49ca101f4421",
   "metadata": {
    "tags": []
   },
   "outputs": [],
   "source": [
    "#c5_agg['possible_substitute'] = c5_agg['colonia'].apply(find_fuzzy_match, ref_df=consolidated, ref_col='colonia')\n",
    "\n",
    "consolidated_agg = consolidated.groupby('colonia').agg(count=('colonia','count'), alcaldia=('alcaldia', 'first'))\n",
    "consolidated_agg.reset_index(inplace=True)\n",
    "\n",
    "consolidated_agg.head()\n",
    "\n",
    "#print(find_fuzzy_match('COPILCO UNIVERSIDAD I.S.S.S.T.E.', consolidated, 'colonia'))"
   ]
  },
  {
   "cell_type": "code",
   "execution_count": null,
   "id": "0ea6b55b-6991-405b-9800-95012cbc4f12",
   "metadata": {
    "tags": []
   },
   "outputs": [],
   "source": [
    "\n",
    "# Function to find the best fuzzy match from 'consolidated' for each value in 'c5_agg'\n",
    "#c5_agg['possible_substitute'] = c5_agg['colonia'].apply(find_fuzzy_match, ref_df=consolidated, ref_col='colonia')\n",
    "\n",
    "# Find possible substitutes from df2 for each value in df1's 'col1'\n",
    "c5_agg['possible_substitute'] = c5_agg['colonia'].map(lambda x: find_fuzzy_match(x, consolidated_agg, 'colonia'))\n",
    "\n"
   ]
  },
  {
   "cell_type": "code",
   "execution_count": null,
   "id": "89d1096c-2a8d-4671-8d5d-27441ba3ec8f",
   "metadata": {},
   "outputs": [],
   "source": []
  },
  {
   "cell_type": "code",
   "execution_count": null,
   "id": "472d9a7a-2db4-4844-bf25-7b710c3329a9",
   "metadata": {
    "tags": []
   },
   "outputs": [],
   "source": [
    "homologated = c5_agg[c5_agg[\"colonia\"]!= c5_agg[\"possible_substitute\"]]\n",
    "\n",
    "condition = consolidated_agg[\"colonia\"] == homologated[\"possible_substitute\"]\n",
    "homologated[\"alcaldia_substitute\"] = consolidated_agg[condition][\"alcaldia\"]\n",
    "homologated.head()"
   ]
  },
  {
   "cell_type": "code",
   "execution_count": null,
   "id": "bf1a41a7-9e3c-485e-b63d-4a06070220bb",
   "metadata": {},
   "outputs": [],
   "source": []
  },
  {
   "cell_type": "code",
   "execution_count": null,
   "id": "3112ad49-fc8d-4eb6-901b-3aa3b831747b",
   "metadata": {
    "scrolled": true,
    "tags": []
   },
   "outputs": [],
   "source": [
    "homologated.sort_values(by=\"colonia\", inplace = True)\n",
    "homologated"
   ]
  },
  {
   "cell_type": "code",
   "execution_count": null,
   "id": "c38fd7fe-9dcd-45ba-a7ba-6f1fd27aad3b",
   "metadata": {
    "scrolled": true,
    "tags": []
   },
   "outputs": [],
   "source": [
    "pd.set_option('display.max_columns', None)\n",
    "homologated = homologated.loc[:, ['colonia', 'possible_substitute','alcaldia']]\n",
    "homologated.to_csv('homologated.csv')"
   ]
  },
  {
   "cell_type": "code",
   "execution_count": null,
   "id": "6319082f-365f-45d3-8dc3-037614b8bd73",
   "metadata": {
    "tags": []
   },
   "outputs": [],
   "source": [
    "c5_agg[c5_agg['colonia'].str.contains(\"AGRICOLA\")]"
   ]
  },
  {
   "cell_type": "code",
   "execution_count": null,
   "id": "e78c9c13-8ea0-46fd-8e46-8585bbf64509",
   "metadata": {
    "tags": []
   },
   "outputs": [],
   "source": [
    "#print(l)\n",
    "consolidated_agg[consolidated_agg['colonia'].str.contains(\"AGRÍCOLA\")]"
   ]
  },
  {
   "cell_type": "code",
   "execution_count": null,
   "id": "9c0361cc-51b1-4168-bfab-df9cf9a5be39",
   "metadata": {
    "scrolled": true,
    "tags": []
   },
   "outputs": [],
   "source": [
    "c5_agg[]"
   ]
  },
  {
   "cell_type": "code",
   "execution_count": null,
   "id": "c53b3f12-400e-4623-a23b-0fff27703043",
   "metadata": {},
   "outputs": [],
   "source": []
  }
 ],
 "metadata": {
  "kernelspec": {
   "display_name": "Python 3 (ipykernel)",
   "language": "python",
   "name": "python3"
  },
  "language_info": {
   "codemirror_mode": {
    "name": "ipython",
    "version": 3
   },
   "file_extension": ".py",
   "mimetype": "text/x-python",
   "name": "python",
   "nbconvert_exporter": "python",
   "pygments_lexer": "ipython3",
   "version": "3.8.16"
  }
 },
 "nbformat": 4,
 "nbformat_minor": 5
}
