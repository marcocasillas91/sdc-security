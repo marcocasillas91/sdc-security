{
 "cells": [
  {
   "cell_type": "code",
   "execution_count": 28,
   "id": "e86b2e08-f648-4e06-8271-9b2cd0556b10",
   "metadata": {
    "tags": []
   },
   "outputs": [],
   "source": [
    "import pandas as pd\n",
    "import zipfile\n",
    "import numpy as np\n",
    "import matplotlib.pyplot as plt\n",
    "import json\n",
    "import os\n",
    "\n",
    "\n",
    "#Path\n",
    "#Insert your local repo path to file\n",
    "path_home = \"D:\\Archivos\\Social Data Challenge\\QGIS\\grid\\merge_final\"\n",
    "path_500 = path_home + \"\\g500\"\n",
    "path_100 = path_home + \"\\g100\"\n"
   ]
  },
  {
   "cell_type": "code",
   "execution_count": 29,
   "id": "9f6e99a5-06c6-4835-a99d-efdbd3395d92",
   "metadata": {
    "tags": []
   },
   "outputs": [],
   "source": [
    "csv_100 = [file for file in os.listdir(path_100) if file.endswith('.csv')]\n",
    "csv_500 = [file for file in os.listdir(path_500) if file.endswith('.csv')]\n"
   ]
  },
  {
   "cell_type": "code",
   "execution_count": 30,
   "id": "d95c09f8-9dc3-4854-89fb-4f0721f8fe9c",
   "metadata": {
    "tags": []
   },
   "outputs": [],
   "source": [
    "#TODO: refactor to avcoid duplicating this code for each grid\n",
    "dataframes = []\n",
    "\n",
    "\n",
    "for file in csv_500:\n",
    "    df = pd.read_csv(os.path.join(path_500, file))\n",
    "    last_column_name = df.columns[-1]\n",
    "    df = df[['id', 'lat', 'lon', last_column_name]]\n",
    "    dataframes.append(df)\n",
    "\n",
    "#merged_df = dataframes[0]  # Start with the first DataFrame\n",
    "merged_df = pd.read_csv(path_home +'\\g500_2019_quarters_coordinates.csv')\n",
    "merged_df=merged_df.drop(columns = ['left','top','right','bottom'])\n",
    "for df in dataframes:\n",
    "    merged_df = pd.merge(merged_df, df, on=['id', 'lat', 'lon'], how='inner')\n",
    "    "
   ]
  },
  {
   "cell_type": "code",
   "execution_count": 31,
   "id": "ee08df2e-d4a6-47e8-a950-e33f2fca2e66",
   "metadata": {
    "tags": []
   },
   "outputs": [],
   "source": [
    "grid_500 = merged_df.copy()"
   ]
  },
  {
   "cell_type": "code",
   "execution_count": 32,
   "id": "482a59fb-efdc-43d8-ba0f-32a49f189c14",
   "metadata": {
    "tags": []
   },
   "outputs": [
    {
     "data": {
      "text/plain": [
       "(224, 27)"
      ]
     },
     "execution_count": 32,
     "metadata": {},
     "output_type": "execute_result"
    }
   ],
   "source": [
    "grid_500.shape\n"
   ]
  },
  {
   "cell_type": "code",
   "execution_count": 33,
   "id": "6def4857-6de1-4141-807d-442189ff65d2",
   "metadata": {
    "tags": []
   },
   "outputs": [],
   "source": [
    "dataframes = []\n",
    "\n",
    "for file in csv_100:\n",
    "    df = pd.read_csv(os.path.join(path_100, file))\n",
    "    last_column_name = df.columns[-1]\n",
    "    df = df[['id', 'lat', 'lon', last_column_name]]\n",
    "    dataframes.append(df)\n",
    "\n",
    "#merged_df = dataframes[0]  # Start with the first DataFrame\n",
    "merged_df = pd.read_csv(path_home +'\\g100_2019_quarters_coordinates.csv')\n",
    "merged_df=merged_df.drop(columns = ['left','top','right','bottom'])\n",
    "for df in dataframes:\n",
    "    merged_df = pd.merge(merged_df, df, on=['id', 'lat', 'lon'], how='inner')\n",
    "    \n",
    "    "
   ]
  },
  {
   "cell_type": "code",
   "execution_count": 34,
   "id": "a3a3edf8-f8f7-4074-800f-dd3f574226e2",
   "metadata": {
    "tags": []
   },
   "outputs": [],
   "source": [
    "grid_100 = merged_df.copy()"
   ]
  },
  {
   "cell_type": "code",
   "execution_count": 35,
   "id": "7f11d51f-88b7-45cc-bf89-51677ce0df89",
   "metadata": {
    "tags": []
   },
   "outputs": [
    {
     "data": {
      "text/plain": [
       "(5382, 27)"
      ]
     },
     "execution_count": 35,
     "metadata": {},
     "output_type": "execute_result"
    }
   ],
   "source": [
    "grid_100.shape"
   ]
  },
  {
   "cell_type": "markdown",
   "id": "155960d0-8df5-4917-9b07-15bf29ad1961",
   "metadata": {
    "tags": []
   },
   "source": [
    "### Grouping 'zonas de patrullaje' grid data "
   ]
  },
  {
   "cell_type": "code",
   "execution_count": 36,
   "id": "fcf68580-d091-4425-84b3-f52666998d78",
   "metadata": {
    "tags": []
   },
   "outputs": [],
   "source": [
    "patrullaje_500_path = 'D:\\Archivos\\Social Data Challenge\\data\\grids\\zonas_patrullaje_500.csv'\n",
    "patrullaje_100_path = 'D:\\Archivos\\Social Data Challenge\\data\\grids\\zonas_patrullaje_100.csv'\n",
    "\n",
    "patrullaje_500 = pd.read_csv(patrullaje_500_path)\n",
    "patrullaje_100 = pd.read_csv(patrullaje_100_path)\n",
    "\n",
    "pat_500 = patrullaje_500.groupby(by=['id','lat','lon']).size().reset_index(name='zonas_pat')\n",
    "pat_100 = patrullaje_100.groupby(by=['id','lat','lon']).size().reset_index(name='zonas_pat')\n"
   ]
  },
  {
   "cell_type": "code",
   "execution_count": 37,
   "id": "37ce00e3-5c2d-42fe-828a-456252a90781",
   "metadata": {
    "tags": []
   },
   "outputs": [],
   "source": [
    "grid_100 = pd.merge(grid_100, pat_100, on=['id', 'lat', 'lon'], how='inner')\n",
    "grid_500 = pd.merge(grid_500, pat_500, on=['id', 'lat', 'lon'], how='inner')"
   ]
  },
  {
   "cell_type": "code",
   "execution_count": 38,
   "id": "4ffdadc8-5da8-4e5a-a718-28fc8492856d",
   "metadata": {
    "tags": []
   },
   "outputs": [
    {
     "data": {
      "text/plain": [
       "Index(['id', 'g500_19q1', 'g500_19q2', 'g500_19q3', 'g500_19q4', 'lat', 'lon',\n",
       "       'metro_500', 'cams_500', 'g500_20q1', 'g500_20q2', 'g500_20q3',\n",
       "       'g500_20q4', 'g500_21q1', 'g500_21q2', 'g500_21q3', 'g500_21q4',\n",
       "       'g500_22q1', 'g500_22q2', 'g500_22q3', 'g500_22q4', 'g500_23q1',\n",
       "       'salud_500', 'museo_500', 'escuela_50', 'deporte_50', 'antro_500',\n",
       "       'zonas_pat'],\n",
       "      dtype='object')"
      ]
     },
     "execution_count": 38,
     "metadata": {},
     "output_type": "execute_result"
    }
   ],
   "source": [
    "grid_500.columns\n"
   ]
  },
  {
   "cell_type": "code",
   "execution_count": 39,
   "id": "5bf9b9f9-bac2-44bb-8ce7-f4d20ce4e7bc",
   "metadata": {
    "tags": []
   },
   "outputs": [
    {
     "data": {
      "text/plain": [
       "Index(['id', 'g100_19q1', 'g100_19q2', 'g100_19q3', 'g100_19q4', 'lat', 'lon',\n",
       "       'metro_100', 'cams_100', 'g100_20q1', 'g100_20q2', 'g100_20q3',\n",
       "       'g100_20q4', 'g100_21q1', 'g100_21q2', 'g100_21q3', 'g100_21q4',\n",
       "       'g100_22q1', 'g100_22q2', 'g100_22q3', 'g100_22q4', 'g100_23q1',\n",
       "       'antro_100', 'salud_100', 'museo_100', 'escuela_10', 'deporte_10',\n",
       "       'zonas_pat'],\n",
       "      dtype='object')"
      ]
     },
     "execution_count": 39,
     "metadata": {},
     "output_type": "execute_result"
    }
   ],
   "source": [
    "grid_100.columns"
   ]
  },
  {
   "cell_type": "code",
   "execution_count": 40,
   "id": "5e6fd12b-2a9f-4b8f-95b7-aa2a9b2e969b",
   "metadata": {
    "tags": []
   },
   "outputs": [],
   "source": [
    "\n",
    "grid_500 = grid_500[['id', 'lat', 'lon', 'metro_500', 'cams_500', 'zonas_pat',\n",
    "                     'antro_500', 'salud_500', 'museo_500', 'escuela_50', 'deporte_50',\n",
    "                     'g500_19q1', 'g500_19q2', 'g500_19q3', 'g500_19q4',      \n",
    "                     'g500_20q1', 'g500_20q2', 'g500_20q3', 'g500_20q4', \n",
    "                     'g500_21q1', 'g500_21q2', 'g500_21q3', 'g500_21q4',\n",
    "                     'g500_22q1', 'g500_22q2', 'g500_22q3', 'g500_22q4', \n",
    "                     'g500_23q1'\n",
    "                    ]]\n",
    "\n",
    "grid_100 = grid_100[[ 'id', 'lat', 'lon', 'metro_100', 'cams_100', 'zonas_pat',\n",
    "                      'antro_100', 'salud_100', 'museo_100', 'escuela_10', 'deporte_10',\n",
    "                      'g100_19q1', 'g100_19q2', 'g100_19q3', 'g100_19q4',        \n",
    "                      'g100_20q1', 'g100_20q2', 'g100_20q3', 'g100_20q4', \n",
    "                      'g100_21q1', 'g100_21q2', 'g100_21q3', 'g100_21q4',\n",
    "                      'g100_22q1', 'g100_22q2', 'g100_22q3', 'g100_22q4', \n",
    "                      'g100_23q1',\n",
    "                      ]]\n",
    "\n",
    "grid_500.rename(columns ={'escuela_50':'esc_500','deporte_50':'depo_500'}, inplace =True)\n",
    "grid_100.rename(columns ={'escuela_10':'esc_100','deporte_10':'depo_100'}, inplace =True)"
   ]
  },
  {
   "cell_type": "code",
   "execution_count": 41,
   "id": "0e04c52c-2429-43f4-9aab-17da4fcfcc53",
   "metadata": {
    "tags": []
   },
   "outputs": [
    {
     "data": {
      "text/plain": [
       "id           0\n",
       "lat          0\n",
       "lon          0\n",
       "metro_100    0\n",
       "cams_100     0\n",
       "zonas_pat    0\n",
       "antro_100    0\n",
       "salud_100    0\n",
       "museo_100    0\n",
       "esc_100      0\n",
       "depo_100     0\n",
       "g100_19q1    0\n",
       "g100_19q2    0\n",
       "g100_19q3    0\n",
       "g100_19q4    0\n",
       "g100_20q1    0\n",
       "g100_20q2    0\n",
       "g100_20q3    0\n",
       "g100_20q4    0\n",
       "g100_21q1    0\n",
       "g100_21q2    0\n",
       "g100_21q3    0\n",
       "g100_21q4    0\n",
       "g100_22q1    0\n",
       "g100_22q2    0\n",
       "g100_22q3    0\n",
       "g100_22q4    0\n",
       "g100_23q1    0\n",
       "dtype: int64"
      ]
     },
     "execution_count": 41,
     "metadata": {},
     "output_type": "execute_result"
    }
   ],
   "source": [
    "grid_100.isnull().sum()"
   ]
  },
  {
   "cell_type": "code",
   "execution_count": 42,
   "id": "8cf9f80b-35b9-4f00-9b22-aedcfdad011b",
   "metadata": {
    "tags": []
   },
   "outputs": [
    {
     "name": "stdout",
     "output_type": "stream",
     "text": [
      "(5382, 28)\n",
      "(224, 28)\n",
      "id           0\n",
      "lat          0\n",
      "lon          0\n",
      "metro_100    0\n",
      "cams_100     0\n",
      "zonas_pat    0\n",
      "antro_100    0\n",
      "salud_100    0\n",
      "museo_100    0\n",
      "esc_100      0\n",
      "depo_100     0\n",
      "g100_19q1    0\n",
      "g100_19q2    0\n",
      "g100_19q3    0\n",
      "g100_19q4    0\n",
      "g100_20q1    0\n",
      "g100_20q2    0\n",
      "g100_20q3    0\n",
      "g100_20q4    0\n",
      "g100_21q1    0\n",
      "g100_21q2    0\n",
      "g100_21q3    0\n",
      "g100_21q4    0\n",
      "g100_22q1    0\n",
      "g100_22q2    0\n",
      "g100_22q3    0\n",
      "g100_22q4    0\n",
      "g100_23q1    0\n",
      "dtype: int64\n",
      "id           0\n",
      "lat          0\n",
      "lon          0\n",
      "metro_500    0\n",
      "cams_500     0\n",
      "zonas_pat    0\n",
      "antro_500    0\n",
      "salud_500    0\n",
      "museo_500    0\n",
      "esc_500      0\n",
      "depo_500     0\n",
      "g500_19q1    0\n",
      "g500_19q2    0\n",
      "g500_19q3    0\n",
      "g500_19q4    0\n",
      "g500_20q1    0\n",
      "g500_20q2    0\n",
      "g500_20q3    0\n",
      "g500_20q4    0\n",
      "g500_21q1    0\n",
      "g500_21q2    0\n",
      "g500_21q3    0\n",
      "g500_21q4    0\n",
      "g500_22q1    0\n",
      "g500_22q2    0\n",
      "g500_22q3    0\n",
      "g500_22q4    0\n",
      "g500_23q1    0\n",
      "dtype: int64\n"
     ]
    }
   ],
   "source": [
    "#Validation lines\n",
    "\n",
    "print(grid_100.shape)\n",
    "print(grid_500.shape)\n",
    "\n",
    "print(grid_100.isnull().sum())\n",
    "print(grid_500.isnull().sum())\n"
   ]
  },
  {
   "cell_type": "code",
   "execution_count": 43,
   "id": "b205c0c5-5e8d-4d88-af57-ac67258db6f7",
   "metadata": {
    "tags": []
   },
   "outputs": [
    {
     "data": {
      "text/plain": [
       "Index(['id', 'lat', 'lon', 'metro_100', 'cams_100', 'zonas_pat', 'antro_100',\n",
       "       'salud_100', 'museo_100', 'esc_100', 'depo_100', 'g100_19q1',\n",
       "       'g100_19q2', 'g100_19q3', 'g100_19q4', 'g100_20q1', 'g100_20q2',\n",
       "       'g100_20q3', 'g100_20q4', 'g100_21q1', 'g100_21q2', 'g100_21q3',\n",
       "       'g100_21q4', 'g100_22q1', 'g100_22q2', 'g100_22q3', 'g100_22q4',\n",
       "       'g100_23q1'],\n",
       "      dtype='object')"
      ]
     },
     "execution_count": 43,
     "metadata": {},
     "output_type": "execute_result"
    }
   ],
   "source": [
    "grid_100.columns"
   ]
  },
  {
   "cell_type": "code",
   "execution_count": 25,
   "id": "af0612e2-1373-4bc6-93c4-32d4a83e315f",
   "metadata": {
    "tags": []
   },
   "outputs": [],
   "source": [
    "grid_500.to_csv('../datasets/grid_500.csv', index = False)\n",
    "grid_100.to_csv('../datasets/grid_100.csv', index = False)"
   ]
  },
  {
   "cell_type": "code",
   "execution_count": 26,
   "id": "46df4e7b-b0d9-482b-bb38-b90f7000d06c",
   "metadata": {},
   "outputs": [
    {
     "data": {
      "text/plain": [
       "Index(['id', 'lat', 'lon', 'metro_100', 'cams_100', 'zonas_pat', 'g100_19q1',\n",
       "       'g100_19q2', 'g100_19q3', 'g100_19q4', 'g100_20q1', 'g100_20q2',\n",
       "       'g100_20q3', 'g100_20q4', 'g100_21q1', 'g100_21q2', 'g100_21q3',\n",
       "       'g100_21q4', 'g100_22q1', 'g100_22q2', 'g100_22q3', 'g100_22q4',\n",
       "       'g100_23q1', 'antro_100', 'salud_100', 'museo_100', 'esc_100',\n",
       "       'depo_100'],\n",
       "      dtype='object')"
      ]
     },
     "execution_count": 26,
     "metadata": {},
     "output_type": "execute_result"
    }
   ],
   "source": [
    "grid_100.columns"
   ]
  },
  {
   "cell_type": "code",
   "execution_count": null,
   "id": "ce88dbd0-10e0-415e-9ffe-c3e52ddb5cfc",
   "metadata": {},
   "outputs": [],
   "source": []
  }
 ],
 "metadata": {
  "kernelspec": {
   "display_name": "Python 3 (ipykernel)",
   "language": "python",
   "name": "python3"
  },
  "language_info": {
   "codemirror_mode": {
    "name": "ipython",
    "version": 3
   },
   "file_extension": ".py",
   "mimetype": "text/x-python",
   "name": "python",
   "nbconvert_exporter": "python",
   "pygments_lexer": "ipython3",
   "version": "3.8.16"
  }
 },
 "nbformat": 4,
 "nbformat_minor": 5
}
