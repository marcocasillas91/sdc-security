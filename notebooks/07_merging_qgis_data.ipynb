{
 "cells": [
  {
   "cell_type": "code",
   "execution_count": null,
   "id": "72785491-954d-4479-ada6-771eb8c684b4",
   "metadata": {
    "tags": []
   },
   "outputs": [],
   "source": [
    "import pandas as pd\n",
    "import zipfile\n",
    "import numpy as np\n",
    "import matplotlib.pyplot as plt\n",
    "import json\n",
    "import os\n",
    "\n",
    "\n",
    "#Path\n",
    "#Insert your local repo path to file\n",
    "path_home = \"D:\\Archivos\\Social Data Challenge\\data\\grids\"\n",
    "path_500 = path_home + \"\\g500\"\n",
    "path_100 = path_home + \"\\g100\"\n"
   ]
  },
  {
   "cell_type": "code",
   "execution_count": 29,
   "id": "9f6e99a5-06c6-4835-a99d-efdbd3395d92",
   "metadata": {
    "tags": []
   },
   "outputs": [],
   "source": [
    "csv_100 = [file for file in os.listdir(path_100) if file.endswith('.csv')]\n",
    "csv_500 = [file for file in os.listdir(path_500) if file.endswith('.csv')]\n"
   ]
  },
  {
   "cell_type": "code",
   "execution_count": 30,
   "id": "d95c09f8-9dc3-4854-89fb-4f0721f8fe9c",
   "metadata": {
    "tags": []
   },
   "outputs": [],
   "source": [
    "#TODO: refactor to avcoid duplicating this code for each grid\n",
    "dataframes = []\n",
    "\n",
    "\n",
    "for file in csv_500:\n",
    "    df = pd.read_csv(os.path.join(path_500, file))\n",
    "    last_column_name = df.columns[-1]\n",
    "    df = df[['id', 'lat', 'lon', last_column_name]]\n",
    "    dataframes.append(df)\n",
    "\n",
    "#merged_df = dataframes[0]  # Start with the first DataFrame\n",
    "merged_df = pd.read_csv(path_home +'\\g500_2019_quarters_coordinates.csv')\n",
    "merged_df=merged_df.drop(columns = ['left','top','right','bottom'])\n",
    "for df in dataframes:\n",
    "    merged_df = pd.merge(merged_df, df, on=['id', 'lat', 'lon'], how='inner')\n",
    "    "
   ]
  },
  {
   "cell_type": "code",
   "execution_count": 31,
   "id": "ee08df2e-d4a6-47e8-a950-e33f2fca2e66",
   "metadata": {
    "tags": []
   },
   "outputs": [],
   "source": [
    "grid_500 = merged_df.copy()"
   ]
  },
  {
   "cell_type": "code",
   "execution_count": 32,
   "id": "482a59fb-efdc-43d8-ba0f-32a49f189c14",
   "metadata": {
    "tags": []
   },
   "outputs": [
    {
     "data": {
      "text/plain": [
       "(224, 27)"
      ]
     },
     "execution_count": 32,
     "metadata": {},
     "output_type": "execute_result"
    }
   ],
   "source": [
    "grid_500.shape\n"
   ]
  },
  {
   "cell_type": "code",
   "execution_count": 33,
   "id": "6def4857-6de1-4141-807d-442189ff65d2",
   "metadata": {
    "tags": []
   },
   "outputs": [],
   "source": [
    "dataframes = []\n",
    "\n",
    "for file in csv_100:\n",
    "    df = pd.read_csv(os.path.join(path_100, file))\n",
    "    last_column_name = df.columns[-1]\n",
    "    df = df[['id', 'lat', 'lon', last_column_name]]\n",
    "    dataframes.append(df)\n",
    "\n",
    "#merged_df = dataframes[0]  # Start with the first DataFrame\n",
    "merged_df = pd.read_csv(path_home +'\\g100_2019_quarters_coordinates.csv')\n",
    "merged_df=merged_df.drop(columns = ['left','top','right','bottom'])\n",
    "for df in dataframes:\n",
    "    merged_df = pd.merge(merged_df, df, on=['id', 'lat', 'lon'], how='inner')\n",
    "    \n",
    "    "
   ]
  },
  {
   "cell_type": "code",
   "execution_count": 34,
   "id": "a3a3edf8-f8f7-4074-800f-dd3f574226e2",
   "metadata": {
    "tags": []
   },
   "outputs": [],
   "source": [
    "grid_100 = merged_df.copy()"
   ]
  },
  {
   "cell_type": "code",
   "execution_count": 35,
   "id": "7f11d51f-88b7-45cc-bf89-51677ce0df89",
   "metadata": {
    "tags": []
   },
   "outputs": [
    {
     "data": {
      "text/plain": [
       "(5382, 27)"
      ]
     },
     "execution_count": 35,
     "metadata": {},
     "output_type": "execute_result"
    }
   ],
   "source": [
    "grid_100.shape"
   ]
  },
  {
   "cell_type": "markdown",
   "id": "155960d0-8df5-4917-9b07-15bf29ad1961",
   "metadata": {
    "tags": []
   },
   "source": [
    "### Grouping 'zonas de patrullaje' grid data "
   ]
  },
  {
   "cell_type": "code",
   "execution_count": 36,
   "id": "fcf68580-d091-4425-84b3-f52666998d78",
   "metadata": {
    "tags": []
   },
   "outputs": [],
   "source": [
    "patrullaje_500_path = 'D:\\Archivos\\Social Data Challenge\\data\\grids\\zonas_patrullaje_500.csv'\n",
    "patrullaje_100_path = 'D:\\Archivos\\Social Data Challenge\\data\\grids\\zonas_patrullaje_100.csv'\n",
    "\n",
    "patrullaje_500 = pd.read_csv(patrullaje_500_path)\n",
    "patrullaje_100 = pd.read_csv(patrullaje_100_path)\n",
    "\n",
    "pat_500 = patrullaje_500.groupby(by=['id','lat','lon']).size().reset_index(name='zonas_pat')\n",
    "pat_100 = patrullaje_100.groupby(by=['id','lat','lon']).size().reset_index(name='zonas_pat')\n"
   ]
  },
  {
   "cell_type": "code",
   "execution_count": 37,
   "id": "37ce00e3-5c2d-42fe-828a-456252a90781",
   "metadata": {
    "tags": []
   },
   "outputs": [],
   "source": [
    "grid_100 = pd.merge(grid_100, pat_100, on=['id', 'lat', 'lon'], how='inner')\n",
    "grid_500 = pd.merge(grid_500, pat_500, on=['id', 'lat', 'lon'], how='inner')"
   ]
  },
  {
   "cell_type": "code",
   "execution_count": 38,
   "id": "4ffdadc8-5da8-4e5a-a718-28fc8492856d",
   "metadata": {
    "tags": []
   },
   "outputs": [
    {
     "data": {
      "text/plain": [
       "Index(['id', 'g500_19q1', 'g500_19q2', 'g500_19q3', 'g500_19q4', 'lat', 'lon',\n",
       "       'metro_500', 'cams_500', 'g500_20q1', 'g500_20q2', 'g500_20q3',\n",
       "       'g500_20q4', 'g500_21q1', 'g500_21q2', 'g500_21q3', 'g500_21q4',\n",
       "       'g500_22q1', 'g500_22q2', 'g500_22q3', 'g500_22q4', 'g500_23q1',\n",
       "       'salud_500', 'museo_500', 'escuela_50', 'deporte_50', 'antro_500',\n",
       "       'zonas_pat'],\n",
       "      dtype='object')"
      ]
     },
     "execution_count": 38,
     "metadata": {},
     "output_type": "execute_result"
    }
   ],
   "source": [
    "grid_500.columns\n"
   ]
  },
  {
   "cell_type": "code",
   "execution_count": 39,
   "id": "5bf9b9f9-bac2-44bb-8ce7-f4d20ce4e7bc",
   "metadata": {
    "tags": []
   },
   "outputs": [
    {
     "data": {
      "text/plain": [
       "Index(['id', 'g100_19q1', 'g100_19q2', 'g100_19q3', 'g100_19q4', 'lat', 'lon',\n",
       "       'metro_100', 'cams_100', 'g100_20q1', 'g100_20q2', 'g100_20q3',\n",
       "       'g100_20q4', 'g100_21q1', 'g100_21q2', 'g100_21q3', 'g100_21q4',\n",
       "       'g100_22q1', 'g100_22q2', 'g100_22q3', 'g100_22q4', 'g100_23q1',\n",
       "       'antro_100', 'salud_100', 'museo_100', 'escuela_10', 'deporte_10',\n",
       "       'zonas_pat'],\n",
       "      dtype='object')"
      ]
     },
     "execution_count": 39,
     "metadata": {},
     "output_type": "execute_result"
    }
   ],
   "source": [
    "grid_100.columns"
   ]
  },
  {
   "cell_type": "code",
   "execution_count": 40,
   "id": "5e6fd12b-2a9f-4b8f-95b7-aa2a9b2e969b",
   "metadata": {
    "tags": []
   },
   "outputs": [],
   "source": [
    "\n",
    "grid_500 = grid_500[['id', 'lat', 'lon', 'metro_500', 'cams_500', 'zonas_pat',\n",
    "                     'antro_500', 'salud_500', 'museo_500', 'escuela_50', 'deporte_50',\n",
    "                     'g500_19q1', 'g500_19q2', 'g500_19q3', 'g500_19q4',      \n",
    "                     'g500_20q1', 'g500_20q2', 'g500_20q3', 'g500_20q4', \n",
    "                     'g500_21q1', 'g500_21q2', 'g500_21q3', 'g500_21q4',\n",
    "                     'g500_22q1', 'g500_22q2', 'g500_22q3', 'g500_22q4', \n",
    "                     'g500_23q1'\n",
    "                    ]]\n",
    "\n",
    "grid_100 = grid_100[[ 'id', 'lat', 'lon', 'metro_100', 'cams_100', 'zonas_pat',\n",
    "                      'antro_100', 'salud_100', 'museo_100', 'escuela_10', 'deporte_10',\n",
    "                      'g100_19q1', 'g100_19q2', 'g100_19q3', 'g100_19q4',        \n",
    "                      'g100_20q1', 'g100_20q2', 'g100_20q3', 'g100_20q4', \n",
    "                      'g100_21q1', 'g100_21q2', 'g100_21q3', 'g100_21q4',\n",
    "                      'g100_22q1', 'g100_22q2', 'g100_22q3', 'g100_22q4', \n",
    "                      'g100_23q1',\n",
    "                      ]]\n",
    "\n",
    "grid_500.rename(columns ={'escuela_50':'esc_500','deporte_50':'depo_500'}, inplace =True)\n",
    "grid_100.rename(columns ={'escuela_10':'esc_100','deporte_10':'depo_100'}, inplace =True)"
   ]
  },
  {
   "cell_type": "code",
   "execution_count": 41,
   "id": "0e04c52c-2429-43f4-9aab-17da4fcfcc53",
   "metadata": {
    "tags": []
   },
   "outputs": [
    {
     "data": {
      "text/plain": [
       "id           0\n",
       "lat          0\n",
       "lon          0\n",
       "metro_100    0\n",
       "cams_100     0\n",
       "zonas_pat    0\n",
       "antro_100    0\n",
       "salud_100    0\n",
       "museo_100    0\n",
       "esc_100      0\n",
       "depo_100     0\n",
       "g100_19q1    0\n",
       "g100_19q2    0\n",
       "g100_19q3    0\n",
       "g100_19q4    0\n",
       "g100_20q1    0\n",
       "g100_20q2    0\n",
       "g100_20q3    0\n",
       "g100_20q4    0\n",
       "g100_21q1    0\n",
       "g100_21q2    0\n",
       "g100_21q3    0\n",
       "g100_21q4    0\n",
       "g100_22q1    0\n",
       "g100_22q2    0\n",
       "g100_22q3    0\n",
       "g100_22q4    0\n",
       "g100_23q1    0\n",
       "dtype: int64"
      ]
     },
     "execution_count": 41,
     "metadata": {},
     "output_type": "execute_result"
    }
   ],
   "source": [
    "grid_100.isnull().sum()"
   ]
  },
  {
   "cell_type": "code",
   "execution_count": 42,
   "id": "8cf9f80b-35b9-4f00-9b22-aedcfdad011b",
   "metadata": {
    "tags": []
   },
   "outputs": [
    {
     "name": "stdout",
     "output_type": "stream",
     "text": [
      "(5382, 28)\n",
      "(224, 28)\n",
      "id           0\n",
      "lat          0\n",
      "lon          0\n",
      "metro_100    0\n",
      "cams_100     0\n",
      "zonas_pat    0\n",
      "antro_100    0\n",
      "salud_100    0\n",
      "museo_100    0\n",
      "esc_100      0\n",
      "depo_100     0\n",
      "g100_19q1    0\n",
      "g100_19q2    0\n",
      "g100_19q3    0\n",
      "g100_19q4    0\n",
      "g100_20q1    0\n",
      "g100_20q2    0\n",
      "g100_20q3    0\n",
      "g100_20q4    0\n",
      "g100_21q1    0\n",
      "g100_21q2    0\n",
      "g100_21q3    0\n",
      "g100_21q4    0\n",
      "g100_22q1    0\n",
      "g100_22q2    0\n",
      "g100_22q3    0\n",
      "g100_22q4    0\n",
      "g100_23q1    0\n",
      "dtype: int64\n",
      "id           0\n",
      "lat          0\n",
      "lon          0\n",
      "metro_500    0\n",
      "cams_500     0\n",
      "zonas_pat    0\n",
      "antro_500    0\n",
      "salud_500    0\n",
      "museo_500    0\n",
      "esc_500      0\n",
      "depo_500     0\n",
      "g500_19q1    0\n",
      "g500_19q2    0\n",
      "g500_19q3    0\n",
      "g500_19q4    0\n",
      "g500_20q1    0\n",
      "g500_20q2    0\n",
      "g500_20q3    0\n",
      "g500_20q4    0\n",
      "g500_21q1    0\n",
      "g500_21q2    0\n",
      "g500_21q3    0\n",
      "g500_21q4    0\n",
      "g500_22q1    0\n",
      "g500_22q2    0\n",
      "g500_22q3    0\n",
      "g500_22q4    0\n",
      "g500_23q1    0\n",
      "dtype: int64\n"
     ]
    }
   ],
   "source": [
    "#Validation lines\n",
    "\n",
    "print(grid_100.shape)\n",
    "print(grid_500.shape)\n",
    "\n",
    "print(grid_100.isnull().sum())\n",
    "print(grid_500.isnull().sum())\n"
   ]
  },
  {
   "cell_type": "code",
   "execution_count": 43,
   "id": "b205c0c5-5e8d-4d88-af57-ac67258db6f7",
   "metadata": {
    "tags": []
   },
   "outputs": [
    {
     "data": {
      "text/plain": [
       "Index(['id', 'lat', 'lon', 'metro_100', 'cams_100', 'zonas_pat', 'antro_100',\n",
       "       'salud_100', 'museo_100', 'esc_100', 'depo_100', 'g100_19q1',\n",
       "       'g100_19q2', 'g100_19q3', 'g100_19q4', 'g100_20q1', 'g100_20q2',\n",
       "       'g100_20q3', 'g100_20q4', 'g100_21q1', 'g100_21q2', 'g100_21q3',\n",
       "       'g100_21q4', 'g100_22q1', 'g100_22q2', 'g100_22q3', 'g100_22q4',\n",
       "       'g100_23q1'],\n",
       "      dtype='object')"
      ]
     },
     "execution_count": 43,
     "metadata": {},
     "output_type": "execute_result"
    }
   ],
   "source": [
    "grid_100.columns"
   ]
  },
  {
   "cell_type": "code",
   "execution_count": null,
   "id": "b1638308-4b8b-4ebb-ae2f-10a742669ea1",
   "metadata": {},
   "outputs": [],
   "source": [
    "grid_500.to_csv('../datasets/grid_500.csv', index = False)\n",
    "grid_100.to_csv('../datasets/grid_100.csv', index = False)"
   ]
  },
  {
   "cell_type": "markdown",
   "id": "1a3f3539-b5e8-456f-87ef-1024fc67fb5f",
   "metadata": {},
   "source": [
    "# Joining Heatmap samples info"
   ]
  },
  {
   "cell_type": "code",
   "execution_count": null,
   "id": "be9e8a24-cb97-4bc7-850c-ea07cca767a4",
   "metadata": {},
   "outputs": [],
   "source": [
    "\n",
    "path_home = \"D:\\Archivos\\Social Data Challenge\\data\\grids\"\n",
    "\n",
    "#csv_100 = pd.read_csv(path_home + '\\grid_100.csv')\n",
    "\n",
    "path_100 = path_home + \"\\quarter_samples\\grid100\"\n",
    "path_500 = path_home + \"\\quarter_samples\\grid500\"\n",
    "\n",
    "samples_100 = [file for file in os.listdir(path_100) if file.endswith('.csv')]\n",
    "samples_500 = [file for file in os.listdir(path_500) if file.endswith('.csv')]"
   ]
  },
  {
   "cell_type": "code",
   "execution_count": null,
   "id": "290c0bc8-9f1d-43e1-8fb9-0fd5c4dc5393",
   "metadata": {},
   "outputs": [],
   "source": [
    "dataframes = []\n",
    "\n",
    "for file in samples_500:\n",
    "    df = pd.read_csv(os.path.join(path_500, file))\n",
    "    last_column_name = df.columns[-1]\n",
    "    df = df[['id', 'lat', 'lon', last_column_name]]\n",
    "    dataframes.append(df)\n",
    "\n",
    "#merged_df = pd.read_csv(path_home + '\\grid_500.csv')\n",
    "merged_df = grid_500.copy()\n",
    "\n",
    "for df in dataframes:\n",
    "    merged_df = pd.merge(merged_df, df, on=['id', 'lat', 'lon'], how='left')\n",
    "    \n",
    "grid_500_htmp = merged_df.copy()\n",
    "print(grid_500_htmp.shape)\n",
    "print(grid_500_htmp.isnull().sum())\n",
    "grid_500_htmp.head()\n"
   ]
  },
  {
   "cell_type": "code",
   "execution_count": null,
   "id": "008787bc-8ae8-412d-8731-990677137f65",
   "metadata": {},
   "outputs": [],
   "source": [
    "dataframes = []\n",
    "\n",
    "for file in samples_100:\n",
    "    df = pd.read_csv(os.path.join(path_100, file))\n",
    "    last_column_name = df.columns[-1]\n",
    "    df = df[['id', 'lat', 'lon', last_column_name]]\n",
    "    dataframes.append(df)\n",
    "\n",
    "#merged_df = pd.read_csv(path_home + '\\grid_100.csv')\n",
    "merged_df = grid_100.copy()\n",
    "\n",
    "for df in dataframes:\n",
    "    merged_df = pd.merge(merged_df, df, on=['id', 'lat', 'lon'], how='left')\n",
    "    \n",
    "grid_100_htmp = merged_df.copy()\n",
    "print(grid_100_htmp.shape)\n",
    "print(grid_100_htmp.isnull().sum())\n",
    "grid_100_htmp.head()\n"
   ]
  },
  {
   "cell_type": "code",
   "execution_count": null,
   "id": "4195fcfd-36fa-4315-83e9-6fe0e48b02bd",
   "metadata": {},
   "outputs": [],
   "source": [
    "for df in [grid_100_htmp, grid_500_htmp]:\n",
    "    df.fillna(0,inplace=True)\n",
    "    df.columns = df.columns.str.replace('g100_', 'crime')\n",
    "    df.columns = df.columns.str.replace('g500_', 'crime')\n"
   ]
  },
  {
   "cell_type": "code",
   "execution_count": 26,
   "id": "46df4e7b-b0d9-482b-bb38-b90f7000d06c",
   "metadata": {},
   "outputs": [
    {
     "data": {
      "text/plain": [
       "Index(['id', 'lat', 'lon', 'metro_100', 'cams_100', 'zonas_pat', 'g100_19q1',\n",
       "       'g100_19q2', 'g100_19q3', 'g100_19q4', 'g100_20q1', 'g100_20q2',\n",
       "       'g100_20q3', 'g100_20q4', 'g100_21q1', 'g100_21q2', 'g100_21q3',\n",
       "       'g100_21q4', 'g100_22q1', 'g100_22q2', 'g100_22q3', 'g100_22q4',\n",
       "       'g100_23q1', 'antro_100', 'salud_100', 'museo_100', 'esc_100',\n",
       "       'depo_100'],\n",
       "      dtype='object')"
      ]
     },
     "execution_count": 26,
     "metadata": {},
     "output_type": "execute_result"
    }
   ],
   "source": [
    "grid_100.columns"
   ]
  },
  {
   "cell_type": "code",
   "execution_count": 56,
   "id": "05830d27-9202-4ac9-8739-637b759702db",
   "metadata": {
    "tags": []
   },
   "outputs": [],
   "source": [
    "grid_100_htmp= grid_100_htmp[[  'id', 'lat', 'lon', \n",
    "                                'metro_100', 'cams_100', 'zonas_pat', \n",
    "                                'antro_100', 'salud_100', 'museo_100', 'esc_100', 'depo_100', \n",
    "                                'crime19q1', 'sample19q1', 'crime19q2', 'sample19q2', \n",
    "                                'crime19q3', 'sample19q3', 'crime19q4', 'sample19q4',\n",
    "                                'crime20q1', 'sample20q1', 'crime20q2', 'sample20q2', \n",
    "                                'crime20q3', 'sample20q3', 'crime20q4', 'sample20q4',\n",
    "                                'crime21q1', 'sample21q1', 'crime21q2', 'sample21q2',\n",
    "                                'crime21q3', 'sample21q3', 'crime21q4', 'sample21q4',\n",
    "                                'crime22q1', 'sample22q1', 'crime22q2', 'sample22q2', \n",
    "                                'crime22q3', 'sample22q3', 'crime22q4', 'sample22q4',\n",
    "                                'crime23q1', 'sample23q1']]"
   ]
  },
  {
   "cell_type": "code",
   "execution_count": 57,
   "id": "8582f66a-6e93-4698-bccb-ac69aa4b9a54",
   "metadata": {
    "tags": []
   },
   "outputs": [],
   "source": [
    "grid_500_htmp= grid_500_htmp[[  'id', 'lat', 'lon', \n",
    "                                'metro_500', 'cams_500', 'zonas_pat', \n",
    "                                'antro_500', 'salud_500',  'museo_500', 'esc_500', 'depo_500', \n",
    "                                'crime19q1', 'sample19q1', 'crime19q2', 'sample19q2', \n",
    "                                'crime19q3', 'sample19q3', 'crime19q4', 'sample19q4',\n",
    "                                'crime20q1', 'sample20q1', 'crime20q2', 'sample20q2', \n",
    "                                'crime20q3', 'sample20q3', 'crime20q4', 'sample20q4',\n",
    "                                'crime21q1', 'sample21q1', 'crime21q2', 'sample21q2',\n",
    "                                'crime21q3', 'sample21q3', 'crime21q4', 'sample21q4',\n",
    "                                'crime22q1', 'sample22q1', 'crime22q2', 'sample22q2', \n",
    "                                'crime22q3', 'sample22q3', 'crime22q4', 'sample22q4',\n",
    "                                'crime23q1', 'sample23q1']]"
   ]
  },
  {
   "cell_type": "code",
   "execution_count": 59,
   "id": "9282ba1f-7d64-4f82-b1a3-855de768e24a",
   "metadata": {
    "tags": []
   },
   "outputs": [
    {
     "data": {
      "text/html": [
       "<div>\n",
       "<style scoped>\n",
       "    .dataframe tbody tr th:only-of-type {\n",
       "        vertical-align: middle;\n",
       "    }\n",
       "\n",
       "    .dataframe tbody tr th {\n",
       "        vertical-align: top;\n",
       "    }\n",
       "\n",
       "    .dataframe thead th {\n",
       "        text-align: right;\n",
       "    }\n",
       "</style>\n",
       "<table border=\"1\" class=\"dataframe\">\n",
       "  <thead>\n",
       "    <tr style=\"text-align: right;\">\n",
       "      <th></th>\n",
       "      <th>id</th>\n",
       "      <th>lat</th>\n",
       "      <th>lon</th>\n",
       "      <th>metro_100</th>\n",
       "      <th>cams_100</th>\n",
       "      <th>zonas_pat</th>\n",
       "      <th>antro_100</th>\n",
       "      <th>salud_100</th>\n",
       "      <th>museo_100</th>\n",
       "      <th>esc_100</th>\n",
       "      <th>...</th>\n",
       "      <th>crime22q1</th>\n",
       "      <th>sample22q1</th>\n",
       "      <th>crime22q2</th>\n",
       "      <th>sample22q2</th>\n",
       "      <th>crime22q3</th>\n",
       "      <th>sample22q3</th>\n",
       "      <th>crime22q4</th>\n",
       "      <th>sample22q4</th>\n",
       "      <th>crime23q1</th>\n",
       "      <th>sample23q1</th>\n",
       "    </tr>\n",
       "  </thead>\n",
       "  <tbody>\n",
       "    <tr>\n",
       "      <th>0</th>\n",
       "      <td>1</td>\n",
       "      <td>19.465514</td>\n",
       "      <td>-99.184187</td>\n",
       "      <td>0</td>\n",
       "      <td>0</td>\n",
       "      <td>1</td>\n",
       "      <td>0</td>\n",
       "      <td>0</td>\n",
       "      <td>0</td>\n",
       "      <td>0</td>\n",
       "      <td>...</td>\n",
       "      <td>0</td>\n",
       "      <td>0.0</td>\n",
       "      <td>0</td>\n",
       "      <td>0.0</td>\n",
       "      <td>0</td>\n",
       "      <td>0.0</td>\n",
       "      <td>0</td>\n",
       "      <td>0.0</td>\n",
       "      <td>0</td>\n",
       "      <td>0.0</td>\n",
       "    </tr>\n",
       "    <tr>\n",
       "      <th>1</th>\n",
       "      <td>2</td>\n",
       "      <td>19.464666</td>\n",
       "      <td>-99.184187</td>\n",
       "      <td>0</td>\n",
       "      <td>0</td>\n",
       "      <td>1</td>\n",
       "      <td>0</td>\n",
       "      <td>0</td>\n",
       "      <td>0</td>\n",
       "      <td>0</td>\n",
       "      <td>...</td>\n",
       "      <td>0</td>\n",
       "      <td>0.0</td>\n",
       "      <td>0</td>\n",
       "      <td>0.0</td>\n",
       "      <td>0</td>\n",
       "      <td>0.0</td>\n",
       "      <td>0</td>\n",
       "      <td>0.0</td>\n",
       "      <td>0</td>\n",
       "      <td>0.0</td>\n",
       "    </tr>\n",
       "    <tr>\n",
       "      <th>2</th>\n",
       "      <td>3</td>\n",
       "      <td>19.463818</td>\n",
       "      <td>-99.184187</td>\n",
       "      <td>0</td>\n",
       "      <td>0</td>\n",
       "      <td>1</td>\n",
       "      <td>0</td>\n",
       "      <td>0</td>\n",
       "      <td>0</td>\n",
       "      <td>0</td>\n",
       "      <td>...</td>\n",
       "      <td>0</td>\n",
       "      <td>0.0</td>\n",
       "      <td>0</td>\n",
       "      <td>0.0</td>\n",
       "      <td>0</td>\n",
       "      <td>0.0</td>\n",
       "      <td>0</td>\n",
       "      <td>0.0</td>\n",
       "      <td>0</td>\n",
       "      <td>0.0</td>\n",
       "    </tr>\n",
       "    <tr>\n",
       "      <th>3</th>\n",
       "      <td>4</td>\n",
       "      <td>19.462970</td>\n",
       "      <td>-99.184187</td>\n",
       "      <td>0</td>\n",
       "      <td>0</td>\n",
       "      <td>1</td>\n",
       "      <td>0</td>\n",
       "      <td>0</td>\n",
       "      <td>0</td>\n",
       "      <td>0</td>\n",
       "      <td>...</td>\n",
       "      <td>0</td>\n",
       "      <td>0.0</td>\n",
       "      <td>0</td>\n",
       "      <td>0.0</td>\n",
       "      <td>0</td>\n",
       "      <td>0.0</td>\n",
       "      <td>0</td>\n",
       "      <td>0.0</td>\n",
       "      <td>0</td>\n",
       "      <td>0.0</td>\n",
       "    </tr>\n",
       "    <tr>\n",
       "      <th>4</th>\n",
       "      <td>5</td>\n",
       "      <td>19.462123</td>\n",
       "      <td>-99.184187</td>\n",
       "      <td>0</td>\n",
       "      <td>0</td>\n",
       "      <td>1</td>\n",
       "      <td>0</td>\n",
       "      <td>0</td>\n",
       "      <td>0</td>\n",
       "      <td>0</td>\n",
       "      <td>...</td>\n",
       "      <td>0</td>\n",
       "      <td>0.0</td>\n",
       "      <td>0</td>\n",
       "      <td>0.0</td>\n",
       "      <td>0</td>\n",
       "      <td>0.0</td>\n",
       "      <td>0</td>\n",
       "      <td>0.0</td>\n",
       "      <td>0</td>\n",
       "      <td>0.0</td>\n",
       "    </tr>\n",
       "    <tr>\n",
       "      <th>...</th>\n",
       "      <td>...</td>\n",
       "      <td>...</td>\n",
       "      <td>...</td>\n",
       "      <td>...</td>\n",
       "      <td>...</td>\n",
       "      <td>...</td>\n",
       "      <td>...</td>\n",
       "      <td>...</td>\n",
       "      <td>...</td>\n",
       "      <td>...</td>\n",
       "      <td>...</td>\n",
       "      <td>...</td>\n",
       "      <td>...</td>\n",
       "      <td>...</td>\n",
       "      <td>...</td>\n",
       "      <td>...</td>\n",
       "      <td>...</td>\n",
       "      <td>...</td>\n",
       "      <td>...</td>\n",
       "      <td>...</td>\n",
       "      <td>...</td>\n",
       "    </tr>\n",
       "    <tr>\n",
       "      <th>5377</th>\n",
       "      <td>5378</td>\n",
       "      <td>19.403604</td>\n",
       "      <td>-99.123033</td>\n",
       "      <td>0</td>\n",
       "      <td>0</td>\n",
       "      <td>2</td>\n",
       "      <td>0</td>\n",
       "      <td>0</td>\n",
       "      <td>0</td>\n",
       "      <td>0</td>\n",
       "      <td>...</td>\n",
       "      <td>0</td>\n",
       "      <td>0.0</td>\n",
       "      <td>0</td>\n",
       "      <td>0.0</td>\n",
       "      <td>0</td>\n",
       "      <td>0.0</td>\n",
       "      <td>0</td>\n",
       "      <td>0.0</td>\n",
       "      <td>0</td>\n",
       "      <td>0.0</td>\n",
       "    </tr>\n",
       "    <tr>\n",
       "      <th>5378</th>\n",
       "      <td>5379</td>\n",
       "      <td>19.402756</td>\n",
       "      <td>-99.123033</td>\n",
       "      <td>0</td>\n",
       "      <td>0</td>\n",
       "      <td>1</td>\n",
       "      <td>0</td>\n",
       "      <td>0</td>\n",
       "      <td>0</td>\n",
       "      <td>0</td>\n",
       "      <td>...</td>\n",
       "      <td>0</td>\n",
       "      <td>0.0</td>\n",
       "      <td>0</td>\n",
       "      <td>0.0</td>\n",
       "      <td>0</td>\n",
       "      <td>0.0</td>\n",
       "      <td>0</td>\n",
       "      <td>0.0</td>\n",
       "      <td>0</td>\n",
       "      <td>0.0</td>\n",
       "    </tr>\n",
       "    <tr>\n",
       "      <th>5379</th>\n",
       "      <td>5380</td>\n",
       "      <td>19.401908</td>\n",
       "      <td>-99.123033</td>\n",
       "      <td>0</td>\n",
       "      <td>0</td>\n",
       "      <td>1</td>\n",
       "      <td>0</td>\n",
       "      <td>0</td>\n",
       "      <td>0</td>\n",
       "      <td>0</td>\n",
       "      <td>...</td>\n",
       "      <td>0</td>\n",
       "      <td>0.0</td>\n",
       "      <td>0</td>\n",
       "      <td>0.0</td>\n",
       "      <td>0</td>\n",
       "      <td>0.0</td>\n",
       "      <td>0</td>\n",
       "      <td>0.0</td>\n",
       "      <td>0</td>\n",
       "      <td>0.0</td>\n",
       "    </tr>\n",
       "    <tr>\n",
       "      <th>5380</th>\n",
       "      <td>5381</td>\n",
       "      <td>19.401060</td>\n",
       "      <td>-99.123033</td>\n",
       "      <td>0</td>\n",
       "      <td>0</td>\n",
       "      <td>1</td>\n",
       "      <td>0</td>\n",
       "      <td>0</td>\n",
       "      <td>0</td>\n",
       "      <td>0</td>\n",
       "      <td>...</td>\n",
       "      <td>0</td>\n",
       "      <td>0.0</td>\n",
       "      <td>0</td>\n",
       "      <td>0.0</td>\n",
       "      <td>0</td>\n",
       "      <td>0.0</td>\n",
       "      <td>0</td>\n",
       "      <td>0.0</td>\n",
       "      <td>0</td>\n",
       "      <td>0.0</td>\n",
       "    </tr>\n",
       "    <tr>\n",
       "      <th>5381</th>\n",
       "      <td>5382</td>\n",
       "      <td>19.400211</td>\n",
       "      <td>-99.123033</td>\n",
       "      <td>0</td>\n",
       "      <td>0</td>\n",
       "      <td>1</td>\n",
       "      <td>0</td>\n",
       "      <td>0</td>\n",
       "      <td>0</td>\n",
       "      <td>0</td>\n",
       "      <td>...</td>\n",
       "      <td>0</td>\n",
       "      <td>0.0</td>\n",
       "      <td>0</td>\n",
       "      <td>0.0</td>\n",
       "      <td>0</td>\n",
       "      <td>0.0</td>\n",
       "      <td>0</td>\n",
       "      <td>0.0</td>\n",
       "      <td>0</td>\n",
       "      <td>0.0</td>\n",
       "    </tr>\n",
       "  </tbody>\n",
       "</table>\n",
       "<p>5382 rows × 45 columns</p>\n",
       "</div>"
      ],
      "text/plain": [
       "        id        lat        lon  metro_100  cams_100  zonas_pat  antro_100  \\\n",
       "0        1  19.465514 -99.184187          0         0          1          0   \n",
       "1        2  19.464666 -99.184187          0         0          1          0   \n",
       "2        3  19.463818 -99.184187          0         0          1          0   \n",
       "3        4  19.462970 -99.184187          0         0          1          0   \n",
       "4        5  19.462123 -99.184187          0         0          1          0   \n",
       "...    ...        ...        ...        ...       ...        ...        ...   \n",
       "5377  5378  19.403604 -99.123033          0         0          2          0   \n",
       "5378  5379  19.402756 -99.123033          0         0          1          0   \n",
       "5379  5380  19.401908 -99.123033          0         0          1          0   \n",
       "5380  5381  19.401060 -99.123033          0         0          1          0   \n",
       "5381  5382  19.400211 -99.123033          0         0          1          0   \n",
       "\n",
       "      salud_100  museo_100  esc_100  ...  crime22q1  sample22q1  crime22q2  \\\n",
       "0             0          0        0  ...          0         0.0          0   \n",
       "1             0          0        0  ...          0         0.0          0   \n",
       "2             0          0        0  ...          0         0.0          0   \n",
       "3             0          0        0  ...          0         0.0          0   \n",
       "4             0          0        0  ...          0         0.0          0   \n",
       "...         ...        ...      ...  ...        ...         ...        ...   \n",
       "5377          0          0        0  ...          0         0.0          0   \n",
       "5378          0          0        0  ...          0         0.0          0   \n",
       "5379          0          0        0  ...          0         0.0          0   \n",
       "5380          0          0        0  ...          0         0.0          0   \n",
       "5381          0          0        0  ...          0         0.0          0   \n",
       "\n",
       "      sample22q2  crime22q3  sample22q3  crime22q4  sample22q4  crime23q1  \\\n",
       "0            0.0          0         0.0          0         0.0          0   \n",
       "1            0.0          0         0.0          0         0.0          0   \n",
       "2            0.0          0         0.0          0         0.0          0   \n",
       "3            0.0          0         0.0          0         0.0          0   \n",
       "4            0.0          0         0.0          0         0.0          0   \n",
       "...          ...        ...         ...        ...         ...        ...   \n",
       "5377         0.0          0         0.0          0         0.0          0   \n",
       "5378         0.0          0         0.0          0         0.0          0   \n",
       "5379         0.0          0         0.0          0         0.0          0   \n",
       "5380         0.0          0         0.0          0         0.0          0   \n",
       "5381         0.0          0         0.0          0         0.0          0   \n",
       "\n",
       "      sample23q1  \n",
       "0            0.0  \n",
       "1            0.0  \n",
       "2            0.0  \n",
       "3            0.0  \n",
       "4            0.0  \n",
       "...          ...  \n",
       "5377         0.0  \n",
       "5378         0.0  \n",
       "5379         0.0  \n",
       "5380         0.0  \n",
       "5381         0.0  \n",
       "\n",
       "[5382 rows x 45 columns]"
      ]
     },
     "execution_count": 59,
     "metadata": {},
     "output_type": "execute_result"
    }
   ],
   "source": [
    "grid_100_htmp"
   ]
  },
  {
   "cell_type": "code",
   "execution_count": 25,
   "id": "af0612e2-1373-4bc6-93c4-32d4a83e315f",
   "metadata": {
    "tags": []
   },
   "outputs": [],
   "source": [
    "grid_500.to_csv('../datasets/grid_500_htmp.csv', index = False)\n",
    "grid_100.to_csv('../datasets/grid_100_htmp.csv', index = False)"
   ]
  },
  {
   "cell_type": "code",
   "execution_count": null,
   "id": "ce88dbd0-10e0-415e-9ffe-c3e52ddb5cfc",
   "metadata": {},
   "outputs": [],
   "source": []
  }
 ],
 "metadata": {
  "kernelspec": {
   "display_name": "Python 3 (ipykernel)",
   "language": "python",
   "name": "python3"
  },
  "language_info": {
   "codemirror_mode": {
    "name": "ipython",
    "version": 3
   },
   "file_extension": ".py",
   "mimetype": "text/x-python",
   "name": "python",
   "nbconvert_exporter": "python",
   "pygments_lexer": "ipython3",
   "version": "3.8.16"
  }
 },
 "nbformat": 4,
 "nbformat_minor": 5
}
