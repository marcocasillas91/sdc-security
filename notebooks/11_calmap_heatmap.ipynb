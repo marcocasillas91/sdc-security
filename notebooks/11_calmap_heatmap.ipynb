{
 "cells": [
  {
   "cell_type": "markdown",
   "id": "c27d9ea6-123c-4b4d-b391-40698615c006",
   "metadata": {},
   "source": [
    "# Calmap heatmap visualization"
   ]
  },
  {
   "cell_type": "code",
   "execution_count": 458,
   "id": "9204e73e-5aa4-440d-ad95-7357f00b946b",
   "metadata": {
    "tags": []
   },
   "outputs": [],
   "source": [
    "import pandas as pd\n",
    "import zipfile\n",
    "import numpy as np\n",
    "import matplotlib.pyplot as plt\n",
    "import seaborn as sns\n",
    "from glob import glob\n",
    "\n",
    "#Path\n",
    "#Insert your local repo path to file \n",
    "repo_path = \"INSERT YOUR LOCAL SDC-SECURITY REPO PATH HERE\"\n",
    "repo_path ='D:\\Archivos\\Social Data Challenge\\data'\n",
    "\n",
    "plt.style.use(\"seaborn-v0_8-dark-palette\")\n",
    "pd.set_option(\"display.max_columns\", 500)\n",
    "#plt.style.available"
   ]
  },
  {
   "cell_type": "code",
   "execution_count": 462,
   "id": "630229b9-5d9b-4b00-8b39-aba48d3da385",
   "metadata": {
    "tags": []
   },
   "outputs": [
    {
     "data": {
      "text/plain": [
       "(8802, 16)"
      ]
     },
     "execution_count": 462,
     "metadata": {},
     "output_type": "execute_result"
    }
   ],
   "source": [
    "cuau_path = \"\\cuau_robo_transeunte.csv\"\n",
    "\n",
    "cuau = pd.read_csv(repo_path+cuau_path)\n",
    "cuau.shape"
   ]
  },
  {
   "cell_type": "code",
   "execution_count": 463,
   "id": "50ea57b2-8404-4482-aee5-7630bc49760a",
   "metadata": {
    "tags": []
   },
   "outputs": [
    {
     "name": "stdout",
     "output_type": "stream",
     "text": [
      "<class 'pandas.core.frame.DataFrame'>\n",
      "RangeIndex: 8802 entries, 0 to 8801\n",
      "Data columns (total 16 columns):\n",
      " #   Column       Non-Null Count  Dtype  \n",
      "---  ------       --------------  -----  \n",
      " 0   id           8802 non-null   int64  \n",
      " 1   idcarpeta    8802 non-null   int64  \n",
      " 2   delito       8802 non-null   object \n",
      " 3   categoria    8802 non-null   object \n",
      " 4   colonia      8802 non-null   object \n",
      " 5   sexo_fem     8802 non-null   int64  \n",
      " 6   edad         8802 non-null   int64  \n",
      " 7   anio_hecho   8802 non-null   int64  \n",
      " 8   mes_hecho    8802 non-null   int64  \n",
      " 9   fecha_hecho  8802 non-null   object \n",
      " 10  hora_hecho   8802 non-null   object \n",
      " 11  quarter      8802 non-null   int64  \n",
      " 12  hour_of_day  8802 non-null   int64  \n",
      " 13  time_of_day  8802 non-null   object \n",
      " 14  crimen_lat   8802 non-null   float64\n",
      " 15  crimen_lon   8802 non-null   float64\n",
      "dtypes: float64(2), int64(8), object(6)\n",
      "memory usage: 1.1+ MB\n"
     ]
    }
   ],
   "source": [
    "cuau.info()"
   ]
  },
  {
   "cell_type": "code",
   "execution_count": 23,
   "id": "a2bba36c-0d1d-4533-9109-f48e9e67a305",
   "metadata": {
    "tags": []
   },
   "outputs": [],
   "source": [
    "cat_cols=['delito','categoria','colonia','time_of_day']\n",
    "for c in cat_cols:\n",
    "    cuau[c] = cuau[c].astype(\"category\")"
   ]
  },
  {
   "cell_type": "code",
   "execution_count": 29,
   "id": "7296908a-2663-4842-bfb4-c95c86907878",
   "metadata": {
    "tags": []
   },
   "outputs": [
    {
     "data": {
      "text/plain": [
       "1     987\n",
       "3     965\n",
       "2     938\n",
       "5     722\n",
       "12    707\n",
       "8     703\n",
       "10    691\n",
       "4     688\n",
       "7     657\n",
       "11    648\n",
       "6     616\n",
       "9     480\n",
       "Name: mes_hecho, dtype: int64"
      ]
     },
     "execution_count": 29,
     "metadata": {},
     "output_type": "execute_result"
    }
   ],
   "source": [
    "cuau[\"mes_hecho\"].value_counts()"
   ]
  },
  {
   "cell_type": "code",
   "execution_count": 52,
   "id": "6ccc80f4-c4f1-4568-9c3d-462b6d6f6e81",
   "metadata": {
    "tags": []
   },
   "outputs": [
    {
     "data": {
      "text/plain": [
       "<AxesSubplot: title={'center': 'Time of Day Crime Distribution'}, ylabel='time_of_day'>"
      ]
     },
     "execution_count": 52,
     "metadata": {},
     "output_type": "execute_result"
    },
    {
     "data": {
      "image/png": "[encoded data removed]",
      "text/plain": [
       "<Figure size 640x480 with 1 Axes>"
      ]
     },
     "metadata": {},
     "output_type": "display_data"
    }
   ],
   "source": [
    "cuau['time_of_day'].value_counts().plot(kind = \"pie\", title = \"Time of Day Crime Distribution\")"
   ]
  },
  {
   "cell_type": "code",
   "execution_count": 196,
   "id": "b9698954-3fa5-4b47-94cb-7e4ed8d68f05",
   "metadata": {
    "tags": []
   },
   "outputs": [
    {
     "data": {
      "text/html": [
       "<div>\n",
       "<style scoped>\n",
       "    .dataframe tbody tr th:only-of-type {\n",
       "        vertical-align: middle;\n",
       "    }\n",
       "\n",
       "    .dataframe tbody tr th {\n",
       "        vertical-align: top;\n",
       "    }\n",
       "\n",
       "    .dataframe thead th {\n",
       "        text-align: right;\n",
       "    }\n",
       "</style>\n",
       "<table border=\"1\" class=\"dataframe\">\n",
       "  <thead>\n",
       "    <tr style=\"text-align: right;\">\n",
       "      <th></th>\n",
       "      <th>anio_hecho</th>\n",
       "      <th>quarter</th>\n",
       "      <th>count</th>\n",
       "    </tr>\n",
       "  </thead>\n",
       "  <tbody>\n",
       "    <tr>\n",
       "      <th>0</th>\n",
       "      <td>2016</td>\n",
       "      <td>2</td>\n",
       "      <td>3</td>\n",
       "    </tr>\n",
       "    <tr>\n",
       "      <th>1</th>\n",
       "      <td>2017</td>\n",
       "      <td>1</td>\n",
       "      <td>1</td>\n",
       "    </tr>\n",
       "    <tr>\n",
       "      <th>2</th>\n",
       "      <td>2017</td>\n",
       "      <td>4</td>\n",
       "      <td>2</td>\n",
       "    </tr>\n",
       "    <tr>\n",
       "      <th>3</th>\n",
       "      <td>2018</td>\n",
       "      <td>1</td>\n",
       "      <td>19</td>\n",
       "    </tr>\n",
       "    <tr>\n",
       "      <th>4</th>\n",
       "      <td>2018</td>\n",
       "      <td>2</td>\n",
       "      <td>4</td>\n",
       "    </tr>\n",
       "    <tr>\n",
       "      <th>5</th>\n",
       "      <td>2018</td>\n",
       "      <td>3</td>\n",
       "      <td>8</td>\n",
       "    </tr>\n",
       "    <tr>\n",
       "      <th>6</th>\n",
       "      <td>2018</td>\n",
       "      <td>4</td>\n",
       "      <td>61</td>\n",
       "    </tr>\n",
       "    <tr>\n",
       "      <th>7</th>\n",
       "      <td>2019</td>\n",
       "      <td>1</td>\n",
       "      <td>1097</td>\n",
       "    </tr>\n",
       "    <tr>\n",
       "      <th>8</th>\n",
       "      <td>2019</td>\n",
       "      <td>2</td>\n",
       "      <td>865</td>\n",
       "    </tr>\n",
       "    <tr>\n",
       "      <th>9</th>\n",
       "      <td>2019</td>\n",
       "      <td>3</td>\n",
       "      <td>609</td>\n",
       "    </tr>\n",
       "    <tr>\n",
       "      <th>10</th>\n",
       "      <td>2019</td>\n",
       "      <td>4</td>\n",
       "      <td>528</td>\n",
       "    </tr>\n",
       "    <tr>\n",
       "      <th>11</th>\n",
       "      <td>2020</td>\n",
       "      <td>1</td>\n",
       "      <td>511</td>\n",
       "    </tr>\n",
       "    <tr>\n",
       "      <th>12</th>\n",
       "      <td>2020</td>\n",
       "      <td>2</td>\n",
       "      <td>270</td>\n",
       "    </tr>\n",
       "    <tr>\n",
       "      <th>13</th>\n",
       "      <td>2020</td>\n",
       "      <td>3</td>\n",
       "      <td>425</td>\n",
       "    </tr>\n",
       "    <tr>\n",
       "      <th>14</th>\n",
       "      <td>2020</td>\n",
       "      <td>4</td>\n",
       "      <td>431</td>\n",
       "    </tr>\n",
       "    <tr>\n",
       "      <th>15</th>\n",
       "      <td>2021</td>\n",
       "      <td>1</td>\n",
       "      <td>420</td>\n",
       "    </tr>\n",
       "    <tr>\n",
       "      <th>16</th>\n",
       "      <td>2021</td>\n",
       "      <td>2</td>\n",
       "      <td>412</td>\n",
       "    </tr>\n",
       "    <tr>\n",
       "      <th>17</th>\n",
       "      <td>2021</td>\n",
       "      <td>3</td>\n",
       "      <td>431</td>\n",
       "    </tr>\n",
       "    <tr>\n",
       "      <th>18</th>\n",
       "      <td>2021</td>\n",
       "      <td>4</td>\n",
       "      <td>481</td>\n",
       "    </tr>\n",
       "    <tr>\n",
       "      <th>19</th>\n",
       "      <td>2022</td>\n",
       "      <td>1</td>\n",
       "      <td>445</td>\n",
       "    </tr>\n",
       "    <tr>\n",
       "      <th>20</th>\n",
       "      <td>2022</td>\n",
       "      <td>2</td>\n",
       "      <td>472</td>\n",
       "    </tr>\n",
       "    <tr>\n",
       "      <th>21</th>\n",
       "      <td>2022</td>\n",
       "      <td>3</td>\n",
       "      <td>367</td>\n",
       "    </tr>\n",
       "    <tr>\n",
       "      <th>22</th>\n",
       "      <td>2022</td>\n",
       "      <td>4</td>\n",
       "      <td>543</td>\n",
       "    </tr>\n",
       "    <tr>\n",
       "      <th>23</th>\n",
       "      <td>2023</td>\n",
       "      <td>1</td>\n",
       "      <td>397</td>\n",
       "    </tr>\n",
       "  </tbody>\n",
       "</table>\n",
       "</div>"
      ],
      "text/plain": [
       "    anio_hecho  quarter  count\n",
       "0         2016        2      3\n",
       "1         2017        1      1\n",
       "2         2017        4      2\n",
       "3         2018        1     19\n",
       "4         2018        2      4\n",
       "5         2018        3      8\n",
       "6         2018        4     61\n",
       "7         2019        1   1097\n",
       "8         2019        2    865\n",
       "9         2019        3    609\n",
       "10        2019        4    528\n",
       "11        2020        1    511\n",
       "12        2020        2    270\n",
       "13        2020        3    425\n",
       "14        2020        4    431\n",
       "15        2021        1    420\n",
       "16        2021        2    412\n",
       "17        2021        3    431\n",
       "18        2021        4    481\n",
       "19        2022        1    445\n",
       "20        2022        2    472\n",
       "21        2022        3    367\n",
       "22        2022        4    543\n",
       "23        2023        1    397"
      ]
     },
     "execution_count": 196,
     "metadata": {},
     "output_type": "execute_result"
    }
   ],
   "source": [
    "value_counts = cuau[['anio_hecho','quarter']].value_counts().reset_index(name='count')\n",
    "sorted_counts = value_counts.sort_values(by=['anio_hecho', 'quarter'], ascending=[True, True])\n",
    "sorted_counts.reset_index(drop=True)"
   ]
  },
  {
   "cell_type": "code",
   "execution_count": 177,
   "id": "2c9355a3-a8f6-4f53-afe9-f6c7d638e587",
   "metadata": {
    "tags": []
   },
   "outputs": [],
   "source": [
    "counts = cuau.groupby([ 'anio_hecho','quarter']).size().unstack(fill_value=0)\n",
    "#counts = counts.reset_index(range(1,5))\n",
    "#counts['quarter'] = range(1, 5)\n",
    "\n",
    "#counts.index = counts.index + 1\n",
    "\n",
    "#counts.quarter >1\n",
    "#counts.reset_index(inplace = True)\n",
    "#counts"
   ]
  },
  {
   "cell_type": "code",
   "execution_count": 178,
   "id": "9f2659b1-d58c-44e0-b742-865a7f3f3274",
   "metadata": {
    "tags": []
   },
   "outputs": [
    {
     "data": {
      "text/html": [
       "<div>\n",
       "<style scoped>\n",
       "    .dataframe tbody tr th:only-of-type {\n",
       "        vertical-align: middle;\n",
       "    }\n",
       "\n",
       "    .dataframe tbody tr th {\n",
       "        vertical-align: top;\n",
       "    }\n",
       "\n",
       "    .dataframe thead th {\n",
       "        text-align: right;\n",
       "    }\n",
       "</style>\n",
       "<table border=\"1\" class=\"dataframe\">\n",
       "  <thead>\n",
       "    <tr style=\"text-align: right;\">\n",
       "      <th>quarter</th>\n",
       "      <th>1</th>\n",
       "      <th>2</th>\n",
       "      <th>3</th>\n",
       "      <th>4</th>\n",
       "    </tr>\n",
       "    <tr>\n",
       "      <th>anio_hecho</th>\n",
       "      <th></th>\n",
       "      <th></th>\n",
       "      <th></th>\n",
       "      <th></th>\n",
       "    </tr>\n",
       "  </thead>\n",
       "  <tbody>\n",
       "    <tr>\n",
       "      <th>2016</th>\n",
       "      <td>0</td>\n",
       "      <td>3</td>\n",
       "      <td>0</td>\n",
       "      <td>0</td>\n",
       "    </tr>\n",
       "    <tr>\n",
       "      <th>2017</th>\n",
       "      <td>1</td>\n",
       "      <td>0</td>\n",
       "      <td>0</td>\n",
       "      <td>2</td>\n",
       "    </tr>\n",
       "    <tr>\n",
       "      <th>2018</th>\n",
       "      <td>19</td>\n",
       "      <td>4</td>\n",
       "      <td>8</td>\n",
       "      <td>61</td>\n",
       "    </tr>\n",
       "    <tr>\n",
       "      <th>2019</th>\n",
       "      <td>1097</td>\n",
       "      <td>865</td>\n",
       "      <td>609</td>\n",
       "      <td>528</td>\n",
       "    </tr>\n",
       "    <tr>\n",
       "      <th>2020</th>\n",
       "      <td>511</td>\n",
       "      <td>270</td>\n",
       "      <td>425</td>\n",
       "      <td>431</td>\n",
       "    </tr>\n",
       "    <tr>\n",
       "      <th>2021</th>\n",
       "      <td>420</td>\n",
       "      <td>412</td>\n",
       "      <td>431</td>\n",
       "      <td>481</td>\n",
       "    </tr>\n",
       "    <tr>\n",
       "      <th>2022</th>\n",
       "      <td>445</td>\n",
       "      <td>472</td>\n",
       "      <td>367</td>\n",
       "      <td>543</td>\n",
       "    </tr>\n",
       "    <tr>\n",
       "      <th>2023</th>\n",
       "      <td>397</td>\n",
       "      <td>0</td>\n",
       "      <td>0</td>\n",
       "      <td>0</td>\n",
       "    </tr>\n",
       "  </tbody>\n",
       "</table>\n",
       "</div>"
      ],
      "text/plain": [
       "quarter        1    2    3    4\n",
       "anio_hecho                     \n",
       "2016           0    3    0    0\n",
       "2017           1    0    0    2\n",
       "2018          19    4    8   61\n",
       "2019        1097  865  609  528\n",
       "2020         511  270  425  431\n",
       "2021         420  412  431  481\n",
       "2022         445  472  367  543\n",
       "2023         397    0    0    0"
      ]
     },
     "execution_count": 178,
     "metadata": {},
     "output_type": "execute_result"
    }
   ],
   "source": [
    "counts"
   ]
  },
  {
   "cell_type": "code",
   "execution_count": 166,
   "id": "4966edb1-b6c8-4b01-8867-c9b089267953",
   "metadata": {
    "tags": []
   },
   "outputs": [
    {
     "data": {
      "text/plain": [
       "Int64Index([2016, 2017, 2018, 2019, 2020, 2021, 2022, 2023], dtype='int64', name='anio_hecho')"
      ]
     },
     "execution_count": 166,
     "metadata": {},
     "output_type": "execute_result"
    }
   ],
   "source": [
    "counts.index"
   ]
  },
  {
   "cell_type": "code",
   "execution_count": 167,
   "id": "b502e1f5-06ec-4e7a-bc04-ecc2e0e6e063",
   "metadata": {
    "tags": []
   },
   "outputs": [
    {
     "data": {
      "image/png": "[encoded data removed]",
      "text/plain": [
       "<Figure size 640x480 with 1 Axes>"
      ]
     },
     "metadata": {},
     "output_type": "display_data"
    }
   ],
   "source": [
    "\n",
    "# Plot the bar chart\n",
    "counts[counts.index > 2017].plot( kind='bar', stacked=False)\n",
    "\n",
    "# Add labels and title\n",
    "plt.xlabel('Quarter')\n",
    "plt.ylabel('Count')\n",
    "plt.title('Count of Incidents by Quarter and Year')\n",
    "\n",
    "# Show the plot\n",
    "plt.show()"
   ]
  },
  {
   "cell_type": "code",
   "execution_count": 199,
   "id": "2027e710-856a-4e4d-85ed-aea46235e7ae",
   "metadata": {
    "tags": []
   },
   "outputs": [
    {
     "data": {
      "image/png": "[encoded data removed]",
      "text/plain": [
       "<Figure size 640x480 with 1 Axes>"
      ]
     },
     "metadata": {},
     "output_type": "display_data"
    }
   ],
   "source": [
    "plt.bar(sorted_counts['anio_hecho'].astype(str) + '-' + sorted_counts['quarter'].astype(str), sorted_counts['count'])\n",
    "# Add labels and title\n",
    "plt.xlabel('Year-Quarter')\n",
    "plt.ylabel('Count')\n",
    "plt.title('Count of Incidents by Year-Quarter')\n",
    "\n",
    "# Rotate x-axis labels for better visibility (optional)\n",
    "plt.xticks(rotation=45)\n",
    "\n",
    "# Show the plot\n",
    "plt.tight_layout()  # Adjust layout for better appearance\n",
    "plt.show()"
   ]
  },
  {
   "cell_type": "code",
   "execution_count": 200,
   "id": "8c242207-579f-496a-84f9-46bb7c0d30f1",
   "metadata": {
    "tags": []
   },
   "outputs": [
    {
     "name": "stdout",
     "output_type": "stream",
     "text": [
      "Collecting calmap\n",
      "  Downloading calmap-0.0.11-py2.py3-none-any.whl (7.3 kB)\n",
      "Requirement already satisfied: numpy in d:\\programas\\jupyterlab-desktop\\jlab_server\\lib\\site-packages (from calmap) (1.24.2)\n",
      "Requirement already satisfied: matplotlib in d:\\programas\\jupyterlab-desktop\\jlab_server\\lib\\site-packages (from calmap) (3.6.3)\n",
      "Requirement already satisfied: pandas in d:\\programas\\jupyterlab-desktop\\jlab_server\\lib\\site-packages (from calmap) (1.5.3)\n",
      "Requirement already satisfied: python-dateutil>=2.7 in d:\\programas\\jupyterlab-desktop\\jlab_server\\lib\\site-packages (from matplotlib->calmap) (2.8.2)\n",
      "Requirement already satisfied: pyparsing>=2.2.1 in d:\\programas\\jupyterlab-desktop\\jlab_server\\lib\\site-packages (from matplotlib->calmap) (3.0.9)\n",
      "Requirement already satisfied: contourpy>=1.0.1 in d:\\programas\\jupyterlab-desktop\\jlab_server\\lib\\site-packages (from matplotlib->calmap) (1.0.7)\n",
      "Requirement already satisfied: pillow>=6.2.0 in d:\\programas\\jupyterlab-desktop\\jlab_server\\lib\\site-packages (from matplotlib->calmap) (9.4.0)\n",
      "Requirement already satisfied: fonttools>=4.22.0 in d:\\programas\\jupyterlab-desktop\\jlab_server\\lib\\site-packages (from matplotlib->calmap) (4.38.0)\n",
      "Requirement already satisfied: cycler>=0.10 in d:\\programas\\jupyterlab-desktop\\jlab_server\\lib\\site-packages (from matplotlib->calmap) (0.11.0)\n",
      "Requirement already satisfied: packaging>=20.0 in d:\\programas\\jupyterlab-desktop\\jlab_server\\lib\\site-packages (from matplotlib->calmap) (23.0)\n",
      "Requirement already satisfied: kiwisolver>=1.0.1 in d:\\programas\\jupyterlab-desktop\\jlab_server\\lib\\site-packages (from matplotlib->calmap) (1.4.4)\n",
      "Requirement already satisfied: pytz>=2020.1 in d:\\programas\\jupyterlab-desktop\\jlab_server\\lib\\site-packages (from pandas->calmap) (2022.7.1)\n",
      "Requirement already satisfied: six>=1.5 in d:\\programas\\jupyterlab-desktop\\jlab_server\\lib\\site-packages (from python-dateutil>=2.7->matplotlib->calmap) (1.16.0)\n",
      "Installing collected packages: calmap\n",
      "Successfully installed calmap-0.0.11\n"
     ]
    }
   ],
   "source": [
    "!pip install calmap"
   ]
  },
  {
   "cell_type": "code",
   "execution_count": 201,
   "id": "7c49ab58-0a89-4b74-bfbc-06ff015db5a5",
   "metadata": {
    "tags": []
   },
   "outputs": [],
   "source": [
    "import calmap"
   ]
  },
  {
   "cell_type": "code",
   "execution_count": 202,
   "id": "02ab18bc-9bad-4cf6-8fd5-1c2844b6e90e",
   "metadata": {
    "tags": []
   },
   "outputs": [
    {
     "name": "stdout",
     "output_type": "stream",
     "text": [
      "<class 'pandas.core.frame.DataFrame'>\n",
      "RangeIndex: 8802 entries, 0 to 8801\n",
      "Data columns (total 16 columns):\n",
      " #   Column       Non-Null Count  Dtype   \n",
      "---  ------       --------------  -----   \n",
      " 0   id           8802 non-null   int64   \n",
      " 1   idcarpeta    8802 non-null   int64   \n",
      " 2   delito       8802 non-null   category\n",
      " 3   categoria    8802 non-null   category\n",
      " 4   colonia      8802 non-null   category\n",
      " 5   sexo_fem     8802 non-null   int64   \n",
      " 6   edad         8802 non-null   int64   \n",
      " 7   anio_hecho   8802 non-null   int64   \n",
      " 8   mes_hecho    8802 non-null   int64   \n",
      " 9   fecha_hecho  8802 non-null   object  \n",
      " 10  hora_hecho   8802 non-null   object  \n",
      " 11  quarter      8802 non-null   int64   \n",
      " 12  hour_of_day  8802 non-null   int64   \n",
      " 13  time_of_day  8802 non-null   category\n",
      " 14  crimen_lat   8802 non-null   float64 \n",
      " 15  crimen_lon   8802 non-null   float64 \n",
      "dtypes: category(4), float64(2), int64(8), object(2)\n",
      "memory usage: 862.1+ KB\n"
     ]
    }
   ],
   "source": [
    "cuau.info()"
   ]
  },
  {
   "cell_type": "code",
   "execution_count": 216,
   "id": "4c41a1b5-bf56-4abe-bfa5-f8fbb64cfc21",
   "metadata": {
    "tags": []
   },
   "outputs": [],
   "source": [
    "cuau['fecha_hecho'] = pd.to_datetime(cuau['fecha_hecho'])"
   ]
  },
  {
   "cell_type": "code",
   "execution_count": 219,
   "id": "41aaf9ab-2cc9-4869-8da8-b7f917955055",
   "metadata": {
    "tags": []
   },
   "outputs": [
    {
     "data": {
      "text/plain": [
       "id             0\n",
       "idcarpeta      0\n",
       "delito         0\n",
       "categoria      0\n",
       "colonia        0\n",
       "sexo_fem       0\n",
       "edad           0\n",
       "anio_hecho     0\n",
       "mes_hecho      0\n",
       "fecha_hecho    0\n",
       "hora_hecho     0\n",
       "quarter        0\n",
       "hour_of_day    0\n",
       "time_of_day    0\n",
       "crimen_lat     0\n",
       "crimen_lon     0\n",
       "dtype: int64"
      ]
     },
     "execution_count": 219,
     "metadata": {},
     "output_type": "execute_result"
    }
   ],
   "source": [
    "cuau.isnull().sum()"
   ]
  },
  {
   "cell_type": "code",
   "execution_count": 270,
   "id": "88b6dbc4-f3b2-4979-aff8-fe9e5e473ddc",
   "metadata": {
    "tags": []
   },
   "outputs": [],
   "source": [
    "#dates=cuau.groupby('fecha_hecho').size().reset_index(name ='count').sort_values(by=['fecha_hecho'])\n",
    "dates=cuau.groupby('fecha_hecho').size()"
   ]
  },
  {
   "cell_type": "code",
   "execution_count": 271,
   "id": "bd709089-dfb8-497a-acc0-e2a365251e72",
   "metadata": {
    "tags": []
   },
   "outputs": [
    {
     "data": {
      "text/plain": [
       "fecha_hecho\n",
       "2016-05-16    1\n",
       "2016-05-20    1\n",
       "2016-06-19    1\n",
       "2017-01-04    1\n",
       "2017-10-06    1\n",
       "             ..\n",
       "2023-03-25    6\n",
       "2023-03-26    4\n",
       "2023-03-27    6\n",
       "2023-03-28    5\n",
       "2023-03-29    2\n",
       "Length: 1561, dtype: int64"
      ]
     },
     "execution_count": 271,
     "metadata": {},
     "output_type": "execute_result"
    }
   ],
   "source": [
    "dates"
   ]
  },
  {
   "cell_type": "code",
   "execution_count": 252,
   "id": "8992a28c-a2b5-4077-ba12-abe90c13a70c",
   "metadata": {
    "tags": []
   },
   "outputs": [],
   "source": [
    "all_days = pd.date_range(\"2018-01-01\", periods=1950, freq = \"D\")\n",
    "days=np.random.choice(all_days,500)"
   ]
  },
  {
   "cell_type": "code",
   "execution_count": 253,
   "id": "f62a4e90-1b42-4b7f-9a1f-849af33d0a99",
   "metadata": {
    "tags": []
   },
   "outputs": [
    {
     "data": {
      "text/plain": [
       "DatetimeIndex(['2018-01-01', '2018-01-02', '2018-01-03', '2018-01-04',\n",
       "               '2018-01-05', '2018-01-06', '2018-01-07', '2018-01-08',\n",
       "               '2018-01-09', '2018-01-10',\n",
       "               ...\n",
       "               '2023-04-25', '2023-04-26', '2023-04-27', '2023-04-28',\n",
       "               '2023-04-29', '2023-04-30', '2023-05-01', '2023-05-02',\n",
       "               '2023-05-03', '2023-05-04'],\n",
       "              dtype='datetime64[ns]', length=1950, freq='D')"
      ]
     },
     "execution_count": 253,
     "metadata": {},
     "output_type": "execute_result"
    }
   ],
   "source": [
    "all_days"
   ]
  },
  {
   "cell_type": "code",
   "execution_count": 264,
   "id": "07ef08b3-29bf-443d-82e4-5998ed0f8656",
   "metadata": {
    "tags": []
   },
   "outputs": [
    {
     "data": {
      "text/html": [
       "<div>\n",
       "<style scoped>\n",
       "    .dataframe tbody tr th:only-of-type {\n",
       "        vertical-align: middle;\n",
       "    }\n",
       "\n",
       "    .dataframe tbody tr th {\n",
       "        vertical-align: top;\n",
       "    }\n",
       "\n",
       "    .dataframe thead th {\n",
       "        text-align: right;\n",
       "    }\n",
       "</style>\n",
       "<table border=\"1\" class=\"dataframe\">\n",
       "  <thead>\n",
       "    <tr style=\"text-align: right;\">\n",
       "      <th></th>\n",
       "      <th>fecha_hecho</th>\n",
       "      <th>count</th>\n",
       "    </tr>\n",
       "  </thead>\n",
       "  <tbody>\n",
       "    <tr>\n",
       "      <th>0</th>\n",
       "      <td>2016-05-16</td>\n",
       "      <td>1</td>\n",
       "    </tr>\n",
       "    <tr>\n",
       "      <th>1</th>\n",
       "      <td>2016-05-20</td>\n",
       "      <td>1</td>\n",
       "    </tr>\n",
       "    <tr>\n",
       "      <th>2</th>\n",
       "      <td>2016-06-19</td>\n",
       "      <td>1</td>\n",
       "    </tr>\n",
       "    <tr>\n",
       "      <th>3</th>\n",
       "      <td>2017-01-04</td>\n",
       "      <td>1</td>\n",
       "    </tr>\n",
       "    <tr>\n",
       "      <th>4</th>\n",
       "      <td>2017-10-06</td>\n",
       "      <td>1</td>\n",
       "    </tr>\n",
       "    <tr>\n",
       "      <th>...</th>\n",
       "      <td>...</td>\n",
       "      <td>...</td>\n",
       "    </tr>\n",
       "    <tr>\n",
       "      <th>1556</th>\n",
       "      <td>2023-03-25</td>\n",
       "      <td>6</td>\n",
       "    </tr>\n",
       "    <tr>\n",
       "      <th>1557</th>\n",
       "      <td>2023-03-26</td>\n",
       "      <td>4</td>\n",
       "    </tr>\n",
       "    <tr>\n",
       "      <th>1558</th>\n",
       "      <td>2023-03-27</td>\n",
       "      <td>6</td>\n",
       "    </tr>\n",
       "    <tr>\n",
       "      <th>1559</th>\n",
       "      <td>2023-03-28</td>\n",
       "      <td>5</td>\n",
       "    </tr>\n",
       "    <tr>\n",
       "      <th>1560</th>\n",
       "      <td>2023-03-29</td>\n",
       "      <td>2</td>\n",
       "    </tr>\n",
       "  </tbody>\n",
       "</table>\n",
       "<p>1561 rows × 2 columns</p>\n",
       "</div>"
      ],
      "text/plain": [
       "     fecha_hecho  count\n",
       "0     2016-05-16      1\n",
       "1     2016-05-20      1\n",
       "2     2016-06-19      1\n",
       "3     2017-01-04      1\n",
       "4     2017-10-06      1\n",
       "...          ...    ...\n",
       "1556  2023-03-25      6\n",
       "1557  2023-03-26      4\n",
       "1558  2023-03-27      6\n",
       "1559  2023-03-28      5\n",
       "1560  2023-03-29      2\n",
       "\n",
       "[1561 rows x 2 columns]"
      ]
     },
     "execution_count": 264,
     "metadata": {},
     "output_type": "execute_result"
    }
   ],
   "source": [
    "dates"
   ]
  },
  {
   "cell_type": "code",
   "execution_count": 302,
   "id": "9ab7eb6d-35ab-4a73-9886-c9099e4c11d8",
   "metadata": {
    "tags": []
   },
   "outputs": [
    {
     "data": {
      "text/plain": [
       "Text(0.5, 0.92, 'Robos A Transeúntes Periodo 2018-2023')"
      ]
     },
     "execution_count": 302,
     "metadata": {},
     "output_type": "execute_result"
    },
    {
     "data": {
      "image/png": "[encoded data removed]",
      "text/plain": [
       "<Figure size 1000x1200 with 6 Axes>"
      ]
     },
     "metadata": {},
     "output_type": "display_data"
    }
   ],
   "source": [
    "fig,axs=plt.subplots(6,1,figsize = (10,12))\n",
    "for i, year in enumerate([2018,2019,2020,2021,2022,2023]):\n",
    "    calmap.yearplot(dates, \n",
    "                    year=year, \n",
    "                    cmap = 'YlOrRd',\n",
    "                    monthly_border = True,\n",
    "                    ax = axs[i]\n",
    "                   )\n",
    "    axs[i].set_title(year)\n",
    "fig.suptitle(\"Robos A Transeúntes Periodo 2018-2023\", \n",
    "             y = 0.92, \n",
    "             fontsize = 20)"
   ]
  },
  {
   "cell_type": "code",
   "execution_count": 321,
   "id": "48e88a18-069b-421e-91d1-f8f7d3797e29",
   "metadata": {
    "tags": []
   },
   "outputs": [
    {
     "data": {
      "application/vnd.plotly.v1+json": {
       "config": {
        "plotlyServerURL": "https://plot.ly"
       },
       "data": [
        {
         "colorscale": [
          [
           0,
           "rgb(247,252,245)"
          ],
          [
           0.125,
           "rgb(229,245,224)"
          ],
          [
           0.25,
           "rgb(199,233,192)"
          ],
          [
           0.375,
           "rgb(161,217,155)"
          ],
          [
           0.5,
           "rgb(116,196,118)"
          ],
          [
           0.625,
           "rgb(65,171,93)"
          ],
          [
           0.75,
           "rgb(35,139,69)"
          ],
          [
           0.875,
           "rgb(0,109,44)"
          ],
          [
           1,
           "rgb(0,68,27)"
          ]
         ],
         "customdata": [
          [
           "2018-01-01",
           "y"
          ],
          [
           "2018-01-02",
           "y"
          ],
          [
           "2018-01-03",
           "y"
          ],
          [
           "2018-01-04",
           "y"
          ],
          [
           "2018-01-05",
           "y"
          ],
          [
           "2018-01-06",
           "y"
          ],
          [
           "2018-01-07",
           "y"
          ],
          [
           "2018-01-08",
           "y"
          ],
          [
           "2018-01-09",
           "y"
          ],
          [
           "2018-01-10",
           "y"
          ],
          [
           "2018-01-11",
           "y"
          ],
          [
           "2018-01-12",
           "y"
          ],
          [
           "2018-01-13",
           "y"
          ],
          [
           "2018-01-14",
           "y"
          ],
          [
           "2018-01-15",
           "y"
          ],
          [
           "2018-01-16",
           "y"
          ],
          [
           "2018-01-17",
           "y"
          ],
          [
           "2018-01-18",
           "y"
          ],
          [
           "2018-01-19",
           "y"
          ],
          [
           "2018-01-20",
           "y"
          ],
          [
           "2018-01-21",
           "y"
          ],
          [
           "2018-01-22",
           "y"
          ],
          [
           "2018-01-23",
           "y"
          ],
          [
           "2018-01-24",
           "y"
          ],
          [
           "2018-01-25",
           "y"
          ],
          [
           "2018-01-26",
           "y"
          ],
          [
           "2018-01-27",
           "y"
          ],
          [
           "2018-01-28",
           "y"
          ],
          [
           "2018-01-29",
           "y"
          ],
          [
           "2018-01-30",
           "y"
          ],
          [
           "2018-01-31",
           "y"
          ],
          [
           "2018-02-01",
           "y"
          ],
          [
           "2018-02-02",
           "y"
          ],
          [
           "2018-02-03",
           "y"
          ],
          [
           "2018-02-04",
           "y"
          ],
          [
           "2018-02-05",
           "y"
          ],
          [
           "2018-02-06",
           "y"
          ],
          [
           "2018-02-07",
           "y"
          ],
          [
           "2018-02-08",
           "y"
          ],
          [
           "2018-02-09",
           "y"
          ],
          [
           "2018-02-10",
           "y"
          ],
          [
           "2018-02-11",
           "y"
          ],
          [
           "2018-02-12",
           "y"
          ],
          [
           "2018-02-13",
           "y"
          ],
          [
           "2018-02-14",
           "y"
          ],
          [
           "2018-02-15",
           "y"
          ],
          [
           "2018-02-16",
           "y"
          ],
          [
           "2018-02-17",
           "y"
          ],
          [
           "2018-02-18",
           "y"
          ],
          [
           "2018-02-19",
           "y"
          ],
          [
           "2018-02-20",
           "y"
          ],
          [
           "2018-02-21",
           "y"
          ],
          [
           "2018-02-22",
           "y"
          ],
          [
           "2018-02-23",
           "y"
          ],
          [
           "2018-02-24",
           "y"
          ],
          [
           "2018-02-25",
           "y"
          ],
          [
           "2018-02-26",
           "y"
          ],
          [
           "2018-02-27",
           "y"
          ],
          [
           "2018-02-28",
           "y"
          ],
          [
           "2018-03-01",
           "y"
          ],
          [
           "2018-03-02",
           "y"
          ],
          [
           "2018-03-03",
           "y"
          ],
          [
           "2018-03-04",
           "y"
          ],
          [
           "2018-03-05",
           "y"
          ],
          [
           "2018-03-06",
           "y"
          ],
          [
           "2018-03-07",
           "y"
          ],
          [
           "2018-03-08",
           "y"
          ],
          [
           "2018-03-09",
           "y"
          ],
          [
           "2018-03-10",
           "y"
          ],
          [
           "2018-03-11",
           "y"
          ],
          [
           "2018-03-12",
           "y"
          ],
          [
           "2018-03-13",
           "y"
          ],
          [
           "2018-03-14",
           "y"
          ],
          [
           "2018-03-15",
           "y"
          ],
          [
           "2018-03-16",
           "y"
          ],
          [
           "2018-03-17",
           "y"
          ],
          [
           "2018-03-18",
           "y"
          ],
          [
           "2018-03-19",
           "y"
          ],
          [
           "2018-03-20",
           "y"
          ],
          [
           "2018-03-21",
           "y"
          ],
          [
           "2018-03-22",
           "y"
          ],
          [
           "2018-03-23",
           "y"
          ],
          [
           "2018-03-24",
           "y"
          ],
          [
           "2018-03-25",
           "y"
          ],
          [
           "2018-03-26",
           "y"
          ],
          [
           "2018-03-27",
           "y"
          ],
          [
           "2018-03-28",
           "y"
          ],
          [
           "2018-03-29",
           "y"
          ],
          [
           "2018-03-30",
           "y"
          ],
          [
           "2018-03-31",
           "y"
          ],
          [
           "2018-04-01",
           "y"
          ],
          [
           "2018-04-02",
           "y"
          ],
          [
           "2018-04-03",
           "y"
          ],
          [
           "2018-04-04",
           "y"
          ],
          [
           "2018-04-05",
           "y"
          ],
          [
           "2018-04-06",
           "y"
          ],
          [
           "2018-04-07",
           "y"
          ],
          [
           "2018-04-08",
           "y"
          ],
          [
           "2018-04-09",
           "y"
          ],
          [
           "2018-04-10",
           "y"
          ],
          [
           "2018-04-11",
           "y"
          ],
          [
           "2018-04-12",
           "y"
          ],
          [
           "2018-04-13",
           "y"
          ],
          [
           "2018-04-14",
           "y"
          ],
          [
           "2018-04-15",
           "y"
          ],
          [
           "2018-04-16",
           "y"
          ],
          [
           "2018-04-17",
           "y"
          ],
          [
           "2018-04-18",
           "y"
          ],
          [
           "2018-04-19",
           "y"
          ],
          [
           "2018-04-20",
           "y"
          ],
          [
           "2018-04-21",
           "y"
          ],
          [
           "2018-04-22",
           "y"
          ],
          [
           "2018-04-23",
           "y"
          ],
          [
           "2018-04-24",
           "y"
          ],
          [
           "2018-04-25",
           "y"
          ],
          [
           "2018-04-26",
           "y"
          ],
          [
           "2018-04-27",
           "y"
          ],
          [
           "2018-04-28",
           "y"
          ],
          [
           "2018-04-29",
           "y"
          ],
          [
           "2018-04-30",
           "y"
          ],
          [
           "2018-05-01",
           "y"
          ],
          [
           "2018-05-02",
           "y"
          ],
          [
           "2018-05-03",
           "y"
          ],
          [
           "2018-05-04",
           "y"
          ],
          [
           "2018-05-05",
           "y"
          ],
          [
           "2018-05-06",
           "y"
          ],
          [
           "2018-05-07",
           "y"
          ],
          [
           "2018-05-08",
           "y"
          ],
          [
           "2018-05-09",
           "y"
          ],
          [
           "2018-05-10",
           "y"
          ],
          [
           "2018-05-11",
           "y"
          ],
          [
           "2018-05-12",
           "y"
          ],
          [
           "2018-05-13",
           "y"
          ],
          [
           "2018-05-14",
           "y"
          ],
          [
           "2018-05-15",
           "y"
          ],
          [
           "2018-05-16",
           "y"
          ],
          [
           "2018-05-17",
           "y"
          ],
          [
           "2018-05-18",
           "y"
          ],
          [
           "2018-05-19",
           "y"
          ],
          [
           "2018-05-20",
           "y"
          ],
          [
           "2018-05-21",
           "y"
          ],
          [
           "2018-05-22",
           "y"
          ],
          [
           "2018-05-23",
           "y"
          ],
          [
           "2018-05-24",
           "y"
          ],
          [
           "2018-05-25",
           "y"
          ],
          [
           "2018-05-26",
           "y"
          ],
          [
           "2018-05-27",
           "y"
          ],
          [
           "2018-05-28",
           "y"
          ],
          [
           "2018-05-29",
           "y"
          ],
          [
           "2018-05-30",
           "y"
          ],
          [
           "2018-05-31",
           "y"
          ],
          [
           "2018-06-01",
           "y"
          ],
          [
           "2018-06-02",
           "y"
          ],
          [
           "2018-06-03",
           "y"
          ],
          [
           "2018-06-04",
           "y"
          ],
          [
           "2018-06-05",
           "y"
          ],
          [
           "2018-06-06",
           "y"
          ],
          [
           "2018-06-07",
           "y"
          ],
          [
           "2018-06-08",
           "y"
          ],
          [
           "2018-06-09",
           "y"
          ],
          [
           "2018-06-10",
           "y"
          ],
          [
           "2018-06-11",
           "y"
          ],
          [
           "2018-06-12",
           "y"
          ],
          [
           "2018-06-13",
           "y"
          ],
          [
           "2018-06-14",
           "y"
          ],
          [
           "2018-06-15",
           "y"
          ],
          [
           "2018-06-16",
           "y"
          ],
          [
           "2018-06-17",
           "y"
          ],
          [
           "2018-06-18",
           "y"
          ],
          [
           "2018-06-19",
           "y"
          ],
          [
           "2018-06-20",
           "y"
          ],
          [
           "2018-06-21",
           "y"
          ],
          [
           "2018-06-22",
           "y"
          ],
          [
           "2018-06-23",
           "y"
          ],
          [
           "2018-06-24",
           "y"
          ],
          [
           "2018-06-25",
           "y"
          ],
          [
           "2018-06-26",
           "y"
          ],
          [
           "2018-06-27",
           "y"
          ],
          [
           "2018-06-28",
           "y"
          ],
          [
           "2018-06-29",
           "y"
          ],
          [
           "2018-06-30",
           "y"
          ],
          [
           "2018-07-01",
           "y"
          ],
          [
           "2018-07-02",
           "y"
          ],
          [
           "2018-07-03",
           "y"
          ],
          [
           "2018-07-04",
           "y"
          ],
          [
           "2018-07-05",
           "y"
          ],
          [
           "2018-07-06",
           "y"
          ],
          [
           "2018-07-07",
           "y"
          ],
          [
           "2018-07-08",
           "y"
          ],
          [
           "2018-07-09",
           "y"
          ],
          [
           "2018-07-10",
           "y"
          ],
          [
           "2018-07-11",
           "y"
          ],
          [
           "2018-07-12",
           "y"
          ],
          [
           "2018-07-13",
           "y"
          ],
          [
           "2018-07-14",
           "y"
          ],
          [
           "2018-07-15",
           "y"
          ],
          [
           "2018-07-16",
           "y"
          ],
          [
           "2018-07-17",
           "y"
          ],
          [
           "2018-07-18",
           "y"
          ],
          [
           "2018-07-19",
           "y"
          ],
          [
           "2018-07-20",
           "y"
          ],
          [
           "2018-07-21",
           "y"
          ],
          [
           "2018-07-22",
           "y"
          ],
          [
           "2018-07-23",
           "y"
          ],
          [
           "2018-07-24",
           "y"
          ],
          [
           "2018-07-25",
           "y"
          ],
          [
           "2018-07-26",
           "y"
          ],
          [
           "2018-07-27",
           "y"
          ],
          [
           "2018-07-28",
           "y"
          ],
          [
           "2018-07-29",
           "y"
          ],
          [
           "2018-07-30",
           "y"
          ],
          [
           "2018-07-31",
           "y"
          ],
          [
           "2018-08-01",
           "y"
          ],
          [
           "2018-08-02",
           "y"
          ],
          [
           "2018-08-03",
           "y"
          ],
          [
           "2018-08-04",
           "y"
          ],
          [
           "2018-08-05",
           "y"
          ],
          [
           "2018-08-06",
           "y"
          ],
          [
           "2018-08-07",
           "y"
          ],
          [
           "2018-08-08",
           "y"
          ],
          [
           "2018-08-09",
           "y"
          ],
          [
           "2018-08-10",
           "y"
          ],
          [
           "2018-08-11",
           "y"
          ],
          [
           "2018-08-12",
           "y"
          ],
          [
           "2018-08-13",
           "y"
          ],
          [
           "2018-08-14",
           "y"
          ],
          [
           "2018-08-15",
           "y"
          ],
          [
           "2018-08-16",
           "y"
          ],
          [
           "2018-08-17",
           "y"
          ],
          [
           "2018-08-18",
           "y"
          ],
          [
           "2018-08-19",
           "y"
          ],
          [
           "2018-08-20",
           "y"
          ],
          [
           "2018-08-21",
           "y"
          ],
          [
           "2018-08-22",
           "y"
          ],
          [
           "2018-08-23",
           "y"
          ],
          [
           "2018-08-24",
           "y"
          ],
          [
           "2018-08-25",
           "y"
          ],
          [
           "2018-08-26",
           "y"
          ],
          [
           "2018-08-27",
           "y"
          ],
          [
           "2018-08-28",
           "y"
          ],
          [
           "2018-08-29",
           "y"
          ],
          [
           "2018-08-30",
           "y"
          ],
          [
           "2018-08-31",
           "y"
          ],
          [
           "2018-09-01",
           "y"
          ],
          [
           "2018-09-02",
           "y"
          ],
          [
           "2018-09-03",
           "y"
          ],
          [
           "2018-09-04",
           "y"
          ],
          [
           "2018-09-05",
           "y"
          ],
          [
           "2018-09-06",
           "y"
          ],
          [
           "2018-09-07",
           "y"
          ],
          [
           "2018-09-08",
           "y"
          ],
          [
           "2018-09-09",
           "y"
          ],
          [
           "2018-09-10",
           "y"
          ],
          [
           "2018-09-11",
           "y"
          ],
          [
           "2018-09-12",
           "y"
          ],
          [
           "2018-09-13",
           "y"
          ],
          [
           "2018-09-14",
           "y"
          ],
          [
           "2018-09-15",
           "y"
          ],
          [
           "2018-09-16",
           "y"
          ],
          [
           "2018-09-17",
           "y"
          ],
          [
           "2018-09-18",
           "y"
          ],
          [
           "2018-09-19",
           "y"
          ],
          [
           "2018-09-20",
           "y"
          ],
          [
           "2018-09-21",
           "y"
          ],
          [
           "2018-09-22",
           "y"
          ],
          [
           "2018-09-23",
           "y"
          ],
          [
           "2018-09-24",
           "y"
          ],
          [
           "2018-09-25",
           "y"
          ],
          [
           "2018-09-26",
           "y"
          ],
          [
           "2018-09-27",
           "y"
          ],
          [
           "2018-09-28",
           "y"
          ],
          [
           "2018-09-29",
           "y"
          ],
          [
           "2018-09-30",
           "y"
          ],
          [
           "2018-10-01",
           "y"
          ],
          [
           "2018-10-02",
           "y"
          ],
          [
           "2018-10-03",
           "y"
          ],
          [
           "2018-10-04",
           "y"
          ],
          [
           "2018-10-05",
           "y"
          ],
          [
           "2018-10-06",
           "y"
          ],
          [
           "2018-10-07",
           "y"
          ],
          [
           "2018-10-08",
           "y"
          ],
          [
           "2018-10-09",
           "y"
          ],
          [
           "2018-10-10",
           "y"
          ],
          [
           "2018-10-11",
           "y"
          ],
          [
           "2018-10-12",
           "y"
          ],
          [
           "2018-10-13",
           "y"
          ],
          [
           "2018-10-14",
           "y"
          ],
          [
           "2018-10-15",
           "y"
          ],
          [
           "2018-10-16",
           "y"
          ],
          [
           "2018-10-17",
           "y"
          ],
          [
           "2018-10-18",
           "y"
          ],
          [
           "2018-10-19",
           "y"
          ],
          [
           "2018-10-20",
           "y"
          ],
          [
           "2018-10-21",
           "y"
          ],
          [
           "2018-10-22",
           "y"
          ],
          [
           "2018-10-23",
           "y"
          ],
          [
           "2018-10-24",
           "y"
          ],
          [
           "2018-10-25",
           "y"
          ],
          [
           "2018-10-26",
           "y"
          ],
          [
           "2018-10-27",
           "y"
          ],
          [
           "2018-10-28",
           "y"
          ],
          [
           "2018-10-29",
           "y"
          ],
          [
           "2018-10-30",
           "y"
          ],
          [
           "2018-10-31",
           "y"
          ],
          [
           "2018-11-01",
           "y"
          ],
          [
           "2018-11-02",
           "y"
          ],
          [
           "2018-11-03",
           "y"
          ],
          [
           "2018-11-04",
           "y"
          ],
          [
           "2018-11-05",
           "y"
          ],
          [
           "2018-11-06",
           "y"
          ],
          [
           "2018-11-07",
           "y"
          ],
          [
           "2018-11-08",
           "y"
          ],
          [
           "2018-11-09",
           "y"
          ],
          [
           "2018-11-10",
           "y"
          ],
          [
           "2018-11-11",
           "y"
          ],
          [
           "2018-11-12",
           "y"
          ],
          [
           "2018-11-13",
           "y"
          ],
          [
           "2018-11-14",
           "y"
          ],
          [
           "2018-11-15",
           "y"
          ],
          [
           "2018-11-16",
           "y"
          ],
          [
           "2018-11-17",
           "y"
          ],
          [
           "2018-11-18",
           "y"
          ],
          [
           "2018-11-19",
           "y"
          ],
          [
           "2018-11-20",
           "y"
          ],
          [
           "2018-11-21",
           "y"
          ],
          [
           "2018-11-22",
           "y"
          ],
          [
           "2018-11-23",
           "y"
          ],
          [
           "2018-11-24",
           "y"
          ],
          [
           "2018-11-25",
           "y"
          ],
          [
           "2018-11-26",
           "y"
          ],
          [
           "2018-11-27",
           "y"
          ],
          [
           "2018-11-28",
           "y"
          ],
          [
           "2018-11-29",
           "y"
          ],
          [
           "2018-11-30",
           "y"
          ],
          [
           "2018-12-01",
           "y"
          ],
          [
           "2018-12-02",
           "y"
          ],
          [
           "2018-12-03",
           "y"
          ],
          [
           "2018-12-04",
           "y"
          ],
          [
           "2018-12-05",
           "y"
          ],
          [
           "2018-12-06",
           "y"
          ],
          [
           "2018-12-07",
           "y"
          ],
          [
           "2018-12-08",
           "y"
          ],
          [
           "2018-12-09",
           "y"
          ],
          [
           "2018-12-10",
           "y"
          ],
          [
           "2018-12-11",
           "y"
          ],
          [
           "2018-12-12",
           "y"
          ],
          [
           "2018-12-13",
           "y"
          ],
          [
           "2018-12-14",
           "y"
          ],
          [
           "2018-12-15",
           "y"
          ],
          [
           "2018-12-16",
           "y"
          ],
          [
           "2018-12-17",
           "y"
          ],
          [
           "2018-12-18",
           "y"
          ],
          [
           "2018-12-19",
           "y"
          ],
          [
           "2018-12-20",
           "y"
          ],
          [
           "2018-12-21",
           "y"
          ],
          [
           "2018-12-22",
           "y"
          ],
          [
           "2018-12-23",
           "y"
          ],
          [
           "2018-12-24",
           "y"
          ],
          [
           "2018-12-25",
           "y"
          ],
          [
           "2018-12-26",
           "y"
          ],
          [
           "2018-12-27",
           "y"
          ],
          [
           "2018-12-28",
           "y"
          ],
          [
           "2018-12-29",
           "y"
          ],
          [
           "2018-12-30",
           "y"
          ],
          [
           "2018-12-31",
           "y"
          ]
         ],
         "hovertemplate": "%{customdata[0]} <br>Week=%{x} <br>%{customdata[1]}=%{z}",
         "name": "2018",
         "showscale": false,
         "type": "heatmap",
         "x": [
          1,
          1,
          1,
          1,
          1,
          1,
          1,
          2,
          2,
          2,
          2,
          2,
          2,
          2,
          3,
          3,
          3,
          3,
          3,
          3,
          3,
          4,
          4,
          4,
          4,
          4,
          4,
          4,
          5,
          5,
          5,
          5,
          5,
          5,
          5,
          6,
          6,
          6,
          6,
          6,
          6,
          6,
          7,
          7,
          7,
          7,
          7,
          7,
          7,
          8,
          8,
          8,
          8,
          8,
          8,
          8,
          9,
          9,
          9,
          9,
          9,
          9,
          9,
          10,
          10,
          10,
          10,
          10,
          10,
          10,
          11,
          11,
          11,
          11,
          11,
          11,
          11,
          12,
          12,
          12,
          12,
          12,
          12,
          12,
          13,
          13,
          13,
          13,
          13,
          13,
          13,
          14,
          14,
          14,
          14,
          14,
          14,
          14,
          15,
          15,
          15,
          15,
          15,
          15,
          15,
          16,
          16,
          16,
          16,
          16,
          16,
          16,
          17,
          17,
          17,
          17,
          17,
          17,
          17,
          18,
          18,
          18,
          18,
          18,
          18,
          18,
          19,
          19,
          19,
          19,
          19,
          19,
          19,
          20,
          20,
          20,
          20,
          20,
          20,
          20,
          21,
          21,
          21,
          21,
          21,
          21,
          21,
          22,
          22,
          22,
          22,
          22,
          22,
          22,
          23,
          23,
          23,
          23,
          23,
          23,
          23,
          24,
          24,
          24,
          24,
          24,
          24,
          24,
          25,
          25,
          25,
          25,
          25,
          25,
          25,
          26,
          26,
          26,
          26,
          26,
          26,
          26,
          27,
          27,
          27,
          27,
          27,
          27,
          27,
          28,
          28,
          28,
          28,
          28,
          28,
          28,
          29,
          29,
          29,
          29,
          29,
          29,
          29,
          30,
          30,
          30,
          30,
          30,
          30,
          30,
          31,
          31,
          31,
          31,
          31,
          31,
          31,
          32,
          32,
          32,
          32,
          32,
          32,
          32,
          33,
          33,
          33,
          33,
          33,
          33,
          33,
          34,
          34,
          34,
          34,
          34,
          34,
          34,
          35,
          35,
          35,
          35,
          35,
          35,
          35,
          36,
          36,
          36,
          36,
          36,
          36,
          36,
          37,
          37,
          37,
          37,
          37,
          37,
          37,
          38,
          38,
          38,
          38,
          38,
          38,
          38,
          39,
          39,
          39,
          39,
          39,
          39,
          39,
          40,
          40,
          40,
          40,
          40,
          40,
          40,
          41,
          41,
          41,
          41,
          41,
          41,
          41,
          42,
          42,
          42,
          42,
          42,
          42,
          42,
          43,
          43,
          43,
          43,
          43,
          43,
          43,
          44,
          44,
          44,
          44,
          44,
          44,
          44,
          45,
          45,
          45,
          45,
          45,
          45,
          45,
          46,
          46,
          46,
          46,
          46,
          46,
          46,
          47,
          47,
          47,
          47,
          47,
          47,
          47,
          48,
          48,
          48,
          48,
          48,
          48,
          48,
          49,
          49,
          49,
          49,
          49,
          49,
          49,
          50,
          50,
          50,
          50,
          50,
          50,
          50,
          51,
          51,
          51,
          51,
          51,
          51,
          51,
          52,
          52,
          52,
          52,
          52,
          52,
          52,
          53
         ],
         "xaxis": "x",
         "xgap": 1,
         "y": [
          0,
          1,
          2,
          3,
          4,
          5,
          6,
          0,
          1,
          2,
          3,
          4,
          5,
          6,
          0,
          1,
          2,
          3,
          4,
          5,
          6,
          0,
          1,
          2,
          3,
          4,
          5,
          6,
          0,
          1,
          2,
          3,
          4,
          5,
          6,
          0,
          1,
          2,
          3,
          4,
          5,
          6,
          0,
          1,
          2,
          3,
          4,
          5,
          6,
          0,
          1,
          2,
          3,
          4,
          5,
          6,
          0,
          1,
          2,
          3,
          4,
          5,
          6,
          0,
          1,
          2,
          3,
          4,
          5,
          6,
          0,
          1,
          2,
          3,
          4,
          5,
          6,
          0,
          1,
          2,
          3,
          4,
          5,
          6,
          0,
          1,
          2,
          3,
          4,
          5,
          6,
          0,
          1,
          2,
          3,
          4,
          5,
          6,
          0,
          1,
          2,
          3,
          4,
          5,
          6,
          0,
          1,
          2,
          3,
          4,
          5,
          6,
          0,
          1,
          2,
          3,
          4,
          5,
          6,
          0,
          1,
          2,
          3,
          4,
          5,
          6,
          0,
          1,
          2,
          3,
          4,
          5,
          6,
          0,
          1,
          2,
          3,
          4,
          5,
          6,
          0,
          1,
          2,
          3,
          4,
          5,
          6,
          0,
          1,
          2,
          3,
          4,
          5,
          6,
          0,
          1,
          2,
          3,
          4,
          5,
          6,
          0,
          1,
          2,
          3,
          4,
          5,
          6,
          0,
          1,
          2,
          3,
          4,
          5,
          6,
          0,
          1,
          2,
          3,
          4,
          5,
          6,
          0,
          1,
          2,
          3,
          4,
          5,
          6,
          0,
          1,
          2,
          3,
          4,
          5,
          6,
          0,
          1,
          2,
          3,
          4,
          5,
          6,
          0,
          1,
          2,
          3,
          4,
          5,
          6,
          0,
          1,
          2,
          3,
          4,
          5,
          6,
          0,
          1,
          2,
          3,
          4,
          5,
          6,
          0,
          1,
          2,
          3,
          4,
          5,
          6,
          0,
          1,
          2,
          3,
          4,
          5,
          6,
          0,
          1,
          2,
          3,
          4,
          5,
          6,
          0,
          1,
          2,
          3,
          4,
          5,
          6,
          0,
          1,
          2,
          3,
          4,
          5,
          6,
          0,
          1,
          2,
          3,
          4,
          5,
          6,
          0,
          1,
          2,
          3,
          4,
          5,
          6,
          0,
          1,
          2,
          3,
          4,
          5,
          6,
          0,
          1,
          2,
          3,
          4,
          5,
          6,
          0,
          1,
          2,
          3,
          4,
          5,
          6,
          0,
          1,
          2,
          3,
          4,
          5,
          6,
          0,
          1,
          2,
          3,
          4,
          5,
          6,
          0,
          1,
          2,
          3,
          4,
          5,
          6,
          0,
          1,
          2,
          3,
          4,
          5,
          6,
          0,
          1,
          2,
          3,
          4,
          5,
          6,
          0,
          1,
          2,
          3,
          4,
          5,
          6,
          0,
          1,
          2,
          3,
          4,
          5,
          6,
          0,
          1,
          2,
          3,
          4,
          5,
          6,
          0,
          1,
          2,
          3,
          4,
          5,
          6,
          0,
          1,
          2,
          3,
          4,
          5,
          6,
          0
         ],
         "yaxis": "y",
         "ygap": 1,
         "z": [
          2,
          null,
          null,
          null,
          null,
          1,
          1,
          1,
          1,
          null,
          2,
          null,
          1,
          null,
          null,
          1,
          3,
          null,
          null,
          null,
          null,
          null,
          null,
          null,
          null,
          null,
          1,
          null,
          null,
          null,
          null,
          null,
          null,
          null,
          null,
          null,
          null,
          null,
          null,
          1,
          null,
          null,
          null,
          1,
          null,
          null,
          null,
          null,
          null,
          null,
          null,
          null,
          null,
          null,
          1,
          null,
          null,
          null,
          null,
          null,
          null,
          null,
          null,
          null,
          null,
          null,
          null,
          null,
          null,
          1,
          null,
          null,
          null,
          null,
          null,
          null,
          null,
          null,
          null,
          null,
          null,
          null,
          null,
          1,
          null,
          null,
          null,
          null,
          null,
          null,
          1,
          null,
          null,
          null,
          null,
          null,
          null,
          null,
          null,
          null,
          null,
          null,
          null,
          null,
          null,
          null,
          null,
          null,
          null,
          null,
          null,
          null,
          null,
          null,
          null,
          null,
          null,
          1,
          null,
          null,
          null,
          null,
          null,
          null,
          null,
          null,
          null,
          null,
          null,
          null,
          null,
          null,
          null,
          null,
          1,
          null,
          null,
          null,
          null,
          null,
          null,
          null,
          null,
          null,
          null,
          null,
          null,
          null,
          null,
          null,
          null,
          null,
          1,
          null,
          null,
          null,
          null,
          null,
          null,
          null,
          null,
          null,
          null,
          null,
          null,
          null,
          null,
          null,
          null,
          null,
          null,
          null,
          null,
          null,
          null,
          null,
          null,
          null,
          null,
          null,
          null,
          null,
          null,
          null,
          null,
          null,
          null,
          null,
          null,
          null,
          null,
          null,
          null,
          null,
          null,
          null,
          null,
          null,
          null,
          null,
          null,
          null,
          null,
          null,
          null,
          1,
          null,
          null,
          null,
          null,
          null,
          1,
          null,
          null,
          null,
          null,
          null,
          1,
          null,
          null,
          null,
          1,
          null,
          null,
          null,
          null,
          null,
          null,
          null,
          null,
          1,
          null,
          null,
          null,
          null,
          null,
          null,
          null,
          null,
          null,
          null,
          null,
          null,
          null,
          null,
          null,
          null,
          1,
          null,
          null,
          null,
          null,
          null,
          1,
          null,
          null,
          null,
          null,
          null,
          null,
          null,
          null,
          1,
          null,
          null,
          null,
          null,
          null,
          null,
          null,
          null,
          null,
          null,
          null,
          null,
          null,
          null,
          null,
          null,
          null,
          null,
          null,
          null,
          null,
          1,
          null,
          null,
          null,
          null,
          null,
          null,
          null,
          null,
          null,
          null,
          null,
          null,
          null,
          null,
          null,
          null,
          null,
          null,
          1,
          null,
          null,
          null,
          null,
          null,
          null,
          null,
          null,
          null,
          1,
          1,
          null,
          null,
          null,
          1,
          null,
          1,
          null,
          null,
          null,
          1,
          null,
          1,
          null,
          2,
          null,
          null,
          null,
          null,
          null,
          1,
          1,
          null,
          1,
          1,
          null,
          null,
          3,
          null,
          1,
          2,
          1,
          null,
          1,
          2,
          null,
          null,
          1,
          2,
          4,
          4,
          2,
          5,
          null,
          2,
          2,
          2,
          5,
          5,
          1,
          2
         ],
         "zmax": 30,
         "zmin": 1
        },
        {
         "hoverinfo": "skip",
         "line": {
          "color": "#9e9e9e",
          "width": 1
         },
         "mode": "lines",
         "type": "scatter",
         "x": [
          0.5,
          0.5
         ],
         "xaxis": "x",
         "y": [
          -0.5,
          6.5
         ],
         "yaxis": "y"
        },
        {
         "hoverinfo": "skip",
         "line": {
          "color": "#9e9e9e",
          "width": 1
         },
         "mode": "lines",
         "type": "scatter",
         "x": [
          4.5,
          4.5
         ],
         "xaxis": "x",
         "y": [
          2.5,
          6.5
         ],
         "yaxis": "y"
        },
        {
         "hoverinfo": "skip",
         "line": {
          "color": "#9e9e9e",
          "width": 1
         },
         "mode": "lines",
         "type": "scatter",
         "x": [
          4.5,
          5.5
         ],
         "xaxis": "x",
         "y": [
          2.5,
          2.5
         ],
         "yaxis": "y"
        },
        {
         "hoverinfo": "skip",
         "line": {
          "color": "#9e9e9e",
          "width": 1
         },
         "mode": "lines",
         "type": "scatter",
         "x": [
          5.5,
          5.5
         ],
         "xaxis": "x",
         "y": [
          2.5,
          -0.5
         ],
         "yaxis": "y"
        },
        {
         "hoverinfo": "skip",
         "line": {
          "color": "#9e9e9e",
          "width": 1
         },
         "mode": "lines",
         "type": "scatter",
         "x": [
          8.5,
          8.5
         ],
         "xaxis": "x",
         "y": [
          2.5,
          6.5
         ],
         "yaxis": "y"
        },
        {
         "hoverinfo": "skip",
         "line": {
          "color": "#9e9e9e",
          "width": 1
         },
         "mode": "lines",
         "type": "scatter",
         "x": [
          8.5,
          9.5
         ],
         "xaxis": "x",
         "y": [
          2.5,
          2.5
         ],
         "yaxis": "y"
        },
        {
         "hoverinfo": "skip",
         "line": {
          "color": "#9e9e9e",
          "width": 1
         },
         "mode": "lines",
         "type": "scatter",
         "x": [
          9.5,
          9.5
         ],
         "xaxis": "x",
         "y": [
          2.5,
          -0.5
         ],
         "yaxis": "y"
        },
        {
         "hoverinfo": "skip",
         "line": {
          "color": "#9e9e9e",
          "width": 1
         },
         "mode": "lines",
         "type": "scatter",
         "x": [
          12.5,
          12.5
         ],
         "xaxis": "x",
         "y": [
          5.5,
          6.5
         ],
         "yaxis": "y"
        },
        {
         "hoverinfo": "skip",
         "line": {
          "color": "#9e9e9e",
          "width": 1
         },
         "mode": "lines",
         "type": "scatter",
         "x": [
          12.5,
          13.5
         ],
         "xaxis": "x",
         "y": [
          5.5,
          5.5
         ],
         "yaxis": "y"
        },
        {
         "hoverinfo": "skip",
         "line": {
          "color": "#9e9e9e",
          "width": 1
         },
         "mode": "lines",
         "type": "scatter",
         "x": [
          13.5,
          13.5
         ],
         "xaxis": "x",
         "y": [
          5.5,
          -0.5
         ],
         "yaxis": "y"
        },
        {
         "hoverinfo": "skip",
         "line": {
          "color": "#9e9e9e",
          "width": 1
         },
         "mode": "lines",
         "type": "scatter",
         "x": [
          17.5,
          17.5
         ],
         "xaxis": "x",
         "y": [
          0.5,
          6.5
         ],
         "yaxis": "y"
        },
        {
         "hoverinfo": "skip",
         "line": {
          "color": "#9e9e9e",
          "width": 1
         },
         "mode": "lines",
         "type": "scatter",
         "x": [
          17.5,
          18.5
         ],
         "xaxis": "x",
         "y": [
          0.5,
          0.5
         ],
         "yaxis": "y"
        },
        {
         "hoverinfo": "skip",
         "line": {
          "color": "#9e9e9e",
          "width": 1
         },
         "mode": "lines",
         "type": "scatter",
         "x": [
          18.5,
          18.5
         ],
         "xaxis": "x",
         "y": [
          0.5,
          -0.5
         ],
         "yaxis": "y"
        },
        {
         "hoverinfo": "skip",
         "line": {
          "color": "#9e9e9e",
          "width": 1
         },
         "mode": "lines",
         "type": "scatter",
         "x": [
          21.5,
          21.5
         ],
         "xaxis": "x",
         "y": [
          3.5,
          6.5
         ],
         "yaxis": "y"
        },
        {
         "hoverinfo": "skip",
         "line": {
          "color": "#9e9e9e",
          "width": 1
         },
         "mode": "lines",
         "type": "scatter",
         "x": [
          21.5,
          22.5
         ],
         "xaxis": "x",
         "y": [
          3.5,
          3.5
         ],
         "yaxis": "y"
        },
        {
         "hoverinfo": "skip",
         "line": {
          "color": "#9e9e9e",
          "width": 1
         },
         "mode": "lines",
         "type": "scatter",
         "x": [
          22.5,
          22.5
         ],
         "xaxis": "x",
         "y": [
          3.5,
          -0.5
         ],
         "yaxis": "y"
        },
        {
         "hoverinfo": "skip",
         "line": {
          "color": "#9e9e9e",
          "width": 1
         },
         "mode": "lines",
         "type": "scatter",
         "x": [
          25.5,
          25.5
         ],
         "xaxis": "x",
         "y": [
          5.5,
          6.5
         ],
         "yaxis": "y"
        },
        {
         "hoverinfo": "skip",
         "line": {
          "color": "#9e9e9e",
          "width": 1
         },
         "mode": "lines",
         "type": "scatter",
         "x": [
          25.5,
          26.5
         ],
         "xaxis": "x",
         "y": [
          5.5,
          5.5
         ],
         "yaxis": "y"
        },
        {
         "hoverinfo": "skip",
         "line": {
          "color": "#9e9e9e",
          "width": 1
         },
         "mode": "lines",
         "type": "scatter",
         "x": [
          26.5,
          26.5
         ],
         "xaxis": "x",
         "y": [
          5.5,
          -0.5
         ],
         "yaxis": "y"
        },
        {
         "hoverinfo": "skip",
         "line": {
          "color": "#9e9e9e",
          "width": 1
         },
         "mode": "lines",
         "type": "scatter",
         "x": [
          30.5,
          30.5
         ],
         "xaxis": "x",
         "y": [
          1.5,
          6.5
         ],
         "yaxis": "y"
        },
        {
         "hoverinfo": "skip",
         "line": {
          "color": "#9e9e9e",
          "width": 1
         },
         "mode": "lines",
         "type": "scatter",
         "x": [
          30.5,
          31.5
         ],
         "xaxis": "x",
         "y": [
          1.5,
          1.5
         ],
         "yaxis": "y"
        },
        {
         "hoverinfo": "skip",
         "line": {
          "color": "#9e9e9e",
          "width": 1
         },
         "mode": "lines",
         "type": "scatter",
         "x": [
          31.5,
          31.5
         ],
         "xaxis": "x",
         "y": [
          1.5,
          -0.5
         ],
         "yaxis": "y"
        },
        {
         "hoverinfo": "skip",
         "line": {
          "color": "#9e9e9e",
          "width": 1
         },
         "mode": "lines",
         "type": "scatter",
         "x": [
          34.5,
          34.5
         ],
         "xaxis": "x",
         "y": [
          4.5,
          6.5
         ],
         "yaxis": "y"
        },
        {
         "hoverinfo": "skip",
         "line": {
          "color": "#9e9e9e",
          "width": 1
         },
         "mode": "lines",
         "type": "scatter",
         "x": [
          34.5,
          35.5
         ],
         "xaxis": "x",
         "y": [
          4.5,
          4.5
         ],
         "yaxis": "y"
        },
        {
         "hoverinfo": "skip",
         "line": {
          "color": "#9e9e9e",
          "width": 1
         },
         "mode": "lines",
         "type": "scatter",
         "x": [
          35.5,
          35.5
         ],
         "xaxis": "x",
         "y": [
          4.5,
          -0.5
         ],
         "yaxis": "y"
        },
        {
         "hoverinfo": "skip",
         "line": {
          "color": "#9e9e9e",
          "width": 1
         },
         "mode": "lines",
         "type": "scatter",
         "x": [
          39.5,
          39.5
         ],
         "xaxis": "x",
         "y": [
          -0.5,
          6.5
         ],
         "yaxis": "y"
        },
        {
         "hoverinfo": "skip",
         "line": {
          "color": "#9e9e9e",
          "width": 1
         },
         "mode": "lines",
         "type": "scatter",
         "x": [
          43.5,
          43.5
         ],
         "xaxis": "x",
         "y": [
          2.5,
          6.5
         ],
         "yaxis": "y"
        },
        {
         "hoverinfo": "skip",
         "line": {
          "color": "#9e9e9e",
          "width": 1
         },
         "mode": "lines",
         "type": "scatter",
         "x": [
          43.5,
          44.5
         ],
         "xaxis": "x",
         "y": [
          2.5,
          2.5
         ],
         "yaxis": "y"
        },
        {
         "hoverinfo": "skip",
         "line": {
          "color": "#9e9e9e",
          "width": 1
         },
         "mode": "lines",
         "type": "scatter",
         "x": [
          44.5,
          44.5
         ],
         "xaxis": "x",
         "y": [
          2.5,
          -0.5
         ],
         "yaxis": "y"
        },
        {
         "hoverinfo": "skip",
         "line": {
          "color": "#9e9e9e",
          "width": 1
         },
         "mode": "lines",
         "type": "scatter",
         "x": [
          47.5,
          47.5
         ],
         "xaxis": "x",
         "y": [
          4.5,
          6.5
         ],
         "yaxis": "y"
        },
        {
         "hoverinfo": "skip",
         "line": {
          "color": "#9e9e9e",
          "width": 1
         },
         "mode": "lines",
         "type": "scatter",
         "x": [
          47.5,
          48.5
         ],
         "xaxis": "x",
         "y": [
          4.5,
          4.5
         ],
         "yaxis": "y"
        },
        {
         "hoverinfo": "skip",
         "line": {
          "color": "#9e9e9e",
          "width": 1
         },
         "mode": "lines",
         "type": "scatter",
         "x": [
          48.5,
          48.5
         ],
         "xaxis": "x",
         "y": [
          4.5,
          -0.5
         ],
         "yaxis": "y"
        },
        {
         "colorscale": [
          [
           0,
           "rgb(247,252,245)"
          ],
          [
           0.125,
           "rgb(229,245,224)"
          ],
          [
           0.25,
           "rgb(199,233,192)"
          ],
          [
           0.375,
           "rgb(161,217,155)"
          ],
          [
           0.5,
           "rgb(116,196,118)"
          ],
          [
           0.625,
           "rgb(65,171,93)"
          ],
          [
           0.75,
           "rgb(35,139,69)"
          ],
          [
           0.875,
           "rgb(0,109,44)"
          ],
          [
           1,
           "rgb(0,68,27)"
          ]
         ],
         "customdata": [
          [
           "2019-01-01",
           "y"
          ],
          [
           "2019-01-02",
           "y"
          ],
          [
           "2019-01-03",
           "y"
          ],
          [
           "2019-01-04",
           "y"
          ],
          [
           "2019-01-05",
           "y"
          ],
          [
           "2019-01-06",
           "y"
          ],
          [
           "2019-01-07",
           "y"
          ],
          [
           "2019-01-08",
           "y"
          ],
          [
           "2019-01-09",
           "y"
          ],
          [
           "2019-01-10",
           "y"
          ],
          [
           "2019-01-11",
           "y"
          ],
          [
           "2019-01-12",
           "y"
          ],
          [
           "2019-01-13",
           "y"
          ],
          [
           "2019-01-14",
           "y"
          ],
          [
           "2019-01-15",
           "y"
          ],
          [
           "2019-01-16",
           "y"
          ],
          [
           "2019-01-17",
           "y"
          ],
          [
           "2019-01-18",
           "y"
          ],
          [
           "2019-01-19",
           "y"
          ],
          [
           "2019-01-20",
           "y"
          ],
          [
           "2019-01-21",
           "y"
          ],
          [
           "2019-01-22",
           "y"
          ],
          [
           "2019-01-23",
           "y"
          ],
          [
           "2019-01-24",
           "y"
          ],
          [
           "2019-01-25",
           "y"
          ],
          [
           "2019-01-26",
           "y"
          ],
          [
           "2019-01-27",
           "y"
          ],
          [
           "2019-01-28",
           "y"
          ],
          [
           "2019-01-29",
           "y"
          ],
          [
           "2019-01-30",
           "y"
          ],
          [
           "2019-01-31",
           "y"
          ],
          [
           "2019-02-01",
           "y"
          ],
          [
           "2019-02-02",
           "y"
          ],
          [
           "2019-02-03",
           "y"
          ],
          [
           "2019-02-04",
           "y"
          ],
          [
           "2019-02-05",
           "y"
          ],
          [
           "2019-02-06",
           "y"
          ],
          [
           "2019-02-07",
           "y"
          ],
          [
           "2019-02-08",
           "y"
          ],
          [
           "2019-02-09",
           "y"
          ],
          [
           "2019-02-10",
           "y"
          ],
          [
           "2019-02-11",
           "y"
          ],
          [
           "2019-02-12",
           "y"
          ],
          [
           "2019-02-13",
           "y"
          ],
          [
           "2019-02-14",
           "y"
          ],
          [
           "2019-02-15",
           "y"
          ],
          [
           "2019-02-16",
           "y"
          ],
          [
           "2019-02-17",
           "y"
          ],
          [
           "2019-02-18",
           "y"
          ],
          [
           "2019-02-19",
           "y"
          ],
          [
           "2019-02-20",
           "y"
          ],
          [
           "2019-02-21",
           "y"
          ],
          [
           "2019-02-22",
           "y"
          ],
          [
           "2019-02-23",
           "y"
          ],
          [
           "2019-02-24",
           "y"
          ],
          [
           "2019-02-25",
           "y"
          ],
          [
           "2019-02-26",
           "y"
          ],
          [
           "2019-02-27",
           "y"
          ],
          [
           "2019-02-28",
           "y"
          ],
          [
           "2019-03-01",
           "y"
          ],
          [
           "2019-03-02",
           "y"
          ],
          [
           "2019-03-03",
           "y"
          ],
          [
           "2019-03-04",
           "y"
          ],
          [
           "2019-03-05",
           "y"
          ],
          [
           "2019-03-06",
           "y"
          ],
          [
           "2019-03-07",
           "y"
          ],
          [
           "2019-03-08",
           "y"
          ],
          [
           "2019-03-09",
           "y"
          ],
          [
           "2019-03-10",
           "y"
          ],
          [
           "2019-03-11",
           "y"
          ],
          [
           "2019-03-12",
           "y"
          ],
          [
           "2019-03-13",
           "y"
          ],
          [
           "2019-03-14",
           "y"
          ],
          [
           "2019-03-15",
           "y"
          ],
          [
           "2019-03-16",
           "y"
          ],
          [
           "2019-03-17",
           "y"
          ],
          [
           "2019-03-18",
           "y"
          ],
          [
           "2019-03-19",
           "y"
          ],
          [
           "2019-03-20",
           "y"
          ],
          [
           "2019-03-21",
           "y"
          ],
          [
           "2019-03-22",
           "y"
          ],
          [
           "2019-03-23",
           "y"
          ],
          [
           "2019-03-24",
           "y"
          ],
          [
           "2019-03-25",
           "y"
          ],
          [
           "2019-03-26",
           "y"
          ],
          [
           "2019-03-27",
           "y"
          ],
          [
           "2019-03-28",
           "y"
          ],
          [
           "2019-03-29",
           "y"
          ],
          [
           "2019-03-30",
           "y"
          ],
          [
           "2019-03-31",
           "y"
          ],
          [
           "2019-04-01",
           "y"
          ],
          [
           "2019-04-02",
           "y"
          ],
          [
           "2019-04-03",
           "y"
          ],
          [
           "2019-04-04",
           "y"
          ],
          [
           "2019-04-05",
           "y"
          ],
          [
           "2019-04-06",
           "y"
          ],
          [
           "2019-04-07",
           "y"
          ],
          [
           "2019-04-08",
           "y"
          ],
          [
           "2019-04-09",
           "y"
          ],
          [
           "2019-04-10",
           "y"
          ],
          [
           "2019-04-11",
           "y"
          ],
          [
           "2019-04-12",
           "y"
          ],
          [
           "2019-04-13",
           "y"
          ],
          [
           "2019-04-14",
           "y"
          ],
          [
           "2019-04-15",
           "y"
          ],
          [
           "2019-04-16",
           "y"
          ],
          [
           "2019-04-17",
           "y"
          ],
          [
           "2019-04-18",
           "y"
          ],
          [
           "2019-04-19",
           "y"
          ],
          [
           "2019-04-20",
           "y"
          ],
          [
           "2019-04-21",
           "y"
          ],
          [
           "2019-04-22",
           "y"
          ],
          [
           "2019-04-23",
           "y"
          ],
          [
           "2019-04-24",
           "y"
          ],
          [
           "2019-04-25",
           "y"
          ],
          [
           "2019-04-26",
           "y"
          ],
          [
           "2019-04-27",
           "y"
          ],
          [
           "2019-04-28",
           "y"
          ],
          [
           "2019-04-29",
           "y"
          ],
          [
           "2019-04-30",
           "y"
          ],
          [
           "2019-05-01",
           "y"
          ],
          [
           "2019-05-02",
           "y"
          ],
          [
           "2019-05-03",
           "y"
          ],
          [
           "2019-05-04",
           "y"
          ],
          [
           "2019-05-05",
           "y"
          ],
          [
           "2019-05-06",
           "y"
          ],
          [
           "2019-05-07",
           "y"
          ],
          [
           "2019-05-08",
           "y"
          ],
          [
           "2019-05-09",
           "y"
          ],
          [
           "2019-05-10",
           "y"
          ],
          [
           "2019-05-11",
           "y"
          ],
          [
           "2019-05-12",
           "y"
          ],
          [
           "2019-05-13",
           "y"
          ],
          [
           "2019-05-14",
           "y"
          ],
          [
           "2019-05-15",
           "y"
          ],
          [
           "2019-05-16",
           "y"
          ],
          [
           "2019-05-17",
           "y"
          ],
          [
           "2019-05-18",
           "y"
          ],
          [
           "2019-05-19",
           "y"
          ],
          [
           "2019-05-20",
           "y"
          ],
          [
           "2019-05-21",
           "y"
          ],
          [
           "2019-05-22",
           "y"
          ],
          [
           "2019-05-23",
           "y"
          ],
          [
           "2019-05-24",
           "y"
          ],
          [
           "2019-05-25",
           "y"
          ],
          [
           "2019-05-26",
           "y"
          ],
          [
           "2019-05-27",
           "y"
          ],
          [
           "2019-05-28",
           "y"
          ],
          [
           "2019-05-29",
           "y"
          ],
          [
           "2019-05-30",
           "y"
          ],
          [
           "2019-05-31",
           "y"
          ],
          [
           "2019-06-01",
           "y"
          ],
          [
           "2019-06-02",
           "y"
          ],
          [
           "2019-06-03",
           "y"
          ],
          [
           "2019-06-04",
           "y"
          ],
          [
           "2019-06-05",
           "y"
          ],
          [
           "2019-06-06",
           "y"
          ],
          [
           "2019-06-07",
           "y"
          ],
          [
           "2019-06-08",
           "y"
          ],
          [
           "2019-06-09",
           "y"
          ],
          [
           "2019-06-10",
           "y"
          ],
          [
           "2019-06-11",
           "y"
          ],
          [
           "2019-06-12",
           "y"
          ],
          [
           "2019-06-13",
           "y"
          ],
          [
           "2019-06-14",
           "y"
          ],
          [
           "2019-06-15",
           "y"
          ],
          [
           "2019-06-16",
           "y"
          ],
          [
           "2019-06-17",
           "y"
          ],
          [
           "2019-06-18",
           "y"
          ],
          [
           "2019-06-19",
           "y"
          ],
          [
           "2019-06-20",
           "y"
          ],
          [
           "2019-06-21",
           "y"
          ],
          [
           "2019-06-22",
           "y"
          ],
          [
           "2019-06-23",
           "y"
          ],
          [
           "2019-06-24",
           "y"
          ],
          [
           "2019-06-25",
           "y"
          ],
          [
           "2019-06-26",
           "y"
          ],
          [
           "2019-06-27",
           "y"
          ],
          [
           "2019-06-28",
           "y"
          ],
          [
           "2019-06-29",
           "y"
          ],
          [
           "2019-06-30",
           "y"
          ],
          [
           "2019-07-01",
           "y"
          ],
          [
           "2019-07-02",
           "y"
          ],
          [
           "2019-07-03",
           "y"
          ],
          [
           "2019-07-04",
           "y"
          ],
          [
           "2019-07-05",
           "y"
          ],
          [
           "2019-07-06",
           "y"
          ],
          [
           "2019-07-07",
           "y"
          ],
          [
           "2019-07-08",
           "y"
          ],
          [
           "2019-07-09",
           "y"
          ],
          [
           "2019-07-10",
           "y"
          ],
          [
           "2019-07-11",
           "y"
          ],
          [
           "2019-07-12",
           "y"
          ],
          [
           "2019-07-13",
           "y"
          ],
          [
           "2019-07-14",
           "y"
          ],
          [
           "2019-07-15",
           "y"
          ],
          [
           "2019-07-16",
           "y"
          ],
          [
           "2019-07-17",
           "y"
          ],
          [
           "2019-07-18",
           "y"
          ],
          [
           "2019-07-19",
           "y"
          ],
          [
           "2019-07-20",
           "y"
          ],
          [
           "2019-07-21",
           "y"
          ],
          [
           "2019-07-22",
           "y"
          ],
          [
           "2019-07-23",
           "y"
          ],
          [
           "2019-07-24",
           "y"
          ],
          [
           "2019-07-25",
           "y"
          ],
          [
           "2019-07-26",
           "y"
          ],
          [
           "2019-07-27",
           "y"
          ],
          [
           "2019-07-28",
           "y"
          ],
          [
           "2019-07-29",
           "y"
          ],
          [
           "2019-07-30",
           "y"
          ],
          [
           "2019-07-31",
           "y"
          ],
          [
           "2019-08-01",
           "y"
          ],
          [
           "2019-08-02",
           "y"
          ],
          [
           "2019-08-03",
           "y"
          ],
          [
           "2019-08-04",
           "y"
          ],
          [
           "2019-08-05",
           "y"
          ],
          [
           "2019-08-06",
           "y"
          ],
          [
           "2019-08-07",
           "y"
          ],
          [
           "2019-08-08",
           "y"
          ],
          [
           "2019-08-09",
           "y"
          ],
          [
           "2019-08-10",
           "y"
          ],
          [
           "2019-08-11",
           "y"
          ],
          [
           "2019-08-12",
           "y"
          ],
          [
           "2019-08-13",
           "y"
          ],
          [
           "2019-08-14",
           "y"
          ],
          [
           "2019-08-15",
           "y"
          ],
          [
           "2019-08-16",
           "y"
          ],
          [
           "2019-08-17",
           "y"
          ],
          [
           "2019-08-18",
           "y"
          ],
          [
           "2019-08-19",
           "y"
          ],
          [
           "2019-08-20",
           "y"
          ],
          [
           "2019-08-21",
           "y"
          ],
          [
           "2019-08-22",
           "y"
          ],
          [
           "2019-08-23",
           "y"
          ],
          [
           "2019-08-24",
           "y"
          ],
          [
           "2019-08-25",
           "y"
          ],
          [
           "2019-08-26",
           "y"
          ],
          [
           "2019-08-27",
           "y"
          ],
          [
           "2019-08-28",
           "y"
          ],
          [
           "2019-08-29",
           "y"
          ],
          [
           "2019-08-30",
           "y"
          ],
          [
           "2019-08-31",
           "y"
          ],
          [
           "2019-09-01",
           "y"
          ],
          [
           "2019-09-02",
           "y"
          ],
          [
           "2019-09-03",
           "y"
          ],
          [
           "2019-09-04",
           "y"
          ],
          [
           "2019-09-05",
           "y"
          ],
          [
           "2019-09-06",
           "y"
          ],
          [
           "2019-09-07",
           "y"
          ],
          [
           "2019-09-08",
           "y"
          ],
          [
           "2019-09-09",
           "y"
          ],
          [
           "2019-09-10",
           "y"
          ],
          [
           "2019-09-11",
           "y"
          ],
          [
           "2019-09-12",
           "y"
          ],
          [
           "2019-09-13",
           "y"
          ],
          [
           "2019-09-14",
           "y"
          ],
          [
           "2019-09-15",
           "y"
          ],
          [
           "2019-09-16",
           "y"
          ],
          [
           "2019-09-17",
           "y"
          ],
          [
           "2019-09-18",
           "y"
          ],
          [
           "2019-09-19",
           "y"
          ],
          [
           "2019-09-20",
           "y"
          ],
          [
           "2019-09-21",
           "y"
          ],
          [
           "2019-09-22",
           "y"
          ],
          [
           "2019-09-23",
           "y"
          ],
          [
           "2019-09-24",
           "y"
          ],
          [
           "2019-09-25",
           "y"
          ],
          [
           "2019-09-26",
           "y"
          ],
          [
           "2019-09-27",
           "y"
          ],
          [
           "2019-09-28",
           "y"
          ],
          [
           "2019-09-29",
           "y"
          ],
          [
           "2019-09-30",
           "y"
          ],
          [
           "2019-10-01",
           "y"
          ],
          [
           "2019-10-02",
           "y"
          ],
          [
           "2019-10-03",
           "y"
          ],
          [
           "2019-10-04",
           "y"
          ],
          [
           "2019-10-05",
           "y"
          ],
          [
           "2019-10-06",
           "y"
          ],
          [
           "2019-10-07",
           "y"
          ],
          [
           "2019-10-08",
           "y"
          ],
          [
           "2019-10-09",
           "y"
          ],
          [
           "2019-10-10",
           "y"
          ],
          [
           "2019-10-11",
           "y"
          ],
          [
           "2019-10-12",
           "y"
          ],
          [
           "2019-10-13",
           "y"
          ],
          [
           "2019-10-14",
           "y"
          ],
          [
           "2019-10-15",
           "y"
          ],
          [
           "2019-10-16",
           "y"
          ],
          [
           "2019-10-17",
           "y"
          ],
          [
           "2019-10-18",
           "y"
          ],
          [
           "2019-10-19",
           "y"
          ],
          [
           "2019-10-20",
           "y"
          ],
          [
           "2019-10-21",
           "y"
          ],
          [
           "2019-10-22",
           "y"
          ],
          [
           "2019-10-23",
           "y"
          ],
          [
           "2019-10-24",
           "y"
          ],
          [
           "2019-10-25",
           "y"
          ],
          [
           "2019-10-26",
           "y"
          ],
          [
           "2019-10-27",
           "y"
          ],
          [
           "2019-10-28",
           "y"
          ],
          [
           "2019-10-29",
           "y"
          ],
          [
           "2019-10-30",
           "y"
          ],
          [
           "2019-10-31",
           "y"
          ],
          [
           "2019-11-01",
           "y"
          ],
          [
           "2019-11-02",
           "y"
          ],
          [
           "2019-11-03",
           "y"
          ],
          [
           "2019-11-04",
           "y"
          ],
          [
           "2019-11-05",
           "y"
          ],
          [
           "2019-11-06",
           "y"
          ],
          [
           "2019-11-07",
           "y"
          ],
          [
           "2019-11-08",
           "y"
          ],
          [
           "2019-11-09",
           "y"
          ],
          [
           "2019-11-10",
           "y"
          ],
          [
           "2019-11-11",
           "y"
          ],
          [
           "2019-11-12",
           "y"
          ],
          [
           "2019-11-13",
           "y"
          ],
          [
           "2019-11-14",
           "y"
          ],
          [
           "2019-11-15",
           "y"
          ],
          [
           "2019-11-16",
           "y"
          ],
          [
           "2019-11-17",
           "y"
          ],
          [
           "2019-11-18",
           "y"
          ],
          [
           "2019-11-19",
           "y"
          ],
          [
           "2019-11-20",
           "y"
          ],
          [
           "2019-11-21",
           "y"
          ],
          [
           "2019-11-22",
           "y"
          ],
          [
           "2019-11-23",
           "y"
          ],
          [
           "2019-11-24",
           "y"
          ],
          [
           "2019-11-25",
           "y"
          ],
          [
           "2019-11-26",
           "y"
          ],
          [
           "2019-11-27",
           "y"
          ],
          [
           "2019-11-28",
           "y"
          ],
          [
           "2019-11-29",
           "y"
          ],
          [
           "2019-11-30",
           "y"
          ],
          [
           "2019-12-01",
           "y"
          ],
          [
           "2019-12-02",
           "y"
          ],
          [
           "2019-12-03",
           "y"
          ],
          [
           "2019-12-04",
           "y"
          ],
          [
           "2019-12-05",
           "y"
          ],
          [
           "2019-12-06",
           "y"
          ],
          [
           "2019-12-07",
           "y"
          ],
          [
           "2019-12-08",
           "y"
          ],
          [
           "2019-12-09",
           "y"
          ],
          [
           "2019-12-10",
           "y"
          ],
          [
           "2019-12-11",
           "y"
          ],
          [
           "2019-12-12",
           "y"
          ],
          [
           "2019-12-13",
           "y"
          ],
          [
           "2019-12-14",
           "y"
          ],
          [
           "2019-12-15",
           "y"
          ],
          [
           "2019-12-16",
           "y"
          ],
          [
           "2019-12-17",
           "y"
          ],
          [
           "2019-12-18",
           "y"
          ],
          [
           "2019-12-19",
           "y"
          ],
          [
           "2019-12-20",
           "y"
          ],
          [
           "2019-12-21",
           "y"
          ],
          [
           "2019-12-22",
           "y"
          ],
          [
           "2019-12-23",
           "y"
          ],
          [
           "2019-12-24",
           "y"
          ],
          [
           "2019-12-25",
           "y"
          ],
          [
           "2019-12-26",
           "y"
          ],
          [
           "2019-12-27",
           "y"
          ],
          [
           "2019-12-28",
           "y"
          ],
          [
           "2019-12-29",
           "y"
          ],
          [
           "2019-12-30",
           "y"
          ],
          [
           "2019-12-31",
           "y"
          ]
         ],
         "hovertemplate": "%{customdata[0]} <br>Week=%{x} <br>%{customdata[1]}=%{z}",
         "name": "2019",
         "showscale": false,
         "type": "heatmap",
         "x": [
          0,
          0,
          0,
          0,
          0,
          0,
          1,
          1,
          1,
          1,
          1,
          1,
          1,
          2,
          2,
          2,
          2,
          2,
          2,
          2,
          3,
          3,
          3,
          3,
          3,
          3,
          3,
          4,
          4,
          4,
          4,
          4,
          4,
          4,
          5,
          5,
          5,
          5,
          5,
          5,
          5,
          6,
          6,
          6,
          6,
          6,
          6,
          6,
          7,
          7,
          7,
          7,
          7,
          7,
          7,
          8,
          8,
          8,
          8,
          8,
          8,
          8,
          9,
          9,
          9,
          9,
          9,
          9,
          9,
          10,
          10,
          10,
          10,
          10,
          10,
          10,
          11,
          11,
          11,
          11,
          11,
          11,
          11,
          12,
          12,
          12,
          12,
          12,
          12,
          12,
          13,
          13,
          13,
          13,
          13,
          13,
          13,
          14,
          14,
          14,
          14,
          14,
          14,
          14,
          15,
          15,
          15,
          15,
          15,
          15,
          15,
          16,
          16,
          16,
          16,
          16,
          16,
          16,
          17,
          17,
          17,
          17,
          17,
          17,
          17,
          18,
          18,
          18,
          18,
          18,
          18,
          18,
          19,
          19,
          19,
          19,
          19,
          19,
          19,
          20,
          20,
          20,
          20,
          20,
          20,
          20,
          21,
          21,
          21,
          21,
          21,
          21,
          21,
          22,
          22,
          22,
          22,
          22,
          22,
          22,
          23,
          23,
          23,
          23,
          23,
          23,
          23,
          24,
          24,
          24,
          24,
          24,
          24,
          24,
          25,
          25,
          25,
          25,
          25,
          25,
          25,
          26,
          26,
          26,
          26,
          26,
          26,
          26,
          27,
          27,
          27,
          27,
          27,
          27,
          27,
          28,
          28,
          28,
          28,
          28,
          28,
          28,
          29,
          29,
          29,
          29,
          29,
          29,
          29,
          30,
          30,
          30,
          30,
          30,
          30,
          30,
          31,
          31,
          31,
          31,
          31,
          31,
          31,
          32,
          32,
          32,
          32,
          32,
          32,
          32,
          33,
          33,
          33,
          33,
          33,
          33,
          33,
          34,
          34,
          34,
          34,
          34,
          34,
          34,
          35,
          35,
          35,
          35,
          35,
          35,
          35,
          36,
          36,
          36,
          36,
          36,
          36,
          36,
          37,
          37,
          37,
          37,
          37,
          37,
          37,
          38,
          38,
          38,
          38,
          38,
          38,
          38,
          39,
          39,
          39,
          39,
          39,
          39,
          39,
          40,
          40,
          40,
          40,
          40,
          40,
          40,
          41,
          41,
          41,
          41,
          41,
          41,
          41,
          42,
          42,
          42,
          42,
          42,
          42,
          42,
          43,
          43,
          43,
          43,
          43,
          43,
          43,
          44,
          44,
          44,
          44,
          44,
          44,
          44,
          45,
          45,
          45,
          45,
          45,
          45,
          45,
          46,
          46,
          46,
          46,
          46,
          46,
          46,
          47,
          47,
          47,
          47,
          47,
          47,
          47,
          48,
          48,
          48,
          48,
          48,
          48,
          48,
          49,
          49,
          49,
          49,
          49,
          49,
          49,
          50,
          50,
          50,
          50,
          50,
          50,
          50,
          51,
          51,
          51,
          51,
          51,
          51,
          51,
          52,
          52
         ],
         "xaxis": "x2",
         "xgap": 1,
         "y": [
          1,
          2,
          3,
          4,
          5,
          6,
          0,
          1,
          2,
          3,
          4,
          5,
          6,
          0,
          1,
          2,
          3,
          4,
          5,
          6,
          0,
          1,
          2,
          3,
          4,
          5,
          6,
          0,
          1,
          2,
          3,
          4,
          5,
          6,
          0,
          1,
          2,
          3,
          4,
          5,
          6,
          0,
          1,
          2,
          3,
          4,
          5,
          6,
          0,
          1,
          2,
          3,
          4,
          5,
          6,
          0,
          1,
          2,
          3,
          4,
          5,
          6,
          0,
          1,
          2,
          3,
          4,
          5,
          6,
          0,
          1,
          2,
          3,
          4,
          5,
          6,
          0,
          1,
          2,
          3,
          4,
          5,
          6,
          0,
          1,
          2,
          3,
          4,
          5,
          6,
          0,
          1,
          2,
          3,
          4,
          5,
          6,
          0,
          1,
          2,
          3,
          4,
          5,
          6,
          0,
          1,
          2,
          3,
          4,
          5,
          6,
          0,
          1,
          2,
          3,
          4,
          5,
          6,
          0,
          1,
          2,
          3,
          4,
          5,
          6,
          0,
          1,
          2,
          3,
          4,
          5,
          6,
          0,
          1,
          2,
          3,
          4,
          5,
          6,
          0,
          1,
          2,
          3,
          4,
          5,
          6,
          0,
          1,
          2,
          3,
          4,
          5,
          6,
          0,
          1,
          2,
          3,
          4,
          5,
          6,
          0,
          1,
          2,
          3,
          4,
          5,
          6,
          0,
          1,
          2,
          3,
          4,
          5,
          6,
          0,
          1,
          2,
          3,
          4,
          5,
          6,
          0,
          1,
          2,
          3,
          4,
          5,
          6,
          0,
          1,
          2,
          3,
          4,
          5,
          6,
          0,
          1,
          2,
          3,
          4,
          5,
          6,
          0,
          1,
          2,
          3,
          4,
          5,
          6,
          0,
          1,
          2,
          3,
          4,
          5,
          6,
          0,
          1,
          2,
          3,
          4,
          5,
          6,
          0,
          1,
          2,
          3,
          4,
          5,
          6,
          0,
          1,
          2,
          3,
          4,
          5,
          6,
          0,
          1,
          2,
          3,
          4,
          5,
          6,
          0,
          1,
          2,
          3,
          4,
          5,
          6,
          0,
          1,
          2,
          3,
          4,
          5,
          6,
          0,
          1,
          2,
          3,
          4,
          5,
          6,
          0,
          1,
          2,
          3,
          4,
          5,
          6,
          0,
          1,
          2,
          3,
          4,
          5,
          6,
          0,
          1,
          2,
          3,
          4,
          5,
          6,
          0,
          1,
          2,
          3,
          4,
          5,
          6,
          0,
          1,
          2,
          3,
          4,
          5,
          6,
          0,
          1,
          2,
          3,
          4,
          5,
          6,
          0,
          1,
          2,
          3,
          4,
          5,
          6,
          0,
          1,
          2,
          3,
          4,
          5,
          6,
          0,
          1,
          2,
          3,
          4,
          5,
          6,
          0,
          1,
          2,
          3,
          4,
          5,
          6,
          0,
          1,
          2,
          3,
          4,
          5,
          6,
          0,
          1,
          2,
          3,
          4,
          5,
          6,
          0,
          1,
          2,
          3,
          4,
          5,
          6,
          0,
          1,
          2,
          3,
          4,
          5,
          6,
          0,
          1
         ],
         "yaxis": "y2",
         "ygap": 1,
         "z": [
          8,
          13,
          12,
          14,
          16,
          8,
          11,
          7,
          9,
          10,
          23,
          14,
          12,
          19,
          16,
          16,
          17,
          15,
          18,
          11,
          12,
          8,
          7,
          11,
          17,
          13,
          5,
          14,
          2,
          8,
          14,
          18,
          19,
          9,
          11,
          9,
          12,
          21,
          15,
          20,
          13,
          11,
          13,
          11,
          11,
          14,
          19,
          12,
          9,
          11,
          14,
          16,
          9,
          7,
          13,
          10,
          9,
          10,
          9,
          12,
          24,
          12,
          10,
          14,
          9,
          8,
          15,
          10,
          13,
          10,
          12,
          8,
          10,
          8,
          16,
          6,
          11,
          6,
          12,
          13,
          12,
          9,
          8,
          16,
          9,
          11,
          14,
          16,
          21,
          7,
          8,
          6,
          7,
          17,
          21,
          17,
          9,
          8,
          8,
          5,
          5,
          9,
          15,
          10,
          6,
          11,
          13,
          18,
          10,
          14,
          2,
          13,
          9,
          11,
          10,
          7,
          12,
          9,
          10,
          17,
          16,
          10,
          15,
          19,
          11,
          9,
          18,
          9,
          9,
          11,
          8,
          16,
          2,
          8,
          7,
          8,
          18,
          14,
          5,
          3,
          5,
          6,
          13,
          4,
          19,
          8,
          8,
          8,
          7,
          6,
          13,
          19,
          5,
          9,
          3,
          5,
          10,
          7,
          11,
          4,
          3,
          6,
          8,
          4,
          13,
          12,
          4,
          6,
          10,
          6,
          9,
          8,
          15,
          11,
          7,
          8,
          7,
          7,
          3,
          14,
          1,
          6,
          9,
          3,
          7,
          5,
          12,
          6,
          8,
          7,
          2,
          3,
          4,
          8,
          8,
          3,
          2,
          2,
          8,
          7,
          8,
          2,
          4,
          4,
          3,
          6,
          8,
          7,
          4,
          9,
          9,
          10,
          6,
          9,
          4,
          8,
          5,
          6,
          4,
          5,
          6,
          10,
          10,
          12,
          15,
          9,
          10,
          12,
          3,
          7,
          12,
          12,
          8,
          10,
          5,
          13,
          6,
          5,
          4,
          6,
          7,
          7,
          9,
          6,
          6,
          5,
          7,
          6,
          6,
          5,
          8,
          8,
          4,
          4,
          6,
          3,
          9,
          3,
          7,
          10,
          6,
          4,
          6,
          8,
          10,
          4,
          4,
          8,
          4,
          9,
          5,
          2,
          7,
          4,
          8,
          7,
          9,
          5,
          1,
          11,
          4,
          6,
          6,
          4,
          3,
          2,
          8,
          4,
          3,
          8,
          9,
          5,
          9,
          2,
          5,
          3,
          8,
          3,
          8,
          5,
          7,
          2,
          7,
          4,
          8,
          5,
          4,
          3,
          3,
          6,
          6,
          7,
          10,
          7,
          4,
          3,
          4,
          6,
          6,
          5,
          6,
          5,
          6,
          7,
          2,
          9,
          5,
          5,
          11,
          4,
          6,
          4,
          10,
          8,
          4,
          4,
          3,
          4,
          6,
          10,
          9,
          7,
          9,
          10,
          6,
          6,
          11,
          4,
          5,
          9,
          6,
          12,
          4,
          7,
          3,
          5,
          8,
          4,
          null,
          4,
          4,
          7,
          6,
          4,
          2
         ],
         "zmax": 30,
         "zmin": 1
        },
        {
         "hoverinfo": "skip",
         "line": {
          "color": "#9e9e9e",
          "width": 1
         },
         "mode": "lines",
         "type": "scatter",
         "x": [
          -0.5,
          -0.5
         ],
         "xaxis": "x2",
         "y": [
          0.5,
          6.5
         ],
         "yaxis": "y2"
        },
        {
         "hoverinfo": "skip",
         "line": {
          "color": "#9e9e9e",
          "width": 1
         },
         "mode": "lines",
         "type": "scatter",
         "x": [
          -0.5,
          0.5
         ],
         "xaxis": "x2",
         "y": [
          0.5,
          0.5
         ],
         "yaxis": "y2"
        },
        {
         "hoverinfo": "skip",
         "line": {
          "color": "#9e9e9e",
          "width": 1
         },
         "mode": "lines",
         "type": "scatter",
         "x": [
          0.5,
          0.5
         ],
         "xaxis": "x2",
         "y": [
          0.5,
          -0.5
         ],
         "yaxis": "y2"
        },
        {
         "hoverinfo": "skip",
         "line": {
          "color": "#9e9e9e",
          "width": 1
         },
         "mode": "lines",
         "type": "scatter",
         "x": [
          3.5,
          3.5
         ],
         "xaxis": "x2",
         "y": [
          3.5,
          6.5
         ],
         "yaxis": "y2"
        },
        {
         "hoverinfo": "skip",
         "line": {
          "color": "#9e9e9e",
          "width": 1
         },
         "mode": "lines",
         "type": "scatter",
         "x": [
          3.5,
          4.5
         ],
         "xaxis": "x2",
         "y": [
          3.5,
          3.5
         ],
         "yaxis": "y2"
        },
        {
         "hoverinfo": "skip",
         "line": {
          "color": "#9e9e9e",
          "width": 1
         },
         "mode": "lines",
         "type": "scatter",
         "x": [
          4.5,
          4.5
         ],
         "xaxis": "x2",
         "y": [
          3.5,
          -0.5
         ],
         "yaxis": "y2"
        },
        {
         "hoverinfo": "skip",
         "line": {
          "color": "#9e9e9e",
          "width": 1
         },
         "mode": "lines",
         "type": "scatter",
         "x": [
          7.5,
          7.5
         ],
         "xaxis": "x2",
         "y": [
          3.5,
          6.5
         ],
         "yaxis": "y2"
        },
        {
         "hoverinfo": "skip",
         "line": {
          "color": "#9e9e9e",
          "width": 1
         },
         "mode": "lines",
         "type": "scatter",
         "x": [
          7.5,
          8.5
         ],
         "xaxis": "x2",
         "y": [
          3.5,
          3.5
         ],
         "yaxis": "y2"
        },
        {
         "hoverinfo": "skip",
         "line": {
          "color": "#9e9e9e",
          "width": 1
         },
         "mode": "lines",
         "type": "scatter",
         "x": [
          8.5,
          8.5
         ],
         "xaxis": "x2",
         "y": [
          3.5,
          -0.5
         ],
         "yaxis": "y2"
        },
        {
         "hoverinfo": "skip",
         "line": {
          "color": "#9e9e9e",
          "width": 1
         },
         "mode": "lines",
         "type": "scatter",
         "x": [
          12.5,
          12.5
         ],
         "xaxis": "x2",
         "y": [
          -0.5,
          6.5
         ],
         "yaxis": "y2"
        },
        {
         "hoverinfo": "skip",
         "line": {
          "color": "#9e9e9e",
          "width": 1
         },
         "mode": "lines",
         "type": "scatter",
         "x": [
          16.5,
          16.5
         ],
         "xaxis": "x2",
         "y": [
          1.5,
          6.5
         ],
         "yaxis": "y2"
        },
        {
         "hoverinfo": "skip",
         "line": {
          "color": "#9e9e9e",
          "width": 1
         },
         "mode": "lines",
         "type": "scatter",
         "x": [
          16.5,
          17.5
         ],
         "xaxis": "x2",
         "y": [
          1.5,
          1.5
         ],
         "yaxis": "y2"
        },
        {
         "hoverinfo": "skip",
         "line": {
          "color": "#9e9e9e",
          "width": 1
         },
         "mode": "lines",
         "type": "scatter",
         "x": [
          17.5,
          17.5
         ],
         "xaxis": "x2",
         "y": [
          1.5,
          -0.5
         ],
         "yaxis": "y2"
        },
        {
         "hoverinfo": "skip",
         "line": {
          "color": "#9e9e9e",
          "width": 1
         },
         "mode": "lines",
         "type": "scatter",
         "x": [
          20.5,
          20.5
         ],
         "xaxis": "x2",
         "y": [
          4.5,
          6.5
         ],
         "yaxis": "y2"
        },
        {
         "hoverinfo": "skip",
         "line": {
          "color": "#9e9e9e",
          "width": 1
         },
         "mode": "lines",
         "type": "scatter",
         "x": [
          20.5,
          21.5
         ],
         "xaxis": "x2",
         "y": [
          4.5,
          4.5
         ],
         "yaxis": "y2"
        },
        {
         "hoverinfo": "skip",
         "line": {
          "color": "#9e9e9e",
          "width": 1
         },
         "mode": "lines",
         "type": "scatter",
         "x": [
          21.5,
          21.5
         ],
         "xaxis": "x2",
         "y": [
          4.5,
          -0.5
         ],
         "yaxis": "y2"
        },
        {
         "hoverinfo": "skip",
         "line": {
          "color": "#9e9e9e",
          "width": 1
         },
         "mode": "lines",
         "type": "scatter",
         "x": [
          25.5,
          25.5
         ],
         "xaxis": "x2",
         "y": [
          -0.5,
          6.5
         ],
         "yaxis": "y2"
        },
        {
         "hoverinfo": "skip",
         "line": {
          "color": "#9e9e9e",
          "width": 1
         },
         "mode": "lines",
         "type": "scatter",
         "x": [
          29.5,
          29.5
         ],
         "xaxis": "x2",
         "y": [
          2.5,
          6.5
         ],
         "yaxis": "y2"
        },
        {
         "hoverinfo": "skip",
         "line": {
          "color": "#9e9e9e",
          "width": 1
         },
         "mode": "lines",
         "type": "scatter",
         "x": [
          29.5,
          30.5
         ],
         "xaxis": "x2",
         "y": [
          2.5,
          2.5
         ],
         "yaxis": "y2"
        },
        {
         "hoverinfo": "skip",
         "line": {
          "color": "#9e9e9e",
          "width": 1
         },
         "mode": "lines",
         "type": "scatter",
         "x": [
          30.5,
          30.5
         ],
         "xaxis": "x2",
         "y": [
          2.5,
          -0.5
         ],
         "yaxis": "y2"
        },
        {
         "hoverinfo": "skip",
         "line": {
          "color": "#9e9e9e",
          "width": 1
         },
         "mode": "lines",
         "type": "scatter",
         "x": [
          33.5,
          33.5
         ],
         "xaxis": "x2",
         "y": [
          5.5,
          6.5
         ],
         "yaxis": "y2"
        },
        {
         "hoverinfo": "skip",
         "line": {
          "color": "#9e9e9e",
          "width": 1
         },
         "mode": "lines",
         "type": "scatter",
         "x": [
          33.5,
          34.5
         ],
         "xaxis": "x2",
         "y": [
          5.5,
          5.5
         ],
         "yaxis": "y2"
        },
        {
         "hoverinfo": "skip",
         "line": {
          "color": "#9e9e9e",
          "width": 1
         },
         "mode": "lines",
         "type": "scatter",
         "x": [
          34.5,
          34.5
         ],
         "xaxis": "x2",
         "y": [
          5.5,
          -0.5
         ],
         "yaxis": "y2"
        },
        {
         "hoverinfo": "skip",
         "line": {
          "color": "#9e9e9e",
          "width": 1
         },
         "mode": "lines",
         "type": "scatter",
         "x": [
          38.5,
          38.5
         ],
         "xaxis": "x2",
         "y": [
          0.5,
          6.5
         ],
         "yaxis": "y2"
        },
        {
         "hoverinfo": "skip",
         "line": {
          "color": "#9e9e9e",
          "width": 1
         },
         "mode": "lines",
         "type": "scatter",
         "x": [
          38.5,
          39.5
         ],
         "xaxis": "x2",
         "y": [
          0.5,
          0.5
         ],
         "yaxis": "y2"
        },
        {
         "hoverinfo": "skip",
         "line": {
          "color": "#9e9e9e",
          "width": 1
         },
         "mode": "lines",
         "type": "scatter",
         "x": [
          39.5,
          39.5
         ],
         "xaxis": "x2",
         "y": [
          0.5,
          -0.5
         ],
         "yaxis": "y2"
        },
        {
         "hoverinfo": "skip",
         "line": {
          "color": "#9e9e9e",
          "width": 1
         },
         "mode": "lines",
         "type": "scatter",
         "x": [
          42.5,
          42.5
         ],
         "xaxis": "x2",
         "y": [
          3.5,
          6.5
         ],
         "yaxis": "y2"
        },
        {
         "hoverinfo": "skip",
         "line": {
          "color": "#9e9e9e",
          "width": 1
         },
         "mode": "lines",
         "type": "scatter",
         "x": [
          42.5,
          43.5
         ],
         "xaxis": "x2",
         "y": [
          3.5,
          3.5
         ],
         "yaxis": "y2"
        },
        {
         "hoverinfo": "skip",
         "line": {
          "color": "#9e9e9e",
          "width": 1
         },
         "mode": "lines",
         "type": "scatter",
         "x": [
          43.5,
          43.5
         ],
         "xaxis": "x2",
         "y": [
          3.5,
          -0.5
         ],
         "yaxis": "y2"
        },
        {
         "hoverinfo": "skip",
         "line": {
          "color": "#9e9e9e",
          "width": 1
         },
         "mode": "lines",
         "type": "scatter",
         "x": [
          46.5,
          46.5
         ],
         "xaxis": "x2",
         "y": [
          5.5,
          6.5
         ],
         "yaxis": "y2"
        },
        {
         "hoverinfo": "skip",
         "line": {
          "color": "#9e9e9e",
          "width": 1
         },
         "mode": "lines",
         "type": "scatter",
         "x": [
          46.5,
          47.5
         ],
         "xaxis": "x2",
         "y": [
          5.5,
          5.5
         ],
         "yaxis": "y2"
        },
        {
         "hoverinfo": "skip",
         "line": {
          "color": "#9e9e9e",
          "width": 1
         },
         "mode": "lines",
         "type": "scatter",
         "x": [
          47.5,
          47.5
         ],
         "xaxis": "x2",
         "y": [
          5.5,
          -0.5
         ],
         "yaxis": "y2"
        },
        {
         "colorscale": [
          [
           0,
           "rgb(247,252,245)"
          ],
          [
           0.125,
           "rgb(229,245,224)"
          ],
          [
           0.25,
           "rgb(199,233,192)"
          ],
          [
           0.375,
           "rgb(161,217,155)"
          ],
          [
           0.5,
           "rgb(116,196,118)"
          ],
          [
           0.625,
           "rgb(65,171,93)"
          ],
          [
           0.75,
           "rgb(35,139,69)"
          ],
          [
           0.875,
           "rgb(0,109,44)"
          ],
          [
           1,
           "rgb(0,68,27)"
          ]
         ],
         "customdata": [
          [
           "2020-01-01",
           "y"
          ],
          [
           "2020-01-02",
           "y"
          ],
          [
           "2020-01-03",
           "y"
          ],
          [
           "2020-01-04",
           "y"
          ],
          [
           "2020-01-05",
           "y"
          ],
          [
           "2020-01-06",
           "y"
          ],
          [
           "2020-01-07",
           "y"
          ],
          [
           "2020-01-08",
           "y"
          ],
          [
           "2020-01-09",
           "y"
          ],
          [
           "2020-01-10",
           "y"
          ],
          [
           "2020-01-11",
           "y"
          ],
          [
           "2020-01-12",
           "y"
          ],
          [
           "2020-01-13",
           "y"
          ],
          [
           "2020-01-14",
           "y"
          ],
          [
           "2020-01-15",
           "y"
          ],
          [
           "2020-01-16",
           "y"
          ],
          [
           "2020-01-17",
           "y"
          ],
          [
           "2020-01-18",
           "y"
          ],
          [
           "2020-01-19",
           "y"
          ],
          [
           "2020-01-20",
           "y"
          ],
          [
           "2020-01-21",
           "y"
          ],
          [
           "2020-01-22",
           "y"
          ],
          [
           "2020-01-23",
           "y"
          ],
          [
           "2020-01-24",
           "y"
          ],
          [
           "2020-01-25",
           "y"
          ],
          [
           "2020-01-26",
           "y"
          ],
          [
           "2020-01-27",
           "y"
          ],
          [
           "2020-01-28",
           "y"
          ],
          [
           "2020-01-29",
           "y"
          ],
          [
           "2020-01-30",
           "y"
          ],
          [
           "2020-01-31",
           "y"
          ],
          [
           "2020-02-01",
           "y"
          ],
          [
           "2020-02-02",
           "y"
          ],
          [
           "2020-02-03",
           "y"
          ],
          [
           "2020-02-04",
           "y"
          ],
          [
           "2020-02-05",
           "y"
          ],
          [
           "2020-02-06",
           "y"
          ],
          [
           "2020-02-07",
           "y"
          ],
          [
           "2020-02-08",
           "y"
          ],
          [
           "2020-02-09",
           "y"
          ],
          [
           "2020-02-10",
           "y"
          ],
          [
           "2020-02-11",
           "y"
          ],
          [
           "2020-02-12",
           "y"
          ],
          [
           "2020-02-13",
           "y"
          ],
          [
           "2020-02-14",
           "y"
          ],
          [
           "2020-02-15",
           "y"
          ],
          [
           "2020-02-16",
           "y"
          ],
          [
           "2020-02-17",
           "y"
          ],
          [
           "2020-02-18",
           "y"
          ],
          [
           "2020-02-19",
           "y"
          ],
          [
           "2020-02-20",
           "y"
          ],
          [
           "2020-02-21",
           "y"
          ],
          [
           "2020-02-22",
           "y"
          ],
          [
           "2020-02-23",
           "y"
          ],
          [
           "2020-02-24",
           "y"
          ],
          [
           "2020-02-25",
           "y"
          ],
          [
           "2020-02-26",
           "y"
          ],
          [
           "2020-02-27",
           "y"
          ],
          [
           "2020-02-28",
           "y"
          ],
          [
           "2020-02-29",
           "y"
          ],
          [
           "2020-03-01",
           "y"
          ],
          [
           "2020-03-02",
           "y"
          ],
          [
           "2020-03-03",
           "y"
          ],
          [
           "2020-03-04",
           "y"
          ],
          [
           "2020-03-05",
           "y"
          ],
          [
           "2020-03-06",
           "y"
          ],
          [
           "2020-03-07",
           "y"
          ],
          [
           "2020-03-08",
           "y"
          ],
          [
           "2020-03-09",
           "y"
          ],
          [
           "2020-03-10",
           "y"
          ],
          [
           "2020-03-11",
           "y"
          ],
          [
           "2020-03-12",
           "y"
          ],
          [
           "2020-03-13",
           "y"
          ],
          [
           "2020-03-14",
           "y"
          ],
          [
           "2020-03-15",
           "y"
          ],
          [
           "2020-03-16",
           "y"
          ],
          [
           "2020-03-17",
           "y"
          ],
          [
           "2020-03-18",
           "y"
          ],
          [
           "2020-03-19",
           "y"
          ],
          [
           "2020-03-20",
           "y"
          ],
          [
           "2020-03-21",
           "y"
          ],
          [
           "2020-03-22",
           "y"
          ],
          [
           "2020-03-23",
           "y"
          ],
          [
           "2020-03-24",
           "y"
          ],
          [
           "2020-03-25",
           "y"
          ],
          [
           "2020-03-26",
           "y"
          ],
          [
           "2020-03-27",
           "y"
          ],
          [
           "2020-03-28",
           "y"
          ],
          [
           "2020-03-29",
           "y"
          ],
          [
           "2020-03-30",
           "y"
          ],
          [
           "2020-03-31",
           "y"
          ],
          [
           "2020-04-01",
           "y"
          ],
          [
           "2020-04-02",
           "y"
          ],
          [
           "2020-04-03",
           "y"
          ],
          [
           "2020-04-04",
           "y"
          ],
          [
           "2020-04-05",
           "y"
          ],
          [
           "2020-04-06",
           "y"
          ],
          [
           "2020-04-07",
           "y"
          ],
          [
           "2020-04-08",
           "y"
          ],
          [
           "2020-04-09",
           "y"
          ],
          [
           "2020-04-10",
           "y"
          ],
          [
           "2020-04-11",
           "y"
          ],
          [
           "2020-04-12",
           "y"
          ],
          [
           "2020-04-13",
           "y"
          ],
          [
           "2020-04-14",
           "y"
          ],
          [
           "2020-04-15",
           "y"
          ],
          [
           "2020-04-16",
           "y"
          ],
          [
           "2020-04-17",
           "y"
          ],
          [
           "2020-04-18",
           "y"
          ],
          [
           "2020-04-19",
           "y"
          ],
          [
           "2020-04-20",
           "y"
          ],
          [
           "2020-04-21",
           "y"
          ],
          [
           "2020-04-22",
           "y"
          ],
          [
           "2020-04-23",
           "y"
          ],
          [
           "2020-04-24",
           "y"
          ],
          [
           "2020-04-25",
           "y"
          ],
          [
           "2020-04-26",
           "y"
          ],
          [
           "2020-04-27",
           "y"
          ],
          [
           "2020-04-28",
           "y"
          ],
          [
           "2020-04-29",
           "y"
          ],
          [
           "2020-04-30",
           "y"
          ],
          [
           "2020-05-01",
           "y"
          ],
          [
           "2020-05-02",
           "y"
          ],
          [
           "2020-05-03",
           "y"
          ],
          [
           "2020-05-04",
           "y"
          ],
          [
           "2020-05-05",
           "y"
          ],
          [
           "2020-05-06",
           "y"
          ],
          [
           "2020-05-07",
           "y"
          ],
          [
           "2020-05-08",
           "y"
          ],
          [
           "2020-05-09",
           "y"
          ],
          [
           "2020-05-10",
           "y"
          ],
          [
           "2020-05-11",
           "y"
          ],
          [
           "2020-05-12",
           "y"
          ],
          [
           "2020-05-13",
           "y"
          ],
          [
           "2020-05-14",
           "y"
          ],
          [
           "2020-05-15",
           "y"
          ],
          [
           "2020-05-16",
           "y"
          ],
          [
           "2020-05-17",
           "y"
          ],
          [
           "2020-05-18",
           "y"
          ],
          [
           "2020-05-19",
           "y"
          ],
          [
           "2020-05-20",
           "y"
          ],
          [
           "2020-05-21",
           "y"
          ],
          [
           "2020-05-22",
           "y"
          ],
          [
           "2020-05-23",
           "y"
          ],
          [
           "2020-05-24",
           "y"
          ],
          [
           "2020-05-25",
           "y"
          ],
          [
           "2020-05-26",
           "y"
          ],
          [
           "2020-05-27",
           "y"
          ],
          [
           "2020-05-28",
           "y"
          ],
          [
           "2020-05-29",
           "y"
          ],
          [
           "2020-05-30",
           "y"
          ],
          [
           "2020-05-31",
           "y"
          ],
          [
           "2020-06-01",
           "y"
          ],
          [
           "2020-06-02",
           "y"
          ],
          [
           "2020-06-03",
           "y"
          ],
          [
           "2020-06-04",
           "y"
          ],
          [
           "2020-06-05",
           "y"
          ],
          [
           "2020-06-06",
           "y"
          ],
          [
           "2020-06-07",
           "y"
          ],
          [
           "2020-06-08",
           "y"
          ],
          [
           "2020-06-09",
           "y"
          ],
          [
           "2020-06-10",
           "y"
          ],
          [
           "2020-06-11",
           "y"
          ],
          [
           "2020-06-12",
           "y"
          ],
          [
           "2020-06-13",
           "y"
          ],
          [
           "2020-06-14",
           "y"
          ],
          [
           "2020-06-15",
           "y"
          ],
          [
           "2020-06-16",
           "y"
          ],
          [
           "2020-06-17",
           "y"
          ],
          [
           "2020-06-18",
           "y"
          ],
          [
           "2020-06-19",
           "y"
          ],
          [
           "2020-06-20",
           "y"
          ],
          [
           "2020-06-21",
           "y"
          ],
          [
           "2020-06-22",
           "y"
          ],
          [
           "2020-06-23",
           "y"
          ],
          [
           "2020-06-24",
           "y"
          ],
          [
           "2020-06-25",
           "y"
          ],
          [
           "2020-06-26",
           "y"
          ],
          [
           "2020-06-27",
           "y"
          ],
          [
           "2020-06-28",
           "y"
          ],
          [
           "2020-06-29",
           "y"
          ],
          [
           "2020-06-30",
           "y"
          ],
          [
           "2020-07-01",
           "y"
          ],
          [
           "2020-07-02",
           "y"
          ],
          [
           "2020-07-03",
           "y"
          ],
          [
           "2020-07-04",
           "y"
          ],
          [
           "2020-07-05",
           "y"
          ],
          [
           "2020-07-06",
           "y"
          ],
          [
           "2020-07-07",
           "y"
          ],
          [
           "2020-07-08",
           "y"
          ],
          [
           "2020-07-09",
           "y"
          ],
          [
           "2020-07-10",
           "y"
          ],
          [
           "2020-07-11",
           "y"
          ],
          [
           "2020-07-12",
           "y"
          ],
          [
           "2020-07-13",
           "y"
          ],
          [
           "2020-07-14",
           "y"
          ],
          [
           "2020-07-15",
           "y"
          ],
          [
           "2020-07-16",
           "y"
          ],
          [
           "2020-07-17",
           "y"
          ],
          [
           "2020-07-18",
           "y"
          ],
          [
           "2020-07-19",
           "y"
          ],
          [
           "2020-07-20",
           "y"
          ],
          [
           "2020-07-21",
           "y"
          ],
          [
           "2020-07-22",
           "y"
          ],
          [
           "2020-07-23",
           "y"
          ],
          [
           "2020-07-24",
           "y"
          ],
          [
           "2020-07-25",
           "y"
          ],
          [
           "2020-07-26",
           "y"
          ],
          [
           "2020-07-27",
           "y"
          ],
          [
           "2020-07-28",
           "y"
          ],
          [
           "2020-07-29",
           "y"
          ],
          [
           "2020-07-30",
           "y"
          ],
          [
           "2020-07-31",
           "y"
          ],
          [
           "2020-08-01",
           "y"
          ],
          [
           "2020-08-02",
           "y"
          ],
          [
           "2020-08-03",
           "y"
          ],
          [
           "2020-08-04",
           "y"
          ],
          [
           "2020-08-05",
           "y"
          ],
          [
           "2020-08-06",
           "y"
          ],
          [
           "2020-08-07",
           "y"
          ],
          [
           "2020-08-08",
           "y"
          ],
          [
           "2020-08-09",
           "y"
          ],
          [
           "2020-08-10",
           "y"
          ],
          [
           "2020-08-11",
           "y"
          ],
          [
           "2020-08-12",
           "y"
          ],
          [
           "2020-08-13",
           "y"
          ],
          [
           "2020-08-14",
           "y"
          ],
          [
           "2020-08-15",
           "y"
          ],
          [
           "2020-08-16",
           "y"
          ],
          [
           "2020-08-17",
           "y"
          ],
          [
           "2020-08-18",
           "y"
          ],
          [
           "2020-08-19",
           "y"
          ],
          [
           "2020-08-20",
           "y"
          ],
          [
           "2020-08-21",
           "y"
          ],
          [
           "2020-08-22",
           "y"
          ],
          [
           "2020-08-23",
           "y"
          ],
          [
           "2020-08-24",
           "y"
          ],
          [
           "2020-08-25",
           "y"
          ],
          [
           "2020-08-26",
           "y"
          ],
          [
           "2020-08-27",
           "y"
          ],
          [
           "2020-08-28",
           "y"
          ],
          [
           "2020-08-29",
           "y"
          ],
          [
           "2020-08-30",
           "y"
          ],
          [
           "2020-08-31",
           "y"
          ],
          [
           "2020-09-01",
           "y"
          ],
          [
           "2020-09-02",
           "y"
          ],
          [
           "2020-09-03",
           "y"
          ],
          [
           "2020-09-04",
           "y"
          ],
          [
           "2020-09-05",
           "y"
          ],
          [
           "2020-09-06",
           "y"
          ],
          [
           "2020-09-07",
           "y"
          ],
          [
           "2020-09-08",
           "y"
          ],
          [
           "2020-09-09",
           "y"
          ],
          [
           "2020-09-10",
           "y"
          ],
          [
           "2020-09-11",
           "y"
          ],
          [
           "2020-09-12",
           "y"
          ],
          [
           "2020-09-13",
           "y"
          ],
          [
           "2020-09-14",
           "y"
          ],
          [
           "2020-09-15",
           "y"
          ],
          [
           "2020-09-16",
           "y"
          ],
          [
           "2020-09-17",
           "y"
          ],
          [
           "2020-09-18",
           "y"
          ],
          [
           "2020-09-19",
           "y"
          ],
          [
           "2020-09-20",
           "y"
          ],
          [
           "2020-09-21",
           "y"
          ],
          [
           "2020-09-22",
           "y"
          ],
          [
           "2020-09-23",
           "y"
          ],
          [
           "2020-09-24",
           "y"
          ],
          [
           "2020-09-25",
           "y"
          ],
          [
           "2020-09-26",
           "y"
          ],
          [
           "2020-09-27",
           "y"
          ],
          [
           "2020-09-28",
           "y"
          ],
          [
           "2020-09-29",
           "y"
          ],
          [
           "2020-09-30",
           "y"
          ],
          [
           "2020-10-01",
           "y"
          ],
          [
           "2020-10-02",
           "y"
          ],
          [
           "2020-10-03",
           "y"
          ],
          [
           "2020-10-04",
           "y"
          ],
          [
           "2020-10-05",
           "y"
          ],
          [
           "2020-10-06",
           "y"
          ],
          [
           "2020-10-07",
           "y"
          ],
          [
           "2020-10-08",
           "y"
          ],
          [
           "2020-10-09",
           "y"
          ],
          [
           "2020-10-10",
           "y"
          ],
          [
           "2020-10-11",
           "y"
          ],
          [
           "2020-10-12",
           "y"
          ],
          [
           "2020-10-13",
           "y"
          ],
          [
           "2020-10-14",
           "y"
          ],
          [
           "2020-10-15",
           "y"
          ],
          [
           "2020-10-16",
           "y"
          ],
          [
           "2020-10-17",
           "y"
          ],
          [
           "2020-10-18",
           "y"
          ],
          [
           "2020-10-19",
           "y"
          ],
          [
           "2020-10-20",
           "y"
          ],
          [
           "2020-10-21",
           "y"
          ],
          [
           "2020-10-22",
           "y"
          ],
          [
           "2020-10-23",
           "y"
          ],
          [
           "2020-10-24",
           "y"
          ],
          [
           "2020-10-25",
           "y"
          ],
          [
           "2020-10-26",
           "y"
          ],
          [
           "2020-10-27",
           "y"
          ],
          [
           "2020-10-28",
           "y"
          ],
          [
           "2020-10-29",
           "y"
          ],
          [
           "2020-10-30",
           "y"
          ],
          [
           "2020-10-31",
           "y"
          ],
          [
           "2020-11-01",
           "y"
          ],
          [
           "2020-11-02",
           "y"
          ],
          [
           "2020-11-03",
           "y"
          ],
          [
           "2020-11-04",
           "y"
          ],
          [
           "2020-11-05",
           "y"
          ],
          [
           "2020-11-06",
           "y"
          ],
          [
           "2020-11-07",
           "y"
          ],
          [
           "2020-11-08",
           "y"
          ],
          [
           "2020-11-09",
           "y"
          ],
          [
           "2020-11-10",
           "y"
          ],
          [
           "2020-11-11",
           "y"
          ],
          [
           "2020-11-12",
           "y"
          ],
          [
           "2020-11-13",
           "y"
          ],
          [
           "2020-11-14",
           "y"
          ],
          [
           "2020-11-15",
           "y"
          ],
          [
           "2020-11-16",
           "y"
          ],
          [
           "2020-11-17",
           "y"
          ],
          [
           "2020-11-18",
           "y"
          ],
          [
           "2020-11-19",
           "y"
          ],
          [
           "2020-11-20",
           "y"
          ],
          [
           "2020-11-21",
           "y"
          ],
          [
           "2020-11-22",
           "y"
          ],
          [
           "2020-11-23",
           "y"
          ],
          [
           "2020-11-24",
           "y"
          ],
          [
           "2020-11-25",
           "y"
          ],
          [
           "2020-11-26",
           "y"
          ],
          [
           "2020-11-27",
           "y"
          ],
          [
           "2020-11-28",
           "y"
          ],
          [
           "2020-11-29",
           "y"
          ],
          [
           "2020-11-30",
           "y"
          ],
          [
           "2020-12-01",
           "y"
          ],
          [
           "2020-12-02",
           "y"
          ],
          [
           "2020-12-03",
           "y"
          ],
          [
           "2020-12-04",
           "y"
          ],
          [
           "2020-12-05",
           "y"
          ],
          [
           "2020-12-06",
           "y"
          ],
          [
           "2020-12-07",
           "y"
          ],
          [
           "2020-12-08",
           "y"
          ],
          [
           "2020-12-09",
           "y"
          ],
          [
           "2020-12-10",
           "y"
          ],
          [
           "2020-12-11",
           "y"
          ],
          [
           "2020-12-12",
           "y"
          ],
          [
           "2020-12-13",
           "y"
          ],
          [
           "2020-12-14",
           "y"
          ],
          [
           "2020-12-15",
           "y"
          ],
          [
           "2020-12-16",
           "y"
          ],
          [
           "2020-12-17",
           "y"
          ],
          [
           "2020-12-18",
           "y"
          ],
          [
           "2020-12-19",
           "y"
          ],
          [
           "2020-12-20",
           "y"
          ],
          [
           "2020-12-21",
           "y"
          ],
          [
           "2020-12-22",
           "y"
          ],
          [
           "2020-12-23",
           "y"
          ],
          [
           "2020-12-24",
           "y"
          ],
          [
           "2020-12-25",
           "y"
          ],
          [
           "2020-12-26",
           "y"
          ],
          [
           "2020-12-27",
           "y"
          ],
          [
           "2020-12-28",
           "y"
          ],
          [
           "2020-12-29",
           "y"
          ],
          [
           "2020-12-30",
           "y"
          ],
          [
           "2020-12-31",
           "y"
          ]
         ],
         "hovertemplate": "%{customdata[0]} <br>Week=%{x} <br>%{customdata[1]}=%{z}",
         "name": "2020",
         "showscale": false,
         "type": "heatmap",
         "x": [
          0,
          0,
          0,
          0,
          0,
          1,
          1,
          1,
          1,
          1,
          1,
          1,
          2,
          2,
          2,
          2,
          2,
          2,
          2,
          3,
          3,
          3,
          3,
          3,
          3,
          3,
          4,
          4,
          4,
          4,
          4,
          4,
          4,
          5,
          5,
          5,
          5,
          5,
          5,
          5,
          6,
          6,
          6,
          6,
          6,
          6,
          6,
          7,
          7,
          7,
          7,
          7,
          7,
          7,
          8,
          8,
          8,
          8,
          8,
          8,
          8,
          9,
          9,
          9,
          9,
          9,
          9,
          9,
          10,
          10,
          10,
          10,
          10,
          10,
          10,
          11,
          11,
          11,
          11,
          11,
          11,
          11,
          12,
          12,
          12,
          12,
          12,
          12,
          12,
          13,
          13,
          13,
          13,
          13,
          13,
          13,
          14,
          14,
          14,
          14,
          14,
          14,
          14,
          15,
          15,
          15,
          15,
          15,
          15,
          15,
          16,
          16,
          16,
          16,
          16,
          16,
          16,
          17,
          17,
          17,
          17,
          17,
          17,
          17,
          18,
          18,
          18,
          18,
          18,
          18,
          18,
          19,
          19,
          19,
          19,
          19,
          19,
          19,
          20,
          20,
          20,
          20,
          20,
          20,
          20,
          21,
          21,
          21,
          21,
          21,
          21,
          21,
          22,
          22,
          22,
          22,
          22,
          22,
          22,
          23,
          23,
          23,
          23,
          23,
          23,
          23,
          24,
          24,
          24,
          24,
          24,
          24,
          24,
          25,
          25,
          25,
          25,
          25,
          25,
          25,
          26,
          26,
          26,
          26,
          26,
          26,
          26,
          27,
          27,
          27,
          27,
          27,
          27,
          27,
          28,
          28,
          28,
          28,
          28,
          28,
          28,
          29,
          29,
          29,
          29,
          29,
          29,
          29,
          30,
          30,
          30,
          30,
          30,
          30,
          30,
          31,
          31,
          31,
          31,
          31,
          31,
          31,
          32,
          32,
          32,
          32,
          32,
          32,
          32,
          33,
          33,
          33,
          33,
          33,
          33,
          33,
          34,
          34,
          34,
          34,
          34,
          34,
          34,
          35,
          35,
          35,
          35,
          35,
          35,
          35,
          36,
          36,
          36,
          36,
          36,
          36,
          36,
          37,
          37,
          37,
          37,
          37,
          37,
          37,
          38,
          38,
          38,
          38,
          38,
          38,
          38,
          39,
          39,
          39,
          39,
          39,
          39,
          39,
          40,
          40,
          40,
          40,
          40,
          40,
          40,
          41,
          41,
          41,
          41,
          41,
          41,
          41,
          42,
          42,
          42,
          42,
          42,
          42,
          42,
          43,
          43,
          43,
          43,
          43,
          43,
          43,
          44,
          44,
          44,
          44,
          44,
          44,
          44,
          45,
          45,
          45,
          45,
          45,
          45,
          45,
          46,
          46,
          46,
          46,
          46,
          46,
          46,
          47,
          47,
          47,
          47,
          47,
          47,
          47,
          48,
          48,
          48,
          48,
          48,
          48,
          48,
          49,
          49,
          49,
          49,
          49,
          49,
          49,
          50,
          50,
          50,
          50,
          50,
          50,
          50,
          51,
          51,
          51,
          51,
          51,
          51,
          51,
          52,
          52,
          52,
          52
         ],
         "xaxis": "x3",
         "xgap": 1,
         "y": [
          2,
          3,
          4,
          5,
          6,
          0,
          1,
          2,
          3,
          4,
          5,
          6,
          0,
          1,
          2,
          3,
          4,
          5,
          6,
          0,
          1,
          2,
          3,
          4,
          5,
          6,
          0,
          1,
          2,
          3,
          4,
          5,
          6,
          0,
          1,
          2,
          3,
          4,
          5,
          6,
          0,
          1,
          2,
          3,
          4,
          5,
          6,
          0,
          1,
          2,
          3,
          4,
          5,
          6,
          0,
          1,
          2,
          3,
          4,
          5,
          6,
          0,
          1,
          2,
          3,
          4,
          5,
          6,
          0,
          1,
          2,
          3,
          4,
          5,
          6,
          0,
          1,
          2,
          3,
          4,
          5,
          6,
          0,
          1,
          2,
          3,
          4,
          5,
          6,
          0,
          1,
          2,
          3,
          4,
          5,
          6,
          0,
          1,
          2,
          3,
          4,
          5,
          6,
          0,
          1,
          2,
          3,
          4,
          5,
          6,
          0,
          1,
          2,
          3,
          4,
          5,
          6,
          0,
          1,
          2,
          3,
          4,
          5,
          6,
          0,
          1,
          2,
          3,
          4,
          5,
          6,
          0,
          1,
          2,
          3,
          4,
          5,
          6,
          0,
          1,
          2,
          3,
          4,
          5,
          6,
          0,
          1,
          2,
          3,
          4,
          5,
          6,
          0,
          1,
          2,
          3,
          4,
          5,
          6,
          0,
          1,
          2,
          3,
          4,
          5,
          6,
          0,
          1,
          2,
          3,
          4,
          5,
          6,
          0,
          1,
          2,
          3,
          4,
          5,
          6,
          0,
          1,
          2,
          3,
          4,
          5,
          6,
          0,
          1,
          2,
          3,
          4,
          5,
          6,
          0,
          1,
          2,
          3,
          4,
          5,
          6,
          0,
          1,
          2,
          3,
          4,
          5,
          6,
          0,
          1,
          2,
          3,
          4,
          5,
          6,
          0,
          1,
          2,
          3,
          4,
          5,
          6,
          0,
          1,
          2,
          3,
          4,
          5,
          6,
          0,
          1,
          2,
          3,
          4,
          5,
          6,
          0,
          1,
          2,
          3,
          4,
          5,
          6,
          0,
          1,
          2,
          3,
          4,
          5,
          6,
          0,
          1,
          2,
          3,
          4,
          5,
          6,
          0,
          1,
          2,
          3,
          4,
          5,
          6,
          0,
          1,
          2,
          3,
          4,
          5,
          6,
          0,
          1,
          2,
          3,
          4,
          5,
          6,
          0,
          1,
          2,
          3,
          4,
          5,
          6,
          0,
          1,
          2,
          3,
          4,
          5,
          6,
          0,
          1,
          2,
          3,
          4,
          5,
          6,
          0,
          1,
          2,
          3,
          4,
          5,
          6,
          0,
          1,
          2,
          3,
          4,
          5,
          6,
          0,
          1,
          2,
          3,
          4,
          5,
          6,
          0,
          1,
          2,
          3,
          4,
          5,
          6,
          0,
          1,
          2,
          3,
          4,
          5,
          6,
          0,
          1,
          2,
          3,
          4,
          5,
          6,
          0,
          1,
          2,
          3,
          4,
          5,
          6,
          0,
          1,
          2,
          3,
          4,
          5,
          6,
          0,
          1,
          2,
          3,
          4,
          5,
          6,
          0,
          1,
          2,
          3
         ],
         "yaxis": "y3",
         "ygap": 1,
         "z": [
          6,
          5,
          5,
          7,
          8,
          1,
          2,
          5,
          4,
          8,
          7,
          12,
          9,
          8,
          6,
          4,
          8,
          3,
          4,
          7,
          3,
          8,
          5,
          10,
          12,
          8,
          4,
          5,
          8,
          6,
          7,
          7,
          3,
          7,
          2,
          1,
          3,
          11,
          5,
          6,
          6,
          8,
          5,
          5,
          3,
          9,
          6,
          8,
          5,
          null,
          4,
          null,
          3,
          6,
          2,
          5,
          4,
          11,
          5,
          8,
          3,
          5,
          3,
          4,
          7,
          7,
          10,
          7,
          9,
          6,
          3,
          4,
          7,
          6,
          9,
          11,
          4,
          3,
          14,
          6,
          2,
          3,
          4,
          6,
          1,
          2,
          6,
          5,
          5,
          1,
          5,
          2,
          1,
          3,
          2,
          9,
          3,
          5,
          2,
          2,
          3,
          3,
          null,
          2,
          3,
          3,
          6,
          5,
          1,
          3,
          3,
          3,
          8,
          2,
          2,
          2,
          6,
          2,
          5,
          2,
          1,
          5,
          null,
          8,
          null,
          2,
          3,
          3,
          3,
          3,
          5,
          4,
          2,
          3,
          4,
          null,
          3,
          null,
          6,
          5,
          4,
          5,
          5,
          1,
          2,
          2,
          1,
          4,
          4,
          5,
          2,
          4,
          4,
          null,
          4,
          5,
          null,
          4,
          null,
          4,
          1,
          2,
          3,
          2,
          2,
          1,
          1,
          3,
          6,
          4,
          6,
          6,
          4,
          1,
          1,
          4,
          2,
          null,
          null,
          3,
          2,
          3,
          2,
          4,
          5,
          2,
          5,
          3,
          4,
          null,
          2,
          2,
          1,
          2,
          5,
          4,
          5,
          8,
          3,
          8,
          null,
          9,
          7,
          7,
          5,
          6,
          6,
          1,
          6,
          7,
          6,
          7,
          7,
          11,
          2,
          4,
          2,
          6,
          4,
          3,
          7,
          null,
          4,
          3,
          5,
          7,
          5,
          5,
          1,
          5,
          4,
          7,
          4,
          7,
          8,
          2,
          1,
          3,
          8,
          4,
          3,
          5,
          9,
          2,
          7,
          4,
          3,
          9,
          12,
          7,
          8,
          4,
          2,
          1,
          4,
          10,
          4,
          6,
          2,
          4,
          4,
          5,
          3,
          8,
          4,
          4,
          7,
          4,
          3,
          4,
          3,
          1,
          4,
          4,
          6,
          4,
          8,
          4,
          4,
          7,
          4,
          10,
          9,
          4,
          4,
          8,
          5,
          4,
          5,
          1,
          8,
          7,
          3,
          6,
          4,
          2,
          5,
          7,
          4,
          4,
          3,
          6,
          4,
          6,
          1,
          8,
          3,
          5,
          4,
          4,
          6,
          2,
          3,
          4,
          4,
          9,
          7,
          3,
          7,
          4,
          5,
          5,
          5,
          6,
          1,
          7,
          4,
          6,
          6,
          12,
          3,
          1,
          3,
          3,
          1,
          2,
          4,
          2,
          4,
          3,
          3,
          5,
          4,
          3,
          10,
          12,
          6,
          3,
          4,
          7,
          7,
          4,
          8,
          5,
          3,
          5,
          2,
          4,
          3,
          null,
          3,
          2,
          6,
          3,
          6,
          null
         ],
         "zmax": 30,
         "zmin": 1
        },
        {
         "hoverinfo": "skip",
         "line": {
          "color": "#9e9e9e",
          "width": 1
         },
         "mode": "lines",
         "type": "scatter",
         "x": [
          -0.5,
          -0.5
         ],
         "xaxis": "x3",
         "y": [
          1.5,
          6.5
         ],
         "yaxis": "y3"
        },
        {
         "hoverinfo": "skip",
         "line": {
          "color": "#9e9e9e",
          "width": 1
         },
         "mode": "lines",
         "type": "scatter",
         "x": [
          -0.5,
          0.5
         ],
         "xaxis": "x3",
         "y": [
          1.5,
          1.5
         ],
         "yaxis": "y3"
        },
        {
         "hoverinfo": "skip",
         "line": {
          "color": "#9e9e9e",
          "width": 1
         },
         "mode": "lines",
         "type": "scatter",
         "x": [
          0.5,
          0.5
         ],
         "xaxis": "x3",
         "y": [
          1.5,
          -0.5
         ],
         "yaxis": "y3"
        },
        {
         "hoverinfo": "skip",
         "line": {
          "color": "#9e9e9e",
          "width": 1
         },
         "mode": "lines",
         "type": "scatter",
         "x": [
          3.5,
          3.5
         ],
         "xaxis": "x3",
         "y": [
          4.5,
          6.5
         ],
         "yaxis": "y3"
        },
        {
         "hoverinfo": "skip",
         "line": {
          "color": "#9e9e9e",
          "width": 1
         },
         "mode": "lines",
         "type": "scatter",
         "x": [
          3.5,
          4.5
         ],
         "xaxis": "x3",
         "y": [
          4.5,
          4.5
         ],
         "yaxis": "y3"
        },
        {
         "hoverinfo": "skip",
         "line": {
          "color": "#9e9e9e",
          "width": 1
         },
         "mode": "lines",
         "type": "scatter",
         "x": [
          4.5,
          4.5
         ],
         "xaxis": "x3",
         "y": [
          4.5,
          -0.5
         ],
         "yaxis": "y3"
        },
        {
         "hoverinfo": "skip",
         "line": {
          "color": "#9e9e9e",
          "width": 1
         },
         "mode": "lines",
         "type": "scatter",
         "x": [
          7.5,
          7.5
         ],
         "xaxis": "x3",
         "y": [
          5.5,
          6.5
         ],
         "yaxis": "y3"
        },
        {
         "hoverinfo": "skip",
         "line": {
          "color": "#9e9e9e",
          "width": 1
         },
         "mode": "lines",
         "type": "scatter",
         "x": [
          7.5,
          8.5
         ],
         "xaxis": "x3",
         "y": [
          5.5,
          5.5
         ],
         "yaxis": "y3"
        },
        {
         "hoverinfo": "skip",
         "line": {
          "color": "#9e9e9e",
          "width": 1
         },
         "mode": "lines",
         "type": "scatter",
         "x": [
          8.5,
          8.5
         ],
         "xaxis": "x3",
         "y": [
          5.5,
          -0.5
         ],
         "yaxis": "y3"
        },
        {
         "hoverinfo": "skip",
         "line": {
          "color": "#9e9e9e",
          "width": 1
         },
         "mode": "lines",
         "type": "scatter",
         "x": [
          12.5,
          12.5
         ],
         "xaxis": "x3",
         "y": [
          1.5,
          6.5
         ],
         "yaxis": "y3"
        },
        {
         "hoverinfo": "skip",
         "line": {
          "color": "#9e9e9e",
          "width": 1
         },
         "mode": "lines",
         "type": "scatter",
         "x": [
          12.5,
          13.5
         ],
         "xaxis": "x3",
         "y": [
          1.5,
          1.5
         ],
         "yaxis": "y3"
        },
        {
         "hoverinfo": "skip",
         "line": {
          "color": "#9e9e9e",
          "width": 1
         },
         "mode": "lines",
         "type": "scatter",
         "x": [
          13.5,
          13.5
         ],
         "xaxis": "x3",
         "y": [
          1.5,
          -0.5
         ],
         "yaxis": "y3"
        },
        {
         "hoverinfo": "skip",
         "line": {
          "color": "#9e9e9e",
          "width": 1
         },
         "mode": "lines",
         "type": "scatter",
         "x": [
          16.5,
          16.5
         ],
         "xaxis": "x3",
         "y": [
          3.5,
          6.5
         ],
         "yaxis": "y3"
        },
        {
         "hoverinfo": "skip",
         "line": {
          "color": "#9e9e9e",
          "width": 1
         },
         "mode": "lines",
         "type": "scatter",
         "x": [
          16.5,
          17.5
         ],
         "xaxis": "x3",
         "y": [
          3.5,
          3.5
         ],
         "yaxis": "y3"
        },
        {
         "hoverinfo": "skip",
         "line": {
          "color": "#9e9e9e",
          "width": 1
         },
         "mode": "lines",
         "type": "scatter",
         "x": [
          17.5,
          17.5
         ],
         "xaxis": "x3",
         "y": [
          3.5,
          -0.5
         ],
         "yaxis": "y3"
        },
        {
         "hoverinfo": "skip",
         "line": {
          "color": "#9e9e9e",
          "width": 1
         },
         "mode": "lines",
         "type": "scatter",
         "x": [
          21.5,
          21.5
         ],
         "xaxis": "x3",
         "y": [
          -0.5,
          6.5
         ],
         "yaxis": "y3"
        },
        {
         "hoverinfo": "skip",
         "line": {
          "color": "#9e9e9e",
          "width": 1
         },
         "mode": "lines",
         "type": "scatter",
         "x": [
          25.5,
          25.5
         ],
         "xaxis": "x3",
         "y": [
          1.5,
          6.5
         ],
         "yaxis": "y3"
        },
        {
         "hoverinfo": "skip",
         "line": {
          "color": "#9e9e9e",
          "width": 1
         },
         "mode": "lines",
         "type": "scatter",
         "x": [
          25.5,
          26.5
         ],
         "xaxis": "x3",
         "y": [
          1.5,
          1.5
         ],
         "yaxis": "y3"
        },
        {
         "hoverinfo": "skip",
         "line": {
          "color": "#9e9e9e",
          "width": 1
         },
         "mode": "lines",
         "type": "scatter",
         "x": [
          26.5,
          26.5
         ],
         "xaxis": "x3",
         "y": [
          1.5,
          -0.5
         ],
         "yaxis": "y3"
        },
        {
         "hoverinfo": "skip",
         "line": {
          "color": "#9e9e9e",
          "width": 1
         },
         "mode": "lines",
         "type": "scatter",
         "x": [
          29.5,
          29.5
         ],
         "xaxis": "x3",
         "y": [
          4.5,
          6.5
         ],
         "yaxis": "y3"
        },
        {
         "hoverinfo": "skip",
         "line": {
          "color": "#9e9e9e",
          "width": 1
         },
         "mode": "lines",
         "type": "scatter",
         "x": [
          29.5,
          30.5
         ],
         "xaxis": "x3",
         "y": [
          4.5,
          4.5
         ],
         "yaxis": "y3"
        },
        {
         "hoverinfo": "skip",
         "line": {
          "color": "#9e9e9e",
          "width": 1
         },
         "mode": "lines",
         "type": "scatter",
         "x": [
          30.5,
          30.5
         ],
         "xaxis": "x3",
         "y": [
          4.5,
          -0.5
         ],
         "yaxis": "y3"
        },
        {
         "hoverinfo": "skip",
         "line": {
          "color": "#9e9e9e",
          "width": 1
         },
         "mode": "lines",
         "type": "scatter",
         "x": [
          34.5,
          34.5
         ],
         "xaxis": "x3",
         "y": [
          0.5,
          6.5
         ],
         "yaxis": "y3"
        },
        {
         "hoverinfo": "skip",
         "line": {
          "color": "#9e9e9e",
          "width": 1
         },
         "mode": "lines",
         "type": "scatter",
         "x": [
          34.5,
          35.5
         ],
         "xaxis": "x3",
         "y": [
          0.5,
          0.5
         ],
         "yaxis": "y3"
        },
        {
         "hoverinfo": "skip",
         "line": {
          "color": "#9e9e9e",
          "width": 1
         },
         "mode": "lines",
         "type": "scatter",
         "x": [
          35.5,
          35.5
         ],
         "xaxis": "x3",
         "y": [
          0.5,
          -0.5
         ],
         "yaxis": "y3"
        },
        {
         "hoverinfo": "skip",
         "line": {
          "color": "#9e9e9e",
          "width": 1
         },
         "mode": "lines",
         "type": "scatter",
         "x": [
          38.5,
          38.5
         ],
         "xaxis": "x3",
         "y": [
          2.5,
          6.5
         ],
         "yaxis": "y3"
        },
        {
         "hoverinfo": "skip",
         "line": {
          "color": "#9e9e9e",
          "width": 1
         },
         "mode": "lines",
         "type": "scatter",
         "x": [
          38.5,
          39.5
         ],
         "xaxis": "x3",
         "y": [
          2.5,
          2.5
         ],
         "yaxis": "y3"
        },
        {
         "hoverinfo": "skip",
         "line": {
          "color": "#9e9e9e",
          "width": 1
         },
         "mode": "lines",
         "type": "scatter",
         "x": [
          39.5,
          39.5
         ],
         "xaxis": "x3",
         "y": [
          2.5,
          -0.5
         ],
         "yaxis": "y3"
        },
        {
         "hoverinfo": "skip",
         "line": {
          "color": "#9e9e9e",
          "width": 1
         },
         "mode": "lines",
         "type": "scatter",
         "x": [
          42.5,
          42.5
         ],
         "xaxis": "x3",
         "y": [
          5.5,
          6.5
         ],
         "yaxis": "y3"
        },
        {
         "hoverinfo": "skip",
         "line": {
          "color": "#9e9e9e",
          "width": 1
         },
         "mode": "lines",
         "type": "scatter",
         "x": [
          42.5,
          43.5
         ],
         "xaxis": "x3",
         "y": [
          5.5,
          5.5
         ],
         "yaxis": "y3"
        },
        {
         "hoverinfo": "skip",
         "line": {
          "color": "#9e9e9e",
          "width": 1
         },
         "mode": "lines",
         "type": "scatter",
         "x": [
          43.5,
          43.5
         ],
         "xaxis": "x3",
         "y": [
          5.5,
          -0.5
         ],
         "yaxis": "y3"
        },
        {
         "hoverinfo": "skip",
         "line": {
          "color": "#9e9e9e",
          "width": 1
         },
         "mode": "lines",
         "type": "scatter",
         "x": [
          47.5,
          47.5
         ],
         "xaxis": "x3",
         "y": [
          0.5,
          6.5
         ],
         "yaxis": "y3"
        },
        {
         "hoverinfo": "skip",
         "line": {
          "color": "#9e9e9e",
          "width": 1
         },
         "mode": "lines",
         "type": "scatter",
         "x": [
          47.5,
          48.5
         ],
         "xaxis": "x3",
         "y": [
          0.5,
          0.5
         ],
         "yaxis": "y3"
        },
        {
         "hoverinfo": "skip",
         "line": {
          "color": "#9e9e9e",
          "width": 1
         },
         "mode": "lines",
         "type": "scatter",
         "x": [
          48.5,
          48.5
         ],
         "xaxis": "x3",
         "y": [
          0.5,
          -0.5
         ],
         "yaxis": "y3"
        },
        {
         "colorscale": [
          [
           0,
           "rgb(247,252,245)"
          ],
          [
           0.125,
           "rgb(229,245,224)"
          ],
          [
           0.25,
           "rgb(199,233,192)"
          ],
          [
           0.375,
           "rgb(161,217,155)"
          ],
          [
           0.5,
           "rgb(116,196,118)"
          ],
          [
           0.625,
           "rgb(65,171,93)"
          ],
          [
           0.75,
           "rgb(35,139,69)"
          ],
          [
           0.875,
           "rgb(0,109,44)"
          ],
          [
           1,
           "rgb(0,68,27)"
          ]
         ],
         "customdata": [
          [
           "2021-01-01",
           "y"
          ],
          [
           "2021-01-02",
           "y"
          ],
          [
           "2021-01-03",
           "y"
          ],
          [
           "2021-01-04",
           "y"
          ],
          [
           "2021-01-05",
           "y"
          ],
          [
           "2021-01-06",
           "y"
          ],
          [
           "2021-01-07",
           "y"
          ],
          [
           "2021-01-08",
           "y"
          ],
          [
           "2021-01-09",
           "y"
          ],
          [
           "2021-01-10",
           "y"
          ],
          [
           "2021-01-11",
           "y"
          ],
          [
           "2021-01-12",
           "y"
          ],
          [
           "2021-01-13",
           "y"
          ],
          [
           "2021-01-14",
           "y"
          ],
          [
           "2021-01-15",
           "y"
          ],
          [
           "2021-01-16",
           "y"
          ],
          [
           "2021-01-17",
           "y"
          ],
          [
           "2021-01-18",
           "y"
          ],
          [
           "2021-01-19",
           "y"
          ],
          [
           "2021-01-20",
           "y"
          ],
          [
           "2021-01-21",
           "y"
          ],
          [
           "2021-01-22",
           "y"
          ],
          [
           "2021-01-23",
           "y"
          ],
          [
           "2021-01-24",
           "y"
          ],
          [
           "2021-01-25",
           "y"
          ],
          [
           "2021-01-26",
           "y"
          ],
          [
           "2021-01-27",
           "y"
          ],
          [
           "2021-01-28",
           "y"
          ],
          [
           "2021-01-29",
           "y"
          ],
          [
           "2021-01-30",
           "y"
          ],
          [
           "2021-01-31",
           "y"
          ],
          [
           "2021-02-01",
           "y"
          ],
          [
           "2021-02-02",
           "y"
          ],
          [
           "2021-02-03",
           "y"
          ],
          [
           "2021-02-04",
           "y"
          ],
          [
           "2021-02-05",
           "y"
          ],
          [
           "2021-02-06",
           "y"
          ],
          [
           "2021-02-07",
           "y"
          ],
          [
           "2021-02-08",
           "y"
          ],
          [
           "2021-02-09",
           "y"
          ],
          [
           "2021-02-10",
           "y"
          ],
          [
           "2021-02-11",
           "y"
          ],
          [
           "2021-02-12",
           "y"
          ],
          [
           "2021-02-13",
           "y"
          ],
          [
           "2021-02-14",
           "y"
          ],
          [
           "2021-02-15",
           "y"
          ],
          [
           "2021-02-16",
           "y"
          ],
          [
           "2021-02-17",
           "y"
          ],
          [
           "2021-02-18",
           "y"
          ],
          [
           "2021-02-19",
           "y"
          ],
          [
           "2021-02-20",
           "y"
          ],
          [
           "2021-02-21",
           "y"
          ],
          [
           "2021-02-22",
           "y"
          ],
          [
           "2021-02-23",
           "y"
          ],
          [
           "2021-02-24",
           "y"
          ],
          [
           "2021-02-25",
           "y"
          ],
          [
           "2021-02-26",
           "y"
          ],
          [
           "2021-02-27",
           "y"
          ],
          [
           "2021-02-28",
           "y"
          ],
          [
           "2021-03-01",
           "y"
          ],
          [
           "2021-03-02",
           "y"
          ],
          [
           "2021-03-03",
           "y"
          ],
          [
           "2021-03-04",
           "y"
          ],
          [
           "2021-03-05",
           "y"
          ],
          [
           "2021-03-06",
           "y"
          ],
          [
           "2021-03-07",
           "y"
          ],
          [
           "2021-03-08",
           "y"
          ],
          [
           "2021-03-09",
           "y"
          ],
          [
           "2021-03-10",
           "y"
          ],
          [
           "2021-03-11",
           "y"
          ],
          [
           "2021-03-12",
           "y"
          ],
          [
           "2021-03-13",
           "y"
          ],
          [
           "2021-03-14",
           "y"
          ],
          [
           "2021-03-15",
           "y"
          ],
          [
           "2021-03-16",
           "y"
          ],
          [
           "2021-03-17",
           "y"
          ],
          [
           "2021-03-18",
           "y"
          ],
          [
           "2021-03-19",
           "y"
          ],
          [
           "2021-03-20",
           "y"
          ],
          [
           "2021-03-21",
           "y"
          ],
          [
           "2021-03-22",
           "y"
          ],
          [
           "2021-03-23",
           "y"
          ],
          [
           "2021-03-24",
           "y"
          ],
          [
           "2021-03-25",
           "y"
          ],
          [
           "2021-03-26",
           "y"
          ],
          [
           "2021-03-27",
           "y"
          ],
          [
           "2021-03-28",
           "y"
          ],
          [
           "2021-03-29",
           "y"
          ],
          [
           "2021-03-30",
           "y"
          ],
          [
           "2021-03-31",
           "y"
          ],
          [
           "2021-04-01",
           "y"
          ],
          [
           "2021-04-02",
           "y"
          ],
          [
           "2021-04-03",
           "y"
          ],
          [
           "2021-04-04",
           "y"
          ],
          [
           "2021-04-05",
           "y"
          ],
          [
           "2021-04-06",
           "y"
          ],
          [
           "2021-04-07",
           "y"
          ],
          [
           "2021-04-08",
           "y"
          ],
          [
           "2021-04-09",
           "y"
          ],
          [
           "2021-04-10",
           "y"
          ],
          [
           "2021-04-11",
           "y"
          ],
          [
           "2021-04-12",
           "y"
          ],
          [
           "2021-04-13",
           "y"
          ],
          [
           "2021-04-14",
           "y"
          ],
          [
           "2021-04-15",
           "y"
          ],
          [
           "2021-04-16",
           "y"
          ],
          [
           "2021-04-17",
           "y"
          ],
          [
           "2021-04-18",
           "y"
          ],
          [
           "2021-04-19",
           "y"
          ],
          [
           "2021-04-20",
           "y"
          ],
          [
           "2021-04-21",
           "y"
          ],
          [
           "2021-04-22",
           "y"
          ],
          [
           "2021-04-23",
           "y"
          ],
          [
           "2021-04-24",
           "y"
          ],
          [
           "2021-04-25",
           "y"
          ],
          [
           "2021-04-26",
           "y"
          ],
          [
           "2021-04-27",
           "y"
          ],
          [
           "2021-04-28",
           "y"
          ],
          [
           "2021-04-29",
           "y"
          ],
          [
           "2021-04-30",
           "y"
          ],
          [
           "2021-05-01",
           "y"
          ],
          [
           "2021-05-02",
           "y"
          ],
          [
           "2021-05-03",
           "y"
          ],
          [
           "2021-05-04",
           "y"
          ],
          [
           "2021-05-05",
           "y"
          ],
          [
           "2021-05-06",
           "y"
          ],
          [
           "2021-05-07",
           "y"
          ],
          [
           "2021-05-08",
           "y"
          ],
          [
           "2021-05-09",
           "y"
          ],
          [
           "2021-05-10",
           "y"
          ],
          [
           "2021-05-11",
           "y"
          ],
          [
           "2021-05-12",
           "y"
          ],
          [
           "2021-05-13",
           "y"
          ],
          [
           "2021-05-14",
           "y"
          ],
          [
           "2021-05-15",
           "y"
          ],
          [
           "2021-05-16",
           "y"
          ],
          [
           "2021-05-17",
           "y"
          ],
          [
           "2021-05-18",
           "y"
          ],
          [
           "2021-05-19",
           "y"
          ],
          [
           "2021-05-20",
           "y"
          ],
          [
           "2021-05-21",
           "y"
          ],
          [
           "2021-05-22",
           "y"
          ],
          [
           "2021-05-23",
           "y"
          ],
          [
           "2021-05-24",
           "y"
          ],
          [
           "2021-05-25",
           "y"
          ],
          [
           "2021-05-26",
           "y"
          ],
          [
           "2021-05-27",
           "y"
          ],
          [
           "2021-05-28",
           "y"
          ],
          [
           "2021-05-29",
           "y"
          ],
          [
           "2021-05-30",
           "y"
          ],
          [
           "2021-05-31",
           "y"
          ],
          [
           "2021-06-01",
           "y"
          ],
          [
           "2021-06-02",
           "y"
          ],
          [
           "2021-06-03",
           "y"
          ],
          [
           "2021-06-04",
           "y"
          ],
          [
           "2021-06-05",
           "y"
          ],
          [
           "2021-06-06",
           "y"
          ],
          [
           "2021-06-07",
           "y"
          ],
          [
           "2021-06-08",
           "y"
          ],
          [
           "2021-06-09",
           "y"
          ],
          [
           "2021-06-10",
           "y"
          ],
          [
           "2021-06-11",
           "y"
          ],
          [
           "2021-06-12",
           "y"
          ],
          [
           "2021-06-13",
           "y"
          ],
          [
           "2021-06-14",
           "y"
          ],
          [
           "2021-06-15",
           "y"
          ],
          [
           "2021-06-16",
           "y"
          ],
          [
           "2021-06-17",
           "y"
          ],
          [
           "2021-06-18",
           "y"
          ],
          [
           "2021-06-19",
           "y"
          ],
          [
           "2021-06-20",
           "y"
          ],
          [
           "2021-06-21",
           "y"
          ],
          [
           "2021-06-22",
           "y"
          ],
          [
           "2021-06-23",
           "y"
          ],
          [
           "2021-06-24",
           "y"
          ],
          [
           "2021-06-25",
           "y"
          ],
          [
           "2021-06-26",
           "y"
          ],
          [
           "2021-06-27",
           "y"
          ],
          [
           "2021-06-28",
           "y"
          ],
          [
           "2021-06-29",
           "y"
          ],
          [
           "2021-06-30",
           "y"
          ],
          [
           "2021-07-01",
           "y"
          ],
          [
           "2021-07-02",
           "y"
          ],
          [
           "2021-07-03",
           "y"
          ],
          [
           "2021-07-04",
           "y"
          ],
          [
           "2021-07-05",
           "y"
          ],
          [
           "2021-07-06",
           "y"
          ],
          [
           "2021-07-07",
           "y"
          ],
          [
           "2021-07-08",
           "y"
          ],
          [
           "2021-07-09",
           "y"
          ],
          [
           "2021-07-10",
           "y"
          ],
          [
           "2021-07-11",
           "y"
          ],
          [
           "2021-07-12",
           "y"
          ],
          [
           "2021-07-13",
           "y"
          ],
          [
           "2021-07-14",
           "y"
          ],
          [
           "2021-07-15",
           "y"
          ],
          [
           "2021-07-16",
           "y"
          ],
          [
           "2021-07-17",
           "y"
          ],
          [
           "2021-07-18",
           "y"
          ],
          [
           "2021-07-19",
           "y"
          ],
          [
           "2021-07-20",
           "y"
          ],
          [
           "2021-07-21",
           "y"
          ],
          [
           "2021-07-22",
           "y"
          ],
          [
           "2021-07-23",
           "y"
          ],
          [
           "2021-07-24",
           "y"
          ],
          [
           "2021-07-25",
           "y"
          ],
          [
           "2021-07-26",
           "y"
          ],
          [
           "2021-07-27",
           "y"
          ],
          [
           "2021-07-28",
           "y"
          ],
          [
           "2021-07-29",
           "y"
          ],
          [
           "2021-07-30",
           "y"
          ],
          [
           "2021-07-31",
           "y"
          ],
          [
           "2021-08-01",
           "y"
          ],
          [
           "2021-08-02",
           "y"
          ],
          [
           "2021-08-03",
           "y"
          ],
          [
           "2021-08-04",
           "y"
          ],
          [
           "2021-08-05",
           "y"
          ],
          [
           "2021-08-06",
           "y"
          ],
          [
           "2021-08-07",
           "y"
          ],
          [
           "2021-08-08",
           "y"
          ],
          [
           "2021-08-09",
           "y"
          ],
          [
           "2021-08-10",
           "y"
          ],
          [
           "2021-08-11",
           "y"
          ],
          [
           "2021-08-12",
           "y"
          ],
          [
           "2021-08-13",
           "y"
          ],
          [
           "2021-08-14",
           "y"
          ],
          [
           "2021-08-15",
           "y"
          ],
          [
           "2021-08-16",
           "y"
          ],
          [
           "2021-08-17",
           "y"
          ],
          [
           "2021-08-18",
           "y"
          ],
          [
           "2021-08-19",
           "y"
          ],
          [
           "2021-08-20",
           "y"
          ],
          [
           "2021-08-21",
           "y"
          ],
          [
           "2021-08-22",
           "y"
          ],
          [
           "2021-08-23",
           "y"
          ],
          [
           "2021-08-24",
           "y"
          ],
          [
           "2021-08-25",
           "y"
          ],
          [
           "2021-08-26",
           "y"
          ],
          [
           "2021-08-27",
           "y"
          ],
          [
           "2021-08-28",
           "y"
          ],
          [
           "2021-08-29",
           "y"
          ],
          [
           "2021-08-30",
           "y"
          ],
          [
           "2021-08-31",
           "y"
          ],
          [
           "2021-09-01",
           "y"
          ],
          [
           "2021-09-02",
           "y"
          ],
          [
           "2021-09-03",
           "y"
          ],
          [
           "2021-09-04",
           "y"
          ],
          [
           "2021-09-05",
           "y"
          ],
          [
           "2021-09-06",
           "y"
          ],
          [
           "2021-09-07",
           "y"
          ],
          [
           "2021-09-08",
           "y"
          ],
          [
           "2021-09-09",
           "y"
          ],
          [
           "2021-09-10",
           "y"
          ],
          [
           "2021-09-11",
           "y"
          ],
          [
           "2021-09-12",
           "y"
          ],
          [
           "2021-09-13",
           "y"
          ],
          [
           "2021-09-14",
           "y"
          ],
          [
           "2021-09-15",
           "y"
          ],
          [
           "2021-09-16",
           "y"
          ],
          [
           "2021-09-17",
           "y"
          ],
          [
           "2021-09-18",
           "y"
          ],
          [
           "2021-09-19",
           "y"
          ],
          [
           "2021-09-20",
           "y"
          ],
          [
           "2021-09-21",
           "y"
          ],
          [
           "2021-09-22",
           "y"
          ],
          [
           "2021-09-23",
           "y"
          ],
          [
           "2021-09-24",
           "y"
          ],
          [
           "2021-09-25",
           "y"
          ],
          [
           "2021-09-26",
           "y"
          ],
          [
           "2021-09-27",
           "y"
          ],
          [
           "2021-09-28",
           "y"
          ],
          [
           "2021-09-29",
           "y"
          ],
          [
           "2021-09-30",
           "y"
          ],
          [
           "2021-10-01",
           "y"
          ],
          [
           "2021-10-02",
           "y"
          ],
          [
           "2021-10-03",
           "y"
          ],
          [
           "2021-10-04",
           "y"
          ],
          [
           "2021-10-05",
           "y"
          ],
          [
           "2021-10-06",
           "y"
          ],
          [
           "2021-10-07",
           "y"
          ],
          [
           "2021-10-08",
           "y"
          ],
          [
           "2021-10-09",
           "y"
          ],
          [
           "2021-10-10",
           "y"
          ],
          [
           "2021-10-11",
           "y"
          ],
          [
           "2021-10-12",
           "y"
          ],
          [
           "2021-10-13",
           "y"
          ],
          [
           "2021-10-14",
           "y"
          ],
          [
           "2021-10-15",
           "y"
          ],
          [
           "2021-10-16",
           "y"
          ],
          [
           "2021-10-17",
           "y"
          ],
          [
           "2021-10-18",
           "y"
          ],
          [
           "2021-10-19",
           "y"
          ],
          [
           "2021-10-20",
           "y"
          ],
          [
           "2021-10-21",
           "y"
          ],
          [
           "2021-10-22",
           "y"
          ],
          [
           "2021-10-23",
           "y"
          ],
          [
           "2021-10-24",
           "y"
          ],
          [
           "2021-10-25",
           "y"
          ],
          [
           "2021-10-26",
           "y"
          ],
          [
           "2021-10-27",
           "y"
          ],
          [
           "2021-10-28",
           "y"
          ],
          [
           "2021-10-29",
           "y"
          ],
          [
           "2021-10-30",
           "y"
          ],
          [
           "2021-10-31",
           "y"
          ],
          [
           "2021-11-01",
           "y"
          ],
          [
           "2021-11-02",
           "y"
          ],
          [
           "2021-11-03",
           "y"
          ],
          [
           "2021-11-04",
           "y"
          ],
          [
           "2021-11-05",
           "y"
          ],
          [
           "2021-11-06",
           "y"
          ],
          [
           "2021-11-07",
           "y"
          ],
          [
           "2021-11-08",
           "y"
          ],
          [
           "2021-11-09",
           "y"
          ],
          [
           "2021-11-10",
           "y"
          ],
          [
           "2021-11-11",
           "y"
          ],
          [
           "2021-11-12",
           "y"
          ],
          [
           "2021-11-13",
           "y"
          ],
          [
           "2021-11-14",
           "y"
          ],
          [
           "2021-11-15",
           "y"
          ],
          [
           "2021-11-16",
           "y"
          ],
          [
           "2021-11-17",
           "y"
          ],
          [
           "2021-11-18",
           "y"
          ],
          [
           "2021-11-19",
           "y"
          ],
          [
           "2021-11-20",
           "y"
          ],
          [
           "2021-11-21",
           "y"
          ],
          [
           "2021-11-22",
           "y"
          ],
          [
           "2021-11-23",
           "y"
          ],
          [
           "2021-11-24",
           "y"
          ],
          [
           "2021-11-25",
           "y"
          ],
          [
           "2021-11-26",
           "y"
          ],
          [
           "2021-11-27",
           "y"
          ],
          [
           "2021-11-28",
           "y"
          ],
          [
           "2021-11-29",
           "y"
          ],
          [
           "2021-11-30",
           "y"
          ],
          [
           "2021-12-01",
           "y"
          ],
          [
           "2021-12-02",
           "y"
          ],
          [
           "2021-12-03",
           "y"
          ],
          [
           "2021-12-04",
           "y"
          ],
          [
           "2021-12-05",
           "y"
          ],
          [
           "2021-12-06",
           "y"
          ],
          [
           "2021-12-07",
           "y"
          ],
          [
           "2021-12-08",
           "y"
          ],
          [
           "2021-12-09",
           "y"
          ],
          [
           "2021-12-10",
           "y"
          ],
          [
           "2021-12-11",
           "y"
          ],
          [
           "2021-12-12",
           "y"
          ],
          [
           "2021-12-13",
           "y"
          ],
          [
           "2021-12-14",
           "y"
          ],
          [
           "2021-12-15",
           "y"
          ],
          [
           "2021-12-16",
           "y"
          ],
          [
           "2021-12-17",
           "y"
          ],
          [
           "2021-12-18",
           "y"
          ],
          [
           "2021-12-19",
           "y"
          ],
          [
           "2021-12-20",
           "y"
          ],
          [
           "2021-12-21",
           "y"
          ],
          [
           "2021-12-22",
           "y"
          ],
          [
           "2021-12-23",
           "y"
          ],
          [
           "2021-12-24",
           "y"
          ],
          [
           "2021-12-25",
           "y"
          ],
          [
           "2021-12-26",
           "y"
          ],
          [
           "2021-12-27",
           "y"
          ],
          [
           "2021-12-28",
           "y"
          ],
          [
           "2021-12-29",
           "y"
          ],
          [
           "2021-12-30",
           "y"
          ],
          [
           "2021-12-31",
           "y"
          ]
         ],
         "hovertemplate": "%{customdata[0]} <br>Week=%{x} <br>%{customdata[1]}=%{z}",
         "name": "2021",
         "showscale": false,
         "type": "heatmap",
         "x": [
          0,
          0,
          0,
          1,
          1,
          1,
          1,
          1,
          1,
          1,
          2,
          2,
          2,
          2,
          2,
          2,
          2,
          3,
          3,
          3,
          3,
          3,
          3,
          3,
          4,
          4,
          4,
          4,
          4,
          4,
          4,
          5,
          5,
          5,
          5,
          5,
          5,
          5,
          6,
          6,
          6,
          6,
          6,
          6,
          6,
          7,
          7,
          7,
          7,
          7,
          7,
          7,
          8,
          8,
          8,
          8,
          8,
          8,
          8,
          9,
          9,
          9,
          9,
          9,
          9,
          9,
          10,
          10,
          10,
          10,
          10,
          10,
          10,
          11,
          11,
          11,
          11,
          11,
          11,
          11,
          12,
          12,
          12,
          12,
          12,
          12,
          12,
          13,
          13,
          13,
          13,
          13,
          13,
          13,
          14,
          14,
          14,
          14,
          14,
          14,
          14,
          15,
          15,
          15,
          15,
          15,
          15,
          15,
          16,
          16,
          16,
          16,
          16,
          16,
          16,
          17,
          17,
          17,
          17,
          17,
          17,
          17,
          18,
          18,
          18,
          18,
          18,
          18,
          18,
          19,
          19,
          19,
          19,
          19,
          19,
          19,
          20,
          20,
          20,
          20,
          20,
          20,
          20,
          21,
          21,
          21,
          21,
          21,
          21,
          21,
          22,
          22,
          22,
          22,
          22,
          22,
          22,
          23,
          23,
          23,
          23,
          23,
          23,
          23,
          24,
          24,
          24,
          24,
          24,
          24,
          24,
          25,
          25,
          25,
          25,
          25,
          25,
          25,
          26,
          26,
          26,
          26,
          26,
          26,
          26,
          27,
          27,
          27,
          27,
          27,
          27,
          27,
          28,
          28,
          28,
          28,
          28,
          28,
          28,
          29,
          29,
          29,
          29,
          29,
          29,
          29,
          30,
          30,
          30,
          30,
          30,
          30,
          30,
          31,
          31,
          31,
          31,
          31,
          31,
          31,
          32,
          32,
          32,
          32,
          32,
          32,
          32,
          33,
          33,
          33,
          33,
          33,
          33,
          33,
          34,
          34,
          34,
          34,
          34,
          34,
          34,
          35,
          35,
          35,
          35,
          35,
          35,
          35,
          36,
          36,
          36,
          36,
          36,
          36,
          36,
          37,
          37,
          37,
          37,
          37,
          37,
          37,
          38,
          38,
          38,
          38,
          38,
          38,
          38,
          39,
          39,
          39,
          39,
          39,
          39,
          39,
          40,
          40,
          40,
          40,
          40,
          40,
          40,
          41,
          41,
          41,
          41,
          41,
          41,
          41,
          42,
          42,
          42,
          42,
          42,
          42,
          42,
          43,
          43,
          43,
          43,
          43,
          43,
          43,
          44,
          44,
          44,
          44,
          44,
          44,
          44,
          45,
          45,
          45,
          45,
          45,
          45,
          45,
          46,
          46,
          46,
          46,
          46,
          46,
          46,
          47,
          47,
          47,
          47,
          47,
          47,
          47,
          48,
          48,
          48,
          48,
          48,
          48,
          48,
          49,
          49,
          49,
          49,
          49,
          49,
          49,
          50,
          50,
          50,
          50,
          50,
          50,
          50,
          51,
          51,
          51,
          51,
          51,
          51,
          51,
          52,
          52,
          52,
          52,
          52
         ],
         "xaxis": "x4",
         "xgap": 1,
         "y": [
          4,
          5,
          6,
          0,
          1,
          2,
          3,
          4,
          5,
          6,
          0,
          1,
          2,
          3,
          4,
          5,
          6,
          0,
          1,
          2,
          3,
          4,
          5,
          6,
          0,
          1,
          2,
          3,
          4,
          5,
          6,
          0,
          1,
          2,
          3,
          4,
          5,
          6,
          0,
          1,
          2,
          3,
          4,
          5,
          6,
          0,
          1,
          2,
          3,
          4,
          5,
          6,
          0,
          1,
          2,
          3,
          4,
          5,
          6,
          0,
          1,
          2,
          3,
          4,
          5,
          6,
          0,
          1,
          2,
          3,
          4,
          5,
          6,
          0,
          1,
          2,
          3,
          4,
          5,
          6,
          0,
          1,
          2,
          3,
          4,
          5,
          6,
          0,
          1,
          2,
          3,
          4,
          5,
          6,
          0,
          1,
          2,
          3,
          4,
          5,
          6,
          0,
          1,
          2,
          3,
          4,
          5,
          6,
          0,
          1,
          2,
          3,
          4,
          5,
          6,
          0,
          1,
          2,
          3,
          4,
          5,
          6,
          0,
          1,
          2,
          3,
          4,
          5,
          6,
          0,
          1,
          2,
          3,
          4,
          5,
          6,
          0,
          1,
          2,
          3,
          4,
          5,
          6,
          0,
          1,
          2,
          3,
          4,
          5,
          6,
          0,
          1,
          2,
          3,
          4,
          5,
          6,
          0,
          1,
          2,
          3,
          4,
          5,
          6,
          0,
          1,
          2,
          3,
          4,
          5,
          6,
          0,
          1,
          2,
          3,
          4,
          5,
          6,
          0,
          1,
          2,
          3,
          4,
          5,
          6,
          0,
          1,
          2,
          3,
          4,
          5,
          6,
          0,
          1,
          2,
          3,
          4,
          5,
          6,
          0,
          1,
          2,
          3,
          4,
          5,
          6,
          0,
          1,
          2,
          3,
          4,
          5,
          6,
          0,
          1,
          2,
          3,
          4,
          5,
          6,
          0,
          1,
          2,
          3,
          4,
          5,
          6,
          0,
          1,
          2,
          3,
          4,
          5,
          6,
          0,
          1,
          2,
          3,
          4,
          5,
          6,
          0,
          1,
          2,
          3,
          4,
          5,
          6,
          0,
          1,
          2,
          3,
          4,
          5,
          6,
          0,
          1,
          2,
          3,
          4,
          5,
          6,
          0,
          1,
          2,
          3,
          4,
          5,
          6,
          0,
          1,
          2,
          3,
          4,
          5,
          6,
          0,
          1,
          2,
          3,
          4,
          5,
          6,
          0,
          1,
          2,
          3,
          4,
          5,
          6,
          0,
          1,
          2,
          3,
          4,
          5,
          6,
          0,
          1,
          2,
          3,
          4,
          5,
          6,
          0,
          1,
          2,
          3,
          4,
          5,
          6,
          0,
          1,
          2,
          3,
          4,
          5,
          6,
          0,
          1,
          2,
          3,
          4,
          5,
          6,
          0,
          1,
          2,
          3,
          4,
          5,
          6,
          0,
          1,
          2,
          3,
          4,
          5,
          6,
          0,
          1,
          2,
          3,
          4,
          5,
          6,
          0,
          1,
          2,
          3,
          4,
          5,
          6,
          0,
          1,
          2,
          3,
          4,
          5,
          6,
          0,
          1,
          2,
          3,
          4
         ],
         "yaxis": "y4",
         "ygap": 1,
         "z": [
          8,
          2,
          3,
          7,
          2,
          6,
          7,
          1,
          2,
          5,
          3,
          8,
          2,
          8,
          5,
          2,
          3,
          8,
          10,
          6,
          6,
          4,
          2,
          3,
          4,
          1,
          4,
          1,
          2,
          2,
          null,
          8,
          2,
          3,
          5,
          5,
          1,
          2,
          6,
          6,
          4,
          3,
          15,
          7,
          4,
          4,
          10,
          8,
          4,
          5,
          3,
          null,
          8,
          8,
          10,
          null,
          11,
          7,
          2,
          6,
          6,
          5,
          5,
          4,
          5,
          4,
          6,
          7,
          6,
          11,
          3,
          2,
          3,
          2,
          1,
          4,
          4,
          4,
          1,
          8,
          6,
          7,
          4,
          3,
          7,
          7,
          4,
          1,
          4,
          2,
          5,
          4,
          4,
          4,
          5,
          6,
          null,
          6,
          5,
          2,
          4,
          5,
          4,
          2,
          8,
          3,
          7,
          3,
          6,
          1,
          3,
          3,
          5,
          1,
          2,
          7,
          4,
          3,
          6,
          8,
          5,
          5,
          3,
          7,
          9,
          2,
          4,
          7,
          2,
          5,
          5,
          4,
          4,
          5,
          11,
          2,
          6,
          4,
          1,
          2,
          6,
          3,
          4,
          3,
          3,
          8,
          8,
          6,
          5,
          5,
          9,
          4,
          2,
          7,
          7,
          6,
          3,
          3,
          3,
          6,
          4,
          2,
          4,
          6,
          3,
          4,
          3,
          4,
          4,
          2,
          3,
          8,
          3,
          10,
          2,
          1,
          14,
          2,
          6,
          6,
          1,
          7,
          4,
          6,
          3,
          7,
          1,
          1,
          3,
          3,
          3,
          3,
          9,
          7,
          6,
          7,
          5,
          4,
          1,
          4,
          7,
          4,
          3,
          4,
          9,
          3,
          3,
          2,
          6,
          7,
          8,
          4,
          2,
          7,
          6,
          7,
          2,
          6,
          6,
          6,
          2,
          6,
          6,
          3,
          6,
          7,
          9,
          7,
          7,
          3,
          5,
          4,
          3,
          3,
          5,
          1,
          4,
          3,
          4,
          4,
          6,
          5,
          7,
          3,
          5,
          11,
          8,
          7,
          3,
          3,
          7,
          2,
          7,
          5,
          2,
          3,
          7,
          2,
          1,
          3,
          1,
          1,
          2,
          8,
          10,
          4,
          6,
          6,
          4,
          2,
          5,
          5,
          2,
          9,
          5,
          1,
          2,
          4,
          1,
          4,
          6,
          4,
          7,
          6,
          6,
          7,
          5,
          10,
          3,
          4,
          1,
          4,
          5,
          4,
          10,
          5,
          7,
          6,
          6,
          5,
          2,
          6,
          10,
          11,
          10,
          4,
          10,
          5,
          7,
          4,
          3,
          5,
          5,
          5,
          4,
          9,
          5,
          3,
          6,
          2,
          6,
          5,
          5,
          5,
          1,
          2,
          7,
          3,
          4,
          3,
          11,
          2,
          2,
          3,
          11,
          1,
          6,
          6,
          6,
          6,
          4,
          5,
          3,
          9,
          9,
          4,
          5,
          3,
          2,
          3,
          15,
          5,
          3,
          9,
          4,
          7,
          4,
          6,
          3,
          5,
          6,
          6,
          3,
          8,
          2
         ],
         "zmax": 30,
         "zmin": 1
        },
        {
         "hoverinfo": "skip",
         "line": {
          "color": "#9e9e9e",
          "width": 1
         },
         "mode": "lines",
         "type": "scatter",
         "x": [
          -0.5,
          -0.5
         ],
         "xaxis": "x4",
         "y": [
          3.5,
          6.5
         ],
         "yaxis": "y4"
        },
        {
         "hoverinfo": "skip",
         "line": {
          "color": "#9e9e9e",
          "width": 1
         },
         "mode": "lines",
         "type": "scatter",
         "x": [
          -0.5,
          0.5
         ],
         "xaxis": "x4",
         "y": [
          3.5,
          3.5
         ],
         "yaxis": "y4"
        },
        {
         "hoverinfo": "skip",
         "line": {
          "color": "#9e9e9e",
          "width": 1
         },
         "mode": "lines",
         "type": "scatter",
         "x": [
          0.5,
          0.5
         ],
         "xaxis": "x4",
         "y": [
          3.5,
          -0.5
         ],
         "yaxis": "y4"
        },
        {
         "hoverinfo": "skip",
         "line": {
          "color": "#9e9e9e",
          "width": 1
         },
         "mode": "lines",
         "type": "scatter",
         "x": [
          4.5,
          4.5
         ],
         "xaxis": "x4",
         "y": [
          -0.5,
          6.5
         ],
         "yaxis": "y4"
        },
        {
         "hoverinfo": "skip",
         "line": {
          "color": "#9e9e9e",
          "width": 1
         },
         "mode": "lines",
         "type": "scatter",
         "x": [
          8.5,
          8.5
         ],
         "xaxis": "x4",
         "y": [
          -0.5,
          6.5
         ],
         "yaxis": "y4"
        },
        {
         "hoverinfo": "skip",
         "line": {
          "color": "#9e9e9e",
          "width": 1
         },
         "mode": "lines",
         "type": "scatter",
         "x": [
          12.5,
          12.5
         ],
         "xaxis": "x4",
         "y": [
          2.5,
          6.5
         ],
         "yaxis": "y4"
        },
        {
         "hoverinfo": "skip",
         "line": {
          "color": "#9e9e9e",
          "width": 1
         },
         "mode": "lines",
         "type": "scatter",
         "x": [
          12.5,
          13.5
         ],
         "xaxis": "x4",
         "y": [
          2.5,
          2.5
         ],
         "yaxis": "y4"
        },
        {
         "hoverinfo": "skip",
         "line": {
          "color": "#9e9e9e",
          "width": 1
         },
         "mode": "lines",
         "type": "scatter",
         "x": [
          13.5,
          13.5
         ],
         "xaxis": "x4",
         "y": [
          2.5,
          -0.5
         ],
         "yaxis": "y4"
        },
        {
         "hoverinfo": "skip",
         "line": {
          "color": "#9e9e9e",
          "width": 1
         },
         "mode": "lines",
         "type": "scatter",
         "x": [
          16.5,
          16.5
         ],
         "xaxis": "x4",
         "y": [
          4.5,
          6.5
         ],
         "yaxis": "y4"
        },
        {
         "hoverinfo": "skip",
         "line": {
          "color": "#9e9e9e",
          "width": 1
         },
         "mode": "lines",
         "type": "scatter",
         "x": [
          16.5,
          17.5
         ],
         "xaxis": "x4",
         "y": [
          4.5,
          4.5
         ],
         "yaxis": "y4"
        },
        {
         "hoverinfo": "skip",
         "line": {
          "color": "#9e9e9e",
          "width": 1
         },
         "mode": "lines",
         "type": "scatter",
         "x": [
          17.5,
          17.5
         ],
         "xaxis": "x4",
         "y": [
          4.5,
          -0.5
         ],
         "yaxis": "y4"
        },
        {
         "hoverinfo": "skip",
         "line": {
          "color": "#9e9e9e",
          "width": 1
         },
         "mode": "lines",
         "type": "scatter",
         "x": [
          21.5,
          21.5
         ],
         "xaxis": "x4",
         "y": [
          0.5,
          6.5
         ],
         "yaxis": "y4"
        },
        {
         "hoverinfo": "skip",
         "line": {
          "color": "#9e9e9e",
          "width": 1
         },
         "mode": "lines",
         "type": "scatter",
         "x": [
          21.5,
          22.5
         ],
         "xaxis": "x4",
         "y": [
          0.5,
          0.5
         ],
         "yaxis": "y4"
        },
        {
         "hoverinfo": "skip",
         "line": {
          "color": "#9e9e9e",
          "width": 1
         },
         "mode": "lines",
         "type": "scatter",
         "x": [
          22.5,
          22.5
         ],
         "xaxis": "x4",
         "y": [
          0.5,
          -0.5
         ],
         "yaxis": "y4"
        },
        {
         "hoverinfo": "skip",
         "line": {
          "color": "#9e9e9e",
          "width": 1
         },
         "mode": "lines",
         "type": "scatter",
         "x": [
          25.5,
          25.5
         ],
         "xaxis": "x4",
         "y": [
          2.5,
          6.5
         ],
         "yaxis": "y4"
        },
        {
         "hoverinfo": "skip",
         "line": {
          "color": "#9e9e9e",
          "width": 1
         },
         "mode": "lines",
         "type": "scatter",
         "x": [
          25.5,
          26.5
         ],
         "xaxis": "x4",
         "y": [
          2.5,
          2.5
         ],
         "yaxis": "y4"
        },
        {
         "hoverinfo": "skip",
         "line": {
          "color": "#9e9e9e",
          "width": 1
         },
         "mode": "lines",
         "type": "scatter",
         "x": [
          26.5,
          26.5
         ],
         "xaxis": "x4",
         "y": [
          2.5,
          -0.5
         ],
         "yaxis": "y4"
        },
        {
         "hoverinfo": "skip",
         "line": {
          "color": "#9e9e9e",
          "width": 1
         },
         "mode": "lines",
         "type": "scatter",
         "x": [
          29.5,
          29.5
         ],
         "xaxis": "x4",
         "y": [
          5.5,
          6.5
         ],
         "yaxis": "y4"
        },
        {
         "hoverinfo": "skip",
         "line": {
          "color": "#9e9e9e",
          "width": 1
         },
         "mode": "lines",
         "type": "scatter",
         "x": [
          29.5,
          30.5
         ],
         "xaxis": "x4",
         "y": [
          5.5,
          5.5
         ],
         "yaxis": "y4"
        },
        {
         "hoverinfo": "skip",
         "line": {
          "color": "#9e9e9e",
          "width": 1
         },
         "mode": "lines",
         "type": "scatter",
         "x": [
          30.5,
          30.5
         ],
         "xaxis": "x4",
         "y": [
          5.5,
          -0.5
         ],
         "yaxis": "y4"
        },
        {
         "hoverinfo": "skip",
         "line": {
          "color": "#9e9e9e",
          "width": 1
         },
         "mode": "lines",
         "type": "scatter",
         "x": [
          34.5,
          34.5
         ],
         "xaxis": "x4",
         "y": [
          1.5,
          6.5
         ],
         "yaxis": "y4"
        },
        {
         "hoverinfo": "skip",
         "line": {
          "color": "#9e9e9e",
          "width": 1
         },
         "mode": "lines",
         "type": "scatter",
         "x": [
          34.5,
          35.5
         ],
         "xaxis": "x4",
         "y": [
          1.5,
          1.5
         ],
         "yaxis": "y4"
        },
        {
         "hoverinfo": "skip",
         "line": {
          "color": "#9e9e9e",
          "width": 1
         },
         "mode": "lines",
         "type": "scatter",
         "x": [
          35.5,
          35.5
         ],
         "xaxis": "x4",
         "y": [
          1.5,
          -0.5
         ],
         "yaxis": "y4"
        },
        {
         "hoverinfo": "skip",
         "line": {
          "color": "#9e9e9e",
          "width": 1
         },
         "mode": "lines",
         "type": "scatter",
         "x": [
          38.5,
          38.5
         ],
         "xaxis": "x4",
         "y": [
          3.5,
          6.5
         ],
         "yaxis": "y4"
        },
        {
         "hoverinfo": "skip",
         "line": {
          "color": "#9e9e9e",
          "width": 1
         },
         "mode": "lines",
         "type": "scatter",
         "x": [
          38.5,
          39.5
         ],
         "xaxis": "x4",
         "y": [
          3.5,
          3.5
         ],
         "yaxis": "y4"
        },
        {
         "hoverinfo": "skip",
         "line": {
          "color": "#9e9e9e",
          "width": 1
         },
         "mode": "lines",
         "type": "scatter",
         "x": [
          39.5,
          39.5
         ],
         "xaxis": "x4",
         "y": [
          3.5,
          -0.5
         ],
         "yaxis": "y4"
        },
        {
         "hoverinfo": "skip",
         "line": {
          "color": "#9e9e9e",
          "width": 1
         },
         "mode": "lines",
         "type": "scatter",
         "x": [
          43.5,
          43.5
         ],
         "xaxis": "x4",
         "y": [
          -0.5,
          6.5
         ],
         "yaxis": "y4"
        },
        {
         "hoverinfo": "skip",
         "line": {
          "color": "#9e9e9e",
          "width": 1
         },
         "mode": "lines",
         "type": "scatter",
         "x": [
          47.5,
          47.5
         ],
         "xaxis": "x4",
         "y": [
          1.5,
          6.5
         ],
         "yaxis": "y4"
        },
        {
         "hoverinfo": "skip",
         "line": {
          "color": "#9e9e9e",
          "width": 1
         },
         "mode": "lines",
         "type": "scatter",
         "x": [
          47.5,
          48.5
         ],
         "xaxis": "x4",
         "y": [
          1.5,
          1.5
         ],
         "yaxis": "y4"
        },
        {
         "hoverinfo": "skip",
         "line": {
          "color": "#9e9e9e",
          "width": 1
         },
         "mode": "lines",
         "type": "scatter",
         "x": [
          48.5,
          48.5
         ],
         "xaxis": "x4",
         "y": [
          1.5,
          -0.5
         ],
         "yaxis": "y4"
        },
        {
         "colorscale": [
          [
           0,
           "rgb(247,252,245)"
          ],
          [
           0.125,
           "rgb(229,245,224)"
          ],
          [
           0.25,
           "rgb(199,233,192)"
          ],
          [
           0.375,
           "rgb(161,217,155)"
          ],
          [
           0.5,
           "rgb(116,196,118)"
          ],
          [
           0.625,
           "rgb(65,171,93)"
          ],
          [
           0.75,
           "rgb(35,139,69)"
          ],
          [
           0.875,
           "rgb(0,109,44)"
          ],
          [
           1,
           "rgb(0,68,27)"
          ]
         ],
         "customdata": [
          [
           "2022-01-01",
           "y"
          ],
          [
           "2022-01-02",
           "y"
          ],
          [
           "2022-01-03",
           "y"
          ],
          [
           "2022-01-04",
           "y"
          ],
          [
           "2022-01-05",
           "y"
          ],
          [
           "2022-01-06",
           "y"
          ],
          [
           "2022-01-07",
           "y"
          ],
          [
           "2022-01-08",
           "y"
          ],
          [
           "2022-01-09",
           "y"
          ],
          [
           "2022-01-10",
           "y"
          ],
          [
           "2022-01-11",
           "y"
          ],
          [
           "2022-01-12",
           "y"
          ],
          [
           "2022-01-13",
           "y"
          ],
          [
           "2022-01-14",
           "y"
          ],
          [
           "2022-01-15",
           "y"
          ],
          [
           "2022-01-16",
           "y"
          ],
          [
           "2022-01-17",
           "y"
          ],
          [
           "2022-01-18",
           "y"
          ],
          [
           "2022-01-19",
           "y"
          ],
          [
           "2022-01-20",
           "y"
          ],
          [
           "2022-01-21",
           "y"
          ],
          [
           "2022-01-22",
           "y"
          ],
          [
           "2022-01-23",
           "y"
          ],
          [
           "2022-01-24",
           "y"
          ],
          [
           "2022-01-25",
           "y"
          ],
          [
           "2022-01-26",
           "y"
          ],
          [
           "2022-01-27",
           "y"
          ],
          [
           "2022-01-28",
           "y"
          ],
          [
           "2022-01-29",
           "y"
          ],
          [
           "2022-01-30",
           "y"
          ],
          [
           "2022-01-31",
           "y"
          ],
          [
           "2022-02-01",
           "y"
          ],
          [
           "2022-02-02",
           "y"
          ],
          [
           "2022-02-03",
           "y"
          ],
          [
           "2022-02-04",
           "y"
          ],
          [
           "2022-02-05",
           "y"
          ],
          [
           "2022-02-06",
           "y"
          ],
          [
           "2022-02-07",
           "y"
          ],
          [
           "2022-02-08",
           "y"
          ],
          [
           "2022-02-09",
           "y"
          ],
          [
           "2022-02-10",
           "y"
          ],
          [
           "2022-02-11",
           "y"
          ],
          [
           "2022-02-12",
           "y"
          ],
          [
           "2022-02-13",
           "y"
          ],
          [
           "2022-02-14",
           "y"
          ],
          [
           "2022-02-15",
           "y"
          ],
          [
           "2022-02-16",
           "y"
          ],
          [
           "2022-02-17",
           "y"
          ],
          [
           "2022-02-18",
           "y"
          ],
          [
           "2022-02-19",
           "y"
          ],
          [
           "2022-02-20",
           "y"
          ],
          [
           "2022-02-21",
           "y"
          ],
          [
           "2022-02-22",
           "y"
          ],
          [
           "2022-02-23",
           "y"
          ],
          [
           "2022-02-24",
           "y"
          ],
          [
           "2022-02-25",
           "y"
          ],
          [
           "2022-02-26",
           "y"
          ],
          [
           "2022-02-27",
           "y"
          ],
          [
           "2022-02-28",
           "y"
          ],
          [
           "2022-03-01",
           "y"
          ],
          [
           "2022-03-02",
           "y"
          ],
          [
           "2022-03-03",
           "y"
          ],
          [
           "2022-03-04",
           "y"
          ],
          [
           "2022-03-05",
           "y"
          ],
          [
           "2022-03-06",
           "y"
          ],
          [
           "2022-03-07",
           "y"
          ],
          [
           "2022-03-08",
           "y"
          ],
          [
           "2022-03-09",
           "y"
          ],
          [
           "2022-03-10",
           "y"
          ],
          [
           "2022-03-11",
           "y"
          ],
          [
           "2022-03-12",
           "y"
          ],
          [
           "2022-03-13",
           "y"
          ],
          [
           "2022-03-14",
           "y"
          ],
          [
           "2022-03-15",
           "y"
          ],
          [
           "2022-03-16",
           "y"
          ],
          [
           "2022-03-17",
           "y"
          ],
          [
           "2022-03-18",
           "y"
          ],
          [
           "2022-03-19",
           "y"
          ],
          [
           "2022-03-20",
           "y"
          ],
          [
           "2022-03-21",
           "y"
          ],
          [
           "2022-03-22",
           "y"
          ],
          [
           "2022-03-23",
           "y"
          ],
          [
           "2022-03-24",
           "y"
          ],
          [
           "2022-03-25",
           "y"
          ],
          [
           "2022-03-26",
           "y"
          ],
          [
           "2022-03-27",
           "y"
          ],
          [
           "2022-03-28",
           "y"
          ],
          [
           "2022-03-29",
           "y"
          ],
          [
           "2022-03-30",
           "y"
          ],
          [
           "2022-03-31",
           "y"
          ],
          [
           "2022-04-01",
           "y"
          ],
          [
           "2022-04-02",
           "y"
          ],
          [
           "2022-04-03",
           "y"
          ],
          [
           "2022-04-04",
           "y"
          ],
          [
           "2022-04-05",
           "y"
          ],
          [
           "2022-04-06",
           "y"
          ],
          [
           "2022-04-07",
           "y"
          ],
          [
           "2022-04-08",
           "y"
          ],
          [
           "2022-04-09",
           "y"
          ],
          [
           "2022-04-10",
           "y"
          ],
          [
           "2022-04-11",
           "y"
          ],
          [
           "2022-04-12",
           "y"
          ],
          [
           "2022-04-13",
           "y"
          ],
          [
           "2022-04-14",
           "y"
          ],
          [
           "2022-04-15",
           "y"
          ],
          [
           "2022-04-16",
           "y"
          ],
          [
           "2022-04-17",
           "y"
          ],
          [
           "2022-04-18",
           "y"
          ],
          [
           "2022-04-19",
           "y"
          ],
          [
           "2022-04-20",
           "y"
          ],
          [
           "2022-04-21",
           "y"
          ],
          [
           "2022-04-22",
           "y"
          ],
          [
           "2022-04-23",
           "y"
          ],
          [
           "2022-04-24",
           "y"
          ],
          [
           "2022-04-25",
           "y"
          ],
          [
           "2022-04-26",
           "y"
          ],
          [
           "2022-04-27",
           "y"
          ],
          [
           "2022-04-28",
           "y"
          ],
          [
           "2022-04-29",
           "y"
          ],
          [
           "2022-04-30",
           "y"
          ],
          [
           "2022-05-01",
           "y"
          ],
          [
           "2022-05-02",
           "y"
          ],
          [
           "2022-05-03",
           "y"
          ],
          [
           "2022-05-04",
           "y"
          ],
          [
           "2022-05-05",
           "y"
          ],
          [
           "2022-05-06",
           "y"
          ],
          [
           "2022-05-07",
           "y"
          ],
          [
           "2022-05-08",
           "y"
          ],
          [
           "2022-05-09",
           "y"
          ],
          [
           "2022-05-10",
           "y"
          ],
          [
           "2022-05-11",
           "y"
          ],
          [
           "2022-05-12",
           "y"
          ],
          [
           "2022-05-13",
           "y"
          ],
          [
           "2022-05-14",
           "y"
          ],
          [
           "2022-05-15",
           "y"
          ],
          [
           "2022-05-16",
           "y"
          ],
          [
           "2022-05-17",
           "y"
          ],
          [
           "2022-05-18",
           "y"
          ],
          [
           "2022-05-19",
           "y"
          ],
          [
           "2022-05-20",
           "y"
          ],
          [
           "2022-05-21",
           "y"
          ],
          [
           "2022-05-22",
           "y"
          ],
          [
           "2022-05-23",
           "y"
          ],
          [
           "2022-05-24",
           "y"
          ],
          [
           "2022-05-25",
           "y"
          ],
          [
           "2022-05-26",
           "y"
          ],
          [
           "2022-05-27",
           "y"
          ],
          [
           "2022-05-28",
           "y"
          ],
          [
           "2022-05-29",
           "y"
          ],
          [
           "2022-05-30",
           "y"
          ],
          [
           "2022-05-31",
           "y"
          ],
          [
           "2022-06-01",
           "y"
          ],
          [
           "2022-06-02",
           "y"
          ],
          [
           "2022-06-03",
           "y"
          ],
          [
           "2022-06-04",
           "y"
          ],
          [
           "2022-06-05",
           "y"
          ],
          [
           "2022-06-06",
           "y"
          ],
          [
           "2022-06-07",
           "y"
          ],
          [
           "2022-06-08",
           "y"
          ],
          [
           "2022-06-09",
           "y"
          ],
          [
           "2022-06-10",
           "y"
          ],
          [
           "2022-06-11",
           "y"
          ],
          [
           "2022-06-12",
           "y"
          ],
          [
           "2022-06-13",
           "y"
          ],
          [
           "2022-06-14",
           "y"
          ],
          [
           "2022-06-15",
           "y"
          ],
          [
           "2022-06-16",
           "y"
          ],
          [
           "2022-06-17",
           "y"
          ],
          [
           "2022-06-18",
           "y"
          ],
          [
           "2022-06-19",
           "y"
          ],
          [
           "2022-06-20",
           "y"
          ],
          [
           "2022-06-21",
           "y"
          ],
          [
           "2022-06-22",
           "y"
          ],
          [
           "2022-06-23",
           "y"
          ],
          [
           "2022-06-24",
           "y"
          ],
          [
           "2022-06-25",
           "y"
          ],
          [
           "2022-06-26",
           "y"
          ],
          [
           "2022-06-27",
           "y"
          ],
          [
           "2022-06-28",
           "y"
          ],
          [
           "2022-06-29",
           "y"
          ],
          [
           "2022-06-30",
           "y"
          ],
          [
           "2022-07-01",
           "y"
          ],
          [
           "2022-07-02",
           "y"
          ],
          [
           "2022-07-03",
           "y"
          ],
          [
           "2022-07-04",
           "y"
          ],
          [
           "2022-07-05",
           "y"
          ],
          [
           "2022-07-06",
           "y"
          ],
          [
           "2022-07-07",
           "y"
          ],
          [
           "2022-07-08",
           "y"
          ],
          [
           "2022-07-09",
           "y"
          ],
          [
           "2022-07-10",
           "y"
          ],
          [
           "2022-07-11",
           "y"
          ],
          [
           "2022-07-12",
           "y"
          ],
          [
           "2022-07-13",
           "y"
          ],
          [
           "2022-07-14",
           "y"
          ],
          [
           "2022-07-15",
           "y"
          ],
          [
           "2022-07-16",
           "y"
          ],
          [
           "2022-07-17",
           "y"
          ],
          [
           "2022-07-18",
           "y"
          ],
          [
           "2022-07-19",
           "y"
          ],
          [
           "2022-07-20",
           "y"
          ],
          [
           "2022-07-21",
           "y"
          ],
          [
           "2022-07-22",
           "y"
          ],
          [
           "2022-07-23",
           "y"
          ],
          [
           "2022-07-24",
           "y"
          ],
          [
           "2022-07-25",
           "y"
          ],
          [
           "2022-07-26",
           "y"
          ],
          [
           "2022-07-27",
           "y"
          ],
          [
           "2022-07-28",
           "y"
          ],
          [
           "2022-07-29",
           "y"
          ],
          [
           "2022-07-30",
           "y"
          ],
          [
           "2022-07-31",
           "y"
          ],
          [
           "2022-08-01",
           "y"
          ],
          [
           "2022-08-02",
           "y"
          ],
          [
           "2022-08-03",
           "y"
          ],
          [
           "2022-08-04",
           "y"
          ],
          [
           "2022-08-05",
           "y"
          ],
          [
           "2022-08-06",
           "y"
          ],
          [
           "2022-08-07",
           "y"
          ],
          [
           "2022-08-08",
           "y"
          ],
          [
           "2022-08-09",
           "y"
          ],
          [
           "2022-08-10",
           "y"
          ],
          [
           "2022-08-11",
           "y"
          ],
          [
           "2022-08-12",
           "y"
          ],
          [
           "2022-08-13",
           "y"
          ],
          [
           "2022-08-14",
           "y"
          ],
          [
           "2022-08-15",
           "y"
          ],
          [
           "2022-08-16",
           "y"
          ],
          [
           "2022-08-17",
           "y"
          ],
          [
           "2022-08-18",
           "y"
          ],
          [
           "2022-08-19",
           "y"
          ],
          [
           "2022-08-20",
           "y"
          ],
          [
           "2022-08-21",
           "y"
          ],
          [
           "2022-08-22",
           "y"
          ],
          [
           "2022-08-23",
           "y"
          ],
          [
           "2022-08-24",
           "y"
          ],
          [
           "2022-08-25",
           "y"
          ],
          [
           "2022-08-26",
           "y"
          ],
          [
           "2022-08-27",
           "y"
          ],
          [
           "2022-08-28",
           "y"
          ],
          [
           "2022-08-29",
           "y"
          ],
          [
           "2022-08-30",
           "y"
          ],
          [
           "2022-08-31",
           "y"
          ],
          [
           "2022-09-01",
           "y"
          ],
          [
           "2022-09-02",
           "y"
          ],
          [
           "2022-09-03",
           "y"
          ],
          [
           "2022-09-04",
           "y"
          ],
          [
           "2022-09-05",
           "y"
          ],
          [
           "2022-09-06",
           "y"
          ],
          [
           "2022-09-07",
           "y"
          ],
          [
           "2022-09-08",
           "y"
          ],
          [
           "2022-09-09",
           "y"
          ],
          [
           "2022-09-10",
           "y"
          ],
          [
           "2022-09-11",
           "y"
          ],
          [
           "2022-09-12",
           "y"
          ],
          [
           "2022-09-13",
           "y"
          ],
          [
           "2022-09-14",
           "y"
          ],
          [
           "2022-09-15",
           "y"
          ],
          [
           "2022-09-16",
           "y"
          ],
          [
           "2022-09-17",
           "y"
          ],
          [
           "2022-09-18",
           "y"
          ],
          [
           "2022-09-19",
           "y"
          ],
          [
           "2022-09-20",
           "y"
          ],
          [
           "2022-09-21",
           "y"
          ],
          [
           "2022-09-22",
           "y"
          ],
          [
           "2022-09-23",
           "y"
          ],
          [
           "2022-09-24",
           "y"
          ],
          [
           "2022-09-25",
           "y"
          ],
          [
           "2022-09-26",
           "y"
          ],
          [
           "2022-09-27",
           "y"
          ],
          [
           "2022-09-28",
           "y"
          ],
          [
           "2022-09-29",
           "y"
          ],
          [
           "2022-09-30",
           "y"
          ],
          [
           "2022-10-01",
           "y"
          ],
          [
           "2022-10-02",
           "y"
          ],
          [
           "2022-10-03",
           "y"
          ],
          [
           "2022-10-04",
           "y"
          ],
          [
           "2022-10-05",
           "y"
          ],
          [
           "2022-10-06",
           "y"
          ],
          [
           "2022-10-07",
           "y"
          ],
          [
           "2022-10-08",
           "y"
          ],
          [
           "2022-10-09",
           "y"
          ],
          [
           "2022-10-10",
           "y"
          ],
          [
           "2022-10-11",
           "y"
          ],
          [
           "2022-10-12",
           "y"
          ],
          [
           "2022-10-13",
           "y"
          ],
          [
           "2022-10-14",
           "y"
          ],
          [
           "2022-10-15",
           "y"
          ],
          [
           "2022-10-16",
           "y"
          ],
          [
           "2022-10-17",
           "y"
          ],
          [
           "2022-10-18",
           "y"
          ],
          [
           "2022-10-19",
           "y"
          ],
          [
           "2022-10-20",
           "y"
          ],
          [
           "2022-10-21",
           "y"
          ],
          [
           "2022-10-22",
           "y"
          ],
          [
           "2022-10-23",
           "y"
          ],
          [
           "2022-10-24",
           "y"
          ],
          [
           "2022-10-25",
           "y"
          ],
          [
           "2022-10-26",
           "y"
          ],
          [
           "2022-10-27",
           "y"
          ],
          [
           "2022-10-28",
           "y"
          ],
          [
           "2022-10-29",
           "y"
          ],
          [
           "2022-10-30",
           "y"
          ],
          [
           "2022-10-31",
           "y"
          ],
          [
           "2022-11-01",
           "y"
          ],
          [
           "2022-11-02",
           "y"
          ],
          [
           "2022-11-03",
           "y"
          ],
          [
           "2022-11-04",
           "y"
          ],
          [
           "2022-11-05",
           "y"
          ],
          [
           "2022-11-06",
           "y"
          ],
          [
           "2022-11-07",
           "y"
          ],
          [
           "2022-11-08",
           "y"
          ],
          [
           "2022-11-09",
           "y"
          ],
          [
           "2022-11-10",
           "y"
          ],
          [
           "2022-11-11",
           "y"
          ],
          [
           "2022-11-12",
           "y"
          ],
          [
           "2022-11-13",
           "y"
          ],
          [
           "2022-11-14",
           "y"
          ],
          [
           "2022-11-15",
           "y"
          ],
          [
           "2022-11-16",
           "y"
          ],
          [
           "2022-11-17",
           "y"
          ],
          [
           "2022-11-18",
           "y"
          ],
          [
           "2022-11-19",
           "y"
          ],
          [
           "2022-11-20",
           "y"
          ],
          [
           "2022-11-21",
           "y"
          ],
          [
           "2022-11-22",
           "y"
          ],
          [
           "2022-11-23",
           "y"
          ],
          [
           "2022-11-24",
           "y"
          ],
          [
           "2022-11-25",
           "y"
          ],
          [
           "2022-11-26",
           "y"
          ],
          [
           "2022-11-27",
           "y"
          ],
          [
           "2022-11-28",
           "y"
          ],
          [
           "2022-11-29",
           "y"
          ],
          [
           "2022-11-30",
           "y"
          ],
          [
           "2022-12-01",
           "y"
          ],
          [
           "2022-12-02",
           "y"
          ],
          [
           "2022-12-03",
           "y"
          ],
          [
           "2022-12-04",
           "y"
          ],
          [
           "2022-12-05",
           "y"
          ],
          [
           "2022-12-06",
           "y"
          ],
          [
           "2022-12-07",
           "y"
          ],
          [
           "2022-12-08",
           "y"
          ],
          [
           "2022-12-09",
           "y"
          ],
          [
           "2022-12-10",
           "y"
          ],
          [
           "2022-12-11",
           "y"
          ],
          [
           "2022-12-12",
           "y"
          ],
          [
           "2022-12-13",
           "y"
          ],
          [
           "2022-12-14",
           "y"
          ],
          [
           "2022-12-15",
           "y"
          ],
          [
           "2022-12-16",
           "y"
          ],
          [
           "2022-12-17",
           "y"
          ],
          [
           "2022-12-18",
           "y"
          ],
          [
           "2022-12-19",
           "y"
          ],
          [
           "2022-12-20",
           "y"
          ],
          [
           "2022-12-21",
           "y"
          ],
          [
           "2022-12-22",
           "y"
          ],
          [
           "2022-12-23",
           "y"
          ],
          [
           "2022-12-24",
           "y"
          ],
          [
           "2022-12-25",
           "y"
          ],
          [
           "2022-12-26",
           "y"
          ],
          [
           "2022-12-27",
           "y"
          ],
          [
           "2022-12-28",
           "y"
          ],
          [
           "2022-12-29",
           "y"
          ],
          [
           "2022-12-30",
           "y"
          ],
          [
           "2022-12-31",
           "y"
          ]
         ],
         "hovertemplate": "%{customdata[0]} <br>Week=%{x} <br>%{customdata[1]}=%{z}",
         "name": "2022",
         "showscale": false,
         "type": "heatmap",
         "x": [
          0,
          0,
          1,
          1,
          1,
          1,
          1,
          1,
          1,
          2,
          2,
          2,
          2,
          2,
          2,
          2,
          3,
          3,
          3,
          3,
          3,
          3,
          3,
          4,
          4,
          4,
          4,
          4,
          4,
          4,
          5,
          5,
          5,
          5,
          5,
          5,
          5,
          6,
          6,
          6,
          6,
          6,
          6,
          6,
          7,
          7,
          7,
          7,
          7,
          7,
          7,
          8,
          8,
          8,
          8,
          8,
          8,
          8,
          9,
          9,
          9,
          9,
          9,
          9,
          9,
          10,
          10,
          10,
          10,
          10,
          10,
          10,
          11,
          11,
          11,
          11,
          11,
          11,
          11,
          12,
          12,
          12,
          12,
          12,
          12,
          12,
          13,
          13,
          13,
          13,
          13,
          13,
          13,
          14,
          14,
          14,
          14,
          14,
          14,
          14,
          15,
          15,
          15,
          15,
          15,
          15,
          15,
          16,
          16,
          16,
          16,
          16,
          16,
          16,
          17,
          17,
          17,
          17,
          17,
          17,
          17,
          18,
          18,
          18,
          18,
          18,
          18,
          18,
          19,
          19,
          19,
          19,
          19,
          19,
          19,
          20,
          20,
          20,
          20,
          20,
          20,
          20,
          21,
          21,
          21,
          21,
          21,
          21,
          21,
          22,
          22,
          22,
          22,
          22,
          22,
          22,
          23,
          23,
          23,
          23,
          23,
          23,
          23,
          24,
          24,
          24,
          24,
          24,
          24,
          24,
          25,
          25,
          25,
          25,
          25,
          25,
          25,
          26,
          26,
          26,
          26,
          26,
          26,
          26,
          27,
          27,
          27,
          27,
          27,
          27,
          27,
          28,
          28,
          28,
          28,
          28,
          28,
          28,
          29,
          29,
          29,
          29,
          29,
          29,
          29,
          30,
          30,
          30,
          30,
          30,
          30,
          30,
          31,
          31,
          31,
          31,
          31,
          31,
          31,
          32,
          32,
          32,
          32,
          32,
          32,
          32,
          33,
          33,
          33,
          33,
          33,
          33,
          33,
          34,
          34,
          34,
          34,
          34,
          34,
          34,
          35,
          35,
          35,
          35,
          35,
          35,
          35,
          36,
          36,
          36,
          36,
          36,
          36,
          36,
          37,
          37,
          37,
          37,
          37,
          37,
          37,
          38,
          38,
          38,
          38,
          38,
          38,
          38,
          39,
          39,
          39,
          39,
          39,
          39,
          39,
          40,
          40,
          40,
          40,
          40,
          40,
          40,
          41,
          41,
          41,
          41,
          41,
          41,
          41,
          42,
          42,
          42,
          42,
          42,
          42,
          42,
          43,
          43,
          43,
          43,
          43,
          43,
          43,
          44,
          44,
          44,
          44,
          44,
          44,
          44,
          45,
          45,
          45,
          45,
          45,
          45,
          45,
          46,
          46,
          46,
          46,
          46,
          46,
          46,
          47,
          47,
          47,
          47,
          47,
          47,
          47,
          48,
          48,
          48,
          48,
          48,
          48,
          48,
          49,
          49,
          49,
          49,
          49,
          49,
          49,
          50,
          50,
          50,
          50,
          50,
          50,
          50,
          51,
          51,
          51,
          51,
          51,
          51,
          51,
          52,
          52,
          52,
          52,
          52,
          52
         ],
         "xaxis": "x5",
         "xgap": 1,
         "y": [
          5,
          6,
          0,
          1,
          2,
          3,
          4,
          5,
          6,
          0,
          1,
          2,
          3,
          4,
          5,
          6,
          0,
          1,
          2,
          3,
          4,
          5,
          6,
          0,
          1,
          2,
          3,
          4,
          5,
          6,
          0,
          1,
          2,
          3,
          4,
          5,
          6,
          0,
          1,
          2,
          3,
          4,
          5,
          6,
          0,
          1,
          2,
          3,
          4,
          5,
          6,
          0,
          1,
          2,
          3,
          4,
          5,
          6,
          0,
          1,
          2,
          3,
          4,
          5,
          6,
          0,
          1,
          2,
          3,
          4,
          5,
          6,
          0,
          1,
          2,
          3,
          4,
          5,
          6,
          0,
          1,
          2,
          3,
          4,
          5,
          6,
          0,
          1,
          2,
          3,
          4,
          5,
          6,
          0,
          1,
          2,
          3,
          4,
          5,
          6,
          0,
          1,
          2,
          3,
          4,
          5,
          6,
          0,
          1,
          2,
          3,
          4,
          5,
          6,
          0,
          1,
          2,
          3,
          4,
          5,
          6,
          0,
          1,
          2,
          3,
          4,
          5,
          6,
          0,
          1,
          2,
          3,
          4,
          5,
          6,
          0,
          1,
          2,
          3,
          4,
          5,
          6,
          0,
          1,
          2,
          3,
          4,
          5,
          6,
          0,
          1,
          2,
          3,
          4,
          5,
          6,
          0,
          1,
          2,
          3,
          4,
          5,
          6,
          0,
          1,
          2,
          3,
          4,
          5,
          6,
          0,
          1,
          2,
          3,
          4,
          5,
          6,
          0,
          1,
          2,
          3,
          4,
          5,
          6,
          0,
          1,
          2,
          3,
          4,
          5,
          6,
          0,
          1,
          2,
          3,
          4,
          5,
          6,
          0,
          1,
          2,
          3,
          4,
          5,
          6,
          0,
          1,
          2,
          3,
          4,
          5,
          6,
          0,
          1,
          2,
          3,
          4,
          5,
          6,
          0,
          1,
          2,
          3,
          4,
          5,
          6,
          0,
          1,
          2,
          3,
          4,
          5,
          6,
          0,
          1,
          2,
          3,
          4,
          5,
          6,
          0,
          1,
          2,
          3,
          4,
          5,
          6,
          0,
          1,
          2,
          3,
          4,
          5,
          6,
          0,
          1,
          2,
          3,
          4,
          5,
          6,
          0,
          1,
          2,
          3,
          4,
          5,
          6,
          0,
          1,
          2,
          3,
          4,
          5,
          6,
          0,
          1,
          2,
          3,
          4,
          5,
          6,
          0,
          1,
          2,
          3,
          4,
          5,
          6,
          0,
          1,
          2,
          3,
          4,
          5,
          6,
          0,
          1,
          2,
          3,
          4,
          5,
          6,
          0,
          1,
          2,
          3,
          4,
          5,
          6,
          0,
          1,
          2,
          3,
          4,
          5,
          6,
          0,
          1,
          2,
          3,
          4,
          5,
          6,
          0,
          1,
          2,
          3,
          4,
          5,
          6,
          0,
          1,
          2,
          3,
          4,
          5,
          6,
          0,
          1,
          2,
          3,
          4,
          5,
          6,
          0,
          1,
          2,
          3,
          4,
          5,
          6,
          0,
          1,
          2,
          3,
          4,
          5,
          6,
          0,
          1,
          2,
          3,
          4,
          5
         ],
         "yaxis": "y5",
         "ygap": 1,
         "z": [
          3,
          6,
          10,
          2,
          6,
          3,
          4,
          2,
          3,
          6,
          5,
          3,
          4,
          8,
          8,
          3,
          5,
          3,
          1,
          3,
          4,
          4,
          8,
          8,
          7,
          5,
          5,
          3,
          6,
          3,
          5,
          7,
          7,
          3,
          6,
          2,
          5,
          4,
          3,
          4,
          4,
          12,
          5,
          4,
          5,
          3,
          4,
          5,
          7,
          8,
          5,
          1,
          3,
          7,
          6,
          6,
          3,
          6,
          5,
          4,
          3,
          2,
          4,
          4,
          2,
          3,
          15,
          5,
          4,
          4,
          7,
          8,
          5,
          4,
          3,
          4,
          5,
          8,
          3,
          5,
          3,
          3,
          3,
          5,
          12,
          7,
          6,
          7,
          7,
          4,
          4,
          5,
          3,
          4,
          6,
          6,
          5,
          7,
          1,
          4,
          6,
          3,
          3,
          5,
          1,
          8,
          2,
          4,
          7,
          3,
          5,
          13,
          9,
          2,
          5,
          3,
          7,
          6,
          4,
          8,
          3,
          3,
          7,
          4,
          8,
          3,
          3,
          4,
          5,
          3,
          7,
          6,
          6,
          14,
          6,
          2,
          7,
          5,
          3,
          7,
          5,
          3,
          3,
          5,
          null,
          5,
          2,
          7,
          7,
          8,
          4,
          6,
          1,
          4,
          5,
          null,
          7,
          4,
          7,
          null,
          5,
          6,
          8,
          5,
          3,
          9,
          7,
          4,
          5,
          7,
          3,
          7,
          5,
          7,
          6,
          30,
          3,
          4,
          4,
          5,
          1,
          8,
          7,
          4,
          null,
          3,
          8,
          5,
          6,
          6,
          7,
          7,
          9,
          9,
          3,
          11,
          12,
          15,
          4,
          2,
          3,
          6,
          6,
          10,
          2,
          4,
          1,
          6,
          6,
          5,
          4,
          9,
          3,
          5,
          7,
          1,
          11,
          7,
          4,
          2,
          6,
          3,
          8,
          9,
          4,
          6,
          9,
          4,
          7,
          1,
          4,
          8,
          8,
          4,
          6,
          3,
          6,
          6,
          3,
          7,
          6,
          2,
          2,
          null,
          2,
          null,
          null,
          null,
          null,
          null,
          null,
          null,
          null,
          null,
          1,
          null,
          null,
          1,
          null,
          null,
          null,
          null,
          null,
          null,
          null,
          null,
          3,
          null,
          1,
          null,
          1,
          null,
          8,
          9,
          7,
          null,
          9,
          3,
          3,
          7,
          10,
          9,
          6,
          3,
          4,
          5,
          4,
          8,
          4,
          5,
          6,
          6,
          4,
          9,
          10,
          2,
          5,
          7,
          5,
          4,
          17,
          15,
          2,
          7,
          6,
          6,
          5,
          9,
          9,
          4,
          5,
          3,
          1,
          10,
          4,
          7,
          8,
          7,
          10,
          9,
          5,
          9,
          2,
          5,
          4,
          7,
          7,
          3,
          5,
          5,
          4,
          8,
          5,
          5,
          6,
          6,
          5,
          3,
          11,
          9,
          4,
          4,
          3,
          11,
          6,
          2,
          2,
          9,
          7,
          17,
          5,
          7,
          4,
          5,
          5,
          5,
          4,
          3,
          null,
          2,
          4,
          11,
          3,
          5,
          3
         ],
         "zmax": 30,
         "zmin": 1
        },
        {
         "hoverinfo": "skip",
         "line": {
          "color": "#9e9e9e",
          "width": 1
         },
         "mode": "lines",
         "type": "scatter",
         "x": [
          -0.5,
          -0.5
         ],
         "xaxis": "x5",
         "y": [
          4.5,
          6.5
         ],
         "yaxis": "y5"
        },
        {
         "hoverinfo": "skip",
         "line": {
          "color": "#9e9e9e",
          "width": 1
         },
         "mode": "lines",
         "type": "scatter",
         "x": [
          -0.5,
          0.5
         ],
         "xaxis": "x5",
         "y": [
          4.5,
          4.5
         ],
         "yaxis": "y5"
        },
        {
         "hoverinfo": "skip",
         "line": {
          "color": "#9e9e9e",
          "width": 1
         },
         "mode": "lines",
         "type": "scatter",
         "x": [
          0.5,
          0.5
         ],
         "xaxis": "x5",
         "y": [
          4.5,
          -0.5
         ],
         "yaxis": "y5"
        },
        {
         "hoverinfo": "skip",
         "line": {
          "color": "#9e9e9e",
          "width": 1
         },
         "mode": "lines",
         "type": "scatter",
         "x": [
          4.5,
          4.5
         ],
         "xaxis": "x5",
         "y": [
          0.5,
          6.5
         ],
         "yaxis": "y5"
        },
        {
         "hoverinfo": "skip",
         "line": {
          "color": "#9e9e9e",
          "width": 1
         },
         "mode": "lines",
         "type": "scatter",
         "x": [
          4.5,
          5.5
         ],
         "xaxis": "x5",
         "y": [
          0.5,
          0.5
         ],
         "yaxis": "y5"
        },
        {
         "hoverinfo": "skip",
         "line": {
          "color": "#9e9e9e",
          "width": 1
         },
         "mode": "lines",
         "type": "scatter",
         "x": [
          5.5,
          5.5
         ],
         "xaxis": "x5",
         "y": [
          0.5,
          -0.5
         ],
         "yaxis": "y5"
        },
        {
         "hoverinfo": "skip",
         "line": {
          "color": "#9e9e9e",
          "width": 1
         },
         "mode": "lines",
         "type": "scatter",
         "x": [
          8.5,
          8.5
         ],
         "xaxis": "x5",
         "y": [
          0.5,
          6.5
         ],
         "yaxis": "y5"
        },
        {
         "hoverinfo": "skip",
         "line": {
          "color": "#9e9e9e",
          "width": 1
         },
         "mode": "lines",
         "type": "scatter",
         "x": [
          8.5,
          9.5
         ],
         "xaxis": "x5",
         "y": [
          0.5,
          0.5
         ],
         "yaxis": "y5"
        },
        {
         "hoverinfo": "skip",
         "line": {
          "color": "#9e9e9e",
          "width": 1
         },
         "mode": "lines",
         "type": "scatter",
         "x": [
          9.5,
          9.5
         ],
         "xaxis": "x5",
         "y": [
          0.5,
          -0.5
         ],
         "yaxis": "y5"
        },
        {
         "hoverinfo": "skip",
         "line": {
          "color": "#9e9e9e",
          "width": 1
         },
         "mode": "lines",
         "type": "scatter",
         "x": [
          12.5,
          12.5
         ],
         "xaxis": "x5",
         "y": [
          3.5,
          6.5
         ],
         "yaxis": "y5"
        },
        {
         "hoverinfo": "skip",
         "line": {
          "color": "#9e9e9e",
          "width": 1
         },
         "mode": "lines",
         "type": "scatter",
         "x": [
          12.5,
          13.5
         ],
         "xaxis": "x5",
         "y": [
          3.5,
          3.5
         ],
         "yaxis": "y5"
        },
        {
         "hoverinfo": "skip",
         "line": {
          "color": "#9e9e9e",
          "width": 1
         },
         "mode": "lines",
         "type": "scatter",
         "x": [
          13.5,
          13.5
         ],
         "xaxis": "x5",
         "y": [
          3.5,
          -0.5
         ],
         "yaxis": "y5"
        },
        {
         "hoverinfo": "skip",
         "line": {
          "color": "#9e9e9e",
          "width": 1
         },
         "mode": "lines",
         "type": "scatter",
         "x": [
          16.5,
          16.5
         ],
         "xaxis": "x5",
         "y": [
          5.5,
          6.5
         ],
         "yaxis": "y5"
        },
        {
         "hoverinfo": "skip",
         "line": {
          "color": "#9e9e9e",
          "width": 1
         },
         "mode": "lines",
         "type": "scatter",
         "x": [
          16.5,
          17.5
         ],
         "xaxis": "x5",
         "y": [
          5.5,
          5.5
         ],
         "yaxis": "y5"
        },
        {
         "hoverinfo": "skip",
         "line": {
          "color": "#9e9e9e",
          "width": 1
         },
         "mode": "lines",
         "type": "scatter",
         "x": [
          17.5,
          17.5
         ],
         "xaxis": "x5",
         "y": [
          5.5,
          -0.5
         ],
         "yaxis": "y5"
        },
        {
         "hoverinfo": "skip",
         "line": {
          "color": "#9e9e9e",
          "width": 1
         },
         "mode": "lines",
         "type": "scatter",
         "x": [
          21.5,
          21.5
         ],
         "xaxis": "x5",
         "y": [
          1.5,
          6.5
         ],
         "yaxis": "y5"
        },
        {
         "hoverinfo": "skip",
         "line": {
          "color": "#9e9e9e",
          "width": 1
         },
         "mode": "lines",
         "type": "scatter",
         "x": [
          21.5,
          22.5
         ],
         "xaxis": "x5",
         "y": [
          1.5,
          1.5
         ],
         "yaxis": "y5"
        },
        {
         "hoverinfo": "skip",
         "line": {
          "color": "#9e9e9e",
          "width": 1
         },
         "mode": "lines",
         "type": "scatter",
         "x": [
          22.5,
          22.5
         ],
         "xaxis": "x5",
         "y": [
          1.5,
          -0.5
         ],
         "yaxis": "y5"
        },
        {
         "hoverinfo": "skip",
         "line": {
          "color": "#9e9e9e",
          "width": 1
         },
         "mode": "lines",
         "type": "scatter",
         "x": [
          25.5,
          25.5
         ],
         "xaxis": "x5",
         "y": [
          3.5,
          6.5
         ],
         "yaxis": "y5"
        },
        {
         "hoverinfo": "skip",
         "line": {
          "color": "#9e9e9e",
          "width": 1
         },
         "mode": "lines",
         "type": "scatter",
         "x": [
          25.5,
          26.5
         ],
         "xaxis": "x5",
         "y": [
          3.5,
          3.5
         ],
         "yaxis": "y5"
        },
        {
         "hoverinfo": "skip",
         "line": {
          "color": "#9e9e9e",
          "width": 1
         },
         "mode": "lines",
         "type": "scatter",
         "x": [
          26.5,
          26.5
         ],
         "xaxis": "x5",
         "y": [
          3.5,
          -0.5
         ],
         "yaxis": "y5"
        },
        {
         "hoverinfo": "skip",
         "line": {
          "color": "#9e9e9e",
          "width": 1
         },
         "mode": "lines",
         "type": "scatter",
         "x": [
          30.5,
          30.5
         ],
         "xaxis": "x5",
         "y": [
          -0.5,
          6.5
         ],
         "yaxis": "y5"
        },
        {
         "hoverinfo": "skip",
         "line": {
          "color": "#9e9e9e",
          "width": 1
         },
         "mode": "lines",
         "type": "scatter",
         "x": [
          34.5,
          34.5
         ],
         "xaxis": "x5",
         "y": [
          2.5,
          6.5
         ],
         "yaxis": "y5"
        },
        {
         "hoverinfo": "skip",
         "line": {
          "color": "#9e9e9e",
          "width": 1
         },
         "mode": "lines",
         "type": "scatter",
         "x": [
          34.5,
          35.5
         ],
         "xaxis": "x5",
         "y": [
          2.5,
          2.5
         ],
         "yaxis": "y5"
        },
        {
         "hoverinfo": "skip",
         "line": {
          "color": "#9e9e9e",
          "width": 1
         },
         "mode": "lines",
         "type": "scatter",
         "x": [
          35.5,
          35.5
         ],
         "xaxis": "x5",
         "y": [
          2.5,
          -0.5
         ],
         "yaxis": "y5"
        },
        {
         "hoverinfo": "skip",
         "line": {
          "color": "#9e9e9e",
          "width": 1
         },
         "mode": "lines",
         "type": "scatter",
         "x": [
          38.5,
          38.5
         ],
         "xaxis": "x5",
         "y": [
          4.5,
          6.5
         ],
         "yaxis": "y5"
        },
        {
         "hoverinfo": "skip",
         "line": {
          "color": "#9e9e9e",
          "width": 1
         },
         "mode": "lines",
         "type": "scatter",
         "x": [
          38.5,
          39.5
         ],
         "xaxis": "x5",
         "y": [
          4.5,
          4.5
         ],
         "yaxis": "y5"
        },
        {
         "hoverinfo": "skip",
         "line": {
          "color": "#9e9e9e",
          "width": 1
         },
         "mode": "lines",
         "type": "scatter",
         "x": [
          39.5,
          39.5
         ],
         "xaxis": "x5",
         "y": [
          4.5,
          -0.5
         ],
         "yaxis": "y5"
        },
        {
         "hoverinfo": "skip",
         "line": {
          "color": "#9e9e9e",
          "width": 1
         },
         "mode": "lines",
         "type": "scatter",
         "x": [
          43.5,
          43.5
         ],
         "xaxis": "x5",
         "y": [
          0.5,
          6.5
         ],
         "yaxis": "y5"
        },
        {
         "hoverinfo": "skip",
         "line": {
          "color": "#9e9e9e",
          "width": 1
         },
         "mode": "lines",
         "type": "scatter",
         "x": [
          43.5,
          44.5
         ],
         "xaxis": "x5",
         "y": [
          0.5,
          0.5
         ],
         "yaxis": "y5"
        },
        {
         "hoverinfo": "skip",
         "line": {
          "color": "#9e9e9e",
          "width": 1
         },
         "mode": "lines",
         "type": "scatter",
         "x": [
          44.5,
          44.5
         ],
         "xaxis": "x5",
         "y": [
          0.5,
          -0.5
         ],
         "yaxis": "y5"
        },
        {
         "hoverinfo": "skip",
         "line": {
          "color": "#9e9e9e",
          "width": 1
         },
         "mode": "lines",
         "type": "scatter",
         "x": [
          47.5,
          47.5
         ],
         "xaxis": "x5",
         "y": [
          2.5,
          6.5
         ],
         "yaxis": "y5"
        },
        {
         "hoverinfo": "skip",
         "line": {
          "color": "#9e9e9e",
          "width": 1
         },
         "mode": "lines",
         "type": "scatter",
         "x": [
          47.5,
          48.5
         ],
         "xaxis": "x5",
         "y": [
          2.5,
          2.5
         ],
         "yaxis": "y5"
        },
        {
         "hoverinfo": "skip",
         "line": {
          "color": "#9e9e9e",
          "width": 1
         },
         "mode": "lines",
         "type": "scatter",
         "x": [
          48.5,
          48.5
         ],
         "xaxis": "x5",
         "y": [
          2.5,
          -0.5
         ],
         "yaxis": "y5"
        },
        {
         "colorscale": [
          [
           0,
           "rgb(247,252,245)"
          ],
          [
           0.125,
           "rgb(229,245,224)"
          ],
          [
           0.25,
           "rgb(199,233,192)"
          ],
          [
           0.375,
           "rgb(161,217,155)"
          ],
          [
           0.5,
           "rgb(116,196,118)"
          ],
          [
           0.625,
           "rgb(65,171,93)"
          ],
          [
           0.75,
           "rgb(35,139,69)"
          ],
          [
           0.875,
           "rgb(0,109,44)"
          ],
          [
           1,
           "rgb(0,68,27)"
          ]
         ],
         "customdata": [
          [
           "2023-01-01",
           "y"
          ],
          [
           "2023-01-02",
           "y"
          ],
          [
           "2023-01-03",
           "y"
          ],
          [
           "2023-01-04",
           "y"
          ],
          [
           "2023-01-05",
           "y"
          ],
          [
           "2023-01-06",
           "y"
          ],
          [
           "2023-01-07",
           "y"
          ],
          [
           "2023-01-08",
           "y"
          ],
          [
           "2023-01-09",
           "y"
          ],
          [
           "2023-01-10",
           "y"
          ],
          [
           "2023-01-11",
           "y"
          ],
          [
           "2023-01-12",
           "y"
          ],
          [
           "2023-01-13",
           "y"
          ],
          [
           "2023-01-14",
           "y"
          ],
          [
           "2023-01-15",
           "y"
          ],
          [
           "2023-01-16",
           "y"
          ],
          [
           "2023-01-17",
           "y"
          ],
          [
           "2023-01-18",
           "y"
          ],
          [
           "2023-01-19",
           "y"
          ],
          [
           "2023-01-20",
           "y"
          ],
          [
           "2023-01-21",
           "y"
          ],
          [
           "2023-01-22",
           "y"
          ],
          [
           "2023-01-23",
           "y"
          ],
          [
           "2023-01-24",
           "y"
          ],
          [
           "2023-01-25",
           "y"
          ],
          [
           "2023-01-26",
           "y"
          ],
          [
           "2023-01-27",
           "y"
          ],
          [
           "2023-01-28",
           "y"
          ],
          [
           "2023-01-29",
           "y"
          ],
          [
           "2023-01-30",
           "y"
          ],
          [
           "2023-01-31",
           "y"
          ],
          [
           "2023-02-01",
           "y"
          ],
          [
           "2023-02-02",
           "y"
          ],
          [
           "2023-02-03",
           "y"
          ],
          [
           "2023-02-04",
           "y"
          ],
          [
           "2023-02-05",
           "y"
          ],
          [
           "2023-02-06",
           "y"
          ],
          [
           "2023-02-07",
           "y"
          ],
          [
           "2023-02-08",
           "y"
          ],
          [
           "2023-02-09",
           "y"
          ],
          [
           "2023-02-10",
           "y"
          ],
          [
           "2023-02-11",
           "y"
          ],
          [
           "2023-02-12",
           "y"
          ],
          [
           "2023-02-13",
           "y"
          ],
          [
           "2023-02-14",
           "y"
          ],
          [
           "2023-02-15",
           "y"
          ],
          [
           "2023-02-16",
           "y"
          ],
          [
           "2023-02-17",
           "y"
          ],
          [
           "2023-02-18",
           "y"
          ],
          [
           "2023-02-19",
           "y"
          ],
          [
           "2023-02-20",
           "y"
          ],
          [
           "2023-02-21",
           "y"
          ],
          [
           "2023-02-22",
           "y"
          ],
          [
           "2023-02-23",
           "y"
          ],
          [
           "2023-02-24",
           "y"
          ],
          [
           "2023-02-25",
           "y"
          ],
          [
           "2023-02-26",
           "y"
          ],
          [
           "2023-02-27",
           "y"
          ],
          [
           "2023-02-28",
           "y"
          ],
          [
           "2023-03-01",
           "y"
          ],
          [
           "2023-03-02",
           "y"
          ],
          [
           "2023-03-03",
           "y"
          ],
          [
           "2023-03-04",
           "y"
          ],
          [
           "2023-03-05",
           "y"
          ],
          [
           "2023-03-06",
           "y"
          ],
          [
           "2023-03-07",
           "y"
          ],
          [
           "2023-03-08",
           "y"
          ],
          [
           "2023-03-09",
           "y"
          ],
          [
           "2023-03-10",
           "y"
          ],
          [
           "2023-03-11",
           "y"
          ],
          [
           "2023-03-12",
           "y"
          ],
          [
           "2023-03-13",
           "y"
          ],
          [
           "2023-03-14",
           "y"
          ],
          [
           "2023-03-15",
           "y"
          ],
          [
           "2023-03-16",
           "y"
          ],
          [
           "2023-03-17",
           "y"
          ],
          [
           "2023-03-18",
           "y"
          ],
          [
           "2023-03-19",
           "y"
          ],
          [
           "2023-03-20",
           "y"
          ],
          [
           "2023-03-21",
           "y"
          ],
          [
           "2023-03-22",
           "y"
          ],
          [
           "2023-03-23",
           "y"
          ],
          [
           "2023-03-24",
           "y"
          ],
          [
           "2023-03-25",
           "y"
          ],
          [
           "2023-03-26",
           "y"
          ],
          [
           "2023-03-27",
           "y"
          ],
          [
           "2023-03-28",
           "y"
          ],
          [
           "2023-03-29",
           "y"
          ],
          [
           "2023-03-30",
           "y"
          ],
          [
           "2023-03-31",
           "y"
          ],
          [
           "2023-04-01",
           "y"
          ],
          [
           "2023-04-02",
           "y"
          ],
          [
           "2023-04-03",
           "y"
          ],
          [
           "2023-04-04",
           "y"
          ],
          [
           "2023-04-05",
           "y"
          ],
          [
           "2023-04-06",
           "y"
          ],
          [
           "2023-04-07",
           "y"
          ],
          [
           "2023-04-08",
           "y"
          ],
          [
           "2023-04-09",
           "y"
          ],
          [
           "2023-04-10",
           "y"
          ],
          [
           "2023-04-11",
           "y"
          ],
          [
           "2023-04-12",
           "y"
          ],
          [
           "2023-04-13",
           "y"
          ],
          [
           "2023-04-14",
           "y"
          ],
          [
           "2023-04-15",
           "y"
          ],
          [
           "2023-04-16",
           "y"
          ],
          [
           "2023-04-17",
           "y"
          ],
          [
           "2023-04-18",
           "y"
          ],
          [
           "2023-04-19",
           "y"
          ],
          [
           "2023-04-20",
           "y"
          ],
          [
           "2023-04-21",
           "y"
          ],
          [
           "2023-04-22",
           "y"
          ],
          [
           "2023-04-23",
           "y"
          ],
          [
           "2023-04-24",
           "y"
          ],
          [
           "2023-04-25",
           "y"
          ],
          [
           "2023-04-26",
           "y"
          ],
          [
           "2023-04-27",
           "y"
          ],
          [
           "2023-04-28",
           "y"
          ],
          [
           "2023-04-29",
           "y"
          ],
          [
           "2023-04-30",
           "y"
          ],
          [
           "2023-05-01",
           "y"
          ],
          [
           "2023-05-02",
           "y"
          ],
          [
           "2023-05-03",
           "y"
          ],
          [
           "2023-05-04",
           "y"
          ],
          [
           "2023-05-05",
           "y"
          ],
          [
           "2023-05-06",
           "y"
          ],
          [
           "2023-05-07",
           "y"
          ],
          [
           "2023-05-08",
           "y"
          ],
          [
           "2023-05-09",
           "y"
          ],
          [
           "2023-05-10",
           "y"
          ],
          [
           "2023-05-11",
           "y"
          ],
          [
           "2023-05-12",
           "y"
          ],
          [
           "2023-05-13",
           "y"
          ],
          [
           "2023-05-14",
           "y"
          ],
          [
           "2023-05-15",
           "y"
          ],
          [
           "2023-05-16",
           "y"
          ],
          [
           "2023-05-17",
           "y"
          ],
          [
           "2023-05-18",
           "y"
          ],
          [
           "2023-05-19",
           "y"
          ],
          [
           "2023-05-20",
           "y"
          ],
          [
           "2023-05-21",
           "y"
          ],
          [
           "2023-05-22",
           "y"
          ],
          [
           "2023-05-23",
           "y"
          ],
          [
           "2023-05-24",
           "y"
          ],
          [
           "2023-05-25",
           "y"
          ],
          [
           "2023-05-26",
           "y"
          ],
          [
           "2023-05-27",
           "y"
          ],
          [
           "2023-05-28",
           "y"
          ],
          [
           "2023-05-29",
           "y"
          ],
          [
           "2023-05-30",
           "y"
          ],
          [
           "2023-05-31",
           "y"
          ],
          [
           "2023-06-01",
           "y"
          ],
          [
           "2023-06-02",
           "y"
          ],
          [
           "2023-06-03",
           "y"
          ],
          [
           "2023-06-04",
           "y"
          ],
          [
           "2023-06-05",
           "y"
          ],
          [
           "2023-06-06",
           "y"
          ],
          [
           "2023-06-07",
           "y"
          ],
          [
           "2023-06-08",
           "y"
          ],
          [
           "2023-06-09",
           "y"
          ],
          [
           "2023-06-10",
           "y"
          ],
          [
           "2023-06-11",
           "y"
          ],
          [
           "2023-06-12",
           "y"
          ],
          [
           "2023-06-13",
           "y"
          ],
          [
           "2023-06-14",
           "y"
          ],
          [
           "2023-06-15",
           "y"
          ],
          [
           "2023-06-16",
           "y"
          ],
          [
           "2023-06-17",
           "y"
          ],
          [
           "2023-06-18",
           "y"
          ],
          [
           "2023-06-19",
           "y"
          ],
          [
           "2023-06-20",
           "y"
          ],
          [
           "2023-06-21",
           "y"
          ],
          [
           "2023-06-22",
           "y"
          ],
          [
           "2023-06-23",
           "y"
          ],
          [
           "2023-06-24",
           "y"
          ],
          [
           "2023-06-25",
           "y"
          ],
          [
           "2023-06-26",
           "y"
          ],
          [
           "2023-06-27",
           "y"
          ],
          [
           "2023-06-28",
           "y"
          ],
          [
           "2023-06-29",
           "y"
          ],
          [
           "2023-06-30",
           "y"
          ],
          [
           "2023-07-01",
           "y"
          ],
          [
           "2023-07-02",
           "y"
          ],
          [
           "2023-07-03",
           "y"
          ],
          [
           "2023-07-04",
           "y"
          ],
          [
           "2023-07-05",
           "y"
          ],
          [
           "2023-07-06",
           "y"
          ],
          [
           "2023-07-07",
           "y"
          ],
          [
           "2023-07-08",
           "y"
          ],
          [
           "2023-07-09",
           "y"
          ],
          [
           "2023-07-10",
           "y"
          ],
          [
           "2023-07-11",
           "y"
          ],
          [
           "2023-07-12",
           "y"
          ],
          [
           "2023-07-13",
           "y"
          ],
          [
           "2023-07-14",
           "y"
          ],
          [
           "2023-07-15",
           "y"
          ],
          [
           "2023-07-16",
           "y"
          ],
          [
           "2023-07-17",
           "y"
          ],
          [
           "2023-07-18",
           "y"
          ],
          [
           "2023-07-19",
           "y"
          ],
          [
           "2023-07-20",
           "y"
          ],
          [
           "2023-07-21",
           "y"
          ],
          [
           "2023-07-22",
           "y"
          ],
          [
           "2023-07-23",
           "y"
          ],
          [
           "2023-07-24",
           "y"
          ],
          [
           "2023-07-25",
           "y"
          ],
          [
           "2023-07-26",
           "y"
          ],
          [
           "2023-07-27",
           "y"
          ],
          [
           "2023-07-28",
           "y"
          ],
          [
           "2023-07-29",
           "y"
          ],
          [
           "2023-07-30",
           "y"
          ],
          [
           "2023-07-31",
           "y"
          ],
          [
           "2023-08-01",
           "y"
          ],
          [
           "2023-08-02",
           "y"
          ],
          [
           "2023-08-03",
           "y"
          ],
          [
           "2023-08-04",
           "y"
          ],
          [
           "2023-08-05",
           "y"
          ],
          [
           "2023-08-06",
           "y"
          ],
          [
           "2023-08-07",
           "y"
          ],
          [
           "2023-08-08",
           "y"
          ],
          [
           "2023-08-09",
           "y"
          ],
          [
           "2023-08-10",
           "y"
          ],
          [
           "2023-08-11",
           "y"
          ],
          [
           "2023-08-12",
           "y"
          ],
          [
           "2023-08-13",
           "y"
          ],
          [
           "2023-08-14",
           "y"
          ],
          [
           "2023-08-15",
           "y"
          ],
          [
           "2023-08-16",
           "y"
          ],
          [
           "2023-08-17",
           "y"
          ],
          [
           "2023-08-18",
           "y"
          ],
          [
           "2023-08-19",
           "y"
          ],
          [
           "2023-08-20",
           "y"
          ],
          [
           "2023-08-21",
           "y"
          ],
          [
           "2023-08-22",
           "y"
          ],
          [
           "2023-08-23",
           "y"
          ],
          [
           "2023-08-24",
           "y"
          ],
          [
           "2023-08-25",
           "y"
          ],
          [
           "2023-08-26",
           "y"
          ],
          [
           "2023-08-27",
           "y"
          ],
          [
           "2023-08-28",
           "y"
          ],
          [
           "2023-08-29",
           "y"
          ],
          [
           "2023-08-30",
           "y"
          ],
          [
           "2023-08-31",
           "y"
          ],
          [
           "2023-09-01",
           "y"
          ],
          [
           "2023-09-02",
           "y"
          ],
          [
           "2023-09-03",
           "y"
          ],
          [
           "2023-09-04",
           "y"
          ],
          [
           "2023-09-05",
           "y"
          ],
          [
           "2023-09-06",
           "y"
          ],
          [
           "2023-09-07",
           "y"
          ],
          [
           "2023-09-08",
           "y"
          ],
          [
           "2023-09-09",
           "y"
          ],
          [
           "2023-09-10",
           "y"
          ],
          [
           "2023-09-11",
           "y"
          ],
          [
           "2023-09-12",
           "y"
          ],
          [
           "2023-09-13",
           "y"
          ],
          [
           "2023-09-14",
           "y"
          ],
          [
           "2023-09-15",
           "y"
          ],
          [
           "2023-09-16",
           "y"
          ],
          [
           "2023-09-17",
           "y"
          ],
          [
           "2023-09-18",
           "y"
          ],
          [
           "2023-09-19",
           "y"
          ],
          [
           "2023-09-20",
           "y"
          ],
          [
           "2023-09-21",
           "y"
          ],
          [
           "2023-09-22",
           "y"
          ],
          [
           "2023-09-23",
           "y"
          ],
          [
           "2023-09-24",
           "y"
          ],
          [
           "2023-09-25",
           "y"
          ],
          [
           "2023-09-26",
           "y"
          ],
          [
           "2023-09-27",
           "y"
          ],
          [
           "2023-09-28",
           "y"
          ],
          [
           "2023-09-29",
           "y"
          ],
          [
           "2023-09-30",
           "y"
          ],
          [
           "2023-10-01",
           "y"
          ],
          [
           "2023-10-02",
           "y"
          ],
          [
           "2023-10-03",
           "y"
          ],
          [
           "2023-10-04",
           "y"
          ],
          [
           "2023-10-05",
           "y"
          ],
          [
           "2023-10-06",
           "y"
          ],
          [
           "2023-10-07",
           "y"
          ],
          [
           "2023-10-08",
           "y"
          ],
          [
           "2023-10-09",
           "y"
          ],
          [
           "2023-10-10",
           "y"
          ],
          [
           "2023-10-11",
           "y"
          ],
          [
           "2023-10-12",
           "y"
          ],
          [
           "2023-10-13",
           "y"
          ],
          [
           "2023-10-14",
           "y"
          ],
          [
           "2023-10-15",
           "y"
          ],
          [
           "2023-10-16",
           "y"
          ],
          [
           "2023-10-17",
           "y"
          ],
          [
           "2023-10-18",
           "y"
          ],
          [
           "2023-10-19",
           "y"
          ],
          [
           "2023-10-20",
           "y"
          ],
          [
           "2023-10-21",
           "y"
          ],
          [
           "2023-10-22",
           "y"
          ],
          [
           "2023-10-23",
           "y"
          ],
          [
           "2023-10-24",
           "y"
          ],
          [
           "2023-10-25",
           "y"
          ],
          [
           "2023-10-26",
           "y"
          ],
          [
           "2023-10-27",
           "y"
          ],
          [
           "2023-10-28",
           "y"
          ],
          [
           "2023-10-29",
           "y"
          ],
          [
           "2023-10-30",
           "y"
          ],
          [
           "2023-10-31",
           "y"
          ],
          [
           "2023-11-01",
           "y"
          ],
          [
           "2023-11-02",
           "y"
          ],
          [
           "2023-11-03",
           "y"
          ],
          [
           "2023-11-04",
           "y"
          ],
          [
           "2023-11-05",
           "y"
          ],
          [
           "2023-11-06",
           "y"
          ],
          [
           "2023-11-07",
           "y"
          ],
          [
           "2023-11-08",
           "y"
          ],
          [
           "2023-11-09",
           "y"
          ],
          [
           "2023-11-10",
           "y"
          ],
          [
           "2023-11-11",
           "y"
          ],
          [
           "2023-11-12",
           "y"
          ],
          [
           "2023-11-13",
           "y"
          ],
          [
           "2023-11-14",
           "y"
          ],
          [
           "2023-11-15",
           "y"
          ],
          [
           "2023-11-16",
           "y"
          ],
          [
           "2023-11-17",
           "y"
          ],
          [
           "2023-11-18",
           "y"
          ],
          [
           "2023-11-19",
           "y"
          ],
          [
           "2023-11-20",
           "y"
          ],
          [
           "2023-11-21",
           "y"
          ],
          [
           "2023-11-22",
           "y"
          ],
          [
           "2023-11-23",
           "y"
          ],
          [
           "2023-11-24",
           "y"
          ],
          [
           "2023-11-25",
           "y"
          ],
          [
           "2023-11-26",
           "y"
          ],
          [
           "2023-11-27",
           "y"
          ],
          [
           "2023-11-28",
           "y"
          ],
          [
           "2023-11-29",
           "y"
          ],
          [
           "2023-11-30",
           "y"
          ],
          [
           "2023-12-01",
           "y"
          ],
          [
           "2023-12-02",
           "y"
          ],
          [
           "2023-12-03",
           "y"
          ],
          [
           "2023-12-04",
           "y"
          ],
          [
           "2023-12-05",
           "y"
          ],
          [
           "2023-12-06",
           "y"
          ],
          [
           "2023-12-07",
           "y"
          ],
          [
           "2023-12-08",
           "y"
          ],
          [
           "2023-12-09",
           "y"
          ],
          [
           "2023-12-10",
           "y"
          ],
          [
           "2023-12-11",
           "y"
          ],
          [
           "2023-12-12",
           "y"
          ],
          [
           "2023-12-13",
           "y"
          ],
          [
           "2023-12-14",
           "y"
          ],
          [
           "2023-12-15",
           "y"
          ],
          [
           "2023-12-16",
           "y"
          ],
          [
           "2023-12-17",
           "y"
          ],
          [
           "2023-12-18",
           "y"
          ],
          [
           "2023-12-19",
           "y"
          ],
          [
           "2023-12-20",
           "y"
          ],
          [
           "2023-12-21",
           "y"
          ],
          [
           "2023-12-22",
           "y"
          ],
          [
           "2023-12-23",
           "y"
          ],
          [
           "2023-12-24",
           "y"
          ],
          [
           "2023-12-25",
           "y"
          ],
          [
           "2023-12-26",
           "y"
          ],
          [
           "2023-12-27",
           "y"
          ],
          [
           "2023-12-28",
           "y"
          ],
          [
           "2023-12-29",
           "y"
          ],
          [
           "2023-12-30",
           "y"
          ],
          [
           "2023-12-31",
           "y"
          ]
         ],
         "hovertemplate": "%{customdata[0]} <br>Week=%{x} <br>%{customdata[1]}=%{z}",
         "name": "2023",
         "showscale": false,
         "type": "heatmap",
         "x": [
          0,
          1,
          1,
          1,
          1,
          1,
          1,
          1,
          2,
          2,
          2,
          2,
          2,
          2,
          2,
          3,
          3,
          3,
          3,
          3,
          3,
          3,
          4,
          4,
          4,
          4,
          4,
          4,
          4,
          5,
          5,
          5,
          5,
          5,
          5,
          5,
          6,
          6,
          6,
          6,
          6,
          6,
          6,
          7,
          7,
          7,
          7,
          7,
          7,
          7,
          8,
          8,
          8,
          8,
          8,
          8,
          8,
          9,
          9,
          9,
          9,
          9,
          9,
          9,
          10,
          10,
          10,
          10,
          10,
          10,
          10,
          11,
          11,
          11,
          11,
          11,
          11,
          11,
          12,
          12,
          12,
          12,
          12,
          12,
          12,
          13,
          13,
          13,
          13,
          13,
          13,
          13,
          14,
          14,
          14,
          14,
          14,
          14,
          14,
          15,
          15,
          15,
          15,
          15,
          15,
          15,
          16,
          16,
          16,
          16,
          16,
          16,
          16,
          17,
          17,
          17,
          17,
          17,
          17,
          17,
          18,
          18,
          18,
          18,
          18,
          18,
          18,
          19,
          19,
          19,
          19,
          19,
          19,
          19,
          20,
          20,
          20,
          20,
          20,
          20,
          20,
          21,
          21,
          21,
          21,
          21,
          21,
          21,
          22,
          22,
          22,
          22,
          22,
          22,
          22,
          23,
          23,
          23,
          23,
          23,
          23,
          23,
          24,
          24,
          24,
          24,
          24,
          24,
          24,
          25,
          25,
          25,
          25,
          25,
          25,
          25,
          26,
          26,
          26,
          26,
          26,
          26,
          26,
          27,
          27,
          27,
          27,
          27,
          27,
          27,
          28,
          28,
          28,
          28,
          28,
          28,
          28,
          29,
          29,
          29,
          29,
          29,
          29,
          29,
          30,
          30,
          30,
          30,
          30,
          30,
          30,
          31,
          31,
          31,
          31,
          31,
          31,
          31,
          32,
          32,
          32,
          32,
          32,
          32,
          32,
          33,
          33,
          33,
          33,
          33,
          33,
          33,
          34,
          34,
          34,
          34,
          34,
          34,
          34,
          35,
          35,
          35,
          35,
          35,
          35,
          35,
          36,
          36,
          36,
          36,
          36,
          36,
          36,
          37,
          37,
          37,
          37,
          37,
          37,
          37,
          38,
          38,
          38,
          38,
          38,
          38,
          38,
          39,
          39,
          39,
          39,
          39,
          39,
          39,
          40,
          40,
          40,
          40,
          40,
          40,
          40,
          41,
          41,
          41,
          41,
          41,
          41,
          41,
          42,
          42,
          42,
          42,
          42,
          42,
          42,
          43,
          43,
          43,
          43,
          43,
          43,
          43,
          44,
          44,
          44,
          44,
          44,
          44,
          44,
          45,
          45,
          45,
          45,
          45,
          45,
          45,
          46,
          46,
          46,
          46,
          46,
          46,
          46,
          47,
          47,
          47,
          47,
          47,
          47,
          47,
          48,
          48,
          48,
          48,
          48,
          48,
          48,
          49,
          49,
          49,
          49,
          49,
          49,
          49,
          50,
          50,
          50,
          50,
          50,
          50,
          50,
          51,
          51,
          51,
          51,
          51,
          51,
          51,
          52,
          52,
          52,
          52,
          52,
          52,
          52
         ],
         "xaxis": "x6",
         "xgap": 1,
         "y": [
          6,
          0,
          1,
          2,
          3,
          4,
          5,
          6,
          0,
          1,
          2,
          3,
          4,
          5,
          6,
          0,
          1,
          2,
          3,
          4,
          5,
          6,
          0,
          1,
          2,
          3,
          4,
          5,
          6,
          0,
          1,
          2,
          3,
          4,
          5,
          6,
          0,
          1,
          2,
          3,
          4,
          5,
          6,
          0,
          1,
          2,
          3,
          4,
          5,
          6,
          0,
          1,
          2,
          3,
          4,
          5,
          6,
          0,
          1,
          2,
          3,
          4,
          5,
          6,
          0,
          1,
          2,
          3,
          4,
          5,
          6,
          0,
          1,
          2,
          3,
          4,
          5,
          6,
          0,
          1,
          2,
          3,
          4,
          5,
          6,
          0,
          1,
          2,
          3,
          4,
          5,
          6,
          0,
          1,
          2,
          3,
          4,
          5,
          6,
          0,
          1,
          2,
          3,
          4,
          5,
          6,
          0,
          1,
          2,
          3,
          4,
          5,
          6,
          0,
          1,
          2,
          3,
          4,
          5,
          6,
          0,
          1,
          2,
          3,
          4,
          5,
          6,
          0,
          1,
          2,
          3,
          4,
          5,
          6,
          0,
          1,
          2,
          3,
          4,
          5,
          6,
          0,
          1,
          2,
          3,
          4,
          5,
          6,
          0,
          1,
          2,
          3,
          4,
          5,
          6,
          0,
          1,
          2,
          3,
          4,
          5,
          6,
          0,
          1,
          2,
          3,
          4,
          5,
          6,
          0,
          1,
          2,
          3,
          4,
          5,
          6,
          0,
          1,
          2,
          3,
          4,
          5,
          6,
          0,
          1,
          2,
          3,
          4,
          5,
          6,
          0,
          1,
          2,
          3,
          4,
          5,
          6,
          0,
          1,
          2,
          3,
          4,
          5,
          6,
          0,
          1,
          2,
          3,
          4,
          5,
          6,
          0,
          1,
          2,
          3,
          4,
          5,
          6,
          0,
          1,
          2,
          3,
          4,
          5,
          6,
          0,
          1,
          2,
          3,
          4,
          5,
          6,
          0,
          1,
          2,
          3,
          4,
          5,
          6,
          0,
          1,
          2,
          3,
          4,
          5,
          6,
          0,
          1,
          2,
          3,
          4,
          5,
          6,
          0,
          1,
          2,
          3,
          4,
          5,
          6,
          0,
          1,
          2,
          3,
          4,
          5,
          6,
          0,
          1,
          2,
          3,
          4,
          5,
          6,
          0,
          1,
          2,
          3,
          4,
          5,
          6,
          0,
          1,
          2,
          3,
          4,
          5,
          6,
          0,
          1,
          2,
          3,
          4,
          5,
          6,
          0,
          1,
          2,
          3,
          4,
          5,
          6,
          0,
          1,
          2,
          3,
          4,
          5,
          6,
          0,
          1,
          2,
          3,
          4,
          5,
          6,
          0,
          1,
          2,
          3,
          4,
          5,
          6,
          0,
          1,
          2,
          3,
          4,
          5,
          6,
          0,
          1,
          2,
          3,
          4,
          5,
          6,
          0,
          1,
          2,
          3,
          4,
          5,
          6,
          0,
          1,
          2,
          3,
          4,
          5,
          6,
          0,
          1,
          2,
          3,
          4,
          5,
          6,
          0,
          1,
          2,
          3,
          4,
          5,
          6
         ],
         "yaxis": "y6",
         "ygap": 1,
         "z": [
          null,
          6,
          5,
          4,
          3,
          3,
          2,
          2,
          7,
          7,
          4,
          3,
          9,
          1,
          3,
          8,
          2,
          8,
          2,
          4,
          4,
          4,
          5,
          5,
          1,
          2,
          6,
          6,
          5,
          1,
          2,
          2,
          2,
          9,
          5,
          4,
          8,
          6,
          6,
          7,
          4,
          4,
          9,
          5,
          3,
          6,
          5,
          5,
          1,
          6,
          7,
          2,
          4,
          5,
          3,
          7,
          2,
          6,
          8,
          4,
          1,
          7,
          7,
          1,
          4,
          5,
          7,
          3,
          4,
          8,
          5,
          1,
          5,
          3,
          7,
          6,
          7,
          2,
          6,
          4,
          6,
          null,
          6,
          6,
          4,
          6,
          5,
          2,
          null,
          null,
          null,
          null,
          null,
          null,
          null,
          null,
          null,
          null,
          null,
          null,
          null,
          null,
          null,
          null,
          null,
          null,
          null,
          null,
          null,
          null,
          null,
          null,
          null,
          null,
          null,
          null,
          null,
          null,
          null,
          null,
          null,
          null,
          null,
          null,
          null,
          null,
          null,
          null,
          null,
          null,
          null,
          null,
          null,
          null,
          null,
          null,
          null,
          null,
          null,
          null,
          null,
          null,
          null,
          null,
          null,
          null,
          null,
          null,
          null,
          null,
          null,
          null,
          null,
          null,
          null,
          null,
          null,
          null,
          null,
          null,
          null,
          null,
          null,
          null,
          null,
          null,
          null,
          null,
          null,
          null,
          null,
          null,
          null,
          null,
          null,
          null,
          null,
          null,
          null,
          null,
          null,
          null,
          null,
          null,
          null,
          null,
          null,
          null,
          null,
          null,
          null,
          null,
          null,
          null,
          null,
          null,
          null,
          null,
          null,
          null,
          null,
          null,
          null,
          null,
          null,
          null,
          null,
          null,
          null,
          null,
          null,
          null,
          null,
          null,
          null,
          null,
          null,
          null,
          null,
          null,
          null,
          null,
          null,
          null,
          null,
          null,
          null,
          null,
          null,
          null,
          null,
          null,
          null,
          null,
          null,
          null,
          null,
          null,
          null,
          null,
          null,
          null,
          null,
          null,
          null,
          null,
          null,
          null,
          null,
          null,
          null,
          null,
          null,
          null,
          null,
          null,
          null,
          null,
          null,
          null,
          null,
          null,
          null,
          null,
          null,
          null,
          null,
          null,
          null,
          null,
          null,
          null,
          null,
          null,
          null,
          null,
          null,
          null,
          null,
          null,
          null,
          null,
          null,
          null,
          null,
          null,
          null,
          null,
          null,
          null,
          null,
          null,
          null,
          null,
          null,
          null,
          null,
          null,
          null,
          null,
          null,
          null,
          null,
          null,
          null,
          null,
          null,
          null,
          null,
          null,
          null,
          null,
          null,
          null,
          null,
          null,
          null,
          null,
          null,
          null,
          null,
          null,
          null,
          null,
          null,
          null,
          null,
          null,
          null,
          null,
          null,
          null,
          null,
          null,
          null,
          null,
          null,
          null,
          null,
          null,
          null,
          null,
          null,
          null,
          null,
          null,
          null,
          null,
          null,
          null,
          null,
          null,
          null,
          null,
          null,
          null,
          null,
          null,
          null,
          null,
          null,
          null,
          null,
          null,
          null
         ],
         "zmax": 30,
         "zmin": 1
        },
        {
         "hoverinfo": "skip",
         "line": {
          "color": "#9e9e9e",
          "width": 1
         },
         "mode": "lines",
         "type": "scatter",
         "x": [
          -0.5,
          -0.5
         ],
         "xaxis": "x6",
         "y": [
          5.5,
          6.5
         ],
         "yaxis": "y6"
        },
        {
         "hoverinfo": "skip",
         "line": {
          "color": "#9e9e9e",
          "width": 1
         },
         "mode": "lines",
         "type": "scatter",
         "x": [
          -0.5,
          0.5
         ],
         "xaxis": "x6",
         "y": [
          5.5,
          5.5
         ],
         "yaxis": "y6"
        },
        {
         "hoverinfo": "skip",
         "line": {
          "color": "#9e9e9e",
          "width": 1
         },
         "mode": "lines",
         "type": "scatter",
         "x": [
          0.5,
          0.5
         ],
         "xaxis": "x6",
         "y": [
          5.5,
          -0.5
         ],
         "yaxis": "y6"
        },
        {
         "hoverinfo": "skip",
         "line": {
          "color": "#9e9e9e",
          "width": 1
         },
         "mode": "lines",
         "type": "scatter",
         "x": [
          4.5,
          4.5
         ],
         "xaxis": "x6",
         "y": [
          1.5,
          6.5
         ],
         "yaxis": "y6"
        },
        {
         "hoverinfo": "skip",
         "line": {
          "color": "#9e9e9e",
          "width": 1
         },
         "mode": "lines",
         "type": "scatter",
         "x": [
          4.5,
          5.5
         ],
         "xaxis": "x6",
         "y": [
          1.5,
          1.5
         ],
         "yaxis": "y6"
        },
        {
         "hoverinfo": "skip",
         "line": {
          "color": "#9e9e9e",
          "width": 1
         },
         "mode": "lines",
         "type": "scatter",
         "x": [
          5.5,
          5.5
         ],
         "xaxis": "x6",
         "y": [
          1.5,
          -0.5
         ],
         "yaxis": "y6"
        },
        {
         "hoverinfo": "skip",
         "line": {
          "color": "#9e9e9e",
          "width": 1
         },
         "mode": "lines",
         "type": "scatter",
         "x": [
          8.5,
          8.5
         ],
         "xaxis": "x6",
         "y": [
          1.5,
          6.5
         ],
         "yaxis": "y6"
        },
        {
         "hoverinfo": "skip",
         "line": {
          "color": "#9e9e9e",
          "width": 1
         },
         "mode": "lines",
         "type": "scatter",
         "x": [
          8.5,
          9.5
         ],
         "xaxis": "x6",
         "y": [
          1.5,
          1.5
         ],
         "yaxis": "y6"
        },
        {
         "hoverinfo": "skip",
         "line": {
          "color": "#9e9e9e",
          "width": 1
         },
         "mode": "lines",
         "type": "scatter",
         "x": [
          9.5,
          9.5
         ],
         "xaxis": "x6",
         "y": [
          1.5,
          -0.5
         ],
         "yaxis": "y6"
        },
        {
         "hoverinfo": "skip",
         "line": {
          "color": "#9e9e9e",
          "width": 1
         },
         "mode": "lines",
         "type": "scatter",
         "x": [
          12.5,
          12.5
         ],
         "xaxis": "x6",
         "y": [
          4.5,
          6.5
         ],
         "yaxis": "y6"
        },
        {
         "hoverinfo": "skip",
         "line": {
          "color": "#9e9e9e",
          "width": 1
         },
         "mode": "lines",
         "type": "scatter",
         "x": [
          12.5,
          13.5
         ],
         "xaxis": "x6",
         "y": [
          4.5,
          4.5
         ],
         "yaxis": "y6"
        },
        {
         "hoverinfo": "skip",
         "line": {
          "color": "#9e9e9e",
          "width": 1
         },
         "mode": "lines",
         "type": "scatter",
         "x": [
          13.5,
          13.5
         ],
         "xaxis": "x6",
         "y": [
          4.5,
          -0.5
         ],
         "yaxis": "y6"
        },
        {
         "hoverinfo": "skip",
         "line": {
          "color": "#9e9e9e",
          "width": 1
         },
         "mode": "lines",
         "type": "scatter",
         "x": [
          17.5,
          17.5
         ],
         "xaxis": "x6",
         "y": [
          -0.5,
          6.5
         ],
         "yaxis": "y6"
        },
        {
         "hoverinfo": "skip",
         "line": {
          "color": "#9e9e9e",
          "width": 1
         },
         "mode": "lines",
         "type": "scatter",
         "x": [
          21.5,
          21.5
         ],
         "xaxis": "x6",
         "y": [
          2.5,
          6.5
         ],
         "yaxis": "y6"
        },
        {
         "hoverinfo": "skip",
         "line": {
          "color": "#9e9e9e",
          "width": 1
         },
         "mode": "lines",
         "type": "scatter",
         "x": [
          21.5,
          22.5
         ],
         "xaxis": "x6",
         "y": [
          2.5,
          2.5
         ],
         "yaxis": "y6"
        },
        {
         "hoverinfo": "skip",
         "line": {
          "color": "#9e9e9e",
          "width": 1
         },
         "mode": "lines",
         "type": "scatter",
         "x": [
          22.5,
          22.5
         ],
         "xaxis": "x6",
         "y": [
          2.5,
          -0.5
         ],
         "yaxis": "y6"
        },
        {
         "hoverinfo": "skip",
         "line": {
          "color": "#9e9e9e",
          "width": 1
         },
         "mode": "lines",
         "type": "scatter",
         "x": [
          25.5,
          25.5
         ],
         "xaxis": "x6",
         "y": [
          4.5,
          6.5
         ],
         "yaxis": "y6"
        },
        {
         "hoverinfo": "skip",
         "line": {
          "color": "#9e9e9e",
          "width": 1
         },
         "mode": "lines",
         "type": "scatter",
         "x": [
          25.5,
          26.5
         ],
         "xaxis": "x6",
         "y": [
          4.5,
          4.5
         ],
         "yaxis": "y6"
        },
        {
         "hoverinfo": "skip",
         "line": {
          "color": "#9e9e9e",
          "width": 1
         },
         "mode": "lines",
         "type": "scatter",
         "x": [
          26.5,
          26.5
         ],
         "xaxis": "x6",
         "y": [
          4.5,
          -0.5
         ],
         "yaxis": "y6"
        },
        {
         "hoverinfo": "skip",
         "line": {
          "color": "#9e9e9e",
          "width": 1
         },
         "mode": "lines",
         "type": "scatter",
         "x": [
          30.5,
          30.5
         ],
         "xaxis": "x6",
         "y": [
          0.5,
          6.5
         ],
         "yaxis": "y6"
        },
        {
         "hoverinfo": "skip",
         "line": {
          "color": "#9e9e9e",
          "width": 1
         },
         "mode": "lines",
         "type": "scatter",
         "x": [
          30.5,
          31.5
         ],
         "xaxis": "x6",
         "y": [
          0.5,
          0.5
         ],
         "yaxis": "y6"
        },
        {
         "hoverinfo": "skip",
         "line": {
          "color": "#9e9e9e",
          "width": 1
         },
         "mode": "lines",
         "type": "scatter",
         "x": [
          31.5,
          31.5
         ],
         "xaxis": "x6",
         "y": [
          0.5,
          -0.5
         ],
         "yaxis": "y6"
        },
        {
         "hoverinfo": "skip",
         "line": {
          "color": "#9e9e9e",
          "width": 1
         },
         "mode": "lines",
         "type": "scatter",
         "x": [
          34.5,
          34.5
         ],
         "xaxis": "x6",
         "y": [
          3.5,
          6.5
         ],
         "yaxis": "y6"
        },
        {
         "hoverinfo": "skip",
         "line": {
          "color": "#9e9e9e",
          "width": 1
         },
         "mode": "lines",
         "type": "scatter",
         "x": [
          34.5,
          35.5
         ],
         "xaxis": "x6",
         "y": [
          3.5,
          3.5
         ],
         "yaxis": "y6"
        },
        {
         "hoverinfo": "skip",
         "line": {
          "color": "#9e9e9e",
          "width": 1
         },
         "mode": "lines",
         "type": "scatter",
         "x": [
          35.5,
          35.5
         ],
         "xaxis": "x6",
         "y": [
          3.5,
          -0.5
         ],
         "yaxis": "y6"
        },
        {
         "hoverinfo": "skip",
         "line": {
          "color": "#9e9e9e",
          "width": 1
         },
         "mode": "lines",
         "type": "scatter",
         "x": [
          38.5,
          38.5
         ],
         "xaxis": "x6",
         "y": [
          5.5,
          6.5
         ],
         "yaxis": "y6"
        },
        {
         "hoverinfo": "skip",
         "line": {
          "color": "#9e9e9e",
          "width": 1
         },
         "mode": "lines",
         "type": "scatter",
         "x": [
          38.5,
          39.5
         ],
         "xaxis": "x6",
         "y": [
          5.5,
          5.5
         ],
         "yaxis": "y6"
        },
        {
         "hoverinfo": "skip",
         "line": {
          "color": "#9e9e9e",
          "width": 1
         },
         "mode": "lines",
         "type": "scatter",
         "x": [
          39.5,
          39.5
         ],
         "xaxis": "x6",
         "y": [
          5.5,
          -0.5
         ],
         "yaxis": "y6"
        },
        {
         "hoverinfo": "skip",
         "line": {
          "color": "#9e9e9e",
          "width": 1
         },
         "mode": "lines",
         "type": "scatter",
         "x": [
          43.5,
          43.5
         ],
         "xaxis": "x6",
         "y": [
          1.5,
          6.5
         ],
         "yaxis": "y6"
        },
        {
         "hoverinfo": "skip",
         "line": {
          "color": "#9e9e9e",
          "width": 1
         },
         "mode": "lines",
         "type": "scatter",
         "x": [
          43.5,
          44.5
         ],
         "xaxis": "x6",
         "y": [
          1.5,
          1.5
         ],
         "yaxis": "y6"
        },
        {
         "hoverinfo": "skip",
         "line": {
          "color": "#9e9e9e",
          "width": 1
         },
         "mode": "lines",
         "type": "scatter",
         "x": [
          44.5,
          44.5
         ],
         "xaxis": "x6",
         "y": [
          1.5,
          -0.5
         ],
         "yaxis": "y6"
        },
        {
         "hoverinfo": "skip",
         "line": {
          "color": "#9e9e9e",
          "width": 1
         },
         "mode": "lines",
         "type": "scatter",
         "x": [
          47.5,
          47.5
         ],
         "xaxis": "x6",
         "y": [
          3.5,
          6.5
         ],
         "yaxis": "y6"
        },
        {
         "hoverinfo": "skip",
         "line": {
          "color": "#9e9e9e",
          "width": 1
         },
         "mode": "lines",
         "type": "scatter",
         "x": [
          47.5,
          48.5
         ],
         "xaxis": "x6",
         "y": [
          3.5,
          3.5
         ],
         "yaxis": "y6"
        },
        {
         "hoverinfo": "skip",
         "line": {
          "color": "#9e9e9e",
          "width": 1
         },
         "mode": "lines",
         "type": "scatter",
         "x": [
          48.5,
          48.5
         ],
         "xaxis": "x6",
         "y": [
          3.5,
          -0.5
         ],
         "yaxis": "y6"
        }
       ],
       "layout": {
        "autosize": true,
        "font": {
         "color": "#9e9e9e",
         "size": 10
        },
        "margin": {
         "b": 20,
         "t": 20
        },
        "plot_bgcolor": "#fff",
        "showlegend": false,
        "template": {
         "data": {
          "bar": [
           {
            "error_x": {
             "color": "#2a3f5f"
            },
            "error_y": {
             "color": "#2a3f5f"
            },
            "marker": {
             "line": {
              "color": "#E5ECF6",
              "width": 0.5
             },
             "pattern": {
              "fillmode": "overlay",
              "size": 10,
              "solidity": 0.2
             }
            },
            "type": "bar"
           }
          ],
          "barpolar": [
           {
            "marker": {
             "line": {
              "color": "#E5ECF6",
              "width": 0.5
             },
             "pattern": {
              "fillmode": "overlay",
              "size": 10,
              "solidity": 0.2
             }
            },
            "type": "barpolar"
           }
          ],
          "carpet": [
           {
            "aaxis": {
             "endlinecolor": "#2a3f5f",
             "gridcolor": "white",
             "linecolor": "white",
             "minorgridcolor": "white",
             "startlinecolor": "#2a3f5f"
            },
            "baxis": {
             "endlinecolor": "#2a3f5f",
             "gridcolor": "white",
             "linecolor": "white",
             "minorgridcolor": "white",
             "startlinecolor": "#2a3f5f"
            },
            "type": "carpet"
           }
          ],
          "choropleth": [
           {
            "colorbar": {
             "outlinewidth": 0,
             "ticks": ""
            },
            "type": "choropleth"
           }
          ],
          "contour": [
           {
            "colorbar": {
             "outlinewidth": 0,
             "ticks": ""
            },
            "colorscale": [
             [
              0,
              "#0d0887"
             ],
             [
              0.1111111111111111,
              "#46039f"
             ],
             [
              0.2222222222222222,
              "#7201a8"
             ],
             [
              0.3333333333333333,
              "#9c179e"
             ],
             [
              0.4444444444444444,
              "#bd3786"
             ],
             [
              0.5555555555555556,
              "#d8576b"
             ],
             [
              0.6666666666666666,
              "#ed7953"
             ],
             [
              0.7777777777777778,
              "#fb9f3a"
             ],
             [
              0.8888888888888888,
              "#fdca26"
             ],
             [
              1,
              "#f0f921"
             ]
            ],
            "type": "contour"
           }
          ],
          "contourcarpet": [
           {
            "colorbar": {
             "outlinewidth": 0,
             "ticks": ""
            },
            "type": "contourcarpet"
           }
          ],
          "heatmap": [
           {
            "colorbar": {
             "outlinewidth": 0,
             "ticks": ""
            },
            "colorscale": [
             [
              0,
              "#0d0887"
             ],
             [
              0.1111111111111111,
              "#46039f"
             ],
             [
              0.2222222222222222,
              "#7201a8"
             ],
             [
              0.3333333333333333,
              "#9c179e"
             ],
             [
              0.4444444444444444,
              "#bd3786"
             ],
             [
              0.5555555555555556,
              "#d8576b"
             ],
             [
              0.6666666666666666,
              "#ed7953"
             ],
             [
              0.7777777777777778,
              "#fb9f3a"
             ],
             [
              0.8888888888888888,
              "#fdca26"
             ],
             [
              1,
              "#f0f921"
             ]
            ],
            "type": "heatmap"
           }
          ],
          "heatmapgl": [
           {
            "colorbar": {
             "outlinewidth": 0,
             "ticks": ""
            },
            "colorscale": [
             [
              0,
              "#0d0887"
             ],
             [
              0.1111111111111111,
              "#46039f"
             ],
             [
              0.2222222222222222,
              "#7201a8"
             ],
             [
              0.3333333333333333,
              "#9c179e"
             ],
             [
              0.4444444444444444,
              "#bd3786"
             ],
             [
              0.5555555555555556,
              "#d8576b"
             ],
             [
              0.6666666666666666,
              "#ed7953"
             ],
             [
              0.7777777777777778,
              "#fb9f3a"
             ],
             [
              0.8888888888888888,
              "#fdca26"
             ],
             [
              1,
              "#f0f921"
             ]
            ],
            "type": "heatmapgl"
           }
          ],
          "histogram": [
           {
            "marker": {
             "pattern": {
              "fillmode": "overlay",
              "size": 10,
              "solidity": 0.2
             }
            },
            "type": "histogram"
           }
          ],
          "histogram2d": [
           {
            "colorbar": {
             "outlinewidth": 0,
             "ticks": ""
            },
            "colorscale": [
             [
              0,
              "#0d0887"
             ],
             [
              0.1111111111111111,
              "#46039f"
             ],
             [
              0.2222222222222222,
              "#7201a8"
             ],
             [
              0.3333333333333333,
              "#9c179e"
             ],
             [
              0.4444444444444444,
              "#bd3786"
             ],
             [
              0.5555555555555556,
              "#d8576b"
             ],
             [
              0.6666666666666666,
              "#ed7953"
             ],
             [
              0.7777777777777778,
              "#fb9f3a"
             ],
             [
              0.8888888888888888,
              "#fdca26"
             ],
             [
              1,
              "#f0f921"
             ]
            ],
            "type": "histogram2d"
           }
          ],
          "histogram2dcontour": [
           {
            "colorbar": {
             "outlinewidth": 0,
             "ticks": ""
            },
            "colorscale": [
             [
              0,
              "#0d0887"
             ],
             [
              0.1111111111111111,
              "#46039f"
             ],
             [
              0.2222222222222222,
              "#7201a8"
             ],
             [
              0.3333333333333333,
              "#9c179e"
             ],
             [
              0.4444444444444444,
              "#bd3786"
             ],
             [
              0.5555555555555556,
              "#d8576b"
             ],
             [
              0.6666666666666666,
              "#ed7953"
             ],
             [
              0.7777777777777778,
              "#fb9f3a"
             ],
             [
              0.8888888888888888,
              "#fdca26"
             ],
             [
              1,
              "#f0f921"
             ]
            ],
            "type": "histogram2dcontour"
           }
          ],
          "mesh3d": [
           {
            "colorbar": {
             "outlinewidth": 0,
             "ticks": ""
            },
            "type": "mesh3d"
           }
          ],
          "parcoords": [
           {
            "line": {
             "colorbar": {
              "outlinewidth": 0,
              "ticks": ""
             }
            },
            "type": "parcoords"
           }
          ],
          "pie": [
           {
            "automargin": true,
            "type": "pie"
           }
          ],
          "scatter": [
           {
            "fillpattern": {
             "fillmode": "overlay",
             "size": 10,
             "solidity": 0.2
            },
            "type": "scatter"
           }
          ],
          "scatter3d": [
           {
            "line": {
             "colorbar": {
              "outlinewidth": 0,
              "ticks": ""
             }
            },
            "marker": {
             "colorbar": {
              "outlinewidth": 0,
              "ticks": ""
             }
            },
            "type": "scatter3d"
           }
          ],
          "scattercarpet": [
           {
            "marker": {
             "colorbar": {
              "outlinewidth": 0,
              "ticks": ""
             }
            },
            "type": "scattercarpet"
           }
          ],
          "scattergeo": [
           {
            "marker": {
             "colorbar": {
              "outlinewidth": 0,
              "ticks": ""
             }
            },
            "type": "scattergeo"
           }
          ],
          "scattergl": [
           {
            "marker": {
             "colorbar": {
              "outlinewidth": 0,
              "ticks": ""
             }
            },
            "type": "scattergl"
           }
          ],
          "scattermapbox": [
           {
            "marker": {
             "colorbar": {
              "outlinewidth": 0,
              "ticks": ""
             }
            },
            "type": "scattermapbox"
           }
          ],
          "scatterpolar": [
           {
            "marker": {
             "colorbar": {
              "outlinewidth": 0,
              "ticks": ""
             }
            },
            "type": "scatterpolar"
           }
          ],
          "scatterpolargl": [
           {
            "marker": {
             "colorbar": {
              "outlinewidth": 0,
              "ticks": ""
             }
            },
            "type": "scatterpolargl"
           }
          ],
          "scatterternary": [
           {
            "marker": {
             "colorbar": {
              "outlinewidth": 0,
              "ticks": ""
             }
            },
            "type": "scatterternary"
           }
          ],
          "surface": [
           {
            "colorbar": {
             "outlinewidth": 0,
             "ticks": ""
            },
            "colorscale": [
             [
              0,
              "#0d0887"
             ],
             [
              0.1111111111111111,
              "#46039f"
             ],
             [
              0.2222222222222222,
              "#7201a8"
             ],
             [
              0.3333333333333333,
              "#9c179e"
             ],
             [
              0.4444444444444444,
              "#bd3786"
             ],
             [
              0.5555555555555556,
              "#d8576b"
             ],
             [
              0.6666666666666666,
              "#ed7953"
             ],
             [
              0.7777777777777778,
              "#fb9f3a"
             ],
             [
              0.8888888888888888,
              "#fdca26"
             ],
             [
              1,
              "#f0f921"
             ]
            ],
            "type": "surface"
           }
          ],
          "table": [
           {
            "cells": {
             "fill": {
              "color": "#EBF0F8"
             },
             "line": {
              "color": "white"
             }
            },
            "header": {
             "fill": {
              "color": "#C8D4E3"
             },
             "line": {
              "color": "white"
             }
            },
            "type": "table"
           }
          ]
         },
         "layout": {
          "annotationdefaults": {
           "arrowcolor": "#2a3f5f",
           "arrowhead": 0,
           "arrowwidth": 1
          },
          "autotypenumbers": "strict",
          "coloraxis": {
           "colorbar": {
            "outlinewidth": 0,
            "ticks": ""
           }
          },
          "colorscale": {
           "diverging": [
            [
             0,
             "#8e0152"
            ],
            [
             0.1,
             "#c51b7d"
            ],
            [
             0.2,
             "#de77ae"
            ],
            [
             0.3,
             "#f1b6da"
            ],
            [
             0.4,
             "#fde0ef"
            ],
            [
             0.5,
             "#f7f7f7"
            ],
            [
             0.6,
             "#e6f5d0"
            ],
            [
             0.7,
             "#b8e186"
            ],
            [
             0.8,
             "#7fbc41"
            ],
            [
             0.9,
             "#4d9221"
            ],
            [
             1,
             "#276419"
            ]
           ],
           "sequential": [
            [
             0,
             "#0d0887"
            ],
            [
             0.1111111111111111,
             "#46039f"
            ],
            [
             0.2222222222222222,
             "#7201a8"
            ],
            [
             0.3333333333333333,
             "#9c179e"
            ],
            [
             0.4444444444444444,
             "#bd3786"
            ],
            [
             0.5555555555555556,
             "#d8576b"
            ],
            [
             0.6666666666666666,
             "#ed7953"
            ],
            [
             0.7777777777777778,
             "#fb9f3a"
            ],
            [
             0.8888888888888888,
             "#fdca26"
            ],
            [
             1,
             "#f0f921"
            ]
           ],
           "sequentialminus": [
            [
             0,
             "#0d0887"
            ],
            [
             0.1111111111111111,
             "#46039f"
            ],
            [
             0.2222222222222222,
             "#7201a8"
            ],
            [
             0.3333333333333333,
             "#9c179e"
            ],
            [
             0.4444444444444444,
             "#bd3786"
            ],
            [
             0.5555555555555556,
             "#d8576b"
            ],
            [
             0.6666666666666666,
             "#ed7953"
            ],
            [
             0.7777777777777778,
             "#fb9f3a"
            ],
            [
             0.8888888888888888,
             "#fdca26"
            ],
            [
             1,
             "#f0f921"
            ]
           ]
          },
          "colorway": [
           "#636efa",
           "#EF553B",
           "#00cc96",
           "#ab63fa",
           "#FFA15A",
           "#19d3f3",
           "#FF6692",
           "#B6E880",
           "#FF97FF",
           "#FECB52"
          ],
          "font": {
           "color": "#2a3f5f"
          },
          "geo": {
           "bgcolor": "white",
           "lakecolor": "white",
           "landcolor": "#E5ECF6",
           "showlakes": true,
           "showland": true,
           "subunitcolor": "white"
          },
          "hoverlabel": {
           "align": "left"
          },
          "hovermode": "closest",
          "mapbox": {
           "style": "light"
          },
          "paper_bgcolor": "white",
          "plot_bgcolor": "#E5ECF6",
          "polar": {
           "angularaxis": {
            "gridcolor": "white",
            "linecolor": "white",
            "ticks": ""
           },
           "bgcolor": "#E5ECF6",
           "radialaxis": {
            "gridcolor": "white",
            "linecolor": "white",
            "ticks": ""
           }
          },
          "scene": {
           "xaxis": {
            "backgroundcolor": "#E5ECF6",
            "gridcolor": "white",
            "gridwidth": 2,
            "linecolor": "white",
            "showbackground": true,
            "ticks": "",
            "zerolinecolor": "white"
           },
           "yaxis": {
            "backgroundcolor": "#E5ECF6",
            "gridcolor": "white",
            "gridwidth": 2,
            "linecolor": "white",
            "showbackground": true,
            "ticks": "",
            "zerolinecolor": "white"
           },
           "zaxis": {
            "backgroundcolor": "#E5ECF6",
            "gridcolor": "white",
            "gridwidth": 2,
            "linecolor": "white",
            "showbackground": true,
            "ticks": "",
            "zerolinecolor": "white"
           }
          },
          "shapedefaults": {
           "line": {
            "color": "#2a3f5f"
           }
          },
          "ternary": {
           "aaxis": {
            "gridcolor": "white",
            "linecolor": "white",
            "ticks": ""
           },
           "baxis": {
            "gridcolor": "white",
            "linecolor": "white",
            "ticks": ""
           },
           "bgcolor": "#E5ECF6",
           "caxis": {
            "gridcolor": "white",
            "linecolor": "white",
            "ticks": ""
           }
          },
          "title": {
           "x": 0.05
          },
          "xaxis": {
           "automargin": true,
           "gridcolor": "white",
           "linecolor": "white",
           "ticks": "",
           "title": {
            "standoff": 15
           },
           "zerolinecolor": "white",
           "zerolinewidth": 2
          },
          "yaxis": {
           "automargin": true,
           "gridcolor": "white",
           "linecolor": "white",
           "ticks": "",
           "title": {
            "standoff": 15
           },
           "zerolinecolor": "white",
           "zerolinewidth": 2
          }
         }
        },
        "title": {
         "text": ""
        },
        "xaxis": {
         "anchor": "y",
         "autorange": true,
         "domain": [
          0,
          1
         ],
         "range": [
          0.5,
          53.5
         ],
         "showgrid": false,
         "showline": false,
         "tickmode": "array",
         "ticktext": [
          "January",
          "February",
          "March",
          "April",
          "May",
          "June",
          "July",
          "August",
          "September",
          "October",
          "November",
          "December"
         ],
         "tickvals": [
          1.5,
          5.909090909090909,
          10.318181818181818,
          14.727272727272727,
          19.136363636363637,
          23.545454545454547,
          27.954545454545453,
          32.36363636363636,
          36.77272727272727,
          41.18181818181818,
          45.59090909090909,
          50
         ],
         "type": "linear",
         "zeroline": false
        },
        "xaxis2": {
         "anchor": "y2",
         "autorange": true,
         "domain": [
          0,
          1
         ],
         "range": [
          -0.5,
          52.5
         ],
         "showgrid": false,
         "showline": false,
         "tickmode": "array",
         "ticktext": [
          "January",
          "February",
          "March",
          "April",
          "May",
          "June",
          "July",
          "August",
          "September",
          "October",
          "November",
          "December"
         ],
         "tickvals": [
          1.5,
          5.909090909090909,
          10.318181818181818,
          14.727272727272727,
          19.136363636363637,
          23.545454545454547,
          27.954545454545453,
          32.36363636363636,
          36.77272727272727,
          41.18181818181818,
          45.59090909090909,
          50
         ],
         "type": "linear",
         "zeroline": false
        },
        "xaxis3": {
         "anchor": "y3",
         "autorange": true,
         "domain": [
          0,
          1
         ],
         "range": [
          -0.5,
          52.5
         ],
         "showgrid": false,
         "showline": false,
         "tickmode": "array",
         "ticktext": [
          "January",
          "February",
          "March",
          "April",
          "May",
          "June",
          "July",
          "August",
          "September",
          "October",
          "November",
          "December"
         ],
         "tickvals": [
          1.5,
          5.909090909090909,
          10.318181818181818,
          14.727272727272727,
          19.136363636363637,
          23.545454545454547,
          27.954545454545453,
          32.36363636363636,
          36.77272727272727,
          41.18181818181818,
          45.59090909090909,
          50
         ],
         "type": "linear",
         "zeroline": false
        },
        "xaxis4": {
         "anchor": "y4",
         "autorange": true,
         "domain": [
          0,
          1
         ],
         "range": [
          -0.5,
          52.5
         ],
         "showgrid": false,
         "showline": false,
         "tickmode": "array",
         "ticktext": [
          "January",
          "February",
          "March",
          "April",
          "May",
          "June",
          "July",
          "August",
          "September",
          "October",
          "November",
          "December"
         ],
         "tickvals": [
          1.5,
          5.909090909090909,
          10.318181818181818,
          14.727272727272727,
          19.136363636363637,
          23.545454545454547,
          27.954545454545453,
          32.36363636363636,
          36.77272727272727,
          41.18181818181818,
          45.59090909090909,
          50
         ],
         "type": "linear",
         "zeroline": false
        },
        "xaxis5": {
         "anchor": "y5",
         "autorange": true,
         "domain": [
          0,
          1
         ],
         "range": [
          -0.5,
          52.5
         ],
         "showgrid": false,
         "showline": false,
         "tickmode": "array",
         "ticktext": [
          "January",
          "February",
          "March",
          "April",
          "May",
          "June",
          "July",
          "August",
          "September",
          "October",
          "November",
          "December"
         ],
         "tickvals": [
          1.5,
          5.909090909090909,
          10.318181818181818,
          14.727272727272727,
          19.136363636363637,
          23.545454545454547,
          27.954545454545453,
          32.36363636363636,
          36.77272727272727,
          41.18181818181818,
          45.59090909090909,
          50
         ],
         "type": "linear",
         "zeroline": false
        },
        "xaxis6": {
         "anchor": "y6",
         "autorange": true,
         "domain": [
          0,
          1
         ],
         "range": [
          -0.5,
          52.5
         ],
         "showgrid": false,
         "showline": false,
         "tickmode": "array",
         "ticktext": [
          "January",
          "February",
          "March",
          "April",
          "May",
          "June",
          "July",
          "August",
          "September",
          "October",
          "November",
          "December"
         ],
         "tickvals": [
          1.5,
          5.909090909090909,
          10.318181818181818,
          14.727272727272727,
          19.136363636363637,
          23.545454545454547,
          27.954545454545453,
          32.36363636363636,
          36.77272727272727,
          41.18181818181818,
          45.59090909090909,
          50
         ],
         "type": "linear",
         "zeroline": false
        },
        "yaxis": {
         "anchor": "x",
         "autorange": true,
         "domain": [
          0.8999999999999999,
          0.9999999999999999
         ],
         "range": [
          6.888888888888889,
          -0.8888888888888891
         ],
         "showgrid": false,
         "showline": false,
         "tickmode": "array",
         "ticktext": [
          "Mon",
          "Tue",
          "Wed",
          "Thu",
          "Fri",
          "Sat",
          "Sun"
         ],
         "tickvals": [
          0,
          1,
          2,
          3,
          4,
          5,
          6
         ],
         "type": "linear",
         "zeroline": false
        },
        "yaxis2": {
         "anchor": "x2",
         "autorange": true,
         "domain": [
          0.72,
          0.82
         ],
         "range": [
          6.888888888888889,
          -0.8888888888888891
         ],
         "showgrid": false,
         "showline": false,
         "tickmode": "array",
         "ticktext": [
          "Mon",
          "Tue",
          "Wed",
          "Thu",
          "Fri",
          "Sat",
          "Sun"
         ],
         "tickvals": [
          0,
          1,
          2,
          3,
          4,
          5,
          6
         ],
         "type": "linear",
         "zeroline": false
        },
        "yaxis3": {
         "anchor": "x3",
         "autorange": true,
         "domain": [
          0.54,
          0.64
         ],
         "range": [
          6.888888888888889,
          -0.8888888888888891
         ],
         "showgrid": false,
         "showline": false,
         "tickmode": "array",
         "ticktext": [
          "Mon",
          "Tue",
          "Wed",
          "Thu",
          "Fri",
          "Sat",
          "Sun"
         ],
         "tickvals": [
          0,
          1,
          2,
          3,
          4,
          5,
          6
         ],
         "type": "linear",
         "zeroline": false
        },
        "yaxis4": {
         "anchor": "x4",
         "autorange": true,
         "domain": [
          0.36,
          0.45999999999999996
         ],
         "range": [
          6.888888888888889,
          -0.8888888888888891
         ],
         "showgrid": false,
         "showline": false,
         "tickmode": "array",
         "ticktext": [
          "Mon",
          "Tue",
          "Wed",
          "Thu",
          "Fri",
          "Sat",
          "Sun"
         ],
         "tickvals": [
          0,
          1,
          2,
          3,
          4,
          5,
          6
         ],
         "type": "linear",
         "zeroline": false
        },
        "yaxis5": {
         "anchor": "x5",
         "autorange": true,
         "domain": [
          0.18,
          0.27999999999999997
         ],
         "range": [
          6.888888888888889,
          -0.8888888888888891
         ],
         "showgrid": false,
         "showline": false,
         "tickmode": "array",
         "ticktext": [
          "Mon",
          "Tue",
          "Wed",
          "Thu",
          "Fri",
          "Sat",
          "Sun"
         ],
         "tickvals": [
          0,
          1,
          2,
          3,
          4,
          5,
          6
         ],
         "type": "linear",
         "zeroline": false
        },
        "yaxis6": {
         "anchor": "x6",
         "autorange": true,
         "domain": [
          0,
          0.09999999999999999
         ],
         "range": [
          6.888888888888889,
          -0.8888888888888891
         ],
         "showgrid": false,
         "showline": false,
         "tickmode": "array",
         "ticktext": [
          "Mon",
          "Tue",
          "Wed",
          "Thu",
          "Fri",
          "Sat",
          "Sun"
         ],
         "tickvals": [
          0,
          1,
          2,
          3,
          4,
          5,
          6
         ],
         "type": "linear",
         "zeroline": false
        }
       }
      },
      "image/png": "[encoded data removed]",
      "text/html": [
       "<div>                            <div id=\"628d03a1-eb7e-4313-8917-555598ed9eaf\" class=\"plotly-graph-div\" style=\"height:900px; width:100%;\"></div>            <script type=\"text/javascript\">                require([\"plotly\"], function(Plotly) {                    window.PLOTLYENV=window.PLOTLYENV || {};                                    if (document.getElementById(\"628d03a1-eb7e-4313-8917-555598ed9eaf\")) {                    Plotly.newPlot(                        \"628d03a1-eb7e-4313-8917-555598ed9eaf\",                        [{\"colorscale\":[[0.0,\"rgb(247,252,245)\"],[0.125,\"rgb(229,245,224)\"],[0.25,\"rgb(199,233,192)\"],[0.375,\"rgb(161,217,155)\"],[0.5,\"rgb(116,196,118)\"],[0.625,\"rgb(65,171,93)\"],[0.75,\"rgb(35,139,69)\"],[0.875,\"rgb(0,109,44)\"],[1.0,\"rgb(0,68,27)\"]],\"customdata\":[[\"2018-01-01\",\"y\"],[\"2018-01-02\",\"y\"],[\"2018-01-03\",\"y\"],[\"2018-01-04\",\"y\"],[\"2018-01-05\",\"y\"],[\"2018-01-06\",\"y\"],[\"2018-01-07\",\"y\"],[\"2018-01-08\",\"y\"],[\"2018-01-09\",\"y\"],[\"2018-01-10\",\"y\"],[\"2018-01-11\",\"y\"],[\"2018-01-12\",\"y\"],[\"2018-01-13\",\"y\"],[\"2018-01-14\",\"y\"],[\"2018-01-15\",\"y\"],[\"2018-01-16\",\"y\"],[\"2018-01-17\",\"y\"],[\"2018-01-18\",\"y\"],[\"2018-01-19\",\"y\"],[\"2018-01-20\",\"y\"],[\"2018-01-21\",\"y\"],[\"2018-01-22\",\"y\"],[\"2018-01-23\",\"y\"],[\"2018-01-24\",\"y\"],[\"2018-01-25\",\"y\"],[\"2018-01-26\",\"y\"],[\"2018-01-27\",\"y\"],[\"2018-01-28\",\"y\"],[\"2018-01-29\",\"y\"],[\"2018-01-30\",\"y\"],[\"2018-01-31\",\"y\"],[\"2018-02-01\",\"y\"],[\"2018-02-02\",\"y\"],[\"2018-02-03\",\"y\"],[\"2018-02-04\",\"y\"],[\"2018-02-05\",\"y\"],[\"2018-02-06\",\"y\"],[\"2018-02-07\",\"y\"],[\"2018-02-08\",\"y\"],[\"2018-02-09\",\"y\"],[\"2018-02-10\",\"y\"],[\"2018-02-11\",\"y\"],[\"2018-02-12\",\"y\"],[\"2018-02-13\",\"y\"],[\"2018-02-14\",\"y\"],[\"2018-02-15\",\"y\"],[\"2018-02-16\",\"y\"],[\"2018-02-17\",\"y\"],[\"2018-02-18\",\"y\"],[\"2018-02-19\",\"y\"],[\"2018-02-20\",\"y\"],[\"2018-02-21\",\"y\"],[\"2018-02-22\",\"y\"],[\"2018-02-23\",\"y\"],[\"2018-02-24\",\"y\"],[\"2018-02-25\",\"y\"],[\"2018-02-26\",\"y\"],[\"2018-02-27\",\"y\"],[\"2018-02-28\",\"y\"],[\"2018-03-01\",\"y\"],[\"2018-03-02\",\"y\"],[\"2018-03-03\",\"y\"],[\"2018-03-04\",\"y\"],[\"2018-03-05\",\"y\"],[\"2018-03-06\",\"y\"],[\"2018-03-07\",\"y\"],[\"2018-03-08\",\"y\"],[\"2018-03-09\",\"y\"],[\"2018-03-10\",\"y\"],[\"2018-03-11\",\"y\"],[\"2018-03-12\",\"y\"],[\"2018-03-13\",\"y\"],[\"2018-03-14\",\"y\"],[\"2018-03-15\",\"y\"],[\"2018-03-16\",\"y\"],[\"2018-03-17\",\"y\"],[\"2018-03-18\",\"y\"],[\"2018-03-19\",\"y\"],[\"2018-03-20\",\"y\"],[\"2018-03-21\",\"y\"],[\"2018-03-22\",\"y\"],[\"2018-03-23\",\"y\"],[\"2018-03-24\",\"y\"],[\"2018-03-25\",\"y\"],[\"2018-03-26\",\"y\"],[\"2018-03-27\",\"y\"],[\"2018-03-28\",\"y\"],[\"2018-03-29\",\"y\"],[\"2018-03-30\",\"y\"],[\"2018-03-31\",\"y\"],[\"2018-04-01\",\"y\"],[\"2018-04-02\",\"y\"],[\"2018-04-03\",\"y\"],[\"2018-04-04\",\"y\"],[\"2018-04-05\",\"y\"],[\"2018-04-06\",\"y\"],[\"2018-04-07\",\"y\"],[\"2018-04-08\",\"y\"],[\"2018-04-09\",\"y\"],[\"2018-04-10\",\"y\"],[\"2018-04-11\",\"y\"],[\"2018-04-12\",\"y\"],[\"2018-04-13\",\"y\"],[\"2018-04-14\",\"y\"],[\"2018-04-15\",\"y\"],[\"2018-04-16\",\"y\"],[\"2018-04-17\",\"y\"],[\"2018-04-18\",\"y\"],[\"2018-04-19\",\"y\"],[\"2018-04-20\",\"y\"],[\"2018-04-21\",\"y\"],[\"2018-04-22\",\"y\"],[\"2018-04-23\",\"y\"],[\"2018-04-24\",\"y\"],[\"2018-04-25\",\"y\"],[\"2018-04-26\",\"y\"],[\"2018-04-27\",\"y\"],[\"2018-04-28\",\"y\"],[\"2018-04-29\",\"y\"],[\"2018-04-30\",\"y\"],[\"2018-05-01\",\"y\"],[\"2018-05-02\",\"y\"],[\"2018-05-03\",\"y\"],[\"2018-05-04\",\"y\"],[\"2018-05-05\",\"y\"],[\"2018-05-06\",\"y\"],[\"2018-05-07\",\"y\"],[\"2018-05-08\",\"y\"],[\"2018-05-09\",\"y\"],[\"2018-05-10\",\"y\"],[\"2018-05-11\",\"y\"],[\"2018-05-12\",\"y\"],[\"2018-05-13\",\"y\"],[\"2018-05-14\",\"y\"],[\"2018-05-15\",\"y\"],[\"2018-05-16\",\"y\"],[\"2018-05-17\",\"y\"],[\"2018-05-18\",\"y\"],[\"2018-05-19\",\"y\"],[\"2018-05-20\",\"y\"],[\"2018-05-21\",\"y\"],[\"2018-05-22\",\"y\"],[\"2018-05-23\",\"y\"],[\"2018-05-24\",\"y\"],[\"2018-05-25\",\"y\"],[\"2018-05-26\",\"y\"],[\"2018-05-27\",\"y\"],[\"2018-05-28\",\"y\"],[\"2018-05-29\",\"y\"],[\"2018-05-30\",\"y\"],[\"2018-05-31\",\"y\"],[\"2018-06-01\",\"y\"],[\"2018-06-02\",\"y\"],[\"2018-06-03\",\"y\"],[\"2018-06-04\",\"y\"],[\"2018-06-05\",\"y\"],[\"2018-06-06\",\"y\"],[\"2018-06-07\",\"y\"],[\"2018-06-08\",\"y\"],[\"2018-06-09\",\"y\"],[\"2018-06-10\",\"y\"],[\"2018-06-11\",\"y\"],[\"2018-06-12\",\"y\"],[\"2018-06-13\",\"y\"],[\"2018-06-14\",\"y\"],[\"2018-06-15\",\"y\"],[\"2018-06-16\",\"y\"],[\"2018-06-17\",\"y\"],[\"2018-06-18\",\"y\"],[\"2018-06-19\",\"y\"],[\"2018-06-20\",\"y\"],[\"2018-06-21\",\"y\"],[\"2018-06-22\",\"y\"],[\"2018-06-23\",\"y\"],[\"2018-06-24\",\"y\"],[\"2018-06-25\",\"y\"],[\"2018-06-26\",\"y\"],[\"2018-06-27\",\"y\"],[\"2018-06-28\",\"y\"],[\"2018-06-29\",\"y\"],[\"2018-06-30\",\"y\"],[\"2018-07-01\",\"y\"],[\"2018-07-02\",\"y\"],[\"2018-07-03\",\"y\"],[\"2018-07-04\",\"y\"],[\"2018-07-05\",\"y\"],[\"2018-07-06\",\"y\"],[\"2018-07-07\",\"y\"],[\"2018-07-08\",\"y\"],[\"2018-07-09\",\"y\"],[\"2018-07-10\",\"y\"],[\"2018-07-11\",\"y\"],[\"2018-07-12\",\"y\"],[\"2018-07-13\",\"y\"],[\"2018-07-14\",\"y\"],[\"2018-07-15\",\"y\"],[\"2018-07-16\",\"y\"],[\"2018-07-17\",\"y\"],[\"2018-07-18\",\"y\"],[\"2018-07-19\",\"y\"],[\"2018-07-20\",\"y\"],[\"2018-07-21\",\"y\"],[\"2018-07-22\",\"y\"],[\"2018-07-23\",\"y\"],[\"2018-07-24\",\"y\"],[\"2018-07-25\",\"y\"],[\"2018-07-26\",\"y\"],[\"2018-07-27\",\"y\"],[\"2018-07-28\",\"y\"],[\"2018-07-29\",\"y\"],[\"2018-07-30\",\"y\"],[\"2018-07-31\",\"y\"],[\"2018-08-01\",\"y\"],[\"2018-08-02\",\"y\"],[\"2018-08-03\",\"y\"],[\"2018-08-04\",\"y\"],[\"2018-08-05\",\"y\"],[\"2018-08-06\",\"y\"],[\"2018-08-07\",\"y\"],[\"2018-08-08\",\"y\"],[\"2018-08-09\",\"y\"],[\"2018-08-10\",\"y\"],[\"2018-08-11\",\"y\"],[\"2018-08-12\",\"y\"],[\"2018-08-13\",\"y\"],[\"2018-08-14\",\"y\"],[\"2018-08-15\",\"y\"],[\"2018-08-16\",\"y\"],[\"2018-08-17\",\"y\"],[\"2018-08-18\",\"y\"],[\"2018-08-19\",\"y\"],[\"2018-08-20\",\"y\"],[\"2018-08-21\",\"y\"],[\"2018-08-22\",\"y\"],[\"2018-08-23\",\"y\"],[\"2018-08-24\",\"y\"],[\"2018-08-25\",\"y\"],[\"2018-08-26\",\"y\"],[\"2018-08-27\",\"y\"],[\"2018-08-28\",\"y\"],[\"2018-08-29\",\"y\"],[\"2018-08-30\",\"y\"],[\"2018-08-31\",\"y\"],[\"2018-09-01\",\"y\"],[\"2018-09-02\",\"y\"],[\"2018-09-03\",\"y\"],[\"2018-09-04\",\"y\"],[\"2018-09-05\",\"y\"],[\"2018-09-06\",\"y\"],[\"2018-09-07\",\"y\"],[\"2018-09-08\",\"y\"],[\"2018-09-09\",\"y\"],[\"2018-09-10\",\"y\"],[\"2018-09-11\",\"y\"],[\"2018-09-12\",\"y\"],[\"2018-09-13\",\"y\"],[\"2018-09-14\",\"y\"],[\"2018-09-15\",\"y\"],[\"2018-09-16\",\"y\"],[\"2018-09-17\",\"y\"],[\"2018-09-18\",\"y\"],[\"2018-09-19\",\"y\"],[\"2018-09-20\",\"y\"],[\"2018-09-21\",\"y\"],[\"2018-09-22\",\"y\"],[\"2018-09-23\",\"y\"],[\"2018-09-24\",\"y\"],[\"2018-09-25\",\"y\"],[\"2018-09-26\",\"y\"],[\"2018-09-27\",\"y\"],[\"2018-09-28\",\"y\"],[\"2018-09-29\",\"y\"],[\"2018-09-30\",\"y\"],[\"2018-10-01\",\"y\"],[\"2018-10-02\",\"y\"],[\"2018-10-03\",\"y\"],[\"2018-10-04\",\"y\"],[\"2018-10-05\",\"y\"],[\"2018-10-06\",\"y\"],[\"2018-10-07\",\"y\"],[\"2018-10-08\",\"y\"],[\"2018-10-09\",\"y\"],[\"2018-10-10\",\"y\"],[\"2018-10-11\",\"y\"],[\"2018-10-12\",\"y\"],[\"2018-10-13\",\"y\"],[\"2018-10-14\",\"y\"],[\"2018-10-15\",\"y\"],[\"2018-10-16\",\"y\"],[\"2018-10-17\",\"y\"],[\"2018-10-18\",\"y\"],[\"2018-10-19\",\"y\"],[\"2018-10-20\",\"y\"],[\"2018-10-21\",\"y\"],[\"2018-10-22\",\"y\"],[\"2018-10-23\",\"y\"],[\"2018-10-24\",\"y\"],[\"2018-10-25\",\"y\"],[\"2018-10-26\",\"y\"],[\"2018-10-27\",\"y\"],[\"2018-10-28\",\"y\"],[\"2018-10-29\",\"y\"],[\"2018-10-30\",\"y\"],[\"2018-10-31\",\"y\"],[\"2018-11-01\",\"y\"],[\"2018-11-02\",\"y\"],[\"2018-11-03\",\"y\"],[\"2018-11-04\",\"y\"],[\"2018-11-05\",\"y\"],[\"2018-11-06\",\"y\"],[\"2018-11-07\",\"y\"],[\"2018-11-08\",\"y\"],[\"2018-11-09\",\"y\"],[\"2018-11-10\",\"y\"],[\"2018-11-11\",\"y\"],[\"2018-11-12\",\"y\"],[\"2018-11-13\",\"y\"],[\"2018-11-14\",\"y\"],[\"2018-11-15\",\"y\"],[\"2018-11-16\",\"y\"],[\"2018-11-17\",\"y\"],[\"2018-11-18\",\"y\"],[\"2018-11-19\",\"y\"],[\"2018-11-20\",\"y\"],[\"2018-11-21\",\"y\"],[\"2018-11-22\",\"y\"],[\"2018-11-23\",\"y\"],[\"2018-11-24\",\"y\"],[\"2018-11-25\",\"y\"],[\"2018-11-26\",\"y\"],[\"2018-11-27\",\"y\"],[\"2018-11-28\",\"y\"],[\"2018-11-29\",\"y\"],[\"2018-11-30\",\"y\"],[\"2018-12-01\",\"y\"],[\"2018-12-02\",\"y\"],[\"2018-12-03\",\"y\"],[\"2018-12-04\",\"y\"],[\"2018-12-05\",\"y\"],[\"2018-12-06\",\"y\"],[\"2018-12-07\",\"y\"],[\"2018-12-08\",\"y\"],[\"2018-12-09\",\"y\"],[\"2018-12-10\",\"y\"],[\"2018-12-11\",\"y\"],[\"2018-12-12\",\"y\"],[\"2018-12-13\",\"y\"],[\"2018-12-14\",\"y\"],[\"2018-12-15\",\"y\"],[\"2018-12-16\",\"y\"],[\"2018-12-17\",\"y\"],[\"2018-12-18\",\"y\"],[\"2018-12-19\",\"y\"],[\"2018-12-20\",\"y\"],[\"2018-12-21\",\"y\"],[\"2018-12-22\",\"y\"],[\"2018-12-23\",\"y\"],[\"2018-12-24\",\"y\"],[\"2018-12-25\",\"y\"],[\"2018-12-26\",\"y\"],[\"2018-12-27\",\"y\"],[\"2018-12-28\",\"y\"],[\"2018-12-29\",\"y\"],[\"2018-12-30\",\"y\"],[\"2018-12-31\",\"y\"]],\"hovertemplate\":\"%{customdata[0]} \\u003cbr\\u003eWeek=%{x} \\u003cbr\\u003e%{customdata[1]}=%{z}\",\"name\":\"2018\",\"showscale\":false,\"x\":[1,1,1,1,1,1,1,2,2,2,2,2,2,2,3,3,3,3,3,3,3,4,4,4,4,4,4,4,5,5,5,5,5,5,5,6,6,6,6,6,6,6,7,7,7,7,7,7,7,8,8,8,8,8,8,8,9,9,9,9,9,9,9,10,10,10,10,10,10,10,11,11,11,11,11,11,11,12,12,12,12,12,12,12,13,13,13,13,13,13,13,14,14,14,14,14,14,14,15,15,15,15,15,15,15,16,16,16,16,16,16,16,17,17,17,17,17,17,17,18,18,18,18,18,18,18,19,19,19,19,19,19,19,20,20,20,20,20,20,20,21,21,21,21,21,21,21,22,22,22,22,22,22,22,23,23,23,23,23,23,23,24,24,24,24,24,24,24,25,25,25,25,25,25,25,26,26,26,26,26,26,26,27,27,27,27,27,27,27,28,28,28,28,28,28,28,29,29,29,29,29,29,29,30,30,30,30,30,30,30,31,31,31,31,31,31,31,32,32,32,32,32,32,32,33,33,33,33,33,33,33,34,34,34,34,34,34,34,35,35,35,35,35,35,35,36,36,36,36,36,36,36,37,37,37,37,37,37,37,38,38,38,38,38,38,38,39,39,39,39,39,39,39,40,40,40,40,40,40,40,41,41,41,41,41,41,41,42,42,42,42,42,42,42,43,43,43,43,43,43,43,44,44,44,44,44,44,44,45,45,45,45,45,45,45,46,46,46,46,46,46,46,47,47,47,47,47,47,47,48,48,48,48,48,48,48,49,49,49,49,49,49,49,50,50,50,50,50,50,50,51,51,51,51,51,51,51,52,52,52,52,52,52,52,53],\"xgap\":1,\"y\":[0,1,2,3,4,5,6,0,1,2,3,4,5,6,0,1,2,3,4,5,6,0,1,2,3,4,5,6,0,1,2,3,4,5,6,0,1,2,3,4,5,6,0,1,2,3,4,5,6,0,1,2,3,4,5,6,0,1,2,3,4,5,6,0,1,2,3,4,5,6,0,1,2,3,4,5,6,0,1,2,3,4,5,6,0,1,2,3,4,5,6,0,1,2,3,4,5,6,0,1,2,3,4,5,6,0,1,2,3,4,5,6,0,1,2,3,4,5,6,0,1,2,3,4,5,6,0,1,2,3,4,5,6,0,1,2,3,4,5,6,0,1,2,3,4,5,6,0,1,2,3,4,5,6,0,1,2,3,4,5,6,0,1,2,3,4,5,6,0,1,2,3,4,5,6,0,1,2,3,4,5,6,0,1,2,3,4,5,6,0,1,2,3,4,5,6,0,1,2,3,4,5,6,0,1,2,3,4,5,6,0,1,2,3,4,5,6,0,1,2,3,4,5,6,0,1,2,3,4,5,6,0,1,2,3,4,5,6,0,1,2,3,4,5,6,0,1,2,3,4,5,6,0,1,2,3,4,5,6,0,1,2,3,4,5,6,0,1,2,3,4,5,6,0,1,2,3,4,5,6,0,1,2,3,4,5,6,0,1,2,3,4,5,6,0,1,2,3,4,5,6,0,1,2,3,4,5,6,0,1,2,3,4,5,6,0,1,2,3,4,5,6,0,1,2,3,4,5,6,0,1,2,3,4,5,6,0,1,2,3,4,5,6,0,1,2,3,4,5,6,0,1,2,3,4,5,6,0,1,2,3,4,5,6,0],\"ygap\":1,\"z\":[2.0,null,null,null,null,1.0,1.0,1.0,1.0,null,2.0,null,1.0,null,null,1.0,3.0,null,null,null,null,null,null,null,null,null,1.0,null,null,null,null,null,null,null,null,null,null,null,null,1.0,null,null,null,1.0,null,null,null,null,null,null,null,null,null,null,1.0,null,null,null,null,null,null,null,null,null,null,null,null,null,null,1.0,null,null,null,null,null,null,null,null,null,null,null,null,null,1.0,null,null,null,null,null,null,1.0,null,null,null,null,null,null,null,null,null,null,null,null,null,null,null,null,null,null,null,null,null,null,null,null,null,null,1.0,null,null,null,null,null,null,null,null,null,null,null,null,null,null,null,null,1.0,null,null,null,null,null,null,null,null,null,null,null,null,null,null,null,null,null,1.0,null,null,null,null,null,null,null,null,null,null,null,null,null,null,null,null,null,null,null,null,null,null,null,null,null,null,null,null,null,null,null,null,null,null,null,null,null,null,null,null,null,null,null,null,null,null,null,null,null,null,null,null,1.0,null,null,null,null,null,1.0,null,null,null,null,null,1.0,null,null,null,1.0,null,null,null,null,null,null,null,null,1.0,null,null,null,null,null,null,null,null,null,null,null,null,null,null,null,null,1.0,null,null,null,null,null,1.0,null,null,null,null,null,null,null,null,1.0,null,null,null,null,null,null,null,null,null,null,null,null,null,null,null,null,null,null,null,null,null,1.0,null,null,null,null,null,null,null,null,null,null,null,null,null,null,null,null,null,null,1.0,null,null,null,null,null,null,null,null,null,1.0,1.0,null,null,null,1.0,null,1.0,null,null,null,1.0,null,1.0,null,2.0,null,null,null,null,null,1.0,1.0,null,1.0,1.0,null,null,3.0,null,1.0,2.0,1.0,null,1.0,2.0,null,null,1.0,2.0,4.0,4.0,2.0,5.0,null,2.0,2.0,2.0,5.0,5.0,1.0,2.0],\"type\":\"heatmap\",\"xaxis\":\"x\",\"yaxis\":\"y\",\"zmax\":30,\"zmin\":1},{\"hoverinfo\":\"skip\",\"line\":{\"color\":\"#9e9e9e\",\"width\":1},\"mode\":\"lines\",\"x\":[0.5,0.5],\"y\":[-0.5,6.5],\"type\":\"scatter\",\"xaxis\":\"x\",\"yaxis\":\"y\"},{\"hoverinfo\":\"skip\",\"line\":{\"color\":\"#9e9e9e\",\"width\":1},\"mode\":\"lines\",\"x\":[4.5,4.5],\"y\":[2.5,6.5],\"type\":\"scatter\",\"xaxis\":\"x\",\"yaxis\":\"y\"},{\"hoverinfo\":\"skip\",\"line\":{\"color\":\"#9e9e9e\",\"width\":1},\"mode\":\"lines\",\"x\":[4.5,5.5],\"y\":[2.5,2.5],\"type\":\"scatter\",\"xaxis\":\"x\",\"yaxis\":\"y\"},{\"hoverinfo\":\"skip\",\"line\":{\"color\":\"#9e9e9e\",\"width\":1},\"mode\":\"lines\",\"x\":[5.5,5.5],\"y\":[2.5,-0.5],\"type\":\"scatter\",\"xaxis\":\"x\",\"yaxis\":\"y\"},{\"hoverinfo\":\"skip\",\"line\":{\"color\":\"#9e9e9e\",\"width\":1},\"mode\":\"lines\",\"x\":[8.5,8.5],\"y\":[2.5,6.5],\"type\":\"scatter\",\"xaxis\":\"x\",\"yaxis\":\"y\"},{\"hoverinfo\":\"skip\",\"line\":{\"color\":\"#9e9e9e\",\"width\":1},\"mode\":\"lines\",\"x\":[8.5,9.5],\"y\":[2.5,2.5],\"type\":\"scatter\",\"xaxis\":\"x\",\"yaxis\":\"y\"},{\"hoverinfo\":\"skip\",\"line\":{\"color\":\"#9e9e9e\",\"width\":1},\"mode\":\"lines\",\"x\":[9.5,9.5],\"y\":[2.5,-0.5],\"type\":\"scatter\",\"xaxis\":\"x\",\"yaxis\":\"y\"},{\"hoverinfo\":\"skip\",\"line\":{\"color\":\"#9e9e9e\",\"width\":1},\"mode\":\"lines\",\"x\":[12.5,12.5],\"y\":[5.5,6.5],\"type\":\"scatter\",\"xaxis\":\"x\",\"yaxis\":\"y\"},{\"hoverinfo\":\"skip\",\"line\":{\"color\":\"#9e9e9e\",\"width\":1},\"mode\":\"lines\",\"x\":[12.5,13.5],\"y\":[5.5,5.5],\"type\":\"scatter\",\"xaxis\":\"x\",\"yaxis\":\"y\"},{\"hoverinfo\":\"skip\",\"line\":{\"color\":\"#9e9e9e\",\"width\":1},\"mode\":\"lines\",\"x\":[13.5,13.5],\"y\":[5.5,-0.5],\"type\":\"scatter\",\"xaxis\":\"x\",\"yaxis\":\"y\"},{\"hoverinfo\":\"skip\",\"line\":{\"color\":\"#9e9e9e\",\"width\":1},\"mode\":\"lines\",\"x\":[17.5,17.5],\"y\":[0.5,6.5],\"type\":\"scatter\",\"xaxis\":\"x\",\"yaxis\":\"y\"},{\"hoverinfo\":\"skip\",\"line\":{\"color\":\"#9e9e9e\",\"width\":1},\"mode\":\"lines\",\"x\":[17.5,18.5],\"y\":[0.5,0.5],\"type\":\"scatter\",\"xaxis\":\"x\",\"yaxis\":\"y\"},{\"hoverinfo\":\"skip\",\"line\":{\"color\":\"#9e9e9e\",\"width\":1},\"mode\":\"lines\",\"x\":[18.5,18.5],\"y\":[0.5,-0.5],\"type\":\"scatter\",\"xaxis\":\"x\",\"yaxis\":\"y\"},{\"hoverinfo\":\"skip\",\"line\":{\"color\":\"#9e9e9e\",\"width\":1},\"mode\":\"lines\",\"x\":[21.5,21.5],\"y\":[3.5,6.5],\"type\":\"scatter\",\"xaxis\":\"x\",\"yaxis\":\"y\"},{\"hoverinfo\":\"skip\",\"line\":{\"color\":\"#9e9e9e\",\"width\":1},\"mode\":\"lines\",\"x\":[21.5,22.5],\"y\":[3.5,3.5],\"type\":\"scatter\",\"xaxis\":\"x\",\"yaxis\":\"y\"},{\"hoverinfo\":\"skip\",\"line\":{\"color\":\"#9e9e9e\",\"width\":1},\"mode\":\"lines\",\"x\":[22.5,22.5],\"y\":[3.5,-0.5],\"type\":\"scatter\",\"xaxis\":\"x\",\"yaxis\":\"y\"},{\"hoverinfo\":\"skip\",\"line\":{\"color\":\"#9e9e9e\",\"width\":1},\"mode\":\"lines\",\"x\":[25.5,25.5],\"y\":[5.5,6.5],\"type\":\"scatter\",\"xaxis\":\"x\",\"yaxis\":\"y\"},{\"hoverinfo\":\"skip\",\"line\":{\"color\":\"#9e9e9e\",\"width\":1},\"mode\":\"lines\",\"x\":[25.5,26.5],\"y\":[5.5,5.5],\"type\":\"scatter\",\"xaxis\":\"x\",\"yaxis\":\"y\"},{\"hoverinfo\":\"skip\",\"line\":{\"color\":\"#9e9e9e\",\"width\":1},\"mode\":\"lines\",\"x\":[26.5,26.5],\"y\":[5.5,-0.5],\"type\":\"scatter\",\"xaxis\":\"x\",\"yaxis\":\"y\"},{\"hoverinfo\":\"skip\",\"line\":{\"color\":\"#9e9e9e\",\"width\":1},\"mode\":\"lines\",\"x\":[30.5,30.5],\"y\":[1.5,6.5],\"type\":\"scatter\",\"xaxis\":\"x\",\"yaxis\":\"y\"},{\"hoverinfo\":\"skip\",\"line\":{\"color\":\"#9e9e9e\",\"width\":1},\"mode\":\"lines\",\"x\":[30.5,31.5],\"y\":[1.5,1.5],\"type\":\"scatter\",\"xaxis\":\"x\",\"yaxis\":\"y\"},{\"hoverinfo\":\"skip\",\"line\":{\"color\":\"#9e9e9e\",\"width\":1},\"mode\":\"lines\",\"x\":[31.5,31.5],\"y\":[1.5,-0.5],\"type\":\"scatter\",\"xaxis\":\"x\",\"yaxis\":\"y\"},{\"hoverinfo\":\"skip\",\"line\":{\"color\":\"#9e9e9e\",\"width\":1},\"mode\":\"lines\",\"x\":[34.5,34.5],\"y\":[4.5,6.5],\"type\":\"scatter\",\"xaxis\":\"x\",\"yaxis\":\"y\"},{\"hoverinfo\":\"skip\",\"line\":{\"color\":\"#9e9e9e\",\"width\":1},\"mode\":\"lines\",\"x\":[34.5,35.5],\"y\":[4.5,4.5],\"type\":\"scatter\",\"xaxis\":\"x\",\"yaxis\":\"y\"},{\"hoverinfo\":\"skip\",\"line\":{\"color\":\"#9e9e9e\",\"width\":1},\"mode\":\"lines\",\"x\":[35.5,35.5],\"y\":[4.5,-0.5],\"type\":\"scatter\",\"xaxis\":\"x\",\"yaxis\":\"y\"},{\"hoverinfo\":\"skip\",\"line\":{\"color\":\"#9e9e9e\",\"width\":1},\"mode\":\"lines\",\"x\":[39.5,39.5],\"y\":[-0.5,6.5],\"type\":\"scatter\",\"xaxis\":\"x\",\"yaxis\":\"y\"},{\"hoverinfo\":\"skip\",\"line\":{\"color\":\"#9e9e9e\",\"width\":1},\"mode\":\"lines\",\"x\":[43.5,43.5],\"y\":[2.5,6.5],\"type\":\"scatter\",\"xaxis\":\"x\",\"yaxis\":\"y\"},{\"hoverinfo\":\"skip\",\"line\":{\"color\":\"#9e9e9e\",\"width\":1},\"mode\":\"lines\",\"x\":[43.5,44.5],\"y\":[2.5,2.5],\"type\":\"scatter\",\"xaxis\":\"x\",\"yaxis\":\"y\"},{\"hoverinfo\":\"skip\",\"line\":{\"color\":\"#9e9e9e\",\"width\":1},\"mode\":\"lines\",\"x\":[44.5,44.5],\"y\":[2.5,-0.5],\"type\":\"scatter\",\"xaxis\":\"x\",\"yaxis\":\"y\"},{\"hoverinfo\":\"skip\",\"line\":{\"color\":\"#9e9e9e\",\"width\":1},\"mode\":\"lines\",\"x\":[47.5,47.5],\"y\":[4.5,6.5],\"type\":\"scatter\",\"xaxis\":\"x\",\"yaxis\":\"y\"},{\"hoverinfo\":\"skip\",\"line\":{\"color\":\"#9e9e9e\",\"width\":1},\"mode\":\"lines\",\"x\":[47.5,48.5],\"y\":[4.5,4.5],\"type\":\"scatter\",\"xaxis\":\"x\",\"yaxis\":\"y\"},{\"hoverinfo\":\"skip\",\"line\":{\"color\":\"#9e9e9e\",\"width\":1},\"mode\":\"lines\",\"x\":[48.5,48.5],\"y\":[4.5,-0.5],\"type\":\"scatter\",\"xaxis\":\"x\",\"yaxis\":\"y\"},{\"colorscale\":[[0.0,\"rgb(247,252,245)\"],[0.125,\"rgb(229,245,224)\"],[0.25,\"rgb(199,233,192)\"],[0.375,\"rgb(161,217,155)\"],[0.5,\"rgb(116,196,118)\"],[0.625,\"rgb(65,171,93)\"],[0.75,\"rgb(35,139,69)\"],[0.875,\"rgb(0,109,44)\"],[1.0,\"rgb(0,68,27)\"]],\"customdata\":[[\"2019-01-01\",\"y\"],[\"2019-01-02\",\"y\"],[\"2019-01-03\",\"y\"],[\"2019-01-04\",\"y\"],[\"2019-01-05\",\"y\"],[\"2019-01-06\",\"y\"],[\"2019-01-07\",\"y\"],[\"2019-01-08\",\"y\"],[\"2019-01-09\",\"y\"],[\"2019-01-10\",\"y\"],[\"2019-01-11\",\"y\"],[\"2019-01-12\",\"y\"],[\"2019-01-13\",\"y\"],[\"2019-01-14\",\"y\"],[\"2019-01-15\",\"y\"],[\"2019-01-16\",\"y\"],[\"2019-01-17\",\"y\"],[\"2019-01-18\",\"y\"],[\"2019-01-19\",\"y\"],[\"2019-01-20\",\"y\"],[\"2019-01-21\",\"y\"],[\"2019-01-22\",\"y\"],[\"2019-01-23\",\"y\"],[\"2019-01-24\",\"y\"],[\"2019-01-25\",\"y\"],[\"2019-01-26\",\"y\"],[\"2019-01-27\",\"y\"],[\"2019-01-28\",\"y\"],[\"2019-01-29\",\"y\"],[\"2019-01-30\",\"y\"],[\"2019-01-31\",\"y\"],[\"2019-02-01\",\"y\"],[\"2019-02-02\",\"y\"],[\"2019-02-03\",\"y\"],[\"2019-02-04\",\"y\"],[\"2019-02-05\",\"y\"],[\"2019-02-06\",\"y\"],[\"2019-02-07\",\"y\"],[\"2019-02-08\",\"y\"],[\"2019-02-09\",\"y\"],[\"2019-02-10\",\"y\"],[\"2019-02-11\",\"y\"],[\"2019-02-12\",\"y\"],[\"2019-02-13\",\"y\"],[\"2019-02-14\",\"y\"],[\"2019-02-15\",\"y\"],[\"2019-02-16\",\"y\"],[\"2019-02-17\",\"y\"],[\"2019-02-18\",\"y\"],[\"2019-02-19\",\"y\"],[\"2019-02-20\",\"y\"],[\"2019-02-21\",\"y\"],[\"2019-02-22\",\"y\"],[\"2019-02-23\",\"y\"],[\"2019-02-24\",\"y\"],[\"2019-02-25\",\"y\"],[\"2019-02-26\",\"y\"],[\"2019-02-27\",\"y\"],[\"2019-02-28\",\"y\"],[\"2019-03-01\",\"y\"],[\"2019-03-02\",\"y\"],[\"2019-03-03\",\"y\"],[\"2019-03-04\",\"y\"],[\"2019-03-05\",\"y\"],[\"2019-03-06\",\"y\"],[\"2019-03-07\",\"y\"],[\"2019-03-08\",\"y\"],[\"2019-03-09\",\"y\"],[\"2019-03-10\",\"y\"],[\"2019-03-11\",\"y\"],[\"2019-03-12\",\"y\"],[\"2019-03-13\",\"y\"],[\"2019-03-14\",\"y\"],[\"2019-03-15\",\"y\"],[\"2019-03-16\",\"y\"],[\"2019-03-17\",\"y\"],[\"2019-03-18\",\"y\"],[\"2019-03-19\",\"y\"],[\"2019-03-20\",\"y\"],[\"2019-03-21\",\"y\"],[\"2019-03-22\",\"y\"],[\"2019-03-23\",\"y\"],[\"2019-03-24\",\"y\"],[\"2019-03-25\",\"y\"],[\"2019-03-26\",\"y\"],[\"2019-03-27\",\"y\"],[\"2019-03-28\",\"y\"],[\"2019-03-29\",\"y\"],[\"2019-03-30\",\"y\"],[\"2019-03-31\",\"y\"],[\"2019-04-01\",\"y\"],[\"2019-04-02\",\"y\"],[\"2019-04-03\",\"y\"],[\"2019-04-04\",\"y\"],[\"2019-04-05\",\"y\"],[\"2019-04-06\",\"y\"],[\"2019-04-07\",\"y\"],[\"2019-04-08\",\"y\"],[\"2019-04-09\",\"y\"],[\"2019-04-10\",\"y\"],[\"2019-04-11\",\"y\"],[\"2019-04-12\",\"y\"],[\"2019-04-13\",\"y\"],[\"2019-04-14\",\"y\"],[\"2019-04-15\",\"y\"],[\"2019-04-16\",\"y\"],[\"2019-04-17\",\"y\"],[\"2019-04-18\",\"y\"],[\"2019-04-19\",\"y\"],[\"2019-04-20\",\"y\"],[\"2019-04-21\",\"y\"],[\"2019-04-22\",\"y\"],[\"2019-04-23\",\"y\"],[\"2019-04-24\",\"y\"],[\"2019-04-25\",\"y\"],[\"2019-04-26\",\"y\"],[\"2019-04-27\",\"y\"],[\"2019-04-28\",\"y\"],[\"2019-04-29\",\"y\"],[\"2019-04-30\",\"y\"],[\"2019-05-01\",\"y\"],[\"2019-05-02\",\"y\"],[\"2019-05-03\",\"y\"],[\"2019-05-04\",\"y\"],[\"2019-05-05\",\"y\"],[\"2019-05-06\",\"y\"],[\"2019-05-07\",\"y\"],[\"2019-05-08\",\"y\"],[\"2019-05-09\",\"y\"],[\"2019-05-10\",\"y\"],[\"2019-05-11\",\"y\"],[\"2019-05-12\",\"y\"],[\"2019-05-13\",\"y\"],[\"2019-05-14\",\"y\"],[\"2019-05-15\",\"y\"],[\"2019-05-16\",\"y\"],[\"2019-05-17\",\"y\"],[\"2019-05-18\",\"y\"],[\"2019-05-19\",\"y\"],[\"2019-05-20\",\"y\"],[\"2019-05-21\",\"y\"],[\"2019-05-22\",\"y\"],[\"2019-05-23\",\"y\"],[\"2019-05-24\",\"y\"],[\"2019-05-25\",\"y\"],[\"2019-05-26\",\"y\"],[\"2019-05-27\",\"y\"],[\"2019-05-28\",\"y\"],[\"2019-05-29\",\"y\"],[\"2019-05-30\",\"y\"],[\"2019-05-31\",\"y\"],[\"2019-06-01\",\"y\"],[\"2019-06-02\",\"y\"],[\"2019-06-03\",\"y\"],[\"2019-06-04\",\"y\"],[\"2019-06-05\",\"y\"],[\"2019-06-06\",\"y\"],[\"2019-06-07\",\"y\"],[\"2019-06-08\",\"y\"],[\"2019-06-09\",\"y\"],[\"2019-06-10\",\"y\"],[\"2019-06-11\",\"y\"],[\"2019-06-12\",\"y\"],[\"2019-06-13\",\"y\"],[\"2019-06-14\",\"y\"],[\"2019-06-15\",\"y\"],[\"2019-06-16\",\"y\"],[\"2019-06-17\",\"y\"],[\"2019-06-18\",\"y\"],[\"2019-06-19\",\"y\"],[\"2019-06-20\",\"y\"],[\"2019-06-21\",\"y\"],[\"2019-06-22\",\"y\"],[\"2019-06-23\",\"y\"],[\"2019-06-24\",\"y\"],[\"2019-06-25\",\"y\"],[\"2019-06-26\",\"y\"],[\"2019-06-27\",\"y\"],[\"2019-06-28\",\"y\"],[\"2019-06-29\",\"y\"],[\"2019-06-30\",\"y\"],[\"2019-07-01\",\"y\"],[\"2019-07-02\",\"y\"],[\"2019-07-03\",\"y\"],[\"2019-07-04\",\"y\"],[\"2019-07-05\",\"y\"],[\"2019-07-06\",\"y\"],[\"2019-07-07\",\"y\"],[\"2019-07-08\",\"y\"],[\"2019-07-09\",\"y\"],[\"2019-07-10\",\"y\"],[\"2019-07-11\",\"y\"],[\"2019-07-12\",\"y\"],[\"2019-07-13\",\"y\"],[\"2019-07-14\",\"y\"],[\"2019-07-15\",\"y\"],[\"2019-07-16\",\"y\"],[\"2019-07-17\",\"y\"],[\"2019-07-18\",\"y\"],[\"2019-07-19\",\"y\"],[\"2019-07-20\",\"y\"],[\"2019-07-21\",\"y\"],[\"2019-07-22\",\"y\"],[\"2019-07-23\",\"y\"],[\"2019-07-24\",\"y\"],[\"2019-07-25\",\"y\"],[\"2019-07-26\",\"y\"],[\"2019-07-27\",\"y\"],[\"2019-07-28\",\"y\"],[\"2019-07-29\",\"y\"],[\"2019-07-30\",\"y\"],[\"2019-07-31\",\"y\"],[\"2019-08-01\",\"y\"],[\"2019-08-02\",\"y\"],[\"2019-08-03\",\"y\"],[\"2019-08-04\",\"y\"],[\"2019-08-05\",\"y\"],[\"2019-08-06\",\"y\"],[\"2019-08-07\",\"y\"],[\"2019-08-08\",\"y\"],[\"2019-08-09\",\"y\"],[\"2019-08-10\",\"y\"],[\"2019-08-11\",\"y\"],[\"2019-08-12\",\"y\"],[\"2019-08-13\",\"y\"],[\"2019-08-14\",\"y\"],[\"2019-08-15\",\"y\"],[\"2019-08-16\",\"y\"],[\"2019-08-17\",\"y\"],[\"2019-08-18\",\"y\"],[\"2019-08-19\",\"y\"],[\"2019-08-20\",\"y\"],[\"2019-08-21\",\"y\"],[\"2019-08-22\",\"y\"],[\"2019-08-23\",\"y\"],[\"2019-08-24\",\"y\"],[\"2019-08-25\",\"y\"],[\"2019-08-26\",\"y\"],[\"2019-08-27\",\"y\"],[\"2019-08-28\",\"y\"],[\"2019-08-29\",\"y\"],[\"2019-08-30\",\"y\"],[\"2019-08-31\",\"y\"],[\"2019-09-01\",\"y\"],[\"2019-09-02\",\"y\"],[\"2019-09-03\",\"y\"],[\"2019-09-04\",\"y\"],[\"2019-09-05\",\"y\"],[\"2019-09-06\",\"y\"],[\"2019-09-07\",\"y\"],[\"2019-09-08\",\"y\"],[\"2019-09-09\",\"y\"],[\"2019-09-10\",\"y\"],[\"2019-09-11\",\"y\"],[\"2019-09-12\",\"y\"],[\"2019-09-13\",\"y\"],[\"2019-09-14\",\"y\"],[\"2019-09-15\",\"y\"],[\"2019-09-16\",\"y\"],[\"2019-09-17\",\"y\"],[\"2019-09-18\",\"y\"],[\"2019-09-19\",\"y\"],[\"2019-09-20\",\"y\"],[\"2019-09-21\",\"y\"],[\"2019-09-22\",\"y\"],[\"2019-09-23\",\"y\"],[\"2019-09-24\",\"y\"],[\"2019-09-25\",\"y\"],[\"2019-09-26\",\"y\"],[\"2019-09-27\",\"y\"],[\"2019-09-28\",\"y\"],[\"2019-09-29\",\"y\"],[\"2019-09-30\",\"y\"],[\"2019-10-01\",\"y\"],[\"2019-10-02\",\"y\"],[\"2019-10-03\",\"y\"],[\"2019-10-04\",\"y\"],[\"2019-10-05\",\"y\"],[\"2019-10-06\",\"y\"],[\"2019-10-07\",\"y\"],[\"2019-10-08\",\"y\"],[\"2019-10-09\",\"y\"],[\"2019-10-10\",\"y\"],[\"2019-10-11\",\"y\"],[\"2019-10-12\",\"y\"],[\"2019-10-13\",\"y\"],[\"2019-10-14\",\"y\"],[\"2019-10-15\",\"y\"],[\"2019-10-16\",\"y\"],[\"2019-10-17\",\"y\"],[\"2019-10-18\",\"y\"],[\"2019-10-19\",\"y\"],[\"2019-10-20\",\"y\"],[\"2019-10-21\",\"y\"],[\"2019-10-22\",\"y\"],[\"2019-10-23\",\"y\"],[\"2019-10-24\",\"y\"],[\"2019-10-25\",\"y\"],[\"2019-10-26\",\"y\"],[\"2019-10-27\",\"y\"],[\"2019-10-28\",\"y\"],[\"2019-10-29\",\"y\"],[\"2019-10-30\",\"y\"],[\"2019-10-31\",\"y\"],[\"2019-11-01\",\"y\"],[\"2019-11-02\",\"y\"],[\"2019-11-03\",\"y\"],[\"2019-11-04\",\"y\"],[\"2019-11-05\",\"y\"],[\"2019-11-06\",\"y\"],[\"2019-11-07\",\"y\"],[\"2019-11-08\",\"y\"],[\"2019-11-09\",\"y\"],[\"2019-11-10\",\"y\"],[\"2019-11-11\",\"y\"],[\"2019-11-12\",\"y\"],[\"2019-11-13\",\"y\"],[\"2019-11-14\",\"y\"],[\"2019-11-15\",\"y\"],[\"2019-11-16\",\"y\"],[\"2019-11-17\",\"y\"],[\"2019-11-18\",\"y\"],[\"2019-11-19\",\"y\"],[\"2019-11-20\",\"y\"],[\"2019-11-21\",\"y\"],[\"2019-11-22\",\"y\"],[\"2019-11-23\",\"y\"],[\"2019-11-24\",\"y\"],[\"2019-11-25\",\"y\"],[\"2019-11-26\",\"y\"],[\"2019-11-27\",\"y\"],[\"2019-11-28\",\"y\"],[\"2019-11-29\",\"y\"],[\"2019-11-30\",\"y\"],[\"2019-12-01\",\"y\"],[\"2019-12-02\",\"y\"],[\"2019-12-03\",\"y\"],[\"2019-12-04\",\"y\"],[\"2019-12-05\",\"y\"],[\"2019-12-06\",\"y\"],[\"2019-12-07\",\"y\"],[\"2019-12-08\",\"y\"],[\"2019-12-09\",\"y\"],[\"2019-12-10\",\"y\"],[\"2019-12-11\",\"y\"],[\"2019-12-12\",\"y\"],[\"2019-12-13\",\"y\"],[\"2019-12-14\",\"y\"],[\"2019-12-15\",\"y\"],[\"2019-12-16\",\"y\"],[\"2019-12-17\",\"y\"],[\"2019-12-18\",\"y\"],[\"2019-12-19\",\"y\"],[\"2019-12-20\",\"y\"],[\"2019-12-21\",\"y\"],[\"2019-12-22\",\"y\"],[\"2019-12-23\",\"y\"],[\"2019-12-24\",\"y\"],[\"2019-12-25\",\"y\"],[\"2019-12-26\",\"y\"],[\"2019-12-27\",\"y\"],[\"2019-12-28\",\"y\"],[\"2019-12-29\",\"y\"],[\"2019-12-30\",\"y\"],[\"2019-12-31\",\"y\"]],\"hovertemplate\":\"%{customdata[0]} \\u003cbr\\u003eWeek=%{x} \\u003cbr\\u003e%{customdata[1]}=%{z}\",\"name\":\"2019\",\"showscale\":false,\"x\":[0,0,0,0,0,0,1,1,1,1,1,1,1,2,2,2,2,2,2,2,3,3,3,3,3,3,3,4,4,4,4,4,4,4,5,5,5,5,5,5,5,6,6,6,6,6,6,6,7,7,7,7,7,7,7,8,8,8,8,8,8,8,9,9,9,9,9,9,9,10,10,10,10,10,10,10,11,11,11,11,11,11,11,12,12,12,12,12,12,12,13,13,13,13,13,13,13,14,14,14,14,14,14,14,15,15,15,15,15,15,15,16,16,16,16,16,16,16,17,17,17,17,17,17,17,18,18,18,18,18,18,18,19,19,19,19,19,19,19,20,20,20,20,20,20,20,21,21,21,21,21,21,21,22,22,22,22,22,22,22,23,23,23,23,23,23,23,24,24,24,24,24,24,24,25,25,25,25,25,25,25,26,26,26,26,26,26,26,27,27,27,27,27,27,27,28,28,28,28,28,28,28,29,29,29,29,29,29,29,30,30,30,30,30,30,30,31,31,31,31,31,31,31,32,32,32,32,32,32,32,33,33,33,33,33,33,33,34,34,34,34,34,34,34,35,35,35,35,35,35,35,36,36,36,36,36,36,36,37,37,37,37,37,37,37,38,38,38,38,38,38,38,39,39,39,39,39,39,39,40,40,40,40,40,40,40,41,41,41,41,41,41,41,42,42,42,42,42,42,42,43,43,43,43,43,43,43,44,44,44,44,44,44,44,45,45,45,45,45,45,45,46,46,46,46,46,46,46,47,47,47,47,47,47,47,48,48,48,48,48,48,48,49,49,49,49,49,49,49,50,50,50,50,50,50,50,51,51,51,51,51,51,51,52,52],\"xgap\":1,\"y\":[1,2,3,4,5,6,0,1,2,3,4,5,6,0,1,2,3,4,5,6,0,1,2,3,4,5,6,0,1,2,3,4,5,6,0,1,2,3,4,5,6,0,1,2,3,4,5,6,0,1,2,3,4,5,6,0,1,2,3,4,5,6,0,1,2,3,4,5,6,0,1,2,3,4,5,6,0,1,2,3,4,5,6,0,1,2,3,4,5,6,0,1,2,3,4,5,6,0,1,2,3,4,5,6,0,1,2,3,4,5,6,0,1,2,3,4,5,6,0,1,2,3,4,5,6,0,1,2,3,4,5,6,0,1,2,3,4,5,6,0,1,2,3,4,5,6,0,1,2,3,4,5,6,0,1,2,3,4,5,6,0,1,2,3,4,5,6,0,1,2,3,4,5,6,0,1,2,3,4,5,6,0,1,2,3,4,5,6,0,1,2,3,4,5,6,0,1,2,3,4,5,6,0,1,2,3,4,5,6,0,1,2,3,4,5,6,0,1,2,3,4,5,6,0,1,2,3,4,5,6,0,1,2,3,4,5,6,0,1,2,3,4,5,6,0,1,2,3,4,5,6,0,1,2,3,4,5,6,0,1,2,3,4,5,6,0,1,2,3,4,5,6,0,1,2,3,4,5,6,0,1,2,3,4,5,6,0,1,2,3,4,5,6,0,1,2,3,4,5,6,0,1,2,3,4,5,6,0,1,2,3,4,5,6,0,1,2,3,4,5,6,0,1,2,3,4,5,6,0,1,2,3,4,5,6,0,1,2,3,4,5,6,0,1,2,3,4,5,6,0,1,2,3,4,5,6,0,1,2,3,4,5,6,0,1],\"ygap\":1,\"z\":[8.0,13.0,12.0,14.0,16.0,8.0,11.0,7.0,9.0,10.0,23.0,14.0,12.0,19.0,16.0,16.0,17.0,15.0,18.0,11.0,12.0,8.0,7.0,11.0,17.0,13.0,5.0,14.0,2.0,8.0,14.0,18.0,19.0,9.0,11.0,9.0,12.0,21.0,15.0,20.0,13.0,11.0,13.0,11.0,11.0,14.0,19.0,12.0,9.0,11.0,14.0,16.0,9.0,7.0,13.0,10.0,9.0,10.0,9.0,12.0,24.0,12.0,10.0,14.0,9.0,8.0,15.0,10.0,13.0,10.0,12.0,8.0,10.0,8.0,16.0,6.0,11.0,6.0,12.0,13.0,12.0,9.0,8.0,16.0,9.0,11.0,14.0,16.0,21.0,7.0,8.0,6.0,7.0,17.0,21.0,17.0,9.0,8.0,8.0,5.0,5.0,9.0,15.0,10.0,6.0,11.0,13.0,18.0,10.0,14.0,2.0,13.0,9.0,11.0,10.0,7.0,12.0,9.0,10.0,17.0,16.0,10.0,15.0,19.0,11.0,9.0,18.0,9.0,9.0,11.0,8.0,16.0,2.0,8.0,7.0,8.0,18.0,14.0,5.0,3.0,5.0,6.0,13.0,4.0,19.0,8.0,8.0,8.0,7.0,6.0,13.0,19.0,5.0,9.0,3.0,5.0,10.0,7.0,11.0,4.0,3.0,6.0,8.0,4.0,13.0,12.0,4.0,6.0,10.0,6.0,9.0,8.0,15.0,11.0,7.0,8.0,7.0,7.0,3.0,14.0,1.0,6.0,9.0,3.0,7.0,5.0,12.0,6.0,8.0,7.0,2.0,3.0,4.0,8.0,8.0,3.0,2.0,2.0,8.0,7.0,8.0,2.0,4.0,4.0,3.0,6.0,8.0,7.0,4.0,9.0,9.0,10.0,6.0,9.0,4.0,8.0,5.0,6.0,4.0,5.0,6.0,10.0,10.0,12.0,15.0,9.0,10.0,12.0,3.0,7.0,12.0,12.0,8.0,10.0,5.0,13.0,6.0,5.0,4.0,6.0,7.0,7.0,9.0,6.0,6.0,5.0,7.0,6.0,6.0,5.0,8.0,8.0,4.0,4.0,6.0,3.0,9.0,3.0,7.0,10.0,6.0,4.0,6.0,8.0,10.0,4.0,4.0,8.0,4.0,9.0,5.0,2.0,7.0,4.0,8.0,7.0,9.0,5.0,1.0,11.0,4.0,6.0,6.0,4.0,3.0,2.0,8.0,4.0,3.0,8.0,9.0,5.0,9.0,2.0,5.0,3.0,8.0,3.0,8.0,5.0,7.0,2.0,7.0,4.0,8.0,5.0,4.0,3.0,3.0,6.0,6.0,7.0,10.0,7.0,4.0,3.0,4.0,6.0,6.0,5.0,6.0,5.0,6.0,7.0,2.0,9.0,5.0,5.0,11.0,4.0,6.0,4.0,10.0,8.0,4.0,4.0,3.0,4.0,6.0,10.0,9.0,7.0,9.0,10.0,6.0,6.0,11.0,4.0,5.0,9.0,6.0,12.0,4.0,7.0,3.0,5.0,8.0,4.0,null,4.0,4.0,7.0,6.0,4.0,2.0],\"type\":\"heatmap\",\"xaxis\":\"x2\",\"yaxis\":\"y2\",\"zmax\":30,\"zmin\":1},{\"hoverinfo\":\"skip\",\"line\":{\"color\":\"#9e9e9e\",\"width\":1},\"mode\":\"lines\",\"x\":[-0.5,-0.5],\"y\":[0.5,6.5],\"type\":\"scatter\",\"xaxis\":\"x2\",\"yaxis\":\"y2\"},{\"hoverinfo\":\"skip\",\"line\":{\"color\":\"#9e9e9e\",\"width\":1},\"mode\":\"lines\",\"x\":[-0.5,0.5],\"y\":[0.5,0.5],\"type\":\"scatter\",\"xaxis\":\"x2\",\"yaxis\":\"y2\"},{\"hoverinfo\":\"skip\",\"line\":{\"color\":\"#9e9e9e\",\"width\":1},\"mode\":\"lines\",\"x\":[0.5,0.5],\"y\":[0.5,-0.5],\"type\":\"scatter\",\"xaxis\":\"x2\",\"yaxis\":\"y2\"},{\"hoverinfo\":\"skip\",\"line\":{\"color\":\"#9e9e9e\",\"width\":1},\"mode\":\"lines\",\"x\":[3.5,3.5],\"y\":[3.5,6.5],\"type\":\"scatter\",\"xaxis\":\"x2\",\"yaxis\":\"y2\"},{\"hoverinfo\":\"skip\",\"line\":{\"color\":\"#9e9e9e\",\"width\":1},\"mode\":\"lines\",\"x\":[3.5,4.5],\"y\":[3.5,3.5],\"type\":\"scatter\",\"xaxis\":\"x2\",\"yaxis\":\"y2\"},{\"hoverinfo\":\"skip\",\"line\":{\"color\":\"#9e9e9e\",\"width\":1},\"mode\":\"lines\",\"x\":[4.5,4.5],\"y\":[3.5,-0.5],\"type\":\"scatter\",\"xaxis\":\"x2\",\"yaxis\":\"y2\"},{\"hoverinfo\":\"skip\",\"line\":{\"color\":\"#9e9e9e\",\"width\":1},\"mode\":\"lines\",\"x\":[7.5,7.5],\"y\":[3.5,6.5],\"type\":\"scatter\",\"xaxis\":\"x2\",\"yaxis\":\"y2\"},{\"hoverinfo\":\"skip\",\"line\":{\"color\":\"#9e9e9e\",\"width\":1},\"mode\":\"lines\",\"x\":[7.5,8.5],\"y\":[3.5,3.5],\"type\":\"scatter\",\"xaxis\":\"x2\",\"yaxis\":\"y2\"},{\"hoverinfo\":\"skip\",\"line\":{\"color\":\"#9e9e9e\",\"width\":1},\"mode\":\"lines\",\"x\":[8.5,8.5],\"y\":[3.5,-0.5],\"type\":\"scatter\",\"xaxis\":\"x2\",\"yaxis\":\"y2\"},{\"hoverinfo\":\"skip\",\"line\":{\"color\":\"#9e9e9e\",\"width\":1},\"mode\":\"lines\",\"x\":[12.5,12.5],\"y\":[-0.5,6.5],\"type\":\"scatter\",\"xaxis\":\"x2\",\"yaxis\":\"y2\"},{\"hoverinfo\":\"skip\",\"line\":{\"color\":\"#9e9e9e\",\"width\":1},\"mode\":\"lines\",\"x\":[16.5,16.5],\"y\":[1.5,6.5],\"type\":\"scatter\",\"xaxis\":\"x2\",\"yaxis\":\"y2\"},{\"hoverinfo\":\"skip\",\"line\":{\"color\":\"#9e9e9e\",\"width\":1},\"mode\":\"lines\",\"x\":[16.5,17.5],\"y\":[1.5,1.5],\"type\":\"scatter\",\"xaxis\":\"x2\",\"yaxis\":\"y2\"},{\"hoverinfo\":\"skip\",\"line\":{\"color\":\"#9e9e9e\",\"width\":1},\"mode\":\"lines\",\"x\":[17.5,17.5],\"y\":[1.5,-0.5],\"type\":\"scatter\",\"xaxis\":\"x2\",\"yaxis\":\"y2\"},{\"hoverinfo\":\"skip\",\"line\":{\"color\":\"#9e9e9e\",\"width\":1},\"mode\":\"lines\",\"x\":[20.5,20.5],\"y\":[4.5,6.5],\"type\":\"scatter\",\"xaxis\":\"x2\",\"yaxis\":\"y2\"},{\"hoverinfo\":\"skip\",\"line\":{\"color\":\"#9e9e9e\",\"width\":1},\"mode\":\"lines\",\"x\":[20.5,21.5],\"y\":[4.5,4.5],\"type\":\"scatter\",\"xaxis\":\"x2\",\"yaxis\":\"y2\"},{\"hoverinfo\":\"skip\",\"line\":{\"color\":\"#9e9e9e\",\"width\":1},\"mode\":\"lines\",\"x\":[21.5,21.5],\"y\":[4.5,-0.5],\"type\":\"scatter\",\"xaxis\":\"x2\",\"yaxis\":\"y2\"},{\"hoverinfo\":\"skip\",\"line\":{\"color\":\"#9e9e9e\",\"width\":1},\"mode\":\"lines\",\"x\":[25.5,25.5],\"y\":[-0.5,6.5],\"type\":\"scatter\",\"xaxis\":\"x2\",\"yaxis\":\"y2\"},{\"hoverinfo\":\"skip\",\"line\":{\"color\":\"#9e9e9e\",\"width\":1},\"mode\":\"lines\",\"x\":[29.5,29.5],\"y\":[2.5,6.5],\"type\":\"scatter\",\"xaxis\":\"x2\",\"yaxis\":\"y2\"},{\"hoverinfo\":\"skip\",\"line\":{\"color\":\"#9e9e9e\",\"width\":1},\"mode\":\"lines\",\"x\":[29.5,30.5],\"y\":[2.5,2.5],\"type\":\"scatter\",\"xaxis\":\"x2\",\"yaxis\":\"y2\"},{\"hoverinfo\":\"skip\",\"line\":{\"color\":\"#9e9e9e\",\"width\":1},\"mode\":\"lines\",\"x\":[30.5,30.5],\"y\":[2.5,-0.5],\"type\":\"scatter\",\"xaxis\":\"x2\",\"yaxis\":\"y2\"},{\"hoverinfo\":\"skip\",\"line\":{\"color\":\"#9e9e9e\",\"width\":1},\"mode\":\"lines\",\"x\":[33.5,33.5],\"y\":[5.5,6.5],\"type\":\"scatter\",\"xaxis\":\"x2\",\"yaxis\":\"y2\"},{\"hoverinfo\":\"skip\",\"line\":{\"color\":\"#9e9e9e\",\"width\":1},\"mode\":\"lines\",\"x\":[33.5,34.5],\"y\":[5.5,5.5],\"type\":\"scatter\",\"xaxis\":\"x2\",\"yaxis\":\"y2\"},{\"hoverinfo\":\"skip\",\"line\":{\"color\":\"#9e9e9e\",\"width\":1},\"mode\":\"lines\",\"x\":[34.5,34.5],\"y\":[5.5,-0.5],\"type\":\"scatter\",\"xaxis\":\"x2\",\"yaxis\":\"y2\"},{\"hoverinfo\":\"skip\",\"line\":{\"color\":\"#9e9e9e\",\"width\":1},\"mode\":\"lines\",\"x\":[38.5,38.5],\"y\":[0.5,6.5],\"type\":\"scatter\",\"xaxis\":\"x2\",\"yaxis\":\"y2\"},{\"hoverinfo\":\"skip\",\"line\":{\"color\":\"#9e9e9e\",\"width\":1},\"mode\":\"lines\",\"x\":[38.5,39.5],\"y\":[0.5,0.5],\"type\":\"scatter\",\"xaxis\":\"x2\",\"yaxis\":\"y2\"},{\"hoverinfo\":\"skip\",\"line\":{\"color\":\"#9e9e9e\",\"width\":1},\"mode\":\"lines\",\"x\":[39.5,39.5],\"y\":[0.5,-0.5],\"type\":\"scatter\",\"xaxis\":\"x2\",\"yaxis\":\"y2\"},{\"hoverinfo\":\"skip\",\"line\":{\"color\":\"#9e9e9e\",\"width\":1},\"mode\":\"lines\",\"x\":[42.5,42.5],\"y\":[3.5,6.5],\"type\":\"scatter\",\"xaxis\":\"x2\",\"yaxis\":\"y2\"},{\"hoverinfo\":\"skip\",\"line\":{\"color\":\"#9e9e9e\",\"width\":1},\"mode\":\"lines\",\"x\":[42.5,43.5],\"y\":[3.5,3.5],\"type\":\"scatter\",\"xaxis\":\"x2\",\"yaxis\":\"y2\"},{\"hoverinfo\":\"skip\",\"line\":{\"color\":\"#9e9e9e\",\"width\":1},\"mode\":\"lines\",\"x\":[43.5,43.5],\"y\":[3.5,-0.5],\"type\":\"scatter\",\"xaxis\":\"x2\",\"yaxis\":\"y2\"},{\"hoverinfo\":\"skip\",\"line\":{\"color\":\"#9e9e9e\",\"width\":1},\"mode\":\"lines\",\"x\":[46.5,46.5],\"y\":[5.5,6.5],\"type\":\"scatter\",\"xaxis\":\"x2\",\"yaxis\":\"y2\"},{\"hoverinfo\":\"skip\",\"line\":{\"color\":\"#9e9e9e\",\"width\":1},\"mode\":\"lines\",\"x\":[46.5,47.5],\"y\":[5.5,5.5],\"type\":\"scatter\",\"xaxis\":\"x2\",\"yaxis\":\"y2\"},{\"hoverinfo\":\"skip\",\"line\":{\"color\":\"#9e9e9e\",\"width\":1},\"mode\":\"lines\",\"x\":[47.5,47.5],\"y\":[5.5,-0.5],\"type\":\"scatter\",\"xaxis\":\"x2\",\"yaxis\":\"y2\"},{\"colorscale\":[[0.0,\"rgb(247,252,245)\"],[0.125,\"rgb(229,245,224)\"],[0.25,\"rgb(199,233,192)\"],[0.375,\"rgb(161,217,155)\"],[0.5,\"rgb(116,196,118)\"],[0.625,\"rgb(65,171,93)\"],[0.75,\"rgb(35,139,69)\"],[0.875,\"rgb(0,109,44)\"],[1.0,\"rgb(0,68,27)\"]],\"customdata\":[[\"2020-01-01\",\"y\"],[\"2020-01-02\",\"y\"],[\"2020-01-03\",\"y\"],[\"2020-01-04\",\"y\"],[\"2020-01-05\",\"y\"],[\"2020-01-06\",\"y\"],[\"2020-01-07\",\"y\"],[\"2020-01-08\",\"y\"],[\"2020-01-09\",\"y\"],[\"2020-01-10\",\"y\"],[\"2020-01-11\",\"y\"],[\"2020-01-12\",\"y\"],[\"2020-01-13\",\"y\"],[\"2020-01-14\",\"y\"],[\"2020-01-15\",\"y\"],[\"2020-01-16\",\"y\"],[\"2020-01-17\",\"y\"],[\"2020-01-18\",\"y\"],[\"2020-01-19\",\"y\"],[\"2020-01-20\",\"y\"],[\"2020-01-21\",\"y\"],[\"2020-01-22\",\"y\"],[\"2020-01-23\",\"y\"],[\"2020-01-24\",\"y\"],[\"2020-01-25\",\"y\"],[\"2020-01-26\",\"y\"],[\"2020-01-27\",\"y\"],[\"2020-01-28\",\"y\"],[\"2020-01-29\",\"y\"],[\"2020-01-30\",\"y\"],[\"2020-01-31\",\"y\"],[\"2020-02-01\",\"y\"],[\"2020-02-02\",\"y\"],[\"2020-02-03\",\"y\"],[\"2020-02-04\",\"y\"],[\"2020-02-05\",\"y\"],[\"2020-02-06\",\"y\"],[\"2020-02-07\",\"y\"],[\"2020-02-08\",\"y\"],[\"2020-02-09\",\"y\"],[\"2020-02-10\",\"y\"],[\"2020-02-11\",\"y\"],[\"2020-02-12\",\"y\"],[\"2020-02-13\",\"y\"],[\"2020-02-14\",\"y\"],[\"2020-02-15\",\"y\"],[\"2020-02-16\",\"y\"],[\"2020-02-17\",\"y\"],[\"2020-02-18\",\"y\"],[\"2020-02-19\",\"y\"],[\"2020-02-20\",\"y\"],[\"2020-02-21\",\"y\"],[\"2020-02-22\",\"y\"],[\"2020-02-23\",\"y\"],[\"2020-02-24\",\"y\"],[\"2020-02-25\",\"y\"],[\"2020-02-26\",\"y\"],[\"2020-02-27\",\"y\"],[\"2020-02-28\",\"y\"],[\"2020-02-29\",\"y\"],[\"2020-03-01\",\"y\"],[\"2020-03-02\",\"y\"],[\"2020-03-03\",\"y\"],[\"2020-03-04\",\"y\"],[\"2020-03-05\",\"y\"],[\"2020-03-06\",\"y\"],[\"2020-03-07\",\"y\"],[\"2020-03-08\",\"y\"],[\"2020-03-09\",\"y\"],[\"2020-03-10\",\"y\"],[\"2020-03-11\",\"y\"],[\"2020-03-12\",\"y\"],[\"2020-03-13\",\"y\"],[\"2020-03-14\",\"y\"],[\"2020-03-15\",\"y\"],[\"2020-03-16\",\"y\"],[\"2020-03-17\",\"y\"],[\"2020-03-18\",\"y\"],[\"2020-03-19\",\"y\"],[\"2020-03-20\",\"y\"],[\"2020-03-21\",\"y\"],[\"2020-03-22\",\"y\"],[\"2020-03-23\",\"y\"],[\"2020-03-24\",\"y\"],[\"2020-03-25\",\"y\"],[\"2020-03-26\",\"y\"],[\"2020-03-27\",\"y\"],[\"2020-03-28\",\"y\"],[\"2020-03-29\",\"y\"],[\"2020-03-30\",\"y\"],[\"2020-03-31\",\"y\"],[\"2020-04-01\",\"y\"],[\"2020-04-02\",\"y\"],[\"2020-04-03\",\"y\"],[\"2020-04-04\",\"y\"],[\"2020-04-05\",\"y\"],[\"2020-04-06\",\"y\"],[\"2020-04-07\",\"y\"],[\"2020-04-08\",\"y\"],[\"2020-04-09\",\"y\"],[\"2020-04-10\",\"y\"],[\"2020-04-11\",\"y\"],[\"2020-04-12\",\"y\"],[\"2020-04-13\",\"y\"],[\"2020-04-14\",\"y\"],[\"2020-04-15\",\"y\"],[\"2020-04-16\",\"y\"],[\"2020-04-17\",\"y\"],[\"2020-04-18\",\"y\"],[\"2020-04-19\",\"y\"],[\"2020-04-20\",\"y\"],[\"2020-04-21\",\"y\"],[\"2020-04-22\",\"y\"],[\"2020-04-23\",\"y\"],[\"2020-04-24\",\"y\"],[\"2020-04-25\",\"y\"],[\"2020-04-26\",\"y\"],[\"2020-04-27\",\"y\"],[\"2020-04-28\",\"y\"],[\"2020-04-29\",\"y\"],[\"2020-04-30\",\"y\"],[\"2020-05-01\",\"y\"],[\"2020-05-02\",\"y\"],[\"2020-05-03\",\"y\"],[\"2020-05-04\",\"y\"],[\"2020-05-05\",\"y\"],[\"2020-05-06\",\"y\"],[\"2020-05-07\",\"y\"],[\"2020-05-08\",\"y\"],[\"2020-05-09\",\"y\"],[\"2020-05-10\",\"y\"],[\"2020-05-11\",\"y\"],[\"2020-05-12\",\"y\"],[\"2020-05-13\",\"y\"],[\"2020-05-14\",\"y\"],[\"2020-05-15\",\"y\"],[\"2020-05-16\",\"y\"],[\"2020-05-17\",\"y\"],[\"2020-05-18\",\"y\"],[\"2020-05-19\",\"y\"],[\"2020-05-20\",\"y\"],[\"2020-05-21\",\"y\"],[\"2020-05-22\",\"y\"],[\"2020-05-23\",\"y\"],[\"2020-05-24\",\"y\"],[\"2020-05-25\",\"y\"],[\"2020-05-26\",\"y\"],[\"2020-05-27\",\"y\"],[\"2020-05-28\",\"y\"],[\"2020-05-29\",\"y\"],[\"2020-05-30\",\"y\"],[\"2020-05-31\",\"y\"],[\"2020-06-01\",\"y\"],[\"2020-06-02\",\"y\"],[\"2020-06-03\",\"y\"],[\"2020-06-04\",\"y\"],[\"2020-06-05\",\"y\"],[\"2020-06-06\",\"y\"],[\"2020-06-07\",\"y\"],[\"2020-06-08\",\"y\"],[\"2020-06-09\",\"y\"],[\"2020-06-10\",\"y\"],[\"2020-06-11\",\"y\"],[\"2020-06-12\",\"y\"],[\"2020-06-13\",\"y\"],[\"2020-06-14\",\"y\"],[\"2020-06-15\",\"y\"],[\"2020-06-16\",\"y\"],[\"2020-06-17\",\"y\"],[\"2020-06-18\",\"y\"],[\"2020-06-19\",\"y\"],[\"2020-06-20\",\"y\"],[\"2020-06-21\",\"y\"],[\"2020-06-22\",\"y\"],[\"2020-06-23\",\"y\"],[\"2020-06-24\",\"y\"],[\"2020-06-25\",\"y\"],[\"2020-06-26\",\"y\"],[\"2020-06-27\",\"y\"],[\"2020-06-28\",\"y\"],[\"2020-06-29\",\"y\"],[\"2020-06-30\",\"y\"],[\"2020-07-01\",\"y\"],[\"2020-07-02\",\"y\"],[\"2020-07-03\",\"y\"],[\"2020-07-04\",\"y\"],[\"2020-07-05\",\"y\"],[\"2020-07-06\",\"y\"],[\"2020-07-07\",\"y\"],[\"2020-07-08\",\"y\"],[\"2020-07-09\",\"y\"],[\"2020-07-10\",\"y\"],[\"2020-07-11\",\"y\"],[\"2020-07-12\",\"y\"],[\"2020-07-13\",\"y\"],[\"2020-07-14\",\"y\"],[\"2020-07-15\",\"y\"],[\"2020-07-16\",\"y\"],[\"2020-07-17\",\"y\"],[\"2020-07-18\",\"y\"],[\"2020-07-19\",\"y\"],[\"2020-07-20\",\"y\"],[\"2020-07-21\",\"y\"],[\"2020-07-22\",\"y\"],[\"2020-07-23\",\"y\"],[\"2020-07-24\",\"y\"],[\"2020-07-25\",\"y\"],[\"2020-07-26\",\"y\"],[\"2020-07-27\",\"y\"],[\"2020-07-28\",\"y\"],[\"2020-07-29\",\"y\"],[\"2020-07-30\",\"y\"],[\"2020-07-31\",\"y\"],[\"2020-08-01\",\"y\"],[\"2020-08-02\",\"y\"],[\"2020-08-03\",\"y\"],[\"2020-08-04\",\"y\"],[\"2020-08-05\",\"y\"],[\"2020-08-06\",\"y\"],[\"2020-08-07\",\"y\"],[\"2020-08-08\",\"y\"],[\"2020-08-09\",\"y\"],[\"2020-08-10\",\"y\"],[\"2020-08-11\",\"y\"],[\"2020-08-12\",\"y\"],[\"2020-08-13\",\"y\"],[\"2020-08-14\",\"y\"],[\"2020-08-15\",\"y\"],[\"2020-08-16\",\"y\"],[\"2020-08-17\",\"y\"],[\"2020-08-18\",\"y\"],[\"2020-08-19\",\"y\"],[\"2020-08-20\",\"y\"],[\"2020-08-21\",\"y\"],[\"2020-08-22\",\"y\"],[\"2020-08-23\",\"y\"],[\"2020-08-24\",\"y\"],[\"2020-08-25\",\"y\"],[\"2020-08-26\",\"y\"],[\"2020-08-27\",\"y\"],[\"2020-08-28\",\"y\"],[\"2020-08-29\",\"y\"],[\"2020-08-30\",\"y\"],[\"2020-08-31\",\"y\"],[\"2020-09-01\",\"y\"],[\"2020-09-02\",\"y\"],[\"2020-09-03\",\"y\"],[\"2020-09-04\",\"y\"],[\"2020-09-05\",\"y\"],[\"2020-09-06\",\"y\"],[\"2020-09-07\",\"y\"],[\"2020-09-08\",\"y\"],[\"2020-09-09\",\"y\"],[\"2020-09-10\",\"y\"],[\"2020-09-11\",\"y\"],[\"2020-09-12\",\"y\"],[\"2020-09-13\",\"y\"],[\"2020-09-14\",\"y\"],[\"2020-09-15\",\"y\"],[\"2020-09-16\",\"y\"],[\"2020-09-17\",\"y\"],[\"2020-09-18\",\"y\"],[\"2020-09-19\",\"y\"],[\"2020-09-20\",\"y\"],[\"2020-09-21\",\"y\"],[\"2020-09-22\",\"y\"],[\"2020-09-23\",\"y\"],[\"2020-09-24\",\"y\"],[\"2020-09-25\",\"y\"],[\"2020-09-26\",\"y\"],[\"2020-09-27\",\"y\"],[\"2020-09-28\",\"y\"],[\"2020-09-29\",\"y\"],[\"2020-09-30\",\"y\"],[\"2020-10-01\",\"y\"],[\"2020-10-02\",\"y\"],[\"2020-10-03\",\"y\"],[\"2020-10-04\",\"y\"],[\"2020-10-05\",\"y\"],[\"2020-10-06\",\"y\"],[\"2020-10-07\",\"y\"],[\"2020-10-08\",\"y\"],[\"2020-10-09\",\"y\"],[\"2020-10-10\",\"y\"],[\"2020-10-11\",\"y\"],[\"2020-10-12\",\"y\"],[\"2020-10-13\",\"y\"],[\"2020-10-14\",\"y\"],[\"2020-10-15\",\"y\"],[\"2020-10-16\",\"y\"],[\"2020-10-17\",\"y\"],[\"2020-10-18\",\"y\"],[\"2020-10-19\",\"y\"],[\"2020-10-20\",\"y\"],[\"2020-10-21\",\"y\"],[\"2020-10-22\",\"y\"],[\"2020-10-23\",\"y\"],[\"2020-10-24\",\"y\"],[\"2020-10-25\",\"y\"],[\"2020-10-26\",\"y\"],[\"2020-10-27\",\"y\"],[\"2020-10-28\",\"y\"],[\"2020-10-29\",\"y\"],[\"2020-10-30\",\"y\"],[\"2020-10-31\",\"y\"],[\"2020-11-01\",\"y\"],[\"2020-11-02\",\"y\"],[\"2020-11-03\",\"y\"],[\"2020-11-04\",\"y\"],[\"2020-11-05\",\"y\"],[\"2020-11-06\",\"y\"],[\"2020-11-07\",\"y\"],[\"2020-11-08\",\"y\"],[\"2020-11-09\",\"y\"],[\"2020-11-10\",\"y\"],[\"2020-11-11\",\"y\"],[\"2020-11-12\",\"y\"],[\"2020-11-13\",\"y\"],[\"2020-11-14\",\"y\"],[\"2020-11-15\",\"y\"],[\"2020-11-16\",\"y\"],[\"2020-11-17\",\"y\"],[\"2020-11-18\",\"y\"],[\"2020-11-19\",\"y\"],[\"2020-11-20\",\"y\"],[\"2020-11-21\",\"y\"],[\"2020-11-22\",\"y\"],[\"2020-11-23\",\"y\"],[\"2020-11-24\",\"y\"],[\"2020-11-25\",\"y\"],[\"2020-11-26\",\"y\"],[\"2020-11-27\",\"y\"],[\"2020-11-28\",\"y\"],[\"2020-11-29\",\"y\"],[\"2020-11-30\",\"y\"],[\"2020-12-01\",\"y\"],[\"2020-12-02\",\"y\"],[\"2020-12-03\",\"y\"],[\"2020-12-04\",\"y\"],[\"2020-12-05\",\"y\"],[\"2020-12-06\",\"y\"],[\"2020-12-07\",\"y\"],[\"2020-12-08\",\"y\"],[\"2020-12-09\",\"y\"],[\"2020-12-10\",\"y\"],[\"2020-12-11\",\"y\"],[\"2020-12-12\",\"y\"],[\"2020-12-13\",\"y\"],[\"2020-12-14\",\"y\"],[\"2020-12-15\",\"y\"],[\"2020-12-16\",\"y\"],[\"2020-12-17\",\"y\"],[\"2020-12-18\",\"y\"],[\"2020-12-19\",\"y\"],[\"2020-12-20\",\"y\"],[\"2020-12-21\",\"y\"],[\"2020-12-22\",\"y\"],[\"2020-12-23\",\"y\"],[\"2020-12-24\",\"y\"],[\"2020-12-25\",\"y\"],[\"2020-12-26\",\"y\"],[\"2020-12-27\",\"y\"],[\"2020-12-28\",\"y\"],[\"2020-12-29\",\"y\"],[\"2020-12-30\",\"y\"],[\"2020-12-31\",\"y\"]],\"hovertemplate\":\"%{customdata[0]} \\u003cbr\\u003eWeek=%{x} \\u003cbr\\u003e%{customdata[1]}=%{z}\",\"name\":\"2020\",\"showscale\":false,\"x\":[0,0,0,0,0,1,1,1,1,1,1,1,2,2,2,2,2,2,2,3,3,3,3,3,3,3,4,4,4,4,4,4,4,5,5,5,5,5,5,5,6,6,6,6,6,6,6,7,7,7,7,7,7,7,8,8,8,8,8,8,8,9,9,9,9,9,9,9,10,10,10,10,10,10,10,11,11,11,11,11,11,11,12,12,12,12,12,12,12,13,13,13,13,13,13,13,14,14,14,14,14,14,14,15,15,15,15,15,15,15,16,16,16,16,16,16,16,17,17,17,17,17,17,17,18,18,18,18,18,18,18,19,19,19,19,19,19,19,20,20,20,20,20,20,20,21,21,21,21,21,21,21,22,22,22,22,22,22,22,23,23,23,23,23,23,23,24,24,24,24,24,24,24,25,25,25,25,25,25,25,26,26,26,26,26,26,26,27,27,27,27,27,27,27,28,28,28,28,28,28,28,29,29,29,29,29,29,29,30,30,30,30,30,30,30,31,31,31,31,31,31,31,32,32,32,32,32,32,32,33,33,33,33,33,33,33,34,34,34,34,34,34,34,35,35,35,35,35,35,35,36,36,36,36,36,36,36,37,37,37,37,37,37,37,38,38,38,38,38,38,38,39,39,39,39,39,39,39,40,40,40,40,40,40,40,41,41,41,41,41,41,41,42,42,42,42,42,42,42,43,43,43,43,43,43,43,44,44,44,44,44,44,44,45,45,45,45,45,45,45,46,46,46,46,46,46,46,47,47,47,47,47,47,47,48,48,48,48,48,48,48,49,49,49,49,49,49,49,50,50,50,50,50,50,50,51,51,51,51,51,51,51,52,52,52,52],\"xgap\":1,\"y\":[2,3,4,5,6,0,1,2,3,4,5,6,0,1,2,3,4,5,6,0,1,2,3,4,5,6,0,1,2,3,4,5,6,0,1,2,3,4,5,6,0,1,2,3,4,5,6,0,1,2,3,4,5,6,0,1,2,3,4,5,6,0,1,2,3,4,5,6,0,1,2,3,4,5,6,0,1,2,3,4,5,6,0,1,2,3,4,5,6,0,1,2,3,4,5,6,0,1,2,3,4,5,6,0,1,2,3,4,5,6,0,1,2,3,4,5,6,0,1,2,3,4,5,6,0,1,2,3,4,5,6,0,1,2,3,4,5,6,0,1,2,3,4,5,6,0,1,2,3,4,5,6,0,1,2,3,4,5,6,0,1,2,3,4,5,6,0,1,2,3,4,5,6,0,1,2,3,4,5,6,0,1,2,3,4,5,6,0,1,2,3,4,5,6,0,1,2,3,4,5,6,0,1,2,3,4,5,6,0,1,2,3,4,5,6,0,1,2,3,4,5,6,0,1,2,3,4,5,6,0,1,2,3,4,5,6,0,1,2,3,4,5,6,0,1,2,3,4,5,6,0,1,2,3,4,5,6,0,1,2,3,4,5,6,0,1,2,3,4,5,6,0,1,2,3,4,5,6,0,1,2,3,4,5,6,0,1,2,3,4,5,6,0,1,2,3,4,5,6,0,1,2,3,4,5,6,0,1,2,3,4,5,6,0,1,2,3,4,5,6,0,1,2,3,4,5,6,0,1,2,3,4,5,6,0,1,2,3,4,5,6,0,1,2,3,4,5,6,0,1,2,3,4,5,6,0,1,2,3,4,5,6,0,1,2,3],\"ygap\":1,\"z\":[6.0,5.0,5.0,7.0,8.0,1.0,2.0,5.0,4.0,8.0,7.0,12.0,9.0,8.0,6.0,4.0,8.0,3.0,4.0,7.0,3.0,8.0,5.0,10.0,12.0,8.0,4.0,5.0,8.0,6.0,7.0,7.0,3.0,7.0,2.0,1.0,3.0,11.0,5.0,6.0,6.0,8.0,5.0,5.0,3.0,9.0,6.0,8.0,5.0,null,4.0,null,3.0,6.0,2.0,5.0,4.0,11.0,5.0,8.0,3.0,5.0,3.0,4.0,7.0,7.0,10.0,7.0,9.0,6.0,3.0,4.0,7.0,6.0,9.0,11.0,4.0,3.0,14.0,6.0,2.0,3.0,4.0,6.0,1.0,2.0,6.0,5.0,5.0,1.0,5.0,2.0,1.0,3.0,2.0,9.0,3.0,5.0,2.0,2.0,3.0,3.0,null,2.0,3.0,3.0,6.0,5.0,1.0,3.0,3.0,3.0,8.0,2.0,2.0,2.0,6.0,2.0,5.0,2.0,1.0,5.0,null,8.0,null,2.0,3.0,3.0,3.0,3.0,5.0,4.0,2.0,3.0,4.0,null,3.0,null,6.0,5.0,4.0,5.0,5.0,1.0,2.0,2.0,1.0,4.0,4.0,5.0,2.0,4.0,4.0,null,4.0,5.0,null,4.0,null,4.0,1.0,2.0,3.0,2.0,2.0,1.0,1.0,3.0,6.0,4.0,6.0,6.0,4.0,1.0,1.0,4.0,2.0,null,null,3.0,2.0,3.0,2.0,4.0,5.0,2.0,5.0,3.0,4.0,null,2.0,2.0,1.0,2.0,5.0,4.0,5.0,8.0,3.0,8.0,null,9.0,7.0,7.0,5.0,6.0,6.0,1.0,6.0,7.0,6.0,7.0,7.0,11.0,2.0,4.0,2.0,6.0,4.0,3.0,7.0,null,4.0,3.0,5.0,7.0,5.0,5.0,1.0,5.0,4.0,7.0,4.0,7.0,8.0,2.0,1.0,3.0,8.0,4.0,3.0,5.0,9.0,2.0,7.0,4.0,3.0,9.0,12.0,7.0,8.0,4.0,2.0,1.0,4.0,10.0,4.0,6.0,2.0,4.0,4.0,5.0,3.0,8.0,4.0,4.0,7.0,4.0,3.0,4.0,3.0,1.0,4.0,4.0,6.0,4.0,8.0,4.0,4.0,7.0,4.0,10.0,9.0,4.0,4.0,8.0,5.0,4.0,5.0,1.0,8.0,7.0,3.0,6.0,4.0,2.0,5.0,7.0,4.0,4.0,3.0,6.0,4.0,6.0,1.0,8.0,3.0,5.0,4.0,4.0,6.0,2.0,3.0,4.0,4.0,9.0,7.0,3.0,7.0,4.0,5.0,5.0,5.0,6.0,1.0,7.0,4.0,6.0,6.0,12.0,3.0,1.0,3.0,3.0,1.0,2.0,4.0,2.0,4.0,3.0,3.0,5.0,4.0,3.0,10.0,12.0,6.0,3.0,4.0,7.0,7.0,4.0,8.0,5.0,3.0,5.0,2.0,4.0,3.0,null,3.0,2.0,6.0,3.0,6.0,null],\"type\":\"heatmap\",\"xaxis\":\"x3\",\"yaxis\":\"y3\",\"zmax\":30,\"zmin\":1},{\"hoverinfo\":\"skip\",\"line\":{\"color\":\"#9e9e9e\",\"width\":1},\"mode\":\"lines\",\"x\":[-0.5,-0.5],\"y\":[1.5,6.5],\"type\":\"scatter\",\"xaxis\":\"x3\",\"yaxis\":\"y3\"},{\"hoverinfo\":\"skip\",\"line\":{\"color\":\"#9e9e9e\",\"width\":1},\"mode\":\"lines\",\"x\":[-0.5,0.5],\"y\":[1.5,1.5],\"type\":\"scatter\",\"xaxis\":\"x3\",\"yaxis\":\"y3\"},{\"hoverinfo\":\"skip\",\"line\":{\"color\":\"#9e9e9e\",\"width\":1},\"mode\":\"lines\",\"x\":[0.5,0.5],\"y\":[1.5,-0.5],\"type\":\"scatter\",\"xaxis\":\"x3\",\"yaxis\":\"y3\"},{\"hoverinfo\":\"skip\",\"line\":{\"color\":\"#9e9e9e\",\"width\":1},\"mode\":\"lines\",\"x\":[3.5,3.5],\"y\":[4.5,6.5],\"type\":\"scatter\",\"xaxis\":\"x3\",\"yaxis\":\"y3\"},{\"hoverinfo\":\"skip\",\"line\":{\"color\":\"#9e9e9e\",\"width\":1},\"mode\":\"lines\",\"x\":[3.5,4.5],\"y\":[4.5,4.5],\"type\":\"scatter\",\"xaxis\":\"x3\",\"yaxis\":\"y3\"},{\"hoverinfo\":\"skip\",\"line\":{\"color\":\"#9e9e9e\",\"width\":1},\"mode\":\"lines\",\"x\":[4.5,4.5],\"y\":[4.5,-0.5],\"type\":\"scatter\",\"xaxis\":\"x3\",\"yaxis\":\"y3\"},{\"hoverinfo\":\"skip\",\"line\":{\"color\":\"#9e9e9e\",\"width\":1},\"mode\":\"lines\",\"x\":[7.5,7.5],\"y\":[5.5,6.5],\"type\":\"scatter\",\"xaxis\":\"x3\",\"yaxis\":\"y3\"},{\"hoverinfo\":\"skip\",\"line\":{\"color\":\"#9e9e9e\",\"width\":1},\"mode\":\"lines\",\"x\":[7.5,8.5],\"y\":[5.5,5.5],\"type\":\"scatter\",\"xaxis\":\"x3\",\"yaxis\":\"y3\"},{\"hoverinfo\":\"skip\",\"line\":{\"color\":\"#9e9e9e\",\"width\":1},\"mode\":\"lines\",\"x\":[8.5,8.5],\"y\":[5.5,-0.5],\"type\":\"scatter\",\"xaxis\":\"x3\",\"yaxis\":\"y3\"},{\"hoverinfo\":\"skip\",\"line\":{\"color\":\"#9e9e9e\",\"width\":1},\"mode\":\"lines\",\"x\":[12.5,12.5],\"y\":[1.5,6.5],\"type\":\"scatter\",\"xaxis\":\"x3\",\"yaxis\":\"y3\"},{\"hoverinfo\":\"skip\",\"line\":{\"color\":\"#9e9e9e\",\"width\":1},\"mode\":\"lines\",\"x\":[12.5,13.5],\"y\":[1.5,1.5],\"type\":\"scatter\",\"xaxis\":\"x3\",\"yaxis\":\"y3\"},{\"hoverinfo\":\"skip\",\"line\":{\"color\":\"#9e9e9e\",\"width\":1},\"mode\":\"lines\",\"x\":[13.5,13.5],\"y\":[1.5,-0.5],\"type\":\"scatter\",\"xaxis\":\"x3\",\"yaxis\":\"y3\"},{\"hoverinfo\":\"skip\",\"line\":{\"color\":\"#9e9e9e\",\"width\":1},\"mode\":\"lines\",\"x\":[16.5,16.5],\"y\":[3.5,6.5],\"type\":\"scatter\",\"xaxis\":\"x3\",\"yaxis\":\"y3\"},{\"hoverinfo\":\"skip\",\"line\":{\"color\":\"#9e9e9e\",\"width\":1},\"mode\":\"lines\",\"x\":[16.5,17.5],\"y\":[3.5,3.5],\"type\":\"scatter\",\"xaxis\":\"x3\",\"yaxis\":\"y3\"},{\"hoverinfo\":\"skip\",\"line\":{\"color\":\"#9e9e9e\",\"width\":1},\"mode\":\"lines\",\"x\":[17.5,17.5],\"y\":[3.5,-0.5],\"type\":\"scatter\",\"xaxis\":\"x3\",\"yaxis\":\"y3\"},{\"hoverinfo\":\"skip\",\"line\":{\"color\":\"#9e9e9e\",\"width\":1},\"mode\":\"lines\",\"x\":[21.5,21.5],\"y\":[-0.5,6.5],\"type\":\"scatter\",\"xaxis\":\"x3\",\"yaxis\":\"y3\"},{\"hoverinfo\":\"skip\",\"line\":{\"color\":\"#9e9e9e\",\"width\":1},\"mode\":\"lines\",\"x\":[25.5,25.5],\"y\":[1.5,6.5],\"type\":\"scatter\",\"xaxis\":\"x3\",\"yaxis\":\"y3\"},{\"hoverinfo\":\"skip\",\"line\":{\"color\":\"#9e9e9e\",\"width\":1},\"mode\":\"lines\",\"x\":[25.5,26.5],\"y\":[1.5,1.5],\"type\":\"scatter\",\"xaxis\":\"x3\",\"yaxis\":\"y3\"},{\"hoverinfo\":\"skip\",\"line\":{\"color\":\"#9e9e9e\",\"width\":1},\"mode\":\"lines\",\"x\":[26.5,26.5],\"y\":[1.5,-0.5],\"type\":\"scatter\",\"xaxis\":\"x3\",\"yaxis\":\"y3\"},{\"hoverinfo\":\"skip\",\"line\":{\"color\":\"#9e9e9e\",\"width\":1},\"mode\":\"lines\",\"x\":[29.5,29.5],\"y\":[4.5,6.5],\"type\":\"scatter\",\"xaxis\":\"x3\",\"yaxis\":\"y3\"},{\"hoverinfo\":\"skip\",\"line\":{\"color\":\"#9e9e9e\",\"width\":1},\"mode\":\"lines\",\"x\":[29.5,30.5],\"y\":[4.5,4.5],\"type\":\"scatter\",\"xaxis\":\"x3\",\"yaxis\":\"y3\"},{\"hoverinfo\":\"skip\",\"line\":{\"color\":\"#9e9e9e\",\"width\":1},\"mode\":\"lines\",\"x\":[30.5,30.5],\"y\":[4.5,-0.5],\"type\":\"scatter\",\"xaxis\":\"x3\",\"yaxis\":\"y3\"},{\"hoverinfo\":\"skip\",\"line\":{\"color\":\"#9e9e9e\",\"width\":1},\"mode\":\"lines\",\"x\":[34.5,34.5],\"y\":[0.5,6.5],\"type\":\"scatter\",\"xaxis\":\"x3\",\"yaxis\":\"y3\"},{\"hoverinfo\":\"skip\",\"line\":{\"color\":\"#9e9e9e\",\"width\":1},\"mode\":\"lines\",\"x\":[34.5,35.5],\"y\":[0.5,0.5],\"type\":\"scatter\",\"xaxis\":\"x3\",\"yaxis\":\"y3\"},{\"hoverinfo\":\"skip\",\"line\":{\"color\":\"#9e9e9e\",\"width\":1},\"mode\":\"lines\",\"x\":[35.5,35.5],\"y\":[0.5,-0.5],\"type\":\"scatter\",\"xaxis\":\"x3\",\"yaxis\":\"y3\"},{\"hoverinfo\":\"skip\",\"line\":{\"color\":\"#9e9e9e\",\"width\":1},\"mode\":\"lines\",\"x\":[38.5,38.5],\"y\":[2.5,6.5],\"type\":\"scatter\",\"xaxis\":\"x3\",\"yaxis\":\"y3\"},{\"hoverinfo\":\"skip\",\"line\":{\"color\":\"#9e9e9e\",\"width\":1},\"mode\":\"lines\",\"x\":[38.5,39.5],\"y\":[2.5,2.5],\"type\":\"scatter\",\"xaxis\":\"x3\",\"yaxis\":\"y3\"},{\"hoverinfo\":\"skip\",\"line\":{\"color\":\"#9e9e9e\",\"width\":1},\"mode\":\"lines\",\"x\":[39.5,39.5],\"y\":[2.5,-0.5],\"type\":\"scatter\",\"xaxis\":\"x3\",\"yaxis\":\"y3\"},{\"hoverinfo\":\"skip\",\"line\":{\"color\":\"#9e9e9e\",\"width\":1},\"mode\":\"lines\",\"x\":[42.5,42.5],\"y\":[5.5,6.5],\"type\":\"scatter\",\"xaxis\":\"x3\",\"yaxis\":\"y3\"},{\"hoverinfo\":\"skip\",\"line\":{\"color\":\"#9e9e9e\",\"width\":1},\"mode\":\"lines\",\"x\":[42.5,43.5],\"y\":[5.5,5.5],\"type\":\"scatter\",\"xaxis\":\"x3\",\"yaxis\":\"y3\"},{\"hoverinfo\":\"skip\",\"line\":{\"color\":\"#9e9e9e\",\"width\":1},\"mode\":\"lines\",\"x\":[43.5,43.5],\"y\":[5.5,-0.5],\"type\":\"scatter\",\"xaxis\":\"x3\",\"yaxis\":\"y3\"},{\"hoverinfo\":\"skip\",\"line\":{\"color\":\"#9e9e9e\",\"width\":1},\"mode\":\"lines\",\"x\":[47.5,47.5],\"y\":[0.5,6.5],\"type\":\"scatter\",\"xaxis\":\"x3\",\"yaxis\":\"y3\"},{\"hoverinfo\":\"skip\",\"line\":{\"color\":\"#9e9e9e\",\"width\":1},\"mode\":\"lines\",\"x\":[47.5,48.5],\"y\":[0.5,0.5],\"type\":\"scatter\",\"xaxis\":\"x3\",\"yaxis\":\"y3\"},{\"hoverinfo\":\"skip\",\"line\":{\"color\":\"#9e9e9e\",\"width\":1},\"mode\":\"lines\",\"x\":[48.5,48.5],\"y\":[0.5,-0.5],\"type\":\"scatter\",\"xaxis\":\"x3\",\"yaxis\":\"y3\"},{\"colorscale\":[[0.0,\"rgb(247,252,245)\"],[0.125,\"rgb(229,245,224)\"],[0.25,\"rgb(199,233,192)\"],[0.375,\"rgb(161,217,155)\"],[0.5,\"rgb(116,196,118)\"],[0.625,\"rgb(65,171,93)\"],[0.75,\"rgb(35,139,69)\"],[0.875,\"rgb(0,109,44)\"],[1.0,\"rgb(0,68,27)\"]],\"customdata\":[[\"2021-01-01\",\"y\"],[\"2021-01-02\",\"y\"],[\"2021-01-03\",\"y\"],[\"2021-01-04\",\"y\"],[\"2021-01-05\",\"y\"],[\"2021-01-06\",\"y\"],[\"2021-01-07\",\"y\"],[\"2021-01-08\",\"y\"],[\"2021-01-09\",\"y\"],[\"2021-01-10\",\"y\"],[\"2021-01-11\",\"y\"],[\"2021-01-12\",\"y\"],[\"2021-01-13\",\"y\"],[\"2021-01-14\",\"y\"],[\"2021-01-15\",\"y\"],[\"2021-01-16\",\"y\"],[\"2021-01-17\",\"y\"],[\"2021-01-18\",\"y\"],[\"2021-01-19\",\"y\"],[\"2021-01-20\",\"y\"],[\"2021-01-21\",\"y\"],[\"2021-01-22\",\"y\"],[\"2021-01-23\",\"y\"],[\"2021-01-24\",\"y\"],[\"2021-01-25\",\"y\"],[\"2021-01-26\",\"y\"],[\"2021-01-27\",\"y\"],[\"2021-01-28\",\"y\"],[\"2021-01-29\",\"y\"],[\"2021-01-30\",\"y\"],[\"2021-01-31\",\"y\"],[\"2021-02-01\",\"y\"],[\"2021-02-02\",\"y\"],[\"2021-02-03\",\"y\"],[\"2021-02-04\",\"y\"],[\"2021-02-05\",\"y\"],[\"2021-02-06\",\"y\"],[\"2021-02-07\",\"y\"],[\"2021-02-08\",\"y\"],[\"2021-02-09\",\"y\"],[\"2021-02-10\",\"y\"],[\"2021-02-11\",\"y\"],[\"2021-02-12\",\"y\"],[\"2021-02-13\",\"y\"],[\"2021-02-14\",\"y\"],[\"2021-02-15\",\"y\"],[\"2021-02-16\",\"y\"],[\"2021-02-17\",\"y\"],[\"2021-02-18\",\"y\"],[\"2021-02-19\",\"y\"],[\"2021-02-20\",\"y\"],[\"2021-02-21\",\"y\"],[\"2021-02-22\",\"y\"],[\"2021-02-23\",\"y\"],[\"2021-02-24\",\"y\"],[\"2021-02-25\",\"y\"],[\"2021-02-26\",\"y\"],[\"2021-02-27\",\"y\"],[\"2021-02-28\",\"y\"],[\"2021-03-01\",\"y\"],[\"2021-03-02\",\"y\"],[\"2021-03-03\",\"y\"],[\"2021-03-04\",\"y\"],[\"2021-03-05\",\"y\"],[\"2021-03-06\",\"y\"],[\"2021-03-07\",\"y\"],[\"2021-03-08\",\"y\"],[\"2021-03-09\",\"y\"],[\"2021-03-10\",\"y\"],[\"2021-03-11\",\"y\"],[\"2021-03-12\",\"y\"],[\"2021-03-13\",\"y\"],[\"2021-03-14\",\"y\"],[\"2021-03-15\",\"y\"],[\"2021-03-16\",\"y\"],[\"2021-03-17\",\"y\"],[\"2021-03-18\",\"y\"],[\"2021-03-19\",\"y\"],[\"2021-03-20\",\"y\"],[\"2021-03-21\",\"y\"],[\"2021-03-22\",\"y\"],[\"2021-03-23\",\"y\"],[\"2021-03-24\",\"y\"],[\"2021-03-25\",\"y\"],[\"2021-03-26\",\"y\"],[\"2021-03-27\",\"y\"],[\"2021-03-28\",\"y\"],[\"2021-03-29\",\"y\"],[\"2021-03-30\",\"y\"],[\"2021-03-31\",\"y\"],[\"2021-04-01\",\"y\"],[\"2021-04-02\",\"y\"],[\"2021-04-03\",\"y\"],[\"2021-04-04\",\"y\"],[\"2021-04-05\",\"y\"],[\"2021-04-06\",\"y\"],[\"2021-04-07\",\"y\"],[\"2021-04-08\",\"y\"],[\"2021-04-09\",\"y\"],[\"2021-04-10\",\"y\"],[\"2021-04-11\",\"y\"],[\"2021-04-12\",\"y\"],[\"2021-04-13\",\"y\"],[\"2021-04-14\",\"y\"],[\"2021-04-15\",\"y\"],[\"2021-04-16\",\"y\"],[\"2021-04-17\",\"y\"],[\"2021-04-18\",\"y\"],[\"2021-04-19\",\"y\"],[\"2021-04-20\",\"y\"],[\"2021-04-21\",\"y\"],[\"2021-04-22\",\"y\"],[\"2021-04-23\",\"y\"],[\"2021-04-24\",\"y\"],[\"2021-04-25\",\"y\"],[\"2021-04-26\",\"y\"],[\"2021-04-27\",\"y\"],[\"2021-04-28\",\"y\"],[\"2021-04-29\",\"y\"],[\"2021-04-30\",\"y\"],[\"2021-05-01\",\"y\"],[\"2021-05-02\",\"y\"],[\"2021-05-03\",\"y\"],[\"2021-05-04\",\"y\"],[\"2021-05-05\",\"y\"],[\"2021-05-06\",\"y\"],[\"2021-05-07\",\"y\"],[\"2021-05-08\",\"y\"],[\"2021-05-09\",\"y\"],[\"2021-05-10\",\"y\"],[\"2021-05-11\",\"y\"],[\"2021-05-12\",\"y\"],[\"2021-05-13\",\"y\"],[\"2021-05-14\",\"y\"],[\"2021-05-15\",\"y\"],[\"2021-05-16\",\"y\"],[\"2021-05-17\",\"y\"],[\"2021-05-18\",\"y\"],[\"2021-05-19\",\"y\"],[\"2021-05-20\",\"y\"],[\"2021-05-21\",\"y\"],[\"2021-05-22\",\"y\"],[\"2021-05-23\",\"y\"],[\"2021-05-24\",\"y\"],[\"2021-05-25\",\"y\"],[\"2021-05-26\",\"y\"],[\"2021-05-27\",\"y\"],[\"2021-05-28\",\"y\"],[\"2021-05-29\",\"y\"],[\"2021-05-30\",\"y\"],[\"2021-05-31\",\"y\"],[\"2021-06-01\",\"y\"],[\"2021-06-02\",\"y\"],[\"2021-06-03\",\"y\"],[\"2021-06-04\",\"y\"],[\"2021-06-05\",\"y\"],[\"2021-06-06\",\"y\"],[\"2021-06-07\",\"y\"],[\"2021-06-08\",\"y\"],[\"2021-06-09\",\"y\"],[\"2021-06-10\",\"y\"],[\"2021-06-11\",\"y\"],[\"2021-06-12\",\"y\"],[\"2021-06-13\",\"y\"],[\"2021-06-14\",\"y\"],[\"2021-06-15\",\"y\"],[\"2021-06-16\",\"y\"],[\"2021-06-17\",\"y\"],[\"2021-06-18\",\"y\"],[\"2021-06-19\",\"y\"],[\"2021-06-20\",\"y\"],[\"2021-06-21\",\"y\"],[\"2021-06-22\",\"y\"],[\"2021-06-23\",\"y\"],[\"2021-06-24\",\"y\"],[\"2021-06-25\",\"y\"],[\"2021-06-26\",\"y\"],[\"2021-06-27\",\"y\"],[\"2021-06-28\",\"y\"],[\"2021-06-29\",\"y\"],[\"2021-06-30\",\"y\"],[\"2021-07-01\",\"y\"],[\"2021-07-02\",\"y\"],[\"2021-07-03\",\"y\"],[\"2021-07-04\",\"y\"],[\"2021-07-05\",\"y\"],[\"2021-07-06\",\"y\"],[\"2021-07-07\",\"y\"],[\"2021-07-08\",\"y\"],[\"2021-07-09\",\"y\"],[\"2021-07-10\",\"y\"],[\"2021-07-11\",\"y\"],[\"2021-07-12\",\"y\"],[\"2021-07-13\",\"y\"],[\"2021-07-14\",\"y\"],[\"2021-07-15\",\"y\"],[\"2021-07-16\",\"y\"],[\"2021-07-17\",\"y\"],[\"2021-07-18\",\"y\"],[\"2021-07-19\",\"y\"],[\"2021-07-20\",\"y\"],[\"2021-07-21\",\"y\"],[\"2021-07-22\",\"y\"],[\"2021-07-23\",\"y\"],[\"2021-07-24\",\"y\"],[\"2021-07-25\",\"y\"],[\"2021-07-26\",\"y\"],[\"2021-07-27\",\"y\"],[\"2021-07-28\",\"y\"],[\"2021-07-29\",\"y\"],[\"2021-07-30\",\"y\"],[\"2021-07-31\",\"y\"],[\"2021-08-01\",\"y\"],[\"2021-08-02\",\"y\"],[\"2021-08-03\",\"y\"],[\"2021-08-04\",\"y\"],[\"2021-08-05\",\"y\"],[\"2021-08-06\",\"y\"],[\"2021-08-07\",\"y\"],[\"2021-08-08\",\"y\"],[\"2021-08-09\",\"y\"],[\"2021-08-10\",\"y\"],[\"2021-08-11\",\"y\"],[\"2021-08-12\",\"y\"],[\"2021-08-13\",\"y\"],[\"2021-08-14\",\"y\"],[\"2021-08-15\",\"y\"],[\"2021-08-16\",\"y\"],[\"2021-08-17\",\"y\"],[\"2021-08-18\",\"y\"],[\"2021-08-19\",\"y\"],[\"2021-08-20\",\"y\"],[\"2021-08-21\",\"y\"],[\"2021-08-22\",\"y\"],[\"2021-08-23\",\"y\"],[\"2021-08-24\",\"y\"],[\"2021-08-25\",\"y\"],[\"2021-08-26\",\"y\"],[\"2021-08-27\",\"y\"],[\"2021-08-28\",\"y\"],[\"2021-08-29\",\"y\"],[\"2021-08-30\",\"y\"],[\"2021-08-31\",\"y\"],[\"2021-09-01\",\"y\"],[\"2021-09-02\",\"y\"],[\"2021-09-03\",\"y\"],[\"2021-09-04\",\"y\"],[\"2021-09-05\",\"y\"],[\"2021-09-06\",\"y\"],[\"2021-09-07\",\"y\"],[\"2021-09-08\",\"y\"],[\"2021-09-09\",\"y\"],[\"2021-09-10\",\"y\"],[\"2021-09-11\",\"y\"],[\"2021-09-12\",\"y\"],[\"2021-09-13\",\"y\"],[\"2021-09-14\",\"y\"],[\"2021-09-15\",\"y\"],[\"2021-09-16\",\"y\"],[\"2021-09-17\",\"y\"],[\"2021-09-18\",\"y\"],[\"2021-09-19\",\"y\"],[\"2021-09-20\",\"y\"],[\"2021-09-21\",\"y\"],[\"2021-09-22\",\"y\"],[\"2021-09-23\",\"y\"],[\"2021-09-24\",\"y\"],[\"2021-09-25\",\"y\"],[\"2021-09-26\",\"y\"],[\"2021-09-27\",\"y\"],[\"2021-09-28\",\"y\"],[\"2021-09-29\",\"y\"],[\"2021-09-30\",\"y\"],[\"2021-10-01\",\"y\"],[\"2021-10-02\",\"y\"],[\"2021-10-03\",\"y\"],[\"2021-10-04\",\"y\"],[\"2021-10-05\",\"y\"],[\"2021-10-06\",\"y\"],[\"2021-10-07\",\"y\"],[\"2021-10-08\",\"y\"],[\"2021-10-09\",\"y\"],[\"2021-10-10\",\"y\"],[\"2021-10-11\",\"y\"],[\"2021-10-12\",\"y\"],[\"2021-10-13\",\"y\"],[\"2021-10-14\",\"y\"],[\"2021-10-15\",\"y\"],[\"2021-10-16\",\"y\"],[\"2021-10-17\",\"y\"],[\"2021-10-18\",\"y\"],[\"2021-10-19\",\"y\"],[\"2021-10-20\",\"y\"],[\"2021-10-21\",\"y\"],[\"2021-10-22\",\"y\"],[\"2021-10-23\",\"y\"],[\"2021-10-24\",\"y\"],[\"2021-10-25\",\"y\"],[\"2021-10-26\",\"y\"],[\"2021-10-27\",\"y\"],[\"2021-10-28\",\"y\"],[\"2021-10-29\",\"y\"],[\"2021-10-30\",\"y\"],[\"2021-10-31\",\"y\"],[\"2021-11-01\",\"y\"],[\"2021-11-02\",\"y\"],[\"2021-11-03\",\"y\"],[\"2021-11-04\",\"y\"],[\"2021-11-05\",\"y\"],[\"2021-11-06\",\"y\"],[\"2021-11-07\",\"y\"],[\"2021-11-08\",\"y\"],[\"2021-11-09\",\"y\"],[\"2021-11-10\",\"y\"],[\"2021-11-11\",\"y\"],[\"2021-11-12\",\"y\"],[\"2021-11-13\",\"y\"],[\"2021-11-14\",\"y\"],[\"2021-11-15\",\"y\"],[\"2021-11-16\",\"y\"],[\"2021-11-17\",\"y\"],[\"2021-11-18\",\"y\"],[\"2021-11-19\",\"y\"],[\"2021-11-20\",\"y\"],[\"2021-11-21\",\"y\"],[\"2021-11-22\",\"y\"],[\"2021-11-23\",\"y\"],[\"2021-11-24\",\"y\"],[\"2021-11-25\",\"y\"],[\"2021-11-26\",\"y\"],[\"2021-11-27\",\"y\"],[\"2021-11-28\",\"y\"],[\"2021-11-29\",\"y\"],[\"2021-11-30\",\"y\"],[\"2021-12-01\",\"y\"],[\"2021-12-02\",\"y\"],[\"2021-12-03\",\"y\"],[\"2021-12-04\",\"y\"],[\"2021-12-05\",\"y\"],[\"2021-12-06\",\"y\"],[\"2021-12-07\",\"y\"],[\"2021-12-08\",\"y\"],[\"2021-12-09\",\"y\"],[\"2021-12-10\",\"y\"],[\"2021-12-11\",\"y\"],[\"2021-12-12\",\"y\"],[\"2021-12-13\",\"y\"],[\"2021-12-14\",\"y\"],[\"2021-12-15\",\"y\"],[\"2021-12-16\",\"y\"],[\"2021-12-17\",\"y\"],[\"2021-12-18\",\"y\"],[\"2021-12-19\",\"y\"],[\"2021-12-20\",\"y\"],[\"2021-12-21\",\"y\"],[\"2021-12-22\",\"y\"],[\"2021-12-23\",\"y\"],[\"2021-12-24\",\"y\"],[\"2021-12-25\",\"y\"],[\"2021-12-26\",\"y\"],[\"2021-12-27\",\"y\"],[\"2021-12-28\",\"y\"],[\"2021-12-29\",\"y\"],[\"2021-12-30\",\"y\"],[\"2021-12-31\",\"y\"]],\"hovertemplate\":\"%{customdata[0]} \\u003cbr\\u003eWeek=%{x} \\u003cbr\\u003e%{customdata[1]}=%{z}\",\"name\":\"2021\",\"showscale\":false,\"x\":[0,0,0,1,1,1,1,1,1,1,2,2,2,2,2,2,2,3,3,3,3,3,3,3,4,4,4,4,4,4,4,5,5,5,5,5,5,5,6,6,6,6,6,6,6,7,7,7,7,7,7,7,8,8,8,8,8,8,8,9,9,9,9,9,9,9,10,10,10,10,10,10,10,11,11,11,11,11,11,11,12,12,12,12,12,12,12,13,13,13,13,13,13,13,14,14,14,14,14,14,14,15,15,15,15,15,15,15,16,16,16,16,16,16,16,17,17,17,17,17,17,17,18,18,18,18,18,18,18,19,19,19,19,19,19,19,20,20,20,20,20,20,20,21,21,21,21,21,21,21,22,22,22,22,22,22,22,23,23,23,23,23,23,23,24,24,24,24,24,24,24,25,25,25,25,25,25,25,26,26,26,26,26,26,26,27,27,27,27,27,27,27,28,28,28,28,28,28,28,29,29,29,29,29,29,29,30,30,30,30,30,30,30,31,31,31,31,31,31,31,32,32,32,32,32,32,32,33,33,33,33,33,33,33,34,34,34,34,34,34,34,35,35,35,35,35,35,35,36,36,36,36,36,36,36,37,37,37,37,37,37,37,38,38,38,38,38,38,38,39,39,39,39,39,39,39,40,40,40,40,40,40,40,41,41,41,41,41,41,41,42,42,42,42,42,42,42,43,43,43,43,43,43,43,44,44,44,44,44,44,44,45,45,45,45,45,45,45,46,46,46,46,46,46,46,47,47,47,47,47,47,47,48,48,48,48,48,48,48,49,49,49,49,49,49,49,50,50,50,50,50,50,50,51,51,51,51,51,51,51,52,52,52,52,52],\"xgap\":1,\"y\":[4,5,6,0,1,2,3,4,5,6,0,1,2,3,4,5,6,0,1,2,3,4,5,6,0,1,2,3,4,5,6,0,1,2,3,4,5,6,0,1,2,3,4,5,6,0,1,2,3,4,5,6,0,1,2,3,4,5,6,0,1,2,3,4,5,6,0,1,2,3,4,5,6,0,1,2,3,4,5,6,0,1,2,3,4,5,6,0,1,2,3,4,5,6,0,1,2,3,4,5,6,0,1,2,3,4,5,6,0,1,2,3,4,5,6,0,1,2,3,4,5,6,0,1,2,3,4,5,6,0,1,2,3,4,5,6,0,1,2,3,4,5,6,0,1,2,3,4,5,6,0,1,2,3,4,5,6,0,1,2,3,4,5,6,0,1,2,3,4,5,6,0,1,2,3,4,5,6,0,1,2,3,4,5,6,0,1,2,3,4,5,6,0,1,2,3,4,5,6,0,1,2,3,4,5,6,0,1,2,3,4,5,6,0,1,2,3,4,5,6,0,1,2,3,4,5,6,0,1,2,3,4,5,6,0,1,2,3,4,5,6,0,1,2,3,4,5,6,0,1,2,3,4,5,6,0,1,2,3,4,5,6,0,1,2,3,4,5,6,0,1,2,3,4,5,6,0,1,2,3,4,5,6,0,1,2,3,4,5,6,0,1,2,3,4,5,6,0,1,2,3,4,5,6,0,1,2,3,4,5,6,0,1,2,3,4,5,6,0,1,2,3,4,5,6,0,1,2,3,4,5,6,0,1,2,3,4,5,6,0,1,2,3,4,5,6,0,1,2,3,4,5,6,0,1,2,3,4,5,6,0,1,2,3,4],\"ygap\":1,\"z\":[8.0,2.0,3.0,7.0,2.0,6.0,7.0,1.0,2.0,5.0,3.0,8.0,2.0,8.0,5.0,2.0,3.0,8.0,10.0,6.0,6.0,4.0,2.0,3.0,4.0,1.0,4.0,1.0,2.0,2.0,null,8.0,2.0,3.0,5.0,5.0,1.0,2.0,6.0,6.0,4.0,3.0,15.0,7.0,4.0,4.0,10.0,8.0,4.0,5.0,3.0,null,8.0,8.0,10.0,null,11.0,7.0,2.0,6.0,6.0,5.0,5.0,4.0,5.0,4.0,6.0,7.0,6.0,11.0,3.0,2.0,3.0,2.0,1.0,4.0,4.0,4.0,1.0,8.0,6.0,7.0,4.0,3.0,7.0,7.0,4.0,1.0,4.0,2.0,5.0,4.0,4.0,4.0,5.0,6.0,null,6.0,5.0,2.0,4.0,5.0,4.0,2.0,8.0,3.0,7.0,3.0,6.0,1.0,3.0,3.0,5.0,1.0,2.0,7.0,4.0,3.0,6.0,8.0,5.0,5.0,3.0,7.0,9.0,2.0,4.0,7.0,2.0,5.0,5.0,4.0,4.0,5.0,11.0,2.0,6.0,4.0,1.0,2.0,6.0,3.0,4.0,3.0,3.0,8.0,8.0,6.0,5.0,5.0,9.0,4.0,2.0,7.0,7.0,6.0,3.0,3.0,3.0,6.0,4.0,2.0,4.0,6.0,3.0,4.0,3.0,4.0,4.0,2.0,3.0,8.0,3.0,10.0,2.0,1.0,14.0,2.0,6.0,6.0,1.0,7.0,4.0,6.0,3.0,7.0,1.0,1.0,3.0,3.0,3.0,3.0,9.0,7.0,6.0,7.0,5.0,4.0,1.0,4.0,7.0,4.0,3.0,4.0,9.0,3.0,3.0,2.0,6.0,7.0,8.0,4.0,2.0,7.0,6.0,7.0,2.0,6.0,6.0,6.0,2.0,6.0,6.0,3.0,6.0,7.0,9.0,7.0,7.0,3.0,5.0,4.0,3.0,3.0,5.0,1.0,4.0,3.0,4.0,4.0,6.0,5.0,7.0,3.0,5.0,11.0,8.0,7.0,3.0,3.0,7.0,2.0,7.0,5.0,2.0,3.0,7.0,2.0,1.0,3.0,1.0,1.0,2.0,8.0,10.0,4.0,6.0,6.0,4.0,2.0,5.0,5.0,2.0,9.0,5.0,1.0,2.0,4.0,1.0,4.0,6.0,4.0,7.0,6.0,6.0,7.0,5.0,10.0,3.0,4.0,1.0,4.0,5.0,4.0,10.0,5.0,7.0,6.0,6.0,5.0,2.0,6.0,10.0,11.0,10.0,4.0,10.0,5.0,7.0,4.0,3.0,5.0,5.0,5.0,4.0,9.0,5.0,3.0,6.0,2.0,6.0,5.0,5.0,5.0,1.0,2.0,7.0,3.0,4.0,3.0,11.0,2.0,2.0,3.0,11.0,1.0,6.0,6.0,6.0,6.0,4.0,5.0,3.0,9.0,9.0,4.0,5.0,3.0,2.0,3.0,15.0,5.0,3.0,9.0,4.0,7.0,4.0,6.0,3.0,5.0,6.0,6.0,3.0,8.0,2.0],\"type\":\"heatmap\",\"xaxis\":\"x4\",\"yaxis\":\"y4\",\"zmax\":30,\"zmin\":1},{\"hoverinfo\":\"skip\",\"line\":{\"color\":\"#9e9e9e\",\"width\":1},\"mode\":\"lines\",\"x\":[-0.5,-0.5],\"y\":[3.5,6.5],\"type\":\"scatter\",\"xaxis\":\"x4\",\"yaxis\":\"y4\"},{\"hoverinfo\":\"skip\",\"line\":{\"color\":\"#9e9e9e\",\"width\":1},\"mode\":\"lines\",\"x\":[-0.5,0.5],\"y\":[3.5,3.5],\"type\":\"scatter\",\"xaxis\":\"x4\",\"yaxis\":\"y4\"},{\"hoverinfo\":\"skip\",\"line\":{\"color\":\"#9e9e9e\",\"width\":1},\"mode\":\"lines\",\"x\":[0.5,0.5],\"y\":[3.5,-0.5],\"type\":\"scatter\",\"xaxis\":\"x4\",\"yaxis\":\"y4\"},{\"hoverinfo\":\"skip\",\"line\":{\"color\":\"#9e9e9e\",\"width\":1},\"mode\":\"lines\",\"x\":[4.5,4.5],\"y\":[-0.5,6.5],\"type\":\"scatter\",\"xaxis\":\"x4\",\"yaxis\":\"y4\"},{\"hoverinfo\":\"skip\",\"line\":{\"color\":\"#9e9e9e\",\"width\":1},\"mode\":\"lines\",\"x\":[8.5,8.5],\"y\":[-0.5,6.5],\"type\":\"scatter\",\"xaxis\":\"x4\",\"yaxis\":\"y4\"},{\"hoverinfo\":\"skip\",\"line\":{\"color\":\"#9e9e9e\",\"width\":1},\"mode\":\"lines\",\"x\":[12.5,12.5],\"y\":[2.5,6.5],\"type\":\"scatter\",\"xaxis\":\"x4\",\"yaxis\":\"y4\"},{\"hoverinfo\":\"skip\",\"line\":{\"color\":\"#9e9e9e\",\"width\":1},\"mode\":\"lines\",\"x\":[12.5,13.5],\"y\":[2.5,2.5],\"type\":\"scatter\",\"xaxis\":\"x4\",\"yaxis\":\"y4\"},{\"hoverinfo\":\"skip\",\"line\":{\"color\":\"#9e9e9e\",\"width\":1},\"mode\":\"lines\",\"x\":[13.5,13.5],\"y\":[2.5,-0.5],\"type\":\"scatter\",\"xaxis\":\"x4\",\"yaxis\":\"y4\"},{\"hoverinfo\":\"skip\",\"line\":{\"color\":\"#9e9e9e\",\"width\":1},\"mode\":\"lines\",\"x\":[16.5,16.5],\"y\":[4.5,6.5],\"type\":\"scatter\",\"xaxis\":\"x4\",\"yaxis\":\"y4\"},{\"hoverinfo\":\"skip\",\"line\":{\"color\":\"#9e9e9e\",\"width\":1},\"mode\":\"lines\",\"x\":[16.5,17.5],\"y\":[4.5,4.5],\"type\":\"scatter\",\"xaxis\":\"x4\",\"yaxis\":\"y4\"},{\"hoverinfo\":\"skip\",\"line\":{\"color\":\"#9e9e9e\",\"width\":1},\"mode\":\"lines\",\"x\":[17.5,17.5],\"y\":[4.5,-0.5],\"type\":\"scatter\",\"xaxis\":\"x4\",\"yaxis\":\"y4\"},{\"hoverinfo\":\"skip\",\"line\":{\"color\":\"#9e9e9e\",\"width\":1},\"mode\":\"lines\",\"x\":[21.5,21.5],\"y\":[0.5,6.5],\"type\":\"scatter\",\"xaxis\":\"x4\",\"yaxis\":\"y4\"},{\"hoverinfo\":\"skip\",\"line\":{\"color\":\"#9e9e9e\",\"width\":1},\"mode\":\"lines\",\"x\":[21.5,22.5],\"y\":[0.5,0.5],\"type\":\"scatter\",\"xaxis\":\"x4\",\"yaxis\":\"y4\"},{\"hoverinfo\":\"skip\",\"line\":{\"color\":\"#9e9e9e\",\"width\":1},\"mode\":\"lines\",\"x\":[22.5,22.5],\"y\":[0.5,-0.5],\"type\":\"scatter\",\"xaxis\":\"x4\",\"yaxis\":\"y4\"},{\"hoverinfo\":\"skip\",\"line\":{\"color\":\"#9e9e9e\",\"width\":1},\"mode\":\"lines\",\"x\":[25.5,25.5],\"y\":[2.5,6.5],\"type\":\"scatter\",\"xaxis\":\"x4\",\"yaxis\":\"y4\"},{\"hoverinfo\":\"skip\",\"line\":{\"color\":\"#9e9e9e\",\"width\":1},\"mode\":\"lines\",\"x\":[25.5,26.5],\"y\":[2.5,2.5],\"type\":\"scatter\",\"xaxis\":\"x4\",\"yaxis\":\"y4\"},{\"hoverinfo\":\"skip\",\"line\":{\"color\":\"#9e9e9e\",\"width\":1},\"mode\":\"lines\",\"x\":[26.5,26.5],\"y\":[2.5,-0.5],\"type\":\"scatter\",\"xaxis\":\"x4\",\"yaxis\":\"y4\"},{\"hoverinfo\":\"skip\",\"line\":{\"color\":\"#9e9e9e\",\"width\":1},\"mode\":\"lines\",\"x\":[29.5,29.5],\"y\":[5.5,6.5],\"type\":\"scatter\",\"xaxis\":\"x4\",\"yaxis\":\"y4\"},{\"hoverinfo\":\"skip\",\"line\":{\"color\":\"#9e9e9e\",\"width\":1},\"mode\":\"lines\",\"x\":[29.5,30.5],\"y\":[5.5,5.5],\"type\":\"scatter\",\"xaxis\":\"x4\",\"yaxis\":\"y4\"},{\"hoverinfo\":\"skip\",\"line\":{\"color\":\"#9e9e9e\",\"width\":1},\"mode\":\"lines\",\"x\":[30.5,30.5],\"y\":[5.5,-0.5],\"type\":\"scatter\",\"xaxis\":\"x4\",\"yaxis\":\"y4\"},{\"hoverinfo\":\"skip\",\"line\":{\"color\":\"#9e9e9e\",\"width\":1},\"mode\":\"lines\",\"x\":[34.5,34.5],\"y\":[1.5,6.5],\"type\":\"scatter\",\"xaxis\":\"x4\",\"yaxis\":\"y4\"},{\"hoverinfo\":\"skip\",\"line\":{\"color\":\"#9e9e9e\",\"width\":1},\"mode\":\"lines\",\"x\":[34.5,35.5],\"y\":[1.5,1.5],\"type\":\"scatter\",\"xaxis\":\"x4\",\"yaxis\":\"y4\"},{\"hoverinfo\":\"skip\",\"line\":{\"color\":\"#9e9e9e\",\"width\":1},\"mode\":\"lines\",\"x\":[35.5,35.5],\"y\":[1.5,-0.5],\"type\":\"scatter\",\"xaxis\":\"x4\",\"yaxis\":\"y4\"},{\"hoverinfo\":\"skip\",\"line\":{\"color\":\"#9e9e9e\",\"width\":1},\"mode\":\"lines\",\"x\":[38.5,38.5],\"y\":[3.5,6.5],\"type\":\"scatter\",\"xaxis\":\"x4\",\"yaxis\":\"y4\"},{\"hoverinfo\":\"skip\",\"line\":{\"color\":\"#9e9e9e\",\"width\":1},\"mode\":\"lines\",\"x\":[38.5,39.5],\"y\":[3.5,3.5],\"type\":\"scatter\",\"xaxis\":\"x4\",\"yaxis\":\"y4\"},{\"hoverinfo\":\"skip\",\"line\":{\"color\":\"#9e9e9e\",\"width\":1},\"mode\":\"lines\",\"x\":[39.5,39.5],\"y\":[3.5,-0.5],\"type\":\"scatter\",\"xaxis\":\"x4\",\"yaxis\":\"y4\"},{\"hoverinfo\":\"skip\",\"line\":{\"color\":\"#9e9e9e\",\"width\":1},\"mode\":\"lines\",\"x\":[43.5,43.5],\"y\":[-0.5,6.5],\"type\":\"scatter\",\"xaxis\":\"x4\",\"yaxis\":\"y4\"},{\"hoverinfo\":\"skip\",\"line\":{\"color\":\"#9e9e9e\",\"width\":1},\"mode\":\"lines\",\"x\":[47.5,47.5],\"y\":[1.5,6.5],\"type\":\"scatter\",\"xaxis\":\"x4\",\"yaxis\":\"y4\"},{\"hoverinfo\":\"skip\",\"line\":{\"color\":\"#9e9e9e\",\"width\":1},\"mode\":\"lines\",\"x\":[47.5,48.5],\"y\":[1.5,1.5],\"type\":\"scatter\",\"xaxis\":\"x4\",\"yaxis\":\"y4\"},{\"hoverinfo\":\"skip\",\"line\":{\"color\":\"#9e9e9e\",\"width\":1},\"mode\":\"lines\",\"x\":[48.5,48.5],\"y\":[1.5,-0.5],\"type\":\"scatter\",\"xaxis\":\"x4\",\"yaxis\":\"y4\"},{\"colorscale\":[[0.0,\"rgb(247,252,245)\"],[0.125,\"rgb(229,245,224)\"],[0.25,\"rgb(199,233,192)\"],[0.375,\"rgb(161,217,155)\"],[0.5,\"rgb(116,196,118)\"],[0.625,\"rgb(65,171,93)\"],[0.75,\"rgb(35,139,69)\"],[0.875,\"rgb(0,109,44)\"],[1.0,\"rgb(0,68,27)\"]],\"customdata\":[[\"2022-01-01\",\"y\"],[\"2022-01-02\",\"y\"],[\"2022-01-03\",\"y\"],[\"2022-01-04\",\"y\"],[\"2022-01-05\",\"y\"],[\"2022-01-06\",\"y\"],[\"2022-01-07\",\"y\"],[\"2022-01-08\",\"y\"],[\"2022-01-09\",\"y\"],[\"2022-01-10\",\"y\"],[\"2022-01-11\",\"y\"],[\"2022-01-12\",\"y\"],[\"2022-01-13\",\"y\"],[\"2022-01-14\",\"y\"],[\"2022-01-15\",\"y\"],[\"2022-01-16\",\"y\"],[\"2022-01-17\",\"y\"],[\"2022-01-18\",\"y\"],[\"2022-01-19\",\"y\"],[\"2022-01-20\",\"y\"],[\"2022-01-21\",\"y\"],[\"2022-01-22\",\"y\"],[\"2022-01-23\",\"y\"],[\"2022-01-24\",\"y\"],[\"2022-01-25\",\"y\"],[\"2022-01-26\",\"y\"],[\"2022-01-27\",\"y\"],[\"2022-01-28\",\"y\"],[\"2022-01-29\",\"y\"],[\"2022-01-30\",\"y\"],[\"2022-01-31\",\"y\"],[\"2022-02-01\",\"y\"],[\"2022-02-02\",\"y\"],[\"2022-02-03\",\"y\"],[\"2022-02-04\",\"y\"],[\"2022-02-05\",\"y\"],[\"2022-02-06\",\"y\"],[\"2022-02-07\",\"y\"],[\"2022-02-08\",\"y\"],[\"2022-02-09\",\"y\"],[\"2022-02-10\",\"y\"],[\"2022-02-11\",\"y\"],[\"2022-02-12\",\"y\"],[\"2022-02-13\",\"y\"],[\"2022-02-14\",\"y\"],[\"2022-02-15\",\"y\"],[\"2022-02-16\",\"y\"],[\"2022-02-17\",\"y\"],[\"2022-02-18\",\"y\"],[\"2022-02-19\",\"y\"],[\"2022-02-20\",\"y\"],[\"2022-02-21\",\"y\"],[\"2022-02-22\",\"y\"],[\"2022-02-23\",\"y\"],[\"2022-02-24\",\"y\"],[\"2022-02-25\",\"y\"],[\"2022-02-26\",\"y\"],[\"2022-02-27\",\"y\"],[\"2022-02-28\",\"y\"],[\"2022-03-01\",\"y\"],[\"2022-03-02\",\"y\"],[\"2022-03-03\",\"y\"],[\"2022-03-04\",\"y\"],[\"2022-03-05\",\"y\"],[\"2022-03-06\",\"y\"],[\"2022-03-07\",\"y\"],[\"2022-03-08\",\"y\"],[\"2022-03-09\",\"y\"],[\"2022-03-10\",\"y\"],[\"2022-03-11\",\"y\"],[\"2022-03-12\",\"y\"],[\"2022-03-13\",\"y\"],[\"2022-03-14\",\"y\"],[\"2022-03-15\",\"y\"],[\"2022-03-16\",\"y\"],[\"2022-03-17\",\"y\"],[\"2022-03-18\",\"y\"],[\"2022-03-19\",\"y\"],[\"2022-03-20\",\"y\"],[\"2022-03-21\",\"y\"],[\"2022-03-22\",\"y\"],[\"2022-03-23\",\"y\"],[\"2022-03-24\",\"y\"],[\"2022-03-25\",\"y\"],[\"2022-03-26\",\"y\"],[\"2022-03-27\",\"y\"],[\"2022-03-28\",\"y\"],[\"2022-03-29\",\"y\"],[\"2022-03-30\",\"y\"],[\"2022-03-31\",\"y\"],[\"2022-04-01\",\"y\"],[\"2022-04-02\",\"y\"],[\"2022-04-03\",\"y\"],[\"2022-04-04\",\"y\"],[\"2022-04-05\",\"y\"],[\"2022-04-06\",\"y\"],[\"2022-04-07\",\"y\"],[\"2022-04-08\",\"y\"],[\"2022-04-09\",\"y\"],[\"2022-04-10\",\"y\"],[\"2022-04-11\",\"y\"],[\"2022-04-12\",\"y\"],[\"2022-04-13\",\"y\"],[\"2022-04-14\",\"y\"],[\"2022-04-15\",\"y\"],[\"2022-04-16\",\"y\"],[\"2022-04-17\",\"y\"],[\"2022-04-18\",\"y\"],[\"2022-04-19\",\"y\"],[\"2022-04-20\",\"y\"],[\"2022-04-21\",\"y\"],[\"2022-04-22\",\"y\"],[\"2022-04-23\",\"y\"],[\"2022-04-24\",\"y\"],[\"2022-04-25\",\"y\"],[\"2022-04-26\",\"y\"],[\"2022-04-27\",\"y\"],[\"2022-04-28\",\"y\"],[\"2022-04-29\",\"y\"],[\"2022-04-30\",\"y\"],[\"2022-05-01\",\"y\"],[\"2022-05-02\",\"y\"],[\"2022-05-03\",\"y\"],[\"2022-05-04\",\"y\"],[\"2022-05-05\",\"y\"],[\"2022-05-06\",\"y\"],[\"2022-05-07\",\"y\"],[\"2022-05-08\",\"y\"],[\"2022-05-09\",\"y\"],[\"2022-05-10\",\"y\"],[\"2022-05-11\",\"y\"],[\"2022-05-12\",\"y\"],[\"2022-05-13\",\"y\"],[\"2022-05-14\",\"y\"],[\"2022-05-15\",\"y\"],[\"2022-05-16\",\"y\"],[\"2022-05-17\",\"y\"],[\"2022-05-18\",\"y\"],[\"2022-05-19\",\"y\"],[\"2022-05-20\",\"y\"],[\"2022-05-21\",\"y\"],[\"2022-05-22\",\"y\"],[\"2022-05-23\",\"y\"],[\"2022-05-24\",\"y\"],[\"2022-05-25\",\"y\"],[\"2022-05-26\",\"y\"],[\"2022-05-27\",\"y\"],[\"2022-05-28\",\"y\"],[\"2022-05-29\",\"y\"],[\"2022-05-30\",\"y\"],[\"2022-05-31\",\"y\"],[\"2022-06-01\",\"y\"],[\"2022-06-02\",\"y\"],[\"2022-06-03\",\"y\"],[\"2022-06-04\",\"y\"],[\"2022-06-05\",\"y\"],[\"2022-06-06\",\"y\"],[\"2022-06-07\",\"y\"],[\"2022-06-08\",\"y\"],[\"2022-06-09\",\"y\"],[\"2022-06-10\",\"y\"],[\"2022-06-11\",\"y\"],[\"2022-06-12\",\"y\"],[\"2022-06-13\",\"y\"],[\"2022-06-14\",\"y\"],[\"2022-06-15\",\"y\"],[\"2022-06-16\",\"y\"],[\"2022-06-17\",\"y\"],[\"2022-06-18\",\"y\"],[\"2022-06-19\",\"y\"],[\"2022-06-20\",\"y\"],[\"2022-06-21\",\"y\"],[\"2022-06-22\",\"y\"],[\"2022-06-23\",\"y\"],[\"2022-06-24\",\"y\"],[\"2022-06-25\",\"y\"],[\"2022-06-26\",\"y\"],[\"2022-06-27\",\"y\"],[\"2022-06-28\",\"y\"],[\"2022-06-29\",\"y\"],[\"2022-06-30\",\"y\"],[\"2022-07-01\",\"y\"],[\"2022-07-02\",\"y\"],[\"2022-07-03\",\"y\"],[\"2022-07-04\",\"y\"],[\"2022-07-05\",\"y\"],[\"2022-07-06\",\"y\"],[\"2022-07-07\",\"y\"],[\"2022-07-08\",\"y\"],[\"2022-07-09\",\"y\"],[\"2022-07-10\",\"y\"],[\"2022-07-11\",\"y\"],[\"2022-07-12\",\"y\"],[\"2022-07-13\",\"y\"],[\"2022-07-14\",\"y\"],[\"2022-07-15\",\"y\"],[\"2022-07-16\",\"y\"],[\"2022-07-17\",\"y\"],[\"2022-07-18\",\"y\"],[\"2022-07-19\",\"y\"],[\"2022-07-20\",\"y\"],[\"2022-07-21\",\"y\"],[\"2022-07-22\",\"y\"],[\"2022-07-23\",\"y\"],[\"2022-07-24\",\"y\"],[\"2022-07-25\",\"y\"],[\"2022-07-26\",\"y\"],[\"2022-07-27\",\"y\"],[\"2022-07-28\",\"y\"],[\"2022-07-29\",\"y\"],[\"2022-07-30\",\"y\"],[\"2022-07-31\",\"y\"],[\"2022-08-01\",\"y\"],[\"2022-08-02\",\"y\"],[\"2022-08-03\",\"y\"],[\"2022-08-04\",\"y\"],[\"2022-08-05\",\"y\"],[\"2022-08-06\",\"y\"],[\"2022-08-07\",\"y\"],[\"2022-08-08\",\"y\"],[\"2022-08-09\",\"y\"],[\"2022-08-10\",\"y\"],[\"2022-08-11\",\"y\"],[\"2022-08-12\",\"y\"],[\"2022-08-13\",\"y\"],[\"2022-08-14\",\"y\"],[\"2022-08-15\",\"y\"],[\"2022-08-16\",\"y\"],[\"2022-08-17\",\"y\"],[\"2022-08-18\",\"y\"],[\"2022-08-19\",\"y\"],[\"2022-08-20\",\"y\"],[\"2022-08-21\",\"y\"],[\"2022-08-22\",\"y\"],[\"2022-08-23\",\"y\"],[\"2022-08-24\",\"y\"],[\"2022-08-25\",\"y\"],[\"2022-08-26\",\"y\"],[\"2022-08-27\",\"y\"],[\"2022-08-28\",\"y\"],[\"2022-08-29\",\"y\"],[\"2022-08-30\",\"y\"],[\"2022-08-31\",\"y\"],[\"2022-09-01\",\"y\"],[\"2022-09-02\",\"y\"],[\"2022-09-03\",\"y\"],[\"2022-09-04\",\"y\"],[\"2022-09-05\",\"y\"],[\"2022-09-06\",\"y\"],[\"2022-09-07\",\"y\"],[\"2022-09-08\",\"y\"],[\"2022-09-09\",\"y\"],[\"2022-09-10\",\"y\"],[\"2022-09-11\",\"y\"],[\"2022-09-12\",\"y\"],[\"2022-09-13\",\"y\"],[\"2022-09-14\",\"y\"],[\"2022-09-15\",\"y\"],[\"2022-09-16\",\"y\"],[\"2022-09-17\",\"y\"],[\"2022-09-18\",\"y\"],[\"2022-09-19\",\"y\"],[\"2022-09-20\",\"y\"],[\"2022-09-21\",\"y\"],[\"2022-09-22\",\"y\"],[\"2022-09-23\",\"y\"],[\"2022-09-24\",\"y\"],[\"2022-09-25\",\"y\"],[\"2022-09-26\",\"y\"],[\"2022-09-27\",\"y\"],[\"2022-09-28\",\"y\"],[\"2022-09-29\",\"y\"],[\"2022-09-30\",\"y\"],[\"2022-10-01\",\"y\"],[\"2022-10-02\",\"y\"],[\"2022-10-03\",\"y\"],[\"2022-10-04\",\"y\"],[\"2022-10-05\",\"y\"],[\"2022-10-06\",\"y\"],[\"2022-10-07\",\"y\"],[\"2022-10-08\",\"y\"],[\"2022-10-09\",\"y\"],[\"2022-10-10\",\"y\"],[\"2022-10-11\",\"y\"],[\"2022-10-12\",\"y\"],[\"2022-10-13\",\"y\"],[\"2022-10-14\",\"y\"],[\"2022-10-15\",\"y\"],[\"2022-10-16\",\"y\"],[\"2022-10-17\",\"y\"],[\"2022-10-18\",\"y\"],[\"2022-10-19\",\"y\"],[\"2022-10-20\",\"y\"],[\"2022-10-21\",\"y\"],[\"2022-10-22\",\"y\"],[\"2022-10-23\",\"y\"],[\"2022-10-24\",\"y\"],[\"2022-10-25\",\"y\"],[\"2022-10-26\",\"y\"],[\"2022-10-27\",\"y\"],[\"2022-10-28\",\"y\"],[\"2022-10-29\",\"y\"],[\"2022-10-30\",\"y\"],[\"2022-10-31\",\"y\"],[\"2022-11-01\",\"y\"],[\"2022-11-02\",\"y\"],[\"2022-11-03\",\"y\"],[\"2022-11-04\",\"y\"],[\"2022-11-05\",\"y\"],[\"2022-11-06\",\"y\"],[\"2022-11-07\",\"y\"],[\"2022-11-08\",\"y\"],[\"2022-11-09\",\"y\"],[\"2022-11-10\",\"y\"],[\"2022-11-11\",\"y\"],[\"2022-11-12\",\"y\"],[\"2022-11-13\",\"y\"],[\"2022-11-14\",\"y\"],[\"2022-11-15\",\"y\"],[\"2022-11-16\",\"y\"],[\"2022-11-17\",\"y\"],[\"2022-11-18\",\"y\"],[\"2022-11-19\",\"y\"],[\"2022-11-20\",\"y\"],[\"2022-11-21\",\"y\"],[\"2022-11-22\",\"y\"],[\"2022-11-23\",\"y\"],[\"2022-11-24\",\"y\"],[\"2022-11-25\",\"y\"],[\"2022-11-26\",\"y\"],[\"2022-11-27\",\"y\"],[\"2022-11-28\",\"y\"],[\"2022-11-29\",\"y\"],[\"2022-11-30\",\"y\"],[\"2022-12-01\",\"y\"],[\"2022-12-02\",\"y\"],[\"2022-12-03\",\"y\"],[\"2022-12-04\",\"y\"],[\"2022-12-05\",\"y\"],[\"2022-12-06\",\"y\"],[\"2022-12-07\",\"y\"],[\"2022-12-08\",\"y\"],[\"2022-12-09\",\"y\"],[\"2022-12-10\",\"y\"],[\"2022-12-11\",\"y\"],[\"2022-12-12\",\"y\"],[\"2022-12-13\",\"y\"],[\"2022-12-14\",\"y\"],[\"2022-12-15\",\"y\"],[\"2022-12-16\",\"y\"],[\"2022-12-17\",\"y\"],[\"2022-12-18\",\"y\"],[\"2022-12-19\",\"y\"],[\"2022-12-20\",\"y\"],[\"2022-12-21\",\"y\"],[\"2022-12-22\",\"y\"],[\"2022-12-23\",\"y\"],[\"2022-12-24\",\"y\"],[\"2022-12-25\",\"y\"],[\"2022-12-26\",\"y\"],[\"2022-12-27\",\"y\"],[\"2022-12-28\",\"y\"],[\"2022-12-29\",\"y\"],[\"2022-12-30\",\"y\"],[\"2022-12-31\",\"y\"]],\"hovertemplate\":\"%{customdata[0]} \\u003cbr\\u003eWeek=%{x} \\u003cbr\\u003e%{customdata[1]}=%{z}\",\"name\":\"2022\",\"showscale\":false,\"x\":[0,0,1,1,1,1,1,1,1,2,2,2,2,2,2,2,3,3,3,3,3,3,3,4,4,4,4,4,4,4,5,5,5,5,5,5,5,6,6,6,6,6,6,6,7,7,7,7,7,7,7,8,8,8,8,8,8,8,9,9,9,9,9,9,9,10,10,10,10,10,10,10,11,11,11,11,11,11,11,12,12,12,12,12,12,12,13,13,13,13,13,13,13,14,14,14,14,14,14,14,15,15,15,15,15,15,15,16,16,16,16,16,16,16,17,17,17,17,17,17,17,18,18,18,18,18,18,18,19,19,19,19,19,19,19,20,20,20,20,20,20,20,21,21,21,21,21,21,21,22,22,22,22,22,22,22,23,23,23,23,23,23,23,24,24,24,24,24,24,24,25,25,25,25,25,25,25,26,26,26,26,26,26,26,27,27,27,27,27,27,27,28,28,28,28,28,28,28,29,29,29,29,29,29,29,30,30,30,30,30,30,30,31,31,31,31,31,31,31,32,32,32,32,32,32,32,33,33,33,33,33,33,33,34,34,34,34,34,34,34,35,35,35,35,35,35,35,36,36,36,36,36,36,36,37,37,37,37,37,37,37,38,38,38,38,38,38,38,39,39,39,39,39,39,39,40,40,40,40,40,40,40,41,41,41,41,41,41,41,42,42,42,42,42,42,42,43,43,43,43,43,43,43,44,44,44,44,44,44,44,45,45,45,45,45,45,45,46,46,46,46,46,46,46,47,47,47,47,47,47,47,48,48,48,48,48,48,48,49,49,49,49,49,49,49,50,50,50,50,50,50,50,51,51,51,51,51,51,51,52,52,52,52,52,52],\"xgap\":1,\"y\":[5,6,0,1,2,3,4,5,6,0,1,2,3,4,5,6,0,1,2,3,4,5,6,0,1,2,3,4,5,6,0,1,2,3,4,5,6,0,1,2,3,4,5,6,0,1,2,3,4,5,6,0,1,2,3,4,5,6,0,1,2,3,4,5,6,0,1,2,3,4,5,6,0,1,2,3,4,5,6,0,1,2,3,4,5,6,0,1,2,3,4,5,6,0,1,2,3,4,5,6,0,1,2,3,4,5,6,0,1,2,3,4,5,6,0,1,2,3,4,5,6,0,1,2,3,4,5,6,0,1,2,3,4,5,6,0,1,2,3,4,5,6,0,1,2,3,4,5,6,0,1,2,3,4,5,6,0,1,2,3,4,5,6,0,1,2,3,4,5,6,0,1,2,3,4,5,6,0,1,2,3,4,5,6,0,1,2,3,4,5,6,0,1,2,3,4,5,6,0,1,2,3,4,5,6,0,1,2,3,4,5,6,0,1,2,3,4,5,6,0,1,2,3,4,5,6,0,1,2,3,4,5,6,0,1,2,3,4,5,6,0,1,2,3,4,5,6,0,1,2,3,4,5,6,0,1,2,3,4,5,6,0,1,2,3,4,5,6,0,1,2,3,4,5,6,0,1,2,3,4,5,6,0,1,2,3,4,5,6,0,1,2,3,4,5,6,0,1,2,3,4,5,6,0,1,2,3,4,5,6,0,1,2,3,4,5,6,0,1,2,3,4,5,6,0,1,2,3,4,5,6,0,1,2,3,4,5,6,0,1,2,3,4,5,6,0,1,2,3,4,5,6,0,1,2,3,4,5,6,0,1,2,3,4,5],\"ygap\":1,\"z\":[3.0,6.0,10.0,2.0,6.0,3.0,4.0,2.0,3.0,6.0,5.0,3.0,4.0,8.0,8.0,3.0,5.0,3.0,1.0,3.0,4.0,4.0,8.0,8.0,7.0,5.0,5.0,3.0,6.0,3.0,5.0,7.0,7.0,3.0,6.0,2.0,5.0,4.0,3.0,4.0,4.0,12.0,5.0,4.0,5.0,3.0,4.0,5.0,7.0,8.0,5.0,1.0,3.0,7.0,6.0,6.0,3.0,6.0,5.0,4.0,3.0,2.0,4.0,4.0,2.0,3.0,15.0,5.0,4.0,4.0,7.0,8.0,5.0,4.0,3.0,4.0,5.0,8.0,3.0,5.0,3.0,3.0,3.0,5.0,12.0,7.0,6.0,7.0,7.0,4.0,4.0,5.0,3.0,4.0,6.0,6.0,5.0,7.0,1.0,4.0,6.0,3.0,3.0,5.0,1.0,8.0,2.0,4.0,7.0,3.0,5.0,13.0,9.0,2.0,5.0,3.0,7.0,6.0,4.0,8.0,3.0,3.0,7.0,4.0,8.0,3.0,3.0,4.0,5.0,3.0,7.0,6.0,6.0,14.0,6.0,2.0,7.0,5.0,3.0,7.0,5.0,3.0,3.0,5.0,null,5.0,2.0,7.0,7.0,8.0,4.0,6.0,1.0,4.0,5.0,null,7.0,4.0,7.0,null,5.0,6.0,8.0,5.0,3.0,9.0,7.0,4.0,5.0,7.0,3.0,7.0,5.0,7.0,6.0,30.0,3.0,4.0,4.0,5.0,1.0,8.0,7.0,4.0,null,3.0,8.0,5.0,6.0,6.0,7.0,7.0,9.0,9.0,3.0,11.0,12.0,15.0,4.0,2.0,3.0,6.0,6.0,10.0,2.0,4.0,1.0,6.0,6.0,5.0,4.0,9.0,3.0,5.0,7.0,1.0,11.0,7.0,4.0,2.0,6.0,3.0,8.0,9.0,4.0,6.0,9.0,4.0,7.0,1.0,4.0,8.0,8.0,4.0,6.0,3.0,6.0,6.0,3.0,7.0,6.0,2.0,2.0,null,2.0,null,null,null,null,null,null,null,null,null,1.0,null,null,1.0,null,null,null,null,null,null,null,null,3.0,null,1.0,null,1.0,null,8.0,9.0,7.0,null,9.0,3.0,3.0,7.0,10.0,9.0,6.0,3.0,4.0,5.0,4.0,8.0,4.0,5.0,6.0,6.0,4.0,9.0,10.0,2.0,5.0,7.0,5.0,4.0,17.0,15.0,2.0,7.0,6.0,6.0,5.0,9.0,9.0,4.0,5.0,3.0,1.0,10.0,4.0,7.0,8.0,7.0,10.0,9.0,5.0,9.0,2.0,5.0,4.0,7.0,7.0,3.0,5.0,5.0,4.0,8.0,5.0,5.0,6.0,6.0,5.0,3.0,11.0,9.0,4.0,4.0,3.0,11.0,6.0,2.0,2.0,9.0,7.0,17.0,5.0,7.0,4.0,5.0,5.0,5.0,4.0,3.0,null,2.0,4.0,11.0,3.0,5.0,3.0],\"type\":\"heatmap\",\"xaxis\":\"x5\",\"yaxis\":\"y5\",\"zmax\":30,\"zmin\":1},{\"hoverinfo\":\"skip\",\"line\":{\"color\":\"#9e9e9e\",\"width\":1},\"mode\":\"lines\",\"x\":[-0.5,-0.5],\"y\":[4.5,6.5],\"type\":\"scatter\",\"xaxis\":\"x5\",\"yaxis\":\"y5\"},{\"hoverinfo\":\"skip\",\"line\":{\"color\":\"#9e9e9e\",\"width\":1},\"mode\":\"lines\",\"x\":[-0.5,0.5],\"y\":[4.5,4.5],\"type\":\"scatter\",\"xaxis\":\"x5\",\"yaxis\":\"y5\"},{\"hoverinfo\":\"skip\",\"line\":{\"color\":\"#9e9e9e\",\"width\":1},\"mode\":\"lines\",\"x\":[0.5,0.5],\"y\":[4.5,-0.5],\"type\":\"scatter\",\"xaxis\":\"x5\",\"yaxis\":\"y5\"},{\"hoverinfo\":\"skip\",\"line\":{\"color\":\"#9e9e9e\",\"width\":1},\"mode\":\"lines\",\"x\":[4.5,4.5],\"y\":[0.5,6.5],\"type\":\"scatter\",\"xaxis\":\"x5\",\"yaxis\":\"y5\"},{\"hoverinfo\":\"skip\",\"line\":{\"color\":\"#9e9e9e\",\"width\":1},\"mode\":\"lines\",\"x\":[4.5,5.5],\"y\":[0.5,0.5],\"type\":\"scatter\",\"xaxis\":\"x5\",\"yaxis\":\"y5\"},{\"hoverinfo\":\"skip\",\"line\":{\"color\":\"#9e9e9e\",\"width\":1},\"mode\":\"lines\",\"x\":[5.5,5.5],\"y\":[0.5,-0.5],\"type\":\"scatter\",\"xaxis\":\"x5\",\"yaxis\":\"y5\"},{\"hoverinfo\":\"skip\",\"line\":{\"color\":\"#9e9e9e\",\"width\":1},\"mode\":\"lines\",\"x\":[8.5,8.5],\"y\":[0.5,6.5],\"type\":\"scatter\",\"xaxis\":\"x5\",\"yaxis\":\"y5\"},{\"hoverinfo\":\"skip\",\"line\":{\"color\":\"#9e9e9e\",\"width\":1},\"mode\":\"lines\",\"x\":[8.5,9.5],\"y\":[0.5,0.5],\"type\":\"scatter\",\"xaxis\":\"x5\",\"yaxis\":\"y5\"},{\"hoverinfo\":\"skip\",\"line\":{\"color\":\"#9e9e9e\",\"width\":1},\"mode\":\"lines\",\"x\":[9.5,9.5],\"y\":[0.5,-0.5],\"type\":\"scatter\",\"xaxis\":\"x5\",\"yaxis\":\"y5\"},{\"hoverinfo\":\"skip\",\"line\":{\"color\":\"#9e9e9e\",\"width\":1},\"mode\":\"lines\",\"x\":[12.5,12.5],\"y\":[3.5,6.5],\"type\":\"scatter\",\"xaxis\":\"x5\",\"yaxis\":\"y5\"},{\"hoverinfo\":\"skip\",\"line\":{\"color\":\"#9e9e9e\",\"width\":1},\"mode\":\"lines\",\"x\":[12.5,13.5],\"y\":[3.5,3.5],\"type\":\"scatter\",\"xaxis\":\"x5\",\"yaxis\":\"y5\"},{\"hoverinfo\":\"skip\",\"line\":{\"color\":\"#9e9e9e\",\"width\":1},\"mode\":\"lines\",\"x\":[13.5,13.5],\"y\":[3.5,-0.5],\"type\":\"scatter\",\"xaxis\":\"x5\",\"yaxis\":\"y5\"},{\"hoverinfo\":\"skip\",\"line\":{\"color\":\"#9e9e9e\",\"width\":1},\"mode\":\"lines\",\"x\":[16.5,16.5],\"y\":[5.5,6.5],\"type\":\"scatter\",\"xaxis\":\"x5\",\"yaxis\":\"y5\"},{\"hoverinfo\":\"skip\",\"line\":{\"color\":\"#9e9e9e\",\"width\":1},\"mode\":\"lines\",\"x\":[16.5,17.5],\"y\":[5.5,5.5],\"type\":\"scatter\",\"xaxis\":\"x5\",\"yaxis\":\"y5\"},{\"hoverinfo\":\"skip\",\"line\":{\"color\":\"#9e9e9e\",\"width\":1},\"mode\":\"lines\",\"x\":[17.5,17.5],\"y\":[5.5,-0.5],\"type\":\"scatter\",\"xaxis\":\"x5\",\"yaxis\":\"y5\"},{\"hoverinfo\":\"skip\",\"line\":{\"color\":\"#9e9e9e\",\"width\":1},\"mode\":\"lines\",\"x\":[21.5,21.5],\"y\":[1.5,6.5],\"type\":\"scatter\",\"xaxis\":\"x5\",\"yaxis\":\"y5\"},{\"hoverinfo\":\"skip\",\"line\":{\"color\":\"#9e9e9e\",\"width\":1},\"mode\":\"lines\",\"x\":[21.5,22.5],\"y\":[1.5,1.5],\"type\":\"scatter\",\"xaxis\":\"x5\",\"yaxis\":\"y5\"},{\"hoverinfo\":\"skip\",\"line\":{\"color\":\"#9e9e9e\",\"width\":1},\"mode\":\"lines\",\"x\":[22.5,22.5],\"y\":[1.5,-0.5],\"type\":\"scatter\",\"xaxis\":\"x5\",\"yaxis\":\"y5\"},{\"hoverinfo\":\"skip\",\"line\":{\"color\":\"#9e9e9e\",\"width\":1},\"mode\":\"lines\",\"x\":[25.5,25.5],\"y\":[3.5,6.5],\"type\":\"scatter\",\"xaxis\":\"x5\",\"yaxis\":\"y5\"},{\"hoverinfo\":\"skip\",\"line\":{\"color\":\"#9e9e9e\",\"width\":1},\"mode\":\"lines\",\"x\":[25.5,26.5],\"y\":[3.5,3.5],\"type\":\"scatter\",\"xaxis\":\"x5\",\"yaxis\":\"y5\"},{\"hoverinfo\":\"skip\",\"line\":{\"color\":\"#9e9e9e\",\"width\":1},\"mode\":\"lines\",\"x\":[26.5,26.5],\"y\":[3.5,-0.5],\"type\":\"scatter\",\"xaxis\":\"x5\",\"yaxis\":\"y5\"},{\"hoverinfo\":\"skip\",\"line\":{\"color\":\"#9e9e9e\",\"width\":1},\"mode\":\"lines\",\"x\":[30.5,30.5],\"y\":[-0.5,6.5],\"type\":\"scatter\",\"xaxis\":\"x5\",\"yaxis\":\"y5\"},{\"hoverinfo\":\"skip\",\"line\":{\"color\":\"#9e9e9e\",\"width\":1},\"mode\":\"lines\",\"x\":[34.5,34.5],\"y\":[2.5,6.5],\"type\":\"scatter\",\"xaxis\":\"x5\",\"yaxis\":\"y5\"},{\"hoverinfo\":\"skip\",\"line\":{\"color\":\"#9e9e9e\",\"width\":1},\"mode\":\"lines\",\"x\":[34.5,35.5],\"y\":[2.5,2.5],\"type\":\"scatter\",\"xaxis\":\"x5\",\"yaxis\":\"y5\"},{\"hoverinfo\":\"skip\",\"line\":{\"color\":\"#9e9e9e\",\"width\":1},\"mode\":\"lines\",\"x\":[35.5,35.5],\"y\":[2.5,-0.5],\"type\":\"scatter\",\"xaxis\":\"x5\",\"yaxis\":\"y5\"},{\"hoverinfo\":\"skip\",\"line\":{\"color\":\"#9e9e9e\",\"width\":1},\"mode\":\"lines\",\"x\":[38.5,38.5],\"y\":[4.5,6.5],\"type\":\"scatter\",\"xaxis\":\"x5\",\"yaxis\":\"y5\"},{\"hoverinfo\":\"skip\",\"line\":{\"color\":\"#9e9e9e\",\"width\":1},\"mode\":\"lines\",\"x\":[38.5,39.5],\"y\":[4.5,4.5],\"type\":\"scatter\",\"xaxis\":\"x5\",\"yaxis\":\"y5\"},{\"hoverinfo\":\"skip\",\"line\":{\"color\":\"#9e9e9e\",\"width\":1},\"mode\":\"lines\",\"x\":[39.5,39.5],\"y\":[4.5,-0.5],\"type\":\"scatter\",\"xaxis\":\"x5\",\"yaxis\":\"y5\"},{\"hoverinfo\":\"skip\",\"line\":{\"color\":\"#9e9e9e\",\"width\":1},\"mode\":\"lines\",\"x\":[43.5,43.5],\"y\":[0.5,6.5],\"type\":\"scatter\",\"xaxis\":\"x5\",\"yaxis\":\"y5\"},{\"hoverinfo\":\"skip\",\"line\":{\"color\":\"#9e9e9e\",\"width\":1},\"mode\":\"lines\",\"x\":[43.5,44.5],\"y\":[0.5,0.5],\"type\":\"scatter\",\"xaxis\":\"x5\",\"yaxis\":\"y5\"},{\"hoverinfo\":\"skip\",\"line\":{\"color\":\"#9e9e9e\",\"width\":1},\"mode\":\"lines\",\"x\":[44.5,44.5],\"y\":[0.5,-0.5],\"type\":\"scatter\",\"xaxis\":\"x5\",\"yaxis\":\"y5\"},{\"hoverinfo\":\"skip\",\"line\":{\"color\":\"#9e9e9e\",\"width\":1},\"mode\":\"lines\",\"x\":[47.5,47.5],\"y\":[2.5,6.5],\"type\":\"scatter\",\"xaxis\":\"x5\",\"yaxis\":\"y5\"},{\"hoverinfo\":\"skip\",\"line\":{\"color\":\"#9e9e9e\",\"width\":1},\"mode\":\"lines\",\"x\":[47.5,48.5],\"y\":[2.5,2.5],\"type\":\"scatter\",\"xaxis\":\"x5\",\"yaxis\":\"y5\"},{\"hoverinfo\":\"skip\",\"line\":{\"color\":\"#9e9e9e\",\"width\":1},\"mode\":\"lines\",\"x\":[48.5,48.5],\"y\":[2.5,-0.5],\"type\":\"scatter\",\"xaxis\":\"x5\",\"yaxis\":\"y5\"},{\"colorscale\":[[0.0,\"rgb(247,252,245)\"],[0.125,\"rgb(229,245,224)\"],[0.25,\"rgb(199,233,192)\"],[0.375,\"rgb(161,217,155)\"],[0.5,\"rgb(116,196,118)\"],[0.625,\"rgb(65,171,93)\"],[0.75,\"rgb(35,139,69)\"],[0.875,\"rgb(0,109,44)\"],[1.0,\"rgb(0,68,27)\"]],\"customdata\":[[\"2023-01-01\",\"y\"],[\"2023-01-02\",\"y\"],[\"2023-01-03\",\"y\"],[\"2023-01-04\",\"y\"],[\"2023-01-05\",\"y\"],[\"2023-01-06\",\"y\"],[\"2023-01-07\",\"y\"],[\"2023-01-08\",\"y\"],[\"2023-01-09\",\"y\"],[\"2023-01-10\",\"y\"],[\"2023-01-11\",\"y\"],[\"2023-01-12\",\"y\"],[\"2023-01-13\",\"y\"],[\"2023-01-14\",\"y\"],[\"2023-01-15\",\"y\"],[\"2023-01-16\",\"y\"],[\"2023-01-17\",\"y\"],[\"2023-01-18\",\"y\"],[\"2023-01-19\",\"y\"],[\"2023-01-20\",\"y\"],[\"2023-01-21\",\"y\"],[\"2023-01-22\",\"y\"],[\"2023-01-23\",\"y\"],[\"2023-01-24\",\"y\"],[\"2023-01-25\",\"y\"],[\"2023-01-26\",\"y\"],[\"2023-01-27\",\"y\"],[\"2023-01-28\",\"y\"],[\"2023-01-29\",\"y\"],[\"2023-01-30\",\"y\"],[\"2023-01-31\",\"y\"],[\"2023-02-01\",\"y\"],[\"2023-02-02\",\"y\"],[\"2023-02-03\",\"y\"],[\"2023-02-04\",\"y\"],[\"2023-02-05\",\"y\"],[\"2023-02-06\",\"y\"],[\"2023-02-07\",\"y\"],[\"2023-02-08\",\"y\"],[\"2023-02-09\",\"y\"],[\"2023-02-10\",\"y\"],[\"2023-02-11\",\"y\"],[\"2023-02-12\",\"y\"],[\"2023-02-13\",\"y\"],[\"2023-02-14\",\"y\"],[\"2023-02-15\",\"y\"],[\"2023-02-16\",\"y\"],[\"2023-02-17\",\"y\"],[\"2023-02-18\",\"y\"],[\"2023-02-19\",\"y\"],[\"2023-02-20\",\"y\"],[\"2023-02-21\",\"y\"],[\"2023-02-22\",\"y\"],[\"2023-02-23\",\"y\"],[\"2023-02-24\",\"y\"],[\"2023-02-25\",\"y\"],[\"2023-02-26\",\"y\"],[\"2023-02-27\",\"y\"],[\"2023-02-28\",\"y\"],[\"2023-03-01\",\"y\"],[\"2023-03-02\",\"y\"],[\"2023-03-03\",\"y\"],[\"2023-03-04\",\"y\"],[\"2023-03-05\",\"y\"],[\"2023-03-06\",\"y\"],[\"2023-03-07\",\"y\"],[\"2023-03-08\",\"y\"],[\"2023-03-09\",\"y\"],[\"2023-03-10\",\"y\"],[\"2023-03-11\",\"y\"],[\"2023-03-12\",\"y\"],[\"2023-03-13\",\"y\"],[\"2023-03-14\",\"y\"],[\"2023-03-15\",\"y\"],[\"2023-03-16\",\"y\"],[\"2023-03-17\",\"y\"],[\"2023-03-18\",\"y\"],[\"2023-03-19\",\"y\"],[\"2023-03-20\",\"y\"],[\"2023-03-21\",\"y\"],[\"2023-03-22\",\"y\"],[\"2023-03-23\",\"y\"],[\"2023-03-24\",\"y\"],[\"2023-03-25\",\"y\"],[\"2023-03-26\",\"y\"],[\"2023-03-27\",\"y\"],[\"2023-03-28\",\"y\"],[\"2023-03-29\",\"y\"],[\"2023-03-30\",\"y\"],[\"2023-03-31\",\"y\"],[\"2023-04-01\",\"y\"],[\"2023-04-02\",\"y\"],[\"2023-04-03\",\"y\"],[\"2023-04-04\",\"y\"],[\"2023-04-05\",\"y\"],[\"2023-04-06\",\"y\"],[\"2023-04-07\",\"y\"],[\"2023-04-08\",\"y\"],[\"2023-04-09\",\"y\"],[\"2023-04-10\",\"y\"],[\"2023-04-11\",\"y\"],[\"2023-04-12\",\"y\"],[\"2023-04-13\",\"y\"],[\"2023-04-14\",\"y\"],[\"2023-04-15\",\"y\"],[\"2023-04-16\",\"y\"],[\"2023-04-17\",\"y\"],[\"2023-04-18\",\"y\"],[\"2023-04-19\",\"y\"],[\"2023-04-20\",\"y\"],[\"2023-04-21\",\"y\"],[\"2023-04-22\",\"y\"],[\"2023-04-23\",\"y\"],[\"2023-04-24\",\"y\"],[\"2023-04-25\",\"y\"],[\"2023-04-26\",\"y\"],[\"2023-04-27\",\"y\"],[\"2023-04-28\",\"y\"],[\"2023-04-29\",\"y\"],[\"2023-04-30\",\"y\"],[\"2023-05-01\",\"y\"],[\"2023-05-02\",\"y\"],[\"2023-05-03\",\"y\"],[\"2023-05-04\",\"y\"],[\"2023-05-05\",\"y\"],[\"2023-05-06\",\"y\"],[\"2023-05-07\",\"y\"],[\"2023-05-08\",\"y\"],[\"2023-05-09\",\"y\"],[\"2023-05-10\",\"y\"],[\"2023-05-11\",\"y\"],[\"2023-05-12\",\"y\"],[\"2023-05-13\",\"y\"],[\"2023-05-14\",\"y\"],[\"2023-05-15\",\"y\"],[\"2023-05-16\",\"y\"],[\"2023-05-17\",\"y\"],[\"2023-05-18\",\"y\"],[\"2023-05-19\",\"y\"],[\"2023-05-20\",\"y\"],[\"2023-05-21\",\"y\"],[\"2023-05-22\",\"y\"],[\"2023-05-23\",\"y\"],[\"2023-05-24\",\"y\"],[\"2023-05-25\",\"y\"],[\"2023-05-26\",\"y\"],[\"2023-05-27\",\"y\"],[\"2023-05-28\",\"y\"],[\"2023-05-29\",\"y\"],[\"2023-05-30\",\"y\"],[\"2023-05-31\",\"y\"],[\"2023-06-01\",\"y\"],[\"2023-06-02\",\"y\"],[\"2023-06-03\",\"y\"],[\"2023-06-04\",\"y\"],[\"2023-06-05\",\"y\"],[\"2023-06-06\",\"y\"],[\"2023-06-07\",\"y\"],[\"2023-06-08\",\"y\"],[\"2023-06-09\",\"y\"],[\"2023-06-10\",\"y\"],[\"2023-06-11\",\"y\"],[\"2023-06-12\",\"y\"],[\"2023-06-13\",\"y\"],[\"2023-06-14\",\"y\"],[\"2023-06-15\",\"y\"],[\"2023-06-16\",\"y\"],[\"2023-06-17\",\"y\"],[\"2023-06-18\",\"y\"],[\"2023-06-19\",\"y\"],[\"2023-06-20\",\"y\"],[\"2023-06-21\",\"y\"],[\"2023-06-22\",\"y\"],[\"2023-06-23\",\"y\"],[\"2023-06-24\",\"y\"],[\"2023-06-25\",\"y\"],[\"2023-06-26\",\"y\"],[\"2023-06-27\",\"y\"],[\"2023-06-28\",\"y\"],[\"2023-06-29\",\"y\"],[\"2023-06-30\",\"y\"],[\"2023-07-01\",\"y\"],[\"2023-07-02\",\"y\"],[\"2023-07-03\",\"y\"],[\"2023-07-04\",\"y\"],[\"2023-07-05\",\"y\"],[\"2023-07-06\",\"y\"],[\"2023-07-07\",\"y\"],[\"2023-07-08\",\"y\"],[\"2023-07-09\",\"y\"],[\"2023-07-10\",\"y\"],[\"2023-07-11\",\"y\"],[\"2023-07-12\",\"y\"],[\"2023-07-13\",\"y\"],[\"2023-07-14\",\"y\"],[\"2023-07-15\",\"y\"],[\"2023-07-16\",\"y\"],[\"2023-07-17\",\"y\"],[\"2023-07-18\",\"y\"],[\"2023-07-19\",\"y\"],[\"2023-07-20\",\"y\"],[\"2023-07-21\",\"y\"],[\"2023-07-22\",\"y\"],[\"2023-07-23\",\"y\"],[\"2023-07-24\",\"y\"],[\"2023-07-25\",\"y\"],[\"2023-07-26\",\"y\"],[\"2023-07-27\",\"y\"],[\"2023-07-28\",\"y\"],[\"2023-07-29\",\"y\"],[\"2023-07-30\",\"y\"],[\"2023-07-31\",\"y\"],[\"2023-08-01\",\"y\"],[\"2023-08-02\",\"y\"],[\"2023-08-03\",\"y\"],[\"2023-08-04\",\"y\"],[\"2023-08-05\",\"y\"],[\"2023-08-06\",\"y\"],[\"2023-08-07\",\"y\"],[\"2023-08-08\",\"y\"],[\"2023-08-09\",\"y\"],[\"2023-08-10\",\"y\"],[\"2023-08-11\",\"y\"],[\"2023-08-12\",\"y\"],[\"2023-08-13\",\"y\"],[\"2023-08-14\",\"y\"],[\"2023-08-15\",\"y\"],[\"2023-08-16\",\"y\"],[\"2023-08-17\",\"y\"],[\"2023-08-18\",\"y\"],[\"2023-08-19\",\"y\"],[\"2023-08-20\",\"y\"],[\"2023-08-21\",\"y\"],[\"2023-08-22\",\"y\"],[\"2023-08-23\",\"y\"],[\"2023-08-24\",\"y\"],[\"2023-08-25\",\"y\"],[\"2023-08-26\",\"y\"],[\"2023-08-27\",\"y\"],[\"2023-08-28\",\"y\"],[\"2023-08-29\",\"y\"],[\"2023-08-30\",\"y\"],[\"2023-08-31\",\"y\"],[\"2023-09-01\",\"y\"],[\"2023-09-02\",\"y\"],[\"2023-09-03\",\"y\"],[\"2023-09-04\",\"y\"],[\"2023-09-05\",\"y\"],[\"2023-09-06\",\"y\"],[\"2023-09-07\",\"y\"],[\"2023-09-08\",\"y\"],[\"2023-09-09\",\"y\"],[\"2023-09-10\",\"y\"],[\"2023-09-11\",\"y\"],[\"2023-09-12\",\"y\"],[\"2023-09-13\",\"y\"],[\"2023-09-14\",\"y\"],[\"2023-09-15\",\"y\"],[\"2023-09-16\",\"y\"],[\"2023-09-17\",\"y\"],[\"2023-09-18\",\"y\"],[\"2023-09-19\",\"y\"],[\"2023-09-20\",\"y\"],[\"2023-09-21\",\"y\"],[\"2023-09-22\",\"y\"],[\"2023-09-23\",\"y\"],[\"2023-09-24\",\"y\"],[\"2023-09-25\",\"y\"],[\"2023-09-26\",\"y\"],[\"2023-09-27\",\"y\"],[\"2023-09-28\",\"y\"],[\"2023-09-29\",\"y\"],[\"2023-09-30\",\"y\"],[\"2023-10-01\",\"y\"],[\"2023-10-02\",\"y\"],[\"2023-10-03\",\"y\"],[\"2023-10-04\",\"y\"],[\"2023-10-05\",\"y\"],[\"2023-10-06\",\"y\"],[\"2023-10-07\",\"y\"],[\"2023-10-08\",\"y\"],[\"2023-10-09\",\"y\"],[\"2023-10-10\",\"y\"],[\"2023-10-11\",\"y\"],[\"2023-10-12\",\"y\"],[\"2023-10-13\",\"y\"],[\"2023-10-14\",\"y\"],[\"2023-10-15\",\"y\"],[\"2023-10-16\",\"y\"],[\"2023-10-17\",\"y\"],[\"2023-10-18\",\"y\"],[\"2023-10-19\",\"y\"],[\"2023-10-20\",\"y\"],[\"2023-10-21\",\"y\"],[\"2023-10-22\",\"y\"],[\"2023-10-23\",\"y\"],[\"2023-10-24\",\"y\"],[\"2023-10-25\",\"y\"],[\"2023-10-26\",\"y\"],[\"2023-10-27\",\"y\"],[\"2023-10-28\",\"y\"],[\"2023-10-29\",\"y\"],[\"2023-10-30\",\"y\"],[\"2023-10-31\",\"y\"],[\"2023-11-01\",\"y\"],[\"2023-11-02\",\"y\"],[\"2023-11-03\",\"y\"],[\"2023-11-04\",\"y\"],[\"2023-11-05\",\"y\"],[\"2023-11-06\",\"y\"],[\"2023-11-07\",\"y\"],[\"2023-11-08\",\"y\"],[\"2023-11-09\",\"y\"],[\"2023-11-10\",\"y\"],[\"2023-11-11\",\"y\"],[\"2023-11-12\",\"y\"],[\"2023-11-13\",\"y\"],[\"2023-11-14\",\"y\"],[\"2023-11-15\",\"y\"],[\"2023-11-16\",\"y\"],[\"2023-11-17\",\"y\"],[\"2023-11-18\",\"y\"],[\"2023-11-19\",\"y\"],[\"2023-11-20\",\"y\"],[\"2023-11-21\",\"y\"],[\"2023-11-22\",\"y\"],[\"2023-11-23\",\"y\"],[\"2023-11-24\",\"y\"],[\"2023-11-25\",\"y\"],[\"2023-11-26\",\"y\"],[\"2023-11-27\",\"y\"],[\"2023-11-28\",\"y\"],[\"2023-11-29\",\"y\"],[\"2023-11-30\",\"y\"],[\"2023-12-01\",\"y\"],[\"2023-12-02\",\"y\"],[\"2023-12-03\",\"y\"],[\"2023-12-04\",\"y\"],[\"2023-12-05\",\"y\"],[\"2023-12-06\",\"y\"],[\"2023-12-07\",\"y\"],[\"2023-12-08\",\"y\"],[\"2023-12-09\",\"y\"],[\"2023-12-10\",\"y\"],[\"2023-12-11\",\"y\"],[\"2023-12-12\",\"y\"],[\"2023-12-13\",\"y\"],[\"2023-12-14\",\"y\"],[\"2023-12-15\",\"y\"],[\"2023-12-16\",\"y\"],[\"2023-12-17\",\"y\"],[\"2023-12-18\",\"y\"],[\"2023-12-19\",\"y\"],[\"2023-12-20\",\"y\"],[\"2023-12-21\",\"y\"],[\"2023-12-22\",\"y\"],[\"2023-12-23\",\"y\"],[\"2023-12-24\",\"y\"],[\"2023-12-25\",\"y\"],[\"2023-12-26\",\"y\"],[\"2023-12-27\",\"y\"],[\"2023-12-28\",\"y\"],[\"2023-12-29\",\"y\"],[\"2023-12-30\",\"y\"],[\"2023-12-31\",\"y\"]],\"hovertemplate\":\"%{customdata[0]} \\u003cbr\\u003eWeek=%{x} \\u003cbr\\u003e%{customdata[1]}=%{z}\",\"name\":\"2023\",\"showscale\":false,\"x\":[0,1,1,1,1,1,1,1,2,2,2,2,2,2,2,3,3,3,3,3,3,3,4,4,4,4,4,4,4,5,5,5,5,5,5,5,6,6,6,6,6,6,6,7,7,7,7,7,7,7,8,8,8,8,8,8,8,9,9,9,9,9,9,9,10,10,10,10,10,10,10,11,11,11,11,11,11,11,12,12,12,12,12,12,12,13,13,13,13,13,13,13,14,14,14,14,14,14,14,15,15,15,15,15,15,15,16,16,16,16,16,16,16,17,17,17,17,17,17,17,18,18,18,18,18,18,18,19,19,19,19,19,19,19,20,20,20,20,20,20,20,21,21,21,21,21,21,21,22,22,22,22,22,22,22,23,23,23,23,23,23,23,24,24,24,24,24,24,24,25,25,25,25,25,25,25,26,26,26,26,26,26,26,27,27,27,27,27,27,27,28,28,28,28,28,28,28,29,29,29,29,29,29,29,30,30,30,30,30,30,30,31,31,31,31,31,31,31,32,32,32,32,32,32,32,33,33,33,33,33,33,33,34,34,34,34,34,34,34,35,35,35,35,35,35,35,36,36,36,36,36,36,36,37,37,37,37,37,37,37,38,38,38,38,38,38,38,39,39,39,39,39,39,39,40,40,40,40,40,40,40,41,41,41,41,41,41,41,42,42,42,42,42,42,42,43,43,43,43,43,43,43,44,44,44,44,44,44,44,45,45,45,45,45,45,45,46,46,46,46,46,46,46,47,47,47,47,47,47,47,48,48,48,48,48,48,48,49,49,49,49,49,49,49,50,50,50,50,50,50,50,51,51,51,51,51,51,51,52,52,52,52,52,52,52],\"xgap\":1,\"y\":[6,0,1,2,3,4,5,6,0,1,2,3,4,5,6,0,1,2,3,4,5,6,0,1,2,3,4,5,6,0,1,2,3,4,5,6,0,1,2,3,4,5,6,0,1,2,3,4,5,6,0,1,2,3,4,5,6,0,1,2,3,4,5,6,0,1,2,3,4,5,6,0,1,2,3,4,5,6,0,1,2,3,4,5,6,0,1,2,3,4,5,6,0,1,2,3,4,5,6,0,1,2,3,4,5,6,0,1,2,3,4,5,6,0,1,2,3,4,5,6,0,1,2,3,4,5,6,0,1,2,3,4,5,6,0,1,2,3,4,5,6,0,1,2,3,4,5,6,0,1,2,3,4,5,6,0,1,2,3,4,5,6,0,1,2,3,4,5,6,0,1,2,3,4,5,6,0,1,2,3,4,5,6,0,1,2,3,4,5,6,0,1,2,3,4,5,6,0,1,2,3,4,5,6,0,1,2,3,4,5,6,0,1,2,3,4,5,6,0,1,2,3,4,5,6,0,1,2,3,4,5,6,0,1,2,3,4,5,6,0,1,2,3,4,5,6,0,1,2,3,4,5,6,0,1,2,3,4,5,6,0,1,2,3,4,5,6,0,1,2,3,4,5,6,0,1,2,3,4,5,6,0,1,2,3,4,5,6,0,1,2,3,4,5,6,0,1,2,3,4,5,6,0,1,2,3,4,5,6,0,1,2,3,4,5,6,0,1,2,3,4,5,6,0,1,2,3,4,5,6,0,1,2,3,4,5,6,0,1,2,3,4,5,6,0,1,2,3,4,5,6,0,1,2,3,4,5,6,0,1,2,3,4,5,6],\"ygap\":1,\"z\":[null,6.0,5.0,4.0,3.0,3.0,2.0,2.0,7.0,7.0,4.0,3.0,9.0,1.0,3.0,8.0,2.0,8.0,2.0,4.0,4.0,4.0,5.0,5.0,1.0,2.0,6.0,6.0,5.0,1.0,2.0,2.0,2.0,9.0,5.0,4.0,8.0,6.0,6.0,7.0,4.0,4.0,9.0,5.0,3.0,6.0,5.0,5.0,1.0,6.0,7.0,2.0,4.0,5.0,3.0,7.0,2.0,6.0,8.0,4.0,1.0,7.0,7.0,1.0,4.0,5.0,7.0,3.0,4.0,8.0,5.0,1.0,5.0,3.0,7.0,6.0,7.0,2.0,6.0,4.0,6.0,null,6.0,6.0,4.0,6.0,5.0,2.0,null,null,null,null,null,null,null,null,null,null,null,null,null,null,null,null,null,null,null,null,null,null,null,null,null,null,null,null,null,null,null,null,null,null,null,null,null,null,null,null,null,null,null,null,null,null,null,null,null,null,null,null,null,null,null,null,null,null,null,null,null,null,null,null,null,null,null,null,null,null,null,null,null,null,null,null,null,null,null,null,null,null,null,null,null,null,null,null,null,null,null,null,null,null,null,null,null,null,null,null,null,null,null,null,null,null,null,null,null,null,null,null,null,null,null,null,null,null,null,null,null,null,null,null,null,null,null,null,null,null,null,null,null,null,null,null,null,null,null,null,null,null,null,null,null,null,null,null,null,null,null,null,null,null,null,null,null,null,null,null,null,null,null,null,null,null,null,null,null,null,null,null,null,null,null,null,null,null,null,null,null,null,null,null,null,null,null,null,null,null,null,null,null,null,null,null,null,null,null,null,null,null,null,null,null,null,null,null,null,null,null,null,null,null,null,null,null,null,null,null,null,null,null,null,null,null,null,null,null,null,null,null,null,null,null,null,null,null,null,null,null,null,null,null,null,null,null,null,null,null,null,null,null,null,null,null,null,null,null,null,null,null,null,null,null,null,null,null,null,null,null,null,null,null,null,null,null],\"type\":\"heatmap\",\"xaxis\":\"x6\",\"yaxis\":\"y6\",\"zmax\":30,\"zmin\":1},{\"hoverinfo\":\"skip\",\"line\":{\"color\":\"#9e9e9e\",\"width\":1},\"mode\":\"lines\",\"x\":[-0.5,-0.5],\"y\":[5.5,6.5],\"type\":\"scatter\",\"xaxis\":\"x6\",\"yaxis\":\"y6\"},{\"hoverinfo\":\"skip\",\"line\":{\"color\":\"#9e9e9e\",\"width\":1},\"mode\":\"lines\",\"x\":[-0.5,0.5],\"y\":[5.5,5.5],\"type\":\"scatter\",\"xaxis\":\"x6\",\"yaxis\":\"y6\"},{\"hoverinfo\":\"skip\",\"line\":{\"color\":\"#9e9e9e\",\"width\":1},\"mode\":\"lines\",\"x\":[0.5,0.5],\"y\":[5.5,-0.5],\"type\":\"scatter\",\"xaxis\":\"x6\",\"yaxis\":\"y6\"},{\"hoverinfo\":\"skip\",\"line\":{\"color\":\"#9e9e9e\",\"width\":1},\"mode\":\"lines\",\"x\":[4.5,4.5],\"y\":[1.5,6.5],\"type\":\"scatter\",\"xaxis\":\"x6\",\"yaxis\":\"y6\"},{\"hoverinfo\":\"skip\",\"line\":{\"color\":\"#9e9e9e\",\"width\":1},\"mode\":\"lines\",\"x\":[4.5,5.5],\"y\":[1.5,1.5],\"type\":\"scatter\",\"xaxis\":\"x6\",\"yaxis\":\"y6\"},{\"hoverinfo\":\"skip\",\"line\":{\"color\":\"#9e9e9e\",\"width\":1},\"mode\":\"lines\",\"x\":[5.5,5.5],\"y\":[1.5,-0.5],\"type\":\"scatter\",\"xaxis\":\"x6\",\"yaxis\":\"y6\"},{\"hoverinfo\":\"skip\",\"line\":{\"color\":\"#9e9e9e\",\"width\":1},\"mode\":\"lines\",\"x\":[8.5,8.5],\"y\":[1.5,6.5],\"type\":\"scatter\",\"xaxis\":\"x6\",\"yaxis\":\"y6\"},{\"hoverinfo\":\"skip\",\"line\":{\"color\":\"#9e9e9e\",\"width\":1},\"mode\":\"lines\",\"x\":[8.5,9.5],\"y\":[1.5,1.5],\"type\":\"scatter\",\"xaxis\":\"x6\",\"yaxis\":\"y6\"},{\"hoverinfo\":\"skip\",\"line\":{\"color\":\"#9e9e9e\",\"width\":1},\"mode\":\"lines\",\"x\":[9.5,9.5],\"y\":[1.5,-0.5],\"type\":\"scatter\",\"xaxis\":\"x6\",\"yaxis\":\"y6\"},{\"hoverinfo\":\"skip\",\"line\":{\"color\":\"#9e9e9e\",\"width\":1},\"mode\":\"lines\",\"x\":[12.5,12.5],\"y\":[4.5,6.5],\"type\":\"scatter\",\"xaxis\":\"x6\",\"yaxis\":\"y6\"},{\"hoverinfo\":\"skip\",\"line\":{\"color\":\"#9e9e9e\",\"width\":1},\"mode\":\"lines\",\"x\":[12.5,13.5],\"y\":[4.5,4.5],\"type\":\"scatter\",\"xaxis\":\"x6\",\"yaxis\":\"y6\"},{\"hoverinfo\":\"skip\",\"line\":{\"color\":\"#9e9e9e\",\"width\":1},\"mode\":\"lines\",\"x\":[13.5,13.5],\"y\":[4.5,-0.5],\"type\":\"scatter\",\"xaxis\":\"x6\",\"yaxis\":\"y6\"},{\"hoverinfo\":\"skip\",\"line\":{\"color\":\"#9e9e9e\",\"width\":1},\"mode\":\"lines\",\"x\":[17.5,17.5],\"y\":[-0.5,6.5],\"type\":\"scatter\",\"xaxis\":\"x6\",\"yaxis\":\"y6\"},{\"hoverinfo\":\"skip\",\"line\":{\"color\":\"#9e9e9e\",\"width\":1},\"mode\":\"lines\",\"x\":[21.5,21.5],\"y\":[2.5,6.5],\"type\":\"scatter\",\"xaxis\":\"x6\",\"yaxis\":\"y6\"},{\"hoverinfo\":\"skip\",\"line\":{\"color\":\"#9e9e9e\",\"width\":1},\"mode\":\"lines\",\"x\":[21.5,22.5],\"y\":[2.5,2.5],\"type\":\"scatter\",\"xaxis\":\"x6\",\"yaxis\":\"y6\"},{\"hoverinfo\":\"skip\",\"line\":{\"color\":\"#9e9e9e\",\"width\":1},\"mode\":\"lines\",\"x\":[22.5,22.5],\"y\":[2.5,-0.5],\"type\":\"scatter\",\"xaxis\":\"x6\",\"yaxis\":\"y6\"},{\"hoverinfo\":\"skip\",\"line\":{\"color\":\"#9e9e9e\",\"width\":1},\"mode\":\"lines\",\"x\":[25.5,25.5],\"y\":[4.5,6.5],\"type\":\"scatter\",\"xaxis\":\"x6\",\"yaxis\":\"y6\"},{\"hoverinfo\":\"skip\",\"line\":{\"color\":\"#9e9e9e\",\"width\":1},\"mode\":\"lines\",\"x\":[25.5,26.5],\"y\":[4.5,4.5],\"type\":\"scatter\",\"xaxis\":\"x6\",\"yaxis\":\"y6\"},{\"hoverinfo\":\"skip\",\"line\":{\"color\":\"#9e9e9e\",\"width\":1},\"mode\":\"lines\",\"x\":[26.5,26.5],\"y\":[4.5,-0.5],\"type\":\"scatter\",\"xaxis\":\"x6\",\"yaxis\":\"y6\"},{\"hoverinfo\":\"skip\",\"line\":{\"color\":\"#9e9e9e\",\"width\":1},\"mode\":\"lines\",\"x\":[30.5,30.5],\"y\":[0.5,6.5],\"type\":\"scatter\",\"xaxis\":\"x6\",\"yaxis\":\"y6\"},{\"hoverinfo\":\"skip\",\"line\":{\"color\":\"#9e9e9e\",\"width\":1},\"mode\":\"lines\",\"x\":[30.5,31.5],\"y\":[0.5,0.5],\"type\":\"scatter\",\"xaxis\":\"x6\",\"yaxis\":\"y6\"},{\"hoverinfo\":\"skip\",\"line\":{\"color\":\"#9e9e9e\",\"width\":1},\"mode\":\"lines\",\"x\":[31.5,31.5],\"y\":[0.5,-0.5],\"type\":\"scatter\",\"xaxis\":\"x6\",\"yaxis\":\"y6\"},{\"hoverinfo\":\"skip\",\"line\":{\"color\":\"#9e9e9e\",\"width\":1},\"mode\":\"lines\",\"x\":[34.5,34.5],\"y\":[3.5,6.5],\"type\":\"scatter\",\"xaxis\":\"x6\",\"yaxis\":\"y6\"},{\"hoverinfo\":\"skip\",\"line\":{\"color\":\"#9e9e9e\",\"width\":1},\"mode\":\"lines\",\"x\":[34.5,35.5],\"y\":[3.5,3.5],\"type\":\"scatter\",\"xaxis\":\"x6\",\"yaxis\":\"y6\"},{\"hoverinfo\":\"skip\",\"line\":{\"color\":\"#9e9e9e\",\"width\":1},\"mode\":\"lines\",\"x\":[35.5,35.5],\"y\":[3.5,-0.5],\"type\":\"scatter\",\"xaxis\":\"x6\",\"yaxis\":\"y6\"},{\"hoverinfo\":\"skip\",\"line\":{\"color\":\"#9e9e9e\",\"width\":1},\"mode\":\"lines\",\"x\":[38.5,38.5],\"y\":[5.5,6.5],\"type\":\"scatter\",\"xaxis\":\"x6\",\"yaxis\":\"y6\"},{\"hoverinfo\":\"skip\",\"line\":{\"color\":\"#9e9e9e\",\"width\":1},\"mode\":\"lines\",\"x\":[38.5,39.5],\"y\":[5.5,5.5],\"type\":\"scatter\",\"xaxis\":\"x6\",\"yaxis\":\"y6\"},{\"hoverinfo\":\"skip\",\"line\":{\"color\":\"#9e9e9e\",\"width\":1},\"mode\":\"lines\",\"x\":[39.5,39.5],\"y\":[5.5,-0.5],\"type\":\"scatter\",\"xaxis\":\"x6\",\"yaxis\":\"y6\"},{\"hoverinfo\":\"skip\",\"line\":{\"color\":\"#9e9e9e\",\"width\":1},\"mode\":\"lines\",\"x\":[43.5,43.5],\"y\":[1.5,6.5],\"type\":\"scatter\",\"xaxis\":\"x6\",\"yaxis\":\"y6\"},{\"hoverinfo\":\"skip\",\"line\":{\"color\":\"#9e9e9e\",\"width\":1},\"mode\":\"lines\",\"x\":[43.5,44.5],\"y\":[1.5,1.5],\"type\":\"scatter\",\"xaxis\":\"x6\",\"yaxis\":\"y6\"},{\"hoverinfo\":\"skip\",\"line\":{\"color\":\"#9e9e9e\",\"width\":1},\"mode\":\"lines\",\"x\":[44.5,44.5],\"y\":[1.5,-0.5],\"type\":\"scatter\",\"xaxis\":\"x6\",\"yaxis\":\"y6\"},{\"hoverinfo\":\"skip\",\"line\":{\"color\":\"#9e9e9e\",\"width\":1},\"mode\":\"lines\",\"x\":[47.5,47.5],\"y\":[3.5,6.5],\"type\":\"scatter\",\"xaxis\":\"x6\",\"yaxis\":\"y6\"},{\"hoverinfo\":\"skip\",\"line\":{\"color\":\"#9e9e9e\",\"width\":1},\"mode\":\"lines\",\"x\":[47.5,48.5],\"y\":[3.5,3.5],\"type\":\"scatter\",\"xaxis\":\"x6\",\"yaxis\":\"y6\"},{\"hoverinfo\":\"skip\",\"line\":{\"color\":\"#9e9e9e\",\"width\":1},\"mode\":\"lines\",\"x\":[48.5,48.5],\"y\":[3.5,-0.5],\"type\":\"scatter\",\"xaxis\":\"x6\",\"yaxis\":\"y6\"}],                        {\"template\":{\"data\":{\"histogram2dcontour\":[{\"type\":\"histogram2dcontour\",\"colorbar\":{\"outlinewidth\":0,\"ticks\":\"\"},\"colorscale\":[[0.0,\"#0d0887\"],[0.1111111111111111,\"#46039f\"],[0.2222222222222222,\"#7201a8\"],[0.3333333333333333,\"#9c179e\"],[0.4444444444444444,\"#bd3786\"],[0.5555555555555556,\"#d8576b\"],[0.6666666666666666,\"#ed7953\"],[0.7777777777777778,\"#fb9f3a\"],[0.8888888888888888,\"#fdca26\"],[1.0,\"#f0f921\"]]}],\"choropleth\":[{\"type\":\"choropleth\",\"colorbar\":{\"outlinewidth\":0,\"ticks\":\"\"}}],\"histogram2d\":[{\"type\":\"histogram2d\",\"colorbar\":{\"outlinewidth\":0,\"ticks\":\"\"},\"colorscale\":[[0.0,\"#0d0887\"],[0.1111111111111111,\"#46039f\"],[0.2222222222222222,\"#7201a8\"],[0.3333333333333333,\"#9c179e\"],[0.4444444444444444,\"#bd3786\"],[0.5555555555555556,\"#d8576b\"],[0.6666666666666666,\"#ed7953\"],[0.7777777777777778,\"#fb9f3a\"],[0.8888888888888888,\"#fdca26\"],[1.0,\"#f0f921\"]]}],\"heatmap\":[{\"type\":\"heatmap\",\"colorbar\":{\"outlinewidth\":0,\"ticks\":\"\"},\"colorscale\":[[0.0,\"#0d0887\"],[0.1111111111111111,\"#46039f\"],[0.2222222222222222,\"#7201a8\"],[0.3333333333333333,\"#9c179e\"],[0.4444444444444444,\"#bd3786\"],[0.5555555555555556,\"#d8576b\"],[0.6666666666666666,\"#ed7953\"],[0.7777777777777778,\"#fb9f3a\"],[0.8888888888888888,\"#fdca26\"],[1.0,\"#f0f921\"]]}],\"heatmapgl\":[{\"type\":\"heatmapgl\",\"colorbar\":{\"outlinewidth\":0,\"ticks\":\"\"},\"colorscale\":[[0.0,\"#0d0887\"],[0.1111111111111111,\"#46039f\"],[0.2222222222222222,\"#7201a8\"],[0.3333333333333333,\"#9c179e\"],[0.4444444444444444,\"#bd3786\"],[0.5555555555555556,\"#d8576b\"],[0.6666666666666666,\"#ed7953\"],[0.7777777777777778,\"#fb9f3a\"],[0.8888888888888888,\"#fdca26\"],[1.0,\"#f0f921\"]]}],\"contourcarpet\":[{\"type\":\"contourcarpet\",\"colorbar\":{\"outlinewidth\":0,\"ticks\":\"\"}}],\"contour\":[{\"type\":\"contour\",\"colorbar\":{\"outlinewidth\":0,\"ticks\":\"\"},\"colorscale\":[[0.0,\"#0d0887\"],[0.1111111111111111,\"#46039f\"],[0.2222222222222222,\"#7201a8\"],[0.3333333333333333,\"#9c179e\"],[0.4444444444444444,\"#bd3786\"],[0.5555555555555556,\"#d8576b\"],[0.6666666666666666,\"#ed7953\"],[0.7777777777777778,\"#fb9f3a\"],[0.8888888888888888,\"#fdca26\"],[1.0,\"#f0f921\"]]}],\"surface\":[{\"type\":\"surface\",\"colorbar\":{\"outlinewidth\":0,\"ticks\":\"\"},\"colorscale\":[[0.0,\"#0d0887\"],[0.1111111111111111,\"#46039f\"],[0.2222222222222222,\"#7201a8\"],[0.3333333333333333,\"#9c179e\"],[0.4444444444444444,\"#bd3786\"],[0.5555555555555556,\"#d8576b\"],[0.6666666666666666,\"#ed7953\"],[0.7777777777777778,\"#fb9f3a\"],[0.8888888888888888,\"#fdca26\"],[1.0,\"#f0f921\"]]}],\"mesh3d\":[{\"type\":\"mesh3d\",\"colorbar\":{\"outlinewidth\":0,\"ticks\":\"\"}}],\"scatter\":[{\"fillpattern\":{\"fillmode\":\"overlay\",\"size\":10,\"solidity\":0.2},\"type\":\"scatter\"}],\"parcoords\":[{\"type\":\"parcoords\",\"line\":{\"colorbar\":{\"outlinewidth\":0,\"ticks\":\"\"}}}],\"scatterpolargl\":[{\"type\":\"scatterpolargl\",\"marker\":{\"colorbar\":{\"outlinewidth\":0,\"ticks\":\"\"}}}],\"bar\":[{\"error_x\":{\"color\":\"#2a3f5f\"},\"error_y\":{\"color\":\"#2a3f5f\"},\"marker\":{\"line\":{\"color\":\"#E5ECF6\",\"width\":0.5},\"pattern\":{\"fillmode\":\"overlay\",\"size\":10,\"solidity\":0.2}},\"type\":\"bar\"}],\"scattergeo\":[{\"type\":\"scattergeo\",\"marker\":{\"colorbar\":{\"outlinewidth\":0,\"ticks\":\"\"}}}],\"scatterpolar\":[{\"type\":\"scatterpolar\",\"marker\":{\"colorbar\":{\"outlinewidth\":0,\"ticks\":\"\"}}}],\"histogram\":[{\"marker\":{\"pattern\":{\"fillmode\":\"overlay\",\"size\":10,\"solidity\":0.2}},\"type\":\"histogram\"}],\"scattergl\":[{\"type\":\"scattergl\",\"marker\":{\"colorbar\":{\"outlinewidth\":0,\"ticks\":\"\"}}}],\"scatter3d\":[{\"type\":\"scatter3d\",\"line\":{\"colorbar\":{\"outlinewidth\":0,\"ticks\":\"\"}},\"marker\":{\"colorbar\":{\"outlinewidth\":0,\"ticks\":\"\"}}}],\"scattermapbox\":[{\"type\":\"scattermapbox\",\"marker\":{\"colorbar\":{\"outlinewidth\":0,\"ticks\":\"\"}}}],\"scatterternary\":[{\"type\":\"scatterternary\",\"marker\":{\"colorbar\":{\"outlinewidth\":0,\"ticks\":\"\"}}}],\"scattercarpet\":[{\"type\":\"scattercarpet\",\"marker\":{\"colorbar\":{\"outlinewidth\":0,\"ticks\":\"\"}}}],\"carpet\":[{\"aaxis\":{\"endlinecolor\":\"#2a3f5f\",\"gridcolor\":\"white\",\"linecolor\":\"white\",\"minorgridcolor\":\"white\",\"startlinecolor\":\"#2a3f5f\"},\"baxis\":{\"endlinecolor\":\"#2a3f5f\",\"gridcolor\":\"white\",\"linecolor\":\"white\",\"minorgridcolor\":\"white\",\"startlinecolor\":\"#2a3f5f\"},\"type\":\"carpet\"}],\"table\":[{\"cells\":{\"fill\":{\"color\":\"#EBF0F8\"},\"line\":{\"color\":\"white\"}},\"header\":{\"fill\":{\"color\":\"#C8D4E3\"},\"line\":{\"color\":\"white\"}},\"type\":\"table\"}],\"barpolar\":[{\"marker\":{\"line\":{\"color\":\"#E5ECF6\",\"width\":0.5},\"pattern\":{\"fillmode\":\"overlay\",\"size\":10,\"solidity\":0.2}},\"type\":\"barpolar\"}],\"pie\":[{\"automargin\":true,\"type\":\"pie\"}]},\"layout\":{\"autotypenumbers\":\"strict\",\"colorway\":[\"#636efa\",\"#EF553B\",\"#00cc96\",\"#ab63fa\",\"#FFA15A\",\"#19d3f3\",\"#FF6692\",\"#B6E880\",\"#FF97FF\",\"#FECB52\"],\"font\":{\"color\":\"#2a3f5f\"},\"hovermode\":\"closest\",\"hoverlabel\":{\"align\":\"left\"},\"paper_bgcolor\":\"white\",\"plot_bgcolor\":\"#E5ECF6\",\"polar\":{\"bgcolor\":\"#E5ECF6\",\"angularaxis\":{\"gridcolor\":\"white\",\"linecolor\":\"white\",\"ticks\":\"\"},\"radialaxis\":{\"gridcolor\":\"white\",\"linecolor\":\"white\",\"ticks\":\"\"}},\"ternary\":{\"bgcolor\":\"#E5ECF6\",\"aaxis\":{\"gridcolor\":\"white\",\"linecolor\":\"white\",\"ticks\":\"\"},\"baxis\":{\"gridcolor\":\"white\",\"linecolor\":\"white\",\"ticks\":\"\"},\"caxis\":{\"gridcolor\":\"white\",\"linecolor\":\"white\",\"ticks\":\"\"}},\"coloraxis\":{\"colorbar\":{\"outlinewidth\":0,\"ticks\":\"\"}},\"colorscale\":{\"sequential\":[[0.0,\"#0d0887\"],[0.1111111111111111,\"#46039f\"],[0.2222222222222222,\"#7201a8\"],[0.3333333333333333,\"#9c179e\"],[0.4444444444444444,\"#bd3786\"],[0.5555555555555556,\"#d8576b\"],[0.6666666666666666,\"#ed7953\"],[0.7777777777777778,\"#fb9f3a\"],[0.8888888888888888,\"#fdca26\"],[1.0,\"#f0f921\"]],\"sequentialminus\":[[0.0,\"#0d0887\"],[0.1111111111111111,\"#46039f\"],[0.2222222222222222,\"#7201a8\"],[0.3333333333333333,\"#9c179e\"],[0.4444444444444444,\"#bd3786\"],[0.5555555555555556,\"#d8576b\"],[0.6666666666666666,\"#ed7953\"],[0.7777777777777778,\"#fb9f3a\"],[0.8888888888888888,\"#fdca26\"],[1.0,\"#f0f921\"]],\"diverging\":[[0,\"#8e0152\"],[0.1,\"#c51b7d\"],[0.2,\"#de77ae\"],[0.3,\"#f1b6da\"],[0.4,\"#fde0ef\"],[0.5,\"#f7f7f7\"],[0.6,\"#e6f5d0\"],[0.7,\"#b8e186\"],[0.8,\"#7fbc41\"],[0.9,\"#4d9221\"],[1,\"#276419\"]]},\"xaxis\":{\"gridcolor\":\"white\",\"linecolor\":\"white\",\"ticks\":\"\",\"title\":{\"standoff\":15},\"zerolinecolor\":\"white\",\"automargin\":true,\"zerolinewidth\":2},\"yaxis\":{\"gridcolor\":\"white\",\"linecolor\":\"white\",\"ticks\":\"\",\"title\":{\"standoff\":15},\"zerolinecolor\":\"white\",\"automargin\":true,\"zerolinewidth\":2},\"scene\":{\"xaxis\":{\"backgroundcolor\":\"#E5ECF6\",\"gridcolor\":\"white\",\"linecolor\":\"white\",\"showbackground\":true,\"ticks\":\"\",\"zerolinecolor\":\"white\",\"gridwidth\":2},\"yaxis\":{\"backgroundcolor\":\"#E5ECF6\",\"gridcolor\":\"white\",\"linecolor\":\"white\",\"showbackground\":true,\"ticks\":\"\",\"zerolinecolor\":\"white\",\"gridwidth\":2},\"zaxis\":{\"backgroundcolor\":\"#E5ECF6\",\"gridcolor\":\"white\",\"linecolor\":\"white\",\"showbackground\":true,\"ticks\":\"\",\"zerolinecolor\":\"white\",\"gridwidth\":2}},\"shapedefaults\":{\"line\":{\"color\":\"#2a3f5f\"}},\"annotationdefaults\":{\"arrowcolor\":\"#2a3f5f\",\"arrowhead\":0,\"arrowwidth\":1},\"geo\":{\"bgcolor\":\"white\",\"landcolor\":\"#E5ECF6\",\"subunitcolor\":\"white\",\"showland\":true,\"showlakes\":true,\"lakecolor\":\"white\"},\"title\":{\"x\":0.05},\"mapbox\":{\"style\":\"light\"}}},\"xaxis\":{\"anchor\":\"y\",\"domain\":[0.0,1.0],\"showgrid\":false,\"showline\":false,\"tickmode\":\"array\",\"ticktext\":[\"January\",\"February\",\"March\",\"April\",\"May\",\"June\",\"July\",\"August\",\"September\",\"October\",\"November\",\"December\"],\"tickvals\":[1.5,5.909090909090909,10.318181818181818,14.727272727272727,19.136363636363637,23.545454545454547,27.954545454545453,32.36363636363636,36.77272727272727,41.18181818181818,45.59090909090909,50.0],\"zeroline\":false},\"yaxis\":{\"anchor\":\"x\",\"domain\":[0.8999999999999999,0.9999999999999999],\"autorange\":\"reversed\",\"showgrid\":false,\"showline\":false,\"tickmode\":\"array\",\"ticktext\":[\"Mon\",\"Tue\",\"Wed\",\"Thu\",\"Fri\",\"Sat\",\"Sun\"],\"tickvals\":[0,1,2,3,4,5,6],\"zeroline\":false},\"xaxis2\":{\"anchor\":\"y2\",\"domain\":[0.0,1.0],\"showgrid\":false,\"showline\":false,\"tickmode\":\"array\",\"ticktext\":[\"January\",\"February\",\"March\",\"April\",\"May\",\"June\",\"July\",\"August\",\"September\",\"October\",\"November\",\"December\"],\"tickvals\":[1.5,5.909090909090909,10.318181818181818,14.727272727272727,19.136363636363637,23.545454545454547,27.954545454545453,32.36363636363636,36.77272727272727,41.18181818181818,45.59090909090909,50.0],\"zeroline\":false},\"yaxis2\":{\"anchor\":\"x2\",\"domain\":[0.72,0.82],\"autorange\":\"reversed\",\"showgrid\":false,\"showline\":false,\"tickmode\":\"array\",\"ticktext\":[\"Mon\",\"Tue\",\"Wed\",\"Thu\",\"Fri\",\"Sat\",\"Sun\"],\"tickvals\":[0,1,2,3,4,5,6],\"zeroline\":false},\"xaxis3\":{\"anchor\":\"y3\",\"domain\":[0.0,1.0],\"showgrid\":false,\"showline\":false,\"tickmode\":\"array\",\"ticktext\":[\"January\",\"February\",\"March\",\"April\",\"May\",\"June\",\"July\",\"August\",\"September\",\"October\",\"November\",\"December\"],\"tickvals\":[1.5,5.909090909090909,10.318181818181818,14.727272727272727,19.136363636363637,23.545454545454547,27.954545454545453,32.36363636363636,36.77272727272727,41.18181818181818,45.59090909090909,50.0],\"zeroline\":false},\"yaxis3\":{\"anchor\":\"x3\",\"domain\":[0.54,0.64],\"autorange\":\"reversed\",\"showgrid\":false,\"showline\":false,\"tickmode\":\"array\",\"ticktext\":[\"Mon\",\"Tue\",\"Wed\",\"Thu\",\"Fri\",\"Sat\",\"Sun\"],\"tickvals\":[0,1,2,3,4,5,6],\"zeroline\":false},\"xaxis4\":{\"anchor\":\"y4\",\"domain\":[0.0,1.0],\"showgrid\":false,\"showline\":false,\"tickmode\":\"array\",\"ticktext\":[\"January\",\"February\",\"March\",\"April\",\"May\",\"June\",\"July\",\"August\",\"September\",\"October\",\"November\",\"December\"],\"tickvals\":[1.5,5.909090909090909,10.318181818181818,14.727272727272727,19.136363636363637,23.545454545454547,27.954545454545453,32.36363636363636,36.77272727272727,41.18181818181818,45.59090909090909,50.0],\"zeroline\":false},\"yaxis4\":{\"anchor\":\"x4\",\"domain\":[0.36,0.45999999999999996],\"autorange\":\"reversed\",\"showgrid\":false,\"showline\":false,\"tickmode\":\"array\",\"ticktext\":[\"Mon\",\"Tue\",\"Wed\",\"Thu\",\"Fri\",\"Sat\",\"Sun\"],\"tickvals\":[0,1,2,3,4,5,6],\"zeroline\":false},\"xaxis5\":{\"anchor\":\"y5\",\"domain\":[0.0,1.0],\"showgrid\":false,\"showline\":false,\"tickmode\":\"array\",\"ticktext\":[\"January\",\"February\",\"March\",\"April\",\"May\",\"June\",\"July\",\"August\",\"September\",\"October\",\"November\",\"December\"],\"tickvals\":[1.5,5.909090909090909,10.318181818181818,14.727272727272727,19.136363636363637,23.545454545454547,27.954545454545453,32.36363636363636,36.77272727272727,41.18181818181818,45.59090909090909,50.0],\"zeroline\":false},\"yaxis5\":{\"anchor\":\"x5\",\"domain\":[0.18,0.27999999999999997],\"autorange\":\"reversed\",\"showgrid\":false,\"showline\":false,\"tickmode\":\"array\",\"ticktext\":[\"Mon\",\"Tue\",\"Wed\",\"Thu\",\"Fri\",\"Sat\",\"Sun\"],\"tickvals\":[0,1,2,3,4,5,6],\"zeroline\":false},\"xaxis6\":{\"anchor\":\"y6\",\"domain\":[0.0,1.0],\"showgrid\":false,\"showline\":false,\"tickmode\":\"array\",\"ticktext\":[\"January\",\"February\",\"March\",\"April\",\"May\",\"June\",\"July\",\"August\",\"September\",\"October\",\"November\",\"December\"],\"tickvals\":[1.5,5.909090909090909,10.318181818181818,14.727272727272727,19.136363636363637,23.545454545454547,27.954545454545453,32.36363636363636,36.77272727272727,41.18181818181818,45.59090909090909,50.0],\"zeroline\":false},\"yaxis6\":{\"anchor\":\"x6\",\"domain\":[0.0,0.09999999999999999],\"autorange\":\"reversed\",\"showgrid\":false,\"showline\":false,\"tickmode\":\"array\",\"ticktext\":[\"Mon\",\"Tue\",\"Wed\",\"Thu\",\"Fri\",\"Sat\",\"Sun\"],\"tickvals\":[0,1,2,3,4,5,6],\"zeroline\":false},\"font\":{\"color\":\"#9e9e9e\",\"size\":10},\"margin\":{\"b\":20,\"t\":20},\"title\":{\"text\":\"\"},\"plot_bgcolor\":\"#fff\",\"showlegend\":false,\"height\":900},                        {\"responsive\": true}                    ).then(function(){\n",
       "                            \n",
       "var gd = document.getElementById('628d03a1-eb7e-4313-8917-555598ed9eaf');\n",
       "var x = new MutationObserver(function (mutations, observer) {{\n",
       "        var display = window.getComputedStyle(gd).display;\n",
       "        if (!display || display === 'none') {{\n",
       "            console.log([gd, 'removed!']);\n",
       "            Plotly.purge(gd);\n",
       "            observer.disconnect();\n",
       "        }}\n",
       "}});\n",
       "\n",
       "// Listen for the removal of the full notebook cells\n",
       "var notebookContainer = gd.closest('#notebook-container');\n",
       "if (notebookContainer) {{\n",
       "    x.observe(notebookContainer, {childList: true});\n",
       "}}\n",
       "\n",
       "// Listen for the clearing of the current output cell\n",
       "var outputEl = gd.closest('.output');\n",
       "if (outputEl) {{\n",
       "    x.observe(outputEl, {childList: true});\n",
       "}}\n",
       "\n",
       "                        })                };                });            </script>        </div>"
      ]
     },
     "metadata": {},
     "output_type": "display_data"
    }
   ],
   "source": [
    "#!pip install plotly\n",
    "from plotly_calplot import calplot\n",
    "\n",
    "fig = calplot(\n",
    "    dates.reset_index(name = 'count').query(\"fecha_hecho.dt.year > 2017\"),\n",
    "    x = 'fecha_hecho',\n",
    "    y= 'count'\n",
    ")\n",
    "fig.show()"
   ]
  },
  {
   "cell_type": "code",
   "execution_count": 309,
   "id": "58cfad2d-c305-4074-961b-f4e2cc490b93",
   "metadata": {
    "tags": []
   },
   "outputs": [
    {
     "data": {
      "text/html": [
       "<div>\n",
       "<style scoped>\n",
       "    .dataframe tbody tr th:only-of-type {\n",
       "        vertical-align: middle;\n",
       "    }\n",
       "\n",
       "    .dataframe tbody tr th {\n",
       "        vertical-align: top;\n",
       "    }\n",
       "\n",
       "    .dataframe thead th {\n",
       "        text-align: right;\n",
       "    }\n",
       "</style>\n",
       "<table border=\"1\" class=\"dataframe\">\n",
       "  <thead>\n",
       "    <tr style=\"text-align: right;\">\n",
       "      <th></th>\n",
       "      <th>fecha_hecho</th>\n",
       "      <th>count</th>\n",
       "    </tr>\n",
       "  </thead>\n",
       "  <tbody>\n",
       "    <tr>\n",
       "      <th>0</th>\n",
       "      <td>2016-05-16</td>\n",
       "      <td>1</td>\n",
       "    </tr>\n",
       "    <tr>\n",
       "      <th>1</th>\n",
       "      <td>2016-05-20</td>\n",
       "      <td>1</td>\n",
       "    </tr>\n",
       "    <tr>\n",
       "      <th>2</th>\n",
       "      <td>2016-06-19</td>\n",
       "      <td>1</td>\n",
       "    </tr>\n",
       "    <tr>\n",
       "      <th>3</th>\n",
       "      <td>2017-01-04</td>\n",
       "      <td>1</td>\n",
       "    </tr>\n",
       "    <tr>\n",
       "      <th>4</th>\n",
       "      <td>2017-10-06</td>\n",
       "      <td>1</td>\n",
       "    </tr>\n",
       "    <tr>\n",
       "      <th>...</th>\n",
       "      <td>...</td>\n",
       "      <td>...</td>\n",
       "    </tr>\n",
       "    <tr>\n",
       "      <th>1556</th>\n",
       "      <td>2023-03-25</td>\n",
       "      <td>6</td>\n",
       "    </tr>\n",
       "    <tr>\n",
       "      <th>1557</th>\n",
       "      <td>2023-03-26</td>\n",
       "      <td>4</td>\n",
       "    </tr>\n",
       "    <tr>\n",
       "      <th>1558</th>\n",
       "      <td>2023-03-27</td>\n",
       "      <td>6</td>\n",
       "    </tr>\n",
       "    <tr>\n",
       "      <th>1559</th>\n",
       "      <td>2023-03-28</td>\n",
       "      <td>5</td>\n",
       "    </tr>\n",
       "    <tr>\n",
       "      <th>1560</th>\n",
       "      <td>2023-03-29</td>\n",
       "      <td>2</td>\n",
       "    </tr>\n",
       "  </tbody>\n",
       "</table>\n",
       "<p>1561 rows × 2 columns</p>\n",
       "</div>"
      ],
      "text/plain": [
       "     fecha_hecho  count\n",
       "0     2016-05-16      1\n",
       "1     2016-05-20      1\n",
       "2     2016-06-19      1\n",
       "3     2017-01-04      1\n",
       "4     2017-10-06      1\n",
       "...          ...    ...\n",
       "1556  2023-03-25      6\n",
       "1557  2023-03-26      4\n",
       "1558  2023-03-27      6\n",
       "1559  2023-03-28      5\n",
       "1560  2023-03-29      2\n",
       "\n",
       "[1561 rows x 2 columns]"
      ]
     },
     "execution_count": 309,
     "metadata": {},
     "output_type": "execute_result"
    }
   ],
   "source": [
    "dates.reset_index(name = 'count')"
   ]
  },
  {
   "cell_type": "code",
   "execution_count": 317,
   "id": "2b4cd91b-b8b4-4eaa-b6b6-59201b2ac7cd",
   "metadata": {
    "tags": []
   },
   "outputs": [
    {
     "data": {
      "text/html": [
       "<div>\n",
       "<style scoped>\n",
       "    .dataframe tbody tr th:only-of-type {\n",
       "        vertical-align: middle;\n",
       "    }\n",
       "\n",
       "    .dataframe tbody tr th {\n",
       "        vertical-align: top;\n",
       "    }\n",
       "\n",
       "    .dataframe thead th {\n",
       "        text-align: right;\n",
       "    }\n",
       "</style>\n",
       "<table border=\"1\" class=\"dataframe\">\n",
       "  <thead>\n",
       "    <tr style=\"text-align: right;\">\n",
       "      <th></th>\n",
       "      <th>fecha_hecho</th>\n",
       "      <th>count</th>\n",
       "    </tr>\n",
       "  </thead>\n",
       "  <tbody>\n",
       "    <tr>\n",
       "      <th>6</th>\n",
       "      <td>2018-01-01</td>\n",
       "      <td>2</td>\n",
       "    </tr>\n",
       "    <tr>\n",
       "      <th>7</th>\n",
       "      <td>2018-01-06</td>\n",
       "      <td>1</td>\n",
       "    </tr>\n",
       "    <tr>\n",
       "      <th>8</th>\n",
       "      <td>2018-01-07</td>\n",
       "      <td>1</td>\n",
       "    </tr>\n",
       "    <tr>\n",
       "      <th>9</th>\n",
       "      <td>2018-01-08</td>\n",
       "      <td>1</td>\n",
       "    </tr>\n",
       "    <tr>\n",
       "      <th>10</th>\n",
       "      <td>2018-01-09</td>\n",
       "      <td>1</td>\n",
       "    </tr>\n",
       "    <tr>\n",
       "      <th>...</th>\n",
       "      <td>...</td>\n",
       "      <td>...</td>\n",
       "    </tr>\n",
       "    <tr>\n",
       "      <th>1556</th>\n",
       "      <td>2023-03-25</td>\n",
       "      <td>6</td>\n",
       "    </tr>\n",
       "    <tr>\n",
       "      <th>1557</th>\n",
       "      <td>2023-03-26</td>\n",
       "      <td>4</td>\n",
       "    </tr>\n",
       "    <tr>\n",
       "      <th>1558</th>\n",
       "      <td>2023-03-27</td>\n",
       "      <td>6</td>\n",
       "    </tr>\n",
       "    <tr>\n",
       "      <th>1559</th>\n",
       "      <td>2023-03-28</td>\n",
       "      <td>5</td>\n",
       "    </tr>\n",
       "    <tr>\n",
       "      <th>1560</th>\n",
       "      <td>2023-03-29</td>\n",
       "      <td>2</td>\n",
       "    </tr>\n",
       "  </tbody>\n",
       "</table>\n",
       "<p>1555 rows × 2 columns</p>\n",
       "</div>"
      ],
      "text/plain": [
       "     fecha_hecho  count\n",
       "6     2018-01-01      2\n",
       "7     2018-01-06      1\n",
       "8     2018-01-07      1\n",
       "9     2018-01-08      1\n",
       "10    2018-01-09      1\n",
       "...          ...    ...\n",
       "1556  2023-03-25      6\n",
       "1557  2023-03-26      4\n",
       "1558  2023-03-27      6\n",
       "1559  2023-03-28      5\n",
       "1560  2023-03-29      2\n",
       "\n",
       "[1555 rows x 2 columns]"
      ]
     },
     "execution_count": 317,
     "metadata": {},
     "output_type": "execute_result"
    }
   ],
   "source": [
    "dates.reset_index(name = 'count').query(\"fecha_hecho.dt.year > 2017\")"
   ]
  },
  {
   "cell_type": "code",
   "execution_count": 322,
   "id": "0e6e8a08-916f-4fb7-82c0-b18a1ce6e2be",
   "metadata": {
    "tags": []
   },
   "outputs": [
    {
     "data": {
      "text/html": [
       "<div>\n",
       "<style scoped>\n",
       "    .dataframe tbody tr th:only-of-type {\n",
       "        vertical-align: middle;\n",
       "    }\n",
       "\n",
       "    .dataframe tbody tr th {\n",
       "        vertical-align: top;\n",
       "    }\n",
       "\n",
       "    .dataframe thead th {\n",
       "        text-align: right;\n",
       "    }\n",
       "</style>\n",
       "<table border=\"1\" class=\"dataframe\">\n",
       "  <thead>\n",
       "    <tr style=\"text-align: right;\">\n",
       "      <th></th>\n",
       "      <th>id</th>\n",
       "      <th>idcarpeta</th>\n",
       "      <th>delito</th>\n",
       "      <th>categoria</th>\n",
       "      <th>colonia</th>\n",
       "      <th>sexo_fem</th>\n",
       "      <th>edad</th>\n",
       "      <th>anio_hecho</th>\n",
       "      <th>mes_hecho</th>\n",
       "      <th>fecha_hecho</th>\n",
       "      <th>hora_hecho</th>\n",
       "      <th>quarter</th>\n",
       "      <th>hour_of_day</th>\n",
       "      <th>time_of_day</th>\n",
       "      <th>crimen_lat</th>\n",
       "      <th>crimen_lon</th>\n",
       "    </tr>\n",
       "  </thead>\n",
       "  <tbody>\n",
       "    <tr>\n",
       "      <th>0</th>\n",
       "      <td>1</td>\n",
       "      <td>8324479</td>\n",
       "      <td>ROBO A TRANSEUNTE A BORDO DE TAXI PUBLICO Y PR...</td>\n",
       "      <td>DELITO DE BAJO IMPACTO</td>\n",
       "      <td>DOCTORES</td>\n",
       "      <td>0</td>\n",
       "      <td>39</td>\n",
       "      <td>2018</td>\n",
       "      <td>12</td>\n",
       "      <td>2018-12-25</td>\n",
       "      <td>4:00:00</td>\n",
       "      <td>4</td>\n",
       "      <td>4</td>\n",
       "      <td>NIGHT</td>\n",
       "      <td>19.42244</td>\n",
       "      <td>-99.15237</td>\n",
       "    </tr>\n",
       "    <tr>\n",
       "      <th>1</th>\n",
       "      <td>7</td>\n",
       "      <td>8324568</td>\n",
       "      <td>ROBO A TRANSEUNTE DE CELULAR SIN VIOLENCIA</td>\n",
       "      <td>DELITO DE BAJO IMPACTO</td>\n",
       "      <td>BUENAVISTA</td>\n",
       "      <td>1</td>\n",
       "      <td>34</td>\n",
       "      <td>2019</td>\n",
       "      <td>1</td>\n",
       "      <td>2019-01-02</td>\n",
       "      <td>19:00:00</td>\n",
       "      <td>1</td>\n",
       "      <td>19</td>\n",
       "      <td>EVENING</td>\n",
       "      <td>19.44552</td>\n",
       "      <td>-99.14842</td>\n",
       "    </tr>\n",
       "    <tr>\n",
       "      <th>2</th>\n",
       "      <td>12</td>\n",
       "      <td>8324684</td>\n",
       "      <td>ROBO A TRANSEUNTE DE CELULAR SIN VIOLENCIA</td>\n",
       "      <td>DELITO DE BAJO IMPACTO</td>\n",
       "      <td>CENTRO</td>\n",
       "      <td>0</td>\n",
       "      <td>54</td>\n",
       "      <td>2018</td>\n",
       "      <td>12</td>\n",
       "      <td>2018-12-23</td>\n",
       "      <td>16:30:00</td>\n",
       "      <td>4</td>\n",
       "      <td>16</td>\n",
       "      <td>AFTERNOON</td>\n",
       "      <td>19.43369</td>\n",
       "      <td>-99.12987</td>\n",
       "    </tr>\n",
       "    <tr>\n",
       "      <th>3</th>\n",
       "      <td>15</td>\n",
       "      <td>8324783</td>\n",
       "      <td>ROBO A TRANSEUNTE DE CELULAR CON VIOLENCIA</td>\n",
       "      <td>DELITO DE BAJO IMPACTO</td>\n",
       "      <td>SANTA MARIA LA RIBERA</td>\n",
       "      <td>0</td>\n",
       "      <td>23</td>\n",
       "      <td>2019</td>\n",
       "      <td>1</td>\n",
       "      <td>2019-01-03</td>\n",
       "      <td>22:05:00</td>\n",
       "      <td>1</td>\n",
       "      <td>22</td>\n",
       "      <td>EVENING</td>\n",
       "      <td>19.44545</td>\n",
       "      <td>-99.16442</td>\n",
       "    </tr>\n",
       "    <tr>\n",
       "      <th>4</th>\n",
       "      <td>17</td>\n",
       "      <td>8324805</td>\n",
       "      <td>ROBO A TRANSEUNTE EN VIA PUBLICA SIN VIOLENCIA</td>\n",
       "      <td>ROBO A TRANSEUNTE EN VIA PUBLICA CON Y SIN VIO...</td>\n",
       "      <td>CENTRO</td>\n",
       "      <td>1</td>\n",
       "      <td>42</td>\n",
       "      <td>2018</td>\n",
       "      <td>12</td>\n",
       "      <td>2018-12-27</td>\n",
       "      <td>21:30:00</td>\n",
       "      <td>4</td>\n",
       "      <td>21</td>\n",
       "      <td>EVENING</td>\n",
       "      <td>19.42623</td>\n",
       "      <td>-99.13303</td>\n",
       "    </tr>\n",
       "  </tbody>\n",
       "</table>\n",
       "</div>"
      ],
      "text/plain": [
       "   id  idcarpeta                                             delito  \\\n",
       "0   1    8324479  ROBO A TRANSEUNTE A BORDO DE TAXI PUBLICO Y PR...   \n",
       "1   7    8324568         ROBO A TRANSEUNTE DE CELULAR SIN VIOLENCIA   \n",
       "2  12    8324684         ROBO A TRANSEUNTE DE CELULAR SIN VIOLENCIA   \n",
       "3  15    8324783         ROBO A TRANSEUNTE DE CELULAR CON VIOLENCIA   \n",
       "4  17    8324805     ROBO A TRANSEUNTE EN VIA PUBLICA SIN VIOLENCIA   \n",
       "\n",
       "                                           categoria                colonia  \\\n",
       "0                             DELITO DE BAJO IMPACTO               DOCTORES   \n",
       "1                             DELITO DE BAJO IMPACTO             BUENAVISTA   \n",
       "2                             DELITO DE BAJO IMPACTO                 CENTRO   \n",
       "3                             DELITO DE BAJO IMPACTO  SANTA MARIA LA RIBERA   \n",
       "4  ROBO A TRANSEUNTE EN VIA PUBLICA CON Y SIN VIO...                 CENTRO   \n",
       "\n",
       "   sexo_fem  edad  anio_hecho  mes_hecho fecha_hecho hora_hecho  quarter  \\\n",
       "0         0    39        2018         12  2018-12-25    4:00:00        4   \n",
       "1         1    34        2019          1  2019-01-02   19:00:00        1   \n",
       "2         0    54        2018         12  2018-12-23   16:30:00        4   \n",
       "3         0    23        2019          1  2019-01-03   22:05:00        1   \n",
       "4         1    42        2018         12  2018-12-27   21:30:00        4   \n",
       "\n",
       "   hour_of_day time_of_day  crimen_lat  crimen_lon  \n",
       "0            4       NIGHT    19.42244   -99.15237  \n",
       "1           19     EVENING    19.44552   -99.14842  \n",
       "2           16   AFTERNOON    19.43369   -99.12987  \n",
       "3           22     EVENING    19.44545   -99.16442  \n",
       "4           21     EVENING    19.42623   -99.13303  "
      ]
     },
     "execution_count": 322,
     "metadata": {},
     "output_type": "execute_result"
    }
   ],
   "source": [
    "cuau.head()"
   ]
  },
  {
   "cell_type": "code",
   "execution_count": 331,
   "id": "2da851ce-bd7f-42a0-b96f-dd0886c306bb",
   "metadata": {
    "tags": []
   },
   "outputs": [
    {
     "data": {
      "text/plain": [
       "<AxesSubplot: ylabel='colonia'>"
      ]
     },
     "execution_count": 331,
     "metadata": {},
     "output_type": "execute_result"
    },
    {
     "data": {
      "image/png": "[encoded data removed]",
      "text/plain": [
       "<Figure size 640x480 with 1 Axes>"
      ]
     },
     "metadata": {},
     "output_type": "display_data"
    }
   ],
   "source": [
    "cuau.groupby([\"colonia\"])[\"time_of_day\"].value_counts().unstack()\\\n",
    "        .plot(kind = 'barh', stacked = True)"
   ]
  },
  {
   "cell_type": "code",
   "execution_count": 344,
   "id": "eeed1d46-258d-442e-8578-74a5c00bf51c",
   "metadata": {
    "tags": []
   },
   "outputs": [],
   "source": [
    "top_colonias = (\n",
    "    cuau['colonia']\n",
    "    .value_counts()\n",
    "    .reset_index()\n",
    "    .query(\"colonia > 250\")[\"index\"]\n",
    "    .values.tolist()\n",
    ")\n",
    "    \n",
    "\n",
    "#fig,ax= plt.subplots(figsize=(10,10))\n"
   ]
  },
  {
   "cell_type": "code",
   "execution_count": 374,
   "id": "b6281850-c5c5-4fff-9d66-7d495ebb51ea",
   "metadata": {
    "tags": []
   },
   "outputs": [
    {
     "data": {
      "text/plain": [
       "['CENTRO',\n",
       " 'DOCTORES',\n",
       " 'JUAREZ',\n",
       " 'ROMA NORTE',\n",
       " 'GUERRERO',\n",
       " 'BUENAVISTA',\n",
       " 'MORELOS',\n",
       " 'OBRERA',\n",
       " 'SANTA MARIA LA RIBERA',\n",
       " 'HIPODROMO']"
      ]
     },
     "execution_count": 374,
     "metadata": {},
     "output_type": "execute_result"
    }
   ],
   "source": [
    "top_colonias"
   ]
  },
  {
   "cell_type": "code",
   "execution_count": null,
   "id": "564e3a4a-e04f-4abf-befd-33e4fb9786f3",
   "metadata": {},
   "outputs": [],
   "source": []
  },
  {
   "cell_type": "code",
   "execution_count": 409,
   "id": "1f40d5f3-0882-401e-b48d-602d1856a565",
   "metadata": {
    "tags": []
   },
   "outputs": [],
   "source": [
    "\n",
    "#cuau_top = cuau[cuau['colonia'].isin(top_colonias)]\n",
    "\n",
    "cuau_top = cuau.loc[cuau['colonia'].isin(top_colonias)].reset_index(drop=True).copy()\n",
    "#pivot_table = cuau_top.groupby(['colonia', 'time_of_day']).size().unstack(fill_value=0)\n",
    "#pivot_table\n",
    "cuau_top['colonia'] = cuau_top[\"colonia\"].astype('str').astype('category')"
   ]
  },
  {
   "cell_type": "code",
   "execution_count": 448,
   "id": "a5a0991d-aaa6-4405-baa2-79ff82df2915",
   "metadata": {
    "tags": []
   },
   "outputs": [],
   "source": [
    "#col_order =['MORNING','AFTERNOON','EVENING','NIGHT',]\n",
    "col_order =['AFTERNOON','EVENING','NIGHT','MORNING',]\n",
    "#col_order =['NIGHT','MORNING','AFTERNOON','EVENING',]\n",
    "\n",
    "cuau_agg = (\n",
    "    cuau_top.groupby(['colonia'])['time_of_day']\n",
    "    #cuau.groupby(['colonia'])['time_of_day']\n",
    "    .value_counts(normalize = True)\n",
    "    .unstack()[col_order]\n",
    ")"
   ]
  },
  {
   "cell_type": "code",
   "execution_count": 466,
   "id": "fd1f72df-1509-4eaf-978f-91f95d872585",
   "metadata": {
    "tags": []
   },
   "outputs": [
    {
     "data": {
      "image/png": "[encoded data removed]",
      "text/plain": [
       "<Figure size 1000x500 with 1 Axes>"
      ]
     },
     "metadata": {},
     "output_type": "display_data"
    }
   ],
   "source": [
    "fig, ax = plt.subplots(figsize=(10,5))\n",
    "cuau_agg.sort_values('AFTERNOON').plot(kind='barh',\n",
    "                                      stacked =True, \n",
    "                                      ax = ax,\n",
    "                                      width = 0.8 ,\n",
    "                                      edgecolor = 'black'\n",
    "                                     )\n",
    "ax.legend(bbox_to_anchor=(1,1))\n",
    "ax.set_title('Proporcion Temporal Cuauhtemoc Robo a Transeunte Top 10')\n",
    "plt.show()"
   ]
  },
  {
   "cell_type": "code",
   "execution_count": null,
   "id": "996ca911-a5f4-4703-9e79-e7372816c053",
   "metadata": {},
   "outputs": [],
   "source": []
  }
 ],
 "metadata": {
  "kernelspec": {
   "display_name": "Python 3 (ipykernel)",
   "language": "python",
   "name": "python3"
  },
  "language_info": {
   "codemirror_mode": {
    "name": "ipython",
    "version": 3
   },
   "file_extension": ".py",
   "mimetype": "text/x-python",
   "name": "python",
   "nbconvert_exporter": "python",
   "pygments_lexer": "ipython3",
   "version": "3.8.16"
  }
 },
 "nbformat": 4,
 "nbformat_minor": 5
}
